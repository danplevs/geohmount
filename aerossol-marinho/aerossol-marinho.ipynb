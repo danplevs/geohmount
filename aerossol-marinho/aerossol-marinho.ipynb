{
 "metadata": {
  "language_info": {
   "codemirror_mode": {
    "name": "ipython",
    "version": 3
   },
   "file_extension": ".py",
   "mimetype": "text/x-python",
   "name": "python",
   "nbconvert_exporter": "python",
   "pygments_lexer": "ipython3",
   "version": "3.7.9"
  },
  "orig_nbformat": 2,
  "kernelspec": {
   "name": "python379jvsc74a57bd01ff9e72bfa4b87c5c7eb2845b6bc364601686fa0e2be51edbe78ea8f5152e186",
   "display_name": "Python 3.7.9 64-bit ('geohmount': conda)"
  },
  "metadata": {
   "interpreter": {
    "hash": "1ff9e72bfa4b87c5c7eb2845b6bc364601686fa0e2be51edbe78ea8f5152e186"
   }
  }
 },
 "nbformat": 4,
 "nbformat_minor": 2,
 "cells": [
  {
   "source": [
    "# Dados"
   ],
   "cell_type": "markdown",
   "metadata": {}
  },
  {
   "cell_type": "code",
   "execution_count": null,
   "metadata": {},
   "outputs": [],
   "source": [
    "import json\n",
    "import chart_studio.plotly as py\n",
    "from trajs.functions.set_chart_studio import set_chart_studio"
   ]
  },
  {
   "cell_type": "code",
   "execution_count": null,
   "metadata": {},
   "outputs": [],
   "source": [
    "set_chart_studio()"
   ]
  },
  {
   "cell_type": "code",
   "execution_count": null,
   "metadata": {},
   "outputs": [],
   "source": [
    "import pandas as pd\n",
    "\n",
    "nacl = pd.read_csv('chuva_nacl.csv', sep=';')\n",
    "nacl.head()"
   ]
  },
  {
   "cell_type": "code",
   "execution_count": null,
   "metadata": {},
   "outputs": [],
   "source": [
    "nacl.dtypes"
   ]
  },
  {
   "cell_type": "code",
   "execution_count": null,
   "metadata": {},
   "outputs": [],
   "source": [
    "nacl['Ponto'] = nacl['Amostras'].str.slice(start=0, stop=2)\n",
    "nacl.head()"
   ]
  },
  {
   "cell_type": "code",
   "execution_count": null,
   "metadata": {},
   "outputs": [],
   "source": [
    "sb = nacl.query(\"Ponto == 'SB'\")\n",
    "ps = nacl.query(\"Ponto == 'PS'\")\n",
    "bm = nacl.query(\"Ponto == 'BM'\")\n",
    "sm = nacl.query(\"Ponto == 'SM'\")"
   ]
  },
  {
   "cell_type": "code",
   "execution_count": null,
   "metadata": {},
   "outputs": [],
   "source": [
    "sm"
   ]
  },
  {
   "cell_type": "code",
   "execution_count": null,
   "metadata": {},
   "outputs": [],
   "source": [
    "sm = sm.drop(43)"
   ]
  },
  {
   "source": [
    "# Gráfico"
   ],
   "cell_type": "markdown",
   "metadata": {}
  },
  {
   "cell_type": "code",
   "execution_count": null,
   "metadata": {},
   "outputs": [],
   "source": [
    "config = {'displayModeBar': True, 'toImageButtonOptions': {'height': None, 'width': None}}"
   ]
  },
  {
   "source": [
    "import base64\n",
    "\n",
    "# set a local image as the background\n",
    "img = '/home/daniel/geohmount/code/logos-png/GEOHMOUNT-Logo-Cinzas.png'\n",
    "geohmount_logo = base64.b64encode(open(img, 'rb').read())"
   ],
   "cell_type": "code",
   "metadata": {},
   "execution_count": null,
   "outputs": []
  },
  {
   "cell_type": "code",
   "execution_count": null,
   "metadata": {},
   "outputs": [],
   "source": [
    "import plotly.graph_objects as go\n",
    "import plotly\n",
    "\n",
    "fig = go.Figure()\n",
    "\n",
    "fig.add_trace(go.Scatter(\n",
    "    name='SB',\n",
    "    x=sb.iloc[:, 1], y=sb.iloc[:, 2],\n",
    "    marker=dict(color='rgb(112, 173, 71)', symbol='square', size=10),\n",
    "    mode='markers'\n",
    "))\n",
    "\n",
    "fig.add_trace(go.Scatter(\n",
    "    name='PS',\n",
    "    x=ps.iloc[:, 1], y=ps.iloc[:, 2],\n",
    "    marker=dict(color='rgb(91, 155, 213)', symbol='triangle-up', size=10),\n",
    "    mode='markers'\n",
    "))\n",
    "\n",
    "fig.add_trace(go.Scatter(\n",
    "    name='BM',\n",
    "    x=bm.iloc[:, 1], y=bm.iloc[:, 2],\n",
    "    marker=dict(color='rgb(255, 192, 0)', symbol='circle', size=10),\n",
    "    mode='markers'\n",
    "))\n",
    "\n",
    "fig.add_trace(go.Scatter(\n",
    "    name='SM',\n",
    "    x=sm.iloc[:, 1], y=sm.iloc[:, 2],\n",
    "    marker=dict(color='rgb(37, 94, 145)', symbol='diamond', size=10),\n",
    "    mode='markers'\n",
    "))\n",
    "\n",
    "fig.add_trace(go.Scatter(\n",
    "    name='Água do mar',\n",
    "    x=[0, 120], y=[0, 139.8],\n",
    "    mode='lines',\n",
    "    line=dict(color='darkgreen', dash='dot', width=2)\n",
    "))\n",
    "\n",
    "fig.add_layout_image(\n",
    "    dict(\n",
    "        source=f'data:image/png;base64,{geohmount_logo.decode()}',\n",
    "        xref=\"paper\",\n",
    "        yref=\"paper\",\n",
    "        xanchor='center',\n",
    "        yanchor='middle',\n",
    "        x=0.5,\n",
    "        y=0.6,\n",
    "        sizex=0.5,\n",
    "        sizey=0.5,\n",
    "        sizing=\"contain\",\n",
    "        opacity=0.13,\n",
    "        layer=\"below\")\n",
    ")\n",
    "\n",
    "fig.update_traces(hovertemplate='<b>Na<sup>+</sup>: %{x:.2f}<br>'+'<b>Cl<sup>-</sup>: %{y:.2f}')\n",
    "fig.update_yaxes(tickvals=(0, 20, 40, 60, 80, 100, 120), title=dict(text='<b>Cl<sup>-</sup> (mol ha<sup>-1</sup>)</b>', font_size=16), tickfont=dict(size=16))\n",
    "fig.update_xaxes(title=dict(text='<b>Na<sup>+</sup> (mol ha<sup>-1</sup>)</b>', font_size=16), tickfont=dict(size=16))\n",
    "\n",
    "fig.update_layout(template='plotly_white', width=920, height=580, legend=dict(font_size=16, orientation='h', xanchor='center', yanchor='bottom', x=0.5, y=-0.3),\n",
    "updatemenus=[\n",
    "    dict(\n",
    "        buttons=list([\n",
    "            dict(label='Linear', method='relayout', args=[{'yaxis.type': 'linear', 'yaxis.tickvals': (0, 20, 40, 60, 80, 100, 120), 'xaxis.type': 'linear', 'xaxis.tickvals': (0, 20, 40, 60, 80, 100, 120)}]),\n",
    "            dict(label='Log', method='relayout', args=[{'yaxis.type': 'log', 'yaxis.tickvals': (0.1, 1, 10, 100), 'xaxis.type': 'log', 'xaxis.tickvals': (0.1, 1, 10, 100)}]), \n",
    "        ]),\n",
    "        xanchor='left', yanchor='top', x=0.06, y=1.2,\n",
    "    )\n",
    "],\n",
    "annotations=[\n",
    "    dict(text='<b>Escala</b>', showarrow=False, xref='paper', yref='paper', x=-0.03, y=1.185, font_size=15)\n",
    "]\n",
    ")\n",
    "\n",
    "fig.show(config=config)\n",
    "py.plot(fig, filename = 'aerossol-marinho')\n",
    "fig.write_html('nacl.html', include_plotlyjs='cdn', config=config, full_html=False)"
   ]
  }
 ]
}