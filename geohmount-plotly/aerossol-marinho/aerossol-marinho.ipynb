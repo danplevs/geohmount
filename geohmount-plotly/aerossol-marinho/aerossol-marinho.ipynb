{
 "metadata": {
  "language_info": {
   "codemirror_mode": {
    "name": "ipython",
    "version": 3
   },
   "file_extension": ".py",
   "mimetype": "text/x-python",
   "name": "python",
   "nbconvert_exporter": "python",
   "pygments_lexer": "ipython3",
   "version": "3.8.5-final"
  },
  "orig_nbformat": 2,
  "kernelspec": {
   "name": "Python 3.8.5 64-bit",
   "display_name": "Python 3.8.5 64-bit",
   "metadata": {
    "interpreter": {
     "hash": "1f42090833967a15994965b03f816d2365f4c7ab523cacf46e37faa7668751c1"
    }
   }
  }
 },
 "nbformat": 4,
 "nbformat_minor": 2,
 "cells": [
  {
   "source": [
    "# Dados"
   ],
   "cell_type": "markdown",
   "metadata": {}
  },
  {
   "cell_type": "code",
   "execution_count": null,
   "metadata": {},
   "outputs": [],
   "source": [
    "import requests\n",
    "from io import StringIO\n",
    "\n",
    "# parametros da request (github info)\n",
    "owner = 'danplevs'\n",
    "token = 'd9d7f4c1c64d6ec82b7c086c9720698d21ab9f48'\n",
    "repo = 'geohmount'\n",
    "path = 'geohmount-plotly/aerossol-marinho/chuva_nacl.csv'\n",
    "\n",
    "# enviando o request\n",
    "r = requests.get(f'https://api.github.com/repos/{owner}/{repo}/contents/{path}',\n",
    "    headers={\n",
    "        'accept': 'application/vnd.github.v3.raw',\n",
    "        'authorization': f'token {token}'\n",
    "            }\n",
    "    )\n",
    "\n",
    "# convertendo a string em objeto stringIO\n",
    "string_io_obj = StringIO(r.text)"
   ]
  },
  {
   "cell_type": "code",
   "execution_count": null,
   "metadata": {},
   "outputs": [],
   "source": [
    "import pandas as pd\n",
    "\n",
    "nacl = pd.read_csv(string_io_obj, sep=';')\n",
    "nacl.head()"
   ]
  },
  {
   "cell_type": "code",
   "execution_count": null,
   "metadata": {},
   "outputs": [],
   "source": [
    "nacl = nacl.drop(0)"
   ]
  },
  {
   "cell_type": "code",
   "execution_count": null,
   "metadata": {},
   "outputs": [],
   "source": [
    "nacl['Ponto'] = nacl['Amostras'].str.slice(start=0, stop=2)\n",
    "nacl.head()"
   ]
  },
  {
   "cell_type": "code",
   "execution_count": null,
   "metadata": {},
   "outputs": [],
   "source": [
    "sb = nacl.query(\"Ponto == 'SB'\")\n",
    "ps = nacl.query(\"Ponto == 'PS'\")\n",
    "bm = nacl.query(\"Ponto == 'BM'\")\n",
    "sm = nacl.query(\"Ponto == 'SM'\")"
   ]
  },
  {
   "cell_type": "code",
   "execution_count": null,
   "metadata": {},
   "outputs": [],
   "source": [
    "sm = sm.drop(44)"
   ]
  },
  {
   "source": [
    "# Gráfico"
   ],
   "cell_type": "markdown",
   "metadata": {}
  },
  {
   "cell_type": "code",
   "execution_count": null,
   "metadata": {},
   "outputs": [],
   "source": [
    "config = {'displayModeBar': True, 'toImageButtonOptions': {'height': None, 'width': None}}"
   ]
  },
  {
   "source": [
    "import base64\n",
    "\n",
    "# set a local image as the background\n",
    "img = 'C:\\\\Users\\\\daniel\\\\Documents\\\\Github\\\\geohmount\\\\logos-png\\\\GEOHMOUNT-Logo-Cinzas.png'\n",
    "geohmount_logo = base64.b64encode(open(img, 'rb').read())"
   ],
   "cell_type": "code",
   "metadata": {},
   "execution_count": null,
   "outputs": []
  },
  {
   "cell_type": "code",
   "execution_count": null,
   "metadata": {},
   "outputs": [],
   "source": [
    "import plotly.graph_objects as go\n",
    "\n",
    "fig = go.Figure()\n",
    "\n",
    "fig.add_trace(go.Scatter(\n",
    "    name='SB',\n",
    "    x=sb.iloc[:, 1], y=sb.iloc[:, 2],\n",
    "    marker=dict(color='rgb(112, 173, 71)', symbol='square', size=10),\n",
    "    mode='markers'\n",
    "))\n",
    "\n",
    "fig.add_trace(go.Scatter(\n",
    "    name='PS',\n",
    "    x=ps.iloc[:, 1], y=ps.iloc[:, 2],\n",
    "    marker=dict(color='rgb(91, 155, 213)', symbol='triangle-up', size=10),\n",
    "    mode='markers'\n",
    "))\n",
    "\n",
    "fig.add_trace(go.Scatter(\n",
    "    name='BM',\n",
    "    x=bm.iloc[:, 1], y=bm.iloc[:, 2],\n",
    "    marker=dict(color='rgb(255, 192, 0)', symbol='circle', size=10),\n",
    "    mode='markers'\n",
    "))\n",
    "\n",
    "fig.add_trace(go.Scatter(\n",
    "    name='SM',\n",
    "    x=sm.iloc[:, 1], y=sm.iloc[:, 2],\n",
    "    marker=dict(color='rgb(37, 94, 145)', symbol='diamond', size=10),\n",
    "    mode='markers'\n",
    "))\n",
    "\n",
    "fig.add_trace(go.Scatter(\n",
    "    name='Água do mar',\n",
    "    x=[0, 120], y=[0, 139.8],\n",
    "    mode='lines',\n",
    "    line=dict(color='darkgreen', dash='dot', width=2)\n",
    "))\n",
    "\n",
    "fig.add_layout_image(\n",
    "    dict(\n",
    "        source=f'data:image/png;base64,{geohmount_logo.decode()}',\n",
    "        xref=\"paper\",\n",
    "        yref=\"paper\",\n",
    "        x=0.18,\n",
    "        y=0.87,\n",
    "        sizex=0.65,\n",
    "        sizey=0.65,\n",
    "        sizing=\"contain\",\n",
    "        opacity=0.13,\n",
    "        layer=\"below\")\n",
    ")\n",
    "\n",
    "fig.update_layout(template='plotly_white', width=1200, height=800, legend=dict(font_size=16, orientation='h', xanchor='center', yanchor='bottom', x=0.5, y=-0.2),\n",
    "updatemenus=[\n",
    "    dict(\n",
    "        buttons=list([\n",
    "            dict(label='Linear', method='relayout', args=[{'yaxis.type': 'linear', 'yaxis.tickvals': (0, 20, 40, 60, 80, 100, 120, 140), 'xaxis.type': 'linear', 'xaxis.tickvals': (0, 20, 40, 60, 80, 100, 120)}]),\n",
    "            dict(label='Log', method='relayout', args=[{'yaxis.type': 'log', 'yaxis.tickvals': (0.1, 1, 10, 100), 'xaxis.type': 'log', 'xaxis.tickvals': (0.1, 1, 10, 100)}])\n",
    "        ])\n",
    "    )\n",
    "],\n",
    "annotations=[\n",
    "    dict(text='<b>Escala</b>', showarrow=False, xref='paper', yref='paper', x=-0.111, y=1.05, font_size=14)\n",
    "]\n",
    ")\n",
    "fig.update_traces(hovertemplate='<b>Na<sup>+</sup>: %{x:.2f}<br>'+'<b>Cl<sup>-</sup>: %{y:.2f}')\n",
    "fig.update_yaxes(title=dict(text='<b>Cl<sup>-</sup> (mol ha<sup>-1</sup>)</b>', font_size=16), tickfont=dict(size=16))\n",
    "fig.update_xaxes(title=dict(text='<b>Na<sup>+</sup> (mol ha<sup>-1</sup>)</b>', font_size=16), tickfont=dict(size=16))\n",
    "fig.show(config=config)\n",
    "#fig.write_html('nacl.html', include_plotlyjs='cdn', config=config)"
   ]
  }
 ]
}