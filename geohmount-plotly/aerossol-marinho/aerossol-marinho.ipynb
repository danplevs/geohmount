{
 "metadata": {
  "language_info": {
   "codemirror_mode": {
    "name": "ipython",
    "version": 3
   },
   "file_extension": ".py",
   "mimetype": "text/x-python",
   "name": "python",
   "nbconvert_exporter": "python",
   "pygments_lexer": "ipython3",
   "version": "3.8.5-final"
  },
  "orig_nbformat": 2,
  "kernelspec": {
   "name": "Python 3.8.5 64-bit",
   "display_name": "Python 3.8.5 64-bit",
   "metadata": {
    "interpreter": {
     "hash": "1f42090833967a15994965b03f816d2365f4c7ab523cacf46e37faa7668751c1"
    }
   }
  }
 },
 "nbformat": 4,
 "nbformat_minor": 2,
 "cells": [
  {
   "source": [
    "# Dados"
   ],
   "cell_type": "markdown",
   "metadata": {}
  },
  {
   "cell_type": "code",
   "execution_count": null,
   "metadata": {},
   "outputs": [],
   "source": [
    "import requests\n",
    "from io import StringIO\n",
    "\n",
    "# parametros da request (github info)\n",
    "owner = 'danplevs'\n",
    "token = 'd9d7f4c1c64d6ec82b7c086c9720698d21ab9f48'\n",
    "repo = 'geohmount'\n",
    "path = 'geohmount-plotly/aerossol-marinho/chuva_nacl.csv'\n",
    "\n",
    "# enviando o request\n",
    "r = requests.get(f'https://api.github.com/repos/{owner}/{repo}/contents/{path}',\n",
    "    headers={\n",
    "        'accept': 'application/vnd.github.v3.raw',\n",
    "        'authorization': f'token {token}'\n",
    "            }\n",
    "    )\n",
    "\n",
    "# convertendo a string em objeto stringIO\n",
    "string_io_obj = StringIO(r.text)"
   ]
  },
  {
   "cell_type": "code",
   "execution_count": null,
   "metadata": {},
   "outputs": [],
   "source": [
    "import pandas as pd\n",
    "\n",
    "nacl = pd.read_csv(string_io_obj, sep=';')\n",
    "nacl.head()"
   ]
  },
  {
   "cell_type": "code",
   "execution_count": null,
   "metadata": {},
   "outputs": [],
   "source": [
    "nacl = nacl.drop(0)"
   ]
  },
  {
   "cell_type": "code",
   "execution_count": null,
   "metadata": {},
   "outputs": [],
   "source": [
    "nacl['Ponto'] = nacl['Amostras'].str.slice(start=0, stop=2)\n",
    "nacl.head()"
   ]
  },
  {
   "cell_type": "code",
   "execution_count": null,
   "metadata": {},
   "outputs": [],
   "source": [
    "sb = nacl.query(\"Ponto == 'SB'\")\n",
    "ps = nacl.query(\"Ponto == 'PS'\")\n",
    "bm = nacl.query(\"Ponto == 'BM'\")\n",
    "sm = nacl.query(\"Ponto == 'SM'\")"
   ]
  },
  {
   "source": [
    "# Gráfico"
   ],
   "cell_type": "markdown",
   "metadata": {}
  },
  {
   "cell_type": "code",
   "execution_count": null,
   "metadata": {},
   "outputs": [],
   "source": [
    "import plotly.graph_objects as go\n",
    "\n",
    "fig = go.Figure()\n",
    "\n",
    "fig.add_trace(go.Scatter(\n",
    "    name='SB',\n",
    "    x=sb.iloc[:, 1], y=sb.iloc[:, 2],\n",
    "    marker=dict(color='rgb(112, 173, 71)', symbol='square', size=8),\n",
    "    mode='markers'\n",
    "))\n",
    "\n",
    "fig.add_trace(go.Scatter(\n",
    "    name='PS',\n",
    "    x=ps.iloc[:, 1], y=ps.iloc[:, 2],\n",
    "    marker=dict(color='rgb(91, 155, 213)', symbol='triangle-up', size=10),\n",
    "    mode='markers'\n",
    "))\n",
    "\n",
    "fig.add_trace(go.Scatter(\n",
    "    name='BM',\n",
    "    x=bm.iloc[:, 1], y=bm.iloc[:, 2],\n",
    "    marker=dict(color='rgb(255, 192, 0)', symbol='circle', size=10),\n",
    "    mode='markers'\n",
    "))\n",
    "\n",
    "fig.add_trace(go.Scatter(\n",
    "    name='SM',\n",
    "    x=sm.iloc[:, 1], y=sm.iloc[:, 2],\n",
    "    marker=dict(color='rgb(37, 94, 145)', symbol='diamond', size=10),\n",
    "    mode='markers'\n",
    "))\n",
    "\n",
    "fig.add_trace(go.Scatter(\n",
    "    name='Água do mar',\n",
    "    x=[0, 120], y=[0, 139.8],\n",
    "    mode='lines',\n",
    "    line=dict(color='darkgreen', dash='dot', width=2)\n",
    "))\n",
    "\n",
    "fig.update_layout(template='plotly_white', width=1200, height=800, legend=dict(font_size=16, orientation='h', xanchor='center', yanchor='bottom', x=0.5, y=-0.2))\n",
    "fig.update_yaxes(range=[0, 140], title=dict(text='<b>Cl<sup>-</sup> (mol ha<sup>-1</sup>)</b>', font_size=16), tickfont=dict(size=16))\n",
    "fig.update_xaxes(title=dict(text='<b>Na<sup>+</sup> (mol ha<sup>-1</sup>)</b>', font_size=16), tickfont=dict(size=16))\n",
    "fig.show()\n",
    "#fig.write_html('nacl.html', include_plotlyjs='cdn')"
   ]
  }
 ]
}