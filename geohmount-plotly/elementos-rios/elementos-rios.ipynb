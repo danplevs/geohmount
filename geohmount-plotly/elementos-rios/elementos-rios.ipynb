{
 "metadata": {
  "language_info": {
   "codemirror_mode": {
    "name": "ipython",
    "version": 3
   },
   "file_extension": ".py",
   "mimetype": "text/x-python",
   "name": "python",
   "nbconvert_exporter": "python",
   "pygments_lexer": "ipython3",
   "version": "3.8.5-final"
  },
  "orig_nbformat": 2,
  "kernelspec": {
   "name": "Python 3.8.5 64-bit",
   "display_name": "Python 3.8.5 64-bit",
   "metadata": {
    "interpreter": {
     "hash": "1f42090833967a15994965b03f816d2365f4c7ab523cacf46e37faa7668751c1"
    }
   }
  }
 },
 "nbformat": 4,
 "nbformat_minor": 2,
 "cells": [
  {
   "cell_type": "code",
   "execution_count": null,
   "metadata": {},
   "outputs": [],
   "source": [
    "import requests\n",
    "from io import StringIO\n",
    "\n",
    "# parametros da request (github info)\n",
    "owner = 'danplevs'\n",
    "token = 'd9d7f4c1c64d6ec82b7c086c9720698d21ab9f48'\n",
    "repo = 'geohmount'\n",
    "path = 'geohmount-plotly/elementos-rios/rios_medias.csv'\n",
    "\n",
    "# enviando o request\n",
    "r = requests.get(f'https://api.github.com/repos/{owner}/{repo}/contents/{path}',\n",
    "    headers={\n",
    "        'accept': 'application/vnd.github.v3.raw',\n",
    "        'authorization': f'token {token}'\n",
    "            }\n",
    "    )\n",
    "\n",
    "# convertendo a string em objeto stringIO\n",
    "string_io_obj = StringIO(r.text)"
   ]
  },
  {
   "cell_type": "code",
   "execution_count": null,
   "metadata": {},
   "outputs": [],
   "source": [
    "import pandas as pd\n",
    "\n",
    "rios = pd.read_csv(string_io_obj, sep=';')\n",
    "rios.head()"
   ]
  },
  {
   "cell_type": "code",
   "execution_count": null,
   "metadata": {},
   "outputs": [],
   "source": [
    "rios = rios.rename(columns={'?': 'Condut.(µS cm<sup>-1</sup>)', 'Si': '[H<sub>4</sub>SiO<sub>4</sub>]', 'HCO3': '[HCO<sub>3</sub><sup>-</sup>]', 'Na': '[Na<sup>+</sup>]', 'Cl': '[Cl<sup>-</sup>]', 'Ca': '[Ca<sup>2+</sup>]','SO4': '[SO<sub>4</sub><sup>2-</sup>]', 'K': '[K<sup>+</sup>]', 'Mg': '[Mg<sup>2+</sup>]'})\n",
    "rios.head()"
   ]
  },
  {
   "cell_type": "code",
   "execution_count": null,
   "metadata": {},
   "outputs": [],
   "source": [
    "var_principais = ['Ponto', 'pH', 'Condut.(µS cm<sup>-1</sup>)', '[H<sub>4</sub>SiO<sub>4</sub>]', '[HCO<sub>3</sub><sup>-</sup>]', '[Na<sup>+</sup>]', '[Cl<sup>-</sup>]', '[Ca<sup>2+</sup>]', '[SO<sub>4</sub><sup>2-</sup>]', '[K<sup>+</sup>]', '[Mg<sup>2+</sup>]']\n",
    "var_tracos = ['Ponto', 'Al', 'Fe', 'Nd', 'Mn', 'Sr', 'Ba', 'Li', 'Rb', 'V']\n",
    "\n",
    "fis_qui = ['Condut.(µS cm<sup>-1</sup>)', 'pH']\n",
    "elem_principais = ['[H<sub>4</sub>SiO<sub>4</sub>]', '[HCO<sub>3</sub><sup>-</sup>]', '[Na<sup>+</sup>]', '[Cl<sup>-</sup>]', '[Ca<sup>2+</sup>]', '[SO<sub>4</sub><sup>2-</sup>]', '[K<sup>+</sup>]', '[Mg<sup>2+</sup>]']\n",
    "elem_tracos = ['Al', 'Fe', 'Nd', 'Mn', 'Sr', 'Ba', 'Li', 'Rb', 'V']\n",
    "\n",
    "df_principais = rios[var_principais]\n",
    "df_tracos = rios[var_tracos]"
   ]
  },
  {
   "cell_type": "code",
   "execution_count": null,
   "metadata": {},
   "outputs": [],
   "source": [
    "import plotly.express as px\n",
    "import plotly.graph_objects as go\n",
    "\n",
    "blue = 'rgb(0, 153, 216)'\n",
    "green = 'rgb(0, 90, 74)'\n",
    "brown = 'rgb(86, 34, 18)'\n",
    "\n",
    "bm = df_principais.iloc[0]\n",
    "sb = df_principais.iloc[1]\n",
    "sm = df_principais.iloc[2]\n",
    "\n",
    "fig = go.Figure(data=[\n",
    "    go.Bar(name='Rio Soberbo', x=fis_qui, y=sb[fis_qui], marker=dict(color=green)),\n",
    "    go.Bar(name='Rio Bonfim', x=fis_qui, y=bm[fis_qui], marker=dict(color=blue)),\n",
    "    go.Bar(name='Rio Santa Marta', x=fis_qui, y=sm[fis_qui], marker=dict(color=brown)),\n",
    "])\n",
    "\n",
    "fig.update_layout(template='plotly_white', barmode='group', bargroupgap=0.1, title=dict(text='<b>Dados fisico-químicos</b>', x=0.5, y=0.9, font_size=22), legend=dict(font_size=13))\n",
    "fig.update_yaxes(tickfont=dict(size=15), tick0=0, dtick=2)\n",
    "fig.update_xaxes(tickfont=dict(size=15))\n",
    "fig.show()"
   ]
  },
  {
   "cell_type": "code",
   "execution_count": null,
   "metadata": {},
   "outputs": [],
   "source": [
    "\n",
    "fig = go.Figure(data=[\n",
    "    go.Bar(name='Rio Soberbo', x=elem_principais, y=sb[elem_principais], marker=dict(color=green)),\n",
    "    go.Bar(name='Rio Bonfim', x=elem_principais, y=bm[elem_principais], marker=dict(color=blue)),\n",
    "    go.Bar(name='Rio Santa Marta', x=elem_principais, y=sm[elem_principais], marker=dict(color=brown)),\n",
    "])\n",
    "\n",
    "fig.update_yaxes(tickfont=dict(size=15))\n",
    "fig.update_xaxes(tickfont=dict(size=14))\n",
    "fig.update_layout(template='plotly_white', barmode='group', bargap=0.3, title=dict(text=\"<b>Concentração média de H<sub>4</sub>SiO<sub>4</sub> e <br> principais íons (µmol L<sup>-1</sup>)</b>\", x=0.5, y=0.9, font_size=22), legend=dict(font_size=13))\n",
    "fig.show()"
   ]
  },
  {
   "cell_type": "code",
   "execution_count": null,
   "metadata": {},
   "outputs": [],
   "source": []
  }
 ]
}