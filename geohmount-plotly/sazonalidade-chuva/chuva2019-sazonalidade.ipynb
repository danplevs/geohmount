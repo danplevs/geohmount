{
 "metadata": {
  "language_info": {
   "codemirror_mode": {
    "name": "ipython",
    "version": 3
   },
   "file_extension": ".py",
   "mimetype": "text/x-python",
   "name": "python",
   "nbconvert_exporter": "python",
   "pygments_lexer": "ipython3",
   "version": "3.8.5-final"
  },
  "orig_nbformat": 2,
  "kernelspec": {
   "name": "Python 3.8.5 64-bit",
   "display_name": "Python 3.8.5 64-bit",
   "metadata": {
    "interpreter": {
     "hash": "1f42090833967a15994965b03f816d2365f4c7ab523cacf46e37faa7668751c1"
    }
   }
  }
 },
 "nbformat": 4,
 "nbformat_minor": 2,
 "cells": [
  {
   "source": [
    "# Importando e tratando as bases de dados"
   ],
   "cell_type": "markdown",
   "metadata": {}
  },
  {
   "source": [
    "><h1>Importação dos dados"
   ],
   "cell_type": "markdown",
   "metadata": {}
  },
  {
   "source": [
    ">><h2>Chuva_2019"
   ],
   "cell_type": "markdown",
   "metadata": {}
  },
  {
   "cell_type": "code",
   "execution_count": 2,
   "metadata": {},
   "outputs": [],
   "source": [
    "import requests\n",
    "from io import StringIO\n",
    "\n",
    "# parameters for the request\n",
    "owner = 'danplevs'\n",
    "token = '10972548eeae219489116329ded0f3850ddeec5a'\n",
    "repo = 'geohmount'\n",
    "path = 'geohmount-plotly/sazonalidade-chuva/chuva_2019.csv'\n",
    "\n",
    "# sending the request\n",
    "r = requests.get(f'https://api.github.com/repos/{owner}/{repo}/contents/{path}',\n",
    "    headers={\n",
    "        'accept': 'application/vnd.github.v3.raw',\n",
    "        'authorization': f'token {token}'\n",
    "            }\n",
    "    )\n",
    "\n",
    "#convert string to StringIO object\n",
    "data = StringIO(r.text)"
   ]
  },
  {
   "cell_type": "code",
   "execution_count": 3,
   "metadata": {},
   "outputs": [
    {
     "output_type": "execute_result",
     "data": {
      "text/plain": [
       "                           estacao   chuva     sd\n",
       "0  Média Anual - BM\\n(2007 - 2019)  1262.7  229.7\n",
       "1          BM \\n(E. Pedro do Rio)   1189.3    NaN\n",
       "2                 BM \\n(E. Bonfim)  1195.8    NaN\n",
       "3  Média Anual - SB\\n(2007 - 2019)  2837.6  467.8\n",
       "4                SB \\n(E. Parnaso)  3055.4    NaN\n",
       "5  Média Anual - SM\\n(2007 - 2019)  1317.9  278.5\n",
       "6            SM \\n(E. Santa Marta)  1590.1    NaN\n",
       "7                SM \\n(E. Caparaó)  1171.5    NaN"
      ],
      "text/html": "<div>\n<style scoped>\n    .dataframe tbody tr th:only-of-type {\n        vertical-align: middle;\n    }\n\n    .dataframe tbody tr th {\n        vertical-align: top;\n    }\n\n    .dataframe thead th {\n        text-align: right;\n    }\n</style>\n<table border=\"1\" class=\"dataframe\">\n  <thead>\n    <tr style=\"text-align: right;\">\n      <th></th>\n      <th>estacao</th>\n      <th>chuva</th>\n      <th>sd</th>\n    </tr>\n  </thead>\n  <tbody>\n    <tr>\n      <th>0</th>\n      <td>Média Anual - BM\\n(2007 - 2019)</td>\n      <td>1262.7</td>\n      <td>229.7</td>\n    </tr>\n    <tr>\n      <th>1</th>\n      <td>BM \\n(E. Pedro do Rio)</td>\n      <td>1189.3</td>\n      <td>NaN</td>\n    </tr>\n    <tr>\n      <th>2</th>\n      <td>BM \\n(E. Bonfim)</td>\n      <td>1195.8</td>\n      <td>NaN</td>\n    </tr>\n    <tr>\n      <th>3</th>\n      <td>Média Anual - SB\\n(2007 - 2019)</td>\n      <td>2837.6</td>\n      <td>467.8</td>\n    </tr>\n    <tr>\n      <th>4</th>\n      <td>SB \\n(E. Parnaso)</td>\n      <td>3055.4</td>\n      <td>NaN</td>\n    </tr>\n    <tr>\n      <th>5</th>\n      <td>Média Anual - SM\\n(2007 - 2019)</td>\n      <td>1317.9</td>\n      <td>278.5</td>\n    </tr>\n    <tr>\n      <th>6</th>\n      <td>SM \\n(E. Santa Marta)</td>\n      <td>1590.1</td>\n      <td>NaN</td>\n    </tr>\n    <tr>\n      <th>7</th>\n      <td>SM \\n(E. Caparaó)</td>\n      <td>1171.5</td>\n      <td>NaN</td>\n    </tr>\n  </tbody>\n</table>\n</div>"
     },
     "metadata": {},
     "execution_count": 3
    }
   ],
   "source": [
    "import pandas as pd\n",
    "\n",
    "df = pd.read_csv(data, sep=';')\n",
    "df"
   ]
  },
  {
   "source": [
    ">><h2>Sazonalidade"
   ],
   "cell_type": "markdown",
   "metadata": {}
  },
  {
   "cell_type": "code",
   "execution_count": 4,
   "metadata": {},
   "outputs": [],
   "source": [
    "import requests\n",
    "from io import StringIO\n",
    "\n",
    "# parameters for the request\n",
    "owner = 'danplevs'\n",
    "token = '10972548eeae219489116329ded0f3850ddeec5a'\n",
    "repo = 'geohmount'\n",
    "path = 'geohmount-plotly/sazonalidade-chuva/sazonalidade.csv'\n",
    "\n",
    "# sending the request\n",
    "r = requests.get(f'https://api.github.com/repos/{owner}/{repo}/contents/{path}',\n",
    "    headers={\n",
    "        'accept': 'application/vnd.github.v3.raw',\n",
    "        'authorization': f'token {token}'\n",
    "            }\n",
    "    )\n",
    "\n",
    "#convert string to StringIO object\n",
    "data = StringIO(r.text)"
   ]
  },
  {
   "cell_type": "code",
   "execution_count": 5,
   "metadata": {},
   "outputs": [
    {
     "output_type": "execute_result",
     "data": {
      "text/plain": [
       "     mês  SM (Estação Caparaó)  Série Histórica (2007-2019) e DP       sd_SM  \\\n",
       "0  43872                 336.0                        119.911717   58.821817   \n",
       "1  43841                 514.4                        177.989109  140.340589   \n",
       "2  43810                 235.8                        283.669231  122.681059   \n",
       "3  43780                 319.0                        225.646154   95.257720   \n",
       "4  43749                  57.6                         96.500000   41.642785   \n",
       "\n",
       "   BM (Estação Pedro do Rio)  Série Histórica (2007-2019) e DP.1      sd_BM  \\\n",
       "0                      316.8                          140.160656  66.448272   \n",
       "1                      269.0                          260.837376  85.934954   \n",
       "2                      248.7                          202.292308  87.540948   \n",
       "3                      106.5                          184.392308  54.646352   \n",
       "4                      109.6                           96.715385  47.398180   \n",
       "\n",
       "   SB (Estação PARNASO)  Série Histórica (2007-2019) e DP.2       sd_SB  \n",
       "0                 299.2                          202.347656  118.872761  \n",
       "1                 590.8                          411.870297  186.205769  \n",
       "2                 335.4                          398.800000  146.730250  \n",
       "3                 358.6                          410.753846  114.019004  \n",
       "4                 142.8                          230.738462  106.184959  "
      ],
      "text/html": "<div>\n<style scoped>\n    .dataframe tbody tr th:only-of-type {\n        vertical-align: middle;\n    }\n\n    .dataframe tbody tr th {\n        vertical-align: top;\n    }\n\n    .dataframe thead th {\n        text-align: right;\n    }\n</style>\n<table border=\"1\" class=\"dataframe\">\n  <thead>\n    <tr style=\"text-align: right;\">\n      <th></th>\n      <th>mês</th>\n      <th>SM (Estação Caparaó)</th>\n      <th>Série Histórica (2007-2019) e DP</th>\n      <th>sd_SM</th>\n      <th>BM (Estação Pedro do Rio)</th>\n      <th>Série Histórica (2007-2019) e DP.1</th>\n      <th>sd_BM</th>\n      <th>SB (Estação PARNASO)</th>\n      <th>Série Histórica (2007-2019) e DP.2</th>\n      <th>sd_SB</th>\n    </tr>\n  </thead>\n  <tbody>\n    <tr>\n      <th>0</th>\n      <td>43872</td>\n      <td>336.0</td>\n      <td>119.911717</td>\n      <td>58.821817</td>\n      <td>316.8</td>\n      <td>140.160656</td>\n      <td>66.448272</td>\n      <td>299.2</td>\n      <td>202.347656</td>\n      <td>118.872761</td>\n    </tr>\n    <tr>\n      <th>1</th>\n      <td>43841</td>\n      <td>514.4</td>\n      <td>177.989109</td>\n      <td>140.340589</td>\n      <td>269.0</td>\n      <td>260.837376</td>\n      <td>85.934954</td>\n      <td>590.8</td>\n      <td>411.870297</td>\n      <td>186.205769</td>\n    </tr>\n    <tr>\n      <th>2</th>\n      <td>43810</td>\n      <td>235.8</td>\n      <td>283.669231</td>\n      <td>122.681059</td>\n      <td>248.7</td>\n      <td>202.292308</td>\n      <td>87.540948</td>\n      <td>335.4</td>\n      <td>398.800000</td>\n      <td>146.730250</td>\n    </tr>\n    <tr>\n      <th>3</th>\n      <td>43780</td>\n      <td>319.0</td>\n      <td>225.646154</td>\n      <td>95.257720</td>\n      <td>106.5</td>\n      <td>184.392308</td>\n      <td>54.646352</td>\n      <td>358.6</td>\n      <td>410.753846</td>\n      <td>114.019004</td>\n    </tr>\n    <tr>\n      <th>4</th>\n      <td>43749</td>\n      <td>57.6</td>\n      <td>96.500000</td>\n      <td>41.642785</td>\n      <td>109.6</td>\n      <td>96.715385</td>\n      <td>47.398180</td>\n      <td>142.8</td>\n      <td>230.738462</td>\n      <td>106.184959</td>\n    </tr>\n  </tbody>\n</table>\n</div>"
     },
     "metadata": {},
     "execution_count": 5
    }
   ],
   "source": [
    "import pandas as pd\n",
    "\n",
    "df2 = pd.read_csv(data, sep=';')\n",
    "df2.head()"
   ]
  },
  {
   "cell_type": "code",
   "execution_count": 6,
   "metadata": {},
   "outputs": [
    {
     "output_type": "execute_result",
     "data": {
      "text/plain": [
       "      mês  SM (Estação Caparaó)  Série Histórica (2007-2019) e DP       sd_SM  \\\n",
       "25  43101                 147.2                        177.989109  140.340589   \n",
       "24  43159                 210.1                        119.911717   58.821817   \n",
       "23  43170                 406.3                        185.915385  120.946980   \n",
       "22  43201                 155.6                         96.653846   38.761611   \n",
       "21  43231                  35.7                         45.130769   35.840638   \n",
       "\n",
       "    BM (Estação Pedro do Rio)  Série Histórica (2007-2019) e DP.1       sd_BM  \\\n",
       "25                      255.9                          260.837376  130.539589   \n",
       "24                      166.7                          140.160656   66.448272   \n",
       "23                      243.6                          179.225000   63.636244   \n",
       "22                       86.5                           62.930769   30.263163   \n",
       "21                       40.6                           38.407692   19.317249   \n",
       "\n",
       "    SB (Estação PARNASO)  Série Histórica (2007-2019) e DP.2       sd_SB  \n",
       "25                 491.8                          411.870297  186.205769  \n",
       "24                 299.2                          202.347656  118.872761  \n",
       "23                 533.4                          371.107692  147.030685  \n",
       "22                 218.0                          244.446154  100.812977  \n",
       "21                 241.0                          150.187455   69.936814  "
      ],
      "text/html": "<div>\n<style scoped>\n    .dataframe tbody tr th:only-of-type {\n        vertical-align: middle;\n    }\n\n    .dataframe tbody tr th {\n        vertical-align: top;\n    }\n\n    .dataframe thead th {\n        text-align: right;\n    }\n</style>\n<table border=\"1\" class=\"dataframe\">\n  <thead>\n    <tr style=\"text-align: right;\">\n      <th></th>\n      <th>mês</th>\n      <th>SM (Estação Caparaó)</th>\n      <th>Série Histórica (2007-2019) e DP</th>\n      <th>sd_SM</th>\n      <th>BM (Estação Pedro do Rio)</th>\n      <th>Série Histórica (2007-2019) e DP.1</th>\n      <th>sd_BM</th>\n      <th>SB (Estação PARNASO)</th>\n      <th>Série Histórica (2007-2019) e DP.2</th>\n      <th>sd_SB</th>\n    </tr>\n  </thead>\n  <tbody>\n    <tr>\n      <th>25</th>\n      <td>43101</td>\n      <td>147.2</td>\n      <td>177.989109</td>\n      <td>140.340589</td>\n      <td>255.9</td>\n      <td>260.837376</td>\n      <td>130.539589</td>\n      <td>491.8</td>\n      <td>411.870297</td>\n      <td>186.205769</td>\n    </tr>\n    <tr>\n      <th>24</th>\n      <td>43159</td>\n      <td>210.1</td>\n      <td>119.911717</td>\n      <td>58.821817</td>\n      <td>166.7</td>\n      <td>140.160656</td>\n      <td>66.448272</td>\n      <td>299.2</td>\n      <td>202.347656</td>\n      <td>118.872761</td>\n    </tr>\n    <tr>\n      <th>23</th>\n      <td>43170</td>\n      <td>406.3</td>\n      <td>185.915385</td>\n      <td>120.946980</td>\n      <td>243.6</td>\n      <td>179.225000</td>\n      <td>63.636244</td>\n      <td>533.4</td>\n      <td>371.107692</td>\n      <td>147.030685</td>\n    </tr>\n    <tr>\n      <th>22</th>\n      <td>43201</td>\n      <td>155.6</td>\n      <td>96.653846</td>\n      <td>38.761611</td>\n      <td>86.5</td>\n      <td>62.930769</td>\n      <td>30.263163</td>\n      <td>218.0</td>\n      <td>244.446154</td>\n      <td>100.812977</td>\n    </tr>\n    <tr>\n      <th>21</th>\n      <td>43231</td>\n      <td>35.7</td>\n      <td>45.130769</td>\n      <td>35.840638</td>\n      <td>40.6</td>\n      <td>38.407692</td>\n      <td>19.317249</td>\n      <td>241.0</td>\n      <td>150.187455</td>\n      <td>69.936814</td>\n    </tr>\n  </tbody>\n</table>\n</div>"
     },
     "metadata": {},
     "execution_count": 6
    }
   ],
   "source": [
    "# invertendo o dataframe\n",
    "df2 = df2.reindex(index=df2.index[::-1])\n",
    "df2.head()"
   ]
  },
  {
   "cell_type": "code",
   "execution_count": 11,
   "metadata": {},
   "outputs": [
    {
     "output_type": "execute_result",
     "data": {
      "text/plain": [
       "      mês  SM (Estação Caparaó)       sh_SM       sd_SM  \\\n",
       "25  43101                 147.2  177.989109  140.340589   \n",
       "24  43159                 210.1  119.911717   58.821817   \n",
       "23  43170                 406.3  185.915385  120.946980   \n",
       "22  43201                 155.6   96.653846   38.761611   \n",
       "21  43231                  35.7   45.130769   35.840638   \n",
       "\n",
       "    BM (Estação Pedro do Rio)       sh_BM       sd_BM  SB (Estação PARNASO)  \\\n",
       "25                      255.9  260.837376  130.539589                 491.8   \n",
       "24                      166.7  140.160656   66.448272                 299.2   \n",
       "23                      243.6  179.225000   63.636244                 533.4   \n",
       "22                       86.5   62.930769   30.263163                 218.0   \n",
       "21                       40.6   38.407692   19.317249                 241.0   \n",
       "\n",
       "         sh_SB       sd_SB  \n",
       "25  411.870297  186.205769  \n",
       "24  202.347656  118.872761  \n",
       "23  371.107692  147.030685  \n",
       "22  244.446154  100.812977  \n",
       "21  150.187455   69.936814  "
      ],
      "text/html": "<div>\n<style scoped>\n    .dataframe tbody tr th:only-of-type {\n        vertical-align: middle;\n    }\n\n    .dataframe tbody tr th {\n        vertical-align: top;\n    }\n\n    .dataframe thead th {\n        text-align: right;\n    }\n</style>\n<table border=\"1\" class=\"dataframe\">\n  <thead>\n    <tr style=\"text-align: right;\">\n      <th></th>\n      <th>mês</th>\n      <th>SM (Estação Caparaó)</th>\n      <th>sh_SM</th>\n      <th>sd_SM</th>\n      <th>BM (Estação Pedro do Rio)</th>\n      <th>sh_BM</th>\n      <th>sd_BM</th>\n      <th>SB (Estação PARNASO)</th>\n      <th>sh_SB</th>\n      <th>sd_SB</th>\n    </tr>\n  </thead>\n  <tbody>\n    <tr>\n      <th>25</th>\n      <td>43101</td>\n      <td>147.2</td>\n      <td>177.989109</td>\n      <td>140.340589</td>\n      <td>255.9</td>\n      <td>260.837376</td>\n      <td>130.539589</td>\n      <td>491.8</td>\n      <td>411.870297</td>\n      <td>186.205769</td>\n    </tr>\n    <tr>\n      <th>24</th>\n      <td>43159</td>\n      <td>210.1</td>\n      <td>119.911717</td>\n      <td>58.821817</td>\n      <td>166.7</td>\n      <td>140.160656</td>\n      <td>66.448272</td>\n      <td>299.2</td>\n      <td>202.347656</td>\n      <td>118.872761</td>\n    </tr>\n    <tr>\n      <th>23</th>\n      <td>43170</td>\n      <td>406.3</td>\n      <td>185.915385</td>\n      <td>120.946980</td>\n      <td>243.6</td>\n      <td>179.225000</td>\n      <td>63.636244</td>\n      <td>533.4</td>\n      <td>371.107692</td>\n      <td>147.030685</td>\n    </tr>\n    <tr>\n      <th>22</th>\n      <td>43201</td>\n      <td>155.6</td>\n      <td>96.653846</td>\n      <td>38.761611</td>\n      <td>86.5</td>\n      <td>62.930769</td>\n      <td>30.263163</td>\n      <td>218.0</td>\n      <td>244.446154</td>\n      <td>100.812977</td>\n    </tr>\n    <tr>\n      <th>21</th>\n      <td>43231</td>\n      <td>35.7</td>\n      <td>45.130769</td>\n      <td>35.840638</td>\n      <td>40.6</td>\n      <td>38.407692</td>\n      <td>19.317249</td>\n      <td>241.0</td>\n      <td>150.187455</td>\n      <td>69.936814</td>\n    </tr>\n  </tbody>\n</table>\n</div>"
     },
     "metadata": {},
     "execution_count": 11
    }
   ],
   "source": [
    "# renomeando as séries históricas\n",
    "df2.rename(columns={'Série Histórica (2007-2019) e DP': 'sh_SM', 'Série Histórica (2007-2019) e DP.1': 'sh_BM', 'Série Histórica (2007-2019) e DP.2': 'sh_SB'}, inplace=True)\n",
    "df2.head()"
   ]
  },
  {
   "source": [
    "# Criando o 1º gráfico"
   ],
   "cell_type": "markdown",
   "metadata": {}
  },
  {
   "cell_type": "code",
   "execution_count": 8,
   "metadata": {},
   "outputs": [
    {
     "output_type": "error",
     "ename": "ValueError",
     "evalue": "\n    Invalid value of type 'builtins.tuple' received for the 'visible' property of bar.error_y\n        Received value: (True, False, False)\n\n    The 'visible' property must be specified as a bool\n    (either True, or False)",
     "traceback": [
      "\u001b[1;31m---------------------------------------------------------------------------\u001b[0m",
      "\u001b[1;31mValueError\u001b[0m                                Traceback (most recent call last)",
      "\u001b[1;32m<ipython-input-8-d273bd971755>\u001b[0m in \u001b[0;36m<module>\u001b[1;34m\u001b[0m\n\u001b[0;32m      3\u001b[0m \u001b[0mfig\u001b[0m \u001b[1;33m=\u001b[0m \u001b[0mgo\u001b[0m\u001b[1;33m.\u001b[0m\u001b[0mFigure\u001b[0m\u001b[1;33m(\u001b[0m\u001b[1;33m)\u001b[0m\u001b[1;33m\u001b[0m\u001b[1;33m\u001b[0m\u001b[0m\n\u001b[0;32m      4\u001b[0m \u001b[1;33m\u001b[0m\u001b[0m\n\u001b[1;32m----> 5\u001b[1;33m fig.add_trace(go.Bar(name='Bonfim',x=df.estacao[:3], y=df.chuva[:3], marker_color='rgb(0, 153, 216)', error_y=dict(type='data', array=df.sd[:3], visible=(True, False, False))\n\u001b[0m\u001b[0;32m      6\u001b[0m ))\n\u001b[0;32m      7\u001b[0m fig.add_trace(go.Bar(name='Soberbo',x=df.estacao[3:5], y=df.chuva[3:5], marker_color='rgb(0, 90, 74)', error_y=dict(type='data', array=df.sd[3:5])\n",
      "\u001b[1;32m~\\AppData\\Local\\Programs\\Python\\Python38\\lib\\site-packages\\plotly\\graph_objs\\_bar.py\u001b[0m in \u001b[0;36m__init__\u001b[1;34m(self, arg, alignmentgroup, base, basesrc, cliponaxis, constraintext, customdata, customdatasrc, dx, dy, error_x, error_y, hoverinfo, hoverinfosrc, hoverlabel, hovertemplate, hovertemplatesrc, hovertext, hovertextsrc, ids, idssrc, insidetextanchor, insidetextfont, legendgroup, marker, meta, metasrc, name, offset, offsetgroup, offsetsrc, opacity, orientation, outsidetextfont, r, rsrc, selected, selectedpoints, showlegend, stream, t, text, textangle, textfont, textposition, textpositionsrc, textsrc, texttemplate, texttemplatesrc, tsrc, uid, uirevision, unselected, visible, width, widthsrc, x, x0, xaxis, xcalendar, xsrc, y, y0, yaxis, ycalendar, ysrc, **kwargs)\u001b[0m\n\u001b[0;32m   2693\u001b[0m         \u001b[0m_v\u001b[0m \u001b[1;33m=\u001b[0m \u001b[0merror_y\u001b[0m \u001b[1;32mif\u001b[0m \u001b[0merror_y\u001b[0m \u001b[1;32mis\u001b[0m \u001b[1;32mnot\u001b[0m \u001b[1;32mNone\u001b[0m \u001b[1;32melse\u001b[0m \u001b[0m_v\u001b[0m\u001b[1;33m\u001b[0m\u001b[1;33m\u001b[0m\u001b[0m\n\u001b[0;32m   2694\u001b[0m         \u001b[1;32mif\u001b[0m \u001b[0m_v\u001b[0m \u001b[1;32mis\u001b[0m \u001b[1;32mnot\u001b[0m \u001b[1;32mNone\u001b[0m\u001b[1;33m:\u001b[0m\u001b[1;33m\u001b[0m\u001b[1;33m\u001b[0m\u001b[0m\n\u001b[1;32m-> 2695\u001b[1;33m             \u001b[0mself\u001b[0m\u001b[1;33m[\u001b[0m\u001b[1;34m\"error_y\"\u001b[0m\u001b[1;33m]\u001b[0m \u001b[1;33m=\u001b[0m \u001b[0m_v\u001b[0m\u001b[1;33m\u001b[0m\u001b[1;33m\u001b[0m\u001b[0m\n\u001b[0m\u001b[0;32m   2696\u001b[0m         \u001b[0m_v\u001b[0m \u001b[1;33m=\u001b[0m \u001b[0marg\u001b[0m\u001b[1;33m.\u001b[0m\u001b[0mpop\u001b[0m\u001b[1;33m(\u001b[0m\u001b[1;34m\"hoverinfo\"\u001b[0m\u001b[1;33m,\u001b[0m \u001b[1;32mNone\u001b[0m\u001b[1;33m)\u001b[0m\u001b[1;33m\u001b[0m\u001b[1;33m\u001b[0m\u001b[0m\n\u001b[0;32m   2697\u001b[0m         \u001b[0m_v\u001b[0m \u001b[1;33m=\u001b[0m \u001b[0mhoverinfo\u001b[0m \u001b[1;32mif\u001b[0m \u001b[0mhoverinfo\u001b[0m \u001b[1;32mis\u001b[0m \u001b[1;32mnot\u001b[0m \u001b[1;32mNone\u001b[0m \u001b[1;32melse\u001b[0m \u001b[0m_v\u001b[0m\u001b[1;33m\u001b[0m\u001b[1;33m\u001b[0m\u001b[0m\n",
      "\u001b[1;32m~\\AppData\\Local\\Programs\\Python\\Python38\\lib\\site-packages\\plotly\\basedatatypes.py\u001b[0m in \u001b[0;36m__setitem__\u001b[1;34m(self, prop, value)\u001b[0m\n\u001b[0;32m   4009\u001b[0m                 \u001b[1;31m# ### Handle compound property ###\u001b[0m\u001b[1;33m\u001b[0m\u001b[1;33m\u001b[0m\u001b[1;33m\u001b[0m\u001b[0m\n\u001b[0;32m   4010\u001b[0m                 \u001b[1;32mif\u001b[0m \u001b[0misinstance\u001b[0m\u001b[1;33m(\u001b[0m\u001b[0mvalidator\u001b[0m\u001b[1;33m,\u001b[0m \u001b[0mCompoundValidator\u001b[0m\u001b[1;33m)\u001b[0m\u001b[1;33m:\u001b[0m\u001b[1;33m\u001b[0m\u001b[1;33m\u001b[0m\u001b[0m\n\u001b[1;32m-> 4011\u001b[1;33m                     \u001b[0mself\u001b[0m\u001b[1;33m.\u001b[0m\u001b[0m_set_compound_prop\u001b[0m\u001b[1;33m(\u001b[0m\u001b[0mprop\u001b[0m\u001b[1;33m,\u001b[0m \u001b[0mvalue\u001b[0m\u001b[1;33m)\u001b[0m\u001b[1;33m\u001b[0m\u001b[1;33m\u001b[0m\u001b[0m\n\u001b[0m\u001b[0;32m   4012\u001b[0m \u001b[1;33m\u001b[0m\u001b[0m\n\u001b[0;32m   4013\u001b[0m                 \u001b[1;31m# ### Handle compound array property ###\u001b[0m\u001b[1;33m\u001b[0m\u001b[1;33m\u001b[0m\u001b[1;33m\u001b[0m\u001b[0m\n",
      "\u001b[1;32m~\\AppData\\Local\\Programs\\Python\\Python38\\lib\\site-packages\\plotly\\basedatatypes.py\u001b[0m in \u001b[0;36m_set_compound_prop\u001b[1;34m(self, prop, val)\u001b[0m\n\u001b[0;32m   4394\u001b[0m         \u001b[1;31m# ------------\u001b[0m\u001b[1;33m\u001b[0m\u001b[1;33m\u001b[0m\u001b[1;33m\u001b[0m\u001b[0m\n\u001b[0;32m   4395\u001b[0m         \u001b[0mvalidator\u001b[0m \u001b[1;33m=\u001b[0m \u001b[0mself\u001b[0m\u001b[1;33m.\u001b[0m\u001b[0m_get_validator\u001b[0m\u001b[1;33m(\u001b[0m\u001b[0mprop\u001b[0m\u001b[1;33m)\u001b[0m\u001b[1;33m\u001b[0m\u001b[1;33m\u001b[0m\u001b[0m\n\u001b[1;32m-> 4396\u001b[1;33m         \u001b[0mval\u001b[0m \u001b[1;33m=\u001b[0m \u001b[0mvalidator\u001b[0m\u001b[1;33m.\u001b[0m\u001b[0mvalidate_coerce\u001b[0m\u001b[1;33m(\u001b[0m\u001b[0mval\u001b[0m\u001b[1;33m,\u001b[0m \u001b[0mskip_invalid\u001b[0m\u001b[1;33m=\u001b[0m\u001b[0mself\u001b[0m\u001b[1;33m.\u001b[0m\u001b[0m_skip_invalid\u001b[0m\u001b[1;33m)\u001b[0m\u001b[1;33m\u001b[0m\u001b[1;33m\u001b[0m\u001b[0m\n\u001b[0m\u001b[0;32m   4397\u001b[0m \u001b[1;33m\u001b[0m\u001b[0m\n\u001b[0;32m   4398\u001b[0m         \u001b[1;31m# Save deep copies of current and new states\u001b[0m\u001b[1;33m\u001b[0m\u001b[1;33m\u001b[0m\u001b[1;33m\u001b[0m\u001b[0m\n",
      "\u001b[1;32m~\\AppData\\Local\\Programs\\Python\\Python38\\lib\\site-packages\\_plotly_utils\\basevalidators.py\u001b[0m in \u001b[0;36mvalidate_coerce\u001b[1;34m(self, v, skip_invalid, _validate)\u001b[0m\n\u001b[0;32m   2444\u001b[0m \u001b[1;33m\u001b[0m\u001b[0m\n\u001b[0;32m   2445\u001b[0m         \u001b[1;32melif\u001b[0m \u001b[0misinstance\u001b[0m\u001b[1;33m(\u001b[0m\u001b[0mv\u001b[0m\u001b[1;33m,\u001b[0m \u001b[0mdict\u001b[0m\u001b[1;33m)\u001b[0m\u001b[1;33m:\u001b[0m\u001b[1;33m\u001b[0m\u001b[1;33m\u001b[0m\u001b[0m\n\u001b[1;32m-> 2446\u001b[1;33m             \u001b[0mv\u001b[0m \u001b[1;33m=\u001b[0m \u001b[0mself\u001b[0m\u001b[1;33m.\u001b[0m\u001b[0mdata_class\u001b[0m\u001b[1;33m(\u001b[0m\u001b[0mv\u001b[0m\u001b[1;33m,\u001b[0m \u001b[0mskip_invalid\u001b[0m\u001b[1;33m=\u001b[0m\u001b[0mskip_invalid\u001b[0m\u001b[1;33m,\u001b[0m \u001b[0m_validate\u001b[0m\u001b[1;33m=\u001b[0m\u001b[0m_validate\u001b[0m\u001b[1;33m)\u001b[0m\u001b[1;33m\u001b[0m\u001b[1;33m\u001b[0m\u001b[0m\n\u001b[0m\u001b[0;32m   2447\u001b[0m \u001b[1;33m\u001b[0m\u001b[0m\n\u001b[0;32m   2448\u001b[0m         \u001b[1;32melif\u001b[0m \u001b[0misinstance\u001b[0m\u001b[1;33m(\u001b[0m\u001b[0mv\u001b[0m\u001b[1;33m,\u001b[0m \u001b[0mself\u001b[0m\u001b[1;33m.\u001b[0m\u001b[0mdata_class\u001b[0m\u001b[1;33m)\u001b[0m\u001b[1;33m:\u001b[0m\u001b[1;33m\u001b[0m\u001b[1;33m\u001b[0m\u001b[0m\n",
      "\u001b[1;32m~\\AppData\\Local\\Programs\\Python\\Python38\\lib\\site-packages\\plotly\\graph_objs\\bar\\_error_y.py\u001b[0m in \u001b[0;36m__init__\u001b[1;34m(self, arg, array, arrayminus, arrayminussrc, arraysrc, color, symmetric, thickness, traceref, tracerefminus, type, value, valueminus, visible, width, **kwargs)\u001b[0m\n\u001b[0;32m    587\u001b[0m         \u001b[0m_v\u001b[0m \u001b[1;33m=\u001b[0m \u001b[0mvisible\u001b[0m \u001b[1;32mif\u001b[0m \u001b[0mvisible\u001b[0m \u001b[1;32mis\u001b[0m \u001b[1;32mnot\u001b[0m \u001b[1;32mNone\u001b[0m \u001b[1;32melse\u001b[0m \u001b[0m_v\u001b[0m\u001b[1;33m\u001b[0m\u001b[1;33m\u001b[0m\u001b[0m\n\u001b[0;32m    588\u001b[0m         \u001b[1;32mif\u001b[0m \u001b[0m_v\u001b[0m \u001b[1;32mis\u001b[0m \u001b[1;32mnot\u001b[0m \u001b[1;32mNone\u001b[0m\u001b[1;33m:\u001b[0m\u001b[1;33m\u001b[0m\u001b[1;33m\u001b[0m\u001b[0m\n\u001b[1;32m--> 589\u001b[1;33m             \u001b[0mself\u001b[0m\u001b[1;33m[\u001b[0m\u001b[1;34m\"visible\"\u001b[0m\u001b[1;33m]\u001b[0m \u001b[1;33m=\u001b[0m \u001b[0m_v\u001b[0m\u001b[1;33m\u001b[0m\u001b[1;33m\u001b[0m\u001b[0m\n\u001b[0m\u001b[0;32m    590\u001b[0m         \u001b[0m_v\u001b[0m \u001b[1;33m=\u001b[0m \u001b[0marg\u001b[0m\u001b[1;33m.\u001b[0m\u001b[0mpop\u001b[0m\u001b[1;33m(\u001b[0m\u001b[1;34m\"width\"\u001b[0m\u001b[1;33m,\u001b[0m \u001b[1;32mNone\u001b[0m\u001b[1;33m)\u001b[0m\u001b[1;33m\u001b[0m\u001b[1;33m\u001b[0m\u001b[0m\n\u001b[0;32m    591\u001b[0m         \u001b[0m_v\u001b[0m \u001b[1;33m=\u001b[0m \u001b[0mwidth\u001b[0m \u001b[1;32mif\u001b[0m \u001b[0mwidth\u001b[0m \u001b[1;32mis\u001b[0m \u001b[1;32mnot\u001b[0m \u001b[1;32mNone\u001b[0m \u001b[1;32melse\u001b[0m \u001b[0m_v\u001b[0m\u001b[1;33m\u001b[0m\u001b[1;33m\u001b[0m\u001b[0m\n",
      "\u001b[1;32m~\\AppData\\Local\\Programs\\Python\\Python38\\lib\\site-packages\\plotly\\basedatatypes.py\u001b[0m in \u001b[0;36m__setitem__\u001b[1;34m(self, prop, value)\u001b[0m\n\u001b[0;32m   4017\u001b[0m                 \u001b[1;31m# ### Handle simple property ###\u001b[0m\u001b[1;33m\u001b[0m\u001b[1;33m\u001b[0m\u001b[1;33m\u001b[0m\u001b[0m\n\u001b[0;32m   4018\u001b[0m                 \u001b[1;32melse\u001b[0m\u001b[1;33m:\u001b[0m\u001b[1;33m\u001b[0m\u001b[1;33m\u001b[0m\u001b[0m\n\u001b[1;32m-> 4019\u001b[1;33m                     \u001b[0mself\u001b[0m\u001b[1;33m.\u001b[0m\u001b[0m_set_prop\u001b[0m\u001b[1;33m(\u001b[0m\u001b[0mprop\u001b[0m\u001b[1;33m,\u001b[0m \u001b[0mvalue\u001b[0m\u001b[1;33m)\u001b[0m\u001b[1;33m\u001b[0m\u001b[1;33m\u001b[0m\u001b[0m\n\u001b[0m\u001b[0;32m   4020\u001b[0m             \u001b[1;32melse\u001b[0m\u001b[1;33m:\u001b[0m\u001b[1;33m\u001b[0m\u001b[1;33m\u001b[0m\u001b[0m\n\u001b[0;32m   4021\u001b[0m                 \u001b[1;31m# Make sure properties dict is initialized\u001b[0m\u001b[1;33m\u001b[0m\u001b[1;33m\u001b[0m\u001b[1;33m\u001b[0m\u001b[0m\n",
      "\u001b[1;32m~\\AppData\\Local\\Programs\\Python\\Python38\\lib\\site-packages\\plotly\\basedatatypes.py\u001b[0m in \u001b[0;36m_set_prop\u001b[1;34m(self, prop, val)\u001b[0m\n\u001b[0;32m   4335\u001b[0m                 \u001b[1;32mreturn\u001b[0m\u001b[1;33m\u001b[0m\u001b[1;33m\u001b[0m\u001b[0m\n\u001b[0;32m   4336\u001b[0m             \u001b[1;32melse\u001b[0m\u001b[1;33m:\u001b[0m\u001b[1;33m\u001b[0m\u001b[1;33m\u001b[0m\u001b[0m\n\u001b[1;32m-> 4337\u001b[1;33m                 \u001b[1;32mraise\u001b[0m \u001b[0merr\u001b[0m\u001b[1;33m\u001b[0m\u001b[1;33m\u001b[0m\u001b[0m\n\u001b[0m\u001b[0;32m   4338\u001b[0m \u001b[1;33m\u001b[0m\u001b[0m\n\u001b[0;32m   4339\u001b[0m         \u001b[1;31m# val is None\u001b[0m\u001b[1;33m\u001b[0m\u001b[1;33m\u001b[0m\u001b[1;33m\u001b[0m\u001b[0m\n",
      "\u001b[1;32m~\\AppData\\Local\\Programs\\Python\\Python38\\lib\\site-packages\\plotly\\basedatatypes.py\u001b[0m in \u001b[0;36m_set_prop\u001b[1;34m(self, prop, val)\u001b[0m\n\u001b[0;32m   4330\u001b[0m \u001b[1;33m\u001b[0m\u001b[0m\n\u001b[0;32m   4331\u001b[0m         \u001b[1;32mtry\u001b[0m\u001b[1;33m:\u001b[0m\u001b[1;33m\u001b[0m\u001b[1;33m\u001b[0m\u001b[0m\n\u001b[1;32m-> 4332\u001b[1;33m             \u001b[0mval\u001b[0m \u001b[1;33m=\u001b[0m \u001b[0mvalidator\u001b[0m\u001b[1;33m.\u001b[0m\u001b[0mvalidate_coerce\u001b[0m\u001b[1;33m(\u001b[0m\u001b[0mval\u001b[0m\u001b[1;33m)\u001b[0m\u001b[1;33m\u001b[0m\u001b[1;33m\u001b[0m\u001b[0m\n\u001b[0m\u001b[0;32m   4333\u001b[0m         \u001b[1;32mexcept\u001b[0m \u001b[0mValueError\u001b[0m \u001b[1;32mas\u001b[0m \u001b[0merr\u001b[0m\u001b[1;33m:\u001b[0m\u001b[1;33m\u001b[0m\u001b[1;33m\u001b[0m\u001b[0m\n\u001b[0;32m   4334\u001b[0m             \u001b[1;32mif\u001b[0m \u001b[0mself\u001b[0m\u001b[1;33m.\u001b[0m\u001b[0m_skip_invalid\u001b[0m\u001b[1;33m:\u001b[0m\u001b[1;33m\u001b[0m\u001b[1;33m\u001b[0m\u001b[0m\n",
      "\u001b[1;32m~\\AppData\\Local\\Programs\\Python\\Python38\\lib\\site-packages\\_plotly_utils\\basevalidators.py\u001b[0m in \u001b[0;36mvalidate_coerce\u001b[1;34m(self, v)\u001b[0m\n\u001b[0;32m    626\u001b[0m             \u001b[1;32mpass\u001b[0m\u001b[1;33m\u001b[0m\u001b[1;33m\u001b[0m\u001b[0m\n\u001b[0;32m    627\u001b[0m         \u001b[1;32melif\u001b[0m \u001b[1;32mnot\u001b[0m \u001b[0misinstance\u001b[0m\u001b[1;33m(\u001b[0m\u001b[0mv\u001b[0m\u001b[1;33m,\u001b[0m \u001b[0mbool\u001b[0m\u001b[1;33m)\u001b[0m\u001b[1;33m:\u001b[0m\u001b[1;33m\u001b[0m\u001b[1;33m\u001b[0m\u001b[0m\n\u001b[1;32m--> 628\u001b[1;33m             \u001b[0mself\u001b[0m\u001b[1;33m.\u001b[0m\u001b[0mraise_invalid_val\u001b[0m\u001b[1;33m(\u001b[0m\u001b[0mv\u001b[0m\u001b[1;33m)\u001b[0m\u001b[1;33m\u001b[0m\u001b[1;33m\u001b[0m\u001b[0m\n\u001b[0m\u001b[0;32m    629\u001b[0m \u001b[1;33m\u001b[0m\u001b[0m\n\u001b[0;32m    630\u001b[0m         \u001b[1;32mreturn\u001b[0m \u001b[0mv\u001b[0m\u001b[1;33m\u001b[0m\u001b[1;33m\u001b[0m\u001b[0m\n",
      "\u001b[1;32m~\\AppData\\Local\\Programs\\Python\\Python38\\lib\\site-packages\\_plotly_utils\\basevalidators.py\u001b[0m in \u001b[0;36mraise_invalid_val\u001b[1;34m(self, v, inds)\u001b[0m\n\u001b[0;32m    273\u001b[0m                 \u001b[0mname\u001b[0m \u001b[1;33m+=\u001b[0m \u001b[1;34m\"[\"\u001b[0m \u001b[1;33m+\u001b[0m \u001b[0mstr\u001b[0m\u001b[1;33m(\u001b[0m\u001b[0mi\u001b[0m\u001b[1;33m)\u001b[0m \u001b[1;33m+\u001b[0m \u001b[1;34m\"]\"\u001b[0m\u001b[1;33m\u001b[0m\u001b[1;33m\u001b[0m\u001b[0m\n\u001b[0;32m    274\u001b[0m \u001b[1;33m\u001b[0m\u001b[0m\n\u001b[1;32m--> 275\u001b[1;33m         raise ValueError(\n\u001b[0m\u001b[0;32m    276\u001b[0m             \"\"\"\n\u001b[0;32m    277\u001b[0m     \u001b[0mInvalid\u001b[0m \u001b[0mvalue\u001b[0m \u001b[0mof\u001b[0m \u001b[0mtype\u001b[0m \u001b[1;33m{\u001b[0m\u001b[0mtyp\u001b[0m\u001b[1;33m}\u001b[0m \u001b[0mreceived\u001b[0m \u001b[1;32mfor\u001b[0m \u001b[0mthe\u001b[0m \u001b[1;34m'{name}'\u001b[0m \u001b[0mproperty\u001b[0m \u001b[0mof\u001b[0m \u001b[1;33m{\u001b[0m\u001b[0mpname\u001b[0m\u001b[1;33m}\u001b[0m\u001b[1;33m\u001b[0m\u001b[1;33m\u001b[0m\u001b[0m\n",
      "\u001b[1;31mValueError\u001b[0m: \n    Invalid value of type 'builtins.tuple' received for the 'visible' property of bar.error_y\n        Received value: (True, False, False)\n\n    The 'visible' property must be specified as a bool\n    (either True, or False)"
     ]
    }
   ],
   "source": [
    "import plotly.graph_objects as go\n",
    "\n",
    "fig = go.Figure()\n",
    "\n",
    "fig.add_trace(go.Bar(name='Bonfim',x=df.estacao[:3], y=df.chuva[:3], marker_color='rgb(0, 153, 216)', error_y=dict(type='data', array=df.sd[:3], visible=(True, False, False))\n",
    "))\n",
    "fig.add_trace(go.Bar(name='Soberbo',x=df.estacao[3:5], y=df.chuva[3:5], marker_color='rgb(0, 90, 74)', error_y=dict(type='data', array=df.sd[3:5])\n",
    "))\n",
    "fig.add_trace(go.Bar(name='Santa Marta',x=df.estacao[5:8], y=df.chuva[5:8], marker_color='rgb(86, 34, 18)', error_y=dict(type='data', array=df.sd[5:8])\n",
    "))\n",
    "fig.update_layout(font_family='Open Sans',  xaxis_tickfont_size=14, yaxis=dict(title='<b>Precipitação no ano de 2019 (mm)', titlefont_size=16, tickfont_size=14\n",
    "))\n",
    "fig.show()"
   ]
  },
  {
   "source": [
    "# Criando o 2º gráfico"
   ],
   "cell_type": "markdown",
   "metadata": {}
  },
  {
   "cell_type": "code",
   "execution_count": 13,
   "metadata": {},
   "outputs": [
    {
     "output_type": "display_data",
     "data": {
      "application/vnd.plotly.v1+json": {
       "config": {
        "plotlyServerURL": "https://plotly.com"
       },
       "data": [
        {
         "marker": {
          "color": "rgb(0, 153, 216)"
         },
         "name": "BM (Estação Pedro do Rio)",
         "type": "bar",
         "x": [
          43101,
          43159,
          43170,
          43201,
          43231,
          43262,
          43292,
          43323,
          43354,
          43384,
          43415,
          43445,
          43476,
          43507,
          43535,
          43566,
          43596,
          43627,
          43657,
          43688,
          43719,
          43749,
          43780,
          43810,
          43841,
          43872
         ],
         "y": [
          255.9,
          166.7,
          243.6,
          86.5,
          40.6,
          2.8,
          6.1,
          69.5,
          114,
          44.5,
          113.8,
          68.9,
          149.4,
          237.2,
          127.5,
          39.6,
          51,
          30.9,
          10.6,
          8.4,
          69.9,
          109.6,
          106.5,
          248.7,
          269,
          316.8
         ]
        },
        {
         "error_y": {
          "array": [
           130.5395893,
           66.44827236,
           63.63624437,
           30.26316331,
           19.31724863,
           23.16361665,
           20.68356407,
           17.78729684,
           35.74302597,
           47.39817988,
           54.646352,
           87.54094832,
           85.93495407,
           66.44827236,
           63.63624437,
           30.26316331,
           19.31724863,
           23.16361665,
           20.68356407,
           17.78729684,
           35.74302597,
           47.39817988,
           54.646352,
           87.54094832,
           85.93495407,
           66.44827236
          ],
          "color": "black",
          "type": "data"
         },
         "line": {
          "color": "rgb(0, 153, 216)",
          "width": 3
         },
         "name": "Série Histórica (2007-2019)",
         "type": "scatter",
         "visible": "legendonly",
         "x": [
          43101,
          43159,
          43170,
          43201,
          43231,
          43262,
          43292,
          43323,
          43354,
          43384,
          43415,
          43445,
          43476,
          43507,
          43535,
          43566,
          43596,
          43627,
          43657,
          43688,
          43719,
          43749,
          43780,
          43810,
          43841,
          43872
         ],
         "y": [
          260.8373762,
          140.16065569999998,
          179.225,
          62.93076923,
          38.40769231,
          25.73846154,
          20.76923077,
          14.77692308,
          48.86153846,
          96.71538462,
          184.39230769999998,
          202.29230769999998,
          260.8373762,
          140.16065569999998,
          179.225,
          62.93076923,
          38.40769231,
          25.73846154,
          20.76923077,
          14.77692308,
          48.86153846,
          96.71538462,
          184.39230769999998,
          202.29230769999998,
          260.8373762,
          140.16065569999998
         ]
        },
        {
         "marker": {
          "color": "rgb(0, 90, 74)"
         },
         "name": "SB (Estação PARNASO)",
         "type": "bar",
         "x": [
          43101,
          43159,
          43170,
          43201,
          43231,
          43262,
          43292,
          43323,
          43354,
          43384,
          43415,
          43445,
          43476,
          43507,
          43535,
          43566,
          43596,
          43627,
          43657,
          43688,
          43719,
          43749,
          43780,
          43810,
          43841,
          43872
         ],
         "y": [
          491.8,
          299.2,
          533.4,
          218,
          241,
          84.4,
          56.8,
          141.4,
          115.4,
          300.8,
          348.6,
          426.6,
          230,
          396.4,
          569,
          196.8,
          313.8,
          38.8,
          31.2,
          181.8,
          260.8,
          142.8,
          358.6,
          335.4,
          590.8,
          299.2
         ]
        },
        {
         "error_y": {
          "array": [
           186.205769,
           118.87276059999999,
           147.0306847,
           100.812977,
           69.93681381,
           59.43527134,
           59.28914606,
           52.26606851,
           61.04628567,
           106.18495870000001,
           114.01900390000002,
           146.7302496,
           186.205769,
           118.87276059999999,
           147.0306847,
           100.812977,
           69.93681381,
           59.43527134,
           59.28914606,
           52.26606851,
           61.04628567,
           106.18495870000001,
           114.01900390000002,
           146.7302496,
           186.205769,
           118.87276059999999
          ],
          "color": "black",
          "type": "data"
         },
         "line": {
          "color": "rgb(0, 90, 74)",
          "width": 3
         },
         "name": "Série Histórica (2007-2019)",
         "type": "scatter",
         "visible": "legendonly",
         "x": [
          43101,
          43159,
          43170,
          43201,
          43231,
          43262,
          43292,
          43323,
          43354,
          43384,
          43415,
          43445,
          43476,
          43507,
          43535,
          43566,
          43596,
          43627,
          43657,
          43688,
          43719,
          43749,
          43780,
          43810,
          43841,
          43872
         ],
         "y": [
          411.870297,
          202.347656,
          371.1076923,
          244.44615380000002,
          150.1874549,
          105.96401029999998,
          84.58461538,
          87.53692385,
          136.8153846,
          230.73846150000003,
          410.7538462,
          398.8,
          411.870297,
          202.347656,
          371.1076923,
          244.44615380000002,
          150.1874549,
          105.96401029999998,
          84.58461538,
          87.53692385,
          136.8153846,
          230.73846150000003,
          410.7538462,
          398.8,
          411.870297,
          202.347656
         ]
        },
        {
         "marker": {
          "color": "rgb(86, 34, 18)"
         },
         "name": "SM (Estação Caparaó)",
         "type": "bar",
         "x": [
          43101,
          43159,
          43170,
          43201,
          43231,
          43262,
          43292,
          43323,
          43354,
          43384,
          43415,
          43445,
          43476,
          43507,
          43535,
          43566,
          43596,
          43627,
          43657,
          43688,
          43719,
          43749,
          43780,
          43810,
          43841,
          43872
         ],
         "y": [
          147.2,
          210.1,
          406.3,
          155.6,
          35.7,
          0,
          1.6,
          73,
          53.9,
          141.1,
          164.7,
          248.5,
          7.8,
          180.6,
          158.8,
          149.4,
          23.5,
          3.5,
          0,
          14.1,
          21.4,
          57.6,
          319,
          235.8,
          514.4,
          336
         ]
        },
        {
         "error_y": {
          "array": [
           140.3405891,
           58.82181699,
           120.9469804,
           38.76161097,
           35.840638399999996,
           19.35182819,
           11.38268695,
           20.25603278,
           35.15249282,
           41.64278495,
           95.25772018,
           122.68105859999999,
           140.3405891,
           58.82181699,
           120.9469804,
           38.76161097,
           35.840638399999996,
           19.35182819,
           11.38268695,
           20.25603278,
           35.15249282,
           41.64278495,
           95.25772018,
           122.68105859999999,
           140.3405891,
           58.82181699
          ],
          "color": "black",
          "type": "data"
         },
         "line": {
          "color": "rgb(86, 34, 18)",
          "width": 3
         },
         "name": "Série Histórica (2007-2019)",
         "type": "scatter",
         "visible": "legendonly",
         "x": [
          43101,
          43159,
          43170,
          43201,
          43231,
          43262,
          43292,
          43323,
          43354,
          43384,
          43415,
          43445,
          43476,
          43507,
          43535,
          43566,
          43596,
          43627,
          43657,
          43688,
          43719,
          43749,
          43780,
          43810,
          43841,
          43872
         ],
         "y": [
          177.98910890000002,
          119.91171659999999,
          185.91538459999998,
          96.65384615,
          45.13076923,
          14.25384615,
          9.253846154,
          17.00769231,
          44.53846154,
          96.5,
          225.6461538,
          283.66923080000004,
          177.98910890000002,
          119.91171659999999,
          185.91538459999998,
          96.65384615,
          45.13076923,
          14.25384615,
          9.253846154,
          17.00769231,
          44.53846154,
          96.5,
          225.6461538,
          283.66923080000004,
          177.98910890000002,
          119.91171659999999
         ]
        }
       ],
       "layout": {
        "barmode": "group",
        "font": {
         "family": "Open Sans"
        },
        "template": {
         "data": {
          "bar": [
           {
            "error_x": {
             "color": "#2a3f5f"
            },
            "error_y": {
             "color": "#2a3f5f"
            },
            "marker": {
             "line": {
              "color": "#E5ECF6",
              "width": 0.5
             }
            },
            "type": "bar"
           }
          ],
          "barpolar": [
           {
            "marker": {
             "line": {
              "color": "#E5ECF6",
              "width": 0.5
             }
            },
            "type": "barpolar"
           }
          ],
          "carpet": [
           {
            "aaxis": {
             "endlinecolor": "#2a3f5f",
             "gridcolor": "white",
             "linecolor": "white",
             "minorgridcolor": "white",
             "startlinecolor": "#2a3f5f"
            },
            "baxis": {
             "endlinecolor": "#2a3f5f",
             "gridcolor": "white",
             "linecolor": "white",
             "minorgridcolor": "white",
             "startlinecolor": "#2a3f5f"
            },
            "type": "carpet"
           }
          ],
          "choropleth": [
           {
            "colorbar": {
             "outlinewidth": 0,
             "ticks": ""
            },
            "type": "choropleth"
           }
          ],
          "contour": [
           {
            "colorbar": {
             "outlinewidth": 0,
             "ticks": ""
            },
            "colorscale": [
             [
              0,
              "#0d0887"
             ],
             [
              0.1111111111111111,
              "#46039f"
             ],
             [
              0.2222222222222222,
              "#7201a8"
             ],
             [
              0.3333333333333333,
              "#9c179e"
             ],
             [
              0.4444444444444444,
              "#bd3786"
             ],
             [
              0.5555555555555556,
              "#d8576b"
             ],
             [
              0.6666666666666666,
              "#ed7953"
             ],
             [
              0.7777777777777778,
              "#fb9f3a"
             ],
             [
              0.8888888888888888,
              "#fdca26"
             ],
             [
              1,
              "#f0f921"
             ]
            ],
            "type": "contour"
           }
          ],
          "contourcarpet": [
           {
            "colorbar": {
             "outlinewidth": 0,
             "ticks": ""
            },
            "type": "contourcarpet"
           }
          ],
          "heatmap": [
           {
            "colorbar": {
             "outlinewidth": 0,
             "ticks": ""
            },
            "colorscale": [
             [
              0,
              "#0d0887"
             ],
             [
              0.1111111111111111,
              "#46039f"
             ],
             [
              0.2222222222222222,
              "#7201a8"
             ],
             [
              0.3333333333333333,
              "#9c179e"
             ],
             [
              0.4444444444444444,
              "#bd3786"
             ],
             [
              0.5555555555555556,
              "#d8576b"
             ],
             [
              0.6666666666666666,
              "#ed7953"
             ],
             [
              0.7777777777777778,
              "#fb9f3a"
             ],
             [
              0.8888888888888888,
              "#fdca26"
             ],
             [
              1,
              "#f0f921"
             ]
            ],
            "type": "heatmap"
           }
          ],
          "heatmapgl": [
           {
            "colorbar": {
             "outlinewidth": 0,
             "ticks": ""
            },
            "colorscale": [
             [
              0,
              "#0d0887"
             ],
             [
              0.1111111111111111,
              "#46039f"
             ],
             [
              0.2222222222222222,
              "#7201a8"
             ],
             [
              0.3333333333333333,
              "#9c179e"
             ],
             [
              0.4444444444444444,
              "#bd3786"
             ],
             [
              0.5555555555555556,
              "#d8576b"
             ],
             [
              0.6666666666666666,
              "#ed7953"
             ],
             [
              0.7777777777777778,
              "#fb9f3a"
             ],
             [
              0.8888888888888888,
              "#fdca26"
             ],
             [
              1,
              "#f0f921"
             ]
            ],
            "type": "heatmapgl"
           }
          ],
          "histogram": [
           {
            "marker": {
             "colorbar": {
              "outlinewidth": 0,
              "ticks": ""
             }
            },
            "type": "histogram"
           }
          ],
          "histogram2d": [
           {
            "colorbar": {
             "outlinewidth": 0,
             "ticks": ""
            },
            "colorscale": [
             [
              0,
              "#0d0887"
             ],
             [
              0.1111111111111111,
              "#46039f"
             ],
             [
              0.2222222222222222,
              "#7201a8"
             ],
             [
              0.3333333333333333,
              "#9c179e"
             ],
             [
              0.4444444444444444,
              "#bd3786"
             ],
             [
              0.5555555555555556,
              "#d8576b"
             ],
             [
              0.6666666666666666,
              "#ed7953"
             ],
             [
              0.7777777777777778,
              "#fb9f3a"
             ],
             [
              0.8888888888888888,
              "#fdca26"
             ],
             [
              1,
              "#f0f921"
             ]
            ],
            "type": "histogram2d"
           }
          ],
          "histogram2dcontour": [
           {
            "colorbar": {
             "outlinewidth": 0,
             "ticks": ""
            },
            "colorscale": [
             [
              0,
              "#0d0887"
             ],
             [
              0.1111111111111111,
              "#46039f"
             ],
             [
              0.2222222222222222,
              "#7201a8"
             ],
             [
              0.3333333333333333,
              "#9c179e"
             ],
             [
              0.4444444444444444,
              "#bd3786"
             ],
             [
              0.5555555555555556,
              "#d8576b"
             ],
             [
              0.6666666666666666,
              "#ed7953"
             ],
             [
              0.7777777777777778,
              "#fb9f3a"
             ],
             [
              0.8888888888888888,
              "#fdca26"
             ],
             [
              1,
              "#f0f921"
             ]
            ],
            "type": "histogram2dcontour"
           }
          ],
          "mesh3d": [
           {
            "colorbar": {
             "outlinewidth": 0,
             "ticks": ""
            },
            "type": "mesh3d"
           }
          ],
          "parcoords": [
           {
            "line": {
             "colorbar": {
              "outlinewidth": 0,
              "ticks": ""
             }
            },
            "type": "parcoords"
           }
          ],
          "pie": [
           {
            "automargin": true,
            "type": "pie"
           }
          ],
          "scatter": [
           {
            "marker": {
             "colorbar": {
              "outlinewidth": 0,
              "ticks": ""
             }
            },
            "type": "scatter"
           }
          ],
          "scatter3d": [
           {
            "line": {
             "colorbar": {
              "outlinewidth": 0,
              "ticks": ""
             }
            },
            "marker": {
             "colorbar": {
              "outlinewidth": 0,
              "ticks": ""
             }
            },
            "type": "scatter3d"
           }
          ],
          "scattercarpet": [
           {
            "marker": {
             "colorbar": {
              "outlinewidth": 0,
              "ticks": ""
             }
            },
            "type": "scattercarpet"
           }
          ],
          "scattergeo": [
           {
            "marker": {
             "colorbar": {
              "outlinewidth": 0,
              "ticks": ""
             }
            },
            "type": "scattergeo"
           }
          ],
          "scattergl": [
           {
            "marker": {
             "colorbar": {
              "outlinewidth": 0,
              "ticks": ""
             }
            },
            "type": "scattergl"
           }
          ],
          "scattermapbox": [
           {
            "marker": {
             "colorbar": {
              "outlinewidth": 0,
              "ticks": ""
             }
            },
            "type": "scattermapbox"
           }
          ],
          "scatterpolar": [
           {
            "marker": {
             "colorbar": {
              "outlinewidth": 0,
              "ticks": ""
             }
            },
            "type": "scatterpolar"
           }
          ],
          "scatterpolargl": [
           {
            "marker": {
             "colorbar": {
              "outlinewidth": 0,
              "ticks": ""
             }
            },
            "type": "scatterpolargl"
           }
          ],
          "scatterternary": [
           {
            "marker": {
             "colorbar": {
              "outlinewidth": 0,
              "ticks": ""
             }
            },
            "type": "scatterternary"
           }
          ],
          "surface": [
           {
            "colorbar": {
             "outlinewidth": 0,
             "ticks": ""
            },
            "colorscale": [
             [
              0,
              "#0d0887"
             ],
             [
              0.1111111111111111,
              "#46039f"
             ],
             [
              0.2222222222222222,
              "#7201a8"
             ],
             [
              0.3333333333333333,
              "#9c179e"
             ],
             [
              0.4444444444444444,
              "#bd3786"
             ],
             [
              0.5555555555555556,
              "#d8576b"
             ],
             [
              0.6666666666666666,
              "#ed7953"
             ],
             [
              0.7777777777777778,
              "#fb9f3a"
             ],
             [
              0.8888888888888888,
              "#fdca26"
             ],
             [
              1,
              "#f0f921"
             ]
            ],
            "type": "surface"
           }
          ],
          "table": [
           {
            "cells": {
             "fill": {
              "color": "#EBF0F8"
             },
             "line": {
              "color": "white"
             }
            },
            "header": {
             "fill": {
              "color": "#C8D4E3"
             },
             "line": {
              "color": "white"
             }
            },
            "type": "table"
           }
          ]
         },
         "layout": {
          "annotationdefaults": {
           "arrowcolor": "#2a3f5f",
           "arrowhead": 0,
           "arrowwidth": 1
          },
          "coloraxis": {
           "colorbar": {
            "outlinewidth": 0,
            "ticks": ""
           }
          },
          "colorscale": {
           "diverging": [
            [
             0,
             "#8e0152"
            ],
            [
             0.1,
             "#c51b7d"
            ],
            [
             0.2,
             "#de77ae"
            ],
            [
             0.3,
             "#f1b6da"
            ],
            [
             0.4,
             "#fde0ef"
            ],
            [
             0.5,
             "#f7f7f7"
            ],
            [
             0.6,
             "#e6f5d0"
            ],
            [
             0.7,
             "#b8e186"
            ],
            [
             0.8,
             "#7fbc41"
            ],
            [
             0.9,
             "#4d9221"
            ],
            [
             1,
             "#276419"
            ]
           ],
           "sequential": [
            [
             0,
             "#0d0887"
            ],
            [
             0.1111111111111111,
             "#46039f"
            ],
            [
             0.2222222222222222,
             "#7201a8"
            ],
            [
             0.3333333333333333,
             "#9c179e"
            ],
            [
             0.4444444444444444,
             "#bd3786"
            ],
            [
             0.5555555555555556,
             "#d8576b"
            ],
            [
             0.6666666666666666,
             "#ed7953"
            ],
            [
             0.7777777777777778,
             "#fb9f3a"
            ],
            [
             0.8888888888888888,
             "#fdca26"
            ],
            [
             1,
             "#f0f921"
            ]
           ],
           "sequentialminus": [
            [
             0,
             "#0d0887"
            ],
            [
             0.1111111111111111,
             "#46039f"
            ],
            [
             0.2222222222222222,
             "#7201a8"
            ],
            [
             0.3333333333333333,
             "#9c179e"
            ],
            [
             0.4444444444444444,
             "#bd3786"
            ],
            [
             0.5555555555555556,
             "#d8576b"
            ],
            [
             0.6666666666666666,
             "#ed7953"
            ],
            [
             0.7777777777777778,
             "#fb9f3a"
            ],
            [
             0.8888888888888888,
             "#fdca26"
            ],
            [
             1,
             "#f0f921"
            ]
           ]
          },
          "colorway": [
           "#636efa",
           "#EF553B",
           "#00cc96",
           "#ab63fa",
           "#FFA15A",
           "#19d3f3",
           "#FF6692",
           "#B6E880",
           "#FF97FF",
           "#FECB52"
          ],
          "font": {
           "color": "#2a3f5f"
          },
          "geo": {
           "bgcolor": "white",
           "lakecolor": "white",
           "landcolor": "#E5ECF6",
           "showlakes": true,
           "showland": true,
           "subunitcolor": "white"
          },
          "hoverlabel": {
           "align": "left"
          },
          "hovermode": "closest",
          "mapbox": {
           "style": "light"
          },
          "paper_bgcolor": "white",
          "plot_bgcolor": "#E5ECF6",
          "polar": {
           "angularaxis": {
            "gridcolor": "white",
            "linecolor": "white",
            "ticks": ""
           },
           "bgcolor": "#E5ECF6",
           "radialaxis": {
            "gridcolor": "white",
            "linecolor": "white",
            "ticks": ""
           }
          },
          "scene": {
           "xaxis": {
            "backgroundcolor": "#E5ECF6",
            "gridcolor": "white",
            "gridwidth": 2,
            "linecolor": "white",
            "showbackground": true,
            "ticks": "",
            "zerolinecolor": "white"
           },
           "yaxis": {
            "backgroundcolor": "#E5ECF6",
            "gridcolor": "white",
            "gridwidth": 2,
            "linecolor": "white",
            "showbackground": true,
            "ticks": "",
            "zerolinecolor": "white"
           },
           "zaxis": {
            "backgroundcolor": "#E5ECF6",
            "gridcolor": "white",
            "gridwidth": 2,
            "linecolor": "white",
            "showbackground": true,
            "ticks": "",
            "zerolinecolor": "white"
           }
          },
          "shapedefaults": {
           "line": {
            "color": "#2a3f5f"
           }
          },
          "ternary": {
           "aaxis": {
            "gridcolor": "white",
            "linecolor": "white",
            "ticks": ""
           },
           "baxis": {
            "gridcolor": "white",
            "linecolor": "white",
            "ticks": ""
           },
           "bgcolor": "#E5ECF6",
           "caxis": {
            "gridcolor": "white",
            "linecolor": "white",
            "ticks": ""
           }
          },
          "title": {
           "x": 0.05
          },
          "xaxis": {
           "automargin": true,
           "gridcolor": "white",
           "linecolor": "white",
           "ticks": "",
           "title": {
            "standoff": 15
           },
           "zerolinecolor": "white",
           "zerolinewidth": 2
          },
          "yaxis": {
           "automargin": true,
           "gridcolor": "white",
           "linecolor": "white",
           "ticks": "",
           "title": {
            "standoff": 15
           },
           "zerolinecolor": "white",
           "zerolinewidth": 2
          }
         }
        },
        "xaxis": {
         "tickangle": -45,
         "tickfont": {
          "size": 14
         }
        },
        "yaxis": {
         "tickfont": {
          "size": 14
         },
         "title": {
          "font": {
           "size": 16
          },
          "text": "<b>Precipitação (mm)"
         }
        }
       }
      }
     },
     "metadata": {}
    }
   ],
   "source": [
    "import plotly.graph_objects as go\n",
    "\n",
    "blue = 'rgb(0, 153, 216)'\n",
    "green = 'rgb(0, 90, 74)'\n",
    "brown = 'rgb(86, 34, 18)'\n",
    "fig2 = go.Figure()\n",
    "\n",
    "fig2.add_trace(go.Bar(name='BM (Estação Pedro do Rio)', x=df2['mês'], y=df2['BM (Estação Pedro do Rio)'], marker=dict(color=blue)\n",
    "))\n",
    "\n",
    "fig2.add_trace(go.Scatter(name='Série Histórica (2007-2019)', x=df2['mês'], y=df2['sh_BM'], error_y=dict(color='black', type='data', array=df2['sd_BM'] ),line=dict(color=blue, width=3), visible='legendonly'\n",
    "))\n",
    "\n",
    "fig2.add_trace(go.Bar(name='SB (Estação PARNASO)',x=df2['mês'], y=df2['SB (Estação PARNASO)'], marker=dict(color=green)\n",
    "))\n",
    "\n",
    "fig2.add_trace(go.Scatter(name='Série Histórica (2007-2019)', x=df2['mês'], y=df2['sh_SB'], error_y=dict(color='black', type='data', array=df2['sd_SB']),line=dict(color=green, width=3), visible='legendonly'\n",
    "))\n",
    "\n",
    "fig2.add_trace(go.Bar(name='SM (Estação Caparaó)',x=df2['mês'], y=df2['SM (Estação Caparaó)'], marker=dict(color=brown)\n",
    "))\n",
    "\n",
    "fig2.add_trace(go.Scatter(name='Série Histórica (2007-2019)', x=df2['mês'], y=df2['sh_SM'], error_y=dict(color='black', type='data', array=df2['sd_SM']),line=dict(color=brown, width=3), visible='legendonly'\n",
    "))\n",
    "\n",
    "fig2.update_layout(barmode='group', xaxis_tickangle=-45, font_family='Open Sans', xaxis_tickfont_size=14, yaxis=dict(title='<b>Precipitação (mm)', titlefont_size=16, tickfont_size=14))\n",
    "\n",
    "fig2.show()"
   ]
  }
 ]
}