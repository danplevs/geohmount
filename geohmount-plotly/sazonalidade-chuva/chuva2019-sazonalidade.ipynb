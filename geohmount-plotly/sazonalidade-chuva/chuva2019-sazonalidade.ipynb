{
 "metadata": {
  "language_info": {
   "codemirror_mode": {
    "name": "ipython",
    "version": 3
   },
   "file_extension": ".py",
   "mimetype": "text/x-python",
   "name": "python",
   "nbconvert_exporter": "python",
   "pygments_lexer": "ipython3",
   "version": "3.8.5-final"
  },
  "orig_nbformat": 2,
  "kernelspec": {
   "name": "Python 3.8.5 64-bit",
   "display_name": "Python 3.8.5 64-bit",
   "metadata": {
    "interpreter": {
     "hash": "1f42090833967a15994965b03f816d2365f4c7ab523cacf46e37faa7668751c1"
    }
   }
  }
 },
 "nbformat": 4,
 "nbformat_minor": 2,
 "cells": [
  {
   "source": [
    "# Importando e tratando a base de dados"
   ],
   "cell_type": "markdown",
   "metadata": {}
  },
  {
   "source": [
    "><h1> Importação dos dados"
   ],
   "cell_type": "markdown",
   "metadata": {}
  },
  {
   "cell_type": "code",
   "execution_count": 3,
   "metadata": {},
   "outputs": [],
   "source": [
    "import requests\n",
    "from io import StringIO\n",
    "\n",
    "# parameters for the request\n",
    "owner = 'danplevs'\n",
    "token = '10972548eeae219489116329ded0f3850ddeec5a'\n",
    "repo = 'geohmount'\n",
    "path = 'geohmount-plotly/sazonalidade-chuva/chuva_2019.xlsx'\n",
    "\n",
    "# sending the request\n",
    "r = requests.get(f'https://api.github.com/repos/{owner}/{repo}/contents/{path}',\n",
    "    headers={\n",
    "        'accept': 'application/vnd.github.v3.raw',\n",
    "        'authorization': f'token {token}'\n",
    "            }\n",
    "    )\n",
    "\n",
    "#convert string to StringIO object\n",
    "data = StringIO(r.text)"
   ]
  },
  {
   "cell_type": "code",
   "execution_count": 4,
   "metadata": {},
   "outputs": [
    {
     "output_type": "execute_result",
     "data": {
      "text/plain": "Empty DataFrame\nColumns: [{&quot;message&quot;:&quot;Not Found&quot;,&quot;documentation_url&quot;:&quot;https://docs.github.com/rest/reference/repos#get-repository-content&quot;}]\nIndex: []",
      "text/html": "<div>\n<style scoped>\n    .dataframe tbody tr th:only-of-type {\n        vertical-align: middle;\n    }\n\n    .dataframe tbody tr th {\n        vertical-align: top;\n    }\n\n    .dataframe thead th {\n        text-align: right;\n    }\n</style>\n<table border=\"1\" class=\"dataframe\">\n  <thead>\n    <tr style=\"text-align: right;\">\n      <th></th>\n      <th>{\"message\":\"Not Found\",\"documentation_url\":\"https://docs.github.com/rest/reference/repos#get-repository-content\"}</th>\n    </tr>\n  </thead>\n  <tbody>\n  </tbody>\n</table>\n</div>"
     },
     "metadata": {},
     "execution_count": 4
    }
   ],
   "source": [
    "import pandas as pd\n",
    "\n",
    "trajs = pd.read_csv(data, sep=\";\")\n",
    "trajs.head(5)"
   ]
  },
  {
   "cell_type": "code",
   "execution_count": null,
   "metadata": {},
   "outputs": [],
   "source": []
  }
 ]
}