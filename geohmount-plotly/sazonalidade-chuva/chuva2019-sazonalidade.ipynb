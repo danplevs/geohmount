{
 "metadata": {
  "language_info": {
   "codemirror_mode": {
    "name": "ipython",
    "version": 3
   },
   "file_extension": ".py",
   "mimetype": "text/x-python",
   "name": "python",
   "nbconvert_exporter": "python",
   "pygments_lexer": "ipython3",
   "version": "3.8.5-final"
  },
  "orig_nbformat": 2,
  "kernelspec": {
   "name": "Python 3.8.5 64-bit",
   "display_name": "Python 3.8.5 64-bit",
   "metadata": {
    "interpreter": {
     "hash": "1f42090833967a15994965b03f816d2365f4c7ab523cacf46e37faa7668751c1"
    }
   }
  }
 },
 "nbformat": 4,
 "nbformat_minor": 2,
 "cells": [
  {
   "source": [
    "# Importando e tratando as bases de dados"
   ],
   "cell_type": "markdown",
   "metadata": {}
  },
  {
   "source": [
    "><h1>Importação dos dados"
   ],
   "cell_type": "markdown",
   "metadata": {}
  },
  {
   "source": [
    ">><h2>Chuva_2019"
   ],
   "cell_type": "markdown",
   "metadata": {}
  },
  {
   "cell_type": "code",
   "execution_count": 1,
   "metadata": {},
   "outputs": [],
   "source": [
    "import requests\n",
    "from io import StringIO\n",
    "\n",
    "# parameters for the request\n",
    "owner = 'danplevs'\n",
    "token = '10972548eeae219489116329ded0f3850ddeec5a'\n",
    "repo = 'geohmount'\n",
    "path = 'geohmount-plotly/sazonalidade-chuva/chuva_2019.csv'\n",
    "\n",
    "# sending the request\n",
    "r = requests.get(f'https://api.github.com/repos/{owner}/{repo}/contents/{path}',\n",
    "    headers={\n",
    "        'accept': 'application/vnd.github.v3.raw',\n",
    "        'authorization': f'token {token}'\n",
    "            }\n",
    "    )\n",
    "\n",
    "#convert string to StringIO object\n",
    "data = StringIO(r.text)"
   ]
  },
  {
   "cell_type": "code",
   "execution_count": 2,
   "metadata": {},
   "outputs": [
    {
     "output_type": "execute_result",
     "data": {
      "text/plain": [
       "                           estacao   chuva     sd\n",
       "0  Média Anual - BM\\n(2007 - 2019)  1262.7  229.7\n",
       "1          BM \\n(E. Pedro do Rio)   1189.3    NaN\n",
       "2                 BM \\n(E. Bonfim)  1195.8    NaN\n",
       "3  Média Anual - SB\\n(2007 - 2019)  2837.6  467.8\n",
       "4                SB \\n(E. Parnaso)  3055.4    NaN\n",
       "5  Média Anual - SM\\n(2007 - 2019)  1317.9  278.5\n",
       "6            SM \\n(E. Santa Marta)  1590.1    NaN\n",
       "7                SM \\n(E. Caparaó)  1171.5    NaN"
      ],
      "text/html": "<div>\n<style scoped>\n    .dataframe tbody tr th:only-of-type {\n        vertical-align: middle;\n    }\n\n    .dataframe tbody tr th {\n        vertical-align: top;\n    }\n\n    .dataframe thead th {\n        text-align: right;\n    }\n</style>\n<table border=\"1\" class=\"dataframe\">\n  <thead>\n    <tr style=\"text-align: right;\">\n      <th></th>\n      <th>estacao</th>\n      <th>chuva</th>\n      <th>sd</th>\n    </tr>\n  </thead>\n  <tbody>\n    <tr>\n      <th>0</th>\n      <td>Média Anual - BM\\n(2007 - 2019)</td>\n      <td>1262.7</td>\n      <td>229.7</td>\n    </tr>\n    <tr>\n      <th>1</th>\n      <td>BM \\n(E. Pedro do Rio)</td>\n      <td>1189.3</td>\n      <td>NaN</td>\n    </tr>\n    <tr>\n      <th>2</th>\n      <td>BM \\n(E. Bonfim)</td>\n      <td>1195.8</td>\n      <td>NaN</td>\n    </tr>\n    <tr>\n      <th>3</th>\n      <td>Média Anual - SB\\n(2007 - 2019)</td>\n      <td>2837.6</td>\n      <td>467.8</td>\n    </tr>\n    <tr>\n      <th>4</th>\n      <td>SB \\n(E. Parnaso)</td>\n      <td>3055.4</td>\n      <td>NaN</td>\n    </tr>\n    <tr>\n      <th>5</th>\n      <td>Média Anual - SM\\n(2007 - 2019)</td>\n      <td>1317.9</td>\n      <td>278.5</td>\n    </tr>\n    <tr>\n      <th>6</th>\n      <td>SM \\n(E. Santa Marta)</td>\n      <td>1590.1</td>\n      <td>NaN</td>\n    </tr>\n    <tr>\n      <th>7</th>\n      <td>SM \\n(E. Caparaó)</td>\n      <td>1171.5</td>\n      <td>NaN</td>\n    </tr>\n  </tbody>\n</table>\n</div>"
     },
     "metadata": {},
     "execution_count": 2
    }
   ],
   "source": [
    "import pandas as pd\n",
    "\n",
    "df = pd.read_csv(data, sep=';')\n",
    "df"
   ]
  },
  {
   "source": [
    ">><h2>Sazonalidade"
   ],
   "cell_type": "markdown",
   "metadata": {}
  },
  {
   "cell_type": "code",
   "execution_count": 3,
   "metadata": {},
   "outputs": [],
   "source": [
    "import requests\n",
    "from io import StringIO\n",
    "\n",
    "# parameters for the request\n",
    "owner = 'danplevs'\n",
    "token = '10972548eeae219489116329ded0f3850ddeec5a'\n",
    "repo = 'geohmount'\n",
    "path = 'geohmount-plotly/sazonalidade-chuva/sazonalidade.csv'\n",
    "\n",
    "# sending the request\n",
    "r = requests.get(f'https://api.github.com/repos/{owner}/{repo}/contents/{path}',\n",
    "    headers={\n",
    "        'accept': 'application/vnd.github.v3.raw',\n",
    "        'authorization': f'token {token}'\n",
    "            }\n",
    "    )\n",
    "\n",
    "#convert string to StringIO object\n",
    "data = StringIO(r.text)"
   ]
  },
  {
   "cell_type": "code",
   "execution_count": 4,
   "metadata": {},
   "outputs": [
    {
     "output_type": "execute_result",
     "data": {
      "text/plain": [
       "      mês  SM (Estação Caparaó)  Série Histórica (2007-2019) e DP   sd_SM  \\\n",
       "0  fev/20                 336.0                            119.91   58.82   \n",
       "1  jan/20                 514.4                            177.99  140.34   \n",
       "2  dez/19                 235.8                            283.67  122.68   \n",
       "3  nov/19                 319.0                            225.65   95.26   \n",
       "4  out/19                  57.6                             96.50   41.64   \n",
       "\n",
       "   BM (Estação Pedro do Rio)  Série Histórica (2007-2019) e DP.1  sd_BM  \\\n",
       "0                      316.8                              140.16  66.45   \n",
       "1                      269.0                              260.84  85.93   \n",
       "2                      248.7                              202.29  87.54   \n",
       "3                      106.5                              184.39  54.65   \n",
       "4                      109.6                               96.72  47.40   \n",
       "\n",
       "   SB (Estação PARNASO)  Série Histórica (2007-2019) e DP.2   sd_SB  \n",
       "0                 299.2                              202.35  118.87  \n",
       "1                 590.8                              411.87  186.21  \n",
       "2                 335.4                              398.80  146.73  \n",
       "3                 358.6                              410.75  114.02  \n",
       "4                 142.8                              230.74  106.18  "
      ],
      "text/html": "<div>\n<style scoped>\n    .dataframe tbody tr th:only-of-type {\n        vertical-align: middle;\n    }\n\n    .dataframe tbody tr th {\n        vertical-align: top;\n    }\n\n    .dataframe thead th {\n        text-align: right;\n    }\n</style>\n<table border=\"1\" class=\"dataframe\">\n  <thead>\n    <tr style=\"text-align: right;\">\n      <th></th>\n      <th>mês</th>\n      <th>SM (Estação Caparaó)</th>\n      <th>Série Histórica (2007-2019) e DP</th>\n      <th>sd_SM</th>\n      <th>BM (Estação Pedro do Rio)</th>\n      <th>Série Histórica (2007-2019) e DP.1</th>\n      <th>sd_BM</th>\n      <th>SB (Estação PARNASO)</th>\n      <th>Série Histórica (2007-2019) e DP.2</th>\n      <th>sd_SB</th>\n    </tr>\n  </thead>\n  <tbody>\n    <tr>\n      <th>0</th>\n      <td>fev/20</td>\n      <td>336.0</td>\n      <td>119.91</td>\n      <td>58.82</td>\n      <td>316.8</td>\n      <td>140.16</td>\n      <td>66.45</td>\n      <td>299.2</td>\n      <td>202.35</td>\n      <td>118.87</td>\n    </tr>\n    <tr>\n      <th>1</th>\n      <td>jan/20</td>\n      <td>514.4</td>\n      <td>177.99</td>\n      <td>140.34</td>\n      <td>269.0</td>\n      <td>260.84</td>\n      <td>85.93</td>\n      <td>590.8</td>\n      <td>411.87</td>\n      <td>186.21</td>\n    </tr>\n    <tr>\n      <th>2</th>\n      <td>dez/19</td>\n      <td>235.8</td>\n      <td>283.67</td>\n      <td>122.68</td>\n      <td>248.7</td>\n      <td>202.29</td>\n      <td>87.54</td>\n      <td>335.4</td>\n      <td>398.80</td>\n      <td>146.73</td>\n    </tr>\n    <tr>\n      <th>3</th>\n      <td>nov/19</td>\n      <td>319.0</td>\n      <td>225.65</td>\n      <td>95.26</td>\n      <td>106.5</td>\n      <td>184.39</td>\n      <td>54.65</td>\n      <td>358.6</td>\n      <td>410.75</td>\n      <td>114.02</td>\n    </tr>\n    <tr>\n      <th>4</th>\n      <td>out/19</td>\n      <td>57.6</td>\n      <td>96.50</td>\n      <td>41.64</td>\n      <td>109.6</td>\n      <td>96.72</td>\n      <td>47.40</td>\n      <td>142.8</td>\n      <td>230.74</td>\n      <td>106.18</td>\n    </tr>\n  </tbody>\n</table>\n</div>"
     },
     "metadata": {},
     "execution_count": 4
    }
   ],
   "source": [
    "import pandas as pd\n",
    "\n",
    "df2 = pd.read_csv(data, sep=';')\n",
    "df2.head()"
   ]
  },
  {
   "cell_type": "code",
   "execution_count": 5,
   "metadata": {},
   "outputs": [
    {
     "output_type": "execute_result",
     "data": {
      "text/plain": [
       "       mês  SM (Estação Caparaó)  Série Histórica (2007-2019) e DP   sd_SM  \\\n",
       "25  jan/18                 147.2                            177.99  140.34   \n",
       "24  fev/18                 210.1                            119.91   58.82   \n",
       "23  mar/18                 406.3                            185.92  120.95   \n",
       "22  abr/18                 155.6                             96.65   38.76   \n",
       "21  mai/18                  35.7                             45.13   35.84   \n",
       "\n",
       "    BM (Estação Pedro do Rio)  Série Histórica (2007-2019) e DP.1   sd_BM  \\\n",
       "25                      255.9                              260.84  130.54   \n",
       "24                      166.7                              140.16   66.45   \n",
       "23                      243.6                              179.23   63.64   \n",
       "22                       86.5                               62.93   30.26   \n",
       "21                       40.6                               38.41   19.32   \n",
       "\n",
       "    SB (Estação PARNASO)  Série Histórica (2007-2019) e DP.2   sd_SB  \n",
       "25                 491.8                              411.87  186.21  \n",
       "24                 299.2                              202.35  118.87  \n",
       "23                 533.4                              371.11  147.03  \n",
       "22                 218.0                              244.45  100.81  \n",
       "21                 241.0                              150.19   69.94  "
      ],
      "text/html": "<div>\n<style scoped>\n    .dataframe tbody tr th:only-of-type {\n        vertical-align: middle;\n    }\n\n    .dataframe tbody tr th {\n        vertical-align: top;\n    }\n\n    .dataframe thead th {\n        text-align: right;\n    }\n</style>\n<table border=\"1\" class=\"dataframe\">\n  <thead>\n    <tr style=\"text-align: right;\">\n      <th></th>\n      <th>mês</th>\n      <th>SM (Estação Caparaó)</th>\n      <th>Série Histórica (2007-2019) e DP</th>\n      <th>sd_SM</th>\n      <th>BM (Estação Pedro do Rio)</th>\n      <th>Série Histórica (2007-2019) e DP.1</th>\n      <th>sd_BM</th>\n      <th>SB (Estação PARNASO)</th>\n      <th>Série Histórica (2007-2019) e DP.2</th>\n      <th>sd_SB</th>\n    </tr>\n  </thead>\n  <tbody>\n    <tr>\n      <th>25</th>\n      <td>jan/18</td>\n      <td>147.2</td>\n      <td>177.99</td>\n      <td>140.34</td>\n      <td>255.9</td>\n      <td>260.84</td>\n      <td>130.54</td>\n      <td>491.8</td>\n      <td>411.87</td>\n      <td>186.21</td>\n    </tr>\n    <tr>\n      <th>24</th>\n      <td>fev/18</td>\n      <td>210.1</td>\n      <td>119.91</td>\n      <td>58.82</td>\n      <td>166.7</td>\n      <td>140.16</td>\n      <td>66.45</td>\n      <td>299.2</td>\n      <td>202.35</td>\n      <td>118.87</td>\n    </tr>\n    <tr>\n      <th>23</th>\n      <td>mar/18</td>\n      <td>406.3</td>\n      <td>185.92</td>\n      <td>120.95</td>\n      <td>243.6</td>\n      <td>179.23</td>\n      <td>63.64</td>\n      <td>533.4</td>\n      <td>371.11</td>\n      <td>147.03</td>\n    </tr>\n    <tr>\n      <th>22</th>\n      <td>abr/18</td>\n      <td>155.6</td>\n      <td>96.65</td>\n      <td>38.76</td>\n      <td>86.5</td>\n      <td>62.93</td>\n      <td>30.26</td>\n      <td>218.0</td>\n      <td>244.45</td>\n      <td>100.81</td>\n    </tr>\n    <tr>\n      <th>21</th>\n      <td>mai/18</td>\n      <td>35.7</td>\n      <td>45.13</td>\n      <td>35.84</td>\n      <td>40.6</td>\n      <td>38.41</td>\n      <td>19.32</td>\n      <td>241.0</td>\n      <td>150.19</td>\n      <td>69.94</td>\n    </tr>\n  </tbody>\n</table>\n</div>"
     },
     "metadata": {},
     "execution_count": 5
    }
   ],
   "source": [
    "# invertendo o dataframe\n",
    "df2 = df2.reindex(index=df2.index[::-1])\n",
    "df2.head()"
   ]
  },
  {
   "cell_type": "code",
   "execution_count": 6,
   "metadata": {},
   "outputs": [
    {
     "output_type": "execute_result",
     "data": {
      "text/plain": [
       "       mês  SM (Estação Caparaó)   sh_SM   sd_SM  BM (Estação Pedro do Rio)  \\\n",
       "25  jan/18                 147.2  177.99  140.34                      255.9   \n",
       "24  fev/18                 210.1  119.91   58.82                      166.7   \n",
       "23  mar/18                 406.3  185.92  120.95                      243.6   \n",
       "22  abr/18                 155.6   96.65   38.76                       86.5   \n",
       "21  mai/18                  35.7   45.13   35.84                       40.6   \n",
       "\n",
       "     sh_BM   sd_BM  SB (Estação PARNASO)   sh_SB   sd_SB  \n",
       "25  260.84  130.54                 491.8  411.87  186.21  \n",
       "24  140.16   66.45                 299.2  202.35  118.87  \n",
       "23  179.23   63.64                 533.4  371.11  147.03  \n",
       "22   62.93   30.26                 218.0  244.45  100.81  \n",
       "21   38.41   19.32                 241.0  150.19   69.94  "
      ],
      "text/html": "<div>\n<style scoped>\n    .dataframe tbody tr th:only-of-type {\n        vertical-align: middle;\n    }\n\n    .dataframe tbody tr th {\n        vertical-align: top;\n    }\n\n    .dataframe thead th {\n        text-align: right;\n    }\n</style>\n<table border=\"1\" class=\"dataframe\">\n  <thead>\n    <tr style=\"text-align: right;\">\n      <th></th>\n      <th>mês</th>\n      <th>SM (Estação Caparaó)</th>\n      <th>sh_SM</th>\n      <th>sd_SM</th>\n      <th>BM (Estação Pedro do Rio)</th>\n      <th>sh_BM</th>\n      <th>sd_BM</th>\n      <th>SB (Estação PARNASO)</th>\n      <th>sh_SB</th>\n      <th>sd_SB</th>\n    </tr>\n  </thead>\n  <tbody>\n    <tr>\n      <th>25</th>\n      <td>jan/18</td>\n      <td>147.2</td>\n      <td>177.99</td>\n      <td>140.34</td>\n      <td>255.9</td>\n      <td>260.84</td>\n      <td>130.54</td>\n      <td>491.8</td>\n      <td>411.87</td>\n      <td>186.21</td>\n    </tr>\n    <tr>\n      <th>24</th>\n      <td>fev/18</td>\n      <td>210.1</td>\n      <td>119.91</td>\n      <td>58.82</td>\n      <td>166.7</td>\n      <td>140.16</td>\n      <td>66.45</td>\n      <td>299.2</td>\n      <td>202.35</td>\n      <td>118.87</td>\n    </tr>\n    <tr>\n      <th>23</th>\n      <td>mar/18</td>\n      <td>406.3</td>\n      <td>185.92</td>\n      <td>120.95</td>\n      <td>243.6</td>\n      <td>179.23</td>\n      <td>63.64</td>\n      <td>533.4</td>\n      <td>371.11</td>\n      <td>147.03</td>\n    </tr>\n    <tr>\n      <th>22</th>\n      <td>abr/18</td>\n      <td>155.6</td>\n      <td>96.65</td>\n      <td>38.76</td>\n      <td>86.5</td>\n      <td>62.93</td>\n      <td>30.26</td>\n      <td>218.0</td>\n      <td>244.45</td>\n      <td>100.81</td>\n    </tr>\n    <tr>\n      <th>21</th>\n      <td>mai/18</td>\n      <td>35.7</td>\n      <td>45.13</td>\n      <td>35.84</td>\n      <td>40.6</td>\n      <td>38.41</td>\n      <td>19.32</td>\n      <td>241.0</td>\n      <td>150.19</td>\n      <td>69.94</td>\n    </tr>\n  </tbody>\n</table>\n</div>"
     },
     "metadata": {},
     "execution_count": 6
    }
   ],
   "source": [
    "# renomeando as séries históricas\n",
    "df2.rename(columns={'Série Histórica (2007-2019) e DP': 'sh_SM', 'Série Histórica (2007-2019) e DP.1': 'sh_BM', 'Série Histórica (2007-2019) e DP.2': 'sh_SB'}, inplace=True)\n",
    "df2.head()"
   ]
  },
  {
   "source": [
    "# Criando o 1º gráfico"
   ],
   "cell_type": "markdown",
   "metadata": {}
  },
  {
   "cell_type": "code",
   "execution_count": 8,
   "metadata": {},
   "outputs": [
    {
     "output_type": "display_data",
     "data": {
      "application/vnd.plotly.v1+json": {
       "config": {
        "plotlyServerURL": "https://plotly.com"
       },
       "data": [
        {
         "error_y": {
          "array": [
           229.7,
           null,
           null
          ],
          "type": "data"
         },
         "marker": {
          "color": "rgb(0, 153, 216)"
         },
         "name": "Bonfim",
         "type": "bar",
         "x": [
          "Média Anual - BM\n(2007 - 2019)",
          "BM \n(E. Pedro do Rio) ",
          "BM \n(E. Bonfim)"
         ],
         "y": [
          1262.7,
          1189.3,
          1195.8
         ]
        },
        {
         "error_y": {
          "array": [
           467.8,
           null
          ],
          "type": "data"
         },
         "marker": {
          "color": "rgb(0, 90, 74)"
         },
         "name": "Soberbo",
         "type": "bar",
         "x": [
          "Média Anual - SB\n(2007 - 2019)",
          "SB \n(E. Parnaso)"
         ],
         "y": [
          2837.6,
          3055.4
         ]
        },
        {
         "error_y": {
          "array": [
           278.5,
           null,
           null
          ],
          "type": "data"
         },
         "marker": {
          "color": "rgb(86, 34, 18)"
         },
         "name": "Santa Marta",
         "type": "bar",
         "x": [
          "Média Anual - SM\n(2007 - 2019)",
          "SM \n(E. Santa Marta)",
          "SM \n(E. Caparaó)"
         ],
         "y": [
          1317.9,
          1590.1,
          1171.5
         ]
        }
       ],
       "layout": {
        "font": {
         "family": "Open Sans"
        },
        "template": {
         "data": {
          "bar": [
           {
            "error_x": {
             "color": "#2a3f5f"
            },
            "error_y": {
             "color": "#2a3f5f"
            },
            "marker": {
             "line": {
              "color": "#E5ECF6",
              "width": 0.5
             }
            },
            "type": "bar"
           }
          ],
          "barpolar": [
           {
            "marker": {
             "line": {
              "color": "#E5ECF6",
              "width": 0.5
             }
            },
            "type": "barpolar"
           }
          ],
          "carpet": [
           {
            "aaxis": {
             "endlinecolor": "#2a3f5f",
             "gridcolor": "white",
             "linecolor": "white",
             "minorgridcolor": "white",
             "startlinecolor": "#2a3f5f"
            },
            "baxis": {
             "endlinecolor": "#2a3f5f",
             "gridcolor": "white",
             "linecolor": "white",
             "minorgridcolor": "white",
             "startlinecolor": "#2a3f5f"
            },
            "type": "carpet"
           }
          ],
          "choropleth": [
           {
            "colorbar": {
             "outlinewidth": 0,
             "ticks": ""
            },
            "type": "choropleth"
           }
          ],
          "contour": [
           {
            "colorbar": {
             "outlinewidth": 0,
             "ticks": ""
            },
            "colorscale": [
             [
              0,
              "#0d0887"
             ],
             [
              0.1111111111111111,
              "#46039f"
             ],
             [
              0.2222222222222222,
              "#7201a8"
             ],
             [
              0.3333333333333333,
              "#9c179e"
             ],
             [
              0.4444444444444444,
              "#bd3786"
             ],
             [
              0.5555555555555556,
              "#d8576b"
             ],
             [
              0.6666666666666666,
              "#ed7953"
             ],
             [
              0.7777777777777778,
              "#fb9f3a"
             ],
             [
              0.8888888888888888,
              "#fdca26"
             ],
             [
              1,
              "#f0f921"
             ]
            ],
            "type": "contour"
           }
          ],
          "contourcarpet": [
           {
            "colorbar": {
             "outlinewidth": 0,
             "ticks": ""
            },
            "type": "contourcarpet"
           }
          ],
          "heatmap": [
           {
            "colorbar": {
             "outlinewidth": 0,
             "ticks": ""
            },
            "colorscale": [
             [
              0,
              "#0d0887"
             ],
             [
              0.1111111111111111,
              "#46039f"
             ],
             [
              0.2222222222222222,
              "#7201a8"
             ],
             [
              0.3333333333333333,
              "#9c179e"
             ],
             [
              0.4444444444444444,
              "#bd3786"
             ],
             [
              0.5555555555555556,
              "#d8576b"
             ],
             [
              0.6666666666666666,
              "#ed7953"
             ],
             [
              0.7777777777777778,
              "#fb9f3a"
             ],
             [
              0.8888888888888888,
              "#fdca26"
             ],
             [
              1,
              "#f0f921"
             ]
            ],
            "type": "heatmap"
           }
          ],
          "heatmapgl": [
           {
            "colorbar": {
             "outlinewidth": 0,
             "ticks": ""
            },
            "colorscale": [
             [
              0,
              "#0d0887"
             ],
             [
              0.1111111111111111,
              "#46039f"
             ],
             [
              0.2222222222222222,
              "#7201a8"
             ],
             [
              0.3333333333333333,
              "#9c179e"
             ],
             [
              0.4444444444444444,
              "#bd3786"
             ],
             [
              0.5555555555555556,
              "#d8576b"
             ],
             [
              0.6666666666666666,
              "#ed7953"
             ],
             [
              0.7777777777777778,
              "#fb9f3a"
             ],
             [
              0.8888888888888888,
              "#fdca26"
             ],
             [
              1,
              "#f0f921"
             ]
            ],
            "type": "heatmapgl"
           }
          ],
          "histogram": [
           {
            "marker": {
             "colorbar": {
              "outlinewidth": 0,
              "ticks": ""
             }
            },
            "type": "histogram"
           }
          ],
          "histogram2d": [
           {
            "colorbar": {
             "outlinewidth": 0,
             "ticks": ""
            },
            "colorscale": [
             [
              0,
              "#0d0887"
             ],
             [
              0.1111111111111111,
              "#46039f"
             ],
             [
              0.2222222222222222,
              "#7201a8"
             ],
             [
              0.3333333333333333,
              "#9c179e"
             ],
             [
              0.4444444444444444,
              "#bd3786"
             ],
             [
              0.5555555555555556,
              "#d8576b"
             ],
             [
              0.6666666666666666,
              "#ed7953"
             ],
             [
              0.7777777777777778,
              "#fb9f3a"
             ],
             [
              0.8888888888888888,
              "#fdca26"
             ],
             [
              1,
              "#f0f921"
             ]
            ],
            "type": "histogram2d"
           }
          ],
          "histogram2dcontour": [
           {
            "colorbar": {
             "outlinewidth": 0,
             "ticks": ""
            },
            "colorscale": [
             [
              0,
              "#0d0887"
             ],
             [
              0.1111111111111111,
              "#46039f"
             ],
             [
              0.2222222222222222,
              "#7201a8"
             ],
             [
              0.3333333333333333,
              "#9c179e"
             ],
             [
              0.4444444444444444,
              "#bd3786"
             ],
             [
              0.5555555555555556,
              "#d8576b"
             ],
             [
              0.6666666666666666,
              "#ed7953"
             ],
             [
              0.7777777777777778,
              "#fb9f3a"
             ],
             [
              0.8888888888888888,
              "#fdca26"
             ],
             [
              1,
              "#f0f921"
             ]
            ],
            "type": "histogram2dcontour"
           }
          ],
          "mesh3d": [
           {
            "colorbar": {
             "outlinewidth": 0,
             "ticks": ""
            },
            "type": "mesh3d"
           }
          ],
          "parcoords": [
           {
            "line": {
             "colorbar": {
              "outlinewidth": 0,
              "ticks": ""
             }
            },
            "type": "parcoords"
           }
          ],
          "pie": [
           {
            "automargin": true,
            "type": "pie"
           }
          ],
          "scatter": [
           {
            "marker": {
             "colorbar": {
              "outlinewidth": 0,
              "ticks": ""
             }
            },
            "type": "scatter"
           }
          ],
          "scatter3d": [
           {
            "line": {
             "colorbar": {
              "outlinewidth": 0,
              "ticks": ""
             }
            },
            "marker": {
             "colorbar": {
              "outlinewidth": 0,
              "ticks": ""
             }
            },
            "type": "scatter3d"
           }
          ],
          "scattercarpet": [
           {
            "marker": {
             "colorbar": {
              "outlinewidth": 0,
              "ticks": ""
             }
            },
            "type": "scattercarpet"
           }
          ],
          "scattergeo": [
           {
            "marker": {
             "colorbar": {
              "outlinewidth": 0,
              "ticks": ""
             }
            },
            "type": "scattergeo"
           }
          ],
          "scattergl": [
           {
            "marker": {
             "colorbar": {
              "outlinewidth": 0,
              "ticks": ""
             }
            },
            "type": "scattergl"
           }
          ],
          "scattermapbox": [
           {
            "marker": {
             "colorbar": {
              "outlinewidth": 0,
              "ticks": ""
             }
            },
            "type": "scattermapbox"
           }
          ],
          "scatterpolar": [
           {
            "marker": {
             "colorbar": {
              "outlinewidth": 0,
              "ticks": ""
             }
            },
            "type": "scatterpolar"
           }
          ],
          "scatterpolargl": [
           {
            "marker": {
             "colorbar": {
              "outlinewidth": 0,
              "ticks": ""
             }
            },
            "type": "scatterpolargl"
           }
          ],
          "scatterternary": [
           {
            "marker": {
             "colorbar": {
              "outlinewidth": 0,
              "ticks": ""
             }
            },
            "type": "scatterternary"
           }
          ],
          "surface": [
           {
            "colorbar": {
             "outlinewidth": 0,
             "ticks": ""
            },
            "colorscale": [
             [
              0,
              "#0d0887"
             ],
             [
              0.1111111111111111,
              "#46039f"
             ],
             [
              0.2222222222222222,
              "#7201a8"
             ],
             [
              0.3333333333333333,
              "#9c179e"
             ],
             [
              0.4444444444444444,
              "#bd3786"
             ],
             [
              0.5555555555555556,
              "#d8576b"
             ],
             [
              0.6666666666666666,
              "#ed7953"
             ],
             [
              0.7777777777777778,
              "#fb9f3a"
             ],
             [
              0.8888888888888888,
              "#fdca26"
             ],
             [
              1,
              "#f0f921"
             ]
            ],
            "type": "surface"
           }
          ],
          "table": [
           {
            "cells": {
             "fill": {
              "color": "#EBF0F8"
             },
             "line": {
              "color": "white"
             }
            },
            "header": {
             "fill": {
              "color": "#C8D4E3"
             },
             "line": {
              "color": "white"
             }
            },
            "type": "table"
           }
          ]
         },
         "layout": {
          "annotationdefaults": {
           "arrowcolor": "#2a3f5f",
           "arrowhead": 0,
           "arrowwidth": 1
          },
          "coloraxis": {
           "colorbar": {
            "outlinewidth": 0,
            "ticks": ""
           }
          },
          "colorscale": {
           "diverging": [
            [
             0,
             "#8e0152"
            ],
            [
             0.1,
             "#c51b7d"
            ],
            [
             0.2,
             "#de77ae"
            ],
            [
             0.3,
             "#f1b6da"
            ],
            [
             0.4,
             "#fde0ef"
            ],
            [
             0.5,
             "#f7f7f7"
            ],
            [
             0.6,
             "#e6f5d0"
            ],
            [
             0.7,
             "#b8e186"
            ],
            [
             0.8,
             "#7fbc41"
            ],
            [
             0.9,
             "#4d9221"
            ],
            [
             1,
             "#276419"
            ]
           ],
           "sequential": [
            [
             0,
             "#0d0887"
            ],
            [
             0.1111111111111111,
             "#46039f"
            ],
            [
             0.2222222222222222,
             "#7201a8"
            ],
            [
             0.3333333333333333,
             "#9c179e"
            ],
            [
             0.4444444444444444,
             "#bd3786"
            ],
            [
             0.5555555555555556,
             "#d8576b"
            ],
            [
             0.6666666666666666,
             "#ed7953"
            ],
            [
             0.7777777777777778,
             "#fb9f3a"
            ],
            [
             0.8888888888888888,
             "#fdca26"
            ],
            [
             1,
             "#f0f921"
            ]
           ],
           "sequentialminus": [
            [
             0,
             "#0d0887"
            ],
            [
             0.1111111111111111,
             "#46039f"
            ],
            [
             0.2222222222222222,
             "#7201a8"
            ],
            [
             0.3333333333333333,
             "#9c179e"
            ],
            [
             0.4444444444444444,
             "#bd3786"
            ],
            [
             0.5555555555555556,
             "#d8576b"
            ],
            [
             0.6666666666666666,
             "#ed7953"
            ],
            [
             0.7777777777777778,
             "#fb9f3a"
            ],
            [
             0.8888888888888888,
             "#fdca26"
            ],
            [
             1,
             "#f0f921"
            ]
           ]
          },
          "colorway": [
           "#636efa",
           "#EF553B",
           "#00cc96",
           "#ab63fa",
           "#FFA15A",
           "#19d3f3",
           "#FF6692",
           "#B6E880",
           "#FF97FF",
           "#FECB52"
          ],
          "font": {
           "color": "#2a3f5f"
          },
          "geo": {
           "bgcolor": "white",
           "lakecolor": "white",
           "landcolor": "#E5ECF6",
           "showlakes": true,
           "showland": true,
           "subunitcolor": "white"
          },
          "hoverlabel": {
           "align": "left"
          },
          "hovermode": "closest",
          "mapbox": {
           "style": "light"
          },
          "paper_bgcolor": "white",
          "plot_bgcolor": "#E5ECF6",
          "polar": {
           "angularaxis": {
            "gridcolor": "white",
            "linecolor": "white",
            "ticks": ""
           },
           "bgcolor": "#E5ECF6",
           "radialaxis": {
            "gridcolor": "white",
            "linecolor": "white",
            "ticks": ""
           }
          },
          "scene": {
           "xaxis": {
            "backgroundcolor": "#E5ECF6",
            "gridcolor": "white",
            "gridwidth": 2,
            "linecolor": "white",
            "showbackground": true,
            "ticks": "",
            "zerolinecolor": "white"
           },
           "yaxis": {
            "backgroundcolor": "#E5ECF6",
            "gridcolor": "white",
            "gridwidth": 2,
            "linecolor": "white",
            "showbackground": true,
            "ticks": "",
            "zerolinecolor": "white"
           },
           "zaxis": {
            "backgroundcolor": "#E5ECF6",
            "gridcolor": "white",
            "gridwidth": 2,
            "linecolor": "white",
            "showbackground": true,
            "ticks": "",
            "zerolinecolor": "white"
           }
          },
          "shapedefaults": {
           "line": {
            "color": "#2a3f5f"
           }
          },
          "ternary": {
           "aaxis": {
            "gridcolor": "white",
            "linecolor": "white",
            "ticks": ""
           },
           "baxis": {
            "gridcolor": "white",
            "linecolor": "white",
            "ticks": ""
           },
           "bgcolor": "#E5ECF6",
           "caxis": {
            "gridcolor": "white",
            "linecolor": "white",
            "ticks": ""
           }
          },
          "title": {
           "x": 0.05
          },
          "xaxis": {
           "automargin": true,
           "gridcolor": "white",
           "linecolor": "white",
           "ticks": "",
           "title": {
            "standoff": 15
           },
           "zerolinecolor": "white",
           "zerolinewidth": 2
          },
          "yaxis": {
           "automargin": true,
           "gridcolor": "white",
           "linecolor": "white",
           "ticks": "",
           "title": {
            "standoff": 15
           },
           "zerolinecolor": "white",
           "zerolinewidth": 2
          }
         }
        },
        "xaxis": {
         "tickfont": {
          "size": 14
         }
        },
        "yaxis": {
         "tickfont": {
          "size": 14
         },
         "title": {
          "font": {
           "size": 16
          },
          "text": "<b>Precipitação no ano de 2019 (mm)"
         }
        }
       }
      }
     },
     "metadata": {}
    }
   ],
   "source": [
    "import plotly.graph_objects as go\n",
    "\n",
    "fig = go.Figure()\n",
    "\n",
    "fig.add_trace(go.Bar(name='Bonfim',x=df.estacao[:3], y=df.chuva[:3], marker_color='rgb(0, 153, 216)', error_y=dict(type='data', array=df.sd[:3])\n",
    "))\n",
    "fig.add_trace(go.Bar(name='Soberbo',x=df.estacao[3:5], y=df.chuva[3:5], marker_color='rgb(0, 90, 74)', error_y=dict(type='data', array=df.sd[3:5])\n",
    "))\n",
    "fig.add_trace(go.Bar(name='Santa Marta',x=df.estacao[5:8], y=df.chuva[5:8], marker_color='rgb(86, 34, 18)', error_y=dict(type='data', array=df.sd[5:8])\n",
    "))\n",
    "fig.update_layout(font_family='Open Sans',  xaxis_tickfont_size=14, yaxis=dict(title='<b>Precipitação no ano de 2019 (mm)', titlefont_size=16, tickfont_size=14\n",
    "))\n",
    "fig.show()"
   ]
  },
  {
   "source": [
    "# Criando o 2º gráfico"
   ],
   "cell_type": "markdown",
   "metadata": {}
  },
  {
   "cell_type": "code",
   "execution_count": 14,
   "metadata": {},
   "outputs": [
    {
     "output_type": "display_data",
     "data": {
      "application/vnd.plotly.v1+json": {
       "config": {
        "plotlyServerURL": "https://plotly.com"
       },
       "data": [
        {
         "marker": {
          "color": "rgb(0, 153, 216)"
         },
         "name": "BM (Estação Pedro do Rio)",
         "type": "bar",
         "x": [
          "jan/18",
          "fev/18",
          "mar/18",
          "abr/18",
          "mai/18",
          "jun/18",
          "jul/18",
          "ago/18",
          "set/18",
          "out/18",
          "nov/18",
          "dez/18",
          "jan/19",
          "fev/19",
          "mar/19",
          "abr/19",
          "mai/19",
          "jun/19",
          "jul/19",
          "ago/19",
          "set/19",
          "out/19",
          "nov/19",
          "dez/19",
          "jan/20",
          "fev/20"
         ],
         "y": [
          255.9,
          166.7,
          243.6,
          86.5,
          40.6,
          2.8,
          6.1,
          69.5,
          114,
          44.5,
          113.8,
          68.9,
          149.4,
          237.2,
          127.5,
          39.6,
          51,
          30.9,
          10.6,
          8.4,
          69.9,
          109.6,
          106.5,
          248.7,
          269,
          316.8
         ]
        },
        {
         "error_y": {
          "array": [
           130.54,
           66.45,
           63.64,
           30.26,
           19.32,
           23.16,
           20.68,
           17.79,
           35.74,
           47.4,
           54.65,
           87.54,
           85.93,
           66.45,
           63.64,
           30.26,
           19.32,
           23.16,
           20.68,
           17.79,
           35.74,
           47.4,
           54.65,
           87.54,
           85.93,
           66.45
          ],
          "color": "black",
          "type": "data"
         },
         "line": {
          "color": "rgb(0, 153, 216)",
          "width": 3
         },
         "name": "Série Histórica (2007-2019)",
         "type": "scatter",
         "visible": "legendonly",
         "x": [
          "jan/18",
          "fev/18",
          "mar/18",
          "abr/18",
          "mai/18",
          "jun/18",
          "jul/18",
          "ago/18",
          "set/18",
          "out/18",
          "nov/18",
          "dez/18",
          "jan/19",
          "fev/19",
          "mar/19",
          "abr/19",
          "mai/19",
          "jun/19",
          "jul/19",
          "ago/19",
          "set/19",
          "out/19",
          "nov/19",
          "dez/19",
          "jan/20",
          "fev/20"
         ],
         "y": [
          260.84,
          140.16,
          179.23,
          62.93,
          38.41,
          25.74,
          20.77,
          14.78,
          48.86,
          96.72,
          184.39,
          202.29,
          260.84,
          140.16,
          179.23,
          62.93,
          38.41,
          25.74,
          20.77,
          14.78,
          48.86,
          96.72,
          184.39,
          202.29,
          260.84,
          140.16
         ]
        },
        {
         "marker": {
          "color": "rgb(0, 90, 74)"
         },
         "name": "SB (Estação PARNASO)",
         "type": "bar",
         "x": [
          "jan/18",
          "fev/18",
          "mar/18",
          "abr/18",
          "mai/18",
          "jun/18",
          "jul/18",
          "ago/18",
          "set/18",
          "out/18",
          "nov/18",
          "dez/18",
          "jan/19",
          "fev/19",
          "mar/19",
          "abr/19",
          "mai/19",
          "jun/19",
          "jul/19",
          "ago/19",
          "set/19",
          "out/19",
          "nov/19",
          "dez/19",
          "jan/20",
          "fev/20"
         ],
         "y": [
          491.8,
          299.2,
          533.4,
          218,
          241,
          84.4,
          56.8,
          141.4,
          115.4,
          300.8,
          348.6,
          426.6,
          230,
          396.4,
          569,
          196.8,
          313.8,
          38.8,
          31.2,
          181.8,
          260.8,
          142.8,
          358.6,
          335.4,
          590.8,
          299.2
         ]
        },
        {
         "error_y": {
          "array": [
           186.21,
           118.87,
           147.03,
           100.81,
           69.94,
           59.44,
           59.29,
           52.27,
           61.05,
           106.18,
           114.02,
           146.73,
           186.21,
           118.87,
           147.03,
           100.81,
           69.94,
           59.44,
           59.29,
           52.27,
           61.05,
           106.18,
           114.02,
           146.73,
           186.21,
           118.87
          ],
          "color": "black",
          "type": "data"
         },
         "line": {
          "color": "rgb(0, 90, 74)",
          "width": 3
         },
         "name": "Série Histórica (2007-2019)",
         "type": "scatter",
         "visible": "legendonly",
         "x": [
          "jan/18",
          "fev/18",
          "mar/18",
          "abr/18",
          "mai/18",
          "jun/18",
          "jul/18",
          "ago/18",
          "set/18",
          "out/18",
          "nov/18",
          "dez/18",
          "jan/19",
          "fev/19",
          "mar/19",
          "abr/19",
          "mai/19",
          "jun/19",
          "jul/19",
          "ago/19",
          "set/19",
          "out/19",
          "nov/19",
          "dez/19",
          "jan/20",
          "fev/20"
         ],
         "y": [
          411.87,
          202.35,
          371.11,
          244.45,
          150.19,
          105.96,
          84.58,
          87.54,
          136.82,
          230.74,
          410.75,
          398.8,
          411.87,
          202.35,
          371.11,
          244.45,
          150.19,
          105.96,
          84.58,
          87.54,
          136.82,
          230.74,
          410.75,
          398.8,
          411.87,
          202.35
         ]
        },
        {
         "marker": {
          "color": "rgb(86, 34, 18)"
         },
         "name": "SM (Estação Caparaó)",
         "type": "bar",
         "x": [
          "jan/18",
          "fev/18",
          "mar/18",
          "abr/18",
          "mai/18",
          "jun/18",
          "jul/18",
          "ago/18",
          "set/18",
          "out/18",
          "nov/18",
          "dez/18",
          "jan/19",
          "fev/19",
          "mar/19",
          "abr/19",
          "mai/19",
          "jun/19",
          "jul/19",
          "ago/19",
          "set/19",
          "out/19",
          "nov/19",
          "dez/19",
          "jan/20",
          "fev/20"
         ],
         "y": [
          147.2,
          210.1,
          406.3,
          155.6,
          35.7,
          0,
          1.6,
          73,
          53.9,
          141.1,
          164.7,
          248.5,
          7.8,
          180.6,
          158.8,
          149.4,
          23.5,
          3.5,
          0,
          14.1,
          21.4,
          57.6,
          319,
          235.8,
          514.4,
          336
         ]
        },
        {
         "error_y": {
          "array": [
           140.34,
           58.82,
           120.95,
           38.76,
           35.84,
           19.35,
           11.38,
           20.26,
           35.15,
           41.64,
           95.26,
           122.68,
           140.34,
           58.82,
           120.95,
           38.76,
           35.84,
           19.35,
           11.38,
           20.26,
           35.15,
           41.64,
           95.26,
           122.68,
           140.34,
           58.82
          ],
          "color": "black",
          "type": "data"
         },
         "line": {
          "color": "rgb(86, 34, 18)",
          "width": 3
         },
         "name": "Série Histórica (2007-2019)",
         "type": "scatter",
         "visible": "legendonly",
         "x": [
          "jan/18",
          "fev/18",
          "mar/18",
          "abr/18",
          "mai/18",
          "jun/18",
          "jul/18",
          "ago/18",
          "set/18",
          "out/18",
          "nov/18",
          "dez/18",
          "jan/19",
          "fev/19",
          "mar/19",
          "abr/19",
          "mai/19",
          "jun/19",
          "jul/19",
          "ago/19",
          "set/19",
          "out/19",
          "nov/19",
          "dez/19",
          "jan/20",
          "fev/20"
         ],
         "y": [
          177.99,
          119.91,
          185.92,
          96.65,
          45.13,
          14.25,
          9.25,
          17.01,
          44.54,
          96.5,
          225.65,
          283.67,
          177.99,
          119.91,
          185.92,
          96.65,
          45.13,
          14.25,
          9.25,
          17.01,
          44.54,
          96.5,
          225.65,
          283.67,
          177.99,
          119.91
         ]
        }
       ],
       "layout": {
        "barmode": "group",
        "font": {
         "family": "Open Sans"
        },
        "legend": {
         "orientation": "h",
         "x": 0.5,
         "xanchor": "center",
         "y": 1.05,
         "yanchor": "bottom"
        },
        "template": {
         "data": {
          "bar": [
           {
            "error_x": {
             "color": "#2a3f5f"
            },
            "error_y": {
             "color": "#2a3f5f"
            },
            "marker": {
             "line": {
              "color": "#E5ECF6",
              "width": 0.5
             }
            },
            "type": "bar"
           }
          ],
          "barpolar": [
           {
            "marker": {
             "line": {
              "color": "#E5ECF6",
              "width": 0.5
             }
            },
            "type": "barpolar"
           }
          ],
          "carpet": [
           {
            "aaxis": {
             "endlinecolor": "#2a3f5f",
             "gridcolor": "white",
             "linecolor": "white",
             "minorgridcolor": "white",
             "startlinecolor": "#2a3f5f"
            },
            "baxis": {
             "endlinecolor": "#2a3f5f",
             "gridcolor": "white",
             "linecolor": "white",
             "minorgridcolor": "white",
             "startlinecolor": "#2a3f5f"
            },
            "type": "carpet"
           }
          ],
          "choropleth": [
           {
            "colorbar": {
             "outlinewidth": 0,
             "ticks": ""
            },
            "type": "choropleth"
           }
          ],
          "contour": [
           {
            "colorbar": {
             "outlinewidth": 0,
             "ticks": ""
            },
            "colorscale": [
             [
              0,
              "#0d0887"
             ],
             [
              0.1111111111111111,
              "#46039f"
             ],
             [
              0.2222222222222222,
              "#7201a8"
             ],
             [
              0.3333333333333333,
              "#9c179e"
             ],
             [
              0.4444444444444444,
              "#bd3786"
             ],
             [
              0.5555555555555556,
              "#d8576b"
             ],
             [
              0.6666666666666666,
              "#ed7953"
             ],
             [
              0.7777777777777778,
              "#fb9f3a"
             ],
             [
              0.8888888888888888,
              "#fdca26"
             ],
             [
              1,
              "#f0f921"
             ]
            ],
            "type": "contour"
           }
          ],
          "contourcarpet": [
           {
            "colorbar": {
             "outlinewidth": 0,
             "ticks": ""
            },
            "type": "contourcarpet"
           }
          ],
          "heatmap": [
           {
            "colorbar": {
             "outlinewidth": 0,
             "ticks": ""
            },
            "colorscale": [
             [
              0,
              "#0d0887"
             ],
             [
              0.1111111111111111,
              "#46039f"
             ],
             [
              0.2222222222222222,
              "#7201a8"
             ],
             [
              0.3333333333333333,
              "#9c179e"
             ],
             [
              0.4444444444444444,
              "#bd3786"
             ],
             [
              0.5555555555555556,
              "#d8576b"
             ],
             [
              0.6666666666666666,
              "#ed7953"
             ],
             [
              0.7777777777777778,
              "#fb9f3a"
             ],
             [
              0.8888888888888888,
              "#fdca26"
             ],
             [
              1,
              "#f0f921"
             ]
            ],
            "type": "heatmap"
           }
          ],
          "heatmapgl": [
           {
            "colorbar": {
             "outlinewidth": 0,
             "ticks": ""
            },
            "colorscale": [
             [
              0,
              "#0d0887"
             ],
             [
              0.1111111111111111,
              "#46039f"
             ],
             [
              0.2222222222222222,
              "#7201a8"
             ],
             [
              0.3333333333333333,
              "#9c179e"
             ],
             [
              0.4444444444444444,
              "#bd3786"
             ],
             [
              0.5555555555555556,
              "#d8576b"
             ],
             [
              0.6666666666666666,
              "#ed7953"
             ],
             [
              0.7777777777777778,
              "#fb9f3a"
             ],
             [
              0.8888888888888888,
              "#fdca26"
             ],
             [
              1,
              "#f0f921"
             ]
            ],
            "type": "heatmapgl"
           }
          ],
          "histogram": [
           {
            "marker": {
             "colorbar": {
              "outlinewidth": 0,
              "ticks": ""
             }
            },
            "type": "histogram"
           }
          ],
          "histogram2d": [
           {
            "colorbar": {
             "outlinewidth": 0,
             "ticks": ""
            },
            "colorscale": [
             [
              0,
              "#0d0887"
             ],
             [
              0.1111111111111111,
              "#46039f"
             ],
             [
              0.2222222222222222,
              "#7201a8"
             ],
             [
              0.3333333333333333,
              "#9c179e"
             ],
             [
              0.4444444444444444,
              "#bd3786"
             ],
             [
              0.5555555555555556,
              "#d8576b"
             ],
             [
              0.6666666666666666,
              "#ed7953"
             ],
             [
              0.7777777777777778,
              "#fb9f3a"
             ],
             [
              0.8888888888888888,
              "#fdca26"
             ],
             [
              1,
              "#f0f921"
             ]
            ],
            "type": "histogram2d"
           }
          ],
          "histogram2dcontour": [
           {
            "colorbar": {
             "outlinewidth": 0,
             "ticks": ""
            },
            "colorscale": [
             [
              0,
              "#0d0887"
             ],
             [
              0.1111111111111111,
              "#46039f"
             ],
             [
              0.2222222222222222,
              "#7201a8"
             ],
             [
              0.3333333333333333,
              "#9c179e"
             ],
             [
              0.4444444444444444,
              "#bd3786"
             ],
             [
              0.5555555555555556,
              "#d8576b"
             ],
             [
              0.6666666666666666,
              "#ed7953"
             ],
             [
              0.7777777777777778,
              "#fb9f3a"
             ],
             [
              0.8888888888888888,
              "#fdca26"
             ],
             [
              1,
              "#f0f921"
             ]
            ],
            "type": "histogram2dcontour"
           }
          ],
          "mesh3d": [
           {
            "colorbar": {
             "outlinewidth": 0,
             "ticks": ""
            },
            "type": "mesh3d"
           }
          ],
          "parcoords": [
           {
            "line": {
             "colorbar": {
              "outlinewidth": 0,
              "ticks": ""
             }
            },
            "type": "parcoords"
           }
          ],
          "pie": [
           {
            "automargin": true,
            "type": "pie"
           }
          ],
          "scatter": [
           {
            "marker": {
             "colorbar": {
              "outlinewidth": 0,
              "ticks": ""
             }
            },
            "type": "scatter"
           }
          ],
          "scatter3d": [
           {
            "line": {
             "colorbar": {
              "outlinewidth": 0,
              "ticks": ""
             }
            },
            "marker": {
             "colorbar": {
              "outlinewidth": 0,
              "ticks": ""
             }
            },
            "type": "scatter3d"
           }
          ],
          "scattercarpet": [
           {
            "marker": {
             "colorbar": {
              "outlinewidth": 0,
              "ticks": ""
             }
            },
            "type": "scattercarpet"
           }
          ],
          "scattergeo": [
           {
            "marker": {
             "colorbar": {
              "outlinewidth": 0,
              "ticks": ""
             }
            },
            "type": "scattergeo"
           }
          ],
          "scattergl": [
           {
            "marker": {
             "colorbar": {
              "outlinewidth": 0,
              "ticks": ""
             }
            },
            "type": "scattergl"
           }
          ],
          "scattermapbox": [
           {
            "marker": {
             "colorbar": {
              "outlinewidth": 0,
              "ticks": ""
             }
            },
            "type": "scattermapbox"
           }
          ],
          "scatterpolar": [
           {
            "marker": {
             "colorbar": {
              "outlinewidth": 0,
              "ticks": ""
             }
            },
            "type": "scatterpolar"
           }
          ],
          "scatterpolargl": [
           {
            "marker": {
             "colorbar": {
              "outlinewidth": 0,
              "ticks": ""
             }
            },
            "type": "scatterpolargl"
           }
          ],
          "scatterternary": [
           {
            "marker": {
             "colorbar": {
              "outlinewidth": 0,
              "ticks": ""
             }
            },
            "type": "scatterternary"
           }
          ],
          "surface": [
           {
            "colorbar": {
             "outlinewidth": 0,
             "ticks": ""
            },
            "colorscale": [
             [
              0,
              "#0d0887"
             ],
             [
              0.1111111111111111,
              "#46039f"
             ],
             [
              0.2222222222222222,
              "#7201a8"
             ],
             [
              0.3333333333333333,
              "#9c179e"
             ],
             [
              0.4444444444444444,
              "#bd3786"
             ],
             [
              0.5555555555555556,
              "#d8576b"
             ],
             [
              0.6666666666666666,
              "#ed7953"
             ],
             [
              0.7777777777777778,
              "#fb9f3a"
             ],
             [
              0.8888888888888888,
              "#fdca26"
             ],
             [
              1,
              "#f0f921"
             ]
            ],
            "type": "surface"
           }
          ],
          "table": [
           {
            "cells": {
             "fill": {
              "color": "#EBF0F8"
             },
             "line": {
              "color": "white"
             }
            },
            "header": {
             "fill": {
              "color": "#C8D4E3"
             },
             "line": {
              "color": "white"
             }
            },
            "type": "table"
           }
          ]
         },
         "layout": {
          "annotationdefaults": {
           "arrowcolor": "#2a3f5f",
           "arrowhead": 0,
           "arrowwidth": 1
          },
          "coloraxis": {
           "colorbar": {
            "outlinewidth": 0,
            "ticks": ""
           }
          },
          "colorscale": {
           "diverging": [
            [
             0,
             "#8e0152"
            ],
            [
             0.1,
             "#c51b7d"
            ],
            [
             0.2,
             "#de77ae"
            ],
            [
             0.3,
             "#f1b6da"
            ],
            [
             0.4,
             "#fde0ef"
            ],
            [
             0.5,
             "#f7f7f7"
            ],
            [
             0.6,
             "#e6f5d0"
            ],
            [
             0.7,
             "#b8e186"
            ],
            [
             0.8,
             "#7fbc41"
            ],
            [
             0.9,
             "#4d9221"
            ],
            [
             1,
             "#276419"
            ]
           ],
           "sequential": [
            [
             0,
             "#0d0887"
            ],
            [
             0.1111111111111111,
             "#46039f"
            ],
            [
             0.2222222222222222,
             "#7201a8"
            ],
            [
             0.3333333333333333,
             "#9c179e"
            ],
            [
             0.4444444444444444,
             "#bd3786"
            ],
            [
             0.5555555555555556,
             "#d8576b"
            ],
            [
             0.6666666666666666,
             "#ed7953"
            ],
            [
             0.7777777777777778,
             "#fb9f3a"
            ],
            [
             0.8888888888888888,
             "#fdca26"
            ],
            [
             1,
             "#f0f921"
            ]
           ],
           "sequentialminus": [
            [
             0,
             "#0d0887"
            ],
            [
             0.1111111111111111,
             "#46039f"
            ],
            [
             0.2222222222222222,
             "#7201a8"
            ],
            [
             0.3333333333333333,
             "#9c179e"
            ],
            [
             0.4444444444444444,
             "#bd3786"
            ],
            [
             0.5555555555555556,
             "#d8576b"
            ],
            [
             0.6666666666666666,
             "#ed7953"
            ],
            [
             0.7777777777777778,
             "#fb9f3a"
            ],
            [
             0.8888888888888888,
             "#fdca26"
            ],
            [
             1,
             "#f0f921"
            ]
           ]
          },
          "colorway": [
           "#636efa",
           "#EF553B",
           "#00cc96",
           "#ab63fa",
           "#FFA15A",
           "#19d3f3",
           "#FF6692",
           "#B6E880",
           "#FF97FF",
           "#FECB52"
          ],
          "font": {
           "color": "#2a3f5f"
          },
          "geo": {
           "bgcolor": "white",
           "lakecolor": "white",
           "landcolor": "#E5ECF6",
           "showlakes": true,
           "showland": true,
           "subunitcolor": "white"
          },
          "hoverlabel": {
           "align": "left"
          },
          "hovermode": "closest",
          "mapbox": {
           "style": "light"
          },
          "paper_bgcolor": "white",
          "plot_bgcolor": "#E5ECF6",
          "polar": {
           "angularaxis": {
            "gridcolor": "white",
            "linecolor": "white",
            "ticks": ""
           },
           "bgcolor": "#E5ECF6",
           "radialaxis": {
            "gridcolor": "white",
            "linecolor": "white",
            "ticks": ""
           }
          },
          "scene": {
           "xaxis": {
            "backgroundcolor": "#E5ECF6",
            "gridcolor": "white",
            "gridwidth": 2,
            "linecolor": "white",
            "showbackground": true,
            "ticks": "",
            "zerolinecolor": "white"
           },
           "yaxis": {
            "backgroundcolor": "#E5ECF6",
            "gridcolor": "white",
            "gridwidth": 2,
            "linecolor": "white",
            "showbackground": true,
            "ticks": "",
            "zerolinecolor": "white"
           },
           "zaxis": {
            "backgroundcolor": "#E5ECF6",
            "gridcolor": "white",
            "gridwidth": 2,
            "linecolor": "white",
            "showbackground": true,
            "ticks": "",
            "zerolinecolor": "white"
           }
          },
          "shapedefaults": {
           "line": {
            "color": "#2a3f5f"
           }
          },
          "ternary": {
           "aaxis": {
            "gridcolor": "white",
            "linecolor": "white",
            "ticks": ""
           },
           "baxis": {
            "gridcolor": "white",
            "linecolor": "white",
            "ticks": ""
           },
           "bgcolor": "#E5ECF6",
           "caxis": {
            "gridcolor": "white",
            "linecolor": "white",
            "ticks": ""
           }
          },
          "title": {
           "x": 0.05
          },
          "xaxis": {
           "automargin": true,
           "gridcolor": "white",
           "linecolor": "white",
           "ticks": "",
           "title": {
            "standoff": 15
           },
           "zerolinecolor": "white",
           "zerolinewidth": 2
          },
          "yaxis": {
           "automargin": true,
           "gridcolor": "white",
           "linecolor": "white",
           "ticks": "",
           "title": {
            "standoff": 15
           },
           "zerolinecolor": "white",
           "zerolinewidth": 2
          }
         }
        },
        "xaxis": {
         "tickangle": -45,
         "tickfont": {
          "size": 14
         }
        },
        "yaxis": {
         "tickfont": {
          "size": 14
         },
         "title": {
          "font": {
           "size": 16
          },
          "text": "<b>Precipitação (mm)"
         }
        }
       }
      }
     },
     "metadata": {}
    }
   ],
   "source": [
    "import plotly.graph_objects as go\n",
    "\n",
    "blue = 'rgb(0, 153, 216)'\n",
    "green = 'rgb(0, 90, 74)'\n",
    "brown = 'rgb(86, 34, 18)'\n",
    "fig2 = go.Figure()\n",
    "\n",
    "fig2.add_trace(go.Bar(name='BM (Estação Pedro do Rio)', x=df2['mês'], y=df2['BM (Estação Pedro do Rio)'], marker=dict(color=blue)\n",
    "))\n",
    "\n",
    "fig2.add_trace(go.Scatter(name='Série Histórica (2007-2019)', x=df2['mês'], y=df2['sh_BM'], error_y=dict(color='black', type='data', array=df2['sd_BM'] ),line=dict(color=blue, width=3), visible='legendonly'\n",
    "))\n",
    "\n",
    "fig2.add_trace(go.Bar(name='SB (Estação PARNASO)',x=df2['mês'], y=df2['SB (Estação PARNASO)'], marker=dict(color=green)\n",
    "))\n",
    "\n",
    "fig2.add_trace(go.Scatter(name='Série Histórica (2007-2019)', x=df2['mês'], y=df2['sh_SB'], error_y=dict(color='black', type='data', array=df2['sd_SB']),line=dict(color=green, width=3), visible='legendonly'\n",
    "))\n",
    "\n",
    "fig2.add_trace(go.Bar(name='SM (Estação Caparaó)',x=df2['mês'], y=df2['SM (Estação Caparaó)'], marker=dict(color=brown)\n",
    "))\n",
    "\n",
    "fig2.add_trace(go.Scatter(name='Série Histórica (2007-2019)', x=df2['mês'], y=df2['sh_SM'], error_y=dict(color='black', type='data', array=df2['sd_SM']),line=dict(color=brown, width=3), visible='legendonly'\n",
    "))\n",
    "\n",
    "fig2.update_layout(barmode='group', xaxis_tickangle=-45, font_family='Open Sans', xaxis_tickfont_size=14, yaxis=dict(title='<b>Precipitação (mm)', titlefont_size=16, tickfont_size=14),\n",
    "legend=dict(orientation='h', xanchor='center', yanchor='bottom', x=0.5, y=1.05\n",
    "))\n",
    "\n",
    "fig2.show()"
   ]
  }
 ]
}