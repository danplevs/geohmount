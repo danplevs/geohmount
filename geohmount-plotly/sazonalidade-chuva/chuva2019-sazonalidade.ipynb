{
 "metadata": {
  "language_info": {
   "codemirror_mode": {
    "name": "ipython",
    "version": 3
   },
   "file_extension": ".py",
   "mimetype": "text/x-python",
   "name": "python",
   "nbconvert_exporter": "python",
   "pygments_lexer": "ipython3",
   "version": "3.8.5-final"
  },
  "orig_nbformat": 2,
  "kernelspec": {
   "name": "Python 3.8.5 64-bit",
   "display_name": "Python 3.8.5 64-bit",
   "metadata": {
    "interpreter": {
     "hash": "1f42090833967a15994965b03f816d2365f4c7ab523cacf46e37faa7668751c1"
    }
   }
  }
 },
 "nbformat": 4,
 "nbformat_minor": 2,
 "cells": [
  {
   "source": [
    "# Importando e tratando a base de dados"
   ],
   "cell_type": "markdown",
   "metadata": {}
  },
  {
   "source": [
    "><h1> Importação dos dados"
   ],
   "cell_type": "markdown",
   "metadata": {}
  },
  {
   "cell_type": "code",
   "execution_count": 15,
   "metadata": {},
   "outputs": [],
   "source": [
    "import requests\n",
    "from io import StringIO\n",
    "\n",
    "# parameters for the request\n",
    "owner = 'danplevs'\n",
    "token = '10972548eeae219489116329ded0f3850ddeec5a'\n",
    "repo = 'geohmount'\n",
    "path = 'geohmount-plotly/sazonalidade-chuva/chuva_2019.csv'\n",
    "\n",
    "# sending the request\n",
    "r = requests.get(f'https://api.github.com/repos/{owner}/{repo}/contents/{path}',\n",
    "    headers={\n",
    "        'accept': 'application/vnd.github.v3.raw',\n",
    "        'authorization': f'token {token}'\n",
    "            }\n",
    "    )\n",
    "\n",
    "#convert string to StringIO object\n",
    "data = StringIO(r.text)"
   ]
  },
  {
   "cell_type": "code",
   "execution_count": 16,
   "metadata": {},
   "outputs": [
    {
     "output_type": "execute_result",
     "data": {
      "text/plain": "                           estacao   chuva     sd\n0  Média Anual - BM\\n(2007 - 2019)  1262.7  229.7\n1          BM \\n(E. Pedro do Rio)   1189.3    NaN\n2                 BM \\n(E. Bonfim)  1195.8    NaN\n3  Média Anual - SB\\n(2007 - 2019)  2837.6  467.8\n4                SB \\n(E. Parnaso)  3055.4    NaN\n5  Média Anual - SM\\n(2007 - 2019)  1317.9  278.5\n6            SM \\n(E. Santa Marta)  1590.1    NaN\n7                SM \\n(E. Caparaó)  1171.5    NaN",
      "text/html": "<div>\n<style scoped>\n    .dataframe tbody tr th:only-of-type {\n        vertical-align: middle;\n    }\n\n    .dataframe tbody tr th {\n        vertical-align: top;\n    }\n\n    .dataframe thead th {\n        text-align: right;\n    }\n</style>\n<table border=\"1\" class=\"dataframe\">\n  <thead>\n    <tr style=\"text-align: right;\">\n      <th></th>\n      <th>estacao</th>\n      <th>chuva</th>\n      <th>sd</th>\n    </tr>\n  </thead>\n  <tbody>\n    <tr>\n      <th>0</th>\n      <td>Média Anual - BM\\n(2007 - 2019)</td>\n      <td>1262.7</td>\n      <td>229.7</td>\n    </tr>\n    <tr>\n      <th>1</th>\n      <td>BM \\n(E. Pedro do Rio)</td>\n      <td>1189.3</td>\n      <td>NaN</td>\n    </tr>\n    <tr>\n      <th>2</th>\n      <td>BM \\n(E. Bonfim)</td>\n      <td>1195.8</td>\n      <td>NaN</td>\n    </tr>\n    <tr>\n      <th>3</th>\n      <td>Média Anual - SB\\n(2007 - 2019)</td>\n      <td>2837.6</td>\n      <td>467.8</td>\n    </tr>\n    <tr>\n      <th>4</th>\n      <td>SB \\n(E. Parnaso)</td>\n      <td>3055.4</td>\n      <td>NaN</td>\n    </tr>\n    <tr>\n      <th>5</th>\n      <td>Média Anual - SM\\n(2007 - 2019)</td>\n      <td>1317.9</td>\n      <td>278.5</td>\n    </tr>\n    <tr>\n      <th>6</th>\n      <td>SM \\n(E. Santa Marta)</td>\n      <td>1590.1</td>\n      <td>NaN</td>\n    </tr>\n    <tr>\n      <th>7</th>\n      <td>SM \\n(E. Caparaó)</td>\n      <td>1171.5</td>\n      <td>NaN</td>\n    </tr>\n  </tbody>\n</table>\n</div>"
     },
     "metadata": {},
     "execution_count": 16
    }
   ],
   "source": [
    "import pandas as pd\n",
    "\n",
    "df = pd.read_csv(data, sep=';')\n",
    "df"
   ]
  },
  {
   "source": [
    "# Criando o gráfico"
   ],
   "cell_type": "markdown",
   "metadata": {}
  },
  {
   "cell_type": "code",
   "execution_count": null,
   "metadata": {},
   "outputs": [],
   "source": []
  }
 ]
}