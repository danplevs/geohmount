{
 "cells": [
  {
   "cell_type": "markdown",
   "metadata": {
    "id": "qGvi3CQJ2CL0"
   },
   "source": [
    "# Importando e tratando a base de dados"
   ]
  },
  {
   "cell_type": "markdown",
   "metadata": {
    "id": "YUZ5Qcym2OyJ"
   },
   "source": [
    "><h3>Importação dos dados"
   ]
  },
  {
   "cell_type": "code",
   "execution_count": 2,
   "metadata": {
    "executionInfo": {
     "elapsed": 685,
     "status": "ok",
     "timestamp": 1601341955112,
     "user": {
      "displayName": "Daniel Levita",
      "photoUrl": "https://lh3.googleusercontent.com/a-/AOh14GiyPIUOd_DCE1_soU5rS77DkpJyfVNWNY36oSNNnoM=s64",
      "userId": "11217355149532741913"
     },
     "user_tz": 180
    },
    "id": "8L8XCMms2_v7"
   },
   "outputs": [],
   "source": [
    "import requests\n",
    "from io import StringIO\n",
    "\n",
    "# parameters for the request\n",
    "owner = 'danplevs'\n",
    "token = '10972548eeae219489116329ded0f3850ddeec5a'\n",
    "repo = 'geohmount'\n",
    "path = 'geohmount-plotly/trajs/resultado-angulos_velocidades-SB.csv'\n",
    "\n",
    "# sending the request\n",
    "r = requests.get(f'https://api.github.com/repos/{owner}/{repo}/contents/{path}',\n",
    "    headers={\n",
    "        'accept': 'application/vnd.github.v3.raw',\n",
    "        'authorization': f'token {token}'\n",
    "            }\n",
    "    )\n",
    "\n",
    "#convert string to StringIO object\n",
    "string_io_obj = StringIO(r.text)"
   ]
  },
  {
   "cell_type": "code",
   "execution_count": 3,
   "metadata": {
    "colab": {
     "base_uri": "https://localhost:8080/",
     "height": 204
    },
    "executionInfo": {
     "elapsed": 1033,
     "status": "ok",
     "timestamp": 1601341955472,
     "user": {
      "displayName": "Daniel Levita",
      "photoUrl": "https://lh3.googleusercontent.com/a-/AOh14GiyPIUOd_DCE1_soU5rS77DkpJyfVNWNY36oSNNnoM=s64",
      "userId": "11217355149532741913"
     },
     "user_tz": 180
    },
    "id": "L2UpC8HRyE-E",
    "outputId": "5ead2990-8b77-4e4b-d898-e380a803f094"
   },
   "outputs": [
    {
     "output_type": "execute_result",
     "data": {
      "text/plain": "                  data  altitude campanha  direcao_graus  velocidade_km/h\n0  2018-01-01 22:00:00     509.0      NaN     113.428693        10.102930\n1  2018-01-01 22:00:00     659.0      NaN     122.735226         8.571308\n2  2018-01-01 22:00:00     909.0      NaN     150.046392         7.013839\n3  2018-01-03 22:00:00     509.0      NaN     221.531771        19.262928\n4  2018-01-03 22:00:00     659.0      NaN     225.824343        20.249391",
      "text/html": "<div>\n<style scoped>\n    .dataframe tbody tr th:only-of-type {\n        vertical-align: middle;\n    }\n\n    .dataframe tbody tr th {\n        vertical-align: top;\n    }\n\n    .dataframe thead th {\n        text-align: right;\n    }\n</style>\n<table border=\"1\" class=\"dataframe\">\n  <thead>\n    <tr style=\"text-align: right;\">\n      <th></th>\n      <th>data</th>\n      <th>altitude</th>\n      <th>campanha</th>\n      <th>direcao_graus</th>\n      <th>velocidade_km/h</th>\n    </tr>\n  </thead>\n  <tbody>\n    <tr>\n      <th>0</th>\n      <td>2018-01-01 22:00:00</td>\n      <td>509.0</td>\n      <td>NaN</td>\n      <td>113.428693</td>\n      <td>10.102930</td>\n    </tr>\n    <tr>\n      <th>1</th>\n      <td>2018-01-01 22:00:00</td>\n      <td>659.0</td>\n      <td>NaN</td>\n      <td>122.735226</td>\n      <td>8.571308</td>\n    </tr>\n    <tr>\n      <th>2</th>\n      <td>2018-01-01 22:00:00</td>\n      <td>909.0</td>\n      <td>NaN</td>\n      <td>150.046392</td>\n      <td>7.013839</td>\n    </tr>\n    <tr>\n      <th>3</th>\n      <td>2018-01-03 22:00:00</td>\n      <td>509.0</td>\n      <td>NaN</td>\n      <td>221.531771</td>\n      <td>19.262928</td>\n    </tr>\n    <tr>\n      <th>4</th>\n      <td>2018-01-03 22:00:00</td>\n      <td>659.0</td>\n      <td>NaN</td>\n      <td>225.824343</td>\n      <td>20.249391</td>\n    </tr>\n  </tbody>\n</table>\n</div>"
     },
     "metadata": {},
     "execution_count": 3
    }
   ],
   "source": [
    "import pandas as pd\n",
    "\n",
    "trajs = pd.read_csv(string_io_obj, sep=\";\")\n",
    "trajs.head(5)"
   ]
  },
  {
   "cell_type": "markdown",
   "metadata": {
    "id": "m1gT7PG02SPD"
   },
   "source": [
    "><h3>Tratamento dos dados"
   ]
  },
  {
   "cell_type": "markdown",
   "metadata": {
    "id": "8KT66Kn3sDc7"
   },
   "source": [
    ">>Renomeando colunas"
   ]
  },
  {
   "cell_type": "code",
   "execution_count": 4,
   "metadata": {
    "executionInfo": {
     "elapsed": 1033,
     "status": "ok",
     "timestamp": 1601341955474,
     "user": {
      "displayName": "Daniel Levita",
      "photoUrl": "https://lh3.googleusercontent.com/a-/AOh14GiyPIUOd_DCE1_soU5rS77DkpJyfVNWNY36oSNNnoM=s64",
      "userId": "11217355149532741913"
     },
     "user_tz": 180
    },
    "id": "8nDKu7zGrvxq"
   },
   "outputs": [],
   "source": [
    "trajs = trajs.rename(columns={'data': 'data_full', 'direcao_graus': 'direção_graus', 'velocidade_km/h': 'velocidade'})"
   ]
  },
  {
   "cell_type": "markdown",
   "metadata": {
    "id": "IbUrQFYVQ2VY"
   },
   "source": [
    ">>Removendo trajetórias sem campanha"
   ]
  },
  {
   "cell_type": "code",
   "execution_count": 5,
   "metadata": {
    "colab": {
     "base_uri": "https://localhost:8080/",
     "height": 419
    },
    "executionInfo": {
     "elapsed": 1024,
     "status": "ok",
     "timestamp": 1601341955474,
     "user": {
      "displayName": "Daniel Levita",
      "photoUrl": "https://lh3.googleusercontent.com/a-/AOh14GiyPIUOd_DCE1_soU5rS77DkpJyfVNWNY36oSNNnoM=s64",
      "userId": "11217355149532741913"
     },
     "user_tz": 180
    },
    "id": "tHlW6Tb30O4G",
    "outputId": "6bdf19bc-10a6-4b93-84e4-e1be6815dbaf"
   },
   "outputs": [
    {
     "output_type": "execute_result",
     "data": {
      "text/plain": "                data_full  altitude        campanha  direção_graus  velocidade\n693   2018-07-10 19:00:00     509.0  SB180801 - PP1     230.969023   27.314427\n694   2018-07-10 19:00:00     659.0  SB180801 - PP1     232.328520   27.977538\n695   2018-07-10 19:00:00     909.0  SB180801 - PP1     237.879287   27.120313\n696   2018-07-10 22:00:00     509.0  SB180801 - PP1     232.585556   30.345171\n697   2018-07-10 22:00:00     659.0  SB180801 - PP1     234.069293   31.419221\n...                   ...       ...             ...            ...         ...\n1741  2019-06-06 01:00:00     659.0  SB190615 - PP1     105.838000   15.096090\n1742  2019-06-06 01:00:00     909.0  SB190615 - PP1     109.106353   16.677733\n1743  2019-06-06 04:00:00     509.0  SB190615 - PP1      93.521453   13.415330\n1744  2019-06-06 04:00:00     659.0  SB190615 - PP1     101.023456   16.160172\n1745  2019-06-06 04:00:00     909.0  SB190615 - PP1     106.699244   18.280977\n\n[1053 rows x 5 columns]",
      "text/html": "<div>\n<style scoped>\n    .dataframe tbody tr th:only-of-type {\n        vertical-align: middle;\n    }\n\n    .dataframe tbody tr th {\n        vertical-align: top;\n    }\n\n    .dataframe thead th {\n        text-align: right;\n    }\n</style>\n<table border=\"1\" class=\"dataframe\">\n  <thead>\n    <tr style=\"text-align: right;\">\n      <th></th>\n      <th>data_full</th>\n      <th>altitude</th>\n      <th>campanha</th>\n      <th>direção_graus</th>\n      <th>velocidade</th>\n    </tr>\n  </thead>\n  <tbody>\n    <tr>\n      <th>693</th>\n      <td>2018-07-10 19:00:00</td>\n      <td>509.0</td>\n      <td>SB180801 - PP1</td>\n      <td>230.969023</td>\n      <td>27.314427</td>\n    </tr>\n    <tr>\n      <th>694</th>\n      <td>2018-07-10 19:00:00</td>\n      <td>659.0</td>\n      <td>SB180801 - PP1</td>\n      <td>232.328520</td>\n      <td>27.977538</td>\n    </tr>\n    <tr>\n      <th>695</th>\n      <td>2018-07-10 19:00:00</td>\n      <td>909.0</td>\n      <td>SB180801 - PP1</td>\n      <td>237.879287</td>\n      <td>27.120313</td>\n    </tr>\n    <tr>\n      <th>696</th>\n      <td>2018-07-10 22:00:00</td>\n      <td>509.0</td>\n      <td>SB180801 - PP1</td>\n      <td>232.585556</td>\n      <td>30.345171</td>\n    </tr>\n    <tr>\n      <th>697</th>\n      <td>2018-07-10 22:00:00</td>\n      <td>659.0</td>\n      <td>SB180801 - PP1</td>\n      <td>234.069293</td>\n      <td>31.419221</td>\n    </tr>\n    <tr>\n      <th>...</th>\n      <td>...</td>\n      <td>...</td>\n      <td>...</td>\n      <td>...</td>\n      <td>...</td>\n    </tr>\n    <tr>\n      <th>1741</th>\n      <td>2019-06-06 01:00:00</td>\n      <td>659.0</td>\n      <td>SB190615 - PP1</td>\n      <td>105.838000</td>\n      <td>15.096090</td>\n    </tr>\n    <tr>\n      <th>1742</th>\n      <td>2019-06-06 01:00:00</td>\n      <td>909.0</td>\n      <td>SB190615 - PP1</td>\n      <td>109.106353</td>\n      <td>16.677733</td>\n    </tr>\n    <tr>\n      <th>1743</th>\n      <td>2019-06-06 04:00:00</td>\n      <td>509.0</td>\n      <td>SB190615 - PP1</td>\n      <td>93.521453</td>\n      <td>13.415330</td>\n    </tr>\n    <tr>\n      <th>1744</th>\n      <td>2019-06-06 04:00:00</td>\n      <td>659.0</td>\n      <td>SB190615 - PP1</td>\n      <td>101.023456</td>\n      <td>16.160172</td>\n    </tr>\n    <tr>\n      <th>1745</th>\n      <td>2019-06-06 04:00:00</td>\n      <td>909.0</td>\n      <td>SB190615 - PP1</td>\n      <td>106.699244</td>\n      <td>18.280977</td>\n    </tr>\n  </tbody>\n</table>\n<p>1053 rows × 5 columns</p>\n</div>"
     },
     "metadata": {},
     "execution_count": 5
    }
   ],
   "source": [
    "trajs = trajs.dropna()\n",
    "trajs"
   ]
  },
  {
   "cell_type": "markdown",
   "metadata": {
    "id": "vD3WNV-nRASP"
   },
   "source": [
    ">>Criando a coluna de sentidos das trajetórias"
   ]
  },
  {
   "cell_type": "code",
   "execution_count": 6,
   "metadata": {
    "colab": {
     "base_uri": "https://localhost:8080/",
     "height": 359
    },
    "executionInfo": {
     "elapsed": 1016,
     "status": "ok",
     "timestamp": 1601341955475,
     "user": {
      "displayName": "Daniel Levita",
      "photoUrl": "https://lh3.googleusercontent.com/a-/AOh14GiyPIUOd_DCE1_soU5rS77DkpJyfVNWNY36oSNNnoM=s64",
      "userId": "11217355149532741913"
     },
     "user_tz": 180
    },
    "id": "oDaDAojgDUqN",
    "outputId": "1f1ba7f0-837e-45fc-c655-72531ba8a799"
   },
   "outputs": [
    {
     "output_type": "execute_result",
     "data": {
      "text/plain": "               data_full  altitude        campanha  direção_graus  velocidade  \\\n693  2018-07-10 19:00:00     509.0  SB180801 - PP1     230.969023   27.314427   \n694  2018-07-10 19:00:00     659.0  SB180801 - PP1     232.328520   27.977538   \n695  2018-07-10 19:00:00     909.0  SB180801 - PP1     237.879287   27.120313   \n696  2018-07-10 22:00:00     509.0  SB180801 - PP1     232.585556   30.345171   \n697  2018-07-10 22:00:00     659.0  SB180801 - PP1     234.069293   31.419221   \n698  2018-07-10 22:00:00     909.0  SB180801 - PP1     239.796762   31.939966   \n699  2018-07-11 02:00:00     509.0  SB180801 - PP1     236.968476   32.311479   \n700  2018-07-11 02:00:00     659.0  SB180801 - PP1     236.969017   34.768412   \n701  2018-07-11 02:00:00     909.0  SB180801 - PP1     240.470368   37.407155   \n702  2018-07-11 01:00:00     509.0  SB180801 - PP1     235.627292   33.568678   \n\n    direção  \n693      SW  \n694      SW  \n695     WSW  \n696      SW  \n697      SW  \n698     WSW  \n699     WSW  \n700     WSW  \n701     WSW  \n702      SW  ",
      "text/html": "<div>\n<style scoped>\n    .dataframe tbody tr th:only-of-type {\n        vertical-align: middle;\n    }\n\n    .dataframe tbody tr th {\n        vertical-align: top;\n    }\n\n    .dataframe thead th {\n        text-align: right;\n    }\n</style>\n<table border=\"1\" class=\"dataframe\">\n  <thead>\n    <tr style=\"text-align: right;\">\n      <th></th>\n      <th>data_full</th>\n      <th>altitude</th>\n      <th>campanha</th>\n      <th>direção_graus</th>\n      <th>velocidade</th>\n      <th>direção</th>\n    </tr>\n  </thead>\n  <tbody>\n    <tr>\n      <th>693</th>\n      <td>2018-07-10 19:00:00</td>\n      <td>509.0</td>\n      <td>SB180801 - PP1</td>\n      <td>230.969023</td>\n      <td>27.314427</td>\n      <td>SW</td>\n    </tr>\n    <tr>\n      <th>694</th>\n      <td>2018-07-10 19:00:00</td>\n      <td>659.0</td>\n      <td>SB180801 - PP1</td>\n      <td>232.328520</td>\n      <td>27.977538</td>\n      <td>SW</td>\n    </tr>\n    <tr>\n      <th>695</th>\n      <td>2018-07-10 19:00:00</td>\n      <td>909.0</td>\n      <td>SB180801 - PP1</td>\n      <td>237.879287</td>\n      <td>27.120313</td>\n      <td>WSW</td>\n    </tr>\n    <tr>\n      <th>696</th>\n      <td>2018-07-10 22:00:00</td>\n      <td>509.0</td>\n      <td>SB180801 - PP1</td>\n      <td>232.585556</td>\n      <td>30.345171</td>\n      <td>SW</td>\n    </tr>\n    <tr>\n      <th>697</th>\n      <td>2018-07-10 22:00:00</td>\n      <td>659.0</td>\n      <td>SB180801 - PP1</td>\n      <td>234.069293</td>\n      <td>31.419221</td>\n      <td>SW</td>\n    </tr>\n    <tr>\n      <th>698</th>\n      <td>2018-07-10 22:00:00</td>\n      <td>909.0</td>\n      <td>SB180801 - PP1</td>\n      <td>239.796762</td>\n      <td>31.939966</td>\n      <td>WSW</td>\n    </tr>\n    <tr>\n      <th>699</th>\n      <td>2018-07-11 02:00:00</td>\n      <td>509.0</td>\n      <td>SB180801 - PP1</td>\n      <td>236.968476</td>\n      <td>32.311479</td>\n      <td>WSW</td>\n    </tr>\n    <tr>\n      <th>700</th>\n      <td>2018-07-11 02:00:00</td>\n      <td>659.0</td>\n      <td>SB180801 - PP1</td>\n      <td>236.969017</td>\n      <td>34.768412</td>\n      <td>WSW</td>\n    </tr>\n    <tr>\n      <th>701</th>\n      <td>2018-07-11 02:00:00</td>\n      <td>909.0</td>\n      <td>SB180801 - PP1</td>\n      <td>240.470368</td>\n      <td>37.407155</td>\n      <td>WSW</td>\n    </tr>\n    <tr>\n      <th>702</th>\n      <td>2018-07-11 01:00:00</td>\n      <td>509.0</td>\n      <td>SB180801 - PP1</td>\n      <td>235.627292</td>\n      <td>33.568678</td>\n      <td>SW</td>\n    </tr>\n  </tbody>\n</table>\n</div>"
     },
     "metadata": {},
     "execution_count": 6
    }
   ],
   "source": [
    "sentidos_switcher = {0: \"N\", # dicionário com os sentidos de acordo com a rosa dos ventos\n",
    "        1: \"NNE\",\n",
    "        2: \"NE\",\n",
    "        3: \"ENE\",\n",
    "        4: \"E\",\n",
    "        5: \"ESE\",\n",
    "        6: \"SE\",\n",
    "        7: \"SSE\",\n",
    "        8: \"S\",\n",
    "        9: \"SSW\",\n",
    "        10: \"SW\",\n",
    "        11: \"WSW\",\n",
    "        12:\"W\",\n",
    "        13:\"WNW\",\n",
    "        14:\"NW\",\n",
    "        15:\"NNW\",\n",
    "}\n",
    "sentidos = list() #lista que vai armazenar os sentidos\n",
    "for value in trajs['direção_graus']: \n",
    "  quociente = value // 22.5\n",
    "  resto = value % 22.5              # laço de repetição que atribui um número inteiro de acordo com cada direção em graus\n",
    "  if resto > 11.25: \n",
    "    quociente += 1\n",
    "  sentidos.append(sentidos_switcher.get(quociente))\n",
    "trajs['direção'] = sentidos\n",
    "trajs.head(10)"
   ]
  },
  {
   "cell_type": "markdown",
   "metadata": {
    "id": "4PZRU1gC83DH"
   },
   "source": [
    ">>Criando a coluna categórica de velocidades"
   ]
  },
  {
   "cell_type": "code",
   "execution_count": 7,
   "metadata": {
    "colab": {
     "base_uri": "https://localhost:8080/",
     "height": 359
    },
    "executionInfo": {
     "elapsed": 1008,
     "status": "ok",
     "timestamp": 1601341955475,
     "user": {
      "displayName": "Daniel Levita",
      "photoUrl": "https://lh3.googleusercontent.com/a-/AOh14GiyPIUOd_DCE1_soU5rS77DkpJyfVNWNY36oSNNnoM=s64",
      "userId": "11217355149532741913"
     },
     "user_tz": 180
    },
    "id": "_7klgQWU82dJ",
    "outputId": "06a2c1e0-cde7-4d06-98b8-4f9539ca81e7"
   },
   "outputs": [
    {
     "output_type": "execute_result",
     "data": {
      "text/plain": "               data_full  altitude        campanha  direção_graus  velocidade  \\\n693  2018-07-10 19:00:00     509.0  SB180801 - PP1     230.969023   27.314427   \n694  2018-07-10 19:00:00     659.0  SB180801 - PP1     232.328520   27.977538   \n695  2018-07-10 19:00:00     909.0  SB180801 - PP1     237.879287   27.120313   \n696  2018-07-10 22:00:00     509.0  SB180801 - PP1     232.585556   30.345171   \n697  2018-07-10 22:00:00     659.0  SB180801 - PP1     234.069293   31.419221   \n698  2018-07-10 22:00:00     909.0  SB180801 - PP1     239.796762   31.939966   \n699  2018-07-11 02:00:00     509.0  SB180801 - PP1     236.968476   32.311479   \n700  2018-07-11 02:00:00     659.0  SB180801 - PP1     236.969017   34.768412   \n701  2018-07-11 02:00:00     909.0  SB180801 - PP1     240.470368   37.407155   \n702  2018-07-11 01:00:00     509.0  SB180801 - PP1     235.627292   33.568678   \n\n    direção velocidade_cat  \n693      SW     25-30 km/h  \n694      SW     25-30 km/h  \n695     WSW     25-30 km/h  \n696      SW     30-35 km/h  \n697      SW     30-35 km/h  \n698     WSW     30-35 km/h  \n699     WSW     30-35 km/h  \n700     WSW     30-35 km/h  \n701     WSW     35-40 km/h  \n702      SW     30-35 km/h  ",
      "text/html": "<div>\n<style scoped>\n    .dataframe tbody tr th:only-of-type {\n        vertical-align: middle;\n    }\n\n    .dataframe tbody tr th {\n        vertical-align: top;\n    }\n\n    .dataframe thead th {\n        text-align: right;\n    }\n</style>\n<table border=\"1\" class=\"dataframe\">\n  <thead>\n    <tr style=\"text-align: right;\">\n      <th></th>\n      <th>data_full</th>\n      <th>altitude</th>\n      <th>campanha</th>\n      <th>direção_graus</th>\n      <th>velocidade</th>\n      <th>direção</th>\n      <th>velocidade_cat</th>\n    </tr>\n  </thead>\n  <tbody>\n    <tr>\n      <th>693</th>\n      <td>2018-07-10 19:00:00</td>\n      <td>509.0</td>\n      <td>SB180801 - PP1</td>\n      <td>230.969023</td>\n      <td>27.314427</td>\n      <td>SW</td>\n      <td>25-30 km/h</td>\n    </tr>\n    <tr>\n      <th>694</th>\n      <td>2018-07-10 19:00:00</td>\n      <td>659.0</td>\n      <td>SB180801 - PP1</td>\n      <td>232.328520</td>\n      <td>27.977538</td>\n      <td>SW</td>\n      <td>25-30 km/h</td>\n    </tr>\n    <tr>\n      <th>695</th>\n      <td>2018-07-10 19:00:00</td>\n      <td>909.0</td>\n      <td>SB180801 - PP1</td>\n      <td>237.879287</td>\n      <td>27.120313</td>\n      <td>WSW</td>\n      <td>25-30 km/h</td>\n    </tr>\n    <tr>\n      <th>696</th>\n      <td>2018-07-10 22:00:00</td>\n      <td>509.0</td>\n      <td>SB180801 - PP1</td>\n      <td>232.585556</td>\n      <td>30.345171</td>\n      <td>SW</td>\n      <td>30-35 km/h</td>\n    </tr>\n    <tr>\n      <th>697</th>\n      <td>2018-07-10 22:00:00</td>\n      <td>659.0</td>\n      <td>SB180801 - PP1</td>\n      <td>234.069293</td>\n      <td>31.419221</td>\n      <td>SW</td>\n      <td>30-35 km/h</td>\n    </tr>\n    <tr>\n      <th>698</th>\n      <td>2018-07-10 22:00:00</td>\n      <td>909.0</td>\n      <td>SB180801 - PP1</td>\n      <td>239.796762</td>\n      <td>31.939966</td>\n      <td>WSW</td>\n      <td>30-35 km/h</td>\n    </tr>\n    <tr>\n      <th>699</th>\n      <td>2018-07-11 02:00:00</td>\n      <td>509.0</td>\n      <td>SB180801 - PP1</td>\n      <td>236.968476</td>\n      <td>32.311479</td>\n      <td>WSW</td>\n      <td>30-35 km/h</td>\n    </tr>\n    <tr>\n      <th>700</th>\n      <td>2018-07-11 02:00:00</td>\n      <td>659.0</td>\n      <td>SB180801 - PP1</td>\n      <td>236.969017</td>\n      <td>34.768412</td>\n      <td>WSW</td>\n      <td>30-35 km/h</td>\n    </tr>\n    <tr>\n      <th>701</th>\n      <td>2018-07-11 02:00:00</td>\n      <td>909.0</td>\n      <td>SB180801 - PP1</td>\n      <td>240.470368</td>\n      <td>37.407155</td>\n      <td>WSW</td>\n      <td>35-40 km/h</td>\n    </tr>\n    <tr>\n      <th>702</th>\n      <td>2018-07-11 01:00:00</td>\n      <td>509.0</td>\n      <td>SB180801 - PP1</td>\n      <td>235.627292</td>\n      <td>33.568678</td>\n      <td>SW</td>\n      <td>30-35 km/h</td>\n    </tr>\n  </tbody>\n</table>\n</div>"
     },
     "metadata": {},
     "execution_count": 7
    }
   ],
   "source": [
    "velocidades_switcher = {0: '0-5 km/h', #dicionário com as velocidades categóricas\n",
    "               1: '5-10 km/h',\n",
    "               2: '10-15 km/h',\n",
    "               3: '15-20 km/h',\n",
    "               4: '20-25 km/h',\n",
    "               5: '25-30 km/h',\n",
    "               6: '30-35 km/h',\n",
    "               7: '35-40 km/h',\n",
    "               8: '40-45 km/h',\n",
    "}\n",
    "velocidades = list()\n",
    "for value in trajs['velocidade']:\n",
    "  quociente = value // 5\n",
    "  velocidades.append(velocidades_switcher.get(quociente))\n",
    "trajs['velocidade_cat'] = velocidades\n",
    "trajs.head(10)"
   ]
  },
  {
   "cell_type": "markdown",
   "metadata": {
    "id": "IbY7XGJLI4kn"
   },
   "source": [
    ">>Criando a coluna categórica de data já formata em 'mês, ano'"
   ]
  },
  {
   "cell_type": "code",
   "execution_count": 8,
   "metadata": {
    "colab": {
     "base_uri": "https://localhost:8080/",
     "height": 204
    },
    "executionInfo": {
     "elapsed": 1002,
     "status": "ok",
     "timestamp": 1601341955476,
     "user": {
      "displayName": "Daniel Levita",
      "photoUrl": "https://lh3.googleusercontent.com/a-/AOh14GiyPIUOd_DCE1_soU5rS77DkpJyfVNWNY36oSNNnoM=s64",
      "userId": "11217355149532741913"
     },
     "user_tz": 180
    },
    "id": "0qFGyxMpJAr7",
    "outputId": "dc875488-18c0-4627-93f9-ae8d970f7a5e"
   },
   "outputs": [
    {
     "output_type": "execute_result",
     "data": {
      "text/plain": "               data_full  altitude        campanha  direção_graus  velocidade  \\\n693  2018-07-10 19:00:00     509.0  SB180801 - PP1     230.969023   27.314427   \n694  2018-07-10 19:00:00     659.0  SB180801 - PP1     232.328520   27.977538   \n695  2018-07-10 19:00:00     909.0  SB180801 - PP1     237.879287   27.120313   \n696  2018-07-10 22:00:00     509.0  SB180801 - PP1     232.585556   30.345171   \n697  2018-07-10 22:00:00     659.0  SB180801 - PP1     234.069293   31.419221   \n\n    direção velocidade_cat        data  \n693      SW     25-30 km/h  July, 2018  \n694      SW     25-30 km/h  July, 2018  \n695     WSW     25-30 km/h  July, 2018  \n696      SW     30-35 km/h  July, 2018  \n697      SW     30-35 km/h  July, 2018  ",
      "text/html": "<div>\n<style scoped>\n    .dataframe tbody tr th:only-of-type {\n        vertical-align: middle;\n    }\n\n    .dataframe tbody tr th {\n        vertical-align: top;\n    }\n\n    .dataframe thead th {\n        text-align: right;\n    }\n</style>\n<table border=\"1\" class=\"dataframe\">\n  <thead>\n    <tr style=\"text-align: right;\">\n      <th></th>\n      <th>data_full</th>\n      <th>altitude</th>\n      <th>campanha</th>\n      <th>direção_graus</th>\n      <th>velocidade</th>\n      <th>direção</th>\n      <th>velocidade_cat</th>\n      <th>data</th>\n    </tr>\n  </thead>\n  <tbody>\n    <tr>\n      <th>693</th>\n      <td>2018-07-10 19:00:00</td>\n      <td>509.0</td>\n      <td>SB180801 - PP1</td>\n      <td>230.969023</td>\n      <td>27.314427</td>\n      <td>SW</td>\n      <td>25-30 km/h</td>\n      <td>July, 2018</td>\n    </tr>\n    <tr>\n      <th>694</th>\n      <td>2018-07-10 19:00:00</td>\n      <td>659.0</td>\n      <td>SB180801 - PP1</td>\n      <td>232.328520</td>\n      <td>27.977538</td>\n      <td>SW</td>\n      <td>25-30 km/h</td>\n      <td>July, 2018</td>\n    </tr>\n    <tr>\n      <th>695</th>\n      <td>2018-07-10 19:00:00</td>\n      <td>909.0</td>\n      <td>SB180801 - PP1</td>\n      <td>237.879287</td>\n      <td>27.120313</td>\n      <td>WSW</td>\n      <td>25-30 km/h</td>\n      <td>July, 2018</td>\n    </tr>\n    <tr>\n      <th>696</th>\n      <td>2018-07-10 22:00:00</td>\n      <td>509.0</td>\n      <td>SB180801 - PP1</td>\n      <td>232.585556</td>\n      <td>30.345171</td>\n      <td>SW</td>\n      <td>30-35 km/h</td>\n      <td>July, 2018</td>\n    </tr>\n    <tr>\n      <th>697</th>\n      <td>2018-07-10 22:00:00</td>\n      <td>659.0</td>\n      <td>SB180801 - PP1</td>\n      <td>234.069293</td>\n      <td>31.419221</td>\n      <td>SW</td>\n      <td>30-35 km/h</td>\n      <td>July, 2018</td>\n    </tr>\n  </tbody>\n</table>\n</div>"
     },
     "metadata": {},
     "execution_count": 8
    }
   ],
   "source": [
    "trajs['data'] = pd.to_datetime(trajs['data_full'])\n",
    "trajs['data'] = trajs['data'].dt.strftime('%B, %Y')\n",
    "trajs.head()"
   ]
  },
  {
   "cell_type": "markdown",
   "metadata": {
    "id": "rwhrHjwUSudQ"
   },
   "source": [
    ">>Criando datasets separados por altitude"
   ]
  },
  {
   "cell_type": "code",
   "execution_count": 9,
   "metadata": {
    "executionInfo": {
     "elapsed": 1000,
     "status": "ok",
     "timestamp": 1601341955476,
     "user": {
      "displayName": "Daniel Levita",
      "photoUrl": "https://lh3.googleusercontent.com/a-/AOh14GiyPIUOd_DCE1_soU5rS77DkpJyfVNWNY36oSNNnoM=s64",
      "userId": "11217355149532741913"
     },
     "user_tz": 180
    },
    "id": "6In1vFlw1yZc"
   },
   "outputs": [],
   "source": [
    "trajs_509 = trajs.loc[trajs['altitude'] == 509]\n",
    "trajs_659 = trajs.loc[trajs['altitude'] == 659]\n",
    "trajs_909 = trajs.loc[trajs['altitude'] == 909]"
   ]
  },
  {
   "cell_type": "markdown",
   "metadata": {
    "id": "T-oZJO26BVXP"
   },
   "source": [
    "# Criando o gráfico"
   ]
  },
  {
   "source": [
    "!pip install --upgrade plotly"
   ],
   "cell_type": "code",
   "metadata": {
    "colab": {
     "base_uri": "https://localhost:8080/",
     "height": 68
    },
    "executionInfo": {
     "elapsed": 3287,
     "status": "ok",
     "timestamp": 1601337826292,
     "user": {
      "displayName": "Daniel Levita",
      "photoUrl": "https://lh3.googleusercontent.com/a-/AOh14GiyPIUOd_DCE1_soU5rS77DkpJyfVNWNY36oSNNnoM=s64",
      "userId": "11217355149532741913"
     },
     "user_tz": 180
    },
    "id": "64LRFW2o6vyJ",
    "outputId": "94fd417b-40df-4298-e566-95bdd3e97b7a"
   },
   "execution_count": 10,
   "outputs": []
  },
  {
   "cell_type": "code",
   "execution_count": 14,
   "metadata": {
    "colab": {
     "base_uri": "https://localhost:8080/",
     "height": 542
    },
    "executionInfo": {
     "elapsed": 590,
     "status": "ok",
     "timestamp": 1601338218233,
     "user": {
      "displayName": "Daniel Levita",
      "photoUrl": "https://lh3.googleusercontent.com/a-/AOh14GiyPIUOd_DCE1_soU5rS77DkpJyfVNWNY36oSNNnoM=s64",
      "userId": "11217355149532741913"
     },
     "user_tz": 180
    },
    "id": "5tPk7YH1Bkfl",
    "outputId": "1169fc25-4ae6-43dc-92f8-e6a14dc447d4"
   },
   "outputs": [
    {
     "output_type": "display_data",
     "data": {
      "application/vnd.plotly.v1+json": {
       "config": {
        "plotlyServerURL": "https://plotly.com"
       },
       "data": [
        {
         "customdata": [
          [
           "August, 2018"
          ],
          [
           "August, 2018"
          ],
          [
           "August, 2018"
          ],
          [
           "September, 2018"
          ],
          [
           "September, 2018"
          ],
          [
           "September, 2018"
          ],
          [
           "October, 2018"
          ],
          [
           "October, 2018"
          ],
          [
           "November, 2018"
          ],
          [
           "November, 2018"
          ],
          [
           "December, 2018"
          ],
          [
           "January, 2019"
          ],
          [
           "January, 2019"
          ],
          [
           "February, 2019"
          ],
          [
           "February, 2019"
          ],
          [
           "March, 2019"
          ],
          [
           "March, 2019"
          ],
          [
           "March, 2019"
          ],
          [
           "May, 2019"
          ],
          [
           "May, 2019"
          ],
          [
           "May, 2019"
          ],
          [
           "May, 2019"
          ]
         ],
         "hovertemplate": "<b>%{theta}</b><br>velocidade (km/h): %{r:.1f}<br>",
         "legendgroup": "0-5 km/h",
         "marker": {
          "color": "#f0f921"
         },
         "name": "0-5 km/h",
         "r": [
          3.4547250252373063,
          4.971817575092478,
          3.373937906957188,
          2.7483827972100103,
          3.0432970607551115,
          0.3713717813725344,
          3.4746283254466386,
          4.0288670864153895,
          4.6258353840144935,
          2.648121787230157,
          4.8585002830095885,
          1.924198794303789,
          4.292765192740152,
          4.1520627403734265,
          2.742586552872938,
          3.0029402258453977,
          1.0949050187114235,
          1.400951462399337,
          2.448282050744838,
          2.672051084841,
          1.981244558352344,
          3.0310714277297173
         ],
         "showlegend": true,
         "subplot": "polar",
         "theta": [
          "S",
          "SE",
          "ESE",
          "SSE",
          "NNE",
          "SSW",
          "WNW",
          "ESE",
          "SSE",
          "ESE",
          "E",
          "WSW",
          "ENE",
          "WNW",
          "NW",
          "ESE",
          "SW",
          "SW",
          "SSE",
          "SSE",
          "S",
          "S"
         ],
         "type": "barpolar"
        },
        {
         "customdata": [
          [
           "August, 2018"
          ],
          [
           "August, 2018"
          ],
          [
           "August, 2018"
          ],
          [
           "August, 2018"
          ],
          [
           "August, 2018"
          ],
          [
           "September, 2018"
          ],
          [
           "October, 2018"
          ],
          [
           "October, 2018"
          ],
          [
           "October, 2018"
          ],
          [
           "October, 2018"
          ],
          [
           "October, 2018"
          ],
          [
           "October, 2018"
          ],
          [
           "November, 2018"
          ],
          [
           "November, 2018"
          ],
          [
           "December, 2018"
          ],
          [
           "December, 2018"
          ],
          [
           "December, 2018"
          ],
          [
           "December, 2018"
          ],
          [
           "December, 2018"
          ],
          [
           "December, 2018"
          ],
          [
           "December, 2018"
          ],
          [
           "December, 2018"
          ],
          [
           "December, 2018"
          ],
          [
           "December, 2018"
          ],
          [
           "December, 2018"
          ],
          [
           "December, 2018"
          ],
          [
           "December, 2018"
          ],
          [
           "December, 2018"
          ],
          [
           "December, 2018"
          ],
          [
           "December, 2018"
          ],
          [
           "December, 2018"
          ],
          [
           "January, 2019"
          ],
          [
           "January, 2019"
          ],
          [
           "January, 2019"
          ],
          [
           "January, 2019"
          ],
          [
           "January, 2019"
          ],
          [
           "January, 2019"
          ],
          [
           "January, 2019"
          ],
          [
           "January, 2019"
          ],
          [
           "January, 2019"
          ],
          [
           "January, 2019"
          ],
          [
           "January, 2019"
          ],
          [
           "January, 2019"
          ],
          [
           "February, 2019"
          ],
          [
           "February, 2019"
          ],
          [
           "February, 2019"
          ],
          [
           "February, 2019"
          ],
          [
           "February, 2019"
          ],
          [
           "February, 2019"
          ],
          [
           "February, 2019"
          ],
          [
           "March, 2019"
          ],
          [
           "March, 2019"
          ],
          [
           "April, 2019"
          ],
          [
           "April, 2019"
          ],
          [
           "April, 2019"
          ],
          [
           "April, 2019"
          ],
          [
           "April, 2019"
          ]
         ],
         "hovertemplate": "<b>%{theta}</b><br>velocidade (km/h): %{r:.1f}<br>",
         "legendgroup": "5-10 km/h",
         "marker": {
          "color": "#fdca26"
         },
         "name": "5-10 km/h",
         "r": [
          5.264096123742642,
          7.361438174705036,
          5.979325212764173,
          9.028818084334414,
          9.169314314604488,
          9.071604764318137,
          8.924817757243028,
          9.999491237057851,
          9.472640708904457,
          8.334730469547358,
          9.554603340798348,
          6.132609966400975,
          9.70279681329056,
          6.810473404984336,
          7.931668802970071,
          9.793128202980027,
          9.776865039469591,
          9.258548482348573,
          6.376856357171875,
          7.419575526942326,
          9.888536443782359,
          7.691279737468815,
          7.71950471209149,
          8.551481567541483,
          8.848413417105123,
          9.954831440059692,
          7.628260942049517,
          8.374096369161151,
          8.624981623168969,
          8.383592606991186,
          9.609408722705002,
          6.6791350487920615,
          8.332184347456387,
          7.895472373455588,
          5.6462416703501574,
          9.684191241399397,
          8.61390422514658,
          7.050047162962762,
          8.779201842992396,
          9.858988690530255,
          8.657516098743363,
          5.971335612742036,
          5.971335612742036,
          8.913517880163422,
          7.647013011627332,
          7.354228851483862,
          6.117887870825465,
          5.466768058002539,
          6.702126975818594,
          5.765240411291997,
          7.9202914719096515,
          9.194733329466494,
          5.329192527953972,
          9.354872580639544,
          9.172206386688242,
          5.7578750420622855,
          9.839061184889653
         ],
         "showlegend": true,
         "subplot": "polar",
         "theta": [
          "SSE",
          "SSE",
          "S",
          "ESE",
          "E",
          "NNE",
          "SSW",
          "SSW",
          "SW",
          "SW",
          "SW",
          "S",
          "SE",
          "S",
          "E",
          "ENE",
          "ENE",
          "ENE",
          "NNE",
          "NNE",
          "ENE",
          "SSW",
          "SSE",
          "E",
          "ESE",
          "ESE",
          "NE",
          "NNE",
          "NE",
          "N",
          "WSW",
          "NNE",
          "N",
          "W",
          "SW",
          "NE",
          "NNW",
          "NNW",
          "ENE",
          "ENE",
          "NE",
          "NNE",
          "NNE",
          "NNW",
          "NNW",
          "SW",
          "NW",
          "NW",
          "NW",
          "NW",
          "ESE",
          "E",
          "SE",
          "ESE",
          "ESE",
          "SSE",
          "E"
         ],
         "type": "barpolar"
        },
        {
         "customdata": [
          [
           "July, 2018"
          ],
          [
           "July, 2018"
          ],
          [
           "August, 2018"
          ],
          [
           "August, 2018"
          ],
          [
           "September, 2018"
          ],
          [
           "September, 2018"
          ],
          [
           "October, 2018"
          ],
          [
           "October, 2018"
          ],
          [
           "October, 2018"
          ],
          [
           "October, 2018"
          ],
          [
           "October, 2018"
          ],
          [
           "October, 2018"
          ],
          [
           "October, 2018"
          ],
          [
           "October, 2018"
          ],
          [
           "October, 2018"
          ],
          [
           "October, 2018"
          ],
          [
           "October, 2018"
          ],
          [
           "November, 2018"
          ],
          [
           "November, 2018"
          ],
          [
           "November, 2018"
          ],
          [
           "November, 2018"
          ],
          [
           "November, 2018"
          ],
          [
           "November, 2018"
          ],
          [
           "November, 2018"
          ],
          [
           "November, 2018"
          ],
          [
           "November, 2018"
          ],
          [
           "November, 2018"
          ],
          [
           "November, 2018"
          ],
          [
           "November, 2018"
          ],
          [
           "November, 2018"
          ],
          [
           "November, 2018"
          ],
          [
           "December, 2018"
          ],
          [
           "December, 2018"
          ],
          [
           "December, 2018"
          ],
          [
           "December, 2018"
          ],
          [
           "December, 2018"
          ],
          [
           "December, 2018"
          ],
          [
           "December, 2018"
          ],
          [
           "December, 2018"
          ],
          [
           "December, 2018"
          ],
          [
           "December, 2018"
          ],
          [
           "December, 2018"
          ],
          [
           "December, 2018"
          ],
          [
           "December, 2018"
          ],
          [
           "December, 2018"
          ],
          [
           "December, 2018"
          ],
          [
           "December, 2018"
          ],
          [
           "January, 2019"
          ],
          [
           "January, 2019"
          ],
          [
           "January, 2019"
          ],
          [
           "January, 2019"
          ],
          [
           "February, 2019"
          ],
          [
           "February, 2019"
          ],
          [
           "February, 2019"
          ],
          [
           "February, 2019"
          ],
          [
           "February, 2019"
          ],
          [
           "February, 2019"
          ],
          [
           "February, 2019"
          ],
          [
           "February, 2019"
          ],
          [
           "February, 2019"
          ],
          [
           "February, 2019"
          ],
          [
           "February, 2019"
          ],
          [
           "March, 2019"
          ],
          [
           "March, 2019"
          ],
          [
           "March, 2019"
          ],
          [
           "March, 2019"
          ],
          [
           "March, 2019"
          ],
          [
           "March, 2019"
          ],
          [
           "March, 2019"
          ],
          [
           "March, 2019"
          ],
          [
           "March, 2019"
          ],
          [
           "March, 2019"
          ],
          [
           "March, 2019"
          ],
          [
           "April, 2019"
          ],
          [
           "April, 2019"
          ],
          [
           "May, 2019"
          ],
          [
           "May, 2019"
          ],
          [
           "May, 2019"
          ],
          [
           "May, 2019"
          ],
          [
           "May, 2019"
          ],
          [
           "June, 2019"
          ],
          [
           "June, 2019"
          ],
          [
           "June, 2019"
          ]
         ],
         "hovertemplate": "<b>%{theta}</b><br>velocidade (km/h): %{r:.1f}<br>",
         "legendgroup": "10-15 km/h",
         "marker": {
          "color": "#fb9f3a"
         },
         "name": "10-15 km/h",
         "r": [
          11.141153441184152,
          14.436544080908313,
          10.329313287920078,
          10.094525496525227,
          14.30921730913309,
          11.798783750878403,
          13.146932265741935,
          11.978594450101314,
          11.996294636261556,
          10.560388629212524,
          13.826575136309517,
          12.530490812414376,
          12.090989206843538,
          12.858921961035895,
          13.28380581761105,
          11.079085251048557,
          12.715807839063954,
          14.569312681111839,
          14.397174792298902,
          10.343682371380252,
          14.639050515658596,
          10.199080595818376,
          14.11438280620167,
          12.466829990017375,
          13.129571242047547,
          13.999287731881461,
          11.973722311796456,
          11.753288433455989,
          12.835387060778961,
          10.546314806604355,
          12.62033743605955,
          14.664031539791587,
          14.992781329693164,
          14.214373183506785,
          14.934999999999954,
          14.54088614906279,
          10.980495662764977,
          11.541976130628074,
          14.26689433618948,
          13.028991096781047,
          12.305806190575387,
          13.619778449005773,
          11.618929597858742,
          10.073484253226537,
          11.397218783545346,
          11.577309963890645,
          12.773661182292495,
          10.392286562638578,
          13.652454760957365,
          10.196479784709952,
          12.937062417720876,
          14.325889326670088,
          13.534215677312444,
          13.361843473114009,
          14.820909047693625,
          11.211397415131113,
          11.943115380837645,
          11.076691067281883,
          14.826992210154849,
          14.860583568622106,
          10.094525496525227,
          12.2950250508079,
          13.360255424204984,
          13.534215677312545,
          13.466240640950867,
          12.853145451600495,
          13.055427760131046,
          14.425884513609626,
          13.96248487913285,
          13.358270097583747,
          13.495751627827165,
          13.065175467631937,
          13.157015353035547,
          14.222207775166352,
          13.058271593132286,
          13.063145295065794,
          11.730248505466529,
          12.586245985201687,
          10.077169642315098,
          12.26089433932129,
          10.30051498712577,
          10.4279552166281,
          14.078257633670507
         ],
         "showlegend": true,
         "subplot": "polar",
         "theta": [
          "E",
          "E",
          "SSE",
          "E",
          "WNW",
          "SW",
          "SE",
          "SSW",
          "SSW",
          "SSE",
          "SSE",
          "SE",
          "SE",
          "SE",
          "SW",
          "SW",
          "SSW",
          "SE",
          "ESE",
          "SW",
          "SSE",
          "SE",
          "S",
          "S",
          "SSE",
          "ESE",
          "SE",
          "E",
          "E",
          "ENE",
          "ENE",
          "SSW",
          "SSW",
          "SSW",
          "S",
          "S",
          "SE",
          "WNW",
          "SSW",
          "SSE",
          "SSE",
          "SSE",
          "SSW",
          "SSE",
          "N",
          "ENE",
          "E",
          "NNE",
          "NW",
          "N",
          "E",
          "SSE",
          "SE",
          "SE",
          "ESE",
          "ENE",
          "NNE",
          "NNE",
          "NNW",
          "NW",
          "W",
          "NNW",
          "SSW",
          "E",
          "SSW",
          "SSW",
          "S",
          "S",
          "ESE",
          "ESE",
          "ESE",
          "ESE",
          "E",
          "SSW",
          "SSE",
          "SSE",
          "SSE",
          "SSE",
          "SW",
          "SSW",
          "SW",
          "SSW",
          "WSW"
         ],
         "type": "barpolar"
        },
        {
         "customdata": [
          [
           "July, 2018"
          ],
          [
           "July, 2018"
          ],
          [
           "August, 2018"
          ],
          [
           "August, 2018"
          ],
          [
           "August, 2018"
          ],
          [
           "August, 2018"
          ],
          [
           "August, 2018"
          ],
          [
           "August, 2018"
          ],
          [
           "August, 2018"
          ],
          [
           "August, 2018"
          ],
          [
           "September, 2018"
          ],
          [
           "September, 2018"
          ],
          [
           "September, 2018"
          ],
          [
           "September, 2018"
          ],
          [
           "September, 2018"
          ],
          [
           "September, 2018"
          ],
          [
           "September, 2018"
          ],
          [
           "October, 2018"
          ],
          [
           "October, 2018"
          ],
          [
           "October, 2018"
          ],
          [
           "October, 2018"
          ],
          [
           "October, 2018"
          ],
          [
           "October, 2018"
          ],
          [
           "October, 2018"
          ],
          [
           "November, 2018"
          ],
          [
           "November, 2018"
          ],
          [
           "November, 2018"
          ],
          [
           "November, 2018"
          ],
          [
           "November, 2018"
          ],
          [
           "November, 2018"
          ],
          [
           "November, 2018"
          ],
          [
           "November, 2018"
          ],
          [
           "November, 2018"
          ],
          [
           "November, 2018"
          ],
          [
           "November, 2018"
          ],
          [
           "November, 2018"
          ],
          [
           "November, 2018"
          ],
          [
           "November, 2018"
          ],
          [
           "December, 2018"
          ],
          [
           "December, 2018"
          ],
          [
           "December, 2018"
          ],
          [
           "January, 2019"
          ],
          [
           "January, 2019"
          ],
          [
           "January, 2019"
          ],
          [
           "January, 2019"
          ],
          [
           "February, 2019"
          ],
          [
           "February, 2019"
          ],
          [
           "February, 2019"
          ],
          [
           "February, 2019"
          ],
          [
           "February, 2019"
          ],
          [
           "February, 2019"
          ],
          [
           "February, 2019"
          ],
          [
           "February, 2019"
          ],
          [
           "February, 2019"
          ],
          [
           "February, 2019"
          ],
          [
           "February, 2019"
          ],
          [
           "February, 2019"
          ],
          [
           "February, 2019"
          ],
          [
           "March, 2019"
          ],
          [
           "March, 2019"
          ],
          [
           "March, 2019"
          ],
          [
           "March, 2019"
          ],
          [
           "March, 2019"
          ],
          [
           "March, 2019"
          ],
          [
           "March, 2019"
          ],
          [
           "March, 2019"
          ],
          [
           "March, 2019"
          ],
          [
           "March, 2019"
          ],
          [
           "April, 2019"
          ],
          [
           "April, 2019"
          ],
          [
           "April, 2019"
          ],
          [
           "April, 2019"
          ],
          [
           "April, 2019"
          ],
          [
           "April, 2019"
          ],
          [
           "April, 2019"
          ],
          [
           "April, 2019"
          ],
          [
           "April, 2019"
          ],
          [
           "May, 2019"
          ],
          [
           "May, 2019"
          ],
          [
           "May, 2019"
          ],
          [
           "May, 2019"
          ],
          [
           "May, 2019"
          ],
          [
           "June, 2019"
          ],
          [
           "June, 2019"
          ],
          [
           "June, 2019"
          ]
         ],
         "hovertemplate": "<b>%{theta}</b><br>velocidade (km/h): %{r:.1f}<br>",
         "legendgroup": "15-20 km/h",
         "marker": {
          "color": "#ed7953"
         },
         "name": "15-20 km/h",
         "r": [
          16.013104945637807,
          18.228672167769023,
          17.311968403390903,
          16.809208696426285,
          17.742329272111174,
          17.087138116138867,
          16.322819180521222,
          18.907164356401907,
          15.158156946014115,
          16.6859999999999,
          19.51734495263076,
          16.907380193276406,
          18.2917096521897,
          19.95756237620193,
          19.320669605372906,
          18.337760850223745,
          16.241698956697512,
          17.494543177802704,
          18.226344038232178,
          19.651417480680713,
          17.329118673492776,
          15.298534210832127,
          18.476948341108642,
          16.7053807199954,
          19.67542655192003,
          18.012046774311933,
          17.543896602522615,
          18.69073998000073,
          15.540717004051158,
          15.12242057343993,
          18.461151778802897,
          17.2059334242582,
          17.534521065601027,
          19.72577737378161,
          18.37215131659902,
          17.949800277440612,
          19.35002421187129,
          16.653223982160426,
          16.37732389616803,
          19.27201289435004,
          16.664368694913133,
          16.23516569056192,
          15.046815909022147,
          16.91271291070695,
          16.044213162383205,
          15.565273303093585,
          17.921408036201033,
          17.69262993452353,
          16.87503416292872,
          17.387791176570445,
          18.06732744486527,
          16.388656229233533,
          18.425200134598466,
          16.547455695664922,
          15.292985483547387,
          15.68849259807951,
          19.93894846776022,
          18.151686230209965,
          19.640617327365394,
          18.88723444551879,
          17.273625126185713,
          16.87503416292843,
          17.007792155362193,
          19.819137847040672,
          16.869689534784055,
          19.03076567035597,
          17.099240918824812,
          19.228199343672518,
          19.72255016472239,
          16.69807587717758,
          19.460731795078804,
          18.28010618131082,
          15.765394127645635,
          15.439352998101834,
          16.079880223434383,
          17.75816783905361,
          17.064771929328913,
          16.892000000000046,
          17.776379665162548,
          15.240171816616936,
          15.295413299417115,
          17.705517247457426,
          17.42649204515941,
          16.6777325197408,
          18.280976697102602
         ],
         "showlegend": true,
         "subplot": "polar",
         "theta": [
          "ENE",
          "ENE",
          "E",
          "E",
          "ENE",
          "NE",
          "NNW",
          "SSW",
          "S",
          "S",
          "WNW",
          "NE",
          "NNE",
          "WSW",
          "W",
          "NNW",
          "SW",
          "SSE",
          "SSE",
          "SSE",
          "SSE",
          "WSW",
          "SSW",
          "SSW",
          "SSW",
          "SSW",
          "SSE",
          "SSE",
          "SSE",
          "ESE",
          "ESE",
          "S",
          "S",
          "S",
          "ESE",
          "E",
          "S",
          "ENE",
          "S",
          "S",
          "S",
          null,
          null,
          "NNW",
          "NNW",
          "SSW",
          "ESE",
          "ESE",
          "SE",
          "ESE",
          "NW",
          "NW",
          "E",
          "SW",
          "SSW",
          "SSW",
          "SSE",
          null,
          "SW",
          "SW",
          "WSW",
          "SW",
          "SSW",
          "SSW",
          "S",
          "ESE",
          "ESE",
          "SE",
          "WNW",
          "W",
          "W",
          "S",
          "S",
          "SSW",
          "S",
          "ENE",
          "ENE",
          "SSE",
          "SSE",
          "SSE",
          "SW",
          "ENE",
          "ESE",
          "ESE",
          "ESE"
         ],
         "type": "barpolar"
        },
        {
         "customdata": [
          [
           "August, 2018"
          ],
          [
           "August, 2018"
          ],
          [
           "August, 2018"
          ],
          [
           "August, 2018"
          ],
          [
           "August, 2018"
          ],
          [
           "August, 2018"
          ],
          [
           "August, 2018"
          ],
          [
           "September, 2018"
          ],
          [
           "September, 2018"
          ],
          [
           "September, 2018"
          ],
          [
           "September, 2018"
          ],
          [
           "October, 2018"
          ],
          [
           "October, 2018"
          ],
          [
           "October, 2018"
          ],
          [
           "October, 2018"
          ],
          [
           "October, 2018"
          ],
          [
           "November, 2018"
          ],
          [
           "November, 2018"
          ],
          [
           "December, 2018"
          ],
          [
           "December, 2018"
          ],
          [
           "December, 2018"
          ],
          [
           "December, 2018"
          ],
          [
           "February, 2019"
          ],
          [
           "February, 2019"
          ],
          [
           "February, 2019"
          ],
          [
           "February, 2019"
          ],
          [
           "March, 2019"
          ],
          [
           "March, 2019"
          ],
          [
           "March, 2019"
          ],
          [
           "March, 2019"
          ],
          [
           "March, 2019"
          ],
          [
           "March, 2019"
          ],
          [
           "March, 2019"
          ],
          [
           "March, 2019"
          ],
          [
           "March, 2019"
          ],
          [
           "March, 2019"
          ],
          [
           "March, 2019"
          ],
          [
           "March, 2019"
          ],
          [
           "April, 2019"
          ],
          [
           "April, 2019"
          ],
          [
           "April, 2019"
          ],
          [
           "April, 2019"
          ],
          [
           "April, 2019"
          ],
          [
           "May, 2019"
          ],
          [
           "June, 2019"
          ]
         ],
         "hovertemplate": "<b>%{theta}</b><br>velocidade (km/h): %{r:.1f}<br>",
         "legendgroup": "20-25 km/h",
         "marker": {
          "color": "#d8576b"
         },
         "name": "20-25 km/h",
         "r": [
          21.427218508243154,
          21.849599538664627,
          22.796531863422107,
          23.77248032915378,
          20.27949419980675,
          22.44478480627524,
          22.987698666895838,
          21.009222855689064,
          21.8287110476088,
          21.28514376272813,
          23.770695172838263,
          20.61158424284756,
          20.80141038487555,
          20.000573841767896,
          22.653678663740227,
          24.043385992825584,
          22.251814487812123,
          21.238240346130397,
          24.447696046866888,
          22.265636528067056,
          20.13538040365739,
          20.39530046358707,
          21.530942222764477,
          23.542654820559033,
          23.81105159374545,
          23.48219291292865,
          24.922169127104336,
          21.04857356212039,
          23.27207446705183,
          22.544062499913426,
          22.286591529437928,
          21.668712975163306,
          22.225337995180148,
          23.593071271032606,
          24.846922083026556,
          24.920466327900556,
          24.013141756130057,
          21.430189009899326,
          23.19124541718263,
          22.932713489685497,
          23.6875368284673,
          24.71184448801838,
          20.136697569363253,
          20.395040377503246,
          21.74861524327452
         ],
         "showlegend": true,
         "subplot": "polar",
         "theta": [
          "NNE",
          "NE",
          "NE",
          "NE",
          "NNE",
          "WNW",
          "S",
          "NE",
          "NNW",
          "WSW",
          "NNW",
          "E",
          "ENE",
          "ENE",
          "ENE",
          "SW",
          "E",
          "SSW",
          "SSW",
          "SSW",
          "SW",
          "S",
          "ENE",
          "SSW",
          "S",
          "S",
          "NNW",
          "SW",
          "SSW",
          "S",
          "SE",
          "SE",
          "ESE",
          "ESE",
          "ESE",
          "ESE",
          "ESE",
          "SE",
          "WNW",
          "WNW",
          "SSW",
          "S",
          "S",
          "SSW",
          "S"
         ],
         "type": "barpolar"
        },
        {
         "customdata": [
          [
           "July, 2018"
          ],
          [
           "August, 2018"
          ],
          [
           "October, 2018"
          ],
          [
           "October, 2018"
          ],
          [
           "October, 2018"
          ],
          [
           "October, 2018"
          ],
          [
           "November, 2018"
          ],
          [
           "November, 2018"
          ],
          [
           "December, 2018"
          ],
          [
           "December, 2018"
          ],
          [
           "February, 2019"
          ],
          [
           "March, 2019"
          ],
          [
           "March, 2019"
          ],
          [
           "March, 2019"
          ],
          [
           "May, 2019"
          ],
          [
           "June, 2019"
          ]
         ],
         "hovertemplate": "<b>%{theta}</b><br>velocidade (km/h): %{r:.1f}<br>",
         "legendgroup": "25-30 km/h",
         "marker": {
          "color": "#bd3786"
         },
         "name": "25-30 km/h",
         "r": [
          27.12031270099953,
          25.405738721792805,
          29.48121986960502,
          25.789110298728737,
          27.25610436214274,
          26.995629961162525,
          26.826309958695674,
          28.482060915600968,
          25.551059508364833,
          25.01967315933613,
          27.197656608612476,
          28.051194805212802,
          29.807602067258195,
          25.930646347517072,
          27.150026316746107,
          29.50981457074901
         ],
         "showlegend": true,
         "subplot": "polar",
         "theta": [
          "WSW",
          "SSW",
          "WSW",
          "S",
          "ENE",
          "NE",
          "ESE",
          "SSW",
          "S",
          "S",
          "WNW",
          "NNW",
          "SE",
          "ESE",
          "ENE",
          "WSW"
         ],
         "type": "barpolar"
        },
        {
         "customdata": [
          [
           "July, 2018"
          ],
          [
           "July, 2018"
          ],
          [
           "September, 2018"
          ],
          [
           "October, 2018"
          ],
          [
           "October, 2018"
          ],
          [
           "October, 2018"
          ],
          [
           "November, 2018"
          ],
          [
           "November, 2018"
          ],
          [
           "November, 2018"
          ],
          [
           "November, 2018"
          ],
          [
           "November, 2018"
          ],
          [
           "March, 2019"
          ],
          [
           "April, 2019"
          ],
          [
           "May, 2019"
          ],
          [
           "May, 2019"
          ],
          [
           "May, 2019"
          ],
          [
           "June, 2019"
          ]
         ],
         "hovertemplate": "<b>%{theta}</b><br>velocidade (km/h): %{r:.1f}<br>",
         "legendgroup": "30-35 km/h",
         "marker": {
          "color": "#9c179e"
         },
         "name": "30-35 km/h",
         "r": [
          31.93996618658198,
          33.81664276654269,
          34.80500919408005,
          34.97953397345372,
          31.390844811823612,
          30.371729305391998,
          32.79494767490898,
          31.5637445814022,
          34.98393142572804,
          30.682591839673943,
          34.211508531486956,
          33.16855890749521,
          31.075630870507027,
          33.14552162811744,
          31.75759098231493,
          33.95768008860489,
          31.78430469587141
         ],
         "showlegend": true,
         "subplot": "polar",
         "theta": [
          "WSW",
          "WSW",
          "WNW",
          "S",
          "S",
          "NE",
          "E",
          "E",
          "E",
          "E",
          "E",
          "NW",
          "NW",
          "E",
          "ENE",
          "ENE",
          "SSW"
         ],
         "type": "barpolar"
        },
        {
         "customdata": [
          [
           "July, 2018"
          ],
          [
           "July, 2018"
          ],
          [
           "July, 2018"
          ],
          [
           "July, 2018"
          ],
          [
           "July, 2018"
          ],
          [
           "September, 2018"
          ],
          [
           "October, 2018"
          ],
          [
           "October, 2018"
          ],
          [
           "October, 2018"
          ],
          [
           "November, 2018"
          ],
          [
           "November, 2018"
          ],
          [
           "November, 2018"
          ],
          [
           "November, 2018"
          ],
          [
           "November, 2018"
          ],
          [
           "November, 2018"
          ],
          [
           "March, 2019"
          ],
          [
           "March, 2019"
          ],
          [
           "May, 2019"
          ],
          [
           "May, 2019"
          ],
          [
           "May, 2019"
          ]
         ],
         "hovertemplate": "<b>%{theta}</b><br>velocidade (km/h): %{r:.1f}<br>",
         "legendgroup": "35-40 km/h",
         "marker": {
          "color": "#7201a8"
         },
         "name": "35-40 km/h",
         "r": [
          37.40715537166604,
          38.50932946702624,
          35.98947347489257,
          36.66640867333438,
          37.01370601547431,
          38.594362515787175,
          38.93413624314746,
          39.894387825858395,
          38.66014134738774,
          35.335605796420744,
          36.77388504088234,
          38.9162843293141,
          38.171888936755686,
          37.0737050212143,
          38.667275531125846,
          35.189539610515084,
          37.92218857080906,
          35.95186929771587,
          36.713251572150654,
          38.80927376285202
         ],
         "showlegend": true,
         "subplot": "polar",
         "theta": [
          "WSW",
          "WSW",
          "WSW",
          "WSW",
          "W",
          "NW",
          "SW",
          "SSW",
          "S",
          "E",
          "E",
          "E",
          "ENE",
          "ENE",
          "SSW",
          "SSE",
          "SSE",
          "E",
          "ENE",
          "ENE"
         ],
         "type": "barpolar"
        },
        {
         "customdata": [
          [
           "October, 2018"
          ],
          [
           "May, 2019"
          ],
          [
           "May, 2019"
          ],
          [
           "May, 2019"
          ],
          [
           "May, 2019"
          ],
          [
           "May, 2019"
          ]
         ],
         "hovertemplate": "<b>%{theta}</b><br>velocidade (km/h): %{r:.1f}<br>",
         "legendgroup": "40-45 km/h",
         "marker": {
          "color": "#46039f"
         },
         "name": "40-45 km/h",
         "r": [
          40.695559389201144,
          40.507819257521184,
          43.40017171625056,
          44.06486383730258,
          42.03826106061037,
          40.34458854666904
         ],
         "showlegend": true,
         "subplot": "polar",
         "theta": [
          "S",
          "E",
          "E",
          "E",
          "E",
          "ENE"
         ],
         "type": "barpolar"
        }
       ],
       "layout": {
        "annotations": [
         {
          "font": {
           "color": "black",
           "size": 14
          },
          "showarrow": false,
          "text": "<b>Altitude: 909m",
          "x": 0.01,
          "xref": "paper",
          "y": 0.95,
          "yref": "paper"
         }
        ],
        "barmode": "relative",
        "font": {
         "family": "Open Sans"
        },
        "legend": {
         "title": {
          "font": {
           "size": 14
          },
          "text": "<b>Velocidade"
         },
         "tracegroupgap": 0,
         "traceorder": "reversed",
         "x": 1.1,
         "xanchor": "right",
         "y": 0.99,
         "yanchor": "top"
        },
        "margin": {
         "t": 60
        },
        "paper_bgcolor": "rgb(255, 255, 255)",
        "polar": {
         "angularaxis": {
          "categoryarray": [
           "N",
           "NNE",
           "NE",
           "ENE",
           "E",
           "ESE",
           "SE",
           "SSE",
           "S",
           "SSW",
           "SW",
           "WSW",
           "W",
           "WNW",
           "NW",
           "NNW"
          ],
          "categoryorder": "array",
          "direction": "clockwise",
          "rotation": 90,
          "tickfont": {
           "size": 15
          }
         },
         "domain": {
          "x": [
           0,
           1
          ],
          "y": [
           0,
           1
          ]
         },
         "radialaxis": {
          "showticklabels": false
         }
        },
        "template": {
         "data": {
          "bar": [
           {
            "error_x": {
             "color": "#2a3f5f"
            },
            "error_y": {
             "color": "#2a3f5f"
            },
            "marker": {
             "line": {
              "color": "#E5ECF6",
              "width": 0.5
             }
            },
            "type": "bar"
           }
          ],
          "barpolar": [
           {
            "marker": {
             "line": {
              "color": "#E5ECF6",
              "width": 0.5
             }
            },
            "type": "barpolar"
           }
          ],
          "carpet": [
           {
            "aaxis": {
             "endlinecolor": "#2a3f5f",
             "gridcolor": "white",
             "linecolor": "white",
             "minorgridcolor": "white",
             "startlinecolor": "#2a3f5f"
            },
            "baxis": {
             "endlinecolor": "#2a3f5f",
             "gridcolor": "white",
             "linecolor": "white",
             "minorgridcolor": "white",
             "startlinecolor": "#2a3f5f"
            },
            "type": "carpet"
           }
          ],
          "choropleth": [
           {
            "colorbar": {
             "outlinewidth": 0,
             "ticks": ""
            },
            "type": "choropleth"
           }
          ],
          "contour": [
           {
            "colorbar": {
             "outlinewidth": 0,
             "ticks": ""
            },
            "colorscale": [
             [
              0,
              "#0d0887"
             ],
             [
              0.1111111111111111,
              "#46039f"
             ],
             [
              0.2222222222222222,
              "#7201a8"
             ],
             [
              0.3333333333333333,
              "#9c179e"
             ],
             [
              0.4444444444444444,
              "#bd3786"
             ],
             [
              0.5555555555555556,
              "#d8576b"
             ],
             [
              0.6666666666666666,
              "#ed7953"
             ],
             [
              0.7777777777777778,
              "#fb9f3a"
             ],
             [
              0.8888888888888888,
              "#fdca26"
             ],
             [
              1,
              "#f0f921"
             ]
            ],
            "type": "contour"
           }
          ],
          "contourcarpet": [
           {
            "colorbar": {
             "outlinewidth": 0,
             "ticks": ""
            },
            "type": "contourcarpet"
           }
          ],
          "heatmap": [
           {
            "colorbar": {
             "outlinewidth": 0,
             "ticks": ""
            },
            "colorscale": [
             [
              0,
              "#0d0887"
             ],
             [
              0.1111111111111111,
              "#46039f"
             ],
             [
              0.2222222222222222,
              "#7201a8"
             ],
             [
              0.3333333333333333,
              "#9c179e"
             ],
             [
              0.4444444444444444,
              "#bd3786"
             ],
             [
              0.5555555555555556,
              "#d8576b"
             ],
             [
              0.6666666666666666,
              "#ed7953"
             ],
             [
              0.7777777777777778,
              "#fb9f3a"
             ],
             [
              0.8888888888888888,
              "#fdca26"
             ],
             [
              1,
              "#f0f921"
             ]
            ],
            "type": "heatmap"
           }
          ],
          "heatmapgl": [
           {
            "colorbar": {
             "outlinewidth": 0,
             "ticks": ""
            },
            "colorscale": [
             [
              0,
              "#0d0887"
             ],
             [
              0.1111111111111111,
              "#46039f"
             ],
             [
              0.2222222222222222,
              "#7201a8"
             ],
             [
              0.3333333333333333,
              "#9c179e"
             ],
             [
              0.4444444444444444,
              "#bd3786"
             ],
             [
              0.5555555555555556,
              "#d8576b"
             ],
             [
              0.6666666666666666,
              "#ed7953"
             ],
             [
              0.7777777777777778,
              "#fb9f3a"
             ],
             [
              0.8888888888888888,
              "#fdca26"
             ],
             [
              1,
              "#f0f921"
             ]
            ],
            "type": "heatmapgl"
           }
          ],
          "histogram": [
           {
            "marker": {
             "colorbar": {
              "outlinewidth": 0,
              "ticks": ""
             }
            },
            "type": "histogram"
           }
          ],
          "histogram2d": [
           {
            "colorbar": {
             "outlinewidth": 0,
             "ticks": ""
            },
            "colorscale": [
             [
              0,
              "#0d0887"
             ],
             [
              0.1111111111111111,
              "#46039f"
             ],
             [
              0.2222222222222222,
              "#7201a8"
             ],
             [
              0.3333333333333333,
              "#9c179e"
             ],
             [
              0.4444444444444444,
              "#bd3786"
             ],
             [
              0.5555555555555556,
              "#d8576b"
             ],
             [
              0.6666666666666666,
              "#ed7953"
             ],
             [
              0.7777777777777778,
              "#fb9f3a"
             ],
             [
              0.8888888888888888,
              "#fdca26"
             ],
             [
              1,
              "#f0f921"
             ]
            ],
            "type": "histogram2d"
           }
          ],
          "histogram2dcontour": [
           {
            "colorbar": {
             "outlinewidth": 0,
             "ticks": ""
            },
            "colorscale": [
             [
              0,
              "#0d0887"
             ],
             [
              0.1111111111111111,
              "#46039f"
             ],
             [
              0.2222222222222222,
              "#7201a8"
             ],
             [
              0.3333333333333333,
              "#9c179e"
             ],
             [
              0.4444444444444444,
              "#bd3786"
             ],
             [
              0.5555555555555556,
              "#d8576b"
             ],
             [
              0.6666666666666666,
              "#ed7953"
             ],
             [
              0.7777777777777778,
              "#fb9f3a"
             ],
             [
              0.8888888888888888,
              "#fdca26"
             ],
             [
              1,
              "#f0f921"
             ]
            ],
            "type": "histogram2dcontour"
           }
          ],
          "mesh3d": [
           {
            "colorbar": {
             "outlinewidth": 0,
             "ticks": ""
            },
            "type": "mesh3d"
           }
          ],
          "parcoords": [
           {
            "line": {
             "colorbar": {
              "outlinewidth": 0,
              "ticks": ""
             }
            },
            "type": "parcoords"
           }
          ],
          "pie": [
           {
            "automargin": true,
            "type": "pie"
           }
          ],
          "scatter": [
           {
            "marker": {
             "colorbar": {
              "outlinewidth": 0,
              "ticks": ""
             }
            },
            "type": "scatter"
           }
          ],
          "scatter3d": [
           {
            "line": {
             "colorbar": {
              "outlinewidth": 0,
              "ticks": ""
             }
            },
            "marker": {
             "colorbar": {
              "outlinewidth": 0,
              "ticks": ""
             }
            },
            "type": "scatter3d"
           }
          ],
          "scattercarpet": [
           {
            "marker": {
             "colorbar": {
              "outlinewidth": 0,
              "ticks": ""
             }
            },
            "type": "scattercarpet"
           }
          ],
          "scattergeo": [
           {
            "marker": {
             "colorbar": {
              "outlinewidth": 0,
              "ticks": ""
             }
            },
            "type": "scattergeo"
           }
          ],
          "scattergl": [
           {
            "marker": {
             "colorbar": {
              "outlinewidth": 0,
              "ticks": ""
             }
            },
            "type": "scattergl"
           }
          ],
          "scattermapbox": [
           {
            "marker": {
             "colorbar": {
              "outlinewidth": 0,
              "ticks": ""
             }
            },
            "type": "scattermapbox"
           }
          ],
          "scatterpolar": [
           {
            "marker": {
             "colorbar": {
              "outlinewidth": 0,
              "ticks": ""
             }
            },
            "type": "scatterpolar"
           }
          ],
          "scatterpolargl": [
           {
            "marker": {
             "colorbar": {
              "outlinewidth": 0,
              "ticks": ""
             }
            },
            "type": "scatterpolargl"
           }
          ],
          "scatterternary": [
           {
            "marker": {
             "colorbar": {
              "outlinewidth": 0,
              "ticks": ""
             }
            },
            "type": "scatterternary"
           }
          ],
          "surface": [
           {
            "colorbar": {
             "outlinewidth": 0,
             "ticks": ""
            },
            "colorscale": [
             [
              0,
              "#0d0887"
             ],
             [
              0.1111111111111111,
              "#46039f"
             ],
             [
              0.2222222222222222,
              "#7201a8"
             ],
             [
              0.3333333333333333,
              "#9c179e"
             ],
             [
              0.4444444444444444,
              "#bd3786"
             ],
             [
              0.5555555555555556,
              "#d8576b"
             ],
             [
              0.6666666666666666,
              "#ed7953"
             ],
             [
              0.7777777777777778,
              "#fb9f3a"
             ],
             [
              0.8888888888888888,
              "#fdca26"
             ],
             [
              1,
              "#f0f921"
             ]
            ],
            "type": "surface"
           }
          ],
          "table": [
           {
            "cells": {
             "fill": {
              "color": "#EBF0F8"
             },
             "line": {
              "color": "white"
             }
            },
            "header": {
             "fill": {
              "color": "#C8D4E3"
             },
             "line": {
              "color": "white"
             }
            },
            "type": "table"
           }
          ]
         },
         "layout": {
          "annotationdefaults": {
           "arrowcolor": "#2a3f5f",
           "arrowhead": 0,
           "arrowwidth": 1
          },
          "coloraxis": {
           "colorbar": {
            "outlinewidth": 0,
            "ticks": ""
           }
          },
          "colorscale": {
           "diverging": [
            [
             0,
             "#8e0152"
            ],
            [
             0.1,
             "#c51b7d"
            ],
            [
             0.2,
             "#de77ae"
            ],
            [
             0.3,
             "#f1b6da"
            ],
            [
             0.4,
             "#fde0ef"
            ],
            [
             0.5,
             "#f7f7f7"
            ],
            [
             0.6,
             "#e6f5d0"
            ],
            [
             0.7,
             "#b8e186"
            ],
            [
             0.8,
             "#7fbc41"
            ],
            [
             0.9,
             "#4d9221"
            ],
            [
             1,
             "#276419"
            ]
           ],
           "sequential": [
            [
             0,
             "#0d0887"
            ],
            [
             0.1111111111111111,
             "#46039f"
            ],
            [
             0.2222222222222222,
             "#7201a8"
            ],
            [
             0.3333333333333333,
             "#9c179e"
            ],
            [
             0.4444444444444444,
             "#bd3786"
            ],
            [
             0.5555555555555556,
             "#d8576b"
            ],
            [
             0.6666666666666666,
             "#ed7953"
            ],
            [
             0.7777777777777778,
             "#fb9f3a"
            ],
            [
             0.8888888888888888,
             "#fdca26"
            ],
            [
             1,
             "#f0f921"
            ]
           ],
           "sequentialminus": [
            [
             0,
             "#0d0887"
            ],
            [
             0.1111111111111111,
             "#46039f"
            ],
            [
             0.2222222222222222,
             "#7201a8"
            ],
            [
             0.3333333333333333,
             "#9c179e"
            ],
            [
             0.4444444444444444,
             "#bd3786"
            ],
            [
             0.5555555555555556,
             "#d8576b"
            ],
            [
             0.6666666666666666,
             "#ed7953"
            ],
            [
             0.7777777777777778,
             "#fb9f3a"
            ],
            [
             0.8888888888888888,
             "#fdca26"
            ],
            [
             1,
             "#f0f921"
            ]
           ]
          },
          "colorway": [
           "#636efa",
           "#EF553B",
           "#00cc96",
           "#ab63fa",
           "#FFA15A",
           "#19d3f3",
           "#FF6692",
           "#B6E880",
           "#FF97FF",
           "#FECB52"
          ],
          "font": {
           "color": "#2a3f5f"
          },
          "geo": {
           "bgcolor": "white",
           "lakecolor": "white",
           "landcolor": "#E5ECF6",
           "showlakes": true,
           "showland": true,
           "subunitcolor": "white"
          },
          "hoverlabel": {
           "align": "left"
          },
          "hovermode": "closest",
          "mapbox": {
           "style": "light"
          },
          "paper_bgcolor": "white",
          "plot_bgcolor": "#E5ECF6",
          "polar": {
           "angularaxis": {
            "gridcolor": "white",
            "linecolor": "white",
            "ticks": ""
           },
           "bgcolor": "#E5ECF6",
           "radialaxis": {
            "gridcolor": "white",
            "linecolor": "white",
            "ticks": ""
           }
          },
          "scene": {
           "xaxis": {
            "backgroundcolor": "#E5ECF6",
            "gridcolor": "white",
            "gridwidth": 2,
            "linecolor": "white",
            "showbackground": true,
            "ticks": "",
            "zerolinecolor": "white"
           },
           "yaxis": {
            "backgroundcolor": "#E5ECF6",
            "gridcolor": "white",
            "gridwidth": 2,
            "linecolor": "white",
            "showbackground": true,
            "ticks": "",
            "zerolinecolor": "white"
           },
           "zaxis": {
            "backgroundcolor": "#E5ECF6",
            "gridcolor": "white",
            "gridwidth": 2,
            "linecolor": "white",
            "showbackground": true,
            "ticks": "",
            "zerolinecolor": "white"
           }
          },
          "shapedefaults": {
           "line": {
            "color": "#2a3f5f"
           }
          },
          "ternary": {
           "aaxis": {
            "gridcolor": "white",
            "linecolor": "white",
            "ticks": ""
           },
           "baxis": {
            "gridcolor": "white",
            "linecolor": "white",
            "ticks": ""
           },
           "bgcolor": "#E5ECF6",
           "caxis": {
            "gridcolor": "white",
            "linecolor": "white",
            "ticks": ""
           }
          },
          "title": {
           "x": 0.05
          },
          "xaxis": {
           "automargin": true,
           "gridcolor": "white",
           "linecolor": "white",
           "ticks": "",
           "title": {
            "standoff": 15
           },
           "zerolinecolor": "white",
           "zerolinewidth": 2
          },
          "yaxis": {
           "automargin": true,
           "gridcolor": "white",
           "linecolor": "white",
           "ticks": "",
           "title": {
            "standoff": 15
           },
           "zerolinecolor": "white",
           "zerolinewidth": 2
          }
         }
        },
        "title": {
         "text": "<b>Distribuição das massas de ar resultantes em chuva no Soberbo",
         "x": 0.5,
         "xref": "paper",
         "y": 0.98
        }
       }
      }
     },
     "metadata": {}
    }
   ],
   "source": [
    "import plotly.express as px\n",
    "import plotly.graph_objects as go\n",
    "\n",
    "velocidade_cat = ['0-5 km/h', '5-10 km/h', '10-15 km/h', '15-20 km/h', '20-25 km/h', '25-30 km/h', '30-35 km/h', '35-40 km/h','40-45 km/h']\n",
    "dir_cat = [\"N\", \"NNE\", \"NE\", \"ENE\", \"E\", \"ESE\", \"SE\", \"SSE\", \"S\", \"SSW\", \"SW\", \"WSW\", \"W\", \"WNW\", \"NW\", \"NNW\"]\n",
    "\n",
    "fig = px.bar_polar(trajs_659,r='velocidade', theta='direção', color='velocidade_cat', \n",
    "                   category_orders={'velocidade_cat': velocidade_cat,\n",
    "                                    'direção': dir_cat}, \n",
    "                   color_discrete_sequence = px.colors.sequential.Plasma_r,\n",
    "                   hover_data={'data': True}\n",
    ")\n",
    "\n",
    "fig.update_layout(legend=dict(\n",
    "     traceorder='reversed',\n",
    "     yanchor='top',\n",
    "     y=0.99,\n",
    "     xanchor='right',\n",
    "     x=1.1,\n",
    "     title_font_size=14),\n",
    "     legend_title_text='<b>Velocidade',\n",
    "     title={'text': '<b>Distribuição das massas de ar resultantes em chuva no Soberbo',\n",
    "            'y': 0.98, 'x': 0.5, 'xref': 'paper'},\n",
    "     font_family='Open Sans',\n",
    "     polar_radialaxis_showticklabels=False,\n",
    "     annotations=[dict(\n",
    "        showarrow=False,\n",
    "        xref='paper',\n",
    "        yref='paper',\n",
    "        x=0.01, y=0.95,\n",
    "        text='<b>Altitude: 659m',\n",
    "        font=dict(size=14, color='black'))],\n",
    "     polar_angularaxis_tickfont_size = 15,\n",
    "     paper_bgcolor='rgb(255, 255, 255)'\n",
    ")\n",
    "\n",
    "fig.update_traces(hovertemplate=\n",
    "                  '<b>%{theta}</b><br>'+\n",
    "                  'velocidade (km/h): %{r:.1f}<br>')\n",
    "\n",
    "fig.show()"
   ]
  },
  {
   "cell_type": "markdown",
   "metadata": {},
   "source": [
    "# Criando os gráficos por mês"
   ]
  },
  {
   "cell_type": "code",
   "execution_count": 12,
   "metadata": {},
   "outputs": [
    {
     "output_type": "display_data",
     "data": {
      "application/vnd.plotly.v1+json": {
       "config": {
        "plotlyServerURL": "https://plotly.com"
       },
       "data": [
        {
         "customdata": [
          [
           "July, 2018"
          ],
          [
           "July, 2018"
          ]
         ],
         "hovertemplate": "velocidade_cat=10-15 km/h<br>velocidade=%{r}<br>direção=%{theta}<br>data=%{customdata[0]}<extra></extra>",
         "legendgroup": "10-15 km/h",
         "marker": {
          "color": "#f0f921"
         },
         "name": "10-15 km/h",
         "r": [
          10.941780705168783,
          13.14047502946574
         ],
         "showlegend": true,
         "subplot": "polar",
         "theta": [
          "E",
          "E"
         ],
         "type": "barpolar"
        },
        {
         "customdata": [
          [
           "July, 2018"
          ],
          [
           "July, 2018"
          ]
         ],
         "hovertemplate": "velocidade_cat=15-20 km/h<br>velocidade=%{r}<br>direção=%{theta}<br>data=%{customdata[0]}<extra></extra>",
         "legendgroup": "15-20 km/h",
         "marker": {
          "color": "#fdca26"
         },
         "name": "15-20 km/h",
         "r": [
          15.06830508053302,
          17.67673264492068
         ],
         "showlegend": true,
         "subplot": "polar",
         "theta": [
          "ENE",
          "ENE"
         ],
         "type": "barpolar"
        },
        {
         "customdata": [
          [
           "July, 2018"
          ],
          [
           "July, 2018"
          ],
          [
           "July, 2018"
          ]
         ],
         "hovertemplate": "velocidade_cat=25-30 km/h<br>velocidade=%{r}<br>direção=%{theta}<br>data=%{customdata[0]}<extra></extra>",
         "legendgroup": "25-30 km/h",
         "marker": {
          "color": "#fb9f3a"
         },
         "name": "25-30 km/h",
         "r": [
          27.97753793670888,
          28.973956754299078,
          28.31825737929467
         ],
         "showlegend": true,
         "subplot": "polar",
         "theta": [
          "SW",
          "W",
          "SW"
         ],
         "type": "barpolar"
        },
        {
         "customdata": [
          [
           "July, 2018"
          ],
          [
           "July, 2018"
          ],
          [
           "July, 2018"
          ],
          [
           "July, 2018"
          ]
         ],
         "hovertemplate": "velocidade_cat=30-35 km/h<br>velocidade=%{r}<br>direção=%{theta}<br>data=%{customdata[0]}<extra></extra>",
         "legendgroup": "30-35 km/h",
         "marker": {
          "color": "#ed7953"
         },
         "name": "30-35 km/h",
         "r": [
          31.41922102789937,
          34.76841246016229,
          33.138799404927106,
          33.01547674954852
         ],
         "showlegend": true,
         "subplot": "polar",
         "theta": [
          "SW",
          "WSW",
          "WSW",
          "WSW"
         ],
         "type": "barpolar"
        },
        {
         "customdata": [
          [
           "July, 2018"
          ]
         ],
         "hovertemplate": "velocidade_cat=35-40 km/h<br>velocidade=%{r}<br>direção=%{theta}<br>data=%{customdata[0]}<extra></extra>",
         "legendgroup": "35-40 km/h",
         "marker": {
          "color": "#d8576b"
         },
         "name": "35-40 km/h",
         "r": [
          36.05235420884468
         ],
         "showlegend": true,
         "subplot": "polar",
         "theta": [
          "SW"
         ],
         "type": "barpolar"
        }
       ],
       "layout": {
        "barmode": "relative",
        "font": {
         "family": "Open Sans"
        },
        "legend": {
         "title": {
          "font": {
           "size": 14
          },
          "text": "<b>Velocidade"
         },
         "tracegroupgap": 0,
         "traceorder": "reversed",
         "x": 1.1,
         "xanchor": "right",
         "y": 0.99,
         "yanchor": "top"
        },
        "margin": {
         "t": 60
        },
        "paper_bgcolor": "rgb(255, 255, 255)",
        "polar": {
         "angularaxis": {
          "categoryarray": [
           "N",
           "NNE",
           "NE",
           "ENE",
           "E",
           "ESE",
           "SE",
           "SSE",
           "S",
           "SSW",
           "SW",
           "WSW",
           "W",
           "WNW",
           "NW",
           "NNW"
          ],
          "categoryorder": "array",
          "direction": "clockwise",
          "rotation": 90,
          "tickfont": {
           "size": 15
          }
         },
         "domain": {
          "x": [
           0,
           1
          ],
          "y": [
           0,
           1
          ]
         },
         "radialaxis": {
          "showticklabels": false
         }
        },
        "template": {
         "data": {
          "bar": [
           {
            "error_x": {
             "color": "#2a3f5f"
            },
            "error_y": {
             "color": "#2a3f5f"
            },
            "marker": {
             "line": {
              "color": "#E5ECF6",
              "width": 0.5
             }
            },
            "type": "bar"
           }
          ],
          "barpolar": [
           {
            "marker": {
             "line": {
              "color": "#E5ECF6",
              "width": 0.5
             }
            },
            "type": "barpolar"
           }
          ],
          "carpet": [
           {
            "aaxis": {
             "endlinecolor": "#2a3f5f",
             "gridcolor": "white",
             "linecolor": "white",
             "minorgridcolor": "white",
             "startlinecolor": "#2a3f5f"
            },
            "baxis": {
             "endlinecolor": "#2a3f5f",
             "gridcolor": "white",
             "linecolor": "white",
             "minorgridcolor": "white",
             "startlinecolor": "#2a3f5f"
            },
            "type": "carpet"
           }
          ],
          "choropleth": [
           {
            "colorbar": {
             "outlinewidth": 0,
             "ticks": ""
            },
            "type": "choropleth"
           }
          ],
          "contour": [
           {
            "colorbar": {
             "outlinewidth": 0,
             "ticks": ""
            },
            "colorscale": [
             [
              0,
              "#0d0887"
             ],
             [
              0.1111111111111111,
              "#46039f"
             ],
             [
              0.2222222222222222,
              "#7201a8"
             ],
             [
              0.3333333333333333,
              "#9c179e"
             ],
             [
              0.4444444444444444,
              "#bd3786"
             ],
             [
              0.5555555555555556,
              "#d8576b"
             ],
             [
              0.6666666666666666,
              "#ed7953"
             ],
             [
              0.7777777777777778,
              "#fb9f3a"
             ],
             [
              0.8888888888888888,
              "#fdca26"
             ],
             [
              1,
              "#f0f921"
             ]
            ],
            "type": "contour"
           }
          ],
          "contourcarpet": [
           {
            "colorbar": {
             "outlinewidth": 0,
             "ticks": ""
            },
            "type": "contourcarpet"
           }
          ],
          "heatmap": [
           {
            "colorbar": {
             "outlinewidth": 0,
             "ticks": ""
            },
            "colorscale": [
             [
              0,
              "#0d0887"
             ],
             [
              0.1111111111111111,
              "#46039f"
             ],
             [
              0.2222222222222222,
              "#7201a8"
             ],
             [
              0.3333333333333333,
              "#9c179e"
             ],
             [
              0.4444444444444444,
              "#bd3786"
             ],
             [
              0.5555555555555556,
              "#d8576b"
             ],
             [
              0.6666666666666666,
              "#ed7953"
             ],
             [
              0.7777777777777778,
              "#fb9f3a"
             ],
             [
              0.8888888888888888,
              "#fdca26"
             ],
             [
              1,
              "#f0f921"
             ]
            ],
            "type": "heatmap"
           }
          ],
          "heatmapgl": [
           {
            "colorbar": {
             "outlinewidth": 0,
             "ticks": ""
            },
            "colorscale": [
             [
              0,
              "#0d0887"
             ],
             [
              0.1111111111111111,
              "#46039f"
             ],
             [
              0.2222222222222222,
              "#7201a8"
             ],
             [
              0.3333333333333333,
              "#9c179e"
             ],
             [
              0.4444444444444444,
              "#bd3786"
             ],
             [
              0.5555555555555556,
              "#d8576b"
             ],
             [
              0.6666666666666666,
              "#ed7953"
             ],
             [
              0.7777777777777778,
              "#fb9f3a"
             ],
             [
              0.8888888888888888,
              "#fdca26"
             ],
             [
              1,
              "#f0f921"
             ]
            ],
            "type": "heatmapgl"
           }
          ],
          "histogram": [
           {
            "marker": {
             "colorbar": {
              "outlinewidth": 0,
              "ticks": ""
             }
            },
            "type": "histogram"
           }
          ],
          "histogram2d": [
           {
            "colorbar": {
             "outlinewidth": 0,
             "ticks": ""
            },
            "colorscale": [
             [
              0,
              "#0d0887"
             ],
             [
              0.1111111111111111,
              "#46039f"
             ],
             [
              0.2222222222222222,
              "#7201a8"
             ],
             [
              0.3333333333333333,
              "#9c179e"
             ],
             [
              0.4444444444444444,
              "#bd3786"
             ],
             [
              0.5555555555555556,
              "#d8576b"
             ],
             [
              0.6666666666666666,
              "#ed7953"
             ],
             [
              0.7777777777777778,
              "#fb9f3a"
             ],
             [
              0.8888888888888888,
              "#fdca26"
             ],
             [
              1,
              "#f0f921"
             ]
            ],
            "type": "histogram2d"
           }
          ],
          "histogram2dcontour": [
           {
            "colorbar": {
             "outlinewidth": 0,
             "ticks": ""
            },
            "colorscale": [
             [
              0,
              "#0d0887"
             ],
             [
              0.1111111111111111,
              "#46039f"
             ],
             [
              0.2222222222222222,
              "#7201a8"
             ],
             [
              0.3333333333333333,
              "#9c179e"
             ],
             [
              0.4444444444444444,
              "#bd3786"
             ],
             [
              0.5555555555555556,
              "#d8576b"
             ],
             [
              0.6666666666666666,
              "#ed7953"
             ],
             [
              0.7777777777777778,
              "#fb9f3a"
             ],
             [
              0.8888888888888888,
              "#fdca26"
             ],
             [
              1,
              "#f0f921"
             ]
            ],
            "type": "histogram2dcontour"
           }
          ],
          "mesh3d": [
           {
            "colorbar": {
             "outlinewidth": 0,
             "ticks": ""
            },
            "type": "mesh3d"
           }
          ],
          "parcoords": [
           {
            "line": {
             "colorbar": {
              "outlinewidth": 0,
              "ticks": ""
             }
            },
            "type": "parcoords"
           }
          ],
          "pie": [
           {
            "automargin": true,
            "type": "pie"
           }
          ],
          "scatter": [
           {
            "marker": {
             "colorbar": {
              "outlinewidth": 0,
              "ticks": ""
             }
            },
            "type": "scatter"
           }
          ],
          "scatter3d": [
           {
            "line": {
             "colorbar": {
              "outlinewidth": 0,
              "ticks": ""
             }
            },
            "marker": {
             "colorbar": {
              "outlinewidth": 0,
              "ticks": ""
             }
            },
            "type": "scatter3d"
           }
          ],
          "scattercarpet": [
           {
            "marker": {
             "colorbar": {
              "outlinewidth": 0,
              "ticks": ""
             }
            },
            "type": "scattercarpet"
           }
          ],
          "scattergeo": [
           {
            "marker": {
             "colorbar": {
              "outlinewidth": 0,
              "ticks": ""
             }
            },
            "type": "scattergeo"
           }
          ],
          "scattergl": [
           {
            "marker": {
             "colorbar": {
              "outlinewidth": 0,
              "ticks": ""
             }
            },
            "type": "scattergl"
           }
          ],
          "scattermapbox": [
           {
            "marker": {
             "colorbar": {
              "outlinewidth": 0,
              "ticks": ""
             }
            },
            "type": "scattermapbox"
           }
          ],
          "scatterpolar": [
           {
            "marker": {
             "colorbar": {
              "outlinewidth": 0,
              "ticks": ""
             }
            },
            "type": "scatterpolar"
           }
          ],
          "scatterpolargl": [
           {
            "marker": {
             "colorbar": {
              "outlinewidth": 0,
              "ticks": ""
             }
            },
            "type": "scatterpolargl"
           }
          ],
          "scatterternary": [
           {
            "marker": {
             "colorbar": {
              "outlinewidth": 0,
              "ticks": ""
             }
            },
            "type": "scatterternary"
           }
          ],
          "surface": [
           {
            "colorbar": {
             "outlinewidth": 0,
             "ticks": ""
            },
            "colorscale": [
             [
              0,
              "#0d0887"
             ],
             [
              0.1111111111111111,
              "#46039f"
             ],
             [
              0.2222222222222222,
              "#7201a8"
             ],
             [
              0.3333333333333333,
              "#9c179e"
             ],
             [
              0.4444444444444444,
              "#bd3786"
             ],
             [
              0.5555555555555556,
              "#d8576b"
             ],
             [
              0.6666666666666666,
              "#ed7953"
             ],
             [
              0.7777777777777778,
              "#fb9f3a"
             ],
             [
              0.8888888888888888,
              "#fdca26"
             ],
             [
              1,
              "#f0f921"
             ]
            ],
            "type": "surface"
           }
          ],
          "table": [
           {
            "cells": {
             "fill": {
              "color": "#EBF0F8"
             },
             "line": {
              "color": "white"
             }
            },
            "header": {
             "fill": {
              "color": "#C8D4E3"
             },
             "line": {
              "color": "white"
             }
            },
            "type": "table"
           }
          ]
         },
         "layout": {
          "annotationdefaults": {
           "arrowcolor": "#2a3f5f",
           "arrowhead": 0,
           "arrowwidth": 1
          },
          "coloraxis": {
           "colorbar": {
            "outlinewidth": 0,
            "ticks": ""
           }
          },
          "colorscale": {
           "diverging": [
            [
             0,
             "#8e0152"
            ],
            [
             0.1,
             "#c51b7d"
            ],
            [
             0.2,
             "#de77ae"
            ],
            [
             0.3,
             "#f1b6da"
            ],
            [
             0.4,
             "#fde0ef"
            ],
            [
             0.5,
             "#f7f7f7"
            ],
            [
             0.6,
             "#e6f5d0"
            ],
            [
             0.7,
             "#b8e186"
            ],
            [
             0.8,
             "#7fbc41"
            ],
            [
             0.9,
             "#4d9221"
            ],
            [
             1,
             "#276419"
            ]
           ],
           "sequential": [
            [
             0,
             "#0d0887"
            ],
            [
             0.1111111111111111,
             "#46039f"
            ],
            [
             0.2222222222222222,
             "#7201a8"
            ],
            [
             0.3333333333333333,
             "#9c179e"
            ],
            [
             0.4444444444444444,
             "#bd3786"
            ],
            [
             0.5555555555555556,
             "#d8576b"
            ],
            [
             0.6666666666666666,
             "#ed7953"
            ],
            [
             0.7777777777777778,
             "#fb9f3a"
            ],
            [
             0.8888888888888888,
             "#fdca26"
            ],
            [
             1,
             "#f0f921"
            ]
           ],
           "sequentialminus": [
            [
             0,
             "#0d0887"
            ],
            [
             0.1111111111111111,
             "#46039f"
            ],
            [
             0.2222222222222222,
             "#7201a8"
            ],
            [
             0.3333333333333333,
             "#9c179e"
            ],
            [
             0.4444444444444444,
             "#bd3786"
            ],
            [
             0.5555555555555556,
             "#d8576b"
            ],
            [
             0.6666666666666666,
             "#ed7953"
            ],
            [
             0.7777777777777778,
             "#fb9f3a"
            ],
            [
             0.8888888888888888,
             "#fdca26"
            ],
            [
             1,
             "#f0f921"
            ]
           ]
          },
          "colorway": [
           "#636efa",
           "#EF553B",
           "#00cc96",
           "#ab63fa",
           "#FFA15A",
           "#19d3f3",
           "#FF6692",
           "#B6E880",
           "#FF97FF",
           "#FECB52"
          ],
          "font": {
           "color": "#2a3f5f"
          },
          "geo": {
           "bgcolor": "white",
           "lakecolor": "white",
           "landcolor": "#E5ECF6",
           "showlakes": true,
           "showland": true,
           "subunitcolor": "white"
          },
          "hoverlabel": {
           "align": "left"
          },
          "hovermode": "closest",
          "mapbox": {
           "style": "light"
          },
          "paper_bgcolor": "white",
          "plot_bgcolor": "#E5ECF6",
          "polar": {
           "angularaxis": {
            "gridcolor": "white",
            "linecolor": "white",
            "ticks": ""
           },
           "bgcolor": "#E5ECF6",
           "radialaxis": {
            "gridcolor": "white",
            "linecolor": "white",
            "ticks": ""
           }
          },
          "scene": {
           "xaxis": {
            "backgroundcolor": "#E5ECF6",
            "gridcolor": "white",
            "gridwidth": 2,
            "linecolor": "white",
            "showbackground": true,
            "ticks": "",
            "zerolinecolor": "white"
           },
           "yaxis": {
            "backgroundcolor": "#E5ECF6",
            "gridcolor": "white",
            "gridwidth": 2,
            "linecolor": "white",
            "showbackground": true,
            "ticks": "",
            "zerolinecolor": "white"
           },
           "zaxis": {
            "backgroundcolor": "#E5ECF6",
            "gridcolor": "white",
            "gridwidth": 2,
            "linecolor": "white",
            "showbackground": true,
            "ticks": "",
            "zerolinecolor": "white"
           }
          },
          "shapedefaults": {
           "line": {
            "color": "#2a3f5f"
           }
          },
          "ternary": {
           "aaxis": {
            "gridcolor": "white",
            "linecolor": "white",
            "ticks": ""
           },
           "baxis": {
            "gridcolor": "white",
            "linecolor": "white",
            "ticks": ""
           },
           "bgcolor": "#E5ECF6",
           "caxis": {
            "gridcolor": "white",
            "linecolor": "white",
            "ticks": ""
           }
          },
          "title": {
           "x": 0.05
          },
          "xaxis": {
           "automargin": true,
           "gridcolor": "white",
           "linecolor": "white",
           "ticks": "",
           "title": {
            "standoff": 15
           },
           "zerolinecolor": "white",
           "zerolinewidth": 2
          },
          "yaxis": {
           "automargin": true,
           "gridcolor": "white",
           "linecolor": "white",
           "ticks": "",
           "title": {
            "standoff": 15
           },
           "zerolinecolor": "white",
           "zerolinewidth": 2
          }
         }
        }
       }
      }
     },
     "metadata": {}
    },
    {
     "output_type": "display_data",
     "data": {
      "application/vnd.plotly.v1+json": {
       "config": {
        "plotlyServerURL": "https://plotly.com"
       },
       "data": [
        {
         "customdata": [
          [
           "August, 2018"
          ],
          [
           "August, 2018"
          ],
          [
           "August, 2018"
          ],
          [
           "August, 2018"
          ],
          [
           "August, 2018"
          ],
          [
           "August, 2018"
          ]
         ],
         "hovertemplate": "velocidade_cat=5-10 km/h<br>velocidade=%{r}<br>direção=%{theta}<br>data=%{customdata[0]}<extra></extra>",
         "legendgroup": "5-10 km/h",
         "marker": {
          "color": "#f0f921"
         },
         "name": "5-10 km/h",
         "r": [
          5.9285425696369565,
          7.210735676753117,
          7.666411155162705,
          8.958631870994779,
          6.286376142103226,
          7.359276119293439
         ],
         "showlegend": true,
         "subplot": "polar",
         "theta": [
          "S",
          "SE",
          "SSE",
          "SSE",
          "SE",
          "S"
         ],
         "type": "barpolar"
        },
        {
         "customdata": [
          [
           "August, 2018"
          ],
          [
           "August, 2018"
          ],
          [
           "August, 2018"
          ],
          [
           "August, 2018"
          ],
          [
           "August, 2018"
          ],
          [
           "August, 2018"
          ]
         ],
         "hovertemplate": "velocidade_cat=10-15 km/h<br>velocidade=%{r}<br>direção=%{theta}<br>data=%{customdata[0]}<extra></extra>",
         "legendgroup": "10-15 km/h",
         "marker": {
          "color": "#fdca26"
         },
         "name": "10-15 km/h",
         "r": [
          12.75080095523421,
          14.432134180363214,
          11.662220200288134,
          12.309254160996078,
          11.778535265473824,
          14.559479008536155
         ],
         "showlegend": true,
         "subplot": "polar",
         "theta": [
          null,
          "SSE",
          "ESE",
          "E",
          "E",
          "S"
         ],
         "type": "barpolar"
        },
        {
         "customdata": [
          [
           "August, 2018"
          ],
          [
           "August, 2018"
          ],
          [
           "August, 2018"
          ],
          [
           "August, 2018"
          ],
          [
           "August, 2018"
          ]
         ],
         "hovertemplate": "velocidade_cat=15-20 km/h<br>velocidade=%{r}<br>direção=%{theta}<br>data=%{customdata[0]}<extra></extra>",
         "legendgroup": "15-20 km/h",
         "marker": {
          "color": "#fb9f3a"
         },
         "name": "15-20 km/h",
         "r": [
          19.682704412758177,
          19.844547865849734,
          19.565120444300863,
          17.841312619871953,
          16.347174098296144
         ],
         "showlegend": true,
         "subplot": "polar",
         "theta": [
          "E",
          "E",
          "E",
          "NW",
          "S"
         ],
         "type": "barpolar"
        },
        {
         "customdata": [
          [
           "August, 2018"
          ],
          [
           "August, 2018"
          ],
          [
           "August, 2018"
          ],
          [
           "August, 2018"
          ]
         ],
         "hovertemplate": "velocidade_cat=20-25 km/h<br>velocidade=%{r}<br>direção=%{theta}<br>data=%{customdata[0]}<extra></extra>",
         "legendgroup": "20-25 km/h",
         "marker": {
          "color": "#ed7953"
         },
         "name": "20-25 km/h",
         "r": [
          20.12194038854132,
          23.669839247447317,
          23.463210095807877,
          20.736537512323643
         ],
         "showlegend": true,
         "subplot": "polar",
         "theta": [
          "ENE",
          "NE",
          "NE",
          "SSW"
         ],
         "type": "barpolar"
        },
        {
         "customdata": [
          [
           "August, 2018"
          ],
          [
           "August, 2018"
          ],
          [
           "August, 2018"
          ],
          [
           "August, 2018"
          ],
          [
           "August, 2018"
          ]
         ],
         "hovertemplate": "velocidade_cat=25-30 km/h<br>velocidade=%{r}<br>direção=%{theta}<br>data=%{customdata[0]}<extra></extra>",
         "legendgroup": "25-30 km/h",
         "marker": {
          "color": "#d8576b"
         },
         "name": "25-30 km/h",
         "r": [
          26.74392570285807,
          27.99573347851409,
          29.536765327300053,
          29.89786803435996,
          26.03782143344572
         ],
         "showlegend": true,
         "subplot": "polar",
         "theta": [
          "ENE",
          "ENE",
          "ENE",
          "SSW",
          "S"
         ],
         "type": "barpolar"
        }
       ],
       "layout": {
        "barmode": "relative",
        "font": {
         "family": "Open Sans"
        },
        "legend": {
         "title": {
          "font": {
           "size": 14
          },
          "text": "<b>Velocidade"
         },
         "tracegroupgap": 0,
         "traceorder": "reversed",
         "x": 1.1,
         "xanchor": "right",
         "y": 0.99,
         "yanchor": "top"
        },
        "margin": {
         "t": 60
        },
        "paper_bgcolor": "rgb(255, 255, 255)",
        "polar": {
         "angularaxis": {
          "categoryarray": [
           "N",
           "NNE",
           "NE",
           "ENE",
           "E",
           "ESE",
           "SE",
           "SSE",
           "S",
           "SSW",
           "SW",
           "WSW",
           "W",
           "WNW",
           "NW",
           "NNW"
          ],
          "categoryorder": "array",
          "direction": "clockwise",
          "rotation": 90,
          "tickfont": {
           "size": 15
          }
         },
         "domain": {
          "x": [
           0,
           1
          ],
          "y": [
           0,
           1
          ]
         },
         "radialaxis": {
          "showticklabels": false
         }
        },
        "template": {
         "data": {
          "bar": [
           {
            "error_x": {
             "color": "#2a3f5f"
            },
            "error_y": {
             "color": "#2a3f5f"
            },
            "marker": {
             "line": {
              "color": "#E5ECF6",
              "width": 0.5
             }
            },
            "type": "bar"
           }
          ],
          "barpolar": [
           {
            "marker": {
             "line": {
              "color": "#E5ECF6",
              "width": 0.5
             }
            },
            "type": "barpolar"
           }
          ],
          "carpet": [
           {
            "aaxis": {
             "endlinecolor": "#2a3f5f",
             "gridcolor": "white",
             "linecolor": "white",
             "minorgridcolor": "white",
             "startlinecolor": "#2a3f5f"
            },
            "baxis": {
             "endlinecolor": "#2a3f5f",
             "gridcolor": "white",
             "linecolor": "white",
             "minorgridcolor": "white",
             "startlinecolor": "#2a3f5f"
            },
            "type": "carpet"
           }
          ],
          "choropleth": [
           {
            "colorbar": {
             "outlinewidth": 0,
             "ticks": ""
            },
            "type": "choropleth"
           }
          ],
          "contour": [
           {
            "colorbar": {
             "outlinewidth": 0,
             "ticks": ""
            },
            "colorscale": [
             [
              0,
              "#0d0887"
             ],
             [
              0.1111111111111111,
              "#46039f"
             ],
             [
              0.2222222222222222,
              "#7201a8"
             ],
             [
              0.3333333333333333,
              "#9c179e"
             ],
             [
              0.4444444444444444,
              "#bd3786"
             ],
             [
              0.5555555555555556,
              "#d8576b"
             ],
             [
              0.6666666666666666,
              "#ed7953"
             ],
             [
              0.7777777777777778,
              "#fb9f3a"
             ],
             [
              0.8888888888888888,
              "#fdca26"
             ],
             [
              1,
              "#f0f921"
             ]
            ],
            "type": "contour"
           }
          ],
          "contourcarpet": [
           {
            "colorbar": {
             "outlinewidth": 0,
             "ticks": ""
            },
            "type": "contourcarpet"
           }
          ],
          "heatmap": [
           {
            "colorbar": {
             "outlinewidth": 0,
             "ticks": ""
            },
            "colorscale": [
             [
              0,
              "#0d0887"
             ],
             [
              0.1111111111111111,
              "#46039f"
             ],
             [
              0.2222222222222222,
              "#7201a8"
             ],
             [
              0.3333333333333333,
              "#9c179e"
             ],
             [
              0.4444444444444444,
              "#bd3786"
             ],
             [
              0.5555555555555556,
              "#d8576b"
             ],
             [
              0.6666666666666666,
              "#ed7953"
             ],
             [
              0.7777777777777778,
              "#fb9f3a"
             ],
             [
              0.8888888888888888,
              "#fdca26"
             ],
             [
              1,
              "#f0f921"
             ]
            ],
            "type": "heatmap"
           }
          ],
          "heatmapgl": [
           {
            "colorbar": {
             "outlinewidth": 0,
             "ticks": ""
            },
            "colorscale": [
             [
              0,
              "#0d0887"
             ],
             [
              0.1111111111111111,
              "#46039f"
             ],
             [
              0.2222222222222222,
              "#7201a8"
             ],
             [
              0.3333333333333333,
              "#9c179e"
             ],
             [
              0.4444444444444444,
              "#bd3786"
             ],
             [
              0.5555555555555556,
              "#d8576b"
             ],
             [
              0.6666666666666666,
              "#ed7953"
             ],
             [
              0.7777777777777778,
              "#fb9f3a"
             ],
             [
              0.8888888888888888,
              "#fdca26"
             ],
             [
              1,
              "#f0f921"
             ]
            ],
            "type": "heatmapgl"
           }
          ],
          "histogram": [
           {
            "marker": {
             "colorbar": {
              "outlinewidth": 0,
              "ticks": ""
             }
            },
            "type": "histogram"
           }
          ],
          "histogram2d": [
           {
            "colorbar": {
             "outlinewidth": 0,
             "ticks": ""
            },
            "colorscale": [
             [
              0,
              "#0d0887"
             ],
             [
              0.1111111111111111,
              "#46039f"
             ],
             [
              0.2222222222222222,
              "#7201a8"
             ],
             [
              0.3333333333333333,
              "#9c179e"
             ],
             [
              0.4444444444444444,
              "#bd3786"
             ],
             [
              0.5555555555555556,
              "#d8576b"
             ],
             [
              0.6666666666666666,
              "#ed7953"
             ],
             [
              0.7777777777777778,
              "#fb9f3a"
             ],
             [
              0.8888888888888888,
              "#fdca26"
             ],
             [
              1,
              "#f0f921"
             ]
            ],
            "type": "histogram2d"
           }
          ],
          "histogram2dcontour": [
           {
            "colorbar": {
             "outlinewidth": 0,
             "ticks": ""
            },
            "colorscale": [
             [
              0,
              "#0d0887"
             ],
             [
              0.1111111111111111,
              "#46039f"
             ],
             [
              0.2222222222222222,
              "#7201a8"
             ],
             [
              0.3333333333333333,
              "#9c179e"
             ],
             [
              0.4444444444444444,
              "#bd3786"
             ],
             [
              0.5555555555555556,
              "#d8576b"
             ],
             [
              0.6666666666666666,
              "#ed7953"
             ],
             [
              0.7777777777777778,
              "#fb9f3a"
             ],
             [
              0.8888888888888888,
              "#fdca26"
             ],
             [
              1,
              "#f0f921"
             ]
            ],
            "type": "histogram2dcontour"
           }
          ],
          "mesh3d": [
           {
            "colorbar": {
             "outlinewidth": 0,
             "ticks": ""
            },
            "type": "mesh3d"
           }
          ],
          "parcoords": [
           {
            "line": {
             "colorbar": {
              "outlinewidth": 0,
              "ticks": ""
             }
            },
            "type": "parcoords"
           }
          ],
          "pie": [
           {
            "automargin": true,
            "type": "pie"
           }
          ],
          "scatter": [
           {
            "marker": {
             "colorbar": {
              "outlinewidth": 0,
              "ticks": ""
             }
            },
            "type": "scatter"
           }
          ],
          "scatter3d": [
           {
            "line": {
             "colorbar": {
              "outlinewidth": 0,
              "ticks": ""
             }
            },
            "marker": {
             "colorbar": {
              "outlinewidth": 0,
              "ticks": ""
             }
            },
            "type": "scatter3d"
           }
          ],
          "scattercarpet": [
           {
            "marker": {
             "colorbar": {
              "outlinewidth": 0,
              "ticks": ""
             }
            },
            "type": "scattercarpet"
           }
          ],
          "scattergeo": [
           {
            "marker": {
             "colorbar": {
              "outlinewidth": 0,
              "ticks": ""
             }
            },
            "type": "scattergeo"
           }
          ],
          "scattergl": [
           {
            "marker": {
             "colorbar": {
              "outlinewidth": 0,
              "ticks": ""
             }
            },
            "type": "scattergl"
           }
          ],
          "scattermapbox": [
           {
            "marker": {
             "colorbar": {
              "outlinewidth": 0,
              "ticks": ""
             }
            },
            "type": "scattermapbox"
           }
          ],
          "scatterpolar": [
           {
            "marker": {
             "colorbar": {
              "outlinewidth": 0,
              "ticks": ""
             }
            },
            "type": "scatterpolar"
           }
          ],
          "scatterpolargl": [
           {
            "marker": {
             "colorbar": {
              "outlinewidth": 0,
              "ticks": ""
             }
            },
            "type": "scatterpolargl"
           }
          ],
          "scatterternary": [
           {
            "marker": {
             "colorbar": {
              "outlinewidth": 0,
              "ticks": ""
             }
            },
            "type": "scatterternary"
           }
          ],
          "surface": [
           {
            "colorbar": {
             "outlinewidth": 0,
             "ticks": ""
            },
            "colorscale": [
             [
              0,
              "#0d0887"
             ],
             [
              0.1111111111111111,
              "#46039f"
             ],
             [
              0.2222222222222222,
              "#7201a8"
             ],
             [
              0.3333333333333333,
              "#9c179e"
             ],
             [
              0.4444444444444444,
              "#bd3786"
             ],
             [
              0.5555555555555556,
              "#d8576b"
             ],
             [
              0.6666666666666666,
              "#ed7953"
             ],
             [
              0.7777777777777778,
              "#fb9f3a"
             ],
             [
              0.8888888888888888,
              "#fdca26"
             ],
             [
              1,
              "#f0f921"
             ]
            ],
            "type": "surface"
           }
          ],
          "table": [
           {
            "cells": {
             "fill": {
              "color": "#EBF0F8"
             },
             "line": {
              "color": "white"
             }
            },
            "header": {
             "fill": {
              "color": "#C8D4E3"
             },
             "line": {
              "color": "white"
             }
            },
            "type": "table"
           }
          ]
         },
         "layout": {
          "annotationdefaults": {
           "arrowcolor": "#2a3f5f",
           "arrowhead": 0,
           "arrowwidth": 1
          },
          "coloraxis": {
           "colorbar": {
            "outlinewidth": 0,
            "ticks": ""
           }
          },
          "colorscale": {
           "diverging": [
            [
             0,
             "#8e0152"
            ],
            [
             0.1,
             "#c51b7d"
            ],
            [
             0.2,
             "#de77ae"
            ],
            [
             0.3,
             "#f1b6da"
            ],
            [
             0.4,
             "#fde0ef"
            ],
            [
             0.5,
             "#f7f7f7"
            ],
            [
             0.6,
             "#e6f5d0"
            ],
            [
             0.7,
             "#b8e186"
            ],
            [
             0.8,
             "#7fbc41"
            ],
            [
             0.9,
             "#4d9221"
            ],
            [
             1,
             "#276419"
            ]
           ],
           "sequential": [
            [
             0,
             "#0d0887"
            ],
            [
             0.1111111111111111,
             "#46039f"
            ],
            [
             0.2222222222222222,
             "#7201a8"
            ],
            [
             0.3333333333333333,
             "#9c179e"
            ],
            [
             0.4444444444444444,
             "#bd3786"
            ],
            [
             0.5555555555555556,
             "#d8576b"
            ],
            [
             0.6666666666666666,
             "#ed7953"
            ],
            [
             0.7777777777777778,
             "#fb9f3a"
            ],
            [
             0.8888888888888888,
             "#fdca26"
            ],
            [
             1,
             "#f0f921"
            ]
           ],
           "sequentialminus": [
            [
             0,
             "#0d0887"
            ],
            [
             0.1111111111111111,
             "#46039f"
            ],
            [
             0.2222222222222222,
             "#7201a8"
            ],
            [
             0.3333333333333333,
             "#9c179e"
            ],
            [
             0.4444444444444444,
             "#bd3786"
            ],
            [
             0.5555555555555556,
             "#d8576b"
            ],
            [
             0.6666666666666666,
             "#ed7953"
            ],
            [
             0.7777777777777778,
             "#fb9f3a"
            ],
            [
             0.8888888888888888,
             "#fdca26"
            ],
            [
             1,
             "#f0f921"
            ]
           ]
          },
          "colorway": [
           "#636efa",
           "#EF553B",
           "#00cc96",
           "#ab63fa",
           "#FFA15A",
           "#19d3f3",
           "#FF6692",
           "#B6E880",
           "#FF97FF",
           "#FECB52"
          ],
          "font": {
           "color": "#2a3f5f"
          },
          "geo": {
           "bgcolor": "white",
           "lakecolor": "white",
           "landcolor": "#E5ECF6",
           "showlakes": true,
           "showland": true,
           "subunitcolor": "white"
          },
          "hoverlabel": {
           "align": "left"
          },
          "hovermode": "closest",
          "mapbox": {
           "style": "light"
          },
          "paper_bgcolor": "white",
          "plot_bgcolor": "#E5ECF6",
          "polar": {
           "angularaxis": {
            "gridcolor": "white",
            "linecolor": "white",
            "ticks": ""
           },
           "bgcolor": "#E5ECF6",
           "radialaxis": {
            "gridcolor": "white",
            "linecolor": "white",
            "ticks": ""
           }
          },
          "scene": {
           "xaxis": {
            "backgroundcolor": "#E5ECF6",
            "gridcolor": "white",
            "gridwidth": 2,
            "linecolor": "white",
            "showbackground": true,
            "ticks": "",
            "zerolinecolor": "white"
           },
           "yaxis": {
            "backgroundcolor": "#E5ECF6",
            "gridcolor": "white",
            "gridwidth": 2,
            "linecolor": "white",
            "showbackground": true,
            "ticks": "",
            "zerolinecolor": "white"
           },
           "zaxis": {
            "backgroundcolor": "#E5ECF6",
            "gridcolor": "white",
            "gridwidth": 2,
            "linecolor": "white",
            "showbackground": true,
            "ticks": "",
            "zerolinecolor": "white"
           }
          },
          "shapedefaults": {
           "line": {
            "color": "#2a3f5f"
           }
          },
          "ternary": {
           "aaxis": {
            "gridcolor": "white",
            "linecolor": "white",
            "ticks": ""
           },
           "baxis": {
            "gridcolor": "white",
            "linecolor": "white",
            "ticks": ""
           },
           "bgcolor": "#E5ECF6",
           "caxis": {
            "gridcolor": "white",
            "linecolor": "white",
            "ticks": ""
           }
          },
          "title": {
           "x": 0.05
          },
          "xaxis": {
           "automargin": true,
           "gridcolor": "white",
           "linecolor": "white",
           "ticks": "",
           "title": {
            "standoff": 15
           },
           "zerolinecolor": "white",
           "zerolinewidth": 2
          },
          "yaxis": {
           "automargin": true,
           "gridcolor": "white",
           "linecolor": "white",
           "ticks": "",
           "title": {
            "standoff": 15
           },
           "zerolinecolor": "white",
           "zerolinewidth": 2
          }
         }
        }
       }
      }
     },
     "metadata": {}
    },
    {
     "output_type": "display_data",
     "data": {
      "application/vnd.plotly.v1+json": {
       "config": {
        "plotlyServerURL": "https://plotly.com"
       },
       "data": [
        {
         "customdata": [
          [
           "September, 2018"
          ],
          [
           "September, 2018"
          ],
          [
           "September, 2018"
          ]
         ],
         "hovertemplate": "velocidade_cat=0-5 km/h<br>velocidade=%{r}<br>direção=%{theta}<br>data=%{customdata[0]}<extra></extra>",
         "legendgroup": "0-5 km/h",
         "marker": {
          "color": "#f0f921"
         },
         "name": "0-5 km/h",
         "r": [
          4.945072800273213,
          4.2342897869654355,
          4.471908429294965
         ],
         "showlegend": true,
         "subplot": "polar",
         "theta": [
          "S",
          "NW",
          "W"
         ],
         "type": "barpolar"
        },
        {
         "customdata": [
          [
           "September, 2018"
          ],
          [
           "September, 2018"
          ]
         ],
         "hovertemplate": "velocidade_cat=5-10 km/h<br>velocidade=%{r}<br>direção=%{theta}<br>data=%{customdata[0]}<extra></extra>",
         "legendgroup": "5-10 km/h",
         "marker": {
          "color": "#fdca26"
         },
         "name": "5-10 km/h",
         "r": [
          9.345795685761457,
          8.66976153074585
         ],
         "showlegend": true,
         "subplot": "polar",
         "theta": [
          "SSW",
          "NNW"
         ],
         "type": "barpolar"
        },
        {
         "customdata": [
          [
           "September, 2018"
          ],
          [
           "September, 2018"
          ],
          [
           "September, 2018"
          ]
         ],
         "hovertemplate": "velocidade_cat=10-15 km/h<br>velocidade=%{r}<br>direção=%{theta}<br>data=%{customdata[0]}<extra></extra>",
         "legendgroup": "10-15 km/h",
         "marker": {
          "color": "#fb9f3a"
         },
         "name": "10-15 km/h",
         "r": [
          12.142210383616302,
          14.69438590074466,
          14.78507507589998
         ],
         "showlegend": true,
         "subplot": "polar",
         "theta": [
          "W",
          "NNE",
          "SW"
         ],
         "type": "barpolar"
        },
        {
         "customdata": [
          [
           "September, 2018"
          ],
          [
           "September, 2018"
          ],
          [
           "September, 2018"
          ],
          [
           "September, 2018"
          ],
          [
           "September, 2018"
          ],
          [
           "September, 2018"
          ],
          [
           "September, 2018"
          ]
         ],
         "hovertemplate": "velocidade_cat=15-20 km/h<br>velocidade=%{r}<br>direção=%{theta}<br>data=%{customdata[0]}<extra></extra>",
         "legendgroup": "15-20 km/h",
         "marker": {
          "color": "#ed7953"
         },
         "name": "15-20 km/h",
         "r": [
          17.437446745438088,
          18.387447375859317,
          18.00144174781564,
          17.017146176724328,
          19.74701000151662,
          19.51163665610813,
          19.579755463233067
         ],
         "showlegend": true,
         "subplot": "polar",
         "theta": [
          "W",
          "ENE",
          "NE",
          null,
          "WSW",
          "WSW",
          "N"
         ],
         "type": "barpolar"
        },
        {
         "customdata": [
          [
           "September, 2018"
          ],
          [
           "September, 2018"
          ]
         ],
         "hovertemplate": "velocidade_cat=20-25 km/h<br>velocidade=%{r}<br>direção=%{theta}<br>data=%{customdata[0]}<extra></extra>",
         "legendgroup": "20-25 km/h",
         "marker": {
          "color": "#d8576b"
         },
         "name": "20-25 km/h",
         "r": [
          22.389650912866493,
          20.561338721006955
         ],
         "showlegend": true,
         "subplot": "polar",
         "theta": [
          "ENE",
          "WSW"
         ],
         "type": "barpolar"
        },
        {
         "customdata": [
          [
           "September, 2018"
          ]
         ],
         "hovertemplate": "velocidade_cat=25-30 km/h<br>velocidade=%{r}<br>direção=%{theta}<br>data=%{customdata[0]}<extra></extra>",
         "legendgroup": "25-30 km/h",
         "marker": {
          "color": "#bd3786"
         },
         "name": "25-30 km/h",
         "r": [
          29.00506335107688
         ],
         "showlegend": true,
         "subplot": "polar",
         "theta": [
          "NW"
         ],
         "type": "barpolar"
        },
        {
         "customdata": [
          [
           "September, 2018"
          ]
         ],
         "hovertemplate": "velocidade_cat=30-35 km/h<br>velocidade=%{r}<br>direção=%{theta}<br>data=%{customdata[0]}<extra></extra>",
         "legendgroup": "30-35 km/h",
         "marker": {
          "color": "#9c179e"
         },
         "name": "30-35 km/h",
         "r": [
          33.26565153427761
         ],
         "showlegend": true,
         "subplot": "polar",
         "theta": [
          "NW"
         ],
         "type": "barpolar"
        }
       ],
       "layout": {
        "barmode": "relative",
        "font": {
         "family": "Open Sans"
        },
        "legend": {
         "title": {
          "font": {
           "size": 14
          },
          "text": "<b>Velocidade"
         },
         "tracegroupgap": 0,
         "traceorder": "reversed",
         "x": 1.1,
         "xanchor": "right",
         "y": 0.99,
         "yanchor": "top"
        },
        "margin": {
         "t": 60
        },
        "paper_bgcolor": "rgb(255, 255, 255)",
        "polar": {
         "angularaxis": {
          "categoryarray": [
           "N",
           "NNE",
           "NE",
           "ENE",
           "E",
           "ESE",
           "SE",
           "SSE",
           "S",
           "SSW",
           "SW",
           "WSW",
           "W",
           "WNW",
           "NW",
           "NNW"
          ],
          "categoryorder": "array",
          "direction": "clockwise",
          "rotation": 90,
          "tickfont": {
           "size": 15
          }
         },
         "domain": {
          "x": [
           0,
           1
          ],
          "y": [
           0,
           1
          ]
         },
         "radialaxis": {
          "showticklabels": false
         }
        },
        "template": {
         "data": {
          "bar": [
           {
            "error_x": {
             "color": "#2a3f5f"
            },
            "error_y": {
             "color": "#2a3f5f"
            },
            "marker": {
             "line": {
              "color": "#E5ECF6",
              "width": 0.5
             }
            },
            "type": "bar"
           }
          ],
          "barpolar": [
           {
            "marker": {
             "line": {
              "color": "#E5ECF6",
              "width": 0.5
             }
            },
            "type": "barpolar"
           }
          ],
          "carpet": [
           {
            "aaxis": {
             "endlinecolor": "#2a3f5f",
             "gridcolor": "white",
             "linecolor": "white",
             "minorgridcolor": "white",
             "startlinecolor": "#2a3f5f"
            },
            "baxis": {
             "endlinecolor": "#2a3f5f",
             "gridcolor": "white",
             "linecolor": "white",
             "minorgridcolor": "white",
             "startlinecolor": "#2a3f5f"
            },
            "type": "carpet"
           }
          ],
          "choropleth": [
           {
            "colorbar": {
             "outlinewidth": 0,
             "ticks": ""
            },
            "type": "choropleth"
           }
          ],
          "contour": [
           {
            "colorbar": {
             "outlinewidth": 0,
             "ticks": ""
            },
            "colorscale": [
             [
              0,
              "#0d0887"
             ],
             [
              0.1111111111111111,
              "#46039f"
             ],
             [
              0.2222222222222222,
              "#7201a8"
             ],
             [
              0.3333333333333333,
              "#9c179e"
             ],
             [
              0.4444444444444444,
              "#bd3786"
             ],
             [
              0.5555555555555556,
              "#d8576b"
             ],
             [
              0.6666666666666666,
              "#ed7953"
             ],
             [
              0.7777777777777778,
              "#fb9f3a"
             ],
             [
              0.8888888888888888,
              "#fdca26"
             ],
             [
              1,
              "#f0f921"
             ]
            ],
            "type": "contour"
           }
          ],
          "contourcarpet": [
           {
            "colorbar": {
             "outlinewidth": 0,
             "ticks": ""
            },
            "type": "contourcarpet"
           }
          ],
          "heatmap": [
           {
            "colorbar": {
             "outlinewidth": 0,
             "ticks": ""
            },
            "colorscale": [
             [
              0,
              "#0d0887"
             ],
             [
              0.1111111111111111,
              "#46039f"
             ],
             [
              0.2222222222222222,
              "#7201a8"
             ],
             [
              0.3333333333333333,
              "#9c179e"
             ],
             [
              0.4444444444444444,
              "#bd3786"
             ],
             [
              0.5555555555555556,
              "#d8576b"
             ],
             [
              0.6666666666666666,
              "#ed7953"
             ],
             [
              0.7777777777777778,
              "#fb9f3a"
             ],
             [
              0.8888888888888888,
              "#fdca26"
             ],
             [
              1,
              "#f0f921"
             ]
            ],
            "type": "heatmap"
           }
          ],
          "heatmapgl": [
           {
            "colorbar": {
             "outlinewidth": 0,
             "ticks": ""
            },
            "colorscale": [
             [
              0,
              "#0d0887"
             ],
             [
              0.1111111111111111,
              "#46039f"
             ],
             [
              0.2222222222222222,
              "#7201a8"
             ],
             [
              0.3333333333333333,
              "#9c179e"
             ],
             [
              0.4444444444444444,
              "#bd3786"
             ],
             [
              0.5555555555555556,
              "#d8576b"
             ],
             [
              0.6666666666666666,
              "#ed7953"
             ],
             [
              0.7777777777777778,
              "#fb9f3a"
             ],
             [
              0.8888888888888888,
              "#fdca26"
             ],
             [
              1,
              "#f0f921"
             ]
            ],
            "type": "heatmapgl"
           }
          ],
          "histogram": [
           {
            "marker": {
             "colorbar": {
              "outlinewidth": 0,
              "ticks": ""
             }
            },
            "type": "histogram"
           }
          ],
          "histogram2d": [
           {
            "colorbar": {
             "outlinewidth": 0,
             "ticks": ""
            },
            "colorscale": [
             [
              0,
              "#0d0887"
             ],
             [
              0.1111111111111111,
              "#46039f"
             ],
             [
              0.2222222222222222,
              "#7201a8"
             ],
             [
              0.3333333333333333,
              "#9c179e"
             ],
             [
              0.4444444444444444,
              "#bd3786"
             ],
             [
              0.5555555555555556,
              "#d8576b"
             ],
             [
              0.6666666666666666,
              "#ed7953"
             ],
             [
              0.7777777777777778,
              "#fb9f3a"
             ],
             [
              0.8888888888888888,
              "#fdca26"
             ],
             [
              1,
              "#f0f921"
             ]
            ],
            "type": "histogram2d"
           }
          ],
          "histogram2dcontour": [
           {
            "colorbar": {
             "outlinewidth": 0,
             "ticks": ""
            },
            "colorscale": [
             [
              0,
              "#0d0887"
             ],
             [
              0.1111111111111111,
              "#46039f"
             ],
             [
              0.2222222222222222,
              "#7201a8"
             ],
             [
              0.3333333333333333,
              "#9c179e"
             ],
             [
              0.4444444444444444,
              "#bd3786"
             ],
             [
              0.5555555555555556,
              "#d8576b"
             ],
             [
              0.6666666666666666,
              "#ed7953"
             ],
             [
              0.7777777777777778,
              "#fb9f3a"
             ],
             [
              0.8888888888888888,
              "#fdca26"
             ],
             [
              1,
              "#f0f921"
             ]
            ],
            "type": "histogram2dcontour"
           }
          ],
          "mesh3d": [
           {
            "colorbar": {
             "outlinewidth": 0,
             "ticks": ""
            },
            "type": "mesh3d"
           }
          ],
          "parcoords": [
           {
            "line": {
             "colorbar": {
              "outlinewidth": 0,
              "ticks": ""
             }
            },
            "type": "parcoords"
           }
          ],
          "pie": [
           {
            "automargin": true,
            "type": "pie"
           }
          ],
          "scatter": [
           {
            "marker": {
             "colorbar": {
              "outlinewidth": 0,
              "ticks": ""
             }
            },
            "type": "scatter"
           }
          ],
          "scatter3d": [
           {
            "line": {
             "colorbar": {
              "outlinewidth": 0,
              "ticks": ""
             }
            },
            "marker": {
             "colorbar": {
              "outlinewidth": 0,
              "ticks": ""
             }
            },
            "type": "scatter3d"
           }
          ],
          "scattercarpet": [
           {
            "marker": {
             "colorbar": {
              "outlinewidth": 0,
              "ticks": ""
             }
            },
            "type": "scattercarpet"
           }
          ],
          "scattergeo": [
           {
            "marker": {
             "colorbar": {
              "outlinewidth": 0,
              "ticks": ""
             }
            },
            "type": "scattergeo"
           }
          ],
          "scattergl": [
           {
            "marker": {
             "colorbar": {
              "outlinewidth": 0,
              "ticks": ""
             }
            },
            "type": "scattergl"
           }
          ],
          "scattermapbox": [
           {
            "marker": {
             "colorbar": {
              "outlinewidth": 0,
              "ticks": ""
             }
            },
            "type": "scattermapbox"
           }
          ],
          "scatterpolar": [
           {
            "marker": {
             "colorbar": {
              "outlinewidth": 0,
              "ticks": ""
             }
            },
            "type": "scatterpolar"
           }
          ],
          "scatterpolargl": [
           {
            "marker": {
             "colorbar": {
              "outlinewidth": 0,
              "ticks": ""
             }
            },
            "type": "scatterpolargl"
           }
          ],
          "scatterternary": [
           {
            "marker": {
             "colorbar": {
              "outlinewidth": 0,
              "ticks": ""
             }
            },
            "type": "scatterternary"
           }
          ],
          "surface": [
           {
            "colorbar": {
             "outlinewidth": 0,
             "ticks": ""
            },
            "colorscale": [
             [
              0,
              "#0d0887"
             ],
             [
              0.1111111111111111,
              "#46039f"
             ],
             [
              0.2222222222222222,
              "#7201a8"
             ],
             [
              0.3333333333333333,
              "#9c179e"
             ],
             [
              0.4444444444444444,
              "#bd3786"
             ],
             [
              0.5555555555555556,
              "#d8576b"
             ],
             [
              0.6666666666666666,
              "#ed7953"
             ],
             [
              0.7777777777777778,
              "#fb9f3a"
             ],
             [
              0.8888888888888888,
              "#fdca26"
             ],
             [
              1,
              "#f0f921"
             ]
            ],
            "type": "surface"
           }
          ],
          "table": [
           {
            "cells": {
             "fill": {
              "color": "#EBF0F8"
             },
             "line": {
              "color": "white"
             }
            },
            "header": {
             "fill": {
              "color": "#C8D4E3"
             },
             "line": {
              "color": "white"
             }
            },
            "type": "table"
           }
          ]
         },
         "layout": {
          "annotationdefaults": {
           "arrowcolor": "#2a3f5f",
           "arrowhead": 0,
           "arrowwidth": 1
          },
          "coloraxis": {
           "colorbar": {
            "outlinewidth": 0,
            "ticks": ""
           }
          },
          "colorscale": {
           "diverging": [
            [
             0,
             "#8e0152"
            ],
            [
             0.1,
             "#c51b7d"
            ],
            [
             0.2,
             "#de77ae"
            ],
            [
             0.3,
             "#f1b6da"
            ],
            [
             0.4,
             "#fde0ef"
            ],
            [
             0.5,
             "#f7f7f7"
            ],
            [
             0.6,
             "#e6f5d0"
            ],
            [
             0.7,
             "#b8e186"
            ],
            [
             0.8,
             "#7fbc41"
            ],
            [
             0.9,
             "#4d9221"
            ],
            [
             1,
             "#276419"
            ]
           ],
           "sequential": [
            [
             0,
             "#0d0887"
            ],
            [
             0.1111111111111111,
             "#46039f"
            ],
            [
             0.2222222222222222,
             "#7201a8"
            ],
            [
             0.3333333333333333,
             "#9c179e"
            ],
            [
             0.4444444444444444,
             "#bd3786"
            ],
            [
             0.5555555555555556,
             "#d8576b"
            ],
            [
             0.6666666666666666,
             "#ed7953"
            ],
            [
             0.7777777777777778,
             "#fb9f3a"
            ],
            [
             0.8888888888888888,
             "#fdca26"
            ],
            [
             1,
             "#f0f921"
            ]
           ],
           "sequentialminus": [
            [
             0,
             "#0d0887"
            ],
            [
             0.1111111111111111,
             "#46039f"
            ],
            [
             0.2222222222222222,
             "#7201a8"
            ],
            [
             0.3333333333333333,
             "#9c179e"
            ],
            [
             0.4444444444444444,
             "#bd3786"
            ],
            [
             0.5555555555555556,
             "#d8576b"
            ],
            [
             0.6666666666666666,
             "#ed7953"
            ],
            [
             0.7777777777777778,
             "#fb9f3a"
            ],
            [
             0.8888888888888888,
             "#fdca26"
            ],
            [
             1,
             "#f0f921"
            ]
           ]
          },
          "colorway": [
           "#636efa",
           "#EF553B",
           "#00cc96",
           "#ab63fa",
           "#FFA15A",
           "#19d3f3",
           "#FF6692",
           "#B6E880",
           "#FF97FF",
           "#FECB52"
          ],
          "font": {
           "color": "#2a3f5f"
          },
          "geo": {
           "bgcolor": "white",
           "lakecolor": "white",
           "landcolor": "#E5ECF6",
           "showlakes": true,
           "showland": true,
           "subunitcolor": "white"
          },
          "hoverlabel": {
           "align": "left"
          },
          "hovermode": "closest",
          "mapbox": {
           "style": "light"
          },
          "paper_bgcolor": "white",
          "plot_bgcolor": "#E5ECF6",
          "polar": {
           "angularaxis": {
            "gridcolor": "white",
            "linecolor": "white",
            "ticks": ""
           },
           "bgcolor": "#E5ECF6",
           "radialaxis": {
            "gridcolor": "white",
            "linecolor": "white",
            "ticks": ""
           }
          },
          "scene": {
           "xaxis": {
            "backgroundcolor": "#E5ECF6",
            "gridcolor": "white",
            "gridwidth": 2,
            "linecolor": "white",
            "showbackground": true,
            "ticks": "",
            "zerolinecolor": "white"
           },
           "yaxis": {
            "backgroundcolor": "#E5ECF6",
            "gridcolor": "white",
            "gridwidth": 2,
            "linecolor": "white",
            "showbackground": true,
            "ticks": "",
            "zerolinecolor": "white"
           },
           "zaxis": {
            "backgroundcolor": "#E5ECF6",
            "gridcolor": "white",
            "gridwidth": 2,
            "linecolor": "white",
            "showbackground": true,
            "ticks": "",
            "zerolinecolor": "white"
           }
          },
          "shapedefaults": {
           "line": {
            "color": "#2a3f5f"
           }
          },
          "ternary": {
           "aaxis": {
            "gridcolor": "white",
            "linecolor": "white",
            "ticks": ""
           },
           "baxis": {
            "gridcolor": "white",
            "linecolor": "white",
            "ticks": ""
           },
           "bgcolor": "#E5ECF6",
           "caxis": {
            "gridcolor": "white",
            "linecolor": "white",
            "ticks": ""
           }
          },
          "title": {
           "x": 0.05
          },
          "xaxis": {
           "automargin": true,
           "gridcolor": "white",
           "linecolor": "white",
           "ticks": "",
           "title": {
            "standoff": 15
           },
           "zerolinecolor": "white",
           "zerolinewidth": 2
          },
          "yaxis": {
           "automargin": true,
           "gridcolor": "white",
           "linecolor": "white",
           "ticks": "",
           "title": {
            "standoff": 15
           },
           "zerolinecolor": "white",
           "zerolinewidth": 2
          }
         }
        }
       }
      }
     },
     "metadata": {}
    },
    {
     "output_type": "display_data",
     "data": {
      "application/vnd.plotly.v1+json": {
       "config": {
        "plotlyServerURL": "https://plotly.com"
       },
       "data": [
        {
         "customdata": [
          [
           "October, 2018"
          ]
         ],
         "hovertemplate": "velocidade_cat=0-5 km/h<br>velocidade=%{r}<br>direção=%{theta}<br>data=%{customdata[0]}<extra></extra>",
         "legendgroup": "0-5 km/h",
         "marker": {
          "color": "#f0f921"
         },
         "name": "0-5 km/h",
         "r": [
          1.114115344118415
         ],
         "showlegend": true,
         "subplot": "polar",
         "theta": [
          "WNW"
         ],
         "type": "barpolar"
        },
        {
         "customdata": [
          [
           "October, 2018"
          ],
          [
           "October, 2018"
          ],
          [
           "October, 2018"
          ],
          [
           "October, 2018"
          ],
          [
           "October, 2018"
          ]
         ],
         "hovertemplate": "velocidade_cat=5-10 km/h<br>velocidade=%{r}<br>direção=%{theta}<br>data=%{customdata[0]}<extra></extra>",
         "legendgroup": "5-10 km/h",
         "marker": {
          "color": "#fdca26"
         },
         "name": "5-10 km/h",
         "r": [
          8.121339359982514,
          7.656025404868989,
          7.233504544824658,
          7.955041483235828,
          7.198955827062771
         ],
         "showlegend": true,
         "subplot": "polar",
         "theta": [
          "SSW",
          "S",
          "SSW",
          "S",
          "SE"
         ],
         "type": "barpolar"
        },
        {
         "customdata": [
          [
           "October, 2018"
          ],
          [
           "October, 2018"
          ],
          [
           "October, 2018"
          ],
          [
           "October, 2018"
          ],
          [
           "October, 2018"
          ],
          [
           "October, 2018"
          ],
          [
           "October, 2018"
          ],
          [
           "October, 2018"
          ]
         ],
         "hovertemplate": "velocidade_cat=10-15 km/h<br>velocidade=%{r}<br>direção=%{theta}<br>data=%{customdata[0]}<extra></extra>",
         "legendgroup": "10-15 km/h",
         "marker": {
          "color": "#fb9f3a"
         },
         "name": "10-15 km/h",
         "r": [
          13.455206613054939,
          13.610038207146726,
          12.60183006551046,
          13.288596803274665,
          12.53599286055948,
          13.805458521903091,
          10.999802043673325,
          12.546144148701437
         ],
         "showlegend": true,
         "subplot": "polar",
         "theta": [
          "SSW",
          "SW",
          "SW",
          "SW",
          "SSE",
          "SW",
          "SW",
          "S"
         ],
         "type": "barpolar"
        },
        {
         "customdata": [
          [
           "October, 2018"
          ],
          [
           "October, 2018"
          ],
          [
           "October, 2018"
          ],
          [
           "October, 2018"
          ],
          [
           "October, 2018"
          ],
          [
           "October, 2018"
          ],
          [
           "October, 2018"
          ],
          [
           "October, 2018"
          ],
          [
           "October, 2018"
          ],
          [
           "October, 2018"
          ]
         ],
         "hovertemplate": "velocidade_cat=15-20 km/h<br>velocidade=%{r}<br>direção=%{theta}<br>data=%{customdata[0]}<extra></extra>",
         "legendgroup": "15-20 km/h",
         "marker": {
          "color": "#ed7953"
         },
         "name": "15-20 km/h",
         "r": [
          18.191386340793493,
          19.39957901605089,
          15.169001318478957,
          16.975012488949858,
          16.388656229234044,
          16.097354596330682,
          16.391245376724846,
          16.467764207687356,
          18.862784577044703,
          16.826871396667787
         ],
         "showlegend": true,
         "subplot": "polar",
         "theta": [
          "SSE",
          "SE",
          "SE",
          "SE",
          "SE",
          "SE",
          "SE",
          "WSW",
          "SSW",
          "SSW"
         ],
         "type": "barpolar"
        },
        {
         "customdata": [
          [
           "October, 2018"
          ],
          [
           "October, 2018"
          ],
          [
           "October, 2018"
          ]
         ],
         "hovertemplate": "velocidade_cat=20-25 km/h<br>velocidade=%{r}<br>direção=%{theta}<br>data=%{customdata[0]}<extra></extra>",
         "legendgroup": "20-25 km/h",
         "marker": {
          "color": "#d8576b"
         },
         "name": "20-25 km/h",
         "r": [
          22.924616310857058,
          21.575242594233004,
          24.278740865209347
         ],
         "showlegend": true,
         "subplot": "polar",
         "theta": [
          "SSE",
          "SSE",
          "SSW"
         ],
         "type": "barpolar"
        },
        {
         "customdata": [
          [
           "October, 2018"
          ],
          [
           "October, 2018"
          ],
          [
           "October, 2018"
          ],
          [
           "October, 2018"
          ],
          [
           "October, 2018"
          ],
          [
           "October, 2018"
          ]
         ],
         "hovertemplate": "velocidade_cat=25-30 km/h<br>velocidade=%{r}<br>direção=%{theta}<br>data=%{customdata[0]}<extra></extra>",
         "legendgroup": "25-30 km/h",
         "marker": {
          "color": "#bd3786"
         },
         "name": "25-30 km/h",
         "r": [
          25.235840802319693,
          26.73499872825881,
          26.04576541397853,
          28.404292650936238,
          26.817410408165678,
          29.38895229503769
         ],
         "showlegend": true,
         "subplot": "polar",
         "theta": [
          "E",
          "ENE",
          "E",
          "ENE",
          "S",
          "ENE"
         ],
         "type": "barpolar"
        },
        {
         "customdata": [
          [
           "October, 2018"
          ],
          [
           "October, 2018"
          ],
          [
           "October, 2018"
          ],
          [
           "October, 2018"
          ]
         ],
         "hovertemplate": "velocidade_cat=30-35 km/h<br>velocidade=%{r}<br>direção=%{theta}<br>data=%{customdata[0]}<extra></extra>",
         "legendgroup": "30-35 km/h",
         "marker": {
          "color": "#9c179e"
         },
         "name": "30-35 km/h",
         "r": [
          30.658897713388,
          33.09170560729672,
          30.62358197533405,
          33.22704010290425
         ],
         "showlegend": true,
         "subplot": "polar",
         "theta": [
          "WSW",
          "S",
          "ENE",
          "ENE"
         ],
         "type": "barpolar"
        },
        {
         "customdata": [
          [
           "October, 2018"
          ],
          [
           "October, 2018"
          ],
          [
           "October, 2018"
          ],
          [
           "October, 2018"
          ]
         ],
         "hovertemplate": "velocidade_cat=35-40 km/h<br>velocidade=%{r}<br>direção=%{theta}<br>data=%{customdata[0]}<extra></extra>",
         "legendgroup": "35-40 km/h",
         "marker": {
          "color": "#7201a8"
         },
         "name": "35-40 km/h",
         "r": [
          38.78603099055097,
          38.01383813823593,
          38.62719727083496,
          35.841188108097185
         ],
         "showlegend": true,
         "subplot": "polar",
         "theta": [
          "SW",
          "SSW",
          "S",
          "S"
         ],
         "type": "barpolar"
        },
        {
         "customdata": [
          [
           "October, 2018"
          ]
         ],
         "hovertemplate": "velocidade_cat=40-45 km/h<br>velocidade=%{r}<br>direção=%{theta}<br>data=%{customdata[0]}<extra></extra>",
         "legendgroup": "40-45 km/h",
         "marker": {
          "color": "#46039f"
         },
         "name": "40-45 km/h",
         "r": [
          40.17211276495183
         ],
         "showlegend": true,
         "subplot": "polar",
         "theta": [
          "S"
         ],
         "type": "barpolar"
        }
       ],
       "layout": {
        "barmode": "relative",
        "font": {
         "family": "Open Sans"
        },
        "legend": {
         "title": {
          "font": {
           "size": 14
          },
          "text": "<b>Velocidade"
         },
         "tracegroupgap": 0,
         "traceorder": "reversed",
         "x": 1.1,
         "xanchor": "right",
         "y": 0.99,
         "yanchor": "top"
        },
        "margin": {
         "t": 60
        },
        "paper_bgcolor": "rgb(255, 255, 255)",
        "polar": {
         "angularaxis": {
          "categoryarray": [
           "N",
           "NNE",
           "NE",
           "ENE",
           "E",
           "ESE",
           "SE",
           "SSE",
           "S",
           "SSW",
           "SW",
           "WSW",
           "W",
           "WNW",
           "NW",
           "NNW"
          ],
          "categoryorder": "array",
          "direction": "clockwise",
          "rotation": 90,
          "tickfont": {
           "size": 15
          }
         },
         "domain": {
          "x": [
           0,
           1
          ],
          "y": [
           0,
           1
          ]
         },
         "radialaxis": {
          "showticklabels": false
         }
        },
        "template": {
         "data": {
          "bar": [
           {
            "error_x": {
             "color": "#2a3f5f"
            },
            "error_y": {
             "color": "#2a3f5f"
            },
            "marker": {
             "line": {
              "color": "#E5ECF6",
              "width": 0.5
             }
            },
            "type": "bar"
           }
          ],
          "barpolar": [
           {
            "marker": {
             "line": {
              "color": "#E5ECF6",
              "width": 0.5
             }
            },
            "type": "barpolar"
           }
          ],
          "carpet": [
           {
            "aaxis": {
             "endlinecolor": "#2a3f5f",
             "gridcolor": "white",
             "linecolor": "white",
             "minorgridcolor": "white",
             "startlinecolor": "#2a3f5f"
            },
            "baxis": {
             "endlinecolor": "#2a3f5f",
             "gridcolor": "white",
             "linecolor": "white",
             "minorgridcolor": "white",
             "startlinecolor": "#2a3f5f"
            },
            "type": "carpet"
           }
          ],
          "choropleth": [
           {
            "colorbar": {
             "outlinewidth": 0,
             "ticks": ""
            },
            "type": "choropleth"
           }
          ],
          "contour": [
           {
            "colorbar": {
             "outlinewidth": 0,
             "ticks": ""
            },
            "colorscale": [
             [
              0,
              "#0d0887"
             ],
             [
              0.1111111111111111,
              "#46039f"
             ],
             [
              0.2222222222222222,
              "#7201a8"
             ],
             [
              0.3333333333333333,
              "#9c179e"
             ],
             [
              0.4444444444444444,
              "#bd3786"
             ],
             [
              0.5555555555555556,
              "#d8576b"
             ],
             [
              0.6666666666666666,
              "#ed7953"
             ],
             [
              0.7777777777777778,
              "#fb9f3a"
             ],
             [
              0.8888888888888888,
              "#fdca26"
             ],
             [
              1,
              "#f0f921"
             ]
            ],
            "type": "contour"
           }
          ],
          "contourcarpet": [
           {
            "colorbar": {
             "outlinewidth": 0,
             "ticks": ""
            },
            "type": "contourcarpet"
           }
          ],
          "heatmap": [
           {
            "colorbar": {
             "outlinewidth": 0,
             "ticks": ""
            },
            "colorscale": [
             [
              0,
              "#0d0887"
             ],
             [
              0.1111111111111111,
              "#46039f"
             ],
             [
              0.2222222222222222,
              "#7201a8"
             ],
             [
              0.3333333333333333,
              "#9c179e"
             ],
             [
              0.4444444444444444,
              "#bd3786"
             ],
             [
              0.5555555555555556,
              "#d8576b"
             ],
             [
              0.6666666666666666,
              "#ed7953"
             ],
             [
              0.7777777777777778,
              "#fb9f3a"
             ],
             [
              0.8888888888888888,
              "#fdca26"
             ],
             [
              1,
              "#f0f921"
             ]
            ],
            "type": "heatmap"
           }
          ],
          "heatmapgl": [
           {
            "colorbar": {
             "outlinewidth": 0,
             "ticks": ""
            },
            "colorscale": [
             [
              0,
              "#0d0887"
             ],
             [
              0.1111111111111111,
              "#46039f"
             ],
             [
              0.2222222222222222,
              "#7201a8"
             ],
             [
              0.3333333333333333,
              "#9c179e"
             ],
             [
              0.4444444444444444,
              "#bd3786"
             ],
             [
              0.5555555555555556,
              "#d8576b"
             ],
             [
              0.6666666666666666,
              "#ed7953"
             ],
             [
              0.7777777777777778,
              "#fb9f3a"
             ],
             [
              0.8888888888888888,
              "#fdca26"
             ],
             [
              1,
              "#f0f921"
             ]
            ],
            "type": "heatmapgl"
           }
          ],
          "histogram": [
           {
            "marker": {
             "colorbar": {
              "outlinewidth": 0,
              "ticks": ""
             }
            },
            "type": "histogram"
           }
          ],
          "histogram2d": [
           {
            "colorbar": {
             "outlinewidth": 0,
             "ticks": ""
            },
            "colorscale": [
             [
              0,
              "#0d0887"
             ],
             [
              0.1111111111111111,
              "#46039f"
             ],
             [
              0.2222222222222222,
              "#7201a8"
             ],
             [
              0.3333333333333333,
              "#9c179e"
             ],
             [
              0.4444444444444444,
              "#bd3786"
             ],
             [
              0.5555555555555556,
              "#d8576b"
             ],
             [
              0.6666666666666666,
              "#ed7953"
             ],
             [
              0.7777777777777778,
              "#fb9f3a"
             ],
             [
              0.8888888888888888,
              "#fdca26"
             ],
             [
              1,
              "#f0f921"
             ]
            ],
            "type": "histogram2d"
           }
          ],
          "histogram2dcontour": [
           {
            "colorbar": {
             "outlinewidth": 0,
             "ticks": ""
            },
            "colorscale": [
             [
              0,
              "#0d0887"
             ],
             [
              0.1111111111111111,
              "#46039f"
             ],
             [
              0.2222222222222222,
              "#7201a8"
             ],
             [
              0.3333333333333333,
              "#9c179e"
             ],
             [
              0.4444444444444444,
              "#bd3786"
             ],
             [
              0.5555555555555556,
              "#d8576b"
             ],
             [
              0.6666666666666666,
              "#ed7953"
             ],
             [
              0.7777777777777778,
              "#fb9f3a"
             ],
             [
              0.8888888888888888,
              "#fdca26"
             ],
             [
              1,
              "#f0f921"
             ]
            ],
            "type": "histogram2dcontour"
           }
          ],
          "mesh3d": [
           {
            "colorbar": {
             "outlinewidth": 0,
             "ticks": ""
            },
            "type": "mesh3d"
           }
          ],
          "parcoords": [
           {
            "line": {
             "colorbar": {
              "outlinewidth": 0,
              "ticks": ""
             }
            },
            "type": "parcoords"
           }
          ],
          "pie": [
           {
            "automargin": true,
            "type": "pie"
           }
          ],
          "scatter": [
           {
            "marker": {
             "colorbar": {
              "outlinewidth": 0,
              "ticks": ""
             }
            },
            "type": "scatter"
           }
          ],
          "scatter3d": [
           {
            "line": {
             "colorbar": {
              "outlinewidth": 0,
              "ticks": ""
             }
            },
            "marker": {
             "colorbar": {
              "outlinewidth": 0,
              "ticks": ""
             }
            },
            "type": "scatter3d"
           }
          ],
          "scattercarpet": [
           {
            "marker": {
             "colorbar": {
              "outlinewidth": 0,
              "ticks": ""
             }
            },
            "type": "scattercarpet"
           }
          ],
          "scattergeo": [
           {
            "marker": {
             "colorbar": {
              "outlinewidth": 0,
              "ticks": ""
             }
            },
            "type": "scattergeo"
           }
          ],
          "scattergl": [
           {
            "marker": {
             "colorbar": {
              "outlinewidth": 0,
              "ticks": ""
             }
            },
            "type": "scattergl"
           }
          ],
          "scattermapbox": [
           {
            "marker": {
             "colorbar": {
              "outlinewidth": 0,
              "ticks": ""
             }
            },
            "type": "scattermapbox"
           }
          ],
          "scatterpolar": [
           {
            "marker": {
             "colorbar": {
              "outlinewidth": 0,
              "ticks": ""
             }
            },
            "type": "scatterpolar"
           }
          ],
          "scatterpolargl": [
           {
            "marker": {
             "colorbar": {
              "outlinewidth": 0,
              "ticks": ""
             }
            },
            "type": "scatterpolargl"
           }
          ],
          "scatterternary": [
           {
            "marker": {
             "colorbar": {
              "outlinewidth": 0,
              "ticks": ""
             }
            },
            "type": "scatterternary"
           }
          ],
          "surface": [
           {
            "colorbar": {
             "outlinewidth": 0,
             "ticks": ""
            },
            "colorscale": [
             [
              0,
              "#0d0887"
             ],
             [
              0.1111111111111111,
              "#46039f"
             ],
             [
              0.2222222222222222,
              "#7201a8"
             ],
             [
              0.3333333333333333,
              "#9c179e"
             ],
             [
              0.4444444444444444,
              "#bd3786"
             ],
             [
              0.5555555555555556,
              "#d8576b"
             ],
             [
              0.6666666666666666,
              "#ed7953"
             ],
             [
              0.7777777777777778,
              "#fb9f3a"
             ],
             [
              0.8888888888888888,
              "#fdca26"
             ],
             [
              1,
              "#f0f921"
             ]
            ],
            "type": "surface"
           }
          ],
          "table": [
           {
            "cells": {
             "fill": {
              "color": "#EBF0F8"
             },
             "line": {
              "color": "white"
             }
            },
            "header": {
             "fill": {
              "color": "#C8D4E3"
             },
             "line": {
              "color": "white"
             }
            },
            "type": "table"
           }
          ]
         },
         "layout": {
          "annotationdefaults": {
           "arrowcolor": "#2a3f5f",
           "arrowhead": 0,
           "arrowwidth": 1
          },
          "coloraxis": {
           "colorbar": {
            "outlinewidth": 0,
            "ticks": ""
           }
          },
          "colorscale": {
           "diverging": [
            [
             0,
             "#8e0152"
            ],
            [
             0.1,
             "#c51b7d"
            ],
            [
             0.2,
             "#de77ae"
            ],
            [
             0.3,
             "#f1b6da"
            ],
            [
             0.4,
             "#fde0ef"
            ],
            [
             0.5,
             "#f7f7f7"
            ],
            [
             0.6,
             "#e6f5d0"
            ],
            [
             0.7,
             "#b8e186"
            ],
            [
             0.8,
             "#7fbc41"
            ],
            [
             0.9,
             "#4d9221"
            ],
            [
             1,
             "#276419"
            ]
           ],
           "sequential": [
            [
             0,
             "#0d0887"
            ],
            [
             0.1111111111111111,
             "#46039f"
            ],
            [
             0.2222222222222222,
             "#7201a8"
            ],
            [
             0.3333333333333333,
             "#9c179e"
            ],
            [
             0.4444444444444444,
             "#bd3786"
            ],
            [
             0.5555555555555556,
             "#d8576b"
            ],
            [
             0.6666666666666666,
             "#ed7953"
            ],
            [
             0.7777777777777778,
             "#fb9f3a"
            ],
            [
             0.8888888888888888,
             "#fdca26"
            ],
            [
             1,
             "#f0f921"
            ]
           ],
           "sequentialminus": [
            [
             0,
             "#0d0887"
            ],
            [
             0.1111111111111111,
             "#46039f"
            ],
            [
             0.2222222222222222,
             "#7201a8"
            ],
            [
             0.3333333333333333,
             "#9c179e"
            ],
            [
             0.4444444444444444,
             "#bd3786"
            ],
            [
             0.5555555555555556,
             "#d8576b"
            ],
            [
             0.6666666666666666,
             "#ed7953"
            ],
            [
             0.7777777777777778,
             "#fb9f3a"
            ],
            [
             0.8888888888888888,
             "#fdca26"
            ],
            [
             1,
             "#f0f921"
            ]
           ]
          },
          "colorway": [
           "#636efa",
           "#EF553B",
           "#00cc96",
           "#ab63fa",
           "#FFA15A",
           "#19d3f3",
           "#FF6692",
           "#B6E880",
           "#FF97FF",
           "#FECB52"
          ],
          "font": {
           "color": "#2a3f5f"
          },
          "geo": {
           "bgcolor": "white",
           "lakecolor": "white",
           "landcolor": "#E5ECF6",
           "showlakes": true,
           "showland": true,
           "subunitcolor": "white"
          },
          "hoverlabel": {
           "align": "left"
          },
          "hovermode": "closest",
          "mapbox": {
           "style": "light"
          },
          "paper_bgcolor": "white",
          "plot_bgcolor": "#E5ECF6",
          "polar": {
           "angularaxis": {
            "gridcolor": "white",
            "linecolor": "white",
            "ticks": ""
           },
           "bgcolor": "#E5ECF6",
           "radialaxis": {
            "gridcolor": "white",
            "linecolor": "white",
            "ticks": ""
           }
          },
          "scene": {
           "xaxis": {
            "backgroundcolor": "#E5ECF6",
            "gridcolor": "white",
            "gridwidth": 2,
            "linecolor": "white",
            "showbackground": true,
            "ticks": "",
            "zerolinecolor": "white"
           },
           "yaxis": {
            "backgroundcolor": "#E5ECF6",
            "gridcolor": "white",
            "gridwidth": 2,
            "linecolor": "white",
            "showbackground": true,
            "ticks": "",
            "zerolinecolor": "white"
           },
           "zaxis": {
            "backgroundcolor": "#E5ECF6",
            "gridcolor": "white",
            "gridwidth": 2,
            "linecolor": "white",
            "showbackground": true,
            "ticks": "",
            "zerolinecolor": "white"
           }
          },
          "shapedefaults": {
           "line": {
            "color": "#2a3f5f"
           }
          },
          "ternary": {
           "aaxis": {
            "gridcolor": "white",
            "linecolor": "white",
            "ticks": ""
           },
           "baxis": {
            "gridcolor": "white",
            "linecolor": "white",
            "ticks": ""
           },
           "bgcolor": "#E5ECF6",
           "caxis": {
            "gridcolor": "white",
            "linecolor": "white",
            "ticks": ""
           }
          },
          "title": {
           "x": 0.05
          },
          "xaxis": {
           "automargin": true,
           "gridcolor": "white",
           "linecolor": "white",
           "ticks": "",
           "title": {
            "standoff": 15
           },
           "zerolinecolor": "white",
           "zerolinewidth": 2
          },
          "yaxis": {
           "automargin": true,
           "gridcolor": "white",
           "linecolor": "white",
           "ticks": "",
           "title": {
            "standoff": 15
           },
           "zerolinecolor": "white",
           "zerolinewidth": 2
          }
         }
        }
       }
      }
     },
     "metadata": {}
    },
    {
     "output_type": "display_data",
     "data": {
      "application/vnd.plotly.v1+json": {
       "config": {
        "plotlyServerURL": "https://plotly.com"
       },
       "data": [
        {
         "customdata": [
          [
           "November, 2018"
          ]
         ],
         "hovertemplate": "velocidade_cat=0-5 km/h<br>velocidade=%{r}<br>direção=%{theta}<br>data=%{customdata[0]}<extra></extra>",
         "legendgroup": "0-5 km/h",
         "marker": {
          "color": "#f0f921"
         },
         "name": "0-5 km/h",
         "r": [
          2.550160191046591
         ],
         "showlegend": true,
         "subplot": "polar",
         "theta": [
          "SW"
         ],
         "type": "barpolar"
        },
        {
         "customdata": [
          [
           "November, 2018"
          ],
          [
           "November, 2018"
          ],
          [
           "November, 2018"
          ],
          [
           "November, 2018"
          ],
          [
           "November, 2018"
          ]
         ],
         "hovertemplate": "velocidade_cat=5-10 km/h<br>velocidade=%{r}<br>direção=%{theta}<br>data=%{customdata[0]}<extra></extra>",
         "legendgroup": "5-10 km/h",
         "marker": {
          "color": "#fdca26"
         },
         "name": "5-10 km/h",
         "r": [
          9.769266297936632,
          9.843373253108027,
          6.5952179645559035,
          9.296284956906044,
          7.796086261708528
         ],
         "showlegend": true,
         "subplot": "polar",
         "theta": [
          "SW",
          "SSE",
          "SSW",
          "S",
          "ENE"
         ],
         "type": "barpolar"
        },
        {
         "customdata": [
          [
           "November, 2018"
          ],
          [
           "November, 2018"
          ],
          [
           "November, 2018"
          ],
          [
           "November, 2018"
          ],
          [
           "November, 2018"
          ],
          [
           "November, 2018"
          ],
          [
           "November, 2018"
          ]
         ],
         "hovertemplate": "velocidade_cat=10-15 km/h<br>velocidade=%{r}<br>direção=%{theta}<br>data=%{customdata[0]}<extra></extra>",
         "legendgroup": "10-15 km/h",
         "marker": {
          "color": "#fb9f3a"
         },
         "name": "10-15 km/h",
         "r": [
          10.457924316039174,
          13.699387212572642,
          12.142210383616302,
          13.140878699691507,
          10.102404664237024,
          11.68403235188968,
          14.472874489886308
         ],
         "showlegend": true,
         "subplot": "polar",
         "theta": [
          "SSE",
          "S",
          "S",
          "SE",
          "E",
          "E",
          "E"
         ],
         "type": "barpolar"
        },
        {
         "customdata": [
          [
           "November, 2018"
          ],
          [
           "November, 2018"
          ],
          [
           "November, 2018"
          ],
          [
           "November, 2018"
          ],
          [
           "November, 2018"
          ],
          [
           "November, 2018"
          ],
          [
           "November, 2018"
          ],
          [
           "November, 2018"
          ],
          [
           "November, 2018"
          ],
          [
           "November, 2018"
          ],
          [
           "November, 2018"
          ]
         ],
         "hovertemplate": "velocidade_cat=15-20 km/h<br>velocidade=%{r}<br>direção=%{theta}<br>data=%{customdata[0]}<extra></extra>",
         "legendgroup": "15-20 km/h",
         "marker": {
          "color": "#ed7953"
         },
         "name": "15-20 km/h",
         "r": [
          18.207999615553746,
          18.135313865494748,
          18.340074836270748,
          18.60312309801787,
          19.36646526860272,
          16.730446975499607,
          18.948641006678983,
          16.463576191095186,
          16.781731555474547,
          16.030983001675338,
          18.04882140196413
         ],
         "showlegend": true,
         "subplot": "polar",
         "theta": [
          "SSE",
          "SE",
          "ESE",
          "ESE",
          "S",
          "S",
          "SSW",
          "S",
          "ESE",
          "ESE",
          "ESE"
         ],
         "type": "barpolar"
        },
        {
         "customdata": [
          [
           "November, 2018"
          ],
          [
           "November, 2018"
          ],
          [
           "November, 2018"
          ],
          [
           "November, 2018"
          ],
          [
           "November, 2018"
          ],
          [
           "November, 2018"
          ],
          [
           "November, 2018"
          ],
          [
           "November, 2018"
          ],
          [
           "November, 2018"
          ],
          [
           "November, 2018"
          ],
          [
           "December, 2018"
          ],
          [
           "December, 2018"
          ]
         ],
         "hovertemplate": "velocidade_cat=20-25 km/h<br>velocidade=%{r}<br>direção=%{theta}<br>data=%{customdata[0]}<extra></extra>",
         "legendgroup": "20-25 km/h",
         "marker": {
          "color": "#d8576b"
         },
         "name": "20-25 km/h",
         "r": [
          22.099681536166802,
          21.3386569399294,
          21.171448934827485,
          22.937801681940037,
          21.825308703430125,
          20.366410631233112,
          20.020455264554297,
          23.858900079425243,
          20.932326889287733,
          21.333933275418364,
          24.62410985193174,
          22.035501378457518
         ],
         "showlegend": true,
         "subplot": "polar",
         "theta": [
          "SSW",
          "S",
          "SSE",
          "SSE",
          "ESE",
          "SSW",
          "ESE",
          "SSW",
          "S",
          "ENE",
          "SSW",
          "SSW"
         ],
         "type": "barpolar"
        },
        {
         "customdata": [
          [
           "November, 2018"
          ],
          [
           "November, 2018"
          ]
         ],
         "hovertemplate": "velocidade_cat=25-30 km/h<br>velocidade=%{r}<br>direção=%{theta}<br>data=%{customdata[0]}<extra></extra>",
         "legendgroup": "25-30 km/h",
         "marker": {
          "color": "#bd3786"
         },
         "name": "25-30 km/h",
         "r": [
          29.467722171895502,
          28.28001882955521
         ],
         "showlegend": true,
         "subplot": "polar",
         "theta": [
          "E",
          "SSW"
         ],
         "type": "barpolar"
        },
        {
         "customdata": [
          [
           "November, 2018"
          ],
          [
           "November, 2018"
          ],
          [
           "November, 2018"
          ],
          [
           "November, 2018"
          ],
          [
           "November, 2018"
          ],
          [
           "November, 2018"
          ]
         ],
         "hovertemplate": "velocidade_cat=30-35 km/h<br>velocidade=%{r}<br>direção=%{theta}<br>data=%{customdata[0]}<extra></extra>",
         "legendgroup": "30-35 km/h",
         "marker": {
          "color": "#9c179e"
         },
         "name": "30-35 km/h",
         "r": [
          30.150160281498284,
          34.00388655727488,
          33.29306714617953,
          34.543718575162394,
          31.524058241286593,
          34.95222706781386
         ],
         "showlegend": true,
         "subplot": "polar",
         "theta": [
          "ESE",
          "E",
          "ESE",
          "E",
          "E",
          "ENE"
         ],
         "type": "barpolar"
        },
        {
         "customdata": [
          [
           "November, 2018"
          ],
          [
           "November, 2018"
          ],
          [
           "November, 2018"
          ],
          [
           "November, 2018"
          ],
          [
           "November, 2018"
          ]
         ],
         "hovertemplate": "velocidade_cat=35-40 km/h<br>velocidade=%{r}<br>direção=%{theta}<br>data=%{customdata[0]}<extra></extra>",
         "legendgroup": "35-40 km/h",
         "marker": {
          "color": "#7201a8"
         },
         "name": "35-40 km/h",
         "r": [
          35.06132708555148,
          35.74827159458239,
          39.06471048145628,
          36.49893327208376,
          38.12113350885551
         ],
         "showlegend": true,
         "subplot": "polar",
         "theta": [
          "E",
          "E",
          "E",
          "ENE",
          "SSW"
         ],
         "type": "barpolar"
        }
       ],
       "layout": {
        "barmode": "relative",
        "font": {
         "family": "Open Sans"
        },
        "legend": {
         "title": {
          "font": {
           "size": 14
          },
          "text": "<b>Velocidade"
         },
         "tracegroupgap": 0,
         "traceorder": "reversed",
         "x": 1.1,
         "xanchor": "right",
         "y": 0.99,
         "yanchor": "top"
        },
        "margin": {
         "t": 60
        },
        "paper_bgcolor": "rgb(255, 255, 255)",
        "polar": {
         "angularaxis": {
          "categoryarray": [
           "N",
           "NNE",
           "NE",
           "ENE",
           "E",
           "ESE",
           "SE",
           "SSE",
           "S",
           "SSW",
           "SW",
           "WSW",
           "W",
           "WNW",
           "NW",
           "NNW"
          ],
          "categoryorder": "array",
          "direction": "clockwise",
          "rotation": 90,
          "tickfont": {
           "size": 15
          }
         },
         "domain": {
          "x": [
           0,
           1
          ],
          "y": [
           0,
           1
          ]
         },
         "radialaxis": {
          "showticklabels": false
         }
        },
        "template": {
         "data": {
          "bar": [
           {
            "error_x": {
             "color": "#2a3f5f"
            },
            "error_y": {
             "color": "#2a3f5f"
            },
            "marker": {
             "line": {
              "color": "#E5ECF6",
              "width": 0.5
             }
            },
            "type": "bar"
           }
          ],
          "barpolar": [
           {
            "marker": {
             "line": {
              "color": "#E5ECF6",
              "width": 0.5
             }
            },
            "type": "barpolar"
           }
          ],
          "carpet": [
           {
            "aaxis": {
             "endlinecolor": "#2a3f5f",
             "gridcolor": "white",
             "linecolor": "white",
             "minorgridcolor": "white",
             "startlinecolor": "#2a3f5f"
            },
            "baxis": {
             "endlinecolor": "#2a3f5f",
             "gridcolor": "white",
             "linecolor": "white",
             "minorgridcolor": "white",
             "startlinecolor": "#2a3f5f"
            },
            "type": "carpet"
           }
          ],
          "choropleth": [
           {
            "colorbar": {
             "outlinewidth": 0,
             "ticks": ""
            },
            "type": "choropleth"
           }
          ],
          "contour": [
           {
            "colorbar": {
             "outlinewidth": 0,
             "ticks": ""
            },
            "colorscale": [
             [
              0,
              "#0d0887"
             ],
             [
              0.1111111111111111,
              "#46039f"
             ],
             [
              0.2222222222222222,
              "#7201a8"
             ],
             [
              0.3333333333333333,
              "#9c179e"
             ],
             [
              0.4444444444444444,
              "#bd3786"
             ],
             [
              0.5555555555555556,
              "#d8576b"
             ],
             [
              0.6666666666666666,
              "#ed7953"
             ],
             [
              0.7777777777777778,
              "#fb9f3a"
             ],
             [
              0.8888888888888888,
              "#fdca26"
             ],
             [
              1,
              "#f0f921"
             ]
            ],
            "type": "contour"
           }
          ],
          "contourcarpet": [
           {
            "colorbar": {
             "outlinewidth": 0,
             "ticks": ""
            },
            "type": "contourcarpet"
           }
          ],
          "heatmap": [
           {
            "colorbar": {
             "outlinewidth": 0,
             "ticks": ""
            },
            "colorscale": [
             [
              0,
              "#0d0887"
             ],
             [
              0.1111111111111111,
              "#46039f"
             ],
             [
              0.2222222222222222,
              "#7201a8"
             ],
             [
              0.3333333333333333,
              "#9c179e"
             ],
             [
              0.4444444444444444,
              "#bd3786"
             ],
             [
              0.5555555555555556,
              "#d8576b"
             ],
             [
              0.6666666666666666,
              "#ed7953"
             ],
             [
              0.7777777777777778,
              "#fb9f3a"
             ],
             [
              0.8888888888888888,
              "#fdca26"
             ],
             [
              1,
              "#f0f921"
             ]
            ],
            "type": "heatmap"
           }
          ],
          "heatmapgl": [
           {
            "colorbar": {
             "outlinewidth": 0,
             "ticks": ""
            },
            "colorscale": [
             [
              0,
              "#0d0887"
             ],
             [
              0.1111111111111111,
              "#46039f"
             ],
             [
              0.2222222222222222,
              "#7201a8"
             ],
             [
              0.3333333333333333,
              "#9c179e"
             ],
             [
              0.4444444444444444,
              "#bd3786"
             ],
             [
              0.5555555555555556,
              "#d8576b"
             ],
             [
              0.6666666666666666,
              "#ed7953"
             ],
             [
              0.7777777777777778,
              "#fb9f3a"
             ],
             [
              0.8888888888888888,
              "#fdca26"
             ],
             [
              1,
              "#f0f921"
             ]
            ],
            "type": "heatmapgl"
           }
          ],
          "histogram": [
           {
            "marker": {
             "colorbar": {
              "outlinewidth": 0,
              "ticks": ""
             }
            },
            "type": "histogram"
           }
          ],
          "histogram2d": [
           {
            "colorbar": {
             "outlinewidth": 0,
             "ticks": ""
            },
            "colorscale": [
             [
              0,
              "#0d0887"
             ],
             [
              0.1111111111111111,
              "#46039f"
             ],
             [
              0.2222222222222222,
              "#7201a8"
             ],
             [
              0.3333333333333333,
              "#9c179e"
             ],
             [
              0.4444444444444444,
              "#bd3786"
             ],
             [
              0.5555555555555556,
              "#d8576b"
             ],
             [
              0.6666666666666666,
              "#ed7953"
             ],
             [
              0.7777777777777778,
              "#fb9f3a"
             ],
             [
              0.8888888888888888,
              "#fdca26"
             ],
             [
              1,
              "#f0f921"
             ]
            ],
            "type": "histogram2d"
           }
          ],
          "histogram2dcontour": [
           {
            "colorbar": {
             "outlinewidth": 0,
             "ticks": ""
            },
            "colorscale": [
             [
              0,
              "#0d0887"
             ],
             [
              0.1111111111111111,
              "#46039f"
             ],
             [
              0.2222222222222222,
              "#7201a8"
             ],
             [
              0.3333333333333333,
              "#9c179e"
             ],
             [
              0.4444444444444444,
              "#bd3786"
             ],
             [
              0.5555555555555556,
              "#d8576b"
             ],
             [
              0.6666666666666666,
              "#ed7953"
             ],
             [
              0.7777777777777778,
              "#fb9f3a"
             ],
             [
              0.8888888888888888,
              "#fdca26"
             ],
             [
              1,
              "#f0f921"
             ]
            ],
            "type": "histogram2dcontour"
           }
          ],
          "mesh3d": [
           {
            "colorbar": {
             "outlinewidth": 0,
             "ticks": ""
            },
            "type": "mesh3d"
           }
          ],
          "parcoords": [
           {
            "line": {
             "colorbar": {
              "outlinewidth": 0,
              "ticks": ""
             }
            },
            "type": "parcoords"
           }
          ],
          "pie": [
           {
            "automargin": true,
            "type": "pie"
           }
          ],
          "scatter": [
           {
            "marker": {
             "colorbar": {
              "outlinewidth": 0,
              "ticks": ""
             }
            },
            "type": "scatter"
           }
          ],
          "scatter3d": [
           {
            "line": {
             "colorbar": {
              "outlinewidth": 0,
              "ticks": ""
             }
            },
            "marker": {
             "colorbar": {
              "outlinewidth": 0,
              "ticks": ""
             }
            },
            "type": "scatter3d"
           }
          ],
          "scattercarpet": [
           {
            "marker": {
             "colorbar": {
              "outlinewidth": 0,
              "ticks": ""
             }
            },
            "type": "scattercarpet"
           }
          ],
          "scattergeo": [
           {
            "marker": {
             "colorbar": {
              "outlinewidth": 0,
              "ticks": ""
             }
            },
            "type": "scattergeo"
           }
          ],
          "scattergl": [
           {
            "marker": {
             "colorbar": {
              "outlinewidth": 0,
              "ticks": ""
             }
            },
            "type": "scattergl"
           }
          ],
          "scattermapbox": [
           {
            "marker": {
             "colorbar": {
              "outlinewidth": 0,
              "ticks": ""
             }
            },
            "type": "scattermapbox"
           }
          ],
          "scatterpolar": [
           {
            "marker": {
             "colorbar": {
              "outlinewidth": 0,
              "ticks": ""
             }
            },
            "type": "scatterpolar"
           }
          ],
          "scatterpolargl": [
           {
            "marker": {
             "colorbar": {
              "outlinewidth": 0,
              "ticks": ""
             }
            },
            "type": "scatterpolargl"
           }
          ],
          "scatterternary": [
           {
            "marker": {
             "colorbar": {
              "outlinewidth": 0,
              "ticks": ""
             }
            },
            "type": "scatterternary"
           }
          ],
          "surface": [
           {
            "colorbar": {
             "outlinewidth": 0,
             "ticks": ""
            },
            "colorscale": [
             [
              0,
              "#0d0887"
             ],
             [
              0.1111111111111111,
              "#46039f"
             ],
             [
              0.2222222222222222,
              "#7201a8"
             ],
             [
              0.3333333333333333,
              "#9c179e"
             ],
             [
              0.4444444444444444,
              "#bd3786"
             ],
             [
              0.5555555555555556,
              "#d8576b"
             ],
             [
              0.6666666666666666,
              "#ed7953"
             ],
             [
              0.7777777777777778,
              "#fb9f3a"
             ],
             [
              0.8888888888888888,
              "#fdca26"
             ],
             [
              1,
              "#f0f921"
             ]
            ],
            "type": "surface"
           }
          ],
          "table": [
           {
            "cells": {
             "fill": {
              "color": "#EBF0F8"
             },
             "line": {
              "color": "white"
             }
            },
            "header": {
             "fill": {
              "color": "#C8D4E3"
             },
             "line": {
              "color": "white"
             }
            },
            "type": "table"
           }
          ]
         },
         "layout": {
          "annotationdefaults": {
           "arrowcolor": "#2a3f5f",
           "arrowhead": 0,
           "arrowwidth": 1
          },
          "coloraxis": {
           "colorbar": {
            "outlinewidth": 0,
            "ticks": ""
           }
          },
          "colorscale": {
           "diverging": [
            [
             0,
             "#8e0152"
            ],
            [
             0.1,
             "#c51b7d"
            ],
            [
             0.2,
             "#de77ae"
            ],
            [
             0.3,
             "#f1b6da"
            ],
            [
             0.4,
             "#fde0ef"
            ],
            [
             0.5,
             "#f7f7f7"
            ],
            [
             0.6,
             "#e6f5d0"
            ],
            [
             0.7,
             "#b8e186"
            ],
            [
             0.8,
             "#7fbc41"
            ],
            [
             0.9,
             "#4d9221"
            ],
            [
             1,
             "#276419"
            ]
           ],
           "sequential": [
            [
             0,
             "#0d0887"
            ],
            [
             0.1111111111111111,
             "#46039f"
            ],
            [
             0.2222222222222222,
             "#7201a8"
            ],
            [
             0.3333333333333333,
             "#9c179e"
            ],
            [
             0.4444444444444444,
             "#bd3786"
            ],
            [
             0.5555555555555556,
             "#d8576b"
            ],
            [
             0.6666666666666666,
             "#ed7953"
            ],
            [
             0.7777777777777778,
             "#fb9f3a"
            ],
            [
             0.8888888888888888,
             "#fdca26"
            ],
            [
             1,
             "#f0f921"
            ]
           ],
           "sequentialminus": [
            [
             0,
             "#0d0887"
            ],
            [
             0.1111111111111111,
             "#46039f"
            ],
            [
             0.2222222222222222,
             "#7201a8"
            ],
            [
             0.3333333333333333,
             "#9c179e"
            ],
            [
             0.4444444444444444,
             "#bd3786"
            ],
            [
             0.5555555555555556,
             "#d8576b"
            ],
            [
             0.6666666666666666,
             "#ed7953"
            ],
            [
             0.7777777777777778,
             "#fb9f3a"
            ],
            [
             0.8888888888888888,
             "#fdca26"
            ],
            [
             1,
             "#f0f921"
            ]
           ]
          },
          "colorway": [
           "#636efa",
           "#EF553B",
           "#00cc96",
           "#ab63fa",
           "#FFA15A",
           "#19d3f3",
           "#FF6692",
           "#B6E880",
           "#FF97FF",
           "#FECB52"
          ],
          "font": {
           "color": "#2a3f5f"
          },
          "geo": {
           "bgcolor": "white",
           "lakecolor": "white",
           "landcolor": "#E5ECF6",
           "showlakes": true,
           "showland": true,
           "subunitcolor": "white"
          },
          "hoverlabel": {
           "align": "left"
          },
          "hovermode": "closest",
          "mapbox": {
           "style": "light"
          },
          "paper_bgcolor": "white",
          "plot_bgcolor": "#E5ECF6",
          "polar": {
           "angularaxis": {
            "gridcolor": "white",
            "linecolor": "white",
            "ticks": ""
           },
           "bgcolor": "#E5ECF6",
           "radialaxis": {
            "gridcolor": "white",
            "linecolor": "white",
            "ticks": ""
           }
          },
          "scene": {
           "xaxis": {
            "backgroundcolor": "#E5ECF6",
            "gridcolor": "white",
            "gridwidth": 2,
            "linecolor": "white",
            "showbackground": true,
            "ticks": "",
            "zerolinecolor": "white"
           },
           "yaxis": {
            "backgroundcolor": "#E5ECF6",
            "gridcolor": "white",
            "gridwidth": 2,
            "linecolor": "white",
            "showbackground": true,
            "ticks": "",
            "zerolinecolor": "white"
           },
           "zaxis": {
            "backgroundcolor": "#E5ECF6",
            "gridcolor": "white",
            "gridwidth": 2,
            "linecolor": "white",
            "showbackground": true,
            "ticks": "",
            "zerolinecolor": "white"
           }
          },
          "shapedefaults": {
           "line": {
            "color": "#2a3f5f"
           }
          },
          "ternary": {
           "aaxis": {
            "gridcolor": "white",
            "linecolor": "white",
            "ticks": ""
           },
           "baxis": {
            "gridcolor": "white",
            "linecolor": "white",
            "ticks": ""
           },
           "bgcolor": "#E5ECF6",
           "caxis": {
            "gridcolor": "white",
            "linecolor": "white",
            "ticks": ""
           }
          },
          "title": {
           "x": 0.05
          },
          "xaxis": {
           "automargin": true,
           "gridcolor": "white",
           "linecolor": "white",
           "ticks": "",
           "title": {
            "standoff": 15
           },
           "zerolinecolor": "white",
           "zerolinewidth": 2
          },
          "yaxis": {
           "automargin": true,
           "gridcolor": "white",
           "linecolor": "white",
           "ticks": "",
           "title": {
            "standoff": 15
           },
           "zerolinecolor": "white",
           "zerolinewidth": 2
          }
         }
        }
       }
      }
     },
     "metadata": {}
    },
    {
     "output_type": "display_data",
     "data": {
      "application/vnd.plotly.v1+json": {
       "config": {
        "plotlyServerURL": "https://plotly.com"
       },
       "data": [
        {
         "customdata": [
          [
           "December, 2018"
          ],
          [
           "December, 2018"
          ],
          [
           "December, 2018"
          ],
          [
           "December, 2018"
          ],
          [
           "December, 2018"
          ],
          [
           "December, 2018"
          ],
          [
           "January, 2019"
          ],
          [
           "January, 2019"
          ],
          [
           "January, 2019"
          ],
          [
           "January, 2019"
          ]
         ],
         "hovertemplate": "velocidade_cat=5-10 km/h<br>velocidade=%{r}<br>direção=%{theta}<br>data=%{customdata[0]}<extra></extra>",
         "legendgroup": "5-10 km/h",
         "marker": {
          "color": "#f0f921"
         },
         "name": "5-10 km/h",
         "r": [
          9.547938887529922,
          9.097296796301585,
          8.53658134149738,
          9.980375794528378,
          7.0297028386696585,
          8.827406470759431,
          7.561210286719848,
          7.575928325954715,
          5.9508690121692975,
          9.029405572904622
         ],
         "showlegend": true,
         "subplot": "polar",
         "theta": [
          "ENE",
          "ENE",
          "SE",
          "SSE",
          "SW",
          "ESE",
          "NE",
          "NE",
          "WNW",
          "NNE"
         ],
         "type": "barpolar"
        },
        {
         "customdata": [
          [
           "December, 2018"
          ],
          [
           "December, 2018"
          ],
          [
           "December, 2018"
          ],
          [
           "December, 2018"
          ],
          [
           "December, 2018"
          ],
          [
           "December, 2018"
          ],
          [
           "December, 2018"
          ],
          [
           "December, 2018"
          ],
          [
           "December, 2018"
          ],
          [
           "December, 2018"
          ],
          [
           "December, 2018"
          ],
          [
           "December, 2018"
          ],
          [
           "December, 2018"
          ],
          [
           "December, 2018"
          ],
          [
           "December, 2018"
          ],
          [
           "December, 2018"
          ],
          [
           "December, 2018"
          ],
          [
           "December, 2018"
          ],
          [
           "December, 2018"
          ],
          [
           "December, 2018"
          ],
          [
           "December, 2018"
          ],
          [
           "December, 2018"
          ],
          [
           "December, 2018"
          ],
          [
           "December, 2018"
          ],
          [
           "December, 2018"
          ],
          [
           "December, 2018"
          ],
          [
           "January, 2019"
          ],
          [
           "January, 2019"
          ],
          [
           "January, 2019"
          ]
         ],
         "hovertemplate": "velocidade_cat=10-15 km/h<br>velocidade=%{r}<br>direção=%{theta}<br>data=%{customdata[0]}<extra></extra>",
         "legendgroup": "10-15 km/h",
         "marker": {
          "color": "#fdca26"
         },
         "name": "10-15 km/h",
         "r": [
          14.630714029055278,
          14.915452725277946,
          14.154163910312658,
          12.04219336333708,
          12.189300431116026,
          12.155745637352126,
          11.857532500482476,
          14.259084297387595,
          13.929393418236305,
          12.412247902777269,
          11.10347643758472,
          10.109753013798256,
          11.334212853127413,
          14.986057553606242,
          14.177006207235909,
          11.148768721253694,
          12.22883739363653,
          13.499288610886168,
          11.10204314529568,
          10.252510521819113,
          11.562638885652252,
          11.655395531684267,
          14.820909047693686,
          13.841145978567045,
          14.688970079620914,
          12.04791840941844,
          10.83068386575856,
          12.292004637161488,
          11.976380087488806
         ],
         "showlegend": true,
         "subplot": "polar",
         "theta": [
          "SSW",
          "SSW",
          "SSW",
          "ESE",
          "E",
          "E",
          "E",
          "S",
          "S",
          "E",
          "NW",
          "S",
          "E",
          "S",
          "SSE",
          "SSE",
          "SSE",
          "S",
          "SSE",
          "ESE",
          "ESE",
          "NE",
          "ENE",
          "NE",
          "NE",
          "NNE",
          "NNE",
          null,
          null
         ],
         "type": "barpolar"
        },
        {
         "customdata": [
          [
           "December, 2018"
          ],
          [
           "December, 2018"
          ],
          [
           "December, 2018"
          ],
          [
           "December, 2018"
          ],
          [
           "December, 2018"
          ],
          [
           "January, 2019"
          ],
          [
           "January, 2019"
          ],
          [
           "January, 2019"
          ]
         ],
         "hovertemplate": "velocidade_cat=15-20 km/h<br>velocidade=%{r}<br>direção=%{theta}<br>data=%{customdata[0]}<extra></extra>",
         "legendgroup": "15-20 km/h",
         "marker": {
          "color": "#fb9f3a"
         },
         "name": "15-20 km/h",
         "r": [
          15.807396275161695,
          16.988756428885427,
          16.730446975499607,
          18.113070556921365,
          16.603459428685472,
          16.289963689339668,
          15.471272022687893,
          15.610532662276356
         ],
         "showlegend": true,
         "subplot": "polar",
         "theta": [
          "S",
          "S",
          "S",
          "ENE",
          "E",
          "N",
          "N",
          "NW"
         ],
         "type": "barpolar"
        },
        {
         "customdata": [
          [
           "December, 2018"
          ],
          [
           "December, 2018"
          ],
          [
           "December, 2018"
          ],
          [
           "December, 2018"
          ]
         ],
         "hovertemplate": "velocidade_cat=20-25 km/h<br>velocidade=%{r}<br>direção=%{theta}<br>data=%{customdata[0]}<extra></extra>",
         "legendgroup": "20-25 km/h",
         "marker": {
          "color": "#ed7953"
         },
         "name": "20-25 km/h",
         "r": [
          20.612870979074934,
          24.86484854166619,
          23.48083750635828,
          20.760569211849717
         ],
         "showlegend": true,
         "subplot": "polar",
         "theta": [
          "SW",
          "S",
          "S",
          "S"
         ],
         "type": "barpolar"
        }
       ],
       "layout": {
        "barmode": "relative",
        "font": {
         "family": "Open Sans"
        },
        "legend": {
         "title": {
          "font": {
           "size": 14
          },
          "text": "<b>Velocidade"
         },
         "tracegroupgap": 0,
         "traceorder": "reversed",
         "x": 1.1,
         "xanchor": "right",
         "y": 0.99,
         "yanchor": "top"
        },
        "margin": {
         "t": 60
        },
        "paper_bgcolor": "rgb(255, 255, 255)",
        "polar": {
         "angularaxis": {
          "categoryarray": [
           "N",
           "NNE",
           "NE",
           "ENE",
           "E",
           "ESE",
           "SE",
           "SSE",
           "S",
           "SSW",
           "SW",
           "WSW",
           "W",
           "WNW",
           "NW",
           "NNW"
          ],
          "categoryorder": "array",
          "direction": "clockwise",
          "rotation": 90,
          "tickfont": {
           "size": 15
          }
         },
         "domain": {
          "x": [
           0,
           1
          ],
          "y": [
           0,
           1
          ]
         },
         "radialaxis": {
          "showticklabels": false
         }
        },
        "template": {
         "data": {
          "bar": [
           {
            "error_x": {
             "color": "#2a3f5f"
            },
            "error_y": {
             "color": "#2a3f5f"
            },
            "marker": {
             "line": {
              "color": "#E5ECF6",
              "width": 0.5
             }
            },
            "type": "bar"
           }
          ],
          "barpolar": [
           {
            "marker": {
             "line": {
              "color": "#E5ECF6",
              "width": 0.5
             }
            },
            "type": "barpolar"
           }
          ],
          "carpet": [
           {
            "aaxis": {
             "endlinecolor": "#2a3f5f",
             "gridcolor": "white",
             "linecolor": "white",
             "minorgridcolor": "white",
             "startlinecolor": "#2a3f5f"
            },
            "baxis": {
             "endlinecolor": "#2a3f5f",
             "gridcolor": "white",
             "linecolor": "white",
             "minorgridcolor": "white",
             "startlinecolor": "#2a3f5f"
            },
            "type": "carpet"
           }
          ],
          "choropleth": [
           {
            "colorbar": {
             "outlinewidth": 0,
             "ticks": ""
            },
            "type": "choropleth"
           }
          ],
          "contour": [
           {
            "colorbar": {
             "outlinewidth": 0,
             "ticks": ""
            },
            "colorscale": [
             [
              0,
              "#0d0887"
             ],
             [
              0.1111111111111111,
              "#46039f"
             ],
             [
              0.2222222222222222,
              "#7201a8"
             ],
             [
              0.3333333333333333,
              "#9c179e"
             ],
             [
              0.4444444444444444,
              "#bd3786"
             ],
             [
              0.5555555555555556,
              "#d8576b"
             ],
             [
              0.6666666666666666,
              "#ed7953"
             ],
             [
              0.7777777777777778,
              "#fb9f3a"
             ],
             [
              0.8888888888888888,
              "#fdca26"
             ],
             [
              1,
              "#f0f921"
             ]
            ],
            "type": "contour"
           }
          ],
          "contourcarpet": [
           {
            "colorbar": {
             "outlinewidth": 0,
             "ticks": ""
            },
            "type": "contourcarpet"
           }
          ],
          "heatmap": [
           {
            "colorbar": {
             "outlinewidth": 0,
             "ticks": ""
            },
            "colorscale": [
             [
              0,
              "#0d0887"
             ],
             [
              0.1111111111111111,
              "#46039f"
             ],
             [
              0.2222222222222222,
              "#7201a8"
             ],
             [
              0.3333333333333333,
              "#9c179e"
             ],
             [
              0.4444444444444444,
              "#bd3786"
             ],
             [
              0.5555555555555556,
              "#d8576b"
             ],
             [
              0.6666666666666666,
              "#ed7953"
             ],
             [
              0.7777777777777778,
              "#fb9f3a"
             ],
             [
              0.8888888888888888,
              "#fdca26"
             ],
             [
              1,
              "#f0f921"
             ]
            ],
            "type": "heatmap"
           }
          ],
          "heatmapgl": [
           {
            "colorbar": {
             "outlinewidth": 0,
             "ticks": ""
            },
            "colorscale": [
             [
              0,
              "#0d0887"
             ],
             [
              0.1111111111111111,
              "#46039f"
             ],
             [
              0.2222222222222222,
              "#7201a8"
             ],
             [
              0.3333333333333333,
              "#9c179e"
             ],
             [
              0.4444444444444444,
              "#bd3786"
             ],
             [
              0.5555555555555556,
              "#d8576b"
             ],
             [
              0.6666666666666666,
              "#ed7953"
             ],
             [
              0.7777777777777778,
              "#fb9f3a"
             ],
             [
              0.8888888888888888,
              "#fdca26"
             ],
             [
              1,
              "#f0f921"
             ]
            ],
            "type": "heatmapgl"
           }
          ],
          "histogram": [
           {
            "marker": {
             "colorbar": {
              "outlinewidth": 0,
              "ticks": ""
             }
            },
            "type": "histogram"
           }
          ],
          "histogram2d": [
           {
            "colorbar": {
             "outlinewidth": 0,
             "ticks": ""
            },
            "colorscale": [
             [
              0,
              "#0d0887"
             ],
             [
              0.1111111111111111,
              "#46039f"
             ],
             [
              0.2222222222222222,
              "#7201a8"
             ],
             [
              0.3333333333333333,
              "#9c179e"
             ],
             [
              0.4444444444444444,
              "#bd3786"
             ],
             [
              0.5555555555555556,
              "#d8576b"
             ],
             [
              0.6666666666666666,
              "#ed7953"
             ],
             [
              0.7777777777777778,
              "#fb9f3a"
             ],
             [
              0.8888888888888888,
              "#fdca26"
             ],
             [
              1,
              "#f0f921"
             ]
            ],
            "type": "histogram2d"
           }
          ],
          "histogram2dcontour": [
           {
            "colorbar": {
             "outlinewidth": 0,
             "ticks": ""
            },
            "colorscale": [
             [
              0,
              "#0d0887"
             ],
             [
              0.1111111111111111,
              "#46039f"
             ],
             [
              0.2222222222222222,
              "#7201a8"
             ],
             [
              0.3333333333333333,
              "#9c179e"
             ],
             [
              0.4444444444444444,
              "#bd3786"
             ],
             [
              0.5555555555555556,
              "#d8576b"
             ],
             [
              0.6666666666666666,
              "#ed7953"
             ],
             [
              0.7777777777777778,
              "#fb9f3a"
             ],
             [
              0.8888888888888888,
              "#fdca26"
             ],
             [
              1,
              "#f0f921"
             ]
            ],
            "type": "histogram2dcontour"
           }
          ],
          "mesh3d": [
           {
            "colorbar": {
             "outlinewidth": 0,
             "ticks": ""
            },
            "type": "mesh3d"
           }
          ],
          "parcoords": [
           {
            "line": {
             "colorbar": {
              "outlinewidth": 0,
              "ticks": ""
             }
            },
            "type": "parcoords"
           }
          ],
          "pie": [
           {
            "automargin": true,
            "type": "pie"
           }
          ],
          "scatter": [
           {
            "marker": {
             "colorbar": {
              "outlinewidth": 0,
              "ticks": ""
             }
            },
            "type": "scatter"
           }
          ],
          "scatter3d": [
           {
            "line": {
             "colorbar": {
              "outlinewidth": 0,
              "ticks": ""
             }
            },
            "marker": {
             "colorbar": {
              "outlinewidth": 0,
              "ticks": ""
             }
            },
            "type": "scatter3d"
           }
          ],
          "scattercarpet": [
           {
            "marker": {
             "colorbar": {
              "outlinewidth": 0,
              "ticks": ""
             }
            },
            "type": "scattercarpet"
           }
          ],
          "scattergeo": [
           {
            "marker": {
             "colorbar": {
              "outlinewidth": 0,
              "ticks": ""
             }
            },
            "type": "scattergeo"
           }
          ],
          "scattergl": [
           {
            "marker": {
             "colorbar": {
              "outlinewidth": 0,
              "ticks": ""
             }
            },
            "type": "scattergl"
           }
          ],
          "scattermapbox": [
           {
            "marker": {
             "colorbar": {
              "outlinewidth": 0,
              "ticks": ""
             }
            },
            "type": "scattermapbox"
           }
          ],
          "scatterpolar": [
           {
            "marker": {
             "colorbar": {
              "outlinewidth": 0,
              "ticks": ""
             }
            },
            "type": "scatterpolar"
           }
          ],
          "scatterpolargl": [
           {
            "marker": {
             "colorbar": {
              "outlinewidth": 0,
              "ticks": ""
             }
            },
            "type": "scatterpolargl"
           }
          ],
          "scatterternary": [
           {
            "marker": {
             "colorbar": {
              "outlinewidth": 0,
              "ticks": ""
             }
            },
            "type": "scatterternary"
           }
          ],
          "surface": [
           {
            "colorbar": {
             "outlinewidth": 0,
             "ticks": ""
            },
            "colorscale": [
             [
              0,
              "#0d0887"
             ],
             [
              0.1111111111111111,
              "#46039f"
             ],
             [
              0.2222222222222222,
              "#7201a8"
             ],
             [
              0.3333333333333333,
              "#9c179e"
             ],
             [
              0.4444444444444444,
              "#bd3786"
             ],
             [
              0.5555555555555556,
              "#d8576b"
             ],
             [
              0.6666666666666666,
              "#ed7953"
             ],
             [
              0.7777777777777778,
              "#fb9f3a"
             ],
             [
              0.8888888888888888,
              "#fdca26"
             ],
             [
              1,
              "#f0f921"
             ]
            ],
            "type": "surface"
           }
          ],
          "table": [
           {
            "cells": {
             "fill": {
              "color": "#EBF0F8"
             },
             "line": {
              "color": "white"
             }
            },
            "header": {
             "fill": {
              "color": "#C8D4E3"
             },
             "line": {
              "color": "white"
             }
            },
            "type": "table"
           }
          ]
         },
         "layout": {
          "annotationdefaults": {
           "arrowcolor": "#2a3f5f",
           "arrowhead": 0,
           "arrowwidth": 1
          },
          "coloraxis": {
           "colorbar": {
            "outlinewidth": 0,
            "ticks": ""
           }
          },
          "colorscale": {
           "diverging": [
            [
             0,
             "#8e0152"
            ],
            [
             0.1,
             "#c51b7d"
            ],
            [
             0.2,
             "#de77ae"
            ],
            [
             0.3,
             "#f1b6da"
            ],
            [
             0.4,
             "#fde0ef"
            ],
            [
             0.5,
             "#f7f7f7"
            ],
            [
             0.6,
             "#e6f5d0"
            ],
            [
             0.7,
             "#b8e186"
            ],
            [
             0.8,
             "#7fbc41"
            ],
            [
             0.9,
             "#4d9221"
            ],
            [
             1,
             "#276419"
            ]
           ],
           "sequential": [
            [
             0,
             "#0d0887"
            ],
            [
             0.1111111111111111,
             "#46039f"
            ],
            [
             0.2222222222222222,
             "#7201a8"
            ],
            [
             0.3333333333333333,
             "#9c179e"
            ],
            [
             0.4444444444444444,
             "#bd3786"
            ],
            [
             0.5555555555555556,
             "#d8576b"
            ],
            [
             0.6666666666666666,
             "#ed7953"
            ],
            [
             0.7777777777777778,
             "#fb9f3a"
            ],
            [
             0.8888888888888888,
             "#fdca26"
            ],
            [
             1,
             "#f0f921"
            ]
           ],
           "sequentialminus": [
            [
             0,
             "#0d0887"
            ],
            [
             0.1111111111111111,
             "#46039f"
            ],
            [
             0.2222222222222222,
             "#7201a8"
            ],
            [
             0.3333333333333333,
             "#9c179e"
            ],
            [
             0.4444444444444444,
             "#bd3786"
            ],
            [
             0.5555555555555556,
             "#d8576b"
            ],
            [
             0.6666666666666666,
             "#ed7953"
            ],
            [
             0.7777777777777778,
             "#fb9f3a"
            ],
            [
             0.8888888888888888,
             "#fdca26"
            ],
            [
             1,
             "#f0f921"
            ]
           ]
          },
          "colorway": [
           "#636efa",
           "#EF553B",
           "#00cc96",
           "#ab63fa",
           "#FFA15A",
           "#19d3f3",
           "#FF6692",
           "#B6E880",
           "#FF97FF",
           "#FECB52"
          ],
          "font": {
           "color": "#2a3f5f"
          },
          "geo": {
           "bgcolor": "white",
           "lakecolor": "white",
           "landcolor": "#E5ECF6",
           "showlakes": true,
           "showland": true,
           "subunitcolor": "white"
          },
          "hoverlabel": {
           "align": "left"
          },
          "hovermode": "closest",
          "mapbox": {
           "style": "light"
          },
          "paper_bgcolor": "white",
          "plot_bgcolor": "#E5ECF6",
          "polar": {
           "angularaxis": {
            "gridcolor": "white",
            "linecolor": "white",
            "ticks": ""
           },
           "bgcolor": "#E5ECF6",
           "radialaxis": {
            "gridcolor": "white",
            "linecolor": "white",
            "ticks": ""
           }
          },
          "scene": {
           "xaxis": {
            "backgroundcolor": "#E5ECF6",
            "gridcolor": "white",
            "gridwidth": 2,
            "linecolor": "white",
            "showbackground": true,
            "ticks": "",
            "zerolinecolor": "white"
           },
           "yaxis": {
            "backgroundcolor": "#E5ECF6",
            "gridcolor": "white",
            "gridwidth": 2,
            "linecolor": "white",
            "showbackground": true,
            "ticks": "",
            "zerolinecolor": "white"
           },
           "zaxis": {
            "backgroundcolor": "#E5ECF6",
            "gridcolor": "white",
            "gridwidth": 2,
            "linecolor": "white",
            "showbackground": true,
            "ticks": "",
            "zerolinecolor": "white"
           }
          },
          "shapedefaults": {
           "line": {
            "color": "#2a3f5f"
           }
          },
          "ternary": {
           "aaxis": {
            "gridcolor": "white",
            "linecolor": "white",
            "ticks": ""
           },
           "baxis": {
            "gridcolor": "white",
            "linecolor": "white",
            "ticks": ""
           },
           "bgcolor": "#E5ECF6",
           "caxis": {
            "gridcolor": "white",
            "linecolor": "white",
            "ticks": ""
           }
          },
          "title": {
           "x": 0.05
          },
          "xaxis": {
           "automargin": true,
           "gridcolor": "white",
           "linecolor": "white",
           "ticks": "",
           "title": {
            "standoff": 15
           },
           "zerolinecolor": "white",
           "zerolinewidth": 2
          },
          "yaxis": {
           "automargin": true,
           "gridcolor": "white",
           "linecolor": "white",
           "ticks": "",
           "title": {
            "standoff": 15
           },
           "zerolinecolor": "white",
           "zerolinewidth": 2
          }
         }
        }
       }
      }
     },
     "metadata": {}
    },
    {
     "output_type": "display_data",
     "data": {
      "application/vnd.plotly.v1+json": {
       "config": {
        "plotlyServerURL": "https://plotly.com"
       },
       "data": [
        {
         "customdata": [
          [
           "January, 2019"
          ]
         ],
         "hovertemplate": "velocidade_cat=0-5 km/h<br>velocidade=%{r}<br>direção=%{theta}<br>data=%{customdata[0]}<extra></extra>",
         "legendgroup": "0-5 km/h",
         "marker": {
          "color": "#f0f921"
         },
         "name": "0-5 km/h",
         "r": [
          1.981244558352116
         ],
         "showlegend": true,
         "subplot": "polar",
         "theta": [
          "NNW"
         ],
         "type": "barpolar"
        },
        {
         "customdata": [
          [
           "January, 2019"
          ],
          [
           "January, 2019"
          ],
          [
           "January, 2019"
          ],
          [
           "January, 2019"
          ],
          [
           "January, 2019"
          ]
         ],
         "hovertemplate": "velocidade_cat=5-10 km/h<br>velocidade=%{r}<br>direção=%{theta}<br>data=%{customdata[0]}<extra></extra>",
         "legendgroup": "5-10 km/h",
         "marker": {
          "color": "#fdca26"
         },
         "name": "5-10 km/h",
         "r": [
          5.830200339610815,
          8.949153088421374,
          5.6462416703507055,
          8.137000000000063,
          8.256078064068761
         ],
         "showlegend": true,
         "subplot": "polar",
         "theta": [
          "SSW",
          "NNW",
          "ESE",
          "N",
          "N"
         ],
         "type": "barpolar"
        },
        {
         "customdata": [
          [
           "January, 2019"
          ],
          [
           "January, 2019"
          ],
          [
           "January, 2019"
          ],
          [
           "January, 2019"
          ],
          [
           "January, 2019"
          ],
          [
           "January, 2019"
          ],
          [
           "February, 2019"
          ],
          [
           "February, 2019"
          ],
          [
           "February, 2019"
          ]
         ],
         "hovertemplate": "velocidade_cat=10-15 km/h<br>velocidade=%{r}<br>direção=%{theta}<br>data=%{customdata[0]}<extra></extra>",
         "legendgroup": "10-15 km/h",
         "marker": {
          "color": "#fb9f3a"
         },
         "name": "10-15 km/h",
         "r": [
          12.260894339321311,
          10.455895227095388,
          10.100304153836518,
          11.53691960620382,
          10.205839602894065,
          14.223326650260663,
          14.878420413471662,
          13.711772241399188,
          13.27541743223183
         ],
         "showlegend": true,
         "subplot": "polar",
         "theta": [
          "NE",
          "NNW",
          "ENE",
          "ENE",
          "NE",
          "E",
          "SSE",
          "SE",
          "SE"
         ],
         "type": "barpolar"
        },
        {
         "customdata": [
          [
           "February, 2019"
          ],
          [
           "February, 2019"
          ],
          [
           "February, 2019"
          ],
          [
           "February, 2019"
          ],
          [
           "February, 2019"
          ],
          [
           "February, 2019"
          ],
          [
           "February, 2019"
          ]
         ],
         "hovertemplate": "velocidade_cat=15-20 km/h<br>velocidade=%{r}<br>direção=%{theta}<br>data=%{customdata[0]}<extra></extra>",
         "legendgroup": "15-20 km/h",
         "marker": {
          "color": "#ed7953"
         },
         "name": "15-20 km/h",
         "r": [
          15.352529205313456,
          15.28465861574959,
          17.898602543215716,
          16.315668175101358,
          18.900991138033127,
          18.017641355072477,
          16.313392197823358
         ],
         "showlegend": true,
         "subplot": "polar",
         "theta": [
          "S",
          "SE",
          "ESE",
          "ESE",
          "SE",
          "ESE",
          "E"
         ],
         "type": "barpolar"
        }
       ],
       "layout": {
        "barmode": "relative",
        "font": {
         "family": "Open Sans"
        },
        "legend": {
         "title": {
          "font": {
           "size": 14
          },
          "text": "<b>Velocidade"
         },
         "tracegroupgap": 0,
         "traceorder": "reversed",
         "x": 1.1,
         "xanchor": "right",
         "y": 0.99,
         "yanchor": "top"
        },
        "margin": {
         "t": 60
        },
        "paper_bgcolor": "rgb(255, 255, 255)",
        "polar": {
         "angularaxis": {
          "categoryarray": [
           "N",
           "NNE",
           "NE",
           "ENE",
           "E",
           "ESE",
           "SE",
           "SSE",
           "S",
           "SSW",
           "SW",
           "WSW",
           "W",
           "WNW",
           "NW",
           "NNW"
          ],
          "categoryorder": "array",
          "direction": "clockwise",
          "rotation": 90,
          "tickfont": {
           "size": 15
          }
         },
         "domain": {
          "x": [
           0,
           1
          ],
          "y": [
           0,
           1
          ]
         },
         "radialaxis": {
          "showticklabels": false
         }
        },
        "template": {
         "data": {
          "bar": [
           {
            "error_x": {
             "color": "#2a3f5f"
            },
            "error_y": {
             "color": "#2a3f5f"
            },
            "marker": {
             "line": {
              "color": "#E5ECF6",
              "width": 0.5
             }
            },
            "type": "bar"
           }
          ],
          "barpolar": [
           {
            "marker": {
             "line": {
              "color": "#E5ECF6",
              "width": 0.5
             }
            },
            "type": "barpolar"
           }
          ],
          "carpet": [
           {
            "aaxis": {
             "endlinecolor": "#2a3f5f",
             "gridcolor": "white",
             "linecolor": "white",
             "minorgridcolor": "white",
             "startlinecolor": "#2a3f5f"
            },
            "baxis": {
             "endlinecolor": "#2a3f5f",
             "gridcolor": "white",
             "linecolor": "white",
             "minorgridcolor": "white",
             "startlinecolor": "#2a3f5f"
            },
            "type": "carpet"
           }
          ],
          "choropleth": [
           {
            "colorbar": {
             "outlinewidth": 0,
             "ticks": ""
            },
            "type": "choropleth"
           }
          ],
          "contour": [
           {
            "colorbar": {
             "outlinewidth": 0,
             "ticks": ""
            },
            "colorscale": [
             [
              0,
              "#0d0887"
             ],
             [
              0.1111111111111111,
              "#46039f"
             ],
             [
              0.2222222222222222,
              "#7201a8"
             ],
             [
              0.3333333333333333,
              "#9c179e"
             ],
             [
              0.4444444444444444,
              "#bd3786"
             ],
             [
              0.5555555555555556,
              "#d8576b"
             ],
             [
              0.6666666666666666,
              "#ed7953"
             ],
             [
              0.7777777777777778,
              "#fb9f3a"
             ],
             [
              0.8888888888888888,
              "#fdca26"
             ],
             [
              1,
              "#f0f921"
             ]
            ],
            "type": "contour"
           }
          ],
          "contourcarpet": [
           {
            "colorbar": {
             "outlinewidth": 0,
             "ticks": ""
            },
            "type": "contourcarpet"
           }
          ],
          "heatmap": [
           {
            "colorbar": {
             "outlinewidth": 0,
             "ticks": ""
            },
            "colorscale": [
             [
              0,
              "#0d0887"
             ],
             [
              0.1111111111111111,
              "#46039f"
             ],
             [
              0.2222222222222222,
              "#7201a8"
             ],
             [
              0.3333333333333333,
              "#9c179e"
             ],
             [
              0.4444444444444444,
              "#bd3786"
             ],
             [
              0.5555555555555556,
              "#d8576b"
             ],
             [
              0.6666666666666666,
              "#ed7953"
             ],
             [
              0.7777777777777778,
              "#fb9f3a"
             ],
             [
              0.8888888888888888,
              "#fdca26"
             ],
             [
              1,
              "#f0f921"
             ]
            ],
            "type": "heatmap"
           }
          ],
          "heatmapgl": [
           {
            "colorbar": {
             "outlinewidth": 0,
             "ticks": ""
            },
            "colorscale": [
             [
              0,
              "#0d0887"
             ],
             [
              0.1111111111111111,
              "#46039f"
             ],
             [
              0.2222222222222222,
              "#7201a8"
             ],
             [
              0.3333333333333333,
              "#9c179e"
             ],
             [
              0.4444444444444444,
              "#bd3786"
             ],
             [
              0.5555555555555556,
              "#d8576b"
             ],
             [
              0.6666666666666666,
              "#ed7953"
             ],
             [
              0.7777777777777778,
              "#fb9f3a"
             ],
             [
              0.8888888888888888,
              "#fdca26"
             ],
             [
              1,
              "#f0f921"
             ]
            ],
            "type": "heatmapgl"
           }
          ],
          "histogram": [
           {
            "marker": {
             "colorbar": {
              "outlinewidth": 0,
              "ticks": ""
             }
            },
            "type": "histogram"
           }
          ],
          "histogram2d": [
           {
            "colorbar": {
             "outlinewidth": 0,
             "ticks": ""
            },
            "colorscale": [
             [
              0,
              "#0d0887"
             ],
             [
              0.1111111111111111,
              "#46039f"
             ],
             [
              0.2222222222222222,
              "#7201a8"
             ],
             [
              0.3333333333333333,
              "#9c179e"
             ],
             [
              0.4444444444444444,
              "#bd3786"
             ],
             [
              0.5555555555555556,
              "#d8576b"
             ],
             [
              0.6666666666666666,
              "#ed7953"
             ],
             [
              0.7777777777777778,
              "#fb9f3a"
             ],
             [
              0.8888888888888888,
              "#fdca26"
             ],
             [
              1,
              "#f0f921"
             ]
            ],
            "type": "histogram2d"
           }
          ],
          "histogram2dcontour": [
           {
            "colorbar": {
             "outlinewidth": 0,
             "ticks": ""
            },
            "colorscale": [
             [
              0,
              "#0d0887"
             ],
             [
              0.1111111111111111,
              "#46039f"
             ],
             [
              0.2222222222222222,
              "#7201a8"
             ],
             [
              0.3333333333333333,
              "#9c179e"
             ],
             [
              0.4444444444444444,
              "#bd3786"
             ],
             [
              0.5555555555555556,
              "#d8576b"
             ],
             [
              0.6666666666666666,
              "#ed7953"
             ],
             [
              0.7777777777777778,
              "#fb9f3a"
             ],
             [
              0.8888888888888888,
              "#fdca26"
             ],
             [
              1,
              "#f0f921"
             ]
            ],
            "type": "histogram2dcontour"
           }
          ],
          "mesh3d": [
           {
            "colorbar": {
             "outlinewidth": 0,
             "ticks": ""
            },
            "type": "mesh3d"
           }
          ],
          "parcoords": [
           {
            "line": {
             "colorbar": {
              "outlinewidth": 0,
              "ticks": ""
             }
            },
            "type": "parcoords"
           }
          ],
          "pie": [
           {
            "automargin": true,
            "type": "pie"
           }
          ],
          "scatter": [
           {
            "marker": {
             "colorbar": {
              "outlinewidth": 0,
              "ticks": ""
             }
            },
            "type": "scatter"
           }
          ],
          "scatter3d": [
           {
            "line": {
             "colorbar": {
              "outlinewidth": 0,
              "ticks": ""
             }
            },
            "marker": {
             "colorbar": {
              "outlinewidth": 0,
              "ticks": ""
             }
            },
            "type": "scatter3d"
           }
          ],
          "scattercarpet": [
           {
            "marker": {
             "colorbar": {
              "outlinewidth": 0,
              "ticks": ""
             }
            },
            "type": "scattercarpet"
           }
          ],
          "scattergeo": [
           {
            "marker": {
             "colorbar": {
              "outlinewidth": 0,
              "ticks": ""
             }
            },
            "type": "scattergeo"
           }
          ],
          "scattergl": [
           {
            "marker": {
             "colorbar": {
              "outlinewidth": 0,
              "ticks": ""
             }
            },
            "type": "scattergl"
           }
          ],
          "scattermapbox": [
           {
            "marker": {
             "colorbar": {
              "outlinewidth": 0,
              "ticks": ""
             }
            },
            "type": "scattermapbox"
           }
          ],
          "scatterpolar": [
           {
            "marker": {
             "colorbar": {
              "outlinewidth": 0,
              "ticks": ""
             }
            },
            "type": "scatterpolar"
           }
          ],
          "scatterpolargl": [
           {
            "marker": {
             "colorbar": {
              "outlinewidth": 0,
              "ticks": ""
             }
            },
            "type": "scatterpolargl"
           }
          ],
          "scatterternary": [
           {
            "marker": {
             "colorbar": {
              "outlinewidth": 0,
              "ticks": ""
             }
            },
            "type": "scatterternary"
           }
          ],
          "surface": [
           {
            "colorbar": {
             "outlinewidth": 0,
             "ticks": ""
            },
            "colorscale": [
             [
              0,
              "#0d0887"
             ],
             [
              0.1111111111111111,
              "#46039f"
             ],
             [
              0.2222222222222222,
              "#7201a8"
             ],
             [
              0.3333333333333333,
              "#9c179e"
             ],
             [
              0.4444444444444444,
              "#bd3786"
             ],
             [
              0.5555555555555556,
              "#d8576b"
             ],
             [
              0.6666666666666666,
              "#ed7953"
             ],
             [
              0.7777777777777778,
              "#fb9f3a"
             ],
             [
              0.8888888888888888,
              "#fdca26"
             ],
             [
              1,
              "#f0f921"
             ]
            ],
            "type": "surface"
           }
          ],
          "table": [
           {
            "cells": {
             "fill": {
              "color": "#EBF0F8"
             },
             "line": {
              "color": "white"
             }
            },
            "header": {
             "fill": {
              "color": "#C8D4E3"
             },
             "line": {
              "color": "white"
             }
            },
            "type": "table"
           }
          ]
         },
         "layout": {
          "annotationdefaults": {
           "arrowcolor": "#2a3f5f",
           "arrowhead": 0,
           "arrowwidth": 1
          },
          "coloraxis": {
           "colorbar": {
            "outlinewidth": 0,
            "ticks": ""
           }
          },
          "colorscale": {
           "diverging": [
            [
             0,
             "#8e0152"
            ],
            [
             0.1,
             "#c51b7d"
            ],
            [
             0.2,
             "#de77ae"
            ],
            [
             0.3,
             "#f1b6da"
            ],
            [
             0.4,
             "#fde0ef"
            ],
            [
             0.5,
             "#f7f7f7"
            ],
            [
             0.6,
             "#e6f5d0"
            ],
            [
             0.7,
             "#b8e186"
            ],
            [
             0.8,
             "#7fbc41"
            ],
            [
             0.9,
             "#4d9221"
            ],
            [
             1,
             "#276419"
            ]
           ],
           "sequential": [
            [
             0,
             "#0d0887"
            ],
            [
             0.1111111111111111,
             "#46039f"
            ],
            [
             0.2222222222222222,
             "#7201a8"
            ],
            [
             0.3333333333333333,
             "#9c179e"
            ],
            [
             0.4444444444444444,
             "#bd3786"
            ],
            [
             0.5555555555555556,
             "#d8576b"
            ],
            [
             0.6666666666666666,
             "#ed7953"
            ],
            [
             0.7777777777777778,
             "#fb9f3a"
            ],
            [
             0.8888888888888888,
             "#fdca26"
            ],
            [
             1,
             "#f0f921"
            ]
           ],
           "sequentialminus": [
            [
             0,
             "#0d0887"
            ],
            [
             0.1111111111111111,
             "#46039f"
            ],
            [
             0.2222222222222222,
             "#7201a8"
            ],
            [
             0.3333333333333333,
             "#9c179e"
            ],
            [
             0.4444444444444444,
             "#bd3786"
            ],
            [
             0.5555555555555556,
             "#d8576b"
            ],
            [
             0.6666666666666666,
             "#ed7953"
            ],
            [
             0.7777777777777778,
             "#fb9f3a"
            ],
            [
             0.8888888888888888,
             "#fdca26"
            ],
            [
             1,
             "#f0f921"
            ]
           ]
          },
          "colorway": [
           "#636efa",
           "#EF553B",
           "#00cc96",
           "#ab63fa",
           "#FFA15A",
           "#19d3f3",
           "#FF6692",
           "#B6E880",
           "#FF97FF",
           "#FECB52"
          ],
          "font": {
           "color": "#2a3f5f"
          },
          "geo": {
           "bgcolor": "white",
           "lakecolor": "white",
           "landcolor": "#E5ECF6",
           "showlakes": true,
           "showland": true,
           "subunitcolor": "white"
          },
          "hoverlabel": {
           "align": "left"
          },
          "hovermode": "closest",
          "mapbox": {
           "style": "light"
          },
          "paper_bgcolor": "white",
          "plot_bgcolor": "#E5ECF6",
          "polar": {
           "angularaxis": {
            "gridcolor": "white",
            "linecolor": "white",
            "ticks": ""
           },
           "bgcolor": "#E5ECF6",
           "radialaxis": {
            "gridcolor": "white",
            "linecolor": "white",
            "ticks": ""
           }
          },
          "scene": {
           "xaxis": {
            "backgroundcolor": "#E5ECF6",
            "gridcolor": "white",
            "gridwidth": 2,
            "linecolor": "white",
            "showbackground": true,
            "ticks": "",
            "zerolinecolor": "white"
           },
           "yaxis": {
            "backgroundcolor": "#E5ECF6",
            "gridcolor": "white",
            "gridwidth": 2,
            "linecolor": "white",
            "showbackground": true,
            "ticks": "",
            "zerolinecolor": "white"
           },
           "zaxis": {
            "backgroundcolor": "#E5ECF6",
            "gridcolor": "white",
            "gridwidth": 2,
            "linecolor": "white",
            "showbackground": true,
            "ticks": "",
            "zerolinecolor": "white"
           }
          },
          "shapedefaults": {
           "line": {
            "color": "#2a3f5f"
           }
          },
          "ternary": {
           "aaxis": {
            "gridcolor": "white",
            "linecolor": "white",
            "ticks": ""
           },
           "baxis": {
            "gridcolor": "white",
            "linecolor": "white",
            "ticks": ""
           },
           "bgcolor": "#E5ECF6",
           "caxis": {
            "gridcolor": "white",
            "linecolor": "white",
            "ticks": ""
           }
          },
          "title": {
           "x": 0.05
          },
          "xaxis": {
           "automargin": true,
           "gridcolor": "white",
           "linecolor": "white",
           "ticks": "",
           "title": {
            "standoff": 15
           },
           "zerolinecolor": "white",
           "zerolinewidth": 2
          },
          "yaxis": {
           "automargin": true,
           "gridcolor": "white",
           "linecolor": "white",
           "ticks": "",
           "title": {
            "standoff": 15
           },
           "zerolinecolor": "white",
           "zerolinewidth": 2
          }
         }
        }
       }
      }
     },
     "metadata": {}
    },
    {
     "output_type": "display_data",
     "data": {
      "application/vnd.plotly.v1+json": {
       "config": {
        "plotlyServerURL": "https://plotly.com"
       },
       "data": [
        {
         "customdata": [
          [
           "February, 2019"
          ],
          [
           "February, 2019"
          ],
          [
           "February, 2019"
          ],
          [
           "February, 2019"
          ],
          [
           "February, 2019"
          ],
          [
           "February, 2019"
          ]
         ],
         "hovertemplate": "velocidade_cat=0-5 km/h<br>velocidade=%{r}<br>direção=%{theta}<br>data=%{customdata[0]}<extra></extra>",
         "legendgroup": "0-5 km/h",
         "marker": {
          "color": "#f0f921"
         },
         "name": "0-5 km/h",
         "r": [
          1.400951462399714,
          1.3547534831110033,
          3.6049999999999423,
          3.0624101619474167,
          4.313720667822305,
          2.7886191923603585
         ],
         "showlegend": true,
         "subplot": "polar",
         "theta": [
          "NNE",
          "E",
          "NW",
          "NNW",
          "WNW",
          "W"
         ],
         "type": "barpolar"
        },
        {
         "customdata": [
          [
           "February, 2019"
          ],
          [
           "February, 2019"
          ],
          [
           "February, 2019"
          ],
          [
           "February, 2019"
          ],
          [
           "February, 2019"
          ],
          [
           "March, 2019"
          ]
         ],
         "hovertemplate": "velocidade_cat=5-10 km/h<br>velocidade=%{r}<br>direção=%{theta}<br>data=%{customdata[0]}<extra></extra>",
         "legendgroup": "5-10 km/h",
         "marker": {
          "color": "#fdca26"
         },
         "name": "5-10 km/h",
         "r": [
          7.136792626943656,
          6.090950090092486,
          7.295570779589354,
          6.245741989547764,
          8.896839270212507,
          5.642482521018732
         ],
         "showlegend": true,
         "subplot": "polar",
         "theta": [
          "WNW",
          "WSW",
          "NNW",
          "NNW",
          "SSW",
          "ESE"
         ],
         "type": "barpolar"
        },
        {
         "customdata": [
          [
           "February, 2019"
          ],
          [
           "February, 2019"
          ],
          [
           "February, 2019"
          ],
          [
           "February, 2019"
          ],
          [
           "February, 2019"
          ],
          [
           "February, 2019"
          ],
          [
           "March, 2019"
          ],
          [
           "March, 2019"
          ]
         ],
         "hovertemplate": "velocidade_cat=10-15 km/h<br>velocidade=%{r}<br>direção=%{theta}<br>data=%{customdata[0]}<extra></extra>",
         "legendgroup": "10-15 km/h",
         "marker": {
          "color": "#fb9f3a"
         },
         "name": "10-15 km/h",
         "r": [
          13.245816018652846,
          10.732777925588307,
          14.511672887713427,
          14.708818341389529,
          10.431006854565977,
          14.495214555155805,
          10.281959200463627,
          14.98641151176605
         ],
         "showlegend": true,
         "subplot": "polar",
         "theta": [
          "NW",
          "NW",
          "SSW",
          "SSW",
          null,
          "N",
          "E",
          "SSW"
         ],
         "type": "barpolar"
        },
        {
         "customdata": [
          [
           "February, 2019"
          ],
          [
           "February, 2019"
          ],
          [
           "February, 2019"
          ],
          [
           "February, 2019"
          ],
          [
           "February, 2019"
          ]
         ],
         "hovertemplate": "velocidade_cat=15-20 km/h<br>velocidade=%{r}<br>direção=%{theta}<br>data=%{customdata[0]}<extra></extra>",
         "legendgroup": "15-20 km/h",
         "marker": {
          "color": "#ed7953"
         },
         "name": "15-20 km/h",
         "r": [
          15.31378284422259,
          15.523299455979346,
          15.240171816616936,
          16.128629203996287,
          19.18483872749516
         ],
         "showlegend": true,
         "subplot": "polar",
         "theta": [
          "NE",
          "NE",
          "NNE",
          "SSW",
          "SSE"
         ],
         "type": "barpolar"
        },
        {
         "customdata": [
          [
           "February, 2019"
          ],
          [
           "February, 2019"
          ],
          [
           "February, 2019"
          ],
          [
           "February, 2019"
          ],
          [
           "February, 2019"
          ],
          [
           "March, 2019"
          ],
          [
           "March, 2019"
          ],
          [
           "March, 2019"
          ],
          [
           "March, 2019"
          ],
          [
           "March, 2019"
          ]
         ],
         "hovertemplate": "velocidade_cat=20-25 km/h<br>velocidade=%{r}<br>direção=%{theta}<br>data=%{customdata[0]}<extra></extra>",
         "legendgroup": "20-25 km/h",
         "marker": {
          "color": "#d8576b"
         },
         "name": "20-25 km/h",
         "r": [
          22.81769672863648,
          23.471799462333497,
          23.022285724923233,
          23.117248041235513,
          20.064918165793504,
          20.131428389460982,
          23.636199779152328,
          21.27218082378936,
          20.051166375051764,
          22.72358352021072
         ],
         "showlegend": true,
         "subplot": "polar",
         "theta": [
          "E",
          "SSW",
          "S",
          "S",
          "WNW",
          "NNW",
          "NNW",
          "SW",
          "SW",
          "SW"
         ],
         "type": "barpolar"
        },
        {
         "customdata": [
          [
           "February, 2019"
          ],
          [
           "March, 2019"
          ]
         ],
         "hovertemplate": "velocidade_cat=25-30 km/h<br>velocidade=%{r}<br>direção=%{theta}<br>data=%{customdata[0]}<extra></extra>",
         "legendgroup": "25-30 km/h",
         "marker": {
          "color": "#bd3786"
         },
         "name": "25-30 km/h",
         "r": [
          28.186077502909193,
          28.05989208817462
         ],
         "showlegend": true,
         "subplot": "polar",
         "theta": [
          "ENE",
          "NNW"
         ],
         "type": "barpolar"
        }
       ],
       "layout": {
        "barmode": "relative",
        "font": {
         "family": "Open Sans"
        },
        "legend": {
         "title": {
          "font": {
           "size": 14
          },
          "text": "<b>Velocidade"
         },
         "tracegroupgap": 0,
         "traceorder": "reversed",
         "x": 1.1,
         "xanchor": "right",
         "y": 0.99,
         "yanchor": "top"
        },
        "margin": {
         "t": 60
        },
        "paper_bgcolor": "rgb(255, 255, 255)",
        "polar": {
         "angularaxis": {
          "categoryarray": [
           "N",
           "NNE",
           "NE",
           "ENE",
           "E",
           "ESE",
           "SE",
           "SSE",
           "S",
           "SSW",
           "SW",
           "WSW",
           "W",
           "WNW",
           "NW",
           "NNW"
          ],
          "categoryorder": "array",
          "direction": "clockwise",
          "rotation": 90,
          "tickfont": {
           "size": 15
          }
         },
         "domain": {
          "x": [
           0,
           1
          ],
          "y": [
           0,
           1
          ]
         },
         "radialaxis": {
          "showticklabels": false
         }
        },
        "template": {
         "data": {
          "bar": [
           {
            "error_x": {
             "color": "#2a3f5f"
            },
            "error_y": {
             "color": "#2a3f5f"
            },
            "marker": {
             "line": {
              "color": "#E5ECF6",
              "width": 0.5
             }
            },
            "type": "bar"
           }
          ],
          "barpolar": [
           {
            "marker": {
             "line": {
              "color": "#E5ECF6",
              "width": 0.5
             }
            },
            "type": "barpolar"
           }
          ],
          "carpet": [
           {
            "aaxis": {
             "endlinecolor": "#2a3f5f",
             "gridcolor": "white",
             "linecolor": "white",
             "minorgridcolor": "white",
             "startlinecolor": "#2a3f5f"
            },
            "baxis": {
             "endlinecolor": "#2a3f5f",
             "gridcolor": "white",
             "linecolor": "white",
             "minorgridcolor": "white",
             "startlinecolor": "#2a3f5f"
            },
            "type": "carpet"
           }
          ],
          "choropleth": [
           {
            "colorbar": {
             "outlinewidth": 0,
             "ticks": ""
            },
            "type": "choropleth"
           }
          ],
          "contour": [
           {
            "colorbar": {
             "outlinewidth": 0,
             "ticks": ""
            },
            "colorscale": [
             [
              0,
              "#0d0887"
             ],
             [
              0.1111111111111111,
              "#46039f"
             ],
             [
              0.2222222222222222,
              "#7201a8"
             ],
             [
              0.3333333333333333,
              "#9c179e"
             ],
             [
              0.4444444444444444,
              "#bd3786"
             ],
             [
              0.5555555555555556,
              "#d8576b"
             ],
             [
              0.6666666666666666,
              "#ed7953"
             ],
             [
              0.7777777777777778,
              "#fb9f3a"
             ],
             [
              0.8888888888888888,
              "#fdca26"
             ],
             [
              1,
              "#f0f921"
             ]
            ],
            "type": "contour"
           }
          ],
          "contourcarpet": [
           {
            "colorbar": {
             "outlinewidth": 0,
             "ticks": ""
            },
            "type": "contourcarpet"
           }
          ],
          "heatmap": [
           {
            "colorbar": {
             "outlinewidth": 0,
             "ticks": ""
            },
            "colorscale": [
             [
              0,
              "#0d0887"
             ],
             [
              0.1111111111111111,
              "#46039f"
             ],
             [
              0.2222222222222222,
              "#7201a8"
             ],
             [
              0.3333333333333333,
              "#9c179e"
             ],
             [
              0.4444444444444444,
              "#bd3786"
             ],
             [
              0.5555555555555556,
              "#d8576b"
             ],
             [
              0.6666666666666666,
              "#ed7953"
             ],
             [
              0.7777777777777778,
              "#fb9f3a"
             ],
             [
              0.8888888888888888,
              "#fdca26"
             ],
             [
              1,
              "#f0f921"
             ]
            ],
            "type": "heatmap"
           }
          ],
          "heatmapgl": [
           {
            "colorbar": {
             "outlinewidth": 0,
             "ticks": ""
            },
            "colorscale": [
             [
              0,
              "#0d0887"
             ],
             [
              0.1111111111111111,
              "#46039f"
             ],
             [
              0.2222222222222222,
              "#7201a8"
             ],
             [
              0.3333333333333333,
              "#9c179e"
             ],
             [
              0.4444444444444444,
              "#bd3786"
             ],
             [
              0.5555555555555556,
              "#d8576b"
             ],
             [
              0.6666666666666666,
              "#ed7953"
             ],
             [
              0.7777777777777778,
              "#fb9f3a"
             ],
             [
              0.8888888888888888,
              "#fdca26"
             ],
             [
              1,
              "#f0f921"
             ]
            ],
            "type": "heatmapgl"
           }
          ],
          "histogram": [
           {
            "marker": {
             "colorbar": {
              "outlinewidth": 0,
              "ticks": ""
             }
            },
            "type": "histogram"
           }
          ],
          "histogram2d": [
           {
            "colorbar": {
             "outlinewidth": 0,
             "ticks": ""
            },
            "colorscale": [
             [
              0,
              "#0d0887"
             ],
             [
              0.1111111111111111,
              "#46039f"
             ],
             [
              0.2222222222222222,
              "#7201a8"
             ],
             [
              0.3333333333333333,
              "#9c179e"
             ],
             [
              0.4444444444444444,
              "#bd3786"
             ],
             [
              0.5555555555555556,
              "#d8576b"
             ],
             [
              0.6666666666666666,
              "#ed7953"
             ],
             [
              0.7777777777777778,
              "#fb9f3a"
             ],
             [
              0.8888888888888888,
              "#fdca26"
             ],
             [
              1,
              "#f0f921"
             ]
            ],
            "type": "histogram2d"
           }
          ],
          "histogram2dcontour": [
           {
            "colorbar": {
             "outlinewidth": 0,
             "ticks": ""
            },
            "colorscale": [
             [
              0,
              "#0d0887"
             ],
             [
              0.1111111111111111,
              "#46039f"
             ],
             [
              0.2222222222222222,
              "#7201a8"
             ],
             [
              0.3333333333333333,
              "#9c179e"
             ],
             [
              0.4444444444444444,
              "#bd3786"
             ],
             [
              0.5555555555555556,
              "#d8576b"
             ],
             [
              0.6666666666666666,
              "#ed7953"
             ],
             [
              0.7777777777777778,
              "#fb9f3a"
             ],
             [
              0.8888888888888888,
              "#fdca26"
             ],
             [
              1,
              "#f0f921"
             ]
            ],
            "type": "histogram2dcontour"
           }
          ],
          "mesh3d": [
           {
            "colorbar": {
             "outlinewidth": 0,
             "ticks": ""
            },
            "type": "mesh3d"
           }
          ],
          "parcoords": [
           {
            "line": {
             "colorbar": {
              "outlinewidth": 0,
              "ticks": ""
             }
            },
            "type": "parcoords"
           }
          ],
          "pie": [
           {
            "automargin": true,
            "type": "pie"
           }
          ],
          "scatter": [
           {
            "marker": {
             "colorbar": {
              "outlinewidth": 0,
              "ticks": ""
             }
            },
            "type": "scatter"
           }
          ],
          "scatter3d": [
           {
            "line": {
             "colorbar": {
              "outlinewidth": 0,
              "ticks": ""
             }
            },
            "marker": {
             "colorbar": {
              "outlinewidth": 0,
              "ticks": ""
             }
            },
            "type": "scatter3d"
           }
          ],
          "scattercarpet": [
           {
            "marker": {
             "colorbar": {
              "outlinewidth": 0,
              "ticks": ""
             }
            },
            "type": "scattercarpet"
           }
          ],
          "scattergeo": [
           {
            "marker": {
             "colorbar": {
              "outlinewidth": 0,
              "ticks": ""
             }
            },
            "type": "scattergeo"
           }
          ],
          "scattergl": [
           {
            "marker": {
             "colorbar": {
              "outlinewidth": 0,
              "ticks": ""
             }
            },
            "type": "scattergl"
           }
          ],
          "scattermapbox": [
           {
            "marker": {
             "colorbar": {
              "outlinewidth": 0,
              "ticks": ""
             }
            },
            "type": "scattermapbox"
           }
          ],
          "scatterpolar": [
           {
            "marker": {
             "colorbar": {
              "outlinewidth": 0,
              "ticks": ""
             }
            },
            "type": "scatterpolar"
           }
          ],
          "scatterpolargl": [
           {
            "marker": {
             "colorbar": {
              "outlinewidth": 0,
              "ticks": ""
             }
            },
            "type": "scatterpolargl"
           }
          ],
          "scatterternary": [
           {
            "marker": {
             "colorbar": {
              "outlinewidth": 0,
              "ticks": ""
             }
            },
            "type": "scatterternary"
           }
          ],
          "surface": [
           {
            "colorbar": {
             "outlinewidth": 0,
             "ticks": ""
            },
            "colorscale": [
             [
              0,
              "#0d0887"
             ],
             [
              0.1111111111111111,
              "#46039f"
             ],
             [
              0.2222222222222222,
              "#7201a8"
             ],
             [
              0.3333333333333333,
              "#9c179e"
             ],
             [
              0.4444444444444444,
              "#bd3786"
             ],
             [
              0.5555555555555556,
              "#d8576b"
             ],
             [
              0.6666666666666666,
              "#ed7953"
             ],
             [
              0.7777777777777778,
              "#fb9f3a"
             ],
             [
              0.8888888888888888,
              "#fdca26"
             ],
             [
              1,
              "#f0f921"
             ]
            ],
            "type": "surface"
           }
          ],
          "table": [
           {
            "cells": {
             "fill": {
              "color": "#EBF0F8"
             },
             "line": {
              "color": "white"
             }
            },
            "header": {
             "fill": {
              "color": "#C8D4E3"
             },
             "line": {
              "color": "white"
             }
            },
            "type": "table"
           }
          ]
         },
         "layout": {
          "annotationdefaults": {
           "arrowcolor": "#2a3f5f",
           "arrowhead": 0,
           "arrowwidth": 1
          },
          "coloraxis": {
           "colorbar": {
            "outlinewidth": 0,
            "ticks": ""
           }
          },
          "colorscale": {
           "diverging": [
            [
             0,
             "#8e0152"
            ],
            [
             0.1,
             "#c51b7d"
            ],
            [
             0.2,
             "#de77ae"
            ],
            [
             0.3,
             "#f1b6da"
            ],
            [
             0.4,
             "#fde0ef"
            ],
            [
             0.5,
             "#f7f7f7"
            ],
            [
             0.6,
             "#e6f5d0"
            ],
            [
             0.7,
             "#b8e186"
            ],
            [
             0.8,
             "#7fbc41"
            ],
            [
             0.9,
             "#4d9221"
            ],
            [
             1,
             "#276419"
            ]
           ],
           "sequential": [
            [
             0,
             "#0d0887"
            ],
            [
             0.1111111111111111,
             "#46039f"
            ],
            [
             0.2222222222222222,
             "#7201a8"
            ],
            [
             0.3333333333333333,
             "#9c179e"
            ],
            [
             0.4444444444444444,
             "#bd3786"
            ],
            [
             0.5555555555555556,
             "#d8576b"
            ],
            [
             0.6666666666666666,
             "#ed7953"
            ],
            [
             0.7777777777777778,
             "#fb9f3a"
            ],
            [
             0.8888888888888888,
             "#fdca26"
            ],
            [
             1,
             "#f0f921"
            ]
           ],
           "sequentialminus": [
            [
             0,
             "#0d0887"
            ],
            [
             0.1111111111111111,
             "#46039f"
            ],
            [
             0.2222222222222222,
             "#7201a8"
            ],
            [
             0.3333333333333333,
             "#9c179e"
            ],
            [
             0.4444444444444444,
             "#bd3786"
            ],
            [
             0.5555555555555556,
             "#d8576b"
            ],
            [
             0.6666666666666666,
             "#ed7953"
            ],
            [
             0.7777777777777778,
             "#fb9f3a"
            ],
            [
             0.8888888888888888,
             "#fdca26"
            ],
            [
             1,
             "#f0f921"
            ]
           ]
          },
          "colorway": [
           "#636efa",
           "#EF553B",
           "#00cc96",
           "#ab63fa",
           "#FFA15A",
           "#19d3f3",
           "#FF6692",
           "#B6E880",
           "#FF97FF",
           "#FECB52"
          ],
          "font": {
           "color": "#2a3f5f"
          },
          "geo": {
           "bgcolor": "white",
           "lakecolor": "white",
           "landcolor": "#E5ECF6",
           "showlakes": true,
           "showland": true,
           "subunitcolor": "white"
          },
          "hoverlabel": {
           "align": "left"
          },
          "hovermode": "closest",
          "mapbox": {
           "style": "light"
          },
          "paper_bgcolor": "white",
          "plot_bgcolor": "#E5ECF6",
          "polar": {
           "angularaxis": {
            "gridcolor": "white",
            "linecolor": "white",
            "ticks": ""
           },
           "bgcolor": "#E5ECF6",
           "radialaxis": {
            "gridcolor": "white",
            "linecolor": "white",
            "ticks": ""
           }
          },
          "scene": {
           "xaxis": {
            "backgroundcolor": "#E5ECF6",
            "gridcolor": "white",
            "gridwidth": 2,
            "linecolor": "white",
            "showbackground": true,
            "ticks": "",
            "zerolinecolor": "white"
           },
           "yaxis": {
            "backgroundcolor": "#E5ECF6",
            "gridcolor": "white",
            "gridwidth": 2,
            "linecolor": "white",
            "showbackground": true,
            "ticks": "",
            "zerolinecolor": "white"
           },
           "zaxis": {
            "backgroundcolor": "#E5ECF6",
            "gridcolor": "white",
            "gridwidth": 2,
            "linecolor": "white",
            "showbackground": true,
            "ticks": "",
            "zerolinecolor": "white"
           }
          },
          "shapedefaults": {
           "line": {
            "color": "#2a3f5f"
           }
          },
          "ternary": {
           "aaxis": {
            "gridcolor": "white",
            "linecolor": "white",
            "ticks": ""
           },
           "baxis": {
            "gridcolor": "white",
            "linecolor": "white",
            "ticks": ""
           },
           "bgcolor": "#E5ECF6",
           "caxis": {
            "gridcolor": "white",
            "linecolor": "white",
            "ticks": ""
           }
          },
          "title": {
           "x": 0.05
          },
          "xaxis": {
           "automargin": true,
           "gridcolor": "white",
           "linecolor": "white",
           "ticks": "",
           "title": {
            "standoff": 15
           },
           "zerolinecolor": "white",
           "zerolinewidth": 2
          },
          "yaxis": {
           "automargin": true,
           "gridcolor": "white",
           "linecolor": "white",
           "ticks": "",
           "title": {
            "standoff": 15
           },
           "zerolinecolor": "white",
           "zerolinewidth": 2
          }
         }
        }
       }
      }
     },
     "metadata": {}
    },
    {
     "output_type": "display_data",
     "data": {
      "application/vnd.plotly.v1+json": {
       "config": {
        "plotlyServerURL": "https://plotly.com"
       },
       "data": [
        {
         "customdata": [
          [
           "March, 2019"
          ],
          [
           "March, 2019"
          ],
          [
           "April, 2019"
          ]
         ],
         "hovertemplate": "velocidade_cat=0-5 km/h<br>velocidade=%{r}<br>direção=%{theta}<br>data=%{customdata[0]}<extra></extra>",
         "legendgroup": "0-5 km/h",
         "marker": {
          "color": "#f0f921"
         },
         "name": "0-5 km/h",
         "r": [
          4.204116316183201,
          4.5425218766671565,
          4.575101856789834
         ],
         "showlegend": true,
         "subplot": "polar",
         "theta": [
          "WSW",
          "WSW",
          "SSE"
         ],
         "type": "barpolar"
        },
        {
         "customdata": [
          [
           "April, 2019"
          ],
          [
           "April, 2019"
          ]
         ],
         "hovertemplate": "velocidade_cat=5-10 km/h<br>velocidade=%{r}<br>direção=%{theta}<br>data=%{customdata[0]}<extra></extra>",
         "legendgroup": "5-10 km/h",
         "marker": {
          "color": "#fdca26"
         },
         "name": "5-10 km/h",
         "r": [
          6.679135048791852,
          7.065830029091124
         ],
         "showlegend": true,
         "subplot": "polar",
         "theta": [
          "ESE",
          "ESE"
         ],
         "type": "barpolar"
        },
        {
         "customdata": [
          [
           "March, 2019"
          ],
          [
           "March, 2019"
          ],
          [
           "March, 2019"
          ],
          [
           "March, 2019"
          ],
          [
           "March, 2019"
          ],
          [
           "March, 2019"
          ],
          [
           "April, 2019"
          ],
          [
           "April, 2019"
          ],
          [
           "April, 2019"
          ]
         ],
         "hovertemplate": "velocidade_cat=10-15 km/h<br>velocidade=%{r}<br>direção=%{theta}<br>data=%{customdata[0]}<extra></extra>",
         "legendgroup": "10-15 km/h",
         "marker": {
          "color": "#fb9f3a"
         },
         "name": "10-15 km/h",
         "r": [
          11.440421014980151,
          13.81006853712143,
          12.66941869226834,
          11.715316171576426,
          12.181900180185428,
          12.695768468273284,
          14.864152649915798,
          14.309217309133404,
          12.437010090853974
         ],
         "showlegend": true,
         "subplot": "polar",
         "theta": [
          "ESE",
          "SSW",
          "SSW",
          "SSW",
          "SSW",
          "S",
          "SSW",
          "SSW",
          "SSE"
         ],
         "type": "barpolar"
        },
        {
         "customdata": [
          [
           "March, 2019"
          ],
          [
           "March, 2019"
          ],
          [
           "March, 2019"
          ],
          [
           "March, 2019"
          ],
          [
           "March, 2019"
          ],
          [
           "March, 2019"
          ],
          [
           "March, 2019"
          ],
          [
           "March, 2019"
          ],
          [
           "March, 2019"
          ],
          [
           "March, 2019"
          ],
          [
           "March, 2019"
          ],
          [
           "March, 2019"
          ],
          [
           "March, 2019"
          ],
          [
           "April, 2019"
          ],
          [
           "April, 2019"
          ],
          [
           "April, 2019"
          ],
          [
           "April, 2019"
          ],
          [
           "April, 2019"
          ],
          [
           "April, 2019"
          ],
          [
           "April, 2019"
          ],
          [
           "April, 2019"
          ]
         ],
         "hovertemplate": "velocidade_cat=15-20 km/h<br>velocidade=%{r}<br>direção=%{theta}<br>data=%{customdata[0]}<extra></extra>",
         "legendgroup": "15-20 km/h",
         "marker": {
          "color": "#ed7953"
         },
         "name": "15-20 km/h",
         "r": [
          17.168898188293422,
          15.039410892718115,
          15.744182576431365,
          15.664468104599134,
          19.748353070572804,
          18.965709715167566,
          16.030983001675338,
          18.879368977802102,
          19.156061729906927,
          16.09504774767749,
          16.25475761123532,
          16.241698956698446,
          15.764384700964987,
          19.50728635664098,
          18.632469401558108,
          18.528552021137262,
          17.86181561320116,
          17.137974355214787,
          18.69073998000073,
          15.228681492499517,
          16.608250961494974
         ],
         "showlegend": true,
         "subplot": "polar",
         "theta": [
          "WSW",
          "ESE",
          "SSW",
          "S",
          "SE",
          "SE",
          "ESE",
          "ESE",
          "SE",
          "ESE",
          "E",
          "E",
          "E",
          "W",
          "W",
          "W",
          "WSW",
          "SSW",
          "SSW",
          "SSW",
          "S"
         ],
         "type": "barpolar"
        },
        {
         "customdata": [
          [
           "March, 2019"
          ],
          [
           "March, 2019"
          ],
          [
           "March, 2019"
          ],
          [
           "March, 2019"
          ],
          [
           "March, 2019"
          ],
          [
           "March, 2019"
          ],
          [
           "March, 2019"
          ],
          [
           "March, 2019"
          ],
          [
           "March, 2019"
          ],
          [
           "March, 2019"
          ],
          [
           "April, 2019"
          ],
          [
           "April, 2019"
          ],
          [
           "April, 2019"
          ]
         ],
         "hovertemplate": "velocidade_cat=20-25 km/h<br>velocidade=%{r}<br>direção=%{theta}<br>data=%{customdata[0]}<extra></extra>",
         "legendgroup": "20-25 km/h",
         "marker": {
          "color": "#d8576b"
         },
         "name": "20-25 km/h",
         "r": [
          24.214421570626076,
          20.18011580739805,
          20.838099001588503,
          20.482761386102183,
          21.800260847063228,
          21.5941655546123,
          23.639117094342318,
          24.56263872225464,
          21.986338599230685,
          20.836826173868253,
          21.164181746526193,
          23.256113604813404,
          23.06303173912736
         ],
         "showlegend": true,
         "subplot": "polar",
         "theta": [
          "SSW",
          "SSW",
          "S",
          "SE",
          "ESE",
          "ESE",
          "ESE",
          "ESE",
          "ESE",
          "SE",
          "W",
          "SSW",
          "S"
         ],
         "type": "barpolar"
        },
        {
         "customdata": [
          [
           "March, 2019"
          ],
          [
           "March, 2019"
          ]
         ],
         "hovertemplate": "velocidade_cat=25-30 km/h<br>velocidade=%{r}<br>direção=%{theta}<br>data=%{customdata[0]}<extra></extra>",
         "legendgroup": "25-30 km/h",
         "marker": {
          "color": "#bd3786"
         },
         "name": "25-30 km/h",
         "r": [
          26.84844714317781,
          27.871921803134192
         ],
         "showlegend": true,
         "subplot": "polar",
         "theta": [
          "SE",
          "ESE"
         ],
         "type": "barpolar"
        },
        {
         "customdata": [
          [
           "March, 2019"
          ],
          [
           "March, 2019"
          ]
         ],
         "hovertemplate": "velocidade_cat=30-35 km/h<br>velocidade=%{r}<br>direção=%{theta}<br>data=%{customdata[0]}<extra></extra>",
         "legendgroup": "30-35 km/h",
         "marker": {
          "color": "#9c179e"
         },
         "name": "30-35 km/h",
         "r": [
          32.079167694938825,
          34.78976523347072
         ],
         "showlegend": true,
         "subplot": "polar",
         "theta": [
          "SSE",
          "SSE"
         ],
         "type": "barpolar"
        }
       ],
       "layout": {
        "barmode": "relative",
        "font": {
         "family": "Open Sans"
        },
        "legend": {
         "title": {
          "font": {
           "size": 14
          },
          "text": "<b>Velocidade"
         },
         "tracegroupgap": 0,
         "traceorder": "reversed",
         "x": 1.1,
         "xanchor": "right",
         "y": 0.99,
         "yanchor": "top"
        },
        "margin": {
         "t": 60
        },
        "paper_bgcolor": "rgb(255, 255, 255)",
        "polar": {
         "angularaxis": {
          "categoryarray": [
           "N",
           "NNE",
           "NE",
           "ENE",
           "E",
           "ESE",
           "SE",
           "SSE",
           "S",
           "SSW",
           "SW",
           "WSW",
           "W",
           "WNW",
           "NW",
           "NNW"
          ],
          "categoryorder": "array",
          "direction": "clockwise",
          "rotation": 90,
          "tickfont": {
           "size": 15
          }
         },
         "domain": {
          "x": [
           0,
           1
          ],
          "y": [
           0,
           1
          ]
         },
         "radialaxis": {
          "showticklabels": false
         }
        },
        "template": {
         "data": {
          "bar": [
           {
            "error_x": {
             "color": "#2a3f5f"
            },
            "error_y": {
             "color": "#2a3f5f"
            },
            "marker": {
             "line": {
              "color": "#E5ECF6",
              "width": 0.5
             }
            },
            "type": "bar"
           }
          ],
          "barpolar": [
           {
            "marker": {
             "line": {
              "color": "#E5ECF6",
              "width": 0.5
             }
            },
            "type": "barpolar"
           }
          ],
          "carpet": [
           {
            "aaxis": {
             "endlinecolor": "#2a3f5f",
             "gridcolor": "white",
             "linecolor": "white",
             "minorgridcolor": "white",
             "startlinecolor": "#2a3f5f"
            },
            "baxis": {
             "endlinecolor": "#2a3f5f",
             "gridcolor": "white",
             "linecolor": "white",
             "minorgridcolor": "white",
             "startlinecolor": "#2a3f5f"
            },
            "type": "carpet"
           }
          ],
          "choropleth": [
           {
            "colorbar": {
             "outlinewidth": 0,
             "ticks": ""
            },
            "type": "choropleth"
           }
          ],
          "contour": [
           {
            "colorbar": {
             "outlinewidth": 0,
             "ticks": ""
            },
            "colorscale": [
             [
              0,
              "#0d0887"
             ],
             [
              0.1111111111111111,
              "#46039f"
             ],
             [
              0.2222222222222222,
              "#7201a8"
             ],
             [
              0.3333333333333333,
              "#9c179e"
             ],
             [
              0.4444444444444444,
              "#bd3786"
             ],
             [
              0.5555555555555556,
              "#d8576b"
             ],
             [
              0.6666666666666666,
              "#ed7953"
             ],
             [
              0.7777777777777778,
              "#fb9f3a"
             ],
             [
              0.8888888888888888,
              "#fdca26"
             ],
             [
              1,
              "#f0f921"
             ]
            ],
            "type": "contour"
           }
          ],
          "contourcarpet": [
           {
            "colorbar": {
             "outlinewidth": 0,
             "ticks": ""
            },
            "type": "contourcarpet"
           }
          ],
          "heatmap": [
           {
            "colorbar": {
             "outlinewidth": 0,
             "ticks": ""
            },
            "colorscale": [
             [
              0,
              "#0d0887"
             ],
             [
              0.1111111111111111,
              "#46039f"
             ],
             [
              0.2222222222222222,
              "#7201a8"
             ],
             [
              0.3333333333333333,
              "#9c179e"
             ],
             [
              0.4444444444444444,
              "#bd3786"
             ],
             [
              0.5555555555555556,
              "#d8576b"
             ],
             [
              0.6666666666666666,
              "#ed7953"
             ],
             [
              0.7777777777777778,
              "#fb9f3a"
             ],
             [
              0.8888888888888888,
              "#fdca26"
             ],
             [
              1,
              "#f0f921"
             ]
            ],
            "type": "heatmap"
           }
          ],
          "heatmapgl": [
           {
            "colorbar": {
             "outlinewidth": 0,
             "ticks": ""
            },
            "colorscale": [
             [
              0,
              "#0d0887"
             ],
             [
              0.1111111111111111,
              "#46039f"
             ],
             [
              0.2222222222222222,
              "#7201a8"
             ],
             [
              0.3333333333333333,
              "#9c179e"
             ],
             [
              0.4444444444444444,
              "#bd3786"
             ],
             [
              0.5555555555555556,
              "#d8576b"
             ],
             [
              0.6666666666666666,
              "#ed7953"
             ],
             [
              0.7777777777777778,
              "#fb9f3a"
             ],
             [
              0.8888888888888888,
              "#fdca26"
             ],
             [
              1,
              "#f0f921"
             ]
            ],
            "type": "heatmapgl"
           }
          ],
          "histogram": [
           {
            "marker": {
             "colorbar": {
              "outlinewidth": 0,
              "ticks": ""
             }
            },
            "type": "histogram"
           }
          ],
          "histogram2d": [
           {
            "colorbar": {
             "outlinewidth": 0,
             "ticks": ""
            },
            "colorscale": [
             [
              0,
              "#0d0887"
             ],
             [
              0.1111111111111111,
              "#46039f"
             ],
             [
              0.2222222222222222,
              "#7201a8"
             ],
             [
              0.3333333333333333,
              "#9c179e"
             ],
             [
              0.4444444444444444,
              "#bd3786"
             ],
             [
              0.5555555555555556,
              "#d8576b"
             ],
             [
              0.6666666666666666,
              "#ed7953"
             ],
             [
              0.7777777777777778,
              "#fb9f3a"
             ],
             [
              0.8888888888888888,
              "#fdca26"
             ],
             [
              1,
              "#f0f921"
             ]
            ],
            "type": "histogram2d"
           }
          ],
          "histogram2dcontour": [
           {
            "colorbar": {
             "outlinewidth": 0,
             "ticks": ""
            },
            "colorscale": [
             [
              0,
              "#0d0887"
             ],
             [
              0.1111111111111111,
              "#46039f"
             ],
             [
              0.2222222222222222,
              "#7201a8"
             ],
             [
              0.3333333333333333,
              "#9c179e"
             ],
             [
              0.4444444444444444,
              "#bd3786"
             ],
             [
              0.5555555555555556,
              "#d8576b"
             ],
             [
              0.6666666666666666,
              "#ed7953"
             ],
             [
              0.7777777777777778,
              "#fb9f3a"
             ],
             [
              0.8888888888888888,
              "#fdca26"
             ],
             [
              1,
              "#f0f921"
             ]
            ],
            "type": "histogram2dcontour"
           }
          ],
          "mesh3d": [
           {
            "colorbar": {
             "outlinewidth": 0,
             "ticks": ""
            },
            "type": "mesh3d"
           }
          ],
          "parcoords": [
           {
            "line": {
             "colorbar": {
              "outlinewidth": 0,
              "ticks": ""
             }
            },
            "type": "parcoords"
           }
          ],
          "pie": [
           {
            "automargin": true,
            "type": "pie"
           }
          ],
          "scatter": [
           {
            "marker": {
             "colorbar": {
              "outlinewidth": 0,
              "ticks": ""
             }
            },
            "type": "scatter"
           }
          ],
          "scatter3d": [
           {
            "line": {
             "colorbar": {
              "outlinewidth": 0,
              "ticks": ""
             }
            },
            "marker": {
             "colorbar": {
              "outlinewidth": 0,
              "ticks": ""
             }
            },
            "type": "scatter3d"
           }
          ],
          "scattercarpet": [
           {
            "marker": {
             "colorbar": {
              "outlinewidth": 0,
              "ticks": ""
             }
            },
            "type": "scattercarpet"
           }
          ],
          "scattergeo": [
           {
            "marker": {
             "colorbar": {
              "outlinewidth": 0,
              "ticks": ""
             }
            },
            "type": "scattergeo"
           }
          ],
          "scattergl": [
           {
            "marker": {
             "colorbar": {
              "outlinewidth": 0,
              "ticks": ""
             }
            },
            "type": "scattergl"
           }
          ],
          "scattermapbox": [
           {
            "marker": {
             "colorbar": {
              "outlinewidth": 0,
              "ticks": ""
             }
            },
            "type": "scattermapbox"
           }
          ],
          "scatterpolar": [
           {
            "marker": {
             "colorbar": {
              "outlinewidth": 0,
              "ticks": ""
             }
            },
            "type": "scatterpolar"
           }
          ],
          "scatterpolargl": [
           {
            "marker": {
             "colorbar": {
              "outlinewidth": 0,
              "ticks": ""
             }
            },
            "type": "scatterpolargl"
           }
          ],
          "scatterternary": [
           {
            "marker": {
             "colorbar": {
              "outlinewidth": 0,
              "ticks": ""
             }
            },
            "type": "scatterternary"
           }
          ],
          "surface": [
           {
            "colorbar": {
             "outlinewidth": 0,
             "ticks": ""
            },
            "colorscale": [
             [
              0,
              "#0d0887"
             ],
             [
              0.1111111111111111,
              "#46039f"
             ],
             [
              0.2222222222222222,
              "#7201a8"
             ],
             [
              0.3333333333333333,
              "#9c179e"
             ],
             [
              0.4444444444444444,
              "#bd3786"
             ],
             [
              0.5555555555555556,
              "#d8576b"
             ],
             [
              0.6666666666666666,
              "#ed7953"
             ],
             [
              0.7777777777777778,
              "#fb9f3a"
             ],
             [
              0.8888888888888888,
              "#fdca26"
             ],
             [
              1,
              "#f0f921"
             ]
            ],
            "type": "surface"
           }
          ],
          "table": [
           {
            "cells": {
             "fill": {
              "color": "#EBF0F8"
             },
             "line": {
              "color": "white"
             }
            },
            "header": {
             "fill": {
              "color": "#C8D4E3"
             },
             "line": {
              "color": "white"
             }
            },
            "type": "table"
           }
          ]
         },
         "layout": {
          "annotationdefaults": {
           "arrowcolor": "#2a3f5f",
           "arrowhead": 0,
           "arrowwidth": 1
          },
          "coloraxis": {
           "colorbar": {
            "outlinewidth": 0,
            "ticks": ""
           }
          },
          "colorscale": {
           "diverging": [
            [
             0,
             "#8e0152"
            ],
            [
             0.1,
             "#c51b7d"
            ],
            [
             0.2,
             "#de77ae"
            ],
            [
             0.3,
             "#f1b6da"
            ],
            [
             0.4,
             "#fde0ef"
            ],
            [
             0.5,
             "#f7f7f7"
            ],
            [
             0.6,
             "#e6f5d0"
            ],
            [
             0.7,
             "#b8e186"
            ],
            [
             0.8,
             "#7fbc41"
            ],
            [
             0.9,
             "#4d9221"
            ],
            [
             1,
             "#276419"
            ]
           ],
           "sequential": [
            [
             0,
             "#0d0887"
            ],
            [
             0.1111111111111111,
             "#46039f"
            ],
            [
             0.2222222222222222,
             "#7201a8"
            ],
            [
             0.3333333333333333,
             "#9c179e"
            ],
            [
             0.4444444444444444,
             "#bd3786"
            ],
            [
             0.5555555555555556,
             "#d8576b"
            ],
            [
             0.6666666666666666,
             "#ed7953"
            ],
            [
             0.7777777777777778,
             "#fb9f3a"
            ],
            [
             0.8888888888888888,
             "#fdca26"
            ],
            [
             1,
             "#f0f921"
            ]
           ],
           "sequentialminus": [
            [
             0,
             "#0d0887"
            ],
            [
             0.1111111111111111,
             "#46039f"
            ],
            [
             0.2222222222222222,
             "#7201a8"
            ],
            [
             0.3333333333333333,
             "#9c179e"
            ],
            [
             0.4444444444444444,
             "#bd3786"
            ],
            [
             0.5555555555555556,
             "#d8576b"
            ],
            [
             0.6666666666666666,
             "#ed7953"
            ],
            [
             0.7777777777777778,
             "#fb9f3a"
            ],
            [
             0.8888888888888888,
             "#fdca26"
            ],
            [
             1,
             "#f0f921"
            ]
           ]
          },
          "colorway": [
           "#636efa",
           "#EF553B",
           "#00cc96",
           "#ab63fa",
           "#FFA15A",
           "#19d3f3",
           "#FF6692",
           "#B6E880",
           "#FF97FF",
           "#FECB52"
          ],
          "font": {
           "color": "#2a3f5f"
          },
          "geo": {
           "bgcolor": "white",
           "lakecolor": "white",
           "landcolor": "#E5ECF6",
           "showlakes": true,
           "showland": true,
           "subunitcolor": "white"
          },
          "hoverlabel": {
           "align": "left"
          },
          "hovermode": "closest",
          "mapbox": {
           "style": "light"
          },
          "paper_bgcolor": "white",
          "plot_bgcolor": "#E5ECF6",
          "polar": {
           "angularaxis": {
            "gridcolor": "white",
            "linecolor": "white",
            "ticks": ""
           },
           "bgcolor": "#E5ECF6",
           "radialaxis": {
            "gridcolor": "white",
            "linecolor": "white",
            "ticks": ""
           }
          },
          "scene": {
           "xaxis": {
            "backgroundcolor": "#E5ECF6",
            "gridcolor": "white",
            "gridwidth": 2,
            "linecolor": "white",
            "showbackground": true,
            "ticks": "",
            "zerolinecolor": "white"
           },
           "yaxis": {
            "backgroundcolor": "#E5ECF6",
            "gridcolor": "white",
            "gridwidth": 2,
            "linecolor": "white",
            "showbackground": true,
            "ticks": "",
            "zerolinecolor": "white"
           },
           "zaxis": {
            "backgroundcolor": "#E5ECF6",
            "gridcolor": "white",
            "gridwidth": 2,
            "linecolor": "white",
            "showbackground": true,
            "ticks": "",
            "zerolinecolor": "white"
           }
          },
          "shapedefaults": {
           "line": {
            "color": "#2a3f5f"
           }
          },
          "ternary": {
           "aaxis": {
            "gridcolor": "white",
            "linecolor": "white",
            "ticks": ""
           },
           "baxis": {
            "gridcolor": "white",
            "linecolor": "white",
            "ticks": ""
           },
           "bgcolor": "#E5ECF6",
           "caxis": {
            "gridcolor": "white",
            "linecolor": "white",
            "ticks": ""
           }
          },
          "title": {
           "x": 0.05
          },
          "xaxis": {
           "automargin": true,
           "gridcolor": "white",
           "linecolor": "white",
           "ticks": "",
           "title": {
            "standoff": 15
           },
           "zerolinecolor": "white",
           "zerolinewidth": 2
          },
          "yaxis": {
           "automargin": true,
           "gridcolor": "white",
           "linecolor": "white",
           "ticks": "",
           "title": {
            "standoff": 15
           },
           "zerolinecolor": "white",
           "zerolinewidth": 2
          }
         }
        }
       }
      }
     },
     "metadata": {}
    },
    {
     "output_type": "display_data",
     "data": {
      "application/vnd.plotly.v1+json": {
       "config": {
        "plotlyServerURL": "https://plotly.com"
       },
       "data": [
        {
         "customdata": [
          [
           "May, 2019"
          ],
          [
           "May, 2019"
          ],
          [
           "May, 2019"
          ],
          [
           "May, 2019"
          ]
         ],
         "hovertemplate": "velocidade_cat=0-5 km/h<br>velocidade=%{r}<br>direção=%{theta}<br>data=%{customdata[0]}<extra></extra>",
         "legendgroup": "0-5 km/h",
         "marker": {
          "color": "#f0f921"
         },
         "name": "0-5 km/h",
         "r": [
          2.402352180676564,
          3.0432970607551115,
          1.4309217309136297,
          3.1996382608044684
         ],
         "showlegend": true,
         "subplot": "polar",
         "theta": [
          "ESE",
          "ESE",
          "SSE",
          "E"
         ],
         "type": "barpolar"
        },
        {
         "customdata": [
          [
           "April, 2019"
          ],
          [
           "May, 2019"
          ],
          [
           "May, 2019"
          ]
         ],
         "hovertemplate": "velocidade_cat=5-10 km/h<br>velocidade=%{r}<br>direção=%{theta}<br>data=%{customdata[0]}<extra></extra>",
         "legendgroup": "5-10 km/h",
         "marker": {
          "color": "#fdca26"
         },
         "name": "5-10 km/h",
         "r": [
          7.599697099227099,
          9.456387312287806,
          9.628158806334666
         ],
         "showlegend": true,
         "subplot": "polar",
         "theta": [
          "SSE",
          "WSW",
          "SW"
         ],
         "type": "barpolar"
        },
        {
         "customdata": [
          [
           "April, 2019"
          ],
          [
           "May, 2019"
          ],
          [
           "May, 2019"
          ]
         ],
         "hovertemplate": "velocidade_cat=10-15 km/h<br>velocidade=%{r}<br>direção=%{theta}<br>data=%{customdata[0]}<extra></extra>",
         "legendgroup": "10-15 km/h",
         "marker": {
          "color": "#fb9f3a"
         },
         "name": "10-15 km/h",
         "r": [
          10.976630311712404,
          14.213253603591372,
          14.213253603591372
         ],
         "showlegend": true,
         "subplot": "polar",
         "theta": [
          "E",
          "SSE",
          "SSE"
         ],
         "type": "barpolar"
        },
        {
         "customdata": [
          [
           "May, 2019"
          ],
          [
           "May, 2019"
          ],
          [
           "May, 2019"
          ],
          [
           "May, 2019"
          ],
          [
           "May, 2019"
          ]
         ],
         "hovertemplate": "velocidade_cat=15-20 km/h<br>velocidade=%{r}<br>direção=%{theta}<br>data=%{customdata[0]}<extra></extra>",
         "legendgroup": "15-20 km/h",
         "marker": {
          "color": "#ed7953"
         },
         "name": "15-20 km/h",
         "r": [
          17.940932528717582,
          18.690739980000913,
          16.595790098696945,
          15.244695930060626,
          15.378420855211418
         ],
         "showlegend": true,
         "subplot": "polar",
         "theta": [
          "SSE",
          "SSE",
          "SSE",
          "SSE",
          "SW"
         ],
         "type": "barpolar"
        },
        {
         "customdata": [
          [
           "April, 2019"
          ],
          [
           "April, 2019"
          ],
          [
           "May, 2019"
          ]
         ],
         "hovertemplate": "velocidade_cat=20-25 km/h<br>velocidade=%{r}<br>direção=%{theta}<br>data=%{customdata[0]}<extra></extra>",
         "legendgroup": "20-25 km/h",
         "marker": {
          "color": "#d8576b"
         },
         "name": "20-25 km/h",
         "r": [
          21.355802513603106,
          20.46980859705337,
          20.472399810476436
         ],
         "showlegend": true,
         "subplot": "polar",
         "theta": [
          "ENE",
          "ENE",
          "SSW"
         ],
         "type": "barpolar"
        },
        {
         "customdata": [
          [
           "April, 2019"
          ],
          [
           "May, 2019"
          ]
         ],
         "hovertemplate": "velocidade_cat=25-30 km/h<br>velocidade=%{r}<br>direção=%{theta}<br>data=%{customdata[0]}<extra></extra>",
         "legendgroup": "25-30 km/h",
         "marker": {
          "color": "#bd3786"
         },
         "name": "25-30 km/h",
         "r": [
          26.586173568228933,
          29.625707924031005
         ],
         "showlegend": true,
         "subplot": "polar",
         "theta": [
          "NNW",
          "E"
         ],
         "type": "barpolar"
        },
        {
         "customdata": [
          [
           "May, 2019"
          ]
         ],
         "hovertemplate": "velocidade_cat=30-35 km/h<br>velocidade=%{r}<br>direção=%{theta}<br>data=%{customdata[0]}<extra></extra>",
         "legendgroup": "30-35 km/h",
         "marker": {
          "color": "#9c179e"
         },
         "name": "30-35 km/h",
         "r": [
          33.84251487404569
         ],
         "showlegend": true,
         "subplot": "polar",
         "theta": [
          "E"
         ],
         "type": "barpolar"
        },
        {
         "customdata": [
          [
           "May, 2019"
          ],
          [
           "May, 2019"
          ],
          [
           "May, 2019"
          ],
          [
           "May, 2019"
          ],
          [
           "May, 2019"
          ],
          [
           "May, 2019"
          ]
         ],
         "hovertemplate": "velocidade_cat=35-40 km/h<br>velocidade=%{r}<br>direção=%{theta}<br>data=%{customdata[0]}<extra></extra>",
         "legendgroup": "35-40 km/h",
         "marker": {
          "color": "#7201a8"
         },
         "name": "35-40 km/h",
         "r": [
          39.06864812096777,
          39.66462999953489,
          38.235065058137394,
          36.38700054964745,
          36.610378883589924,
          39.210004501402715
         ],
         "showlegend": true,
         "subplot": "polar",
         "theta": [
          "E",
          "E",
          "E",
          "ENE",
          "ENE",
          "E"
         ],
         "type": "barpolar"
        },
        {
         "customdata": [
          [
           "May, 2019"
          ]
         ],
         "hovertemplate": "velocidade_cat=40-45 km/h<br>velocidade=%{r}<br>direção=%{theta}<br>data=%{customdata[0]}<extra></extra>",
         "legendgroup": "40-45 km/h",
         "marker": {
          "color": "#46039f"
         },
         "name": "40-45 km/h",
         "r": [
          40.437175593753146
         ],
         "showlegend": true,
         "subplot": "polar",
         "theta": [
          "E"
         ],
         "type": "barpolar"
        }
       ],
       "layout": {
        "barmode": "relative",
        "font": {
         "family": "Open Sans"
        },
        "legend": {
         "title": {
          "font": {
           "size": 14
          },
          "text": "<b>Velocidade"
         },
         "tracegroupgap": 0,
         "traceorder": "reversed",
         "x": 1.1,
         "xanchor": "right",
         "y": 0.99,
         "yanchor": "top"
        },
        "margin": {
         "t": 60
        },
        "paper_bgcolor": "rgb(255, 255, 255)",
        "polar": {
         "angularaxis": {
          "categoryarray": [
           "N",
           "NNE",
           "NE",
           "ENE",
           "E",
           "ESE",
           "SE",
           "SSE",
           "S",
           "SSW",
           "SW",
           "WSW",
           "W",
           "WNW",
           "NW",
           "NNW"
          ],
          "categoryorder": "array",
          "direction": "clockwise",
          "rotation": 90,
          "tickfont": {
           "size": 15
          }
         },
         "domain": {
          "x": [
           0,
           1
          ],
          "y": [
           0,
           1
          ]
         },
         "radialaxis": {
          "showticklabels": false
         }
        },
        "template": {
         "data": {
          "bar": [
           {
            "error_x": {
             "color": "#2a3f5f"
            },
            "error_y": {
             "color": "#2a3f5f"
            },
            "marker": {
             "line": {
              "color": "#E5ECF6",
              "width": 0.5
             }
            },
            "type": "bar"
           }
          ],
          "barpolar": [
           {
            "marker": {
             "line": {
              "color": "#E5ECF6",
              "width": 0.5
             }
            },
            "type": "barpolar"
           }
          ],
          "carpet": [
           {
            "aaxis": {
             "endlinecolor": "#2a3f5f",
             "gridcolor": "white",
             "linecolor": "white",
             "minorgridcolor": "white",
             "startlinecolor": "#2a3f5f"
            },
            "baxis": {
             "endlinecolor": "#2a3f5f",
             "gridcolor": "white",
             "linecolor": "white",
             "minorgridcolor": "white",
             "startlinecolor": "#2a3f5f"
            },
            "type": "carpet"
           }
          ],
          "choropleth": [
           {
            "colorbar": {
             "outlinewidth": 0,
             "ticks": ""
            },
            "type": "choropleth"
           }
          ],
          "contour": [
           {
            "colorbar": {
             "outlinewidth": 0,
             "ticks": ""
            },
            "colorscale": [
             [
              0,
              "#0d0887"
             ],
             [
              0.1111111111111111,
              "#46039f"
             ],
             [
              0.2222222222222222,
              "#7201a8"
             ],
             [
              0.3333333333333333,
              "#9c179e"
             ],
             [
              0.4444444444444444,
              "#bd3786"
             ],
             [
              0.5555555555555556,
              "#d8576b"
             ],
             [
              0.6666666666666666,
              "#ed7953"
             ],
             [
              0.7777777777777778,
              "#fb9f3a"
             ],
             [
              0.8888888888888888,
              "#fdca26"
             ],
             [
              1,
              "#f0f921"
             ]
            ],
            "type": "contour"
           }
          ],
          "contourcarpet": [
           {
            "colorbar": {
             "outlinewidth": 0,
             "ticks": ""
            },
            "type": "contourcarpet"
           }
          ],
          "heatmap": [
           {
            "colorbar": {
             "outlinewidth": 0,
             "ticks": ""
            },
            "colorscale": [
             [
              0,
              "#0d0887"
             ],
             [
              0.1111111111111111,
              "#46039f"
             ],
             [
              0.2222222222222222,
              "#7201a8"
             ],
             [
              0.3333333333333333,
              "#9c179e"
             ],
             [
              0.4444444444444444,
              "#bd3786"
             ],
             [
              0.5555555555555556,
              "#d8576b"
             ],
             [
              0.6666666666666666,
              "#ed7953"
             ],
             [
              0.7777777777777778,
              "#fb9f3a"
             ],
             [
              0.8888888888888888,
              "#fdca26"
             ],
             [
              1,
              "#f0f921"
             ]
            ],
            "type": "heatmap"
           }
          ],
          "heatmapgl": [
           {
            "colorbar": {
             "outlinewidth": 0,
             "ticks": ""
            },
            "colorscale": [
             [
              0,
              "#0d0887"
             ],
             [
              0.1111111111111111,
              "#46039f"
             ],
             [
              0.2222222222222222,
              "#7201a8"
             ],
             [
              0.3333333333333333,
              "#9c179e"
             ],
             [
              0.4444444444444444,
              "#bd3786"
             ],
             [
              0.5555555555555556,
              "#d8576b"
             ],
             [
              0.6666666666666666,
              "#ed7953"
             ],
             [
              0.7777777777777778,
              "#fb9f3a"
             ],
             [
              0.8888888888888888,
              "#fdca26"
             ],
             [
              1,
              "#f0f921"
             ]
            ],
            "type": "heatmapgl"
           }
          ],
          "histogram": [
           {
            "marker": {
             "colorbar": {
              "outlinewidth": 0,
              "ticks": ""
             }
            },
            "type": "histogram"
           }
          ],
          "histogram2d": [
           {
            "colorbar": {
             "outlinewidth": 0,
             "ticks": ""
            },
            "colorscale": [
             [
              0,
              "#0d0887"
             ],
             [
              0.1111111111111111,
              "#46039f"
             ],
             [
              0.2222222222222222,
              "#7201a8"
             ],
             [
              0.3333333333333333,
              "#9c179e"
             ],
             [
              0.4444444444444444,
              "#bd3786"
             ],
             [
              0.5555555555555556,
              "#d8576b"
             ],
             [
              0.6666666666666666,
              "#ed7953"
             ],
             [
              0.7777777777777778,
              "#fb9f3a"
             ],
             [
              0.8888888888888888,
              "#fdca26"
             ],
             [
              1,
              "#f0f921"
             ]
            ],
            "type": "histogram2d"
           }
          ],
          "histogram2dcontour": [
           {
            "colorbar": {
             "outlinewidth": 0,
             "ticks": ""
            },
            "colorscale": [
             [
              0,
              "#0d0887"
             ],
             [
              0.1111111111111111,
              "#46039f"
             ],
             [
              0.2222222222222222,
              "#7201a8"
             ],
             [
              0.3333333333333333,
              "#9c179e"
             ],
             [
              0.4444444444444444,
              "#bd3786"
             ],
             [
              0.5555555555555556,
              "#d8576b"
             ],
             [
              0.6666666666666666,
              "#ed7953"
             ],
             [
              0.7777777777777778,
              "#fb9f3a"
             ],
             [
              0.8888888888888888,
              "#fdca26"
             ],
             [
              1,
              "#f0f921"
             ]
            ],
            "type": "histogram2dcontour"
           }
          ],
          "mesh3d": [
           {
            "colorbar": {
             "outlinewidth": 0,
             "ticks": ""
            },
            "type": "mesh3d"
           }
          ],
          "parcoords": [
           {
            "line": {
             "colorbar": {
              "outlinewidth": 0,
              "ticks": ""
             }
            },
            "type": "parcoords"
           }
          ],
          "pie": [
           {
            "automargin": true,
            "type": "pie"
           }
          ],
          "scatter": [
           {
            "marker": {
             "colorbar": {
              "outlinewidth": 0,
              "ticks": ""
             }
            },
            "type": "scatter"
           }
          ],
          "scatter3d": [
           {
            "line": {
             "colorbar": {
              "outlinewidth": 0,
              "ticks": ""
             }
            },
            "marker": {
             "colorbar": {
              "outlinewidth": 0,
              "ticks": ""
             }
            },
            "type": "scatter3d"
           }
          ],
          "scattercarpet": [
           {
            "marker": {
             "colorbar": {
              "outlinewidth": 0,
              "ticks": ""
             }
            },
            "type": "scattercarpet"
           }
          ],
          "scattergeo": [
           {
            "marker": {
             "colorbar": {
              "outlinewidth": 0,
              "ticks": ""
             }
            },
            "type": "scattergeo"
           }
          ],
          "scattergl": [
           {
            "marker": {
             "colorbar": {
              "outlinewidth": 0,
              "ticks": ""
             }
            },
            "type": "scattergl"
           }
          ],
          "scattermapbox": [
           {
            "marker": {
             "colorbar": {
              "outlinewidth": 0,
              "ticks": ""
             }
            },
            "type": "scattermapbox"
           }
          ],
          "scatterpolar": [
           {
            "marker": {
             "colorbar": {
              "outlinewidth": 0,
              "ticks": ""
             }
            },
            "type": "scatterpolar"
           }
          ],
          "scatterpolargl": [
           {
            "marker": {
             "colorbar": {
              "outlinewidth": 0,
              "ticks": ""
             }
            },
            "type": "scatterpolargl"
           }
          ],
          "scatterternary": [
           {
            "marker": {
             "colorbar": {
              "outlinewidth": 0,
              "ticks": ""
             }
            },
            "type": "scatterternary"
           }
          ],
          "surface": [
           {
            "colorbar": {
             "outlinewidth": 0,
             "ticks": ""
            },
            "colorscale": [
             [
              0,
              "#0d0887"
             ],
             [
              0.1111111111111111,
              "#46039f"
             ],
             [
              0.2222222222222222,
              "#7201a8"
             ],
             [
              0.3333333333333333,
              "#9c179e"
             ],
             [
              0.4444444444444444,
              "#bd3786"
             ],
             [
              0.5555555555555556,
              "#d8576b"
             ],
             [
              0.6666666666666666,
              "#ed7953"
             ],
             [
              0.7777777777777778,
              "#fb9f3a"
             ],
             [
              0.8888888888888888,
              "#fdca26"
             ],
             [
              1,
              "#f0f921"
             ]
            ],
            "type": "surface"
           }
          ],
          "table": [
           {
            "cells": {
             "fill": {
              "color": "#EBF0F8"
             },
             "line": {
              "color": "white"
             }
            },
            "header": {
             "fill": {
              "color": "#C8D4E3"
             },
             "line": {
              "color": "white"
             }
            },
            "type": "table"
           }
          ]
         },
         "layout": {
          "annotationdefaults": {
           "arrowcolor": "#2a3f5f",
           "arrowhead": 0,
           "arrowwidth": 1
          },
          "coloraxis": {
           "colorbar": {
            "outlinewidth": 0,
            "ticks": ""
           }
          },
          "colorscale": {
           "diverging": [
            [
             0,
             "#8e0152"
            ],
            [
             0.1,
             "#c51b7d"
            ],
            [
             0.2,
             "#de77ae"
            ],
            [
             0.3,
             "#f1b6da"
            ],
            [
             0.4,
             "#fde0ef"
            ],
            [
             0.5,
             "#f7f7f7"
            ],
            [
             0.6,
             "#e6f5d0"
            ],
            [
             0.7,
             "#b8e186"
            ],
            [
             0.8,
             "#7fbc41"
            ],
            [
             0.9,
             "#4d9221"
            ],
            [
             1,
             "#276419"
            ]
           ],
           "sequential": [
            [
             0,
             "#0d0887"
            ],
            [
             0.1111111111111111,
             "#46039f"
            ],
            [
             0.2222222222222222,
             "#7201a8"
            ],
            [
             0.3333333333333333,
             "#9c179e"
            ],
            [
             0.4444444444444444,
             "#bd3786"
            ],
            [
             0.5555555555555556,
             "#d8576b"
            ],
            [
             0.6666666666666666,
             "#ed7953"
            ],
            [
             0.7777777777777778,
             "#fb9f3a"
            ],
            [
             0.8888888888888888,
             "#fdca26"
            ],
            [
             1,
             "#f0f921"
            ]
           ],
           "sequentialminus": [
            [
             0,
             "#0d0887"
            ],
            [
             0.1111111111111111,
             "#46039f"
            ],
            [
             0.2222222222222222,
             "#7201a8"
            ],
            [
             0.3333333333333333,
             "#9c179e"
            ],
            [
             0.4444444444444444,
             "#bd3786"
            ],
            [
             0.5555555555555556,
             "#d8576b"
            ],
            [
             0.6666666666666666,
             "#ed7953"
            ],
            [
             0.7777777777777778,
             "#fb9f3a"
            ],
            [
             0.8888888888888888,
             "#fdca26"
            ],
            [
             1,
             "#f0f921"
            ]
           ]
          },
          "colorway": [
           "#636efa",
           "#EF553B",
           "#00cc96",
           "#ab63fa",
           "#FFA15A",
           "#19d3f3",
           "#FF6692",
           "#B6E880",
           "#FF97FF",
           "#FECB52"
          ],
          "font": {
           "color": "#2a3f5f"
          },
          "geo": {
           "bgcolor": "white",
           "lakecolor": "white",
           "landcolor": "#E5ECF6",
           "showlakes": true,
           "showland": true,
           "subunitcolor": "white"
          },
          "hoverlabel": {
           "align": "left"
          },
          "hovermode": "closest",
          "mapbox": {
           "style": "light"
          },
          "paper_bgcolor": "white",
          "plot_bgcolor": "#E5ECF6",
          "polar": {
           "angularaxis": {
            "gridcolor": "white",
            "linecolor": "white",
            "ticks": ""
           },
           "bgcolor": "#E5ECF6",
           "radialaxis": {
            "gridcolor": "white",
            "linecolor": "white",
            "ticks": ""
           }
          },
          "scene": {
           "xaxis": {
            "backgroundcolor": "#E5ECF6",
            "gridcolor": "white",
            "gridwidth": 2,
            "linecolor": "white",
            "showbackground": true,
            "ticks": "",
            "zerolinecolor": "white"
           },
           "yaxis": {
            "backgroundcolor": "#E5ECF6",
            "gridcolor": "white",
            "gridwidth": 2,
            "linecolor": "white",
            "showbackground": true,
            "ticks": "",
            "zerolinecolor": "white"
           },
           "zaxis": {
            "backgroundcolor": "#E5ECF6",
            "gridcolor": "white",
            "gridwidth": 2,
            "linecolor": "white",
            "showbackground": true,
            "ticks": "",
            "zerolinecolor": "white"
           }
          },
          "shapedefaults": {
           "line": {
            "color": "#2a3f5f"
           }
          },
          "ternary": {
           "aaxis": {
            "gridcolor": "white",
            "linecolor": "white",
            "ticks": ""
           },
           "baxis": {
            "gridcolor": "white",
            "linecolor": "white",
            "ticks": ""
           },
           "bgcolor": "#E5ECF6",
           "caxis": {
            "gridcolor": "white",
            "linecolor": "white",
            "ticks": ""
           }
          },
          "title": {
           "x": 0.05
          },
          "xaxis": {
           "automargin": true,
           "gridcolor": "white",
           "linecolor": "white",
           "ticks": "",
           "title": {
            "standoff": 15
           },
           "zerolinecolor": "white",
           "zerolinewidth": 2
          },
          "yaxis": {
           "automargin": true,
           "gridcolor": "white",
           "linecolor": "white",
           "ticks": "",
           "title": {
            "standoff": 15
           },
           "zerolinecolor": "white",
           "zerolinewidth": 2
          }
         }
        }
       }
      }
     },
     "metadata": {}
    },
    {
     "output_type": "display_data",
     "data": {
      "application/vnd.plotly.v1+json": {
       "config": {
        "plotlyServerURL": "https://plotly.com"
       },
       "data": [
        {
         "customdata": [
          [
           "June, 2019"
          ],
          [
           "June, 2019"
          ]
         ],
         "hovertemplate": "velocidade_cat=5-10 km/h<br>velocidade=%{r}<br>direção=%{theta}<br>data=%{customdata[0]}<extra></extra>",
         "legendgroup": "5-10 km/h",
         "marker": {
          "color": "#f0f921"
         },
         "name": "5-10 km/h",
         "r": [
          8.074175190073433,
          8.484849674566979
         ],
         "showlegend": true,
         "subplot": "polar",
         "theta": [
          "SSW",
          "S"
         ],
         "type": "barpolar"
        },
        {
         "customdata": [
          [
           "June, 2019"
          ]
         ],
         "hovertemplate": "velocidade_cat=10-15 km/h<br>velocidade=%{r}<br>direção=%{theta}<br>data=%{customdata[0]}<extra></extra>",
         "legendgroup": "10-15 km/h",
         "marker": {
          "color": "#fdca26"
         },
         "name": "10-15 km/h",
         "r": [
          11.377654327671962
         ],
         "showlegend": true,
         "subplot": "polar",
         "theta": [
          "WSW"
         ],
         "type": "barpolar"
        },
        {
         "customdata": [
          [
           "May, 2019"
          ],
          [
           "June, 2019"
          ],
          [
           "June, 2019"
          ],
          [
           "June, 2019"
          ],
          [
           "June, 2019"
          ]
         ],
         "hovertemplate": "velocidade_cat=15-20 km/h<br>velocidade=%{r}<br>direção=%{theta}<br>data=%{customdata[0]}<extra></extra>",
         "legendgroup": "15-20 km/h",
         "marker": {
          "color": "#fb9f3a"
         },
         "name": "15-20 km/h",
         "r": [
          15.30130781992233,
          18.922027930430552,
          15.588429843958574,
          15.096089857973665,
          16.160171533743448
         ],
         "showlegend": true,
         "subplot": "polar",
         "theta": [
          "ENE",
          "S",
          "ESE",
          "ESE",
          "E"
         ],
         "type": "barpolar"
        },
        {
         "customdata": [
          [
           "May, 2019"
          ]
         ],
         "hovertemplate": "velocidade_cat=20-25 km/h<br>velocidade=%{r}<br>direção=%{theta}<br>data=%{customdata[0]}<extra></extra>",
         "legendgroup": "20-25 km/h",
         "marker": {
          "color": "#ed7953"
         },
         "name": "20-25 km/h",
         "r": [
          24.751737959181852
         ],
         "showlegend": true,
         "subplot": "polar",
         "theta": [
          "ENE"
         ],
         "type": "barpolar"
        },
        {
         "customdata": [
          [
           "May, 2019"
          ],
          [
           "June, 2019"
          ]
         ],
         "hovertemplate": "velocidade_cat=25-30 km/h<br>velocidade=%{r}<br>direção=%{theta}<br>data=%{customdata[0]}<extra></extra>",
         "legendgroup": "25-30 km/h",
         "marker": {
          "color": "#d8576b"
         },
         "name": "25-30 km/h",
         "r": [
          29.79603255468807,
          26.630032012748092
         ],
         "showlegend": true,
         "subplot": "polar",
         "theta": [
          "ENE",
          "WSW"
         ],
         "type": "barpolar"
        },
        {
         "customdata": [
          [
           "May, 2019"
          ],
          [
           "June, 2019"
          ]
         ],
         "hovertemplate": "velocidade_cat=30-35 km/h<br>velocidade=%{r}<br>direção=%{theta}<br>data=%{customdata[0]}<extra></extra>",
         "legendgroup": "30-35 km/h",
         "marker": {
          "color": "#bd3786"
         },
         "name": "30-35 km/h",
         "r": [
          32.20887570220353,
          30.883687360805936
         ],
         "showlegend": true,
         "subplot": "polar",
         "theta": [
          "ENE",
          "SSW"
         ],
         "type": "barpolar"
        }
       ],
       "layout": {
        "barmode": "relative",
        "font": {
         "family": "Open Sans"
        },
        "legend": {
         "title": {
          "font": {
           "size": 14
          },
          "text": "<b>Velocidade"
         },
         "tracegroupgap": 0,
         "traceorder": "reversed",
         "x": 1.1,
         "xanchor": "right",
         "y": 0.99,
         "yanchor": "top"
        },
        "margin": {
         "t": 60
        },
        "paper_bgcolor": "rgb(255, 255, 255)",
        "polar": {
         "angularaxis": {
          "categoryarray": [
           "N",
           "NNE",
           "NE",
           "ENE",
           "E",
           "ESE",
           "SE",
           "SSE",
           "S",
           "SSW",
           "SW",
           "WSW",
           "W",
           "WNW",
           "NW",
           "NNW"
          ],
          "categoryorder": "array",
          "direction": "clockwise",
          "rotation": 90,
          "tickfont": {
           "size": 15
          }
         },
         "domain": {
          "x": [
           0,
           1
          ],
          "y": [
           0,
           1
          ]
         },
         "radialaxis": {
          "showticklabels": false
         }
        },
        "template": {
         "data": {
          "bar": [
           {
            "error_x": {
             "color": "#2a3f5f"
            },
            "error_y": {
             "color": "#2a3f5f"
            },
            "marker": {
             "line": {
              "color": "#E5ECF6",
              "width": 0.5
             }
            },
            "type": "bar"
           }
          ],
          "barpolar": [
           {
            "marker": {
             "line": {
              "color": "#E5ECF6",
              "width": 0.5
             }
            },
            "type": "barpolar"
           }
          ],
          "carpet": [
           {
            "aaxis": {
             "endlinecolor": "#2a3f5f",
             "gridcolor": "white",
             "linecolor": "white",
             "minorgridcolor": "white",
             "startlinecolor": "#2a3f5f"
            },
            "baxis": {
             "endlinecolor": "#2a3f5f",
             "gridcolor": "white",
             "linecolor": "white",
             "minorgridcolor": "white",
             "startlinecolor": "#2a3f5f"
            },
            "type": "carpet"
           }
          ],
          "choropleth": [
           {
            "colorbar": {
             "outlinewidth": 0,
             "ticks": ""
            },
            "type": "choropleth"
           }
          ],
          "contour": [
           {
            "colorbar": {
             "outlinewidth": 0,
             "ticks": ""
            },
            "colorscale": [
             [
              0,
              "#0d0887"
             ],
             [
              0.1111111111111111,
              "#46039f"
             ],
             [
              0.2222222222222222,
              "#7201a8"
             ],
             [
              0.3333333333333333,
              "#9c179e"
             ],
             [
              0.4444444444444444,
              "#bd3786"
             ],
             [
              0.5555555555555556,
              "#d8576b"
             ],
             [
              0.6666666666666666,
              "#ed7953"
             ],
             [
              0.7777777777777778,
              "#fb9f3a"
             ],
             [
              0.8888888888888888,
              "#fdca26"
             ],
             [
              1,
              "#f0f921"
             ]
            ],
            "type": "contour"
           }
          ],
          "contourcarpet": [
           {
            "colorbar": {
             "outlinewidth": 0,
             "ticks": ""
            },
            "type": "contourcarpet"
           }
          ],
          "heatmap": [
           {
            "colorbar": {
             "outlinewidth": 0,
             "ticks": ""
            },
            "colorscale": [
             [
              0,
              "#0d0887"
             ],
             [
              0.1111111111111111,
              "#46039f"
             ],
             [
              0.2222222222222222,
              "#7201a8"
             ],
             [
              0.3333333333333333,
              "#9c179e"
             ],
             [
              0.4444444444444444,
              "#bd3786"
             ],
             [
              0.5555555555555556,
              "#d8576b"
             ],
             [
              0.6666666666666666,
              "#ed7953"
             ],
             [
              0.7777777777777778,
              "#fb9f3a"
             ],
             [
              0.8888888888888888,
              "#fdca26"
             ],
             [
              1,
              "#f0f921"
             ]
            ],
            "type": "heatmap"
           }
          ],
          "heatmapgl": [
           {
            "colorbar": {
             "outlinewidth": 0,
             "ticks": ""
            },
            "colorscale": [
             [
              0,
              "#0d0887"
             ],
             [
              0.1111111111111111,
              "#46039f"
             ],
             [
              0.2222222222222222,
              "#7201a8"
             ],
             [
              0.3333333333333333,
              "#9c179e"
             ],
             [
              0.4444444444444444,
              "#bd3786"
             ],
             [
              0.5555555555555556,
              "#d8576b"
             ],
             [
              0.6666666666666666,
              "#ed7953"
             ],
             [
              0.7777777777777778,
              "#fb9f3a"
             ],
             [
              0.8888888888888888,
              "#fdca26"
             ],
             [
              1,
              "#f0f921"
             ]
            ],
            "type": "heatmapgl"
           }
          ],
          "histogram": [
           {
            "marker": {
             "colorbar": {
              "outlinewidth": 0,
              "ticks": ""
             }
            },
            "type": "histogram"
           }
          ],
          "histogram2d": [
           {
            "colorbar": {
             "outlinewidth": 0,
             "ticks": ""
            },
            "colorscale": [
             [
              0,
              "#0d0887"
             ],
             [
              0.1111111111111111,
              "#46039f"
             ],
             [
              0.2222222222222222,
              "#7201a8"
             ],
             [
              0.3333333333333333,
              "#9c179e"
             ],
             [
              0.4444444444444444,
              "#bd3786"
             ],
             [
              0.5555555555555556,
              "#d8576b"
             ],
             [
              0.6666666666666666,
              "#ed7953"
             ],
             [
              0.7777777777777778,
              "#fb9f3a"
             ],
             [
              0.8888888888888888,
              "#fdca26"
             ],
             [
              1,
              "#f0f921"
             ]
            ],
            "type": "histogram2d"
           }
          ],
          "histogram2dcontour": [
           {
            "colorbar": {
             "outlinewidth": 0,
             "ticks": ""
            },
            "colorscale": [
             [
              0,
              "#0d0887"
             ],
             [
              0.1111111111111111,
              "#46039f"
             ],
             [
              0.2222222222222222,
              "#7201a8"
             ],
             [
              0.3333333333333333,
              "#9c179e"
             ],
             [
              0.4444444444444444,
              "#bd3786"
             ],
             [
              0.5555555555555556,
              "#d8576b"
             ],
             [
              0.6666666666666666,
              "#ed7953"
             ],
             [
              0.7777777777777778,
              "#fb9f3a"
             ],
             [
              0.8888888888888888,
              "#fdca26"
             ],
             [
              1,
              "#f0f921"
             ]
            ],
            "type": "histogram2dcontour"
           }
          ],
          "mesh3d": [
           {
            "colorbar": {
             "outlinewidth": 0,
             "ticks": ""
            },
            "type": "mesh3d"
           }
          ],
          "parcoords": [
           {
            "line": {
             "colorbar": {
              "outlinewidth": 0,
              "ticks": ""
             }
            },
            "type": "parcoords"
           }
          ],
          "pie": [
           {
            "automargin": true,
            "type": "pie"
           }
          ],
          "scatter": [
           {
            "marker": {
             "colorbar": {
              "outlinewidth": 0,
              "ticks": ""
             }
            },
            "type": "scatter"
           }
          ],
          "scatter3d": [
           {
            "line": {
             "colorbar": {
              "outlinewidth": 0,
              "ticks": ""
             }
            },
            "marker": {
             "colorbar": {
              "outlinewidth": 0,
              "ticks": ""
             }
            },
            "type": "scatter3d"
           }
          ],
          "scattercarpet": [
           {
            "marker": {
             "colorbar": {
              "outlinewidth": 0,
              "ticks": ""
             }
            },
            "type": "scattercarpet"
           }
          ],
          "scattergeo": [
           {
            "marker": {
             "colorbar": {
              "outlinewidth": 0,
              "ticks": ""
             }
            },
            "type": "scattergeo"
           }
          ],
          "scattergl": [
           {
            "marker": {
             "colorbar": {
              "outlinewidth": 0,
              "ticks": ""
             }
            },
            "type": "scattergl"
           }
          ],
          "scattermapbox": [
           {
            "marker": {
             "colorbar": {
              "outlinewidth": 0,
              "ticks": ""
             }
            },
            "type": "scattermapbox"
           }
          ],
          "scatterpolar": [
           {
            "marker": {
             "colorbar": {
              "outlinewidth": 0,
              "ticks": ""
             }
            },
            "type": "scatterpolar"
           }
          ],
          "scatterpolargl": [
           {
            "marker": {
             "colorbar": {
              "outlinewidth": 0,
              "ticks": ""
             }
            },
            "type": "scatterpolargl"
           }
          ],
          "scatterternary": [
           {
            "marker": {
             "colorbar": {
              "outlinewidth": 0,
              "ticks": ""
             }
            },
            "type": "scatterternary"
           }
          ],
          "surface": [
           {
            "colorbar": {
             "outlinewidth": 0,
             "ticks": ""
            },
            "colorscale": [
             [
              0,
              "#0d0887"
             ],
             [
              0.1111111111111111,
              "#46039f"
             ],
             [
              0.2222222222222222,
              "#7201a8"
             ],
             [
              0.3333333333333333,
              "#9c179e"
             ],
             [
              0.4444444444444444,
              "#bd3786"
             ],
             [
              0.5555555555555556,
              "#d8576b"
             ],
             [
              0.6666666666666666,
              "#ed7953"
             ],
             [
              0.7777777777777778,
              "#fb9f3a"
             ],
             [
              0.8888888888888888,
              "#fdca26"
             ],
             [
              1,
              "#f0f921"
             ]
            ],
            "type": "surface"
           }
          ],
          "table": [
           {
            "cells": {
             "fill": {
              "color": "#EBF0F8"
             },
             "line": {
              "color": "white"
             }
            },
            "header": {
             "fill": {
              "color": "#C8D4E3"
             },
             "line": {
              "color": "white"
             }
            },
            "type": "table"
           }
          ]
         },
         "layout": {
          "annotationdefaults": {
           "arrowcolor": "#2a3f5f",
           "arrowhead": 0,
           "arrowwidth": 1
          },
          "coloraxis": {
           "colorbar": {
            "outlinewidth": 0,
            "ticks": ""
           }
          },
          "colorscale": {
           "diverging": [
            [
             0,
             "#8e0152"
            ],
            [
             0.1,
             "#c51b7d"
            ],
            [
             0.2,
             "#de77ae"
            ],
            [
             0.3,
             "#f1b6da"
            ],
            [
             0.4,
             "#fde0ef"
            ],
            [
             0.5,
             "#f7f7f7"
            ],
            [
             0.6,
             "#e6f5d0"
            ],
            [
             0.7,
             "#b8e186"
            ],
            [
             0.8,
             "#7fbc41"
            ],
            [
             0.9,
             "#4d9221"
            ],
            [
             1,
             "#276419"
            ]
           ],
           "sequential": [
            [
             0,
             "#0d0887"
            ],
            [
             0.1111111111111111,
             "#46039f"
            ],
            [
             0.2222222222222222,
             "#7201a8"
            ],
            [
             0.3333333333333333,
             "#9c179e"
            ],
            [
             0.4444444444444444,
             "#bd3786"
            ],
            [
             0.5555555555555556,
             "#d8576b"
            ],
            [
             0.6666666666666666,
             "#ed7953"
            ],
            [
             0.7777777777777778,
             "#fb9f3a"
            ],
            [
             0.8888888888888888,
             "#fdca26"
            ],
            [
             1,
             "#f0f921"
            ]
           ],
           "sequentialminus": [
            [
             0,
             "#0d0887"
            ],
            [
             0.1111111111111111,
             "#46039f"
            ],
            [
             0.2222222222222222,
             "#7201a8"
            ],
            [
             0.3333333333333333,
             "#9c179e"
            ],
            [
             0.4444444444444444,
             "#bd3786"
            ],
            [
             0.5555555555555556,
             "#d8576b"
            ],
            [
             0.6666666666666666,
             "#ed7953"
            ],
            [
             0.7777777777777778,
             "#fb9f3a"
            ],
            [
             0.8888888888888888,
             "#fdca26"
            ],
            [
             1,
             "#f0f921"
            ]
           ]
          },
          "colorway": [
           "#636efa",
           "#EF553B",
           "#00cc96",
           "#ab63fa",
           "#FFA15A",
           "#19d3f3",
           "#FF6692",
           "#B6E880",
           "#FF97FF",
           "#FECB52"
          ],
          "font": {
           "color": "#2a3f5f"
          },
          "geo": {
           "bgcolor": "white",
           "lakecolor": "white",
           "landcolor": "#E5ECF6",
           "showlakes": true,
           "showland": true,
           "subunitcolor": "white"
          },
          "hoverlabel": {
           "align": "left"
          },
          "hovermode": "closest",
          "mapbox": {
           "style": "light"
          },
          "paper_bgcolor": "white",
          "plot_bgcolor": "#E5ECF6",
          "polar": {
           "angularaxis": {
            "gridcolor": "white",
            "linecolor": "white",
            "ticks": ""
           },
           "bgcolor": "#E5ECF6",
           "radialaxis": {
            "gridcolor": "white",
            "linecolor": "white",
            "ticks": ""
           }
          },
          "scene": {
           "xaxis": {
            "backgroundcolor": "#E5ECF6",
            "gridcolor": "white",
            "gridwidth": 2,
            "linecolor": "white",
            "showbackground": true,
            "ticks": "",
            "zerolinecolor": "white"
           },
           "yaxis": {
            "backgroundcolor": "#E5ECF6",
            "gridcolor": "white",
            "gridwidth": 2,
            "linecolor": "white",
            "showbackground": true,
            "ticks": "",
            "zerolinecolor": "white"
           },
           "zaxis": {
            "backgroundcolor": "#E5ECF6",
            "gridcolor": "white",
            "gridwidth": 2,
            "linecolor": "white",
            "showbackground": true,
            "ticks": "",
            "zerolinecolor": "white"
           }
          },
          "shapedefaults": {
           "line": {
            "color": "#2a3f5f"
           }
          },
          "ternary": {
           "aaxis": {
            "gridcolor": "white",
            "linecolor": "white",
            "ticks": ""
           },
           "baxis": {
            "gridcolor": "white",
            "linecolor": "white",
            "ticks": ""
           },
           "bgcolor": "#E5ECF6",
           "caxis": {
            "gridcolor": "white",
            "linecolor": "white",
            "ticks": ""
           }
          },
          "title": {
           "x": 0.05
          },
          "xaxis": {
           "automargin": true,
           "gridcolor": "white",
           "linecolor": "white",
           "ticks": "",
           "title": {
            "standoff": 15
           },
           "zerolinecolor": "white",
           "zerolinewidth": 2
          },
          "yaxis": {
           "automargin": true,
           "gridcolor": "white",
           "linecolor": "white",
           "ticks": "",
           "title": {
            "standoff": 15
           },
           "zerolinecolor": "white",
           "zerolinewidth": 2
          }
         }
        }
       }
      }
     },
     "metadata": {}
    }
   ],
   "source": [
    "import plotly.express as px\n",
    "\n",
    "campaigns = trajs_659['campanha'].unique()\n",
    "\n",
    "velocidade_cat = ['0-5 km/h', '5-10 km/h', '10-15 km/h', '15-20 km/h', '20-25 km/h', '25-30 km/h', '30-35 km/h', '35-40 km/h', '40-45 km/h']\n",
    "dir_cat = [\"N\", \"NNE\", \"NE\", \"ENE\", \"E\", \"ESE\", \"SE\", \"SSE\", \"S\", \"SSW\", \"SW\", \"WSW\", \"W\", \"WNW\", \"NW\", \"NNW\"]\n",
    "\n",
    "for c in campaigns:\n",
    "    df = trajs_659.loc[trajs_659.campanha == c]\n",
    "        \n",
    "    fig = px.bar_polar(df, r='velocidade', theta='direção', color='velocidade_cat', \n",
    "                      category_orders={'velocidade_cat': velocidade_cat,\n",
    "                                      'direção': dir_cat}, \n",
    "                       color_discrete_sequence = px.colors.sequential.Plasma_r,\n",
    "                       hover_data={'data': True})\n",
    "\n",
    "    fig.update_layout(legend=dict(\n",
    "         traceorder='reversed',\n",
    "         yanchor='top',\n",
    "         y=0.99,\n",
    "         xanchor='right',\n",
    "         x=1.1,\n",
    "         title=dict(\n",
    "             text='<b>Velocidade', \n",
    "             font={'size': 14})),\n",
    "         font_family='Open Sans',\n",
    "         polar_radialaxis_showticklabels=False,\n",
    "         polar_angularaxis_tickfont_size = 15,\n",
    "         paper_bgcolor='rgb(255, 255, 255)')\n",
    "\n",
    "    fig.show()"
   ]
  }
 ],
 "metadata": {
  "colab": {
   "collapsed_sections": [],
   "name": "trajs_SB.ipynb",
   "provenance": []
  },
  "kernelspec": {
   "name": "Python 3.8.5 64-bit",
   "display_name": "Python 3.8.5 64-bit",
   "metadata": {
    "interpreter": {
     "hash": "1f42090833967a15994965b03f816d2365f4c7ab523cacf46e37faa7668751c1"
    }
   }
  },
  "language_info": {
   "codemirror_mode": {
    "name": "ipython",
    "version": 3
   },
   "file_extension": ".py",
   "mimetype": "text/x-python",
   "name": "python",
   "nbconvert_exporter": "python",
   "pygments_lexer": "ipython3",
   "version": "3.8.5-final"
  }
 },
 "nbformat": 4,
 "nbformat_minor": 4
}