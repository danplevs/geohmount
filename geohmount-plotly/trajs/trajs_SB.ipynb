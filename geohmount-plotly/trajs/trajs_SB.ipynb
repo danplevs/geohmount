{
 "cells": [
  {
   "cell_type": "markdown",
   "metadata": {
    "id": "qGvi3CQJ2CL0"
   },
   "source": [
    "# Importando e tratando a base de dados"
   ]
  },
  {
   "cell_type": "markdown",
   "metadata": {
    "id": "YUZ5Qcym2OyJ"
   },
   "source": [
    "><h3>Importação dos dados"
   ]
  },
  {
   "cell_type": "code",
   "execution_count": 1,
   "metadata": {
    "executionInfo": {
     "elapsed": 685,
     "status": "ok",
     "timestamp": 1601341955112,
     "user": {
      "displayName": "Daniel Levita",
      "photoUrl": "https://lh3.googleusercontent.com/a-/AOh14GiyPIUOd_DCE1_soU5rS77DkpJyfVNWNY36oSNNnoM=s64",
      "userId": "11217355149532741913"
     },
     "user_tz": 180
    },
    "id": "8L8XCMms2_v7"
   },
   "outputs": [],
   "source": [
    "import requests\n",
    "from io import StringIO\n",
    "\n",
    "# parameters for the request\n",
    "owner = 'danplevs'\n",
    "token = '10972548eeae219489116329ded0f3850ddeec5a'\n",
    "repo = 'geohmount'\n",
    "path = 'geohmount-plotly/trajs/resultado-angulos_velocidades-SB.csv'\n",
    "\n",
    "# sending the request\n",
    "r = requests.get(f'https://api.github.com/repos/{owner}/{repo}/contents/{path}',\n",
    "    headers={\n",
    "        'accept': 'application/vnd.github.v3.raw',\n",
    "        'authorization': f'token {token}'\n",
    "            }\n",
    "    )\n",
    "\n",
    "#convert string to StringIO object\n",
    "string_io_obj = StringIO(r.text)"
   ]
  },
  {
   "cell_type": "code",
   "execution_count": 2,
   "metadata": {
    "colab": {
     "base_uri": "https://localhost:8080/",
     "height": 204
    },
    "executionInfo": {
     "elapsed": 1033,
     "status": "ok",
     "timestamp": 1601341955472,
     "user": {
      "displayName": "Daniel Levita",
      "photoUrl": "https://lh3.googleusercontent.com/a-/AOh14GiyPIUOd_DCE1_soU5rS77DkpJyfVNWNY36oSNNnoM=s64",
      "userId": "11217355149532741913"
     },
     "user_tz": 180
    },
    "id": "L2UpC8HRyE-E",
    "outputId": "5ead2990-8b77-4e4b-d898-e380a803f094"
   },
   "outputs": [
    {
     "data": {
      "text/html": [
       "<div>\n",
       "<style scoped>\n",
       "    .dataframe tbody tr th:only-of-type {\n",
       "        vertical-align: middle;\n",
       "    }\n",
       "\n",
       "    .dataframe tbody tr th {\n",
       "        vertical-align: top;\n",
       "    }\n",
       "\n",
       "    .dataframe thead th {\n",
       "        text-align: right;\n",
       "    }\n",
       "</style>\n",
       "<table border=\"1\" class=\"dataframe\">\n",
       "  <thead>\n",
       "    <tr style=\"text-align: right;\">\n",
       "      <th></th>\n",
       "      <th>data</th>\n",
       "      <th>altitude</th>\n",
       "      <th>campanha</th>\n",
       "      <th>direcao_graus</th>\n",
       "      <th>velocidade_km/h</th>\n",
       "    </tr>\n",
       "  </thead>\n",
       "  <tbody>\n",
       "    <tr>\n",
       "      <th>0</th>\n",
       "      <td>2018-01-01 22:00:00</td>\n",
       "      <td>509.0</td>\n",
       "      <td>NaN</td>\n",
       "      <td>113.428693</td>\n",
       "      <td>10.102930</td>\n",
       "    </tr>\n",
       "    <tr>\n",
       "      <th>1</th>\n",
       "      <td>2018-01-01 22:00:00</td>\n",
       "      <td>659.0</td>\n",
       "      <td>NaN</td>\n",
       "      <td>122.735226</td>\n",
       "      <td>8.571308</td>\n",
       "    </tr>\n",
       "    <tr>\n",
       "      <th>2</th>\n",
       "      <td>2018-01-01 22:00:00</td>\n",
       "      <td>909.0</td>\n",
       "      <td>NaN</td>\n",
       "      <td>150.046392</td>\n",
       "      <td>7.013839</td>\n",
       "    </tr>\n",
       "    <tr>\n",
       "      <th>3</th>\n",
       "      <td>2018-01-03 22:00:00</td>\n",
       "      <td>509.0</td>\n",
       "      <td>NaN</td>\n",
       "      <td>221.531771</td>\n",
       "      <td>19.262928</td>\n",
       "    </tr>\n",
       "    <tr>\n",
       "      <th>4</th>\n",
       "      <td>2018-01-03 22:00:00</td>\n",
       "      <td>659.0</td>\n",
       "      <td>NaN</td>\n",
       "      <td>225.824343</td>\n",
       "      <td>20.249391</td>\n",
       "    </tr>\n",
       "  </tbody>\n",
       "</table>\n",
       "</div>"
      ],
      "text/plain": [
       "                  data  altitude campanha  direcao_graus  velocidade_km/h\n",
       "0  2018-01-01 22:00:00     509.0      NaN     113.428693        10.102930\n",
       "1  2018-01-01 22:00:00     659.0      NaN     122.735226         8.571308\n",
       "2  2018-01-01 22:00:00     909.0      NaN     150.046392         7.013839\n",
       "3  2018-01-03 22:00:00     509.0      NaN     221.531771        19.262928\n",
       "4  2018-01-03 22:00:00     659.0      NaN     225.824343        20.249391"
      ]
     },
     "execution_count": 2,
     "metadata": {},
     "output_type": "execute_result"
    }
   ],
   "source": [
    "import pandas as pd\n",
    "\n",
    "trajs = pd.read_csv(string_io_obj, sep=\";\")\n",
    "trajs.head(5)"
   ]
  },
  {
   "cell_type": "markdown",
   "metadata": {
    "id": "m1gT7PG02SPD"
   },
   "source": [
    "><h3>Tratamento dos dados"
   ]
  },
  {
   "cell_type": "markdown",
   "metadata": {
    "id": "8KT66Kn3sDc7"
   },
   "source": [
    ">>Renomeando colunas"
   ]
  },
  {
   "cell_type": "code",
   "execution_count": 3,
   "metadata": {
    "executionInfo": {
     "elapsed": 1033,
     "status": "ok",
     "timestamp": 1601341955474,
     "user": {
      "displayName": "Daniel Levita",
      "photoUrl": "https://lh3.googleusercontent.com/a-/AOh14GiyPIUOd_DCE1_soU5rS77DkpJyfVNWNY36oSNNnoM=s64",
      "userId": "11217355149532741913"
     },
     "user_tz": 180
    },
    "id": "8nDKu7zGrvxq"
   },
   "outputs": [],
   "source": [
    "trajs = trajs.rename(columns={'data': 'data_full', 'direcao_graus': 'direção_graus', 'velocidade_km/h': 'velocidade'})"
   ]
  },
  {
   "cell_type": "markdown",
   "metadata": {
    "id": "IbUrQFYVQ2VY"
   },
   "source": [
    ">>Removendo trajetórias sem campanha"
   ]
  },
  {
   "cell_type": "code",
   "execution_count": 4,
   "metadata": {
    "colab": {
     "base_uri": "https://localhost:8080/",
     "height": 419
    },
    "executionInfo": {
     "elapsed": 1024,
     "status": "ok",
     "timestamp": 1601341955474,
     "user": {
      "displayName": "Daniel Levita",
      "photoUrl": "https://lh3.googleusercontent.com/a-/AOh14GiyPIUOd_DCE1_soU5rS77DkpJyfVNWNY36oSNNnoM=s64",
      "userId": "11217355149532741913"
     },
     "user_tz": 180
    },
    "id": "tHlW6Tb30O4G",
    "outputId": "6bdf19bc-10a6-4b93-84e4-e1be6815dbaf"
   },
   "outputs": [
    {
     "data": {
      "text/html": [
       "<div>\n",
       "<style scoped>\n",
       "    .dataframe tbody tr th:only-of-type {\n",
       "        vertical-align: middle;\n",
       "    }\n",
       "\n",
       "    .dataframe tbody tr th {\n",
       "        vertical-align: top;\n",
       "    }\n",
       "\n",
       "    .dataframe thead th {\n",
       "        text-align: right;\n",
       "    }\n",
       "</style>\n",
       "<table border=\"1\" class=\"dataframe\">\n",
       "  <thead>\n",
       "    <tr style=\"text-align: right;\">\n",
       "      <th></th>\n",
       "      <th>data_full</th>\n",
       "      <th>altitude</th>\n",
       "      <th>campanha</th>\n",
       "      <th>direção_graus</th>\n",
       "      <th>velocidade</th>\n",
       "    </tr>\n",
       "  </thead>\n",
       "  <tbody>\n",
       "    <tr>\n",
       "      <th>693</th>\n",
       "      <td>2018-07-10 19:00:00</td>\n",
       "      <td>509.0</td>\n",
       "      <td>SB180801 - PP1</td>\n",
       "      <td>230.969023</td>\n",
       "      <td>27.314427</td>\n",
       "    </tr>\n",
       "    <tr>\n",
       "      <th>694</th>\n",
       "      <td>2018-07-10 19:00:00</td>\n",
       "      <td>659.0</td>\n",
       "      <td>SB180801 - PP1</td>\n",
       "      <td>232.328520</td>\n",
       "      <td>27.977538</td>\n",
       "    </tr>\n",
       "    <tr>\n",
       "      <th>695</th>\n",
       "      <td>2018-07-10 19:00:00</td>\n",
       "      <td>909.0</td>\n",
       "      <td>SB180801 - PP1</td>\n",
       "      <td>237.879287</td>\n",
       "      <td>27.120313</td>\n",
       "    </tr>\n",
       "    <tr>\n",
       "      <th>696</th>\n",
       "      <td>2018-07-10 22:00:00</td>\n",
       "      <td>509.0</td>\n",
       "      <td>SB180801 - PP1</td>\n",
       "      <td>232.585556</td>\n",
       "      <td>30.345171</td>\n",
       "    </tr>\n",
       "    <tr>\n",
       "      <th>697</th>\n",
       "      <td>2018-07-10 22:00:00</td>\n",
       "      <td>659.0</td>\n",
       "      <td>SB180801 - PP1</td>\n",
       "      <td>234.069293</td>\n",
       "      <td>31.419221</td>\n",
       "    </tr>\n",
       "    <tr>\n",
       "      <th>...</th>\n",
       "      <td>...</td>\n",
       "      <td>...</td>\n",
       "      <td>...</td>\n",
       "      <td>...</td>\n",
       "      <td>...</td>\n",
       "    </tr>\n",
       "    <tr>\n",
       "      <th>1741</th>\n",
       "      <td>2019-06-06 01:00:00</td>\n",
       "      <td>659.0</td>\n",
       "      <td>SB190615 - PP1</td>\n",
       "      <td>105.838000</td>\n",
       "      <td>15.096090</td>\n",
       "    </tr>\n",
       "    <tr>\n",
       "      <th>1742</th>\n",
       "      <td>2019-06-06 01:00:00</td>\n",
       "      <td>909.0</td>\n",
       "      <td>SB190615 - PP1</td>\n",
       "      <td>109.106353</td>\n",
       "      <td>16.677733</td>\n",
       "    </tr>\n",
       "    <tr>\n",
       "      <th>1743</th>\n",
       "      <td>2019-06-06 04:00:00</td>\n",
       "      <td>509.0</td>\n",
       "      <td>SB190615 - PP1</td>\n",
       "      <td>93.521453</td>\n",
       "      <td>13.415330</td>\n",
       "    </tr>\n",
       "    <tr>\n",
       "      <th>1744</th>\n",
       "      <td>2019-06-06 04:00:00</td>\n",
       "      <td>659.0</td>\n",
       "      <td>SB190615 - PP1</td>\n",
       "      <td>101.023456</td>\n",
       "      <td>16.160172</td>\n",
       "    </tr>\n",
       "    <tr>\n",
       "      <th>1745</th>\n",
       "      <td>2019-06-06 04:00:00</td>\n",
       "      <td>909.0</td>\n",
       "      <td>SB190615 - PP1</td>\n",
       "      <td>106.699244</td>\n",
       "      <td>18.280977</td>\n",
       "    </tr>\n",
       "  </tbody>\n",
       "</table>\n",
       "<p>1053 rows × 5 columns</p>\n",
       "</div>"
      ],
      "text/plain": [
       "                data_full  altitude        campanha  direção_graus  velocidade\n",
       "693   2018-07-10 19:00:00     509.0  SB180801 - PP1     230.969023   27.314427\n",
       "694   2018-07-10 19:00:00     659.0  SB180801 - PP1     232.328520   27.977538\n",
       "695   2018-07-10 19:00:00     909.0  SB180801 - PP1     237.879287   27.120313\n",
       "696   2018-07-10 22:00:00     509.0  SB180801 - PP1     232.585556   30.345171\n",
       "697   2018-07-10 22:00:00     659.0  SB180801 - PP1     234.069293   31.419221\n",
       "...                   ...       ...             ...            ...         ...\n",
       "1741  2019-06-06 01:00:00     659.0  SB190615 - PP1     105.838000   15.096090\n",
       "1742  2019-06-06 01:00:00     909.0  SB190615 - PP1     109.106353   16.677733\n",
       "1743  2019-06-06 04:00:00     509.0  SB190615 - PP1      93.521453   13.415330\n",
       "1744  2019-06-06 04:00:00     659.0  SB190615 - PP1     101.023456   16.160172\n",
       "1745  2019-06-06 04:00:00     909.0  SB190615 - PP1     106.699244   18.280977\n",
       "\n",
       "[1053 rows x 5 columns]"
      ]
     },
     "execution_count": 4,
     "metadata": {},
     "output_type": "execute_result"
    }
   ],
   "source": [
    "trajs = trajs.dropna()\n",
    "trajs"
   ]
  },
  {
   "cell_type": "markdown",
   "metadata": {
    "id": "vD3WNV-nRASP"
   },
   "source": [
    ">>Criando a coluna de sentidos das trajetórias"
   ]
  },
  {
   "cell_type": "code",
   "execution_count": 5,
   "metadata": {
    "colab": {
     "base_uri": "https://localhost:8080/",
     "height": 359
    },
    "executionInfo": {
     "elapsed": 1016,
     "status": "ok",
     "timestamp": 1601341955475,
     "user": {
      "displayName": "Daniel Levita",
      "photoUrl": "https://lh3.googleusercontent.com/a-/AOh14GiyPIUOd_DCE1_soU5rS77DkpJyfVNWNY36oSNNnoM=s64",
      "userId": "11217355149532741913"
     },
     "user_tz": 180
    },
    "id": "oDaDAojgDUqN",
    "outputId": "1f1ba7f0-837e-45fc-c655-72531ba8a799"
   },
   "outputs": [
    {
     "data": {
      "text/html": [
       "<div>\n",
       "<style scoped>\n",
       "    .dataframe tbody tr th:only-of-type {\n",
       "        vertical-align: middle;\n",
       "    }\n",
       "\n",
       "    .dataframe tbody tr th {\n",
       "        vertical-align: top;\n",
       "    }\n",
       "\n",
       "    .dataframe thead th {\n",
       "        text-align: right;\n",
       "    }\n",
       "</style>\n",
       "<table border=\"1\" class=\"dataframe\">\n",
       "  <thead>\n",
       "    <tr style=\"text-align: right;\">\n",
       "      <th></th>\n",
       "      <th>data_full</th>\n",
       "      <th>altitude</th>\n",
       "      <th>campanha</th>\n",
       "      <th>direção_graus</th>\n",
       "      <th>velocidade</th>\n",
       "      <th>direção</th>\n",
       "    </tr>\n",
       "  </thead>\n",
       "  <tbody>\n",
       "    <tr>\n",
       "      <th>693</th>\n",
       "      <td>2018-07-10 19:00:00</td>\n",
       "      <td>509.0</td>\n",
       "      <td>SB180801 - PP1</td>\n",
       "      <td>230.969023</td>\n",
       "      <td>27.314427</td>\n",
       "      <td>SW</td>\n",
       "    </tr>\n",
       "    <tr>\n",
       "      <th>694</th>\n",
       "      <td>2018-07-10 19:00:00</td>\n",
       "      <td>659.0</td>\n",
       "      <td>SB180801 - PP1</td>\n",
       "      <td>232.328520</td>\n",
       "      <td>27.977538</td>\n",
       "      <td>SW</td>\n",
       "    </tr>\n",
       "    <tr>\n",
       "      <th>695</th>\n",
       "      <td>2018-07-10 19:00:00</td>\n",
       "      <td>909.0</td>\n",
       "      <td>SB180801 - PP1</td>\n",
       "      <td>237.879287</td>\n",
       "      <td>27.120313</td>\n",
       "      <td>WSW</td>\n",
       "    </tr>\n",
       "    <tr>\n",
       "      <th>696</th>\n",
       "      <td>2018-07-10 22:00:00</td>\n",
       "      <td>509.0</td>\n",
       "      <td>SB180801 - PP1</td>\n",
       "      <td>232.585556</td>\n",
       "      <td>30.345171</td>\n",
       "      <td>SW</td>\n",
       "    </tr>\n",
       "    <tr>\n",
       "      <th>697</th>\n",
       "      <td>2018-07-10 22:00:00</td>\n",
       "      <td>659.0</td>\n",
       "      <td>SB180801 - PP1</td>\n",
       "      <td>234.069293</td>\n",
       "      <td>31.419221</td>\n",
       "      <td>SW</td>\n",
       "    </tr>\n",
       "    <tr>\n",
       "      <th>698</th>\n",
       "      <td>2018-07-10 22:00:00</td>\n",
       "      <td>909.0</td>\n",
       "      <td>SB180801 - PP1</td>\n",
       "      <td>239.796762</td>\n",
       "      <td>31.939966</td>\n",
       "      <td>WSW</td>\n",
       "    </tr>\n",
       "    <tr>\n",
       "      <th>699</th>\n",
       "      <td>2018-07-11 02:00:00</td>\n",
       "      <td>509.0</td>\n",
       "      <td>SB180801 - PP1</td>\n",
       "      <td>236.968476</td>\n",
       "      <td>32.311479</td>\n",
       "      <td>WSW</td>\n",
       "    </tr>\n",
       "    <tr>\n",
       "      <th>700</th>\n",
       "      <td>2018-07-11 02:00:00</td>\n",
       "      <td>659.0</td>\n",
       "      <td>SB180801 - PP1</td>\n",
       "      <td>236.969017</td>\n",
       "      <td>34.768412</td>\n",
       "      <td>WSW</td>\n",
       "    </tr>\n",
       "    <tr>\n",
       "      <th>701</th>\n",
       "      <td>2018-07-11 02:00:00</td>\n",
       "      <td>909.0</td>\n",
       "      <td>SB180801 - PP1</td>\n",
       "      <td>240.470368</td>\n",
       "      <td>37.407155</td>\n",
       "      <td>WSW</td>\n",
       "    </tr>\n",
       "    <tr>\n",
       "      <th>702</th>\n",
       "      <td>2018-07-11 01:00:00</td>\n",
       "      <td>509.0</td>\n",
       "      <td>SB180801 - PP1</td>\n",
       "      <td>235.627292</td>\n",
       "      <td>33.568678</td>\n",
       "      <td>SW</td>\n",
       "    </tr>\n",
       "  </tbody>\n",
       "</table>\n",
       "</div>"
      ],
      "text/plain": [
       "               data_full  altitude        campanha  direção_graus  velocidade  \\\n",
       "693  2018-07-10 19:00:00     509.0  SB180801 - PP1     230.969023   27.314427   \n",
       "694  2018-07-10 19:00:00     659.0  SB180801 - PP1     232.328520   27.977538   \n",
       "695  2018-07-10 19:00:00     909.0  SB180801 - PP1     237.879287   27.120313   \n",
       "696  2018-07-10 22:00:00     509.0  SB180801 - PP1     232.585556   30.345171   \n",
       "697  2018-07-10 22:00:00     659.0  SB180801 - PP1     234.069293   31.419221   \n",
       "698  2018-07-10 22:00:00     909.0  SB180801 - PP1     239.796762   31.939966   \n",
       "699  2018-07-11 02:00:00     509.0  SB180801 - PP1     236.968476   32.311479   \n",
       "700  2018-07-11 02:00:00     659.0  SB180801 - PP1     236.969017   34.768412   \n",
       "701  2018-07-11 02:00:00     909.0  SB180801 - PP1     240.470368   37.407155   \n",
       "702  2018-07-11 01:00:00     509.0  SB180801 - PP1     235.627292   33.568678   \n",
       "\n",
       "    direção  \n",
       "693      SW  \n",
       "694      SW  \n",
       "695     WSW  \n",
       "696      SW  \n",
       "697      SW  \n",
       "698     WSW  \n",
       "699     WSW  \n",
       "700     WSW  \n",
       "701     WSW  \n",
       "702      SW  "
      ]
     },
     "execution_count": 5,
     "metadata": {},
     "output_type": "execute_result"
    }
   ],
   "source": [
    "sentidos_switcher = {0: \"N\", # dicionário com os sentidos de acordo com a rosa dos ventos\n",
    "        1: \"NNE\",\n",
    "        2: \"NE\",\n",
    "        3: \"ENE\",\n",
    "        4: \"E\",\n",
    "        5: \"ESE\",\n",
    "        6: \"SE\",\n",
    "        7: \"SSE\",\n",
    "        8: \"S\",\n",
    "        9: \"SSW\",\n",
    "        10: \"SW\",\n",
    "        11: \"WSW\",\n",
    "        12:\"W\",\n",
    "        13:\"WNW\",\n",
    "        14:\"NW\",\n",
    "        15:\"NNW\",\n",
    "}\n",
    "sentidos = list() #lista que vai armazenar os sentidos\n",
    "for value in trajs['direção_graus']: \n",
    "  quociente = value // 22.5\n",
    "  resto = value % 22.5              # laço de repetição que atribui um número inteiro de acordo com cada direção em graus\n",
    "  if resto > 11.25: \n",
    "    quociente += 1\n",
    "  sentidos.append(sentidos_switcher.get(quociente))\n",
    "trajs['direção'] = sentidos\n",
    "trajs.head(10)"
   ]
  },
  {
   "cell_type": "markdown",
   "metadata": {
    "id": "4PZRU1gC83DH"
   },
   "source": [
    ">>Criando a coluna categórica de velocidades"
   ]
  },
  {
   "cell_type": "code",
   "execution_count": 6,
   "metadata": {
    "colab": {
     "base_uri": "https://localhost:8080/",
     "height": 359
    },
    "executionInfo": {
     "elapsed": 1008,
     "status": "ok",
     "timestamp": 1601341955475,
     "user": {
      "displayName": "Daniel Levita",
      "photoUrl": "https://lh3.googleusercontent.com/a-/AOh14GiyPIUOd_DCE1_soU5rS77DkpJyfVNWNY36oSNNnoM=s64",
      "userId": "11217355149532741913"
     },
     "user_tz": 180
    },
    "id": "_7klgQWU82dJ",
    "outputId": "06a2c1e0-cde7-4d06-98b8-4f9539ca81e7"
   },
   "outputs": [
    {
     "data": {
      "text/html": [
       "<div>\n",
       "<style scoped>\n",
       "    .dataframe tbody tr th:only-of-type {\n",
       "        vertical-align: middle;\n",
       "    }\n",
       "\n",
       "    .dataframe tbody tr th {\n",
       "        vertical-align: top;\n",
       "    }\n",
       "\n",
       "    .dataframe thead th {\n",
       "        text-align: right;\n",
       "    }\n",
       "</style>\n",
       "<table border=\"1\" class=\"dataframe\">\n",
       "  <thead>\n",
       "    <tr style=\"text-align: right;\">\n",
       "      <th></th>\n",
       "      <th>data_full</th>\n",
       "      <th>altitude</th>\n",
       "      <th>campanha</th>\n",
       "      <th>direção_graus</th>\n",
       "      <th>velocidade</th>\n",
       "      <th>direção</th>\n",
       "      <th>velocidade_cat</th>\n",
       "    </tr>\n",
       "  </thead>\n",
       "  <tbody>\n",
       "    <tr>\n",
       "      <th>693</th>\n",
       "      <td>2018-07-10 19:00:00</td>\n",
       "      <td>509.0</td>\n",
       "      <td>SB180801 - PP1</td>\n",
       "      <td>230.969023</td>\n",
       "      <td>27.314427</td>\n",
       "      <td>SW</td>\n",
       "      <td>25-30 km/h</td>\n",
       "    </tr>\n",
       "    <tr>\n",
       "      <th>694</th>\n",
       "      <td>2018-07-10 19:00:00</td>\n",
       "      <td>659.0</td>\n",
       "      <td>SB180801 - PP1</td>\n",
       "      <td>232.328520</td>\n",
       "      <td>27.977538</td>\n",
       "      <td>SW</td>\n",
       "      <td>25-30 km/h</td>\n",
       "    </tr>\n",
       "    <tr>\n",
       "      <th>695</th>\n",
       "      <td>2018-07-10 19:00:00</td>\n",
       "      <td>909.0</td>\n",
       "      <td>SB180801 - PP1</td>\n",
       "      <td>237.879287</td>\n",
       "      <td>27.120313</td>\n",
       "      <td>WSW</td>\n",
       "      <td>25-30 km/h</td>\n",
       "    </tr>\n",
       "    <tr>\n",
       "      <th>696</th>\n",
       "      <td>2018-07-10 22:00:00</td>\n",
       "      <td>509.0</td>\n",
       "      <td>SB180801 - PP1</td>\n",
       "      <td>232.585556</td>\n",
       "      <td>30.345171</td>\n",
       "      <td>SW</td>\n",
       "      <td>30-35 km/h</td>\n",
       "    </tr>\n",
       "    <tr>\n",
       "      <th>697</th>\n",
       "      <td>2018-07-10 22:00:00</td>\n",
       "      <td>659.0</td>\n",
       "      <td>SB180801 - PP1</td>\n",
       "      <td>234.069293</td>\n",
       "      <td>31.419221</td>\n",
       "      <td>SW</td>\n",
       "      <td>30-35 km/h</td>\n",
       "    </tr>\n",
       "    <tr>\n",
       "      <th>698</th>\n",
       "      <td>2018-07-10 22:00:00</td>\n",
       "      <td>909.0</td>\n",
       "      <td>SB180801 - PP1</td>\n",
       "      <td>239.796762</td>\n",
       "      <td>31.939966</td>\n",
       "      <td>WSW</td>\n",
       "      <td>30-35 km/h</td>\n",
       "    </tr>\n",
       "    <tr>\n",
       "      <th>699</th>\n",
       "      <td>2018-07-11 02:00:00</td>\n",
       "      <td>509.0</td>\n",
       "      <td>SB180801 - PP1</td>\n",
       "      <td>236.968476</td>\n",
       "      <td>32.311479</td>\n",
       "      <td>WSW</td>\n",
       "      <td>30-35 km/h</td>\n",
       "    </tr>\n",
       "    <tr>\n",
       "      <th>700</th>\n",
       "      <td>2018-07-11 02:00:00</td>\n",
       "      <td>659.0</td>\n",
       "      <td>SB180801 - PP1</td>\n",
       "      <td>236.969017</td>\n",
       "      <td>34.768412</td>\n",
       "      <td>WSW</td>\n",
       "      <td>30-35 km/h</td>\n",
       "    </tr>\n",
       "    <tr>\n",
       "      <th>701</th>\n",
       "      <td>2018-07-11 02:00:00</td>\n",
       "      <td>909.0</td>\n",
       "      <td>SB180801 - PP1</td>\n",
       "      <td>240.470368</td>\n",
       "      <td>37.407155</td>\n",
       "      <td>WSW</td>\n",
       "      <td>35-40 km/h</td>\n",
       "    </tr>\n",
       "    <tr>\n",
       "      <th>702</th>\n",
       "      <td>2018-07-11 01:00:00</td>\n",
       "      <td>509.0</td>\n",
       "      <td>SB180801 - PP1</td>\n",
       "      <td>235.627292</td>\n",
       "      <td>33.568678</td>\n",
       "      <td>SW</td>\n",
       "      <td>30-35 km/h</td>\n",
       "    </tr>\n",
       "  </tbody>\n",
       "</table>\n",
       "</div>"
      ],
      "text/plain": [
       "               data_full  altitude        campanha  direção_graus  velocidade  \\\n",
       "693  2018-07-10 19:00:00     509.0  SB180801 - PP1     230.969023   27.314427   \n",
       "694  2018-07-10 19:00:00     659.0  SB180801 - PP1     232.328520   27.977538   \n",
       "695  2018-07-10 19:00:00     909.0  SB180801 - PP1     237.879287   27.120313   \n",
       "696  2018-07-10 22:00:00     509.0  SB180801 - PP1     232.585556   30.345171   \n",
       "697  2018-07-10 22:00:00     659.0  SB180801 - PP1     234.069293   31.419221   \n",
       "698  2018-07-10 22:00:00     909.0  SB180801 - PP1     239.796762   31.939966   \n",
       "699  2018-07-11 02:00:00     509.0  SB180801 - PP1     236.968476   32.311479   \n",
       "700  2018-07-11 02:00:00     659.0  SB180801 - PP1     236.969017   34.768412   \n",
       "701  2018-07-11 02:00:00     909.0  SB180801 - PP1     240.470368   37.407155   \n",
       "702  2018-07-11 01:00:00     509.0  SB180801 - PP1     235.627292   33.568678   \n",
       "\n",
       "    direção velocidade_cat  \n",
       "693      SW     25-30 km/h  \n",
       "694      SW     25-30 km/h  \n",
       "695     WSW     25-30 km/h  \n",
       "696      SW     30-35 km/h  \n",
       "697      SW     30-35 km/h  \n",
       "698     WSW     30-35 km/h  \n",
       "699     WSW     30-35 km/h  \n",
       "700     WSW     30-35 km/h  \n",
       "701     WSW     35-40 km/h  \n",
       "702      SW     30-35 km/h  "
      ]
     },
     "execution_count": 6,
     "metadata": {},
     "output_type": "execute_result"
    }
   ],
   "source": [
    "velocidades_switcher = {0: '0-5 km/h', #dicionário com as velocidades categóricas\n",
    "               1: '5-10 km/h',\n",
    "               2: '10-15 km/h',\n",
    "               3: '15-20 km/h',\n",
    "               4: '20-25 km/h',\n",
    "               5: '25-30 km/h',\n",
    "               6: '30-35 km/h',\n",
    "               7: '35-40 km/h',\n",
    "               8: '40-45 km/h',\n",
    "}\n",
    "velocidades = list()\n",
    "for value in trajs['velocidade']:\n",
    "  quociente = value // 5\n",
    "  velocidades.append(velocidades_switcher.get(quociente))\n",
    "trajs['velocidade_cat'] = velocidades\n",
    "trajs.head(10)"
   ]
  },
  {
   "cell_type": "markdown",
   "metadata": {
    "id": "IbY7XGJLI4kn"
   },
   "source": [
    ">>Criando a coluna categórica de data já formata em 'mês, ano'"
   ]
  },
  {
   "cell_type": "code",
   "execution_count": 7,
   "metadata": {
    "colab": {
     "base_uri": "https://localhost:8080/",
     "height": 204
    },
    "executionInfo": {
     "elapsed": 1002,
     "status": "ok",
     "timestamp": 1601341955476,
     "user": {
      "displayName": "Daniel Levita",
      "photoUrl": "https://lh3.googleusercontent.com/a-/AOh14GiyPIUOd_DCE1_soU5rS77DkpJyfVNWNY36oSNNnoM=s64",
      "userId": "11217355149532741913"
     },
     "user_tz": 180
    },
    "id": "0qFGyxMpJAr7",
    "outputId": "dc875488-18c0-4627-93f9-ae8d970f7a5e"
   },
   "outputs": [
    {
     "data": {
      "text/html": [
       "<div>\n",
       "<style scoped>\n",
       "    .dataframe tbody tr th:only-of-type {\n",
       "        vertical-align: middle;\n",
       "    }\n",
       "\n",
       "    .dataframe tbody tr th {\n",
       "        vertical-align: top;\n",
       "    }\n",
       "\n",
       "    .dataframe thead th {\n",
       "        text-align: right;\n",
       "    }\n",
       "</style>\n",
       "<table border=\"1\" class=\"dataframe\">\n",
       "  <thead>\n",
       "    <tr style=\"text-align: right;\">\n",
       "      <th></th>\n",
       "      <th>data_full</th>\n",
       "      <th>altitude</th>\n",
       "      <th>campanha</th>\n",
       "      <th>direção_graus</th>\n",
       "      <th>velocidade</th>\n",
       "      <th>direção</th>\n",
       "      <th>velocidade_cat</th>\n",
       "      <th>data</th>\n",
       "    </tr>\n",
       "  </thead>\n",
       "  <tbody>\n",
       "    <tr>\n",
       "      <th>693</th>\n",
       "      <td>2018-07-10 19:00:00</td>\n",
       "      <td>509.0</td>\n",
       "      <td>SB180801 - PP1</td>\n",
       "      <td>230.969023</td>\n",
       "      <td>27.314427</td>\n",
       "      <td>SW</td>\n",
       "      <td>25-30 km/h</td>\n",
       "      <td>July, 2018</td>\n",
       "    </tr>\n",
       "    <tr>\n",
       "      <th>694</th>\n",
       "      <td>2018-07-10 19:00:00</td>\n",
       "      <td>659.0</td>\n",
       "      <td>SB180801 - PP1</td>\n",
       "      <td>232.328520</td>\n",
       "      <td>27.977538</td>\n",
       "      <td>SW</td>\n",
       "      <td>25-30 km/h</td>\n",
       "      <td>July, 2018</td>\n",
       "    </tr>\n",
       "    <tr>\n",
       "      <th>695</th>\n",
       "      <td>2018-07-10 19:00:00</td>\n",
       "      <td>909.0</td>\n",
       "      <td>SB180801 - PP1</td>\n",
       "      <td>237.879287</td>\n",
       "      <td>27.120313</td>\n",
       "      <td>WSW</td>\n",
       "      <td>25-30 km/h</td>\n",
       "      <td>July, 2018</td>\n",
       "    </tr>\n",
       "    <tr>\n",
       "      <th>696</th>\n",
       "      <td>2018-07-10 22:00:00</td>\n",
       "      <td>509.0</td>\n",
       "      <td>SB180801 - PP1</td>\n",
       "      <td>232.585556</td>\n",
       "      <td>30.345171</td>\n",
       "      <td>SW</td>\n",
       "      <td>30-35 km/h</td>\n",
       "      <td>July, 2018</td>\n",
       "    </tr>\n",
       "    <tr>\n",
       "      <th>697</th>\n",
       "      <td>2018-07-10 22:00:00</td>\n",
       "      <td>659.0</td>\n",
       "      <td>SB180801 - PP1</td>\n",
       "      <td>234.069293</td>\n",
       "      <td>31.419221</td>\n",
       "      <td>SW</td>\n",
       "      <td>30-35 km/h</td>\n",
       "      <td>July, 2018</td>\n",
       "    </tr>\n",
       "  </tbody>\n",
       "</table>\n",
       "</div>"
      ],
      "text/plain": [
       "               data_full  altitude        campanha  direção_graus  velocidade  \\\n",
       "693  2018-07-10 19:00:00     509.0  SB180801 - PP1     230.969023   27.314427   \n",
       "694  2018-07-10 19:00:00     659.0  SB180801 - PP1     232.328520   27.977538   \n",
       "695  2018-07-10 19:00:00     909.0  SB180801 - PP1     237.879287   27.120313   \n",
       "696  2018-07-10 22:00:00     509.0  SB180801 - PP1     232.585556   30.345171   \n",
       "697  2018-07-10 22:00:00     659.0  SB180801 - PP1     234.069293   31.419221   \n",
       "\n",
       "    direção velocidade_cat        data  \n",
       "693      SW     25-30 km/h  July, 2018  \n",
       "694      SW     25-30 km/h  July, 2018  \n",
       "695     WSW     25-30 km/h  July, 2018  \n",
       "696      SW     30-35 km/h  July, 2018  \n",
       "697      SW     30-35 km/h  July, 2018  "
      ]
     },
     "execution_count": 7,
     "metadata": {},
     "output_type": "execute_result"
    }
   ],
   "source": [
    "trajs['data'] = pd.to_datetime(trajs['data_full'])\n",
    "trajs['data'] = trajs['data'].dt.strftime('%B, %Y')\n",
    "trajs.head()"
   ]
  },
  {
   "cell_type": "markdown",
   "metadata": {
    "id": "rwhrHjwUSudQ"
   },
   "source": [
    ">>Criando datasets separados por altitude"
   ]
  },
  {
   "cell_type": "code",
   "execution_count": 8,
   "metadata": {
    "executionInfo": {
     "elapsed": 1000,
     "status": "ok",
     "timestamp": 1601341955476,
     "user": {
      "displayName": "Daniel Levita",
      "photoUrl": "https://lh3.googleusercontent.com/a-/AOh14GiyPIUOd_DCE1_soU5rS77DkpJyfVNWNY36oSNNnoM=s64",
      "userId": "11217355149532741913"
     },
     "user_tz": 180
    },
    "id": "6In1vFlw1yZc"
   },
   "outputs": [],
   "source": [
    "trajs_509 = trajs.loc[trajs['altitude'] == 509]\n",
    "trajs_659 = trajs.loc[trajs['altitude'] == 659]\n",
    "trajs_909 = trajs.loc[trajs['altitude'] == 909]"
   ]
  },
  {
   "cell_type": "markdown",
   "metadata": {
    "id": "T-oZJO26BVXP"
   },
   "source": [
    "# Criando o gráfico"
   ]
  },
  {
   "cell_type": "code",
   "execution_count": 9,
   "metadata": {
    "colab": {
     "base_uri": "https://localhost:8080/",
     "height": 68
    },
    "executionInfo": {
     "elapsed": 3287,
     "status": "ok",
     "timestamp": 1601337826292,
     "user": {
      "displayName": "Daniel Levita",
      "photoUrl": "https://lh3.googleusercontent.com/a-/AOh14GiyPIUOd_DCE1_soU5rS77DkpJyfVNWNY36oSNNnoM=s64",
      "userId": "11217355149532741913"
     },
     "user_tz": 180
    },
    "id": "64LRFW2o6vyJ",
    "outputId": "94fd417b-40df-4298-e566-95bdd3e97b7a"
   },
   "outputs": [
    {
     "name": "stdout",
     "output_type": "stream",
     "text": [
      "Requirement already up-to-date: plotly in c:\\users\\daniel\\anaconda3\\lib\\site-packages (4.10.0)\n",
      "Requirement already satisfied, skipping upgrade: retrying>=1.3.3 in c:\\users\\daniel\\anaconda3\\lib\\site-packages (from plotly) (1.3.3)\n",
      "Requirement already satisfied, skipping upgrade: six in c:\\users\\daniel\\anaconda3\\lib\\site-packages (from plotly) (1.15.0)\n"
     ]
    }
   ],
   "source": [
    "!pip install --upgrade plotly"
   ]
  },
  {
   "cell_type": "code",
   "execution_count": 28,
   "metadata": {
    "colab": {
     "base_uri": "https://localhost:8080/",
     "height": 542
    },
    "executionInfo": {
     "elapsed": 590,
     "status": "ok",
     "timestamp": 1601338218233,
     "user": {
      "displayName": "Daniel Levita",
      "photoUrl": "https://lh3.googleusercontent.com/a-/AOh14GiyPIUOd_DCE1_soU5rS77DkpJyfVNWNY36oSNNnoM=s64",
      "userId": "11217355149532741913"
     },
     "user_tz": 180
    },
    "id": "5tPk7YH1Bkfl",
    "outputId": "1169fc25-4ae6-43dc-92f8-e6a14dc447d4"
   },
   "outputs": [
    {
     "data": {
      "application/vnd.plotly.v1+json": {
       "config": {
        "plotlyServerURL": "https://plotly.com"
       },
       "data": [
        {
         "customdata": [
          [
           "September, 2018"
          ],
          [
           "September, 2018"
          ],
          [
           "September, 2018"
          ],
          [
           "October, 2018"
          ],
          [
           "November, 2018"
          ],
          [
           "January, 2019"
          ],
          [
           "February, 2019"
          ],
          [
           "February, 2019"
          ],
          [
           "February, 2019"
          ],
          [
           "February, 2019"
          ],
          [
           "February, 2019"
          ],
          [
           "February, 2019"
          ],
          [
           "March, 2019"
          ],
          [
           "March, 2019"
          ],
          [
           "April, 2019"
          ],
          [
           "May, 2019"
          ],
          [
           "May, 2019"
          ],
          [
           "May, 2019"
          ],
          [
           "May, 2019"
          ]
         ],
         "hovertemplate": "<b>%{theta}</b><br>velocidade (km/h): %{r:.1f}<br>",
         "legendgroup": "0-5 km/h",
         "marker": {
          "color": "#f0f921"
         },
         "name": "0-5 km/h",
         "r": [
          4.945072800273213,
          4.2342897869654355,
          4.471908429294965,
          1.114115344118415,
          2.550160191046591,
          1.981244558352116,
          1.400951462399714,
          1.3547534831110033,
          3.6049999999999423,
          3.0624101619474167,
          4.313720667822305,
          2.7886191923603585,
          4.204116316183201,
          4.5425218766671565,
          4.575101856789834,
          2.402352180676564,
          3.0432970607551115,
          1.4309217309136297,
          3.1996382608044684
         ],
         "showlegend": true,
         "subplot": "polar",
         "theta": [
          "S",
          "NW",
          "W",
          "WNW",
          "SW",
          "NNW",
          "NNE",
          "E",
          "NW",
          "NNW",
          "WNW",
          "W",
          "WSW",
          "WSW",
          "SSE",
          "ESE",
          "ESE",
          "SSE",
          "E"
         ],
         "type": "barpolar"
        },
        {
         "customdata": [
          [
           "August, 2018"
          ],
          [
           "August, 2018"
          ],
          [
           "August, 2018"
          ],
          [
           "August, 2018"
          ],
          [
           "August, 2018"
          ],
          [
           "August, 2018"
          ],
          [
           "September, 2018"
          ],
          [
           "September, 2018"
          ],
          [
           "October, 2018"
          ],
          [
           "October, 2018"
          ],
          [
           "October, 2018"
          ],
          [
           "October, 2018"
          ],
          [
           "October, 2018"
          ],
          [
           "November, 2018"
          ],
          [
           "November, 2018"
          ],
          [
           "November, 2018"
          ],
          [
           "November, 2018"
          ],
          [
           "November, 2018"
          ],
          [
           "December, 2018"
          ],
          [
           "December, 2018"
          ],
          [
           "December, 2018"
          ],
          [
           "December, 2018"
          ],
          [
           "December, 2018"
          ],
          [
           "December, 2018"
          ],
          [
           "January, 2019"
          ],
          [
           "January, 2019"
          ],
          [
           "January, 2019"
          ],
          [
           "January, 2019"
          ],
          [
           "January, 2019"
          ],
          [
           "January, 2019"
          ],
          [
           "January, 2019"
          ],
          [
           "January, 2019"
          ],
          [
           "January, 2019"
          ],
          [
           "February, 2019"
          ],
          [
           "February, 2019"
          ],
          [
           "February, 2019"
          ],
          [
           "February, 2019"
          ],
          [
           "February, 2019"
          ],
          [
           "March, 2019"
          ],
          [
           "April, 2019"
          ],
          [
           "April, 2019"
          ],
          [
           "April, 2019"
          ],
          [
           "May, 2019"
          ],
          [
           "May, 2019"
          ],
          [
           "June, 2019"
          ],
          [
           "June, 2019"
          ]
         ],
         "hovertemplate": "<b>%{theta}</b><br>velocidade (km/h): %{r:.1f}<br>",
         "legendgroup": "5-10 km/h",
         "marker": {
          "color": "#fdca26"
         },
         "name": "5-10 km/h",
         "r": [
          5.9285425696369565,
          7.210735676753117,
          7.666411155162705,
          8.958631870994779,
          6.286376142103226,
          7.359276119293439,
          9.345795685761457,
          8.66976153074585,
          8.121339359982514,
          7.656025404868989,
          7.233504544824658,
          7.955041483235828,
          7.198955827062771,
          9.769266297936632,
          9.843373253108027,
          6.5952179645559035,
          9.296284956906044,
          7.796086261708528,
          9.547938887529922,
          9.097296796301585,
          8.53658134149738,
          9.980375794528378,
          7.0297028386696585,
          8.827406470759431,
          7.561210286719848,
          7.575928325954715,
          5.9508690121692975,
          9.029405572904622,
          5.830200339610815,
          8.949153088421374,
          5.6462416703507055,
          8.137000000000063,
          8.256078064068761,
          7.136792626943656,
          6.090950090092486,
          7.295570779589354,
          6.245741989547764,
          8.896839270212507,
          5.642482521018732,
          6.679135048791852,
          7.065830029091124,
          7.599697099227099,
          9.456387312287806,
          9.628158806334666,
          8.074175190073433,
          8.484849674566979
         ],
         "showlegend": true,
         "subplot": "polar",
         "theta": [
          "S",
          "SE",
          "SSE",
          "SSE",
          "SE",
          "S",
          "SSW",
          "NNW",
          "SSW",
          "S",
          "SSW",
          "S",
          "SE",
          "SW",
          "SSE",
          "SSW",
          "S",
          "ENE",
          "ENE",
          "ENE",
          "SE",
          "SSE",
          "SW",
          "ESE",
          "NE",
          "NE",
          "WNW",
          "NNE",
          "SSW",
          "NNW",
          "ESE",
          "N",
          "N",
          "WNW",
          "WSW",
          "NNW",
          "NNW",
          "SSW",
          "ESE",
          "ESE",
          "ESE",
          "SSE",
          "WSW",
          "SW",
          "SSW",
          "S"
         ],
         "type": "barpolar"
        },
        {
         "customdata": [
          [
           "July, 2018"
          ],
          [
           "July, 2018"
          ],
          [
           "August, 2018"
          ],
          [
           "August, 2018"
          ],
          [
           "August, 2018"
          ],
          [
           "August, 2018"
          ],
          [
           "August, 2018"
          ],
          [
           "August, 2018"
          ],
          [
           "September, 2018"
          ],
          [
           "September, 2018"
          ],
          [
           "September, 2018"
          ],
          [
           "October, 2018"
          ],
          [
           "October, 2018"
          ],
          [
           "October, 2018"
          ],
          [
           "October, 2018"
          ],
          [
           "October, 2018"
          ],
          [
           "October, 2018"
          ],
          [
           "October, 2018"
          ],
          [
           "October, 2018"
          ],
          [
           "November, 2018"
          ],
          [
           "November, 2018"
          ],
          [
           "November, 2018"
          ],
          [
           "November, 2018"
          ],
          [
           "November, 2018"
          ],
          [
           "November, 2018"
          ],
          [
           "November, 2018"
          ],
          [
           "December, 2018"
          ],
          [
           "December, 2018"
          ],
          [
           "December, 2018"
          ],
          [
           "December, 2018"
          ],
          [
           "December, 2018"
          ],
          [
           "December, 2018"
          ],
          [
           "December, 2018"
          ],
          [
           "December, 2018"
          ],
          [
           "December, 2018"
          ],
          [
           "December, 2018"
          ],
          [
           "December, 2018"
          ],
          [
           "December, 2018"
          ],
          [
           "December, 2018"
          ],
          [
           "December, 2018"
          ],
          [
           "December, 2018"
          ],
          [
           "December, 2018"
          ],
          [
           "December, 2018"
          ],
          [
           "December, 2018"
          ],
          [
           "December, 2018"
          ],
          [
           "December, 2018"
          ],
          [
           "December, 2018"
          ],
          [
           "December, 2018"
          ],
          [
           "December, 2018"
          ],
          [
           "December, 2018"
          ],
          [
           "December, 2018"
          ],
          [
           "December, 2018"
          ],
          [
           "January, 2019"
          ],
          [
           "January, 2019"
          ],
          [
           "January, 2019"
          ],
          [
           "January, 2019"
          ],
          [
           "January, 2019"
          ],
          [
           "January, 2019"
          ],
          [
           "January, 2019"
          ],
          [
           "January, 2019"
          ],
          [
           "January, 2019"
          ],
          [
           "February, 2019"
          ],
          [
           "February, 2019"
          ],
          [
           "February, 2019"
          ],
          [
           "February, 2019"
          ],
          [
           "February, 2019"
          ],
          [
           "February, 2019"
          ],
          [
           "February, 2019"
          ],
          [
           "February, 2019"
          ],
          [
           "February, 2019"
          ],
          [
           "March, 2019"
          ],
          [
           "March, 2019"
          ],
          [
           "March, 2019"
          ],
          [
           "March, 2019"
          ],
          [
           "March, 2019"
          ],
          [
           "March, 2019"
          ],
          [
           "March, 2019"
          ],
          [
           "March, 2019"
          ],
          [
           "April, 2019"
          ],
          [
           "April, 2019"
          ],
          [
           "April, 2019"
          ],
          [
           "April, 2019"
          ],
          [
           "May, 2019"
          ],
          [
           "May, 2019"
          ],
          [
           "June, 2019"
          ]
         ],
         "hovertemplate": "<b>%{theta}</b><br>velocidade (km/h): %{r:.1f}<br>",
         "legendgroup": "10-15 km/h",
         "marker": {
          "color": "#fb9f3a"
         },
         "name": "10-15 km/h",
         "r": [
          10.941780705168783,
          13.14047502946574,
          12.75080095523421,
          14.432134180363214,
          11.662220200288134,
          12.309254160996078,
          11.778535265473824,
          14.559479008536155,
          12.142210383616302,
          14.69438590074466,
          14.78507507589998,
          13.455206613054939,
          13.610038207146726,
          12.60183006551046,
          13.288596803274665,
          12.53599286055948,
          13.805458521903091,
          10.999802043673325,
          12.546144148701437,
          10.457924316039174,
          13.699387212572642,
          12.142210383616302,
          13.140878699691507,
          10.102404664237024,
          11.68403235188968,
          14.472874489886308,
          14.630714029055278,
          14.915452725277946,
          14.154163910312658,
          12.04219336333708,
          12.189300431116026,
          12.155745637352126,
          11.857532500482476,
          14.259084297387595,
          13.929393418236305,
          12.412247902777269,
          11.10347643758472,
          10.109753013798256,
          11.334212853127413,
          14.986057553606242,
          14.177006207235909,
          11.148768721253694,
          12.22883739363653,
          13.499288610886168,
          11.10204314529568,
          10.252510521819113,
          11.562638885652252,
          11.655395531684267,
          14.820909047693686,
          13.841145978567045,
          14.688970079620914,
          12.04791840941844,
          10.83068386575856,
          12.292004637161488,
          11.976380087488806,
          12.260894339321311,
          10.455895227095388,
          10.100304153836518,
          11.53691960620382,
          10.205839602894065,
          14.223326650260663,
          14.878420413471662,
          13.711772241399188,
          13.27541743223183,
          13.245816018652846,
          10.732777925588307,
          14.511672887713427,
          14.708818341389529,
          10.431006854565977,
          14.495214555155805,
          10.281959200463627,
          14.98641151176605,
          11.440421014980151,
          13.81006853712143,
          12.66941869226834,
          11.715316171576426,
          12.181900180185428,
          12.695768468273284,
          14.864152649915798,
          14.309217309133404,
          12.437010090853974,
          10.976630311712404,
          14.213253603591372,
          14.213253603591372,
          11.377654327671962
         ],
         "showlegend": true,
         "subplot": "polar",
         "theta": [
          "E",
          "E",
          null,
          "SSE",
          "ESE",
          "E",
          "E",
          "S",
          "W",
          "NNE",
          "SW",
          "SSW",
          "SW",
          "SW",
          "SW",
          "SSE",
          "SW",
          "SW",
          "S",
          "SSE",
          "S",
          "S",
          "SE",
          "E",
          "E",
          "E",
          "SSW",
          "SSW",
          "SSW",
          "ESE",
          "E",
          "E",
          "E",
          "S",
          "S",
          "E",
          "NW",
          "S",
          "E",
          "S",
          "SSE",
          "SSE",
          "SSE",
          "S",
          "SSE",
          "ESE",
          "ESE",
          "NE",
          "ENE",
          "NE",
          "NE",
          "NNE",
          "NNE",
          null,
          null,
          "NE",
          "NNW",
          "ENE",
          "ENE",
          "NE",
          "E",
          "SSE",
          "SE",
          "SE",
          "NW",
          "NW",
          "SSW",
          "SSW",
          null,
          "N",
          "E",
          "SSW",
          "ESE",
          "SSW",
          "SSW",
          "SSW",
          "SSW",
          "S",
          "SSW",
          "SSW",
          "SSE",
          "E",
          "SSE",
          "SSE",
          "WSW"
         ],
         "type": "barpolar"
        },
        {
         "customdata": [
          [
           "July, 2018"
          ],
          [
           "July, 2018"
          ],
          [
           "August, 2018"
          ],
          [
           "August, 2018"
          ],
          [
           "August, 2018"
          ],
          [
           "August, 2018"
          ],
          [
           "August, 2018"
          ],
          [
           "September, 2018"
          ],
          [
           "September, 2018"
          ],
          [
           "September, 2018"
          ],
          [
           "September, 2018"
          ],
          [
           "September, 2018"
          ],
          [
           "September, 2018"
          ],
          [
           "September, 2018"
          ],
          [
           "October, 2018"
          ],
          [
           "October, 2018"
          ],
          [
           "October, 2018"
          ],
          [
           "October, 2018"
          ],
          [
           "October, 2018"
          ],
          [
           "October, 2018"
          ],
          [
           "October, 2018"
          ],
          [
           "October, 2018"
          ],
          [
           "October, 2018"
          ],
          [
           "October, 2018"
          ],
          [
           "November, 2018"
          ],
          [
           "November, 2018"
          ],
          [
           "November, 2018"
          ],
          [
           "November, 2018"
          ],
          [
           "November, 2018"
          ],
          [
           "November, 2018"
          ],
          [
           "November, 2018"
          ],
          [
           "November, 2018"
          ],
          [
           "November, 2018"
          ],
          [
           "November, 2018"
          ],
          [
           "November, 2018"
          ],
          [
           "December, 2018"
          ],
          [
           "December, 2018"
          ],
          [
           "December, 2018"
          ],
          [
           "December, 2018"
          ],
          [
           "December, 2018"
          ],
          [
           "January, 2019"
          ],
          [
           "January, 2019"
          ],
          [
           "January, 2019"
          ],
          [
           "February, 2019"
          ],
          [
           "February, 2019"
          ],
          [
           "February, 2019"
          ],
          [
           "February, 2019"
          ],
          [
           "February, 2019"
          ],
          [
           "February, 2019"
          ],
          [
           "February, 2019"
          ],
          [
           "February, 2019"
          ],
          [
           "February, 2019"
          ],
          [
           "February, 2019"
          ],
          [
           "February, 2019"
          ],
          [
           "February, 2019"
          ],
          [
           "March, 2019"
          ],
          [
           "March, 2019"
          ],
          [
           "March, 2019"
          ],
          [
           "March, 2019"
          ],
          [
           "March, 2019"
          ],
          [
           "March, 2019"
          ],
          [
           "March, 2019"
          ],
          [
           "March, 2019"
          ],
          [
           "March, 2019"
          ],
          [
           "March, 2019"
          ],
          [
           "March, 2019"
          ],
          [
           "March, 2019"
          ],
          [
           "March, 2019"
          ],
          [
           "April, 2019"
          ],
          [
           "April, 2019"
          ],
          [
           "April, 2019"
          ],
          [
           "April, 2019"
          ],
          [
           "April, 2019"
          ],
          [
           "April, 2019"
          ],
          [
           "April, 2019"
          ],
          [
           "April, 2019"
          ],
          [
           "May, 2019"
          ],
          [
           "May, 2019"
          ],
          [
           "May, 2019"
          ],
          [
           "May, 2019"
          ],
          [
           "May, 2019"
          ],
          [
           "May, 2019"
          ],
          [
           "June, 2019"
          ],
          [
           "June, 2019"
          ],
          [
           "June, 2019"
          ],
          [
           "June, 2019"
          ]
         ],
         "hovertemplate": "<b>%{theta}</b><br>velocidade (km/h): %{r:.1f}<br>",
         "legendgroup": "15-20 km/h",
         "marker": {
          "color": "#ed7953"
         },
         "name": "15-20 km/h",
         "r": [
          15.06830508053302,
          17.67673264492068,
          19.682704412758177,
          19.844547865849734,
          19.565120444300863,
          17.841312619871953,
          16.347174098296144,
          17.437446745438088,
          18.387447375859317,
          18.00144174781564,
          17.017146176724328,
          19.74701000151662,
          19.51163665610813,
          19.579755463233067,
          18.191386340793493,
          19.39957901605089,
          15.169001318478957,
          16.975012488949858,
          16.388656229234044,
          16.097354596330682,
          16.391245376724846,
          16.467764207687356,
          18.862784577044703,
          16.826871396667787,
          18.207999615553746,
          18.135313865494748,
          18.340074836270748,
          18.60312309801787,
          19.36646526860272,
          16.730446975499607,
          18.948641006678983,
          16.463576191095186,
          16.781731555474547,
          16.030983001675338,
          18.04882140196413,
          15.807396275161695,
          16.988756428885427,
          16.730446975499607,
          18.113070556921365,
          16.603459428685472,
          16.289963689339668,
          15.471272022687893,
          15.610532662276356,
          15.352529205313456,
          15.28465861574959,
          17.898602543215716,
          16.315668175101358,
          18.900991138033127,
          18.017641355072477,
          16.313392197823358,
          15.31378284422259,
          15.523299455979346,
          15.240171816616936,
          16.128629203996287,
          19.18483872749516,
          17.168898188293422,
          15.039410892718115,
          15.744182576431365,
          15.664468104599134,
          19.748353070572804,
          18.965709715167566,
          16.030983001675338,
          18.879368977802102,
          19.156061729906927,
          16.09504774767749,
          16.25475761123532,
          16.241698956698446,
          15.764384700964987,
          19.50728635664098,
          18.632469401558108,
          18.528552021137262,
          17.86181561320116,
          17.137974355214787,
          18.69073998000073,
          15.228681492499517,
          16.608250961494974,
          17.940932528717582,
          18.690739980000913,
          16.595790098696945,
          15.244695930060626,
          15.378420855211418,
          15.30130781992233,
          18.922027930430552,
          15.588429843958574,
          15.096089857973665,
          16.160171533743448
         ],
         "showlegend": true,
         "subplot": "polar",
         "theta": [
          "ENE",
          "ENE",
          "E",
          "E",
          "E",
          "NW",
          "S",
          "W",
          "ENE",
          "NE",
          null,
          "WSW",
          "WSW",
          "N",
          "SSE",
          "SE",
          "SE",
          "SE",
          "SE",
          "SE",
          "SE",
          "WSW",
          "SSW",
          "SSW",
          "SSE",
          "SE",
          "ESE",
          "ESE",
          "S",
          "S",
          "SSW",
          "S",
          "ESE",
          "ESE",
          "ESE",
          "S",
          "S",
          "S",
          "ENE",
          "E",
          "N",
          "N",
          "NW",
          "S",
          "SE",
          "ESE",
          "ESE",
          "SE",
          "ESE",
          "E",
          "NE",
          "NE",
          "NNE",
          "SSW",
          "SSE",
          "WSW",
          "ESE",
          "SSW",
          "S",
          "SE",
          "SE",
          "ESE",
          "ESE",
          "SE",
          "ESE",
          "E",
          "E",
          "E",
          "W",
          "W",
          "W",
          "WSW",
          "SSW",
          "SSW",
          "SSW",
          "S",
          "SSE",
          "SSE",
          "SSE",
          "SSE",
          "SW",
          "ENE",
          "S",
          "ESE",
          "ESE",
          "E"
         ],
         "type": "barpolar"
        },
        {
         "customdata": [
          [
           "August, 2018"
          ],
          [
           "August, 2018"
          ],
          [
           "August, 2018"
          ],
          [
           "August, 2018"
          ],
          [
           "September, 2018"
          ],
          [
           "September, 2018"
          ],
          [
           "October, 2018"
          ],
          [
           "October, 2018"
          ],
          [
           "October, 2018"
          ],
          [
           "November, 2018"
          ],
          [
           "November, 2018"
          ],
          [
           "November, 2018"
          ],
          [
           "November, 2018"
          ],
          [
           "November, 2018"
          ],
          [
           "November, 2018"
          ],
          [
           "November, 2018"
          ],
          [
           "November, 2018"
          ],
          [
           "November, 2018"
          ],
          [
           "November, 2018"
          ],
          [
           "December, 2018"
          ],
          [
           "December, 2018"
          ],
          [
           "December, 2018"
          ],
          [
           "December, 2018"
          ],
          [
           "December, 2018"
          ],
          [
           "December, 2018"
          ],
          [
           "February, 2019"
          ],
          [
           "February, 2019"
          ],
          [
           "February, 2019"
          ],
          [
           "February, 2019"
          ],
          [
           "February, 2019"
          ],
          [
           "March, 2019"
          ],
          [
           "March, 2019"
          ],
          [
           "March, 2019"
          ],
          [
           "March, 2019"
          ],
          [
           "March, 2019"
          ],
          [
           "March, 2019"
          ],
          [
           "March, 2019"
          ],
          [
           "March, 2019"
          ],
          [
           "March, 2019"
          ],
          [
           "March, 2019"
          ],
          [
           "March, 2019"
          ],
          [
           "March, 2019"
          ],
          [
           "March, 2019"
          ],
          [
           "March, 2019"
          ],
          [
           "March, 2019"
          ],
          [
           "April, 2019"
          ],
          [
           "April, 2019"
          ],
          [
           "April, 2019"
          ],
          [
           "April, 2019"
          ],
          [
           "April, 2019"
          ],
          [
           "May, 2019"
          ],
          [
           "May, 2019"
          ]
         ],
         "hovertemplate": "<b>%{theta}</b><br>velocidade (km/h): %{r:.1f}<br>",
         "legendgroup": "20-25 km/h",
         "marker": {
          "color": "#d8576b"
         },
         "name": "20-25 km/h",
         "r": [
          20.12194038854132,
          23.669839247447317,
          23.463210095807877,
          20.736537512323643,
          22.389650912866493,
          20.561338721006955,
          22.924616310857058,
          21.575242594233004,
          24.278740865209347,
          22.099681536166802,
          21.3386569399294,
          21.171448934827485,
          22.937801681940037,
          21.825308703430125,
          20.366410631233112,
          20.020455264554297,
          23.858900079425243,
          20.932326889287733,
          21.333933275418364,
          24.62410985193174,
          22.035501378457518,
          20.612870979074934,
          24.86484854166619,
          23.48083750635828,
          20.760569211849717,
          22.81769672863648,
          23.471799462333497,
          23.022285724923233,
          23.117248041235513,
          20.064918165793504,
          20.131428389460982,
          23.636199779152328,
          21.27218082378936,
          20.051166375051764,
          22.72358352021072,
          24.214421570626076,
          20.18011580739805,
          20.838099001588503,
          20.482761386102183,
          21.800260847063228,
          21.5941655546123,
          23.639117094342318,
          24.56263872225464,
          21.986338599230685,
          20.836826173868253,
          21.164181746526193,
          23.256113604813404,
          23.06303173912736,
          21.355802513603106,
          20.46980859705337,
          20.472399810476436,
          24.751737959181852
         ],
         "showlegend": true,
         "subplot": "polar",
         "theta": [
          "ENE",
          "NE",
          "NE",
          "SSW",
          "ENE",
          "WSW",
          "SSE",
          "SSE",
          "SSW",
          "SSW",
          "S",
          "SSE",
          "SSE",
          "ESE",
          "SSW",
          "ESE",
          "SSW",
          "S",
          "ENE",
          "SSW",
          "SSW",
          "SW",
          "S",
          "S",
          "S",
          "E",
          "SSW",
          "S",
          "S",
          "WNW",
          "NNW",
          "NNW",
          "SW",
          "SW",
          "SW",
          "SSW",
          "SSW",
          "S",
          "SE",
          "ESE",
          "ESE",
          "ESE",
          "ESE",
          "ESE",
          "SE",
          "W",
          "SSW",
          "S",
          "ENE",
          "ENE",
          "SSW",
          "ENE"
         ],
         "type": "barpolar"
        },
        {
         "customdata": [
          [
           "July, 2018"
          ],
          [
           "July, 2018"
          ],
          [
           "July, 2018"
          ],
          [
           "August, 2018"
          ],
          [
           "August, 2018"
          ],
          [
           "August, 2018"
          ],
          [
           "August, 2018"
          ],
          [
           "August, 2018"
          ],
          [
           "September, 2018"
          ],
          [
           "October, 2018"
          ],
          [
           "October, 2018"
          ],
          [
           "October, 2018"
          ],
          [
           "October, 2018"
          ],
          [
           "October, 2018"
          ],
          [
           "October, 2018"
          ],
          [
           "November, 2018"
          ],
          [
           "November, 2018"
          ],
          [
           "February, 2019"
          ],
          [
           "March, 2019"
          ],
          [
           "March, 2019"
          ],
          [
           "March, 2019"
          ],
          [
           "April, 2019"
          ],
          [
           "May, 2019"
          ],
          [
           "May, 2019"
          ],
          [
           "June, 2019"
          ]
         ],
         "hovertemplate": "<b>%{theta}</b><br>velocidade (km/h): %{r:.1f}<br>",
         "legendgroup": "25-30 km/h",
         "marker": {
          "color": "#bd3786"
         },
         "name": "25-30 km/h",
         "r": [
          27.97753793670888,
          28.973956754299078,
          28.31825737929467,
          26.74392570285807,
          27.99573347851409,
          29.536765327300053,
          29.89786803435996,
          26.03782143344572,
          29.00506335107688,
          25.235840802319693,
          26.73499872825881,
          26.04576541397853,
          28.404292650936238,
          26.817410408165678,
          29.38895229503769,
          29.467722171895502,
          28.28001882955521,
          28.186077502909193,
          28.05989208817462,
          26.84844714317781,
          27.871921803134192,
          26.586173568228933,
          29.625707924031005,
          29.79603255468807,
          26.630032012748092
         ],
         "showlegend": true,
         "subplot": "polar",
         "theta": [
          "SW",
          "W",
          "SW",
          "ENE",
          "ENE",
          "ENE",
          "SSW",
          "S",
          "NW",
          "E",
          "ENE",
          "E",
          "ENE",
          "S",
          "ENE",
          "E",
          "SSW",
          "ENE",
          "NNW",
          "SE",
          "ESE",
          "NNW",
          "E",
          "ENE",
          "WSW"
         ],
         "type": "barpolar"
        },
        {
         "customdata": [
          [
           "July, 2018"
          ],
          [
           "July, 2018"
          ],
          [
           "July, 2018"
          ],
          [
           "July, 2018"
          ],
          [
           "September, 2018"
          ],
          [
           "October, 2018"
          ],
          [
           "October, 2018"
          ],
          [
           "October, 2018"
          ],
          [
           "October, 2018"
          ],
          [
           "November, 2018"
          ],
          [
           "November, 2018"
          ],
          [
           "November, 2018"
          ],
          [
           "November, 2018"
          ],
          [
           "November, 2018"
          ],
          [
           "November, 2018"
          ],
          [
           "March, 2019"
          ],
          [
           "March, 2019"
          ],
          [
           "May, 2019"
          ],
          [
           "May, 2019"
          ],
          [
           "June, 2019"
          ]
         ],
         "hovertemplate": "<b>%{theta}</b><br>velocidade (km/h): %{r:.1f}<br>",
         "legendgroup": "30-35 km/h",
         "marker": {
          "color": "#9c179e"
         },
         "name": "30-35 km/h",
         "r": [
          31.41922102789937,
          34.76841246016229,
          33.138799404927106,
          33.01547674954852,
          33.26565153427761,
          30.658897713388,
          33.09170560729672,
          30.62358197533405,
          33.22704010290425,
          30.150160281498284,
          34.00388655727488,
          33.29306714617953,
          34.543718575162394,
          31.524058241286593,
          34.95222706781386,
          32.079167694938825,
          34.78976523347072,
          33.84251487404569,
          32.20887570220353,
          30.883687360805936
         ],
         "showlegend": true,
         "subplot": "polar",
         "theta": [
          "SW",
          "WSW",
          "WSW",
          "WSW",
          "NW",
          "WSW",
          "S",
          "ENE",
          "ENE",
          "ESE",
          "E",
          "ESE",
          "E",
          "E",
          "ENE",
          "SSE",
          "SSE",
          "E",
          "ENE",
          "SSW"
         ],
         "type": "barpolar"
        },
        {
         "customdata": [
          [
           "July, 2018"
          ],
          [
           "October, 2018"
          ],
          [
           "October, 2018"
          ],
          [
           "October, 2018"
          ],
          [
           "October, 2018"
          ],
          [
           "November, 2018"
          ],
          [
           "November, 2018"
          ],
          [
           "November, 2018"
          ],
          [
           "November, 2018"
          ],
          [
           "November, 2018"
          ],
          [
           "May, 2019"
          ],
          [
           "May, 2019"
          ],
          [
           "May, 2019"
          ],
          [
           "May, 2019"
          ],
          [
           "May, 2019"
          ],
          [
           "May, 2019"
          ]
         ],
         "hovertemplate": "<b>%{theta}</b><br>velocidade (km/h): %{r:.1f}<br>",
         "legendgroup": "35-40 km/h",
         "marker": {
          "color": "#7201a8"
         },
         "name": "35-40 km/h",
         "r": [
          36.05235420884468,
          38.78603099055097,
          38.01383813823593,
          38.62719727083496,
          35.841188108097185,
          35.06132708555148,
          35.74827159458239,
          39.06471048145628,
          36.49893327208376,
          38.12113350885551,
          39.06864812096777,
          39.66462999953489,
          38.235065058137394,
          36.38700054964745,
          36.610378883589924,
          39.210004501402715
         ],
         "showlegend": true,
         "subplot": "polar",
         "theta": [
          "SW",
          "SW",
          "SSW",
          "S",
          "S",
          "E",
          "E",
          "E",
          "ENE",
          "SSW",
          "E",
          "E",
          "E",
          "ENE",
          "ENE",
          "E"
         ],
         "type": "barpolar"
        },
        {
         "customdata": [
          [
           "October, 2018"
          ],
          [
           "May, 2019"
          ]
         ],
         "hovertemplate": "<b>%{theta}</b><br>velocidade (km/h): %{r:.1f}<br>",
         "legendgroup": "40-45 km/h",
         "marker": {
          "color": "#46039f"
         },
         "name": "40-45 km/h",
         "r": [
          40.17211276495183,
          40.437175593753146
         ],
         "showlegend": true,
         "subplot": "polar",
         "theta": [
          "S",
          "E"
         ],
         "type": "barpolar"
        }
       ],
       "layout": {
        "annotations": [
         {
          "font": {
           "color": "black",
           "size": 14
          },
          "showarrow": false,
          "text": "<b>Altitude: 659m",
          "x": 0.01,
          "xref": "paper",
          "y": 0.95,
          "yref": "paper"
         }
        ],
        "autosize": true,
        "barmode": "relative",
        "font": {
         "family": "Open Sans"
        },
        "legend": {
         "title": {
          "font": {
           "size": 14
          },
          "text": "<b>Velocidade"
         },
         "tracegroupgap": 0,
         "traceorder": "reversed",
         "x": 1.1,
         "xanchor": "right",
         "y": 0.99,
         "yanchor": "top"
        },
        "margin": {
         "t": 60
        },
        "paper_bgcolor": "rgba(0, 0, 0, 0)",
        "polar": {
         "angularaxis": {
          "categoryarray": [
           "N",
           "NNE",
           "NE",
           "ENE",
           "E",
           "ESE",
           "SE",
           "SSE",
           "S",
           "SSW",
           "SW",
           "WSW",
           "W",
           "WNW",
           "NW",
           "NNW"
          ],
          "categoryorder": "array",
          "direction": "clockwise",
          "rotation": 90,
          "tickfont": {
           "size": 15
          },
          "type": "category"
         },
         "domain": {
          "x": [
           0,
           1
          ],
          "y": [
           0,
           1
          ]
         },
         "radialaxis": {
          "autorange": true,
          "range": [
           0,
           962.5701944993701
          ],
          "showticklabels": false,
          "type": "linear"
         }
        },
        "template": {
         "data": {
          "bar": [
           {
            "error_x": {
             "color": "#2a3f5f"
            },
            "error_y": {
             "color": "#2a3f5f"
            },
            "marker": {
             "line": {
              "color": "#E5ECF6",
              "width": 0.5
             }
            },
            "type": "bar"
           }
          ],
          "barpolar": [
           {
            "marker": {
             "line": {
              "color": "#E5ECF6",
              "width": 0.5
             }
            },
            "type": "barpolar"
           }
          ],
          "carpet": [
           {
            "aaxis": {
             "endlinecolor": "#2a3f5f",
             "gridcolor": "white",
             "linecolor": "white",
             "minorgridcolor": "white",
             "startlinecolor": "#2a3f5f"
            },
            "baxis": {
             "endlinecolor": "#2a3f5f",
             "gridcolor": "white",
             "linecolor": "white",
             "minorgridcolor": "white",
             "startlinecolor": "#2a3f5f"
            },
            "type": "carpet"
           }
          ],
          "choropleth": [
           {
            "colorbar": {
             "outlinewidth": 0,
             "ticks": ""
            },
            "type": "choropleth"
           }
          ],
          "contour": [
           {
            "colorbar": {
             "outlinewidth": 0,
             "ticks": ""
            },
            "colorscale": [
             [
              0,
              "#0d0887"
             ],
             [
              0.1111111111111111,
              "#46039f"
             ],
             [
              0.2222222222222222,
              "#7201a8"
             ],
             [
              0.3333333333333333,
              "#9c179e"
             ],
             [
              0.4444444444444444,
              "#bd3786"
             ],
             [
              0.5555555555555556,
              "#d8576b"
             ],
             [
              0.6666666666666666,
              "#ed7953"
             ],
             [
              0.7777777777777778,
              "#fb9f3a"
             ],
             [
              0.8888888888888888,
              "#fdca26"
             ],
             [
              1,
              "#f0f921"
             ]
            ],
            "type": "contour"
           }
          ],
          "contourcarpet": [
           {
            "colorbar": {
             "outlinewidth": 0,
             "ticks": ""
            },
            "type": "contourcarpet"
           }
          ],
          "heatmap": [
           {
            "colorbar": {
             "outlinewidth": 0,
             "ticks": ""
            },
            "colorscale": [
             [
              0,
              "#0d0887"
             ],
             [
              0.1111111111111111,
              "#46039f"
             ],
             [
              0.2222222222222222,
              "#7201a8"
             ],
             [
              0.3333333333333333,
              "#9c179e"
             ],
             [
              0.4444444444444444,
              "#bd3786"
             ],
             [
              0.5555555555555556,
              "#d8576b"
             ],
             [
              0.6666666666666666,
              "#ed7953"
             ],
             [
              0.7777777777777778,
              "#fb9f3a"
             ],
             [
              0.8888888888888888,
              "#fdca26"
             ],
             [
              1,
              "#f0f921"
             ]
            ],
            "type": "heatmap"
           }
          ],
          "heatmapgl": [
           {
            "colorbar": {
             "outlinewidth": 0,
             "ticks": ""
            },
            "colorscale": [
             [
              0,
              "#0d0887"
             ],
             [
              0.1111111111111111,
              "#46039f"
             ],
             [
              0.2222222222222222,
              "#7201a8"
             ],
             [
              0.3333333333333333,
              "#9c179e"
             ],
             [
              0.4444444444444444,
              "#bd3786"
             ],
             [
              0.5555555555555556,
              "#d8576b"
             ],
             [
              0.6666666666666666,
              "#ed7953"
             ],
             [
              0.7777777777777778,
              "#fb9f3a"
             ],
             [
              0.8888888888888888,
              "#fdca26"
             ],
             [
              1,
              "#f0f921"
             ]
            ],
            "type": "heatmapgl"
           }
          ],
          "histogram": [
           {
            "marker": {
             "colorbar": {
              "outlinewidth": 0,
              "ticks": ""
             }
            },
            "type": "histogram"
           }
          ],
          "histogram2d": [
           {
            "colorbar": {
             "outlinewidth": 0,
             "ticks": ""
            },
            "colorscale": [
             [
              0,
              "#0d0887"
             ],
             [
              0.1111111111111111,
              "#46039f"
             ],
             [
              0.2222222222222222,
              "#7201a8"
             ],
             [
              0.3333333333333333,
              "#9c179e"
             ],
             [
              0.4444444444444444,
              "#bd3786"
             ],
             [
              0.5555555555555556,
              "#d8576b"
             ],
             [
              0.6666666666666666,
              "#ed7953"
             ],
             [
              0.7777777777777778,
              "#fb9f3a"
             ],
             [
              0.8888888888888888,
              "#fdca26"
             ],
             [
              1,
              "#f0f921"
             ]
            ],
            "type": "histogram2d"
           }
          ],
          "histogram2dcontour": [
           {
            "colorbar": {
             "outlinewidth": 0,
             "ticks": ""
            },
            "colorscale": [
             [
              0,
              "#0d0887"
             ],
             [
              0.1111111111111111,
              "#46039f"
             ],
             [
              0.2222222222222222,
              "#7201a8"
             ],
             [
              0.3333333333333333,
              "#9c179e"
             ],
             [
              0.4444444444444444,
              "#bd3786"
             ],
             [
              0.5555555555555556,
              "#d8576b"
             ],
             [
              0.6666666666666666,
              "#ed7953"
             ],
             [
              0.7777777777777778,
              "#fb9f3a"
             ],
             [
              0.8888888888888888,
              "#fdca26"
             ],
             [
              1,
              "#f0f921"
             ]
            ],
            "type": "histogram2dcontour"
           }
          ],
          "mesh3d": [
           {
            "colorbar": {
             "outlinewidth": 0,
             "ticks": ""
            },
            "type": "mesh3d"
           }
          ],
          "parcoords": [
           {
            "line": {
             "colorbar": {
              "outlinewidth": 0,
              "ticks": ""
             }
            },
            "type": "parcoords"
           }
          ],
          "pie": [
           {
            "automargin": true,
            "type": "pie"
           }
          ],
          "scatter": [
           {
            "marker": {
             "colorbar": {
              "outlinewidth": 0,
              "ticks": ""
             }
            },
            "type": "scatter"
           }
          ],
          "scatter3d": [
           {
            "line": {
             "colorbar": {
              "outlinewidth": 0,
              "ticks": ""
             }
            },
            "marker": {
             "colorbar": {
              "outlinewidth": 0,
              "ticks": ""
             }
            },
            "type": "scatter3d"
           }
          ],
          "scattercarpet": [
           {
            "marker": {
             "colorbar": {
              "outlinewidth": 0,
              "ticks": ""
             }
            },
            "type": "scattercarpet"
           }
          ],
          "scattergeo": [
           {
            "marker": {
             "colorbar": {
              "outlinewidth": 0,
              "ticks": ""
             }
            },
            "type": "scattergeo"
           }
          ],
          "scattergl": [
           {
            "marker": {
             "colorbar": {
              "outlinewidth": 0,
              "ticks": ""
             }
            },
            "type": "scattergl"
           }
          ],
          "scattermapbox": [
           {
            "marker": {
             "colorbar": {
              "outlinewidth": 0,
              "ticks": ""
             }
            },
            "type": "scattermapbox"
           }
          ],
          "scatterpolar": [
           {
            "marker": {
             "colorbar": {
              "outlinewidth": 0,
              "ticks": ""
             }
            },
            "type": "scatterpolar"
           }
          ],
          "scatterpolargl": [
           {
            "marker": {
             "colorbar": {
              "outlinewidth": 0,
              "ticks": ""
             }
            },
            "type": "scatterpolargl"
           }
          ],
          "scatterternary": [
           {
            "marker": {
             "colorbar": {
              "outlinewidth": 0,
              "ticks": ""
             }
            },
            "type": "scatterternary"
           }
          ],
          "surface": [
           {
            "colorbar": {
             "outlinewidth": 0,
             "ticks": ""
            },
            "colorscale": [
             [
              0,
              "#0d0887"
             ],
             [
              0.1111111111111111,
              "#46039f"
             ],
             [
              0.2222222222222222,
              "#7201a8"
             ],
             [
              0.3333333333333333,
              "#9c179e"
             ],
             [
              0.4444444444444444,
              "#bd3786"
             ],
             [
              0.5555555555555556,
              "#d8576b"
             ],
             [
              0.6666666666666666,
              "#ed7953"
             ],
             [
              0.7777777777777778,
              "#fb9f3a"
             ],
             [
              0.8888888888888888,
              "#fdca26"
             ],
             [
              1,
              "#f0f921"
             ]
            ],
            "type": "surface"
           }
          ],
          "table": [
           {
            "cells": {
             "fill": {
              "color": "#EBF0F8"
             },
             "line": {
              "color": "white"
             }
            },
            "header": {
             "fill": {
              "color": "#C8D4E3"
             },
             "line": {
              "color": "white"
             }
            },
            "type": "table"
           }
          ]
         },
         "layout": {
          "annotationdefaults": {
           "arrowcolor": "#2a3f5f",
           "arrowhead": 0,
           "arrowwidth": 1
          },
          "coloraxis": {
           "colorbar": {
            "outlinewidth": 0,
            "ticks": ""
           }
          },
          "colorscale": {
           "diverging": [
            [
             0,
             "#8e0152"
            ],
            [
             0.1,
             "#c51b7d"
            ],
            [
             0.2,
             "#de77ae"
            ],
            [
             0.3,
             "#f1b6da"
            ],
            [
             0.4,
             "#fde0ef"
            ],
            [
             0.5,
             "#f7f7f7"
            ],
            [
             0.6,
             "#e6f5d0"
            ],
            [
             0.7,
             "#b8e186"
            ],
            [
             0.8,
             "#7fbc41"
            ],
            [
             0.9,
             "#4d9221"
            ],
            [
             1,
             "#276419"
            ]
           ],
           "sequential": [
            [
             0,
             "#0d0887"
            ],
            [
             0.1111111111111111,
             "#46039f"
            ],
            [
             0.2222222222222222,
             "#7201a8"
            ],
            [
             0.3333333333333333,
             "#9c179e"
            ],
            [
             0.4444444444444444,
             "#bd3786"
            ],
            [
             0.5555555555555556,
             "#d8576b"
            ],
            [
             0.6666666666666666,
             "#ed7953"
            ],
            [
             0.7777777777777778,
             "#fb9f3a"
            ],
            [
             0.8888888888888888,
             "#fdca26"
            ],
            [
             1,
             "#f0f921"
            ]
           ],
           "sequentialminus": [
            [
             0,
             "#0d0887"
            ],
            [
             0.1111111111111111,
             "#46039f"
            ],
            [
             0.2222222222222222,
             "#7201a8"
            ],
            [
             0.3333333333333333,
             "#9c179e"
            ],
            [
             0.4444444444444444,
             "#bd3786"
            ],
            [
             0.5555555555555556,
             "#d8576b"
            ],
            [
             0.6666666666666666,
             "#ed7953"
            ],
            [
             0.7777777777777778,
             "#fb9f3a"
            ],
            [
             0.8888888888888888,
             "#fdca26"
            ],
            [
             1,
             "#f0f921"
            ]
           ]
          },
          "colorway": [
           "#636efa",
           "#EF553B",
           "#00cc96",
           "#ab63fa",
           "#FFA15A",
           "#19d3f3",
           "#FF6692",
           "#B6E880",
           "#FF97FF",
           "#FECB52"
          ],
          "font": {
           "color": "#2a3f5f"
          },
          "geo": {
           "bgcolor": "white",
           "lakecolor": "white",
           "landcolor": "#E5ECF6",
           "showlakes": true,
           "showland": true,
           "subunitcolor": "white"
          },
          "hoverlabel": {
           "align": "left"
          },
          "hovermode": "closest",
          "mapbox": {
           "style": "light"
          },
          "paper_bgcolor": "white",
          "plot_bgcolor": "#E5ECF6",
          "polar": {
           "angularaxis": {
            "gridcolor": "white",
            "linecolor": "white",
            "ticks": ""
           },
           "bgcolor": "#E5ECF6",
           "radialaxis": {
            "gridcolor": "white",
            "linecolor": "white",
            "ticks": ""
           }
          },
          "scene": {
           "xaxis": {
            "backgroundcolor": "#E5ECF6",
            "gridcolor": "white",
            "gridwidth": 2,
            "linecolor": "white",
            "showbackground": true,
            "ticks": "",
            "zerolinecolor": "white"
           },
           "yaxis": {
            "backgroundcolor": "#E5ECF6",
            "gridcolor": "white",
            "gridwidth": 2,
            "linecolor": "white",
            "showbackground": true,
            "ticks": "",
            "zerolinecolor": "white"
           },
           "zaxis": {
            "backgroundcolor": "#E5ECF6",
            "gridcolor": "white",
            "gridwidth": 2,
            "linecolor": "white",
            "showbackground": true,
            "ticks": "",
            "zerolinecolor": "white"
           }
          },
          "shapedefaults": {
           "line": {
            "color": "#2a3f5f"
           }
          },
          "ternary": {
           "aaxis": {
            "gridcolor": "white",
            "linecolor": "white",
            "ticks": ""
           },
           "baxis": {
            "gridcolor": "white",
            "linecolor": "white",
            "ticks": ""
           },
           "bgcolor": "#E5ECF6",
           "caxis": {
            "gridcolor": "white",
            "linecolor": "white",
            "ticks": ""
           }
          },
          "title": {
           "x": 0.05
          },
          "xaxis": {
           "automargin": true,
           "gridcolor": "white",
           "linecolor": "white",
           "ticks": "",
           "title": {
            "standoff": 15
           },
           "zerolinecolor": "white",
           "zerolinewidth": 2
          },
          "yaxis": {
           "automargin": true,
           "gridcolor": "white",
           "linecolor": "white",
           "ticks": "",
           "title": {
            "standoff": 15
           },
           "zerolinecolor": "white",
           "zerolinewidth": 2
          }
         }
        },
        "title": {
         "text": "<b>Distribuição das massas de ar resultantes em chuva no Soberbo",
         "x": 0.5,
         "xref": "paper",
         "y": 0.98
        }
       }
      },
      "image/png": "[encoded data removed]",
      "text/html": [
       "<div>                            <div id=\"544edcf9-29e8-4745-95c1-910bd2b79767\" class=\"plotly-graph-div\" style=\"height:525px; width:100%;\"></div>            <script type=\"text/javascript\">                require([\"plotly\"], function(Plotly) {                    window.PLOTLYENV=window.PLOTLYENV || {};                                    if (document.getElementById(\"544edcf9-29e8-4745-95c1-910bd2b79767\")) {                    Plotly.newPlot(                        \"544edcf9-29e8-4745-95c1-910bd2b79767\",                        [{\"customdata\": [[\"September, 2018\"], [\"September, 2018\"], [\"September, 2018\"], [\"October, 2018\"], [\"November, 2018\"], [\"January, 2019\"], [\"February, 2019\"], [\"February, 2019\"], [\"February, 2019\"], [\"February, 2019\"], [\"February, 2019\"], [\"February, 2019\"], [\"March, 2019\"], [\"March, 2019\"], [\"April, 2019\"], [\"May, 2019\"], [\"May, 2019\"], [\"May, 2019\"], [\"May, 2019\"]], \"hovertemplate\": \"<b>%{theta}</b><br>velocidade (km/h): %{r:.1f}<br>\", \"legendgroup\": \"0-5 km/h\", \"marker\": {\"color\": \"#f0f921\"}, \"name\": \"0-5 km/h\", \"r\": [4.945072800273213, 4.2342897869654355, 4.471908429294965, 1.114115344118415, 2.550160191046591, 1.981244558352116, 1.400951462399714, 1.3547534831110033, 3.6049999999999423, 3.0624101619474167, 4.313720667822305, 2.7886191923603585, 4.204116316183201, 4.5425218766671565, 4.575101856789834, 2.402352180676564, 3.0432970607551115, 1.4309217309136297, 3.1996382608044684], \"showlegend\": true, \"subplot\": \"polar\", \"theta\": [\"S\", \"NW\", \"W\", \"WNW\", \"SW\", \"NNW\", \"NNE\", \"E\", \"NW\", \"NNW\", \"WNW\", \"W\", \"WSW\", \"WSW\", \"SSE\", \"ESE\", \"ESE\", \"SSE\", \"E\"], \"type\": \"barpolar\"}, {\"customdata\": [[\"August, 2018\"], [\"August, 2018\"], [\"August, 2018\"], [\"August, 2018\"], [\"August, 2018\"], [\"August, 2018\"], [\"September, 2018\"], [\"September, 2018\"], [\"October, 2018\"], [\"October, 2018\"], [\"October, 2018\"], [\"October, 2018\"], [\"October, 2018\"], [\"November, 2018\"], [\"November, 2018\"], [\"November, 2018\"], [\"November, 2018\"], [\"November, 2018\"], [\"December, 2018\"], [\"December, 2018\"], [\"December, 2018\"], [\"December, 2018\"], [\"December, 2018\"], [\"December, 2018\"], [\"January, 2019\"], [\"January, 2019\"], [\"January, 2019\"], [\"January, 2019\"], [\"January, 2019\"], [\"January, 2019\"], [\"January, 2019\"], [\"January, 2019\"], [\"January, 2019\"], [\"February, 2019\"], [\"February, 2019\"], [\"February, 2019\"], [\"February, 2019\"], [\"February, 2019\"], [\"March, 2019\"], [\"April, 2019\"], [\"April, 2019\"], [\"April, 2019\"], [\"May, 2019\"], [\"May, 2019\"], [\"June, 2019\"], [\"June, 2019\"]], \"hovertemplate\": \"<b>%{theta}</b><br>velocidade (km/h): %{r:.1f}<br>\", \"legendgroup\": \"5-10 km/h\", \"marker\": {\"color\": \"#fdca26\"}, \"name\": \"5-10 km/h\", \"r\": [5.9285425696369565, 7.210735676753117, 7.666411155162705, 8.958631870994779, 6.286376142103226, 7.359276119293439, 9.345795685761457, 8.66976153074585, 8.121339359982514, 7.656025404868989, 7.233504544824658, 7.955041483235828, 7.198955827062771, 9.769266297936632, 9.843373253108027, 6.5952179645559035, 9.296284956906044, 7.796086261708528, 9.547938887529922, 9.097296796301585, 8.53658134149738, 9.980375794528378, 7.0297028386696585, 8.827406470759431, 7.561210286719848, 7.575928325954715, 5.9508690121692975, 9.029405572904622, 5.830200339610815, 8.949153088421374, 5.6462416703507055, 8.137000000000063, 8.256078064068761, 7.136792626943656, 6.090950090092486, 7.295570779589354, 6.245741989547764, 8.896839270212507, 5.642482521018732, 6.679135048791852, 7.065830029091124, 7.599697099227099, 9.456387312287806, 9.628158806334666, 8.074175190073433, 8.484849674566979], \"showlegend\": true, \"subplot\": \"polar\", \"theta\": [\"S\", \"SE\", \"SSE\", \"SSE\", \"SE\", \"S\", \"SSW\", \"NNW\", \"SSW\", \"S\", \"SSW\", \"S\", \"SE\", \"SW\", \"SSE\", \"SSW\", \"S\", \"ENE\", \"ENE\", \"ENE\", \"SE\", \"SSE\", \"SW\", \"ESE\", \"NE\", \"NE\", \"WNW\", \"NNE\", \"SSW\", \"NNW\", \"ESE\", \"N\", \"N\", \"WNW\", \"WSW\", \"NNW\", \"NNW\", \"SSW\", \"ESE\", \"ESE\", \"ESE\", \"SSE\", \"WSW\", \"SW\", \"SSW\", \"S\"], \"type\": \"barpolar\"}, {\"customdata\": [[\"July, 2018\"], [\"July, 2018\"], [\"August, 2018\"], [\"August, 2018\"], [\"August, 2018\"], [\"August, 2018\"], [\"August, 2018\"], [\"August, 2018\"], [\"September, 2018\"], [\"September, 2018\"], [\"September, 2018\"], [\"October, 2018\"], [\"October, 2018\"], [\"October, 2018\"], [\"October, 2018\"], [\"October, 2018\"], [\"October, 2018\"], [\"October, 2018\"], [\"October, 2018\"], [\"November, 2018\"], [\"November, 2018\"], [\"November, 2018\"], [\"November, 2018\"], [\"November, 2018\"], [\"November, 2018\"], [\"November, 2018\"], [\"December, 2018\"], [\"December, 2018\"], [\"December, 2018\"], [\"December, 2018\"], [\"December, 2018\"], [\"December, 2018\"], [\"December, 2018\"], [\"December, 2018\"], [\"December, 2018\"], [\"December, 2018\"], [\"December, 2018\"], [\"December, 2018\"], [\"December, 2018\"], [\"December, 2018\"], [\"December, 2018\"], [\"December, 2018\"], [\"December, 2018\"], [\"December, 2018\"], [\"December, 2018\"], [\"December, 2018\"], [\"December, 2018\"], [\"December, 2018\"], [\"December, 2018\"], [\"December, 2018\"], [\"December, 2018\"], [\"December, 2018\"], [\"January, 2019\"], [\"January, 2019\"], [\"January, 2019\"], [\"January, 2019\"], [\"January, 2019\"], [\"January, 2019\"], [\"January, 2019\"], [\"January, 2019\"], [\"January, 2019\"], [\"February, 2019\"], [\"February, 2019\"], [\"February, 2019\"], [\"February, 2019\"], [\"February, 2019\"], [\"February, 2019\"], [\"February, 2019\"], [\"February, 2019\"], [\"February, 2019\"], [\"March, 2019\"], [\"March, 2019\"], [\"March, 2019\"], [\"March, 2019\"], [\"March, 2019\"], [\"March, 2019\"], [\"March, 2019\"], [\"March, 2019\"], [\"April, 2019\"], [\"April, 2019\"], [\"April, 2019\"], [\"April, 2019\"], [\"May, 2019\"], [\"May, 2019\"], [\"June, 2019\"]], \"hovertemplate\": \"<b>%{theta}</b><br>velocidade (km/h): %{r:.1f}<br>\", \"legendgroup\": \"10-15 km/h\", \"marker\": {\"color\": \"#fb9f3a\"}, \"name\": \"10-15 km/h\", \"r\": [10.941780705168783, 13.14047502946574, 12.75080095523421, 14.432134180363214, 11.662220200288134, 12.309254160996078, 11.778535265473824, 14.559479008536155, 12.142210383616302, 14.69438590074466, 14.78507507589998, 13.455206613054939, 13.610038207146726, 12.60183006551046, 13.288596803274665, 12.53599286055948, 13.805458521903091, 10.999802043673325, 12.546144148701437, 10.457924316039174, 13.699387212572642, 12.142210383616302, 13.140878699691507, 10.102404664237024, 11.68403235188968, 14.472874489886308, 14.630714029055278, 14.915452725277946, 14.154163910312658, 12.04219336333708, 12.189300431116026, 12.155745637352126, 11.857532500482476, 14.259084297387595, 13.929393418236305, 12.412247902777269, 11.10347643758472, 10.109753013798256, 11.334212853127413, 14.986057553606242, 14.177006207235909, 11.148768721253694, 12.22883739363653, 13.499288610886168, 11.10204314529568, 10.252510521819113, 11.562638885652252, 11.655395531684267, 14.820909047693686, 13.841145978567045, 14.688970079620914, 12.04791840941844, 10.83068386575856, 12.292004637161488, 11.976380087488806, 12.260894339321311, 10.455895227095388, 10.100304153836518, 11.53691960620382, 10.205839602894065, 14.223326650260663, 14.878420413471662, 13.711772241399188, 13.27541743223183, 13.245816018652846, 10.732777925588307, 14.511672887713427, 14.708818341389529, 10.431006854565977, 14.495214555155805, 10.281959200463627, 14.98641151176605, 11.440421014980151, 13.81006853712143, 12.66941869226834, 11.715316171576426, 12.181900180185428, 12.695768468273284, 14.864152649915798, 14.309217309133404, 12.437010090853974, 10.976630311712404, 14.213253603591372, 14.213253603591372, 11.377654327671962], \"showlegend\": true, \"subplot\": \"polar\", \"theta\": [\"E\", \"E\", null, \"SSE\", \"ESE\", \"E\", \"E\", \"S\", \"W\", \"NNE\", \"SW\", \"SSW\", \"SW\", \"SW\", \"SW\", \"SSE\", \"SW\", \"SW\", \"S\", \"SSE\", \"S\", \"S\", \"SE\", \"E\", \"E\", \"E\", \"SSW\", \"SSW\", \"SSW\", \"ESE\", \"E\", \"E\", \"E\", \"S\", \"S\", \"E\", \"NW\", \"S\", \"E\", \"S\", \"SSE\", \"SSE\", \"SSE\", \"S\", \"SSE\", \"ESE\", \"ESE\", \"NE\", \"ENE\", \"NE\", \"NE\", \"NNE\", \"NNE\", null, null, \"NE\", \"NNW\", \"ENE\", \"ENE\", \"NE\", \"E\", \"SSE\", \"SE\", \"SE\", \"NW\", \"NW\", \"SSW\", \"SSW\", null, \"N\", \"E\", \"SSW\", \"ESE\", \"SSW\", \"SSW\", \"SSW\", \"SSW\", \"S\", \"SSW\", \"SSW\", \"SSE\", \"E\", \"SSE\", \"SSE\", \"WSW\"], \"type\": \"barpolar\"}, {\"customdata\": [[\"July, 2018\"], [\"July, 2018\"], [\"August, 2018\"], [\"August, 2018\"], [\"August, 2018\"], [\"August, 2018\"], [\"August, 2018\"], [\"September, 2018\"], [\"September, 2018\"], [\"September, 2018\"], [\"September, 2018\"], [\"September, 2018\"], [\"September, 2018\"], [\"September, 2018\"], [\"October, 2018\"], [\"October, 2018\"], [\"October, 2018\"], [\"October, 2018\"], [\"October, 2018\"], [\"October, 2018\"], [\"October, 2018\"], [\"October, 2018\"], [\"October, 2018\"], [\"October, 2018\"], [\"November, 2018\"], [\"November, 2018\"], [\"November, 2018\"], [\"November, 2018\"], [\"November, 2018\"], [\"November, 2018\"], [\"November, 2018\"], [\"November, 2018\"], [\"November, 2018\"], [\"November, 2018\"], [\"November, 2018\"], [\"December, 2018\"], [\"December, 2018\"], [\"December, 2018\"], [\"December, 2018\"], [\"December, 2018\"], [\"January, 2019\"], [\"January, 2019\"], [\"January, 2019\"], [\"February, 2019\"], [\"February, 2019\"], [\"February, 2019\"], [\"February, 2019\"], [\"February, 2019\"], [\"February, 2019\"], [\"February, 2019\"], [\"February, 2019\"], [\"February, 2019\"], [\"February, 2019\"], [\"February, 2019\"], [\"February, 2019\"], [\"March, 2019\"], [\"March, 2019\"], [\"March, 2019\"], [\"March, 2019\"], [\"March, 2019\"], [\"March, 2019\"], [\"March, 2019\"], [\"March, 2019\"], [\"March, 2019\"], [\"March, 2019\"], [\"March, 2019\"], [\"March, 2019\"], [\"March, 2019\"], [\"April, 2019\"], [\"April, 2019\"], [\"April, 2019\"], [\"April, 2019\"], [\"April, 2019\"], [\"April, 2019\"], [\"April, 2019\"], [\"April, 2019\"], [\"May, 2019\"], [\"May, 2019\"], [\"May, 2019\"], [\"May, 2019\"], [\"May, 2019\"], [\"May, 2019\"], [\"June, 2019\"], [\"June, 2019\"], [\"June, 2019\"], [\"June, 2019\"]], \"hovertemplate\": \"<b>%{theta}</b><br>velocidade (km/h): %{r:.1f}<br>\", \"legendgroup\": \"15-20 km/h\", \"marker\": {\"color\": \"#ed7953\"}, \"name\": \"15-20 km/h\", \"r\": [15.06830508053302, 17.67673264492068, 19.682704412758177, 19.844547865849734, 19.565120444300863, 17.841312619871953, 16.347174098296144, 17.437446745438088, 18.387447375859317, 18.00144174781564, 17.017146176724328, 19.74701000151662, 19.51163665610813, 19.579755463233067, 18.191386340793493, 19.39957901605089, 15.169001318478957, 16.975012488949858, 16.388656229234044, 16.097354596330682, 16.391245376724846, 16.467764207687356, 18.862784577044703, 16.826871396667787, 18.207999615553746, 18.135313865494748, 18.340074836270748, 18.60312309801787, 19.36646526860272, 16.730446975499607, 18.948641006678983, 16.463576191095186, 16.781731555474547, 16.030983001675338, 18.04882140196413, 15.807396275161695, 16.988756428885427, 16.730446975499607, 18.113070556921365, 16.603459428685472, 16.289963689339668, 15.471272022687893, 15.610532662276356, 15.352529205313456, 15.28465861574959, 17.898602543215716, 16.315668175101358, 18.900991138033127, 18.017641355072477, 16.313392197823358, 15.31378284422259, 15.523299455979346, 15.240171816616936, 16.128629203996287, 19.18483872749516, 17.168898188293422, 15.039410892718115, 15.744182576431365, 15.664468104599134, 19.748353070572804, 18.965709715167566, 16.030983001675338, 18.879368977802102, 19.156061729906927, 16.09504774767749, 16.25475761123532, 16.241698956698446, 15.764384700964987, 19.50728635664098, 18.632469401558108, 18.528552021137262, 17.86181561320116, 17.137974355214787, 18.69073998000073, 15.228681492499517, 16.608250961494974, 17.940932528717582, 18.690739980000913, 16.595790098696945, 15.244695930060626, 15.378420855211418, 15.30130781992233, 18.922027930430552, 15.588429843958574, 15.096089857973665, 16.160171533743448], \"showlegend\": true, \"subplot\": \"polar\", \"theta\": [\"ENE\", \"ENE\", \"E\", \"E\", \"E\", \"NW\", \"S\", \"W\", \"ENE\", \"NE\", null, \"WSW\", \"WSW\", \"N\", \"SSE\", \"SE\", \"SE\", \"SE\", \"SE\", \"SE\", \"SE\", \"WSW\", \"SSW\", \"SSW\", \"SSE\", \"SE\", \"ESE\", \"ESE\", \"S\", \"S\", \"SSW\", \"S\", \"ESE\", \"ESE\", \"ESE\", \"S\", \"S\", \"S\", \"ENE\", \"E\", \"N\", \"N\", \"NW\", \"S\", \"SE\", \"ESE\", \"ESE\", \"SE\", \"ESE\", \"E\", \"NE\", \"NE\", \"NNE\", \"SSW\", \"SSE\", \"WSW\", \"ESE\", \"SSW\", \"S\", \"SE\", \"SE\", \"ESE\", \"ESE\", \"SE\", \"ESE\", \"E\", \"E\", \"E\", \"W\", \"W\", \"W\", \"WSW\", \"SSW\", \"SSW\", \"SSW\", \"S\", \"SSE\", \"SSE\", \"SSE\", \"SSE\", \"SW\", \"ENE\", \"S\", \"ESE\", \"ESE\", \"E\"], \"type\": \"barpolar\"}, {\"customdata\": [[\"August, 2018\"], [\"August, 2018\"], [\"August, 2018\"], [\"August, 2018\"], [\"September, 2018\"], [\"September, 2018\"], [\"October, 2018\"], [\"October, 2018\"], [\"October, 2018\"], [\"November, 2018\"], [\"November, 2018\"], [\"November, 2018\"], [\"November, 2018\"], [\"November, 2018\"], [\"November, 2018\"], [\"November, 2018\"], [\"November, 2018\"], [\"November, 2018\"], [\"November, 2018\"], [\"December, 2018\"], [\"December, 2018\"], [\"December, 2018\"], [\"December, 2018\"], [\"December, 2018\"], [\"December, 2018\"], [\"February, 2019\"], [\"February, 2019\"], [\"February, 2019\"], [\"February, 2019\"], [\"February, 2019\"], [\"March, 2019\"], [\"March, 2019\"], [\"March, 2019\"], [\"March, 2019\"], [\"March, 2019\"], [\"March, 2019\"], [\"March, 2019\"], [\"March, 2019\"], [\"March, 2019\"], [\"March, 2019\"], [\"March, 2019\"], [\"March, 2019\"], [\"March, 2019\"], [\"March, 2019\"], [\"March, 2019\"], [\"April, 2019\"], [\"April, 2019\"], [\"April, 2019\"], [\"April, 2019\"], [\"April, 2019\"], [\"May, 2019\"], [\"May, 2019\"]], \"hovertemplate\": \"<b>%{theta}</b><br>velocidade (km/h): %{r:.1f}<br>\", \"legendgroup\": \"20-25 km/h\", \"marker\": {\"color\": \"#d8576b\"}, \"name\": \"20-25 km/h\", \"r\": [20.12194038854132, 23.669839247447317, 23.463210095807877, 20.736537512323643, 22.389650912866493, 20.561338721006955, 22.924616310857058, 21.575242594233004, 24.278740865209347, 22.099681536166802, 21.3386569399294, 21.171448934827485, 22.937801681940037, 21.825308703430125, 20.366410631233112, 20.020455264554297, 23.858900079425243, 20.932326889287733, 21.333933275418364, 24.62410985193174, 22.035501378457518, 20.612870979074934, 24.86484854166619, 23.48083750635828, 20.760569211849717, 22.81769672863648, 23.471799462333497, 23.022285724923233, 23.117248041235513, 20.064918165793504, 20.131428389460982, 23.636199779152328, 21.27218082378936, 20.051166375051764, 22.72358352021072, 24.214421570626076, 20.18011580739805, 20.838099001588503, 20.482761386102183, 21.800260847063228, 21.5941655546123, 23.639117094342318, 24.56263872225464, 21.986338599230685, 20.836826173868253, 21.164181746526193, 23.256113604813404, 23.06303173912736, 21.355802513603106, 20.46980859705337, 20.472399810476436, 24.751737959181852], \"showlegend\": true, \"subplot\": \"polar\", \"theta\": [\"ENE\", \"NE\", \"NE\", \"SSW\", \"ENE\", \"WSW\", \"SSE\", \"SSE\", \"SSW\", \"SSW\", \"S\", \"SSE\", \"SSE\", \"ESE\", \"SSW\", \"ESE\", \"SSW\", \"S\", \"ENE\", \"SSW\", \"SSW\", \"SW\", \"S\", \"S\", \"S\", \"E\", \"SSW\", \"S\", \"S\", \"WNW\", \"NNW\", \"NNW\", \"SW\", \"SW\", \"SW\", \"SSW\", \"SSW\", \"S\", \"SE\", \"ESE\", \"ESE\", \"ESE\", \"ESE\", \"ESE\", \"SE\", \"W\", \"SSW\", \"S\", \"ENE\", \"ENE\", \"SSW\", \"ENE\"], \"type\": \"barpolar\"}, {\"customdata\": [[\"July, 2018\"], [\"July, 2018\"], [\"July, 2018\"], [\"August, 2018\"], [\"August, 2018\"], [\"August, 2018\"], [\"August, 2018\"], [\"August, 2018\"], [\"September, 2018\"], [\"October, 2018\"], [\"October, 2018\"], [\"October, 2018\"], [\"October, 2018\"], [\"October, 2018\"], [\"October, 2018\"], [\"November, 2018\"], [\"November, 2018\"], [\"February, 2019\"], [\"March, 2019\"], [\"March, 2019\"], [\"March, 2019\"], [\"April, 2019\"], [\"May, 2019\"], [\"May, 2019\"], [\"June, 2019\"]], \"hovertemplate\": \"<b>%{theta}</b><br>velocidade (km/h): %{r:.1f}<br>\", \"legendgroup\": \"25-30 km/h\", \"marker\": {\"color\": \"#bd3786\"}, \"name\": \"25-30 km/h\", \"r\": [27.97753793670888, 28.973956754299078, 28.31825737929467, 26.74392570285807, 27.99573347851409, 29.536765327300053, 29.89786803435996, 26.03782143344572, 29.00506335107688, 25.235840802319693, 26.73499872825881, 26.04576541397853, 28.404292650936238, 26.817410408165678, 29.38895229503769, 29.467722171895502, 28.28001882955521, 28.186077502909193, 28.05989208817462, 26.84844714317781, 27.871921803134192, 26.586173568228933, 29.625707924031005, 29.79603255468807, 26.630032012748092], \"showlegend\": true, \"subplot\": \"polar\", \"theta\": [\"SW\", \"W\", \"SW\", \"ENE\", \"ENE\", \"ENE\", \"SSW\", \"S\", \"NW\", \"E\", \"ENE\", \"E\", \"ENE\", \"S\", \"ENE\", \"E\", \"SSW\", \"ENE\", \"NNW\", \"SE\", \"ESE\", \"NNW\", \"E\", \"ENE\", \"WSW\"], \"type\": \"barpolar\"}, {\"customdata\": [[\"July, 2018\"], [\"July, 2018\"], [\"July, 2018\"], [\"July, 2018\"], [\"September, 2018\"], [\"October, 2018\"], [\"October, 2018\"], [\"October, 2018\"], [\"October, 2018\"], [\"November, 2018\"], [\"November, 2018\"], [\"November, 2018\"], [\"November, 2018\"], [\"November, 2018\"], [\"November, 2018\"], [\"March, 2019\"], [\"March, 2019\"], [\"May, 2019\"], [\"May, 2019\"], [\"June, 2019\"]], \"hovertemplate\": \"<b>%{theta}</b><br>velocidade (km/h): %{r:.1f}<br>\", \"legendgroup\": \"30-35 km/h\", \"marker\": {\"color\": \"#9c179e\"}, \"name\": \"30-35 km/h\", \"r\": [31.41922102789937, 34.76841246016229, 33.138799404927106, 33.01547674954852, 33.26565153427761, 30.658897713388, 33.09170560729672, 30.62358197533405, 33.22704010290425, 30.150160281498284, 34.00388655727488, 33.29306714617953, 34.543718575162394, 31.524058241286593, 34.95222706781386, 32.079167694938825, 34.78976523347072, 33.84251487404569, 32.20887570220353, 30.883687360805936], \"showlegend\": true, \"subplot\": \"polar\", \"theta\": [\"SW\", \"WSW\", \"WSW\", \"WSW\", \"NW\", \"WSW\", \"S\", \"ENE\", \"ENE\", \"ESE\", \"E\", \"ESE\", \"E\", \"E\", \"ENE\", \"SSE\", \"SSE\", \"E\", \"ENE\", \"SSW\"], \"type\": \"barpolar\"}, {\"customdata\": [[\"July, 2018\"], [\"October, 2018\"], [\"October, 2018\"], [\"October, 2018\"], [\"October, 2018\"], [\"November, 2018\"], [\"November, 2018\"], [\"November, 2018\"], [\"November, 2018\"], [\"November, 2018\"], [\"May, 2019\"], [\"May, 2019\"], [\"May, 2019\"], [\"May, 2019\"], [\"May, 2019\"], [\"May, 2019\"]], \"hovertemplate\": \"<b>%{theta}</b><br>velocidade (km/h): %{r:.1f}<br>\", \"legendgroup\": \"35-40 km/h\", \"marker\": {\"color\": \"#7201a8\"}, \"name\": \"35-40 km/h\", \"r\": [36.05235420884468, 38.78603099055097, 38.01383813823593, 38.62719727083496, 35.841188108097185, 35.06132708555148, 35.74827159458239, 39.06471048145628, 36.49893327208376, 38.12113350885551, 39.06864812096777, 39.66462999953489, 38.235065058137394, 36.38700054964745, 36.610378883589924, 39.210004501402715], \"showlegend\": true, \"subplot\": \"polar\", \"theta\": [\"SW\", \"SW\", \"SSW\", \"S\", \"S\", \"E\", \"E\", \"E\", \"ENE\", \"SSW\", \"E\", \"E\", \"E\", \"ENE\", \"ENE\", \"E\"], \"type\": \"barpolar\"}, {\"customdata\": [[\"October, 2018\"], [\"May, 2019\"]], \"hovertemplate\": \"<b>%{theta}</b><br>velocidade (km/h): %{r:.1f}<br>\", \"legendgroup\": \"40-45 km/h\", \"marker\": {\"color\": \"#46039f\"}, \"name\": \"40-45 km/h\", \"r\": [40.17211276495183, 40.437175593753146], \"showlegend\": true, \"subplot\": \"polar\", \"theta\": [\"S\", \"E\"], \"type\": \"barpolar\"}],                        {\"annotations\": [{\"font\": {\"color\": \"black\", \"size\": 14}, \"showarrow\": false, \"text\": \"<b>Altitude: 659m\", \"x\": 0.01, \"xref\": \"paper\", \"y\": 0.95, \"yref\": \"paper\"}], \"barmode\": \"relative\", \"font\": {\"family\": \"Open Sans\"}, \"legend\": {\"title\": {\"font\": {\"size\": 14}, \"text\": \"<b>Velocidade\"}, \"tracegroupgap\": 0, \"traceorder\": \"reversed\", \"x\": 1.1, \"xanchor\": \"right\", \"y\": 0.99, \"yanchor\": \"top\"}, \"margin\": {\"t\": 60}, \"paper_bgcolor\": \"rgba(0, 0, 0, 0)\", \"polar\": {\"angularaxis\": {\"categoryarray\": [\"N\", \"NNE\", \"NE\", \"ENE\", \"E\", \"ESE\", \"SE\", \"SSE\", \"S\", \"SSW\", \"SW\", \"WSW\", \"W\", \"WNW\", \"NW\", \"NNW\"], \"categoryorder\": \"array\", \"direction\": \"clockwise\", \"rotation\": 90, \"tickfont\": {\"size\": 15}}, \"domain\": {\"x\": [0.0, 1.0], \"y\": [0.0, 1.0]}, \"radialaxis\": {\"showticklabels\": false}}, \"template\": {\"data\": {\"bar\": [{\"error_x\": {\"color\": \"#2a3f5f\"}, \"error_y\": {\"color\": \"#2a3f5f\"}, \"marker\": {\"line\": {\"color\": \"#E5ECF6\", \"width\": 0.5}}, \"type\": \"bar\"}], \"barpolar\": [{\"marker\": {\"line\": {\"color\": \"#E5ECF6\", \"width\": 0.5}}, \"type\": \"barpolar\"}], \"carpet\": [{\"aaxis\": {\"endlinecolor\": \"#2a3f5f\", \"gridcolor\": \"white\", \"linecolor\": \"white\", \"minorgridcolor\": \"white\", \"startlinecolor\": \"#2a3f5f\"}, \"baxis\": {\"endlinecolor\": \"#2a3f5f\", \"gridcolor\": \"white\", \"linecolor\": \"white\", \"minorgridcolor\": \"white\", \"startlinecolor\": \"#2a3f5f\"}, \"type\": \"carpet\"}], \"choropleth\": [{\"colorbar\": {\"outlinewidth\": 0, \"ticks\": \"\"}, \"type\": \"choropleth\"}], \"contour\": [{\"colorbar\": {\"outlinewidth\": 0, \"ticks\": \"\"}, \"colorscale\": [[0.0, \"#0d0887\"], [0.1111111111111111, \"#46039f\"], [0.2222222222222222, \"#7201a8\"], [0.3333333333333333, \"#9c179e\"], [0.4444444444444444, \"#bd3786\"], [0.5555555555555556, \"#d8576b\"], [0.6666666666666666, \"#ed7953\"], [0.7777777777777778, \"#fb9f3a\"], [0.8888888888888888, \"#fdca26\"], [1.0, \"#f0f921\"]], \"type\": \"contour\"}], \"contourcarpet\": [{\"colorbar\": {\"outlinewidth\": 0, \"ticks\": \"\"}, \"type\": \"contourcarpet\"}], \"heatmap\": [{\"colorbar\": {\"outlinewidth\": 0, \"ticks\": \"\"}, \"colorscale\": [[0.0, \"#0d0887\"], [0.1111111111111111, \"#46039f\"], [0.2222222222222222, \"#7201a8\"], [0.3333333333333333, \"#9c179e\"], [0.4444444444444444, \"#bd3786\"], [0.5555555555555556, \"#d8576b\"], [0.6666666666666666, \"#ed7953\"], [0.7777777777777778, \"#fb9f3a\"], [0.8888888888888888, \"#fdca26\"], [1.0, \"#f0f921\"]], \"type\": \"heatmap\"}], \"heatmapgl\": [{\"colorbar\": {\"outlinewidth\": 0, \"ticks\": \"\"}, \"colorscale\": [[0.0, \"#0d0887\"], [0.1111111111111111, \"#46039f\"], [0.2222222222222222, \"#7201a8\"], [0.3333333333333333, \"#9c179e\"], [0.4444444444444444, \"#bd3786\"], [0.5555555555555556, \"#d8576b\"], [0.6666666666666666, \"#ed7953\"], [0.7777777777777778, \"#fb9f3a\"], [0.8888888888888888, \"#fdca26\"], [1.0, \"#f0f921\"]], \"type\": \"heatmapgl\"}], \"histogram\": [{\"marker\": {\"colorbar\": {\"outlinewidth\": 0, \"ticks\": \"\"}}, \"type\": \"histogram\"}], \"histogram2d\": [{\"colorbar\": {\"outlinewidth\": 0, \"ticks\": \"\"}, \"colorscale\": [[0.0, \"#0d0887\"], [0.1111111111111111, \"#46039f\"], [0.2222222222222222, \"#7201a8\"], [0.3333333333333333, \"#9c179e\"], [0.4444444444444444, \"#bd3786\"], [0.5555555555555556, \"#d8576b\"], [0.6666666666666666, \"#ed7953\"], [0.7777777777777778, \"#fb9f3a\"], [0.8888888888888888, \"#fdca26\"], [1.0, \"#f0f921\"]], \"type\": \"histogram2d\"}], \"histogram2dcontour\": [{\"colorbar\": {\"outlinewidth\": 0, \"ticks\": \"\"}, \"colorscale\": [[0.0, \"#0d0887\"], [0.1111111111111111, \"#46039f\"], [0.2222222222222222, \"#7201a8\"], [0.3333333333333333, \"#9c179e\"], [0.4444444444444444, \"#bd3786\"], [0.5555555555555556, \"#d8576b\"], [0.6666666666666666, \"#ed7953\"], [0.7777777777777778, \"#fb9f3a\"], [0.8888888888888888, \"#fdca26\"], [1.0, \"#f0f921\"]], \"type\": \"histogram2dcontour\"}], \"mesh3d\": [{\"colorbar\": {\"outlinewidth\": 0, \"ticks\": \"\"}, \"type\": \"mesh3d\"}], \"parcoords\": [{\"line\": {\"colorbar\": {\"outlinewidth\": 0, \"ticks\": \"\"}}, \"type\": \"parcoords\"}], \"pie\": [{\"automargin\": true, \"type\": \"pie\"}], \"scatter\": [{\"marker\": {\"colorbar\": {\"outlinewidth\": 0, \"ticks\": \"\"}}, \"type\": \"scatter\"}], \"scatter3d\": [{\"line\": {\"colorbar\": {\"outlinewidth\": 0, \"ticks\": \"\"}}, \"marker\": {\"colorbar\": {\"outlinewidth\": 0, \"ticks\": \"\"}}, \"type\": \"scatter3d\"}], \"scattercarpet\": [{\"marker\": {\"colorbar\": {\"outlinewidth\": 0, \"ticks\": \"\"}}, \"type\": \"scattercarpet\"}], \"scattergeo\": [{\"marker\": {\"colorbar\": {\"outlinewidth\": 0, \"ticks\": \"\"}}, \"type\": \"scattergeo\"}], \"scattergl\": [{\"marker\": {\"colorbar\": {\"outlinewidth\": 0, \"ticks\": \"\"}}, \"type\": \"scattergl\"}], \"scattermapbox\": [{\"marker\": {\"colorbar\": {\"outlinewidth\": 0, \"ticks\": \"\"}}, \"type\": \"scattermapbox\"}], \"scatterpolar\": [{\"marker\": {\"colorbar\": {\"outlinewidth\": 0, \"ticks\": \"\"}}, \"type\": \"scatterpolar\"}], \"scatterpolargl\": [{\"marker\": {\"colorbar\": {\"outlinewidth\": 0, \"ticks\": \"\"}}, \"type\": \"scatterpolargl\"}], \"scatterternary\": [{\"marker\": {\"colorbar\": {\"outlinewidth\": 0, \"ticks\": \"\"}}, \"type\": \"scatterternary\"}], \"surface\": [{\"colorbar\": {\"outlinewidth\": 0, \"ticks\": \"\"}, \"colorscale\": [[0.0, \"#0d0887\"], [0.1111111111111111, \"#46039f\"], [0.2222222222222222, \"#7201a8\"], [0.3333333333333333, \"#9c179e\"], [0.4444444444444444, \"#bd3786\"], [0.5555555555555556, \"#d8576b\"], [0.6666666666666666, \"#ed7953\"], [0.7777777777777778, \"#fb9f3a\"], [0.8888888888888888, \"#fdca26\"], [1.0, \"#f0f921\"]], \"type\": \"surface\"}], \"table\": [{\"cells\": {\"fill\": {\"color\": \"#EBF0F8\"}, \"line\": {\"color\": \"white\"}}, \"header\": {\"fill\": {\"color\": \"#C8D4E3\"}, \"line\": {\"color\": \"white\"}}, \"type\": \"table\"}]}, \"layout\": {\"annotationdefaults\": {\"arrowcolor\": \"#2a3f5f\", \"arrowhead\": 0, \"arrowwidth\": 1}, \"coloraxis\": {\"colorbar\": {\"outlinewidth\": 0, \"ticks\": \"\"}}, \"colorscale\": {\"diverging\": [[0, \"#8e0152\"], [0.1, \"#c51b7d\"], [0.2, \"#de77ae\"], [0.3, \"#f1b6da\"], [0.4, \"#fde0ef\"], [0.5, \"#f7f7f7\"], [0.6, \"#e6f5d0\"], [0.7, \"#b8e186\"], [0.8, \"#7fbc41\"], [0.9, \"#4d9221\"], [1, \"#276419\"]], \"sequential\": [[0.0, \"#0d0887\"], [0.1111111111111111, \"#46039f\"], [0.2222222222222222, \"#7201a8\"], [0.3333333333333333, \"#9c179e\"], [0.4444444444444444, \"#bd3786\"], [0.5555555555555556, \"#d8576b\"], [0.6666666666666666, \"#ed7953\"], [0.7777777777777778, \"#fb9f3a\"], [0.8888888888888888, \"#fdca26\"], [1.0, \"#f0f921\"]], \"sequentialminus\": [[0.0, \"#0d0887\"], [0.1111111111111111, \"#46039f\"], [0.2222222222222222, \"#7201a8\"], [0.3333333333333333, \"#9c179e\"], [0.4444444444444444, \"#bd3786\"], [0.5555555555555556, \"#d8576b\"], [0.6666666666666666, \"#ed7953\"], [0.7777777777777778, \"#fb9f3a\"], [0.8888888888888888, \"#fdca26\"], [1.0, \"#f0f921\"]]}, \"colorway\": [\"#636efa\", \"#EF553B\", \"#00cc96\", \"#ab63fa\", \"#FFA15A\", \"#19d3f3\", \"#FF6692\", \"#B6E880\", \"#FF97FF\", \"#FECB52\"], \"font\": {\"color\": \"#2a3f5f\"}, \"geo\": {\"bgcolor\": \"white\", \"lakecolor\": \"white\", \"landcolor\": \"#E5ECF6\", \"showlakes\": true, \"showland\": true, \"subunitcolor\": \"white\"}, \"hoverlabel\": {\"align\": \"left\"}, \"hovermode\": \"closest\", \"mapbox\": {\"style\": \"light\"}, \"paper_bgcolor\": \"white\", \"plot_bgcolor\": \"#E5ECF6\", \"polar\": {\"angularaxis\": {\"gridcolor\": \"white\", \"linecolor\": \"white\", \"ticks\": \"\"}, \"bgcolor\": \"#E5ECF6\", \"radialaxis\": {\"gridcolor\": \"white\", \"linecolor\": \"white\", \"ticks\": \"\"}}, \"scene\": {\"xaxis\": {\"backgroundcolor\": \"#E5ECF6\", \"gridcolor\": \"white\", \"gridwidth\": 2, \"linecolor\": \"white\", \"showbackground\": true, \"ticks\": \"\", \"zerolinecolor\": \"white\"}, \"yaxis\": {\"backgroundcolor\": \"#E5ECF6\", \"gridcolor\": \"white\", \"gridwidth\": 2, \"linecolor\": \"white\", \"showbackground\": true, \"ticks\": \"\", \"zerolinecolor\": \"white\"}, \"zaxis\": {\"backgroundcolor\": \"#E5ECF6\", \"gridcolor\": \"white\", \"gridwidth\": 2, \"linecolor\": \"white\", \"showbackground\": true, \"ticks\": \"\", \"zerolinecolor\": \"white\"}}, \"shapedefaults\": {\"line\": {\"color\": \"#2a3f5f\"}}, \"ternary\": {\"aaxis\": {\"gridcolor\": \"white\", \"linecolor\": \"white\", \"ticks\": \"\"}, \"baxis\": {\"gridcolor\": \"white\", \"linecolor\": \"white\", \"ticks\": \"\"}, \"bgcolor\": \"#E5ECF6\", \"caxis\": {\"gridcolor\": \"white\", \"linecolor\": \"white\", \"ticks\": \"\"}}, \"title\": {\"x\": 0.05}, \"xaxis\": {\"automargin\": true, \"gridcolor\": \"white\", \"linecolor\": \"white\", \"ticks\": \"\", \"title\": {\"standoff\": 15}, \"zerolinecolor\": \"white\", \"zerolinewidth\": 2}, \"yaxis\": {\"automargin\": true, \"gridcolor\": \"white\", \"linecolor\": \"white\", \"ticks\": \"\", \"title\": {\"standoff\": 15}, \"zerolinecolor\": \"white\", \"zerolinewidth\": 2}}}, \"title\": {\"text\": \"<b>Distribui\\u00e7\\u00e3o das massas de ar resultantes em chuva no Soberbo\", \"x\": 0.5, \"xref\": \"paper\", \"y\": 0.98}},                        {\"responsive\": true}                    ).then(function(){\n",
       "                            \n",
       "var gd = document.getElementById('544edcf9-29e8-4745-95c1-910bd2b79767');\n",
       "var x = new MutationObserver(function (mutations, observer) {{\n",
       "        var display = window.getComputedStyle(gd).display;\n",
       "        if (!display || display === 'none') {{\n",
       "            console.log([gd, 'removed!']);\n",
       "            Plotly.purge(gd);\n",
       "            observer.disconnect();\n",
       "        }}\n",
       "}});\n",
       "\n",
       "// Listen for the removal of the full notebook cells\n",
       "var notebookContainer = gd.closest('#notebook-container');\n",
       "if (notebookContainer) {{\n",
       "    x.observe(notebookContainer, {childList: true});\n",
       "}}\n",
       "\n",
       "// Listen for the clearing of the current output cell\n",
       "var outputEl = gd.closest('.output');\n",
       "if (outputEl) {{\n",
       "    x.observe(outputEl, {childList: true});\n",
       "}}\n",
       "\n",
       "                        })                };                });            </script>        </div>"
      ]
     },
     "metadata": {},
     "output_type": "display_data"
    }
   ],
   "source": [
    "import plotly.express as px\n",
    "import plotly.graph_objects as go\n",
    "\n",
    "velocidade_cat = ['0-5 km/h', '5-10 km/h', '10-15 km/h', '15-20 km/h', '20-25 km/h', '25-30 km/h', '30-35 km/h', '35-40 km/h','40-45 km/h']\n",
    "dir_cat = [\"N\", \"NNE\", \"NE\", \"ENE\", \"E\", \"ESE\", \"SE\", \"SSE\", \"S\", \"SSW\", \"SW\", \"WSW\", \"W\", \"WNW\", \"NW\", \"NNW\"]\n",
    "\n",
    "date = trajs_659['data']\n",
    "fig = px.bar_polar(trajs_659,r='velocidade', theta='direção', color='velocidade_cat', \n",
    "                   category_orders={'velocidade_cat': velocidade_cat,\n",
    "                                    'direção': dir_cat}, \n",
    "                   color_discrete_sequence = px.colors.sequential.Plasma_r,\n",
    "                   hover_data={'data': True}\n",
    ")\n",
    "\n",
    "fig.update_layout(legend=dict(\n",
    "     traceorder='reversed',\n",
    "     yanchor='top',\n",
    "     y=0.99,\n",
    "     xanchor='right',\n",
    "     x=1.1,\n",
    "     title_font_size=14),\n",
    "     legend_title_text='<b>Velocidade',\n",
    "     title={'text': '<b>Distribuição das massas de ar resultantes em chuva no Soberbo',\n",
    "            'y': 0.98, 'x': 0.5, 'xref': 'paper'},\n",
    "     font_family='Open Sans',\n",
    "     polar_radialaxis_showticklabels=False,\n",
    "     annotations=[dict(\n",
    "        showarrow=False,\n",
    "        xref='paper',\n",
    "        yref='paper',\n",
    "        x=0.01, y=0.95,\n",
    "        text='<b>Altitude: 659m',\n",
    "        font=dict(size=14, color='black'))],\n",
    "     polar_angularaxis_tickfont_size = 15,\n",
    "     paper_bgcolor='rgba(0, 0, 0, 0)'\n",
    ")\n",
    "\n",
    "fig.update_traces(hovertemplate=\n",
    "                  '<b>%{theta}</b><br>'+\n",
    "                  'velocidade (km/h): %{r:.1f}<br>')\n",
    "\n",
    "fig.show()\n",
    "fig.write_image('trajsSB.png', width=800, height=600)"
   ]
  },
  {
   "cell_type": "markdown",
   "metadata": {},
   "source": [
    "# Criando os gráficos por mês"
   ]
  },
  {
   "cell_type": "code",
   "execution_count": 17,
   "metadata": {},
   "outputs": [],
   "source": [
    "import plotly.express as px\n",
    "\n",
    "campaigns = trajs_659['campanha'].unique()\n",
    "\n",
    "velocidade_cat = ['0-5 km/h', '5-10 km/h', '10-15 km/h', '15-20 km/h', '20-25 km/h', '25-30 km/h', '30-35 km/h', '35-40 km/h', '40-45 km/h']\n",
    "dir_cat = [\"N\", \"NNE\", \"NE\", \"ENE\", \"E\", \"ESE\", \"SE\", \"SSE\", \"S\", \"SSW\", \"SW\", \"WSW\", \"W\", \"WNW\", \"NW\", \"NNW\"]\n",
    "\n",
    "for c in campaigns:\n",
    "    df = trajs_659.loc[trajs_659.campanha == c]\n",
    "        \n",
    "    fig = px.bar_polar(df, r='velocidade', theta='direção', color='velocidade_cat', \n",
    "                      category_orders={'velocidade_cat': velocidade_cat,\n",
    "                                      'direção': dir_cat}, \n",
    "                       color_discrete_sequence = px.colors.sequential.Plasma_r,\n",
    "                       hover_data={'data': True})\n",
    "\n",
    "    fig.update_layout(legend=dict(\n",
    "         traceorder='reversed',\n",
    "         yanchor='top',\n",
    "         y=0.99,\n",
    "         xanchor='right',\n",
    "         x=1.1,\n",
    "         title=dict(\n",
    "             text='<b>Velocidade', \n",
    "             font={'size': 14})),\n",
    "         font_family='Open Sans',\n",
    "         polar_radialaxis_showticklabels=False,\n",
    "         polar_angularaxis_tickfont_size = 15,\n",
    "         paper_bgcolor='rgba(0, 0, 0, 0)')\n",
    "\n",
    "    fig.show()"
   ]
  }
 ],
 "metadata": {
  "colab": {
   "collapsed_sections": [],
   "name": "trajs_SB.ipynb",
   "provenance": []
  },
  "kernelspec": {
   "display_name": "Python 3",
   "language": "python",
   "name": "python3"
  },
  "language_info": {
   "codemirror_mode": {
    "name": "ipython",
    "version": 3
   },
   "file_extension": ".py",
   "mimetype": "text/x-python",
   "name": "python",
   "nbconvert_exporter": "python",
   "pygments_lexer": "ipython3",
   "version": "3.8.5"
  }
 },
 "nbformat": 4,
 "nbformat_minor": 4
}
