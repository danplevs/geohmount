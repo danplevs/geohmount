{
 "metadata": {
  "language_info": {
   "codemirror_mode": {
    "name": "ipython",
    "version": 3
   },
   "file_extension": ".py",
   "mimetype": "text/x-python",
   "name": "python",
   "nbconvert_exporter": "python",
   "pygments_lexer": "ipython3",
   "version": "3.7.9-final"
  },
  "orig_nbformat": 2
 },
 "nbformat": 4,
 "nbformat_minor": 2,
 "cells": [
  {
   "source": [
    "# Importando e tratando as bases de dados"
   ],
   "cell_type": "markdown",
   "metadata": {}
  },
  {
   "source": [
    "><h1>Importação dos dados"
   ],
   "cell_type": "markdown",
   "metadata": {}
  },
  {
   "source": [
    ">><h2>Chuva_2019"
   ],
   "cell_type": "markdown",
   "metadata": {}
  },
  {
   "cell_type": "code",
   "execution_count": null,
   "metadata": {},
   "outputs": [],
   "source": [
    "import json\n",
    "import requests\n",
    "from io import StringIO\n",
    "\n",
    "# carregando as credenciais\n",
    "with open(\"/home/daniel/geohmount/code/credentials.json\", \"r\") as credentials_file:\n",
    "    credentials = json.load(credentials_file)\n",
    "# parametros da request (github info)\n",
    "owner = credentials[\"github\"][\"username\"]\n",
    "token = credentials[\"github\"][\"token\"]\n",
    "repo = credentials[\"github\"][\"repo\"]\n",
    "path = 'sazonalidade-chuva/chuva_2019.csv'\n",
    "\n",
    "# sending the request\n",
    "r = requests.get(f'https://api.github.com/repos/{owner}/{repo}/contents/{path}',\n",
    "    headers={\n",
    "        'accept': 'application/vnd.github.v3.raw',\n",
    "        'authorization': f'token {token}'\n",
    "            }\n",
    "    )\n",
    "\n",
    "#convert string to StringIO object\n",
    "data = StringIO(r.text)"
   ]
  },
  {
   "cell_type": "code",
   "execution_count": null,
   "metadata": {},
   "outputs": [],
   "source": [
    "import pandas as pd\n",
    "\n",
    "df = pd.read_csv(data, sep=';')\n",
    "df"
   ]
  },
  {
   "source": [
    ">><h2>Sazonalidade"
   ],
   "cell_type": "markdown",
   "metadata": {}
  },
  {
   "cell_type": "code",
   "execution_count": null,
   "metadata": {},
   "outputs": [],
   "source": [
    "# parameters for the request\n",
    "owner = credentials[\"github\"][\"username\"]\n",
    "token = credentials[\"github\"][\"token\"]\n",
    "repo = credentials[\"github\"][\"repo\"]\n",
    "path = 'sazonalidade-chuva/sazonalidade.csv'\n",
    "\n",
    "# sending the request\n",
    "r = requests.get(f'https://api.github.com/repos/{owner}/{repo}/contents/{path}',\n",
    "    headers={\n",
    "        'accept': 'application/vnd.github.v3.raw',\n",
    "        'authorization': f'token {token}'\n",
    "            }\n",
    "    )\n",
    "\n",
    "#convert string to StringIO object\n",
    "data = StringIO(r.text)"
   ]
  },
  {
   "cell_type": "code",
   "execution_count": null,
   "metadata": {},
   "outputs": [],
   "source": [
    "import pandas as pd\n",
    "\n",
    "df2 = pd.read_csv(data, sep=';')\n",
    "df2.head()"
   ]
  },
  {
   "cell_type": "code",
   "execution_count": null,
   "metadata": {},
   "outputs": [],
   "source": [
    "# invertendo o dataframe\n",
    "df2 = df2.reindex(index=df2.index[::-1])\n",
    "df2.head()"
   ]
  },
  {
   "cell_type": "code",
   "execution_count": null,
   "metadata": {},
   "outputs": [],
   "source": [
    "# renomeando as séries históricas\n",
    "df2.rename(columns={'Série Histórica (2007-2019) e DP': 'sh_SM', 'Série Histórica (2007-2019) e DP.1': 'sh_BM', 'Série Histórica (2007-2019) e DP.2': 'sh_SB'}, inplace=True)\n",
    "df2.head()"
   ]
  },
  {
   "cell_type": "code",
   "execution_count": null,
   "metadata": {},
   "outputs": [],
   "source": [
    "import base64\n",
    "\n",
    "# set a local image as the background\n",
    "img = '/home/daniel/geohmount/code/logos-png/GEOHMOUNT-Logo-Cinzas.png'\n",
    "geohmount_logo = base64.b64encode(open(img, 'rb').read())"
   ]
  },
  {
   "source": [
    "# Criando o 1º gráfico"
   ],
   "cell_type": "markdown",
   "metadata": {}
  },
  {
   "cell_type": "code",
   "execution_count": null,
   "metadata": {},
   "outputs": [],
   "source": [
    "config = {'displayModeBar': True, 'toImageButtonOptions': {'height': None, 'width': None}}"
   ]
  },
  {
   "cell_type": "code",
   "execution_count": null,
   "metadata": {},
   "outputs": [],
   "source": [
    "import plotly.graph_objects as go\n",
    "\n",
    "fig = go.Figure()\n",
    "\n",
    "fig.add_trace(go.Bar(name='Bonfim',x=df.estacao[:3], y=df.chuva[:3], marker_color='rgb(0, 153, 216)', error_y=dict(type='data', array=df.sd[:3])\n",
    "))\n",
    "fig.add_trace(go.Bar(name='Soberbo',x=df.estacao[3:5], y=df.chuva[3:5], marker_color='rgb(0, 90, 74)', error_y=dict(type='data', array=df.sd[3:5])\n",
    "))\n",
    "fig.add_trace(go.Bar(name='Santa Marta',x=df.estacao[5:8], y=df.chuva[5:8], marker_color='rgb(86, 34, 18)', error_y=dict(type='data', array=df.sd[5:8])\n",
    "))\n",
    "\n",
    "fig.add_layout_image(\n",
    "    dict(\n",
    "        source=f'data:image/png;base64,{geohmount_logo.decode()}',\n",
    "        xref=\"paper\",\n",
    "        yref=\"paper\",\n",
    "        x=0.18,\n",
    "        y=0.9,\n",
    "        sizex=0.65,\n",
    "        sizey=0.65,\n",
    "        sizing=\"contain\",\n",
    "        opacity=0.13,\n",
    "        layer=\"below\")\n",
    ")\n",
    "\n",
    "fig.update_layout(template='plotly_white', width=1200, height=800, font_family='Open Sans',  xaxis_tickfont_size=16, yaxis=dict(title='<b>Precipitação no ano de 2019 (mm)', titlefont_size=16, tickfont_size=16), legend=dict(font_size=14))\n",
    "fig.show()\n",
    "#fig.write_html('C:\\\\Users\\\\daniel\\\\Documents\\\\Github\\\\geohmount\\\\geohmount-plotly\\\\sazonalidade-chuva\\\\chuva_2019.html', include_plotlyjs='cdn', config=config)"
   ]
  },
  {
   "source": [
    "# Criando o 2º gráfico"
   ],
   "cell_type": "markdown",
   "metadata": {}
  },
  {
   "cell_type": "code",
   "execution_count": null,
   "metadata": {},
   "outputs": [],
   "source": [
    "import plotly.graph_objects as go\n",
    "\n",
    "blue = 'rgb(0, 153, 216)'\n",
    "green = 'rgb(0, 90, 74)'\n",
    "brown = 'rgb(86, 34, 18)'\n",
    "fig2 = go.Figure()\n",
    "\n",
    "fig2.add_trace(go.Bar(name='BM (Estação Pedro do Rio)', x=df2['mês'], y=df2['BM (Estação Pedro do Rio)'], marker=dict(color=blue)\n",
    "))\n",
    "\n",
    "fig2.add_trace(go.Scatter(mode='lines+markers', name='Série Histórica (2007-2019)', x=df2['mês'], y=df2['sh_BM'], error_y=dict(color='black', type='data', array=df2['sd_BM'] ), marker=dict(color=blue, line_width=1, line_color='black'), line=dict(color=blue, width=3), visible='legendonly'\n",
    "))\n",
    "\n",
    "fig2.add_trace(go.Bar(name='SB (Estação PARNASO)',x=df2['mês'], y=df2['SB (Estação PARNASO)'], marker=dict(color=green)\n",
    "))\n",
    "\n",
    "fig2.add_trace(go.Scatter(mode='lines+markers', name='Série Histórica (2007-2019)', x=df2['mês'], y=df2['sh_SB'], error_y=dict(color='black', type='data', array=df2['sd_SB']), marker=dict(color=green, line_width=1, line_color='black'), line=dict(color=green, width=3), visible='legendonly'\n",
    "))\n",
    "\n",
    "fig2.add_trace(go.Bar(name='SM (Estação Caparaó)',x=df2['mês'], y=df2['SM (Estação Caparaó)'], marker=dict(color=brown)\n",
    "))\n",
    "\n",
    "fig2.add_trace(go.Scatter(mode='lines+markers', name='Série Histórica (2007-2019)', x=df2['mês'], y=df2['sh_SM'], error_y=dict(color='black', type='data', array=df2['sd_SM']), marker=dict(color=brown, line_width=1, line_color='black'), line=dict(color=brown, width=3), visible='legendonly'\n",
    "))\n",
    "\n",
    "fig2.add_layout_image(\n",
    "    dict(\n",
    "        source=f'data:image/png;base64,{geohmount_logo.decode()}',\n",
    "        xref=\"paper\",\n",
    "        yref=\"paper\",\n",
    "        x=0.23,\n",
    "        y=0.9,\n",
    "        sizex=0.5,\n",
    "        sizey=0.5,\n",
    "        sizing=\"contain\",\n",
    "        opacity=0.13,\n",
    "        layer=\"below\")\n",
    ")\n",
    "\n",
    "fig2.update_layout(template='plotly_white',\n",
    "width=1500, height=800, \n",
    "legend=dict(font_size=14), \n",
    "barmode='group',\n",
    "font_family='Open Sans',  \n",
    "xaxis=dict(tickangle=-45, tickfont_size=16),\n",
    "yaxis=dict(title='<b>Precipitação (mm)', titlefont_size=16, tickfont_size=16), \n",
    "annotations=[dict(text='<b>Clique nas legendas para <br>habilitar as séries históricas!', xref='paper', yref='paper', x=1.11, y=0.75, arrowhead=1, arrowwidth=2, arrowcolor='black', ax=0, ay=45, font=dict(color='black', size=14))]\n",
    ")\n",
    "\n",
    "fig2.show()\n",
    "#fig2.write_html('C:\\\\Users\\\\daniel\\\\Documents\\\\Github\\\\geohmount\\\\geohmount-plotly\\\\sazonalidade-chuva\\\\sazonalidade.html', include_plotlyjs='cdn', config=config)"
   ]
  }
 ]
}