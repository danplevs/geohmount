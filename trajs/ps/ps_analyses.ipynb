{
 "cells": [
  {
   "cell_type": "code",
   "execution_count": 24,
   "metadata": {},
   "outputs": [],
   "source": [
    "import pandas as pd\n",
    "import seaborn as sns\n",
    "import matplotlib.pyplot as plt"
   ]
  },
  {
   "cell_type": "code",
   "execution_count": 25,
   "metadata": {},
   "outputs": [
    {
     "data": {
      "text/html": "<div>\n<style scoped>\n    .dataframe tbody tr th:only-of-type {\n        vertical-align: middle;\n    }\n\n    .dataframe tbody tr th {\n        vertical-align: top;\n    }\n\n    .dataframe thead th {\n        text-align: right;\n    }\n</style>\n<table border=\"1\" class=\"dataframe\">\n  <thead>\n    <tr style=\"text-align: right;\">\n      <th></th>\n      <th>Unnamed: 0</th>\n      <th>data</th>\n      <th>altitude</th>\n      <th>campanha</th>\n      <th>chuva_gdas</th>\n      <th>evt_id</th>\n      <th>evt_soma_chuva</th>\n      <th>evt_media_chuva</th>\n      <th>evt_max_chuva</th>\n      <th>direcao</th>\n      <th>velocidade</th>\n      <th>direcao_cat</th>\n      <th>velocidade_cat</th>\n      <th>evt_soma_chuva_cat</th>\n    </tr>\n  </thead>\n  <tbody>\n    <tr>\n      <th>0</th>\n      <td>11</td>\n      <td>2018-08-01 19:00:00</td>\n      <td>2391</td>\n      <td>PS180901 - PP1</td>\n      <td>0.0</td>\n      <td>225</td>\n      <td>6.4</td>\n      <td>1.0667</td>\n      <td>2.2</td>\n      <td>285.499275</td>\n      <td>25.439123</td>\n      <td>WNW</td>\n      <td>20-30 km/h</td>\n      <td>5-20 mm</td>\n    </tr>\n    <tr>\n      <th>1</th>\n      <td>12</td>\n      <td>2018-08-01 22:00:00</td>\n      <td>2391</td>\n      <td>PS180901 - PP1</td>\n      <td>0.0</td>\n      <td>225</td>\n      <td>6.4</td>\n      <td>1.0667</td>\n      <td>2.2</td>\n      <td>279.733382</td>\n      <td>28.634185</td>\n      <td>W</td>\n      <td>20-30 km/h</td>\n      <td>5-20 mm</td>\n    </tr>\n    <tr>\n      <th>2</th>\n      <td>13</td>\n      <td>2018-08-02 02:00:00</td>\n      <td>2391</td>\n      <td>PS180901 - PP1</td>\n      <td>0.0</td>\n      <td>225</td>\n      <td>6.4</td>\n      <td>1.0667</td>\n      <td>2.2</td>\n      <td>274.304469</td>\n      <td>28.818288</td>\n      <td>W</td>\n      <td>20-30 km/h</td>\n      <td>5-20 mm</td>\n    </tr>\n    <tr>\n      <th>3</th>\n      <td>14</td>\n      <td>2018-08-02 01:00:00</td>\n      <td>2391</td>\n      <td>PS180901 - PP1</td>\n      <td>0.0</td>\n      <td>225</td>\n      <td>6.4</td>\n      <td>1.0667</td>\n      <td>2.2</td>\n      <td>272.602562</td>\n      <td>27.220076</td>\n      <td>W</td>\n      <td>20-30 km/h</td>\n      <td>5-20 mm</td>\n    </tr>\n    <tr>\n      <th>4</th>\n      <td>15</td>\n      <td>2018-08-02 04:00:00</td>\n      <td>2391</td>\n      <td>PS180901 - PP1</td>\n      <td>0.1</td>\n      <td>226</td>\n      <td>8.0</td>\n      <td>1.3333</td>\n      <td>4.0</td>\n      <td>276.121885</td>\n      <td>32.838267</td>\n      <td>W</td>\n      <td>30-40 km/h</td>\n      <td>5-20 mm</td>\n    </tr>\n  </tbody>\n</table>\n</div>",
      "text/plain": "   Unnamed: 0                 data  altitude        campanha  chuva_gdas  \\\n0          11  2018-08-01 19:00:00      2391  PS180901 - PP1         0.0   \n1          12  2018-08-01 22:00:00      2391  PS180901 - PP1         0.0   \n2          13  2018-08-02 02:00:00      2391  PS180901 - PP1         0.0   \n3          14  2018-08-02 01:00:00      2391  PS180901 - PP1         0.0   \n4          15  2018-08-02 04:00:00      2391  PS180901 - PP1         0.1   \n\n   evt_id  evt_soma_chuva  evt_media_chuva  evt_max_chuva     direcao  \\\n0     225             6.4           1.0667            2.2  285.499275   \n1     225             6.4           1.0667            2.2  279.733382   \n2     225             6.4           1.0667            2.2  274.304469   \n3     225             6.4           1.0667            2.2  272.602562   \n4     226             8.0           1.3333            4.0  276.121885   \n\n   velocidade direcao_cat velocidade_cat evt_soma_chuva_cat  \n0   25.439123         WNW     20-30 km/h            5-20 mm  \n1   28.634185           W     20-30 km/h            5-20 mm  \n2   28.818288           W     20-30 km/h            5-20 mm  \n3   27.220076           W     20-30 km/h            5-20 mm  \n4   32.838267           W     30-40 km/h            5-20 mm  "
     },
     "execution_count": 25,
     "metadata": {},
     "output_type": "execute_result"
    }
   ],
   "source": [
    "trajs = pd.read_csv('ps_resultado_manipulado.csv')\n",
    "trajs.head()"
   ]
  },
  {
   "cell_type": "code",
   "execution_count": 26,
   "metadata": {},
   "outputs": [
    {
     "data": {
      "text/html": "<div>\n<style scoped>\n    .dataframe tbody tr th:only-of-type {\n        vertical-align: middle;\n    }\n\n    .dataframe tbody tr th {\n        vertical-align: top;\n    }\n\n    .dataframe thead th {\n        text-align: right;\n    }\n</style>\n<table border=\"1\" class=\"dataframe\">\n  <thead>\n    <tr style=\"text-align: right;\">\n      <th></th>\n      <th>data</th>\n      <th>altitude</th>\n      <th>campanha</th>\n      <th>chuva_gdas</th>\n      <th>evt_id</th>\n      <th>evt_soma_chuva</th>\n      <th>evt_media_chuva</th>\n      <th>evt_max_chuva</th>\n      <th>direcao</th>\n      <th>velocidade</th>\n      <th>direcao_cat</th>\n      <th>velocidade_cat</th>\n      <th>evt_soma_chuva_cat</th>\n    </tr>\n  </thead>\n  <tbody>\n    <tr>\n      <th>0</th>\n      <td>2018-08-01 19:00:00</td>\n      <td>2391</td>\n      <td>PS180901 - PP1</td>\n      <td>0.0</td>\n      <td>225</td>\n      <td>6.4</td>\n      <td>1.0667</td>\n      <td>2.2</td>\n      <td>285.499275</td>\n      <td>25.439123</td>\n      <td>WNW</td>\n      <td>20-30 km/h</td>\n      <td>5-20 mm</td>\n    </tr>\n    <tr>\n      <th>1</th>\n      <td>2018-08-01 22:00:00</td>\n      <td>2391</td>\n      <td>PS180901 - PP1</td>\n      <td>0.0</td>\n      <td>225</td>\n      <td>6.4</td>\n      <td>1.0667</td>\n      <td>2.2</td>\n      <td>279.733382</td>\n      <td>28.634185</td>\n      <td>W</td>\n      <td>20-30 km/h</td>\n      <td>5-20 mm</td>\n    </tr>\n    <tr>\n      <th>2</th>\n      <td>2018-08-02 02:00:00</td>\n      <td>2391</td>\n      <td>PS180901 - PP1</td>\n      <td>0.0</td>\n      <td>225</td>\n      <td>6.4</td>\n      <td>1.0667</td>\n      <td>2.2</td>\n      <td>274.304469</td>\n      <td>28.818288</td>\n      <td>W</td>\n      <td>20-30 km/h</td>\n      <td>5-20 mm</td>\n    </tr>\n    <tr>\n      <th>3</th>\n      <td>2018-08-02 01:00:00</td>\n      <td>2391</td>\n      <td>PS180901 - PP1</td>\n      <td>0.0</td>\n      <td>225</td>\n      <td>6.4</td>\n      <td>1.0667</td>\n      <td>2.2</td>\n      <td>272.602562</td>\n      <td>27.220076</td>\n      <td>W</td>\n      <td>20-30 km/h</td>\n      <td>5-20 mm</td>\n    </tr>\n    <tr>\n      <th>4</th>\n      <td>2018-08-02 04:00:00</td>\n      <td>2391</td>\n      <td>PS180901 - PP1</td>\n      <td>0.1</td>\n      <td>226</td>\n      <td>8.0</td>\n      <td>1.3333</td>\n      <td>4.0</td>\n      <td>276.121885</td>\n      <td>32.838267</td>\n      <td>W</td>\n      <td>30-40 km/h</td>\n      <td>5-20 mm</td>\n    </tr>\n  </tbody>\n</table>\n</div>",
      "text/plain": "                  data  altitude        campanha  chuva_gdas  evt_id  \\\n0  2018-08-01 19:00:00      2391  PS180901 - PP1         0.0     225   \n1  2018-08-01 22:00:00      2391  PS180901 - PP1         0.0     225   \n2  2018-08-02 02:00:00      2391  PS180901 - PP1         0.0     225   \n3  2018-08-02 01:00:00      2391  PS180901 - PP1         0.0     225   \n4  2018-08-02 04:00:00      2391  PS180901 - PP1         0.1     226   \n\n   evt_soma_chuva  evt_media_chuva  evt_max_chuva     direcao  velocidade  \\\n0             6.4           1.0667            2.2  285.499275   25.439123   \n1             6.4           1.0667            2.2  279.733382   28.634185   \n2             6.4           1.0667            2.2  274.304469   28.818288   \n3             6.4           1.0667            2.2  272.602562   27.220076   \n4             8.0           1.3333            4.0  276.121885   32.838267   \n\n  direcao_cat velocidade_cat evt_soma_chuva_cat  \n0         WNW     20-30 km/h            5-20 mm  \n1           W     20-30 km/h            5-20 mm  \n2           W     20-30 km/h            5-20 mm  \n3           W     20-30 km/h            5-20 mm  \n4           W     30-40 km/h            5-20 mm  "
     },
     "execution_count": 26,
     "metadata": {},
     "output_type": "execute_result"
    }
   ],
   "source": [
    "trajs = trajs.drop('Unnamed: 0', 1)\n",
    "trajs.head()"
   ]
  },
  {
   "cell_type": "code",
   "execution_count": 27,
   "metadata": {},
   "outputs": [],
   "source": [
    "trajs['data'] = pd.to_datetime(trajs['data'], dayfirst=True, exact=False)\n",
    "trajs['mes'] = trajs['data'].dt.strftime('%b')"
   ]
  },
  {
   "cell_type": "markdown",
   "metadata": {},
   "source": [
    "# Análise exploratória dos dados"
   ]
  },
  {
   "cell_type": "markdown",
   "metadata": {},
   "source": [
    "## Proporções"
   ]
  },
  {
   "cell_type": "code",
   "execution_count": 28,
   "metadata": {},
   "outputs": [],
   "source": [
    "meses_chuvosos = ('Jan', 'Feb', 'Mar', 'Apr', 'Oct', 'Nov', 'Dec')\n",
    "meses_secos = ('May', 'Jun', 'Jul', 'Aug', 'Sep')"
   ]
  },
  {
   "cell_type": "code",
   "execution_count": 29,
   "metadata": {},
   "outputs": [
    {
     "data": {
      "text/html": "<div>\n<style scoped>\n    .dataframe tbody tr th:only-of-type {\n        vertical-align: middle;\n    }\n\n    .dataframe tbody tr th {\n        vertical-align: top;\n    }\n\n    .dataframe thead th {\n        text-align: right;\n    }\n</style>\n<table border=\"1\" class=\"dataframe\">\n  <thead>\n    <tr style=\"text-align: right;\">\n      <th></th>\n      <th>data</th>\n      <th>altitude</th>\n      <th>campanha</th>\n      <th>chuva_gdas</th>\n      <th>evt_id</th>\n      <th>evt_soma_chuva</th>\n      <th>evt_media_chuva</th>\n      <th>evt_max_chuva</th>\n      <th>direcao</th>\n      <th>velocidade</th>\n      <th>direcao_cat</th>\n      <th>velocidade_cat</th>\n      <th>evt_soma_chuva_cat</th>\n      <th>mes</th>\n    </tr>\n  </thead>\n  <tbody>\n    <tr>\n      <th>0</th>\n      <td>2018-08-01 19:00:00</td>\n      <td>2391</td>\n      <td>PS180901 - PP1</td>\n      <td>0.0</td>\n      <td>225</td>\n      <td>6.4</td>\n      <td>1.0667</td>\n      <td>2.2</td>\n      <td>285.499275</td>\n      <td>25.439123</td>\n      <td>WNW</td>\n      <td>20-30 km/h</td>\n      <td>5-20 mm</td>\n      <td>Aug</td>\n    </tr>\n    <tr>\n      <th>1</th>\n      <td>2018-08-01 22:00:00</td>\n      <td>2391</td>\n      <td>PS180901 - PP1</td>\n      <td>0.0</td>\n      <td>225</td>\n      <td>6.4</td>\n      <td>1.0667</td>\n      <td>2.2</td>\n      <td>279.733382</td>\n      <td>28.634185</td>\n      <td>W</td>\n      <td>20-30 km/h</td>\n      <td>5-20 mm</td>\n      <td>Aug</td>\n    </tr>\n    <tr>\n      <th>2</th>\n      <td>2018-08-02 02:00:00</td>\n      <td>2391</td>\n      <td>PS180901 - PP1</td>\n      <td>0.0</td>\n      <td>225</td>\n      <td>6.4</td>\n      <td>1.0667</td>\n      <td>2.2</td>\n      <td>274.304469</td>\n      <td>28.818288</td>\n      <td>W</td>\n      <td>20-30 km/h</td>\n      <td>5-20 mm</td>\n      <td>Aug</td>\n    </tr>\n    <tr>\n      <th>3</th>\n      <td>2018-08-02 01:00:00</td>\n      <td>2391</td>\n      <td>PS180901 - PP1</td>\n      <td>0.0</td>\n      <td>225</td>\n      <td>6.4</td>\n      <td>1.0667</td>\n      <td>2.2</td>\n      <td>272.602562</td>\n      <td>27.220076</td>\n      <td>W</td>\n      <td>20-30 km/h</td>\n      <td>5-20 mm</td>\n      <td>Aug</td>\n    </tr>\n    <tr>\n      <th>4</th>\n      <td>2018-08-02 04:00:00</td>\n      <td>2391</td>\n      <td>PS180901 - PP1</td>\n      <td>0.1</td>\n      <td>226</td>\n      <td>8.0</td>\n      <td>1.3333</td>\n      <td>4.0</td>\n      <td>276.121885</td>\n      <td>32.838267</td>\n      <td>W</td>\n      <td>30-40 km/h</td>\n      <td>5-20 mm</td>\n      <td>Aug</td>\n    </tr>\n  </tbody>\n</table>\n</div>",
      "text/plain": "                 data  altitude        campanha  chuva_gdas  evt_id  \\\n0 2018-08-01 19:00:00      2391  PS180901 - PP1         0.0     225   \n1 2018-08-01 22:00:00      2391  PS180901 - PP1         0.0     225   \n2 2018-08-02 02:00:00      2391  PS180901 - PP1         0.0     225   \n3 2018-08-02 01:00:00      2391  PS180901 - PP1         0.0     225   \n4 2018-08-02 04:00:00      2391  PS180901 - PP1         0.1     226   \n\n   evt_soma_chuva  evt_media_chuva  evt_max_chuva     direcao  velocidade  \\\n0             6.4           1.0667            2.2  285.499275   25.439123   \n1             6.4           1.0667            2.2  279.733382   28.634185   \n2             6.4           1.0667            2.2  274.304469   28.818288   \n3             6.4           1.0667            2.2  272.602562   27.220076   \n4             8.0           1.3333            4.0  276.121885   32.838267   \n\n  direcao_cat velocidade_cat evt_soma_chuva_cat  mes  \n0         WNW     20-30 km/h            5-20 mm  Aug  \n1           W     20-30 km/h            5-20 mm  Aug  \n2           W     20-30 km/h            5-20 mm  Aug  \n3           W     20-30 km/h            5-20 mm  Aug  \n4           W     30-40 km/h            5-20 mm  Aug  "
     },
     "execution_count": 29,
     "metadata": {},
     "output_type": "execute_result"
    }
   ],
   "source": [
    "trajs['mes'] = trajs['data'].dt.strftime('%b')\n",
    "trajs.head()"
   ]
  },
  {
   "cell_type": "code",
   "execution_count": 30,
   "metadata": {},
   "outputs": [
    {
     "name": "stdout",
     "output_type": "stream",
     "text": [
      "A precipitação média por evento é 30.6 mm\n"
     ]
    }
   ],
   "source": [
    "chuva_media = round(trajs['evt_soma_chuva'].unique().mean(), 1)\n",
    "print(f'A precipitação média por evento é {chuva_media} mm')"
   ]
  },
  {
   "cell_type": "markdown",
   "metadata": {},
   "source": [
    "### Período úmido"
   ]
  },
  {
   "cell_type": "code",
   "execution_count": 36,
   "metadata": {},
   "outputs": [
    {
     "data": {
      "text/html": "<div>\n<style scoped>\n    .dataframe tbody tr th:only-of-type {\n        vertical-align: middle;\n    }\n\n    .dataframe tbody tr th {\n        vertical-align: top;\n    }\n\n    .dataframe thead th {\n        text-align: right;\n    }\n</style>\n<table border=\"1\" class=\"dataframe\">\n  <thead>\n    <tr style=\"text-align: right;\">\n      <th></th>\n      <th>data</th>\n      <th>altitude</th>\n      <th>campanha</th>\n      <th>chuva_gdas</th>\n      <th>evt_id</th>\n      <th>evt_soma_chuva</th>\n      <th>evt_media_chuva</th>\n      <th>evt_max_chuva</th>\n      <th>direcao</th>\n      <th>velocidade</th>\n      <th>direcao_cat</th>\n      <th>velocidade_cat</th>\n      <th>evt_soma_chuva_cat</th>\n      <th>mes</th>\n    </tr>\n  </thead>\n  <tbody>\n    <tr>\n      <th>45</th>\n      <td>2018-10-05 07:00:00</td>\n      <td>2391</td>\n      <td>PS181102 - PP1</td>\n      <td>0.0</td>\n      <td>289</td>\n      <td>38.4</td>\n      <td>2.56</td>\n      <td>5.2</td>\n      <td>241.645038</td>\n      <td>14.747356</td>\n      <td>WSW</td>\n      <td>10-20 km/h</td>\n      <td>35-50 mm</td>\n      <td>Oct</td>\n    </tr>\n    <tr>\n      <th>46</th>\n      <td>2018-10-05 10:00:00</td>\n      <td>2391</td>\n      <td>PS181102 - PP1</td>\n      <td>0.2</td>\n      <td>289</td>\n      <td>38.4</td>\n      <td>2.56</td>\n      <td>5.2</td>\n      <td>245.336185</td>\n      <td>11.107298</td>\n      <td>WSW</td>\n      <td>10-20 km/h</td>\n      <td>35-50 mm</td>\n      <td>Oct</td>\n    </tr>\n    <tr>\n      <th>47</th>\n      <td>2018-10-05 13:00:00</td>\n      <td>2391</td>\n      <td>PS181102 - PP1</td>\n      <td>0.3</td>\n      <td>289</td>\n      <td>38.4</td>\n      <td>2.56</td>\n      <td>5.2</td>\n      <td>276.709837</td>\n      <td>15.867684</td>\n      <td>W</td>\n      <td>10-20 km/h</td>\n      <td>35-50 mm</td>\n      <td>Oct</td>\n    </tr>\n    <tr>\n      <th>48</th>\n      <td>2018-10-05 19:00:00</td>\n      <td>2391</td>\n      <td>PS181102 - PP1</td>\n      <td>0.0</td>\n      <td>289</td>\n      <td>38.4</td>\n      <td>2.56</td>\n      <td>5.2</td>\n      <td>282.667875</td>\n      <td>23.014220</td>\n      <td>WNW</td>\n      <td>20-30 km/h</td>\n      <td>35-50 mm</td>\n      <td>Oct</td>\n    </tr>\n    <tr>\n      <th>49</th>\n      <td>2018-10-05 22:00:00</td>\n      <td>2391</td>\n      <td>PS181102 - PP1</td>\n      <td>0.0</td>\n      <td>289</td>\n      <td>38.4</td>\n      <td>2.56</td>\n      <td>5.2</td>\n      <td>271.603863</td>\n      <td>25.760092</td>\n      <td>W</td>\n      <td>20-30 km/h</td>\n      <td>35-50 mm</td>\n      <td>Oct</td>\n    </tr>\n  </tbody>\n</table>\n</div>",
      "text/plain": "                  data  altitude        campanha  chuva_gdas  evt_id  \\\n45 2018-10-05 07:00:00      2391  PS181102 - PP1         0.0     289   \n46 2018-10-05 10:00:00      2391  PS181102 - PP1         0.2     289   \n47 2018-10-05 13:00:00      2391  PS181102 - PP1         0.3     289   \n48 2018-10-05 19:00:00      2391  PS181102 - PP1         0.0     289   \n49 2018-10-05 22:00:00      2391  PS181102 - PP1         0.0     289   \n\n    evt_soma_chuva  evt_media_chuva  evt_max_chuva     direcao  velocidade  \\\n45            38.4             2.56            5.2  241.645038   14.747356   \n46            38.4             2.56            5.2  245.336185   11.107298   \n47            38.4             2.56            5.2  276.709837   15.867684   \n48            38.4             2.56            5.2  282.667875   23.014220   \n49            38.4             2.56            5.2  271.603863   25.760092   \n\n   direcao_cat velocidade_cat evt_soma_chuva_cat  mes  \n45         WSW     10-20 km/h           35-50 mm  Oct  \n46         WSW     10-20 km/h           35-50 mm  Oct  \n47           W     10-20 km/h           35-50 mm  Oct  \n48         WNW     20-30 km/h           35-50 mm  Oct  \n49           W     20-30 km/h           35-50 mm  Oct  "
     },
     "execution_count": 36,
     "metadata": {},
     "output_type": "execute_result"
    }
   ],
   "source": [
    "periodo_umido = trajs.loc[trajs['mes'].isin(meses_chuvosos)]\n",
    "periodo_umido.head()"
   ]
  },
  {
   "cell_type": "code",
   "execution_count": 33,
   "metadata": {},
   "outputs": [
    {
     "name": "stdout",
     "output_type": "stream",
     "text": [
      "O período úmido representa 71% das retrotrajetórias\n"
     ]
    }
   ],
   "source": [
    "prop_umido = periodo_umido.shape[0] / trajs.shape[0] * 100\n",
    "print(f'O período úmido representa {prop_umido:.0f}% das retrotrajetórias')"
   ]
  },
  {
   "cell_type": "markdown",
   "metadata": {},
   "source": [
    "### Período seco"
   ]
  },
  {
   "cell_type": "code",
   "execution_count": 39,
   "metadata": {},
   "outputs": [
    {
     "data": {
      "text/html": "<div>\n<style scoped>\n    .dataframe tbody tr th:only-of-type {\n        vertical-align: middle;\n    }\n\n    .dataframe tbody tr th {\n        vertical-align: top;\n    }\n\n    .dataframe thead th {\n        text-align: right;\n    }\n</style>\n<table border=\"1\" class=\"dataframe\">\n  <thead>\n    <tr style=\"text-align: right;\">\n      <th></th>\n      <th>data</th>\n      <th>altitude</th>\n      <th>campanha</th>\n      <th>chuva_gdas</th>\n      <th>evt_id</th>\n      <th>evt_soma_chuva</th>\n      <th>evt_media_chuva</th>\n      <th>evt_max_chuva</th>\n      <th>direcao</th>\n      <th>velocidade</th>\n      <th>direcao_cat</th>\n      <th>velocidade_cat</th>\n      <th>evt_soma_chuva_cat</th>\n      <th>mes</th>\n    </tr>\n  </thead>\n  <tbody>\n    <tr>\n      <th>0</th>\n      <td>2018-08-01 19:00:00</td>\n      <td>2391</td>\n      <td>PS180901 - PP1</td>\n      <td>0.0</td>\n      <td>225</td>\n      <td>6.4</td>\n      <td>1.0667</td>\n      <td>2.2</td>\n      <td>285.499275</td>\n      <td>25.439123</td>\n      <td>WNW</td>\n      <td>20-30 km/h</td>\n      <td>5-20 mm</td>\n      <td>Aug</td>\n    </tr>\n    <tr>\n      <th>1</th>\n      <td>2018-08-01 22:00:00</td>\n      <td>2391</td>\n      <td>PS180901 - PP1</td>\n      <td>0.0</td>\n      <td>225</td>\n      <td>6.4</td>\n      <td>1.0667</td>\n      <td>2.2</td>\n      <td>279.733382</td>\n      <td>28.634185</td>\n      <td>W</td>\n      <td>20-30 km/h</td>\n      <td>5-20 mm</td>\n      <td>Aug</td>\n    </tr>\n    <tr>\n      <th>2</th>\n      <td>2018-08-02 02:00:00</td>\n      <td>2391</td>\n      <td>PS180901 - PP1</td>\n      <td>0.0</td>\n      <td>225</td>\n      <td>6.4</td>\n      <td>1.0667</td>\n      <td>2.2</td>\n      <td>274.304469</td>\n      <td>28.818288</td>\n      <td>W</td>\n      <td>20-30 km/h</td>\n      <td>5-20 mm</td>\n      <td>Aug</td>\n    </tr>\n    <tr>\n      <th>3</th>\n      <td>2018-08-02 01:00:00</td>\n      <td>2391</td>\n      <td>PS180901 - PP1</td>\n      <td>0.0</td>\n      <td>225</td>\n      <td>6.4</td>\n      <td>1.0667</td>\n      <td>2.2</td>\n      <td>272.602562</td>\n      <td>27.220076</td>\n      <td>W</td>\n      <td>20-30 km/h</td>\n      <td>5-20 mm</td>\n      <td>Aug</td>\n    </tr>\n    <tr>\n      <th>4</th>\n      <td>2018-08-02 04:00:00</td>\n      <td>2391</td>\n      <td>PS180901 - PP1</td>\n      <td>0.1</td>\n      <td>226</td>\n      <td>8.0</td>\n      <td>1.3333</td>\n      <td>4.0</td>\n      <td>276.121885</td>\n      <td>32.838267</td>\n      <td>W</td>\n      <td>30-40 km/h</td>\n      <td>5-20 mm</td>\n      <td>Aug</td>\n    </tr>\n  </tbody>\n</table>\n</div>",
      "text/plain": "                 data  altitude        campanha  chuva_gdas  evt_id  \\\n0 2018-08-01 19:00:00      2391  PS180901 - PP1         0.0     225   \n1 2018-08-01 22:00:00      2391  PS180901 - PP1         0.0     225   \n2 2018-08-02 02:00:00      2391  PS180901 - PP1         0.0     225   \n3 2018-08-02 01:00:00      2391  PS180901 - PP1         0.0     225   \n4 2018-08-02 04:00:00      2391  PS180901 - PP1         0.1     226   \n\n   evt_soma_chuva  evt_media_chuva  evt_max_chuva     direcao  velocidade  \\\n0             6.4           1.0667            2.2  285.499275   25.439123   \n1             6.4           1.0667            2.2  279.733382   28.634185   \n2             6.4           1.0667            2.2  274.304469   28.818288   \n3             6.4           1.0667            2.2  272.602562   27.220076   \n4             8.0           1.3333            4.0  276.121885   32.838267   \n\n  direcao_cat velocidade_cat evt_soma_chuva_cat  mes  \n0         WNW     20-30 km/h            5-20 mm  Aug  \n1           W     20-30 km/h            5-20 mm  Aug  \n2           W     20-30 km/h            5-20 mm  Aug  \n3           W     20-30 km/h            5-20 mm  Aug  \n4           W     30-40 km/h            5-20 mm  Aug  "
     },
     "execution_count": 39,
     "metadata": {},
     "output_type": "execute_result"
    }
   ],
   "source": [
    "periodo_seco = trajs.loc[trajs['mes'].isin(meses_secos)]\n",
    "periodo_seco.head()"
   ]
  },
  {
   "cell_type": "code",
   "execution_count": 40,
   "metadata": {},
   "outputs": [
    {
     "name": "stdout",
     "output_type": "stream",
     "text": [
      "O período seco representa 29% das retrotrajetórias\n"
     ]
    }
   ],
   "source": [
    "prop_seco = periodo_seco.shape[0] / trajs.shape[0] * 100\n",
    "print(f'O período seco representa {prop_seco:.0f}% das retrotrajetórias')"
   ]
  }
 ],
 "metadata": {
  "kernelspec": {
   "display_name": "Python 3.7.9 64-bit ('geohmount': conda)",
   "name": "python379jvsc74a57bd01ff9e72bfa4b87c5c7eb2845b6bc364601686fa0e2be51edbe78ea8f5152e186"
  },
  "language_info": {
   "codemirror_mode": {
    "name": "ipython",
    "version": 3
   },
   "file_extension": ".py",
   "mimetype": "text/x-python",
   "name": "python",
   "nbconvert_exporter": "python",
   "pygments_lexer": "ipython3",
   "version": "3.7.9"
  },
  "metadata": {
   "interpreter": {
    "hash": "1ff9e72bfa4b87c5c7eb2845b6bc364601686fa0e2be51edbe78ea8f5152e186"
   }
  },
  "orig_nbformat": 2
 },
 "nbformat": 4,
 "nbformat_minor": 2
}