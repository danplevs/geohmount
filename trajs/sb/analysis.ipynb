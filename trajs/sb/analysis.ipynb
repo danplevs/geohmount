{
 "metadata": {
  "language_info": {
   "codemirror_mode": {
    "name": "ipython",
    "version": 3
   },
   "file_extension": ".py",
   "mimetype": "text/x-python",
   "name": "python",
   "nbconvert_exporter": "python",
   "pygments_lexer": "ipython3",
   "version": "3.8.5-final"
  },
  "orig_nbformat": 2,
  "kernelspec": {
   "name": "python3",
   "display_name": "Python 3.8.5 64-bit",
   "metadata": {
    "interpreter": {
     "hash": "1f42090833967a15994965b03f816d2365f4c7ab523cacf46e37faa7668751c1"
    }
   }
  }
 },
 "nbformat": 4,
 "nbformat_minor": 2,
 "cells": [
  {
   "source": [
    "# Importando e tratando a base de dados"
   ],
   "cell_type": "markdown",
   "metadata": {}
  },
  {
   "cell_type": "code",
   "execution_count": null,
   "metadata": {},
   "outputs": [],
   "source": [
    "import requests\n",
    "from io import StringIO\n",
    "\n",
    "# parametros da request (github info)\n",
    "owner = 'danplevs'\n",
    "token = 'd9d7f4c1c64d6ec82b7c086c9720698d21ab9f48'\n",
    "repo = 'geohmount'\n",
    "path = '/trajs/sb/resultado_manipulado.csv'\n",
    "\n",
    "# enviando o request\n",
    "r = requests.get(f'https://api.github.com/repos/{owner}/{repo}/contents/{path}',\n",
    "    headers={\n",
    "        'accept': 'application/vnd.github.v3.raw',\n",
    "        'authorization': f'token {token}'\n",
    "            }\n",
    "    )\n",
    "\n",
    "# convertendo a string em objeto stringIO\n",
    "string_io_obj = StringIO(r.text)"
   ]
  },
  {
   "cell_type": "code",
   "execution_count": null,
   "metadata": {},
   "outputs": [],
   "source": [
    "import pandas as pd\n",
    "\n",
    "trajs = trajs = pd.read_csv(string_io_obj)"
   ]
  },
  {
   "cell_type": "code",
   "execution_count": null,
   "metadata": {},
   "outputs": [],
   "source": [
    "trajs.head()"
   ]
  },
  {
   "cell_type": "code",
   "execution_count": null,
   "metadata": {},
   "outputs": [],
   "source": [
    "trajs = trajs.drop('Unnamed: 0', 1)\n",
    "trajs.head()"
   ]
  },
  {
   "source": [
    "# Análise exploratória dos dados"
   ],
   "cell_type": "markdown",
   "metadata": {}
  },
  {
   "source": [
    "## Proporções"
   ],
   "cell_type": "markdown",
   "metadata": {}
  },
  {
   "cell_type": "code",
   "execution_count": null,
   "metadata": {},
   "outputs": [],
   "source": [
    "trajs_659 = trajs.query('altitude == 659')"
   ]
  },
  {
   "source": [
    "<h3>O gráfico de rosetas nos dá uma boa noção das principais direções dos ventos que chegam ao Soberbo provocando chuva, mas quais são as proporções dessas direções?"
   ],
   "cell_type": "markdown",
   "metadata": {}
  },
  {
   "cell_type": "code",
   "execution_count": null,
   "metadata": {},
   "outputs": [],
   "source": [
    "import seaborn as sns\n",
    "import matplotlib.pyplot as plt\n",
    "\n",
    "prop_direcoes = trajs_659['direcao_cat'].value_counts(normalize=True) * 100\n",
    "\n",
    "fig = plt.figure(figsize=(14, 8))\n",
    "sns.set_context('talk')\n",
    "sns.barplot(x=prop_direcoes.index, y=prop_direcoes, palette='flare_r')\n",
    "plt.ylabel('%')\n",
    "plt.title('Direções')\n",
    "# atualiza a figura\n",
    "# fig.savefig('proporcao_direcoes.png') "
   ]
  },
  {
   "source": [
    "<h3> E das velocidades e chuvas (soma por evento)?"
   ],
   "cell_type": "markdown",
   "metadata": {}
  },
  {
   "cell_type": "code",
   "execution_count": null,
   "metadata": {},
   "outputs": [],
   "source": [
    "velocidades = ['0-5 km/h', '5-10 km/h', '10-15 km/h', '15-20 km/h', '20-25 km/h', '25-30 km/h', '30-35 km/h', '35-40 km/h','40-45 km/h']\n",
    "\n",
    "prop_velocidades = trajs_659['velocidade_cat'].value_counts(normalize=True)* 100\n",
    "prop_velocidades = prop_velocidades.reindex(index=velocidades)"
   ]
  },
  {
   "cell_type": "code",
   "execution_count": null,
   "metadata": {},
   "outputs": [],
   "source": [
    "fig = plt.figure(figsize=(20, 8))\n",
    "sns.set_context('talk')\n",
    "sns.barplot(x=prop_velocidades.index, y=prop_velocidades, palette='magma_r')\n",
    "plt.ylabel('%')\n",
    "plt.title('Velocidades')\n",
    "# atualiza a figura\n",
    "# fig.savefig('proporcao_velocidades')"
   ]
  },
  {
   "cell_type": "code",
   "execution_count": null,
   "metadata": {},
   "outputs": [],
   "source": [
    "chuvas = ['5-20 mm', '20-35 mm', '35-50 mm', '50-65 mm', '65-80 mm', '80-95 mm', '95-110 mm', '110-125 mm', '125-130 mm']\n",
    "\n",
    "prop_chuvas = trajs_659['evt_sum_rain_cat'].value_counts(normalize=True).sort_index() * 100\n",
    "prop_chuvas = prop_chuvas.reindex(index=chuvas)"
   ]
  },
  {
   "cell_type": "code",
   "execution_count": null,
   "metadata": {},
   "outputs": [],
   "source": [
    "fig = plt.figure(figsize=(18, 8))\n",
    "sns.barplot(x=prop_chuvas.index, y=prop_chuvas, palette='Blues')\n",
    "plt.ylabel('%')\n",
    "plt.title('Precipitação')\n",
    "# atualiza a figura\n",
    "# fig.savefig('proporcao_chuva.png')"
   ]
  },
  {
   "source": [
    "## Precipitação"
   ],
   "cell_type": "markdown",
   "metadata": {}
  },
  {
   "source": [
    "<h3> Mas qual será a distribuição das precipitações em cada direção? Será que existe uma direção que tende a provocar chuvas fortes ou enxurradas?"
   ],
   "cell_type": "markdown",
   "metadata": {}
  },
  {
   "cell_type": "code",
   "execution_count": null,
   "metadata": {},
   "outputs": [],
   "source": [
    "fig = plt.figure(figsize=(16, 8))\n",
    "sns.boxplot(data=trajs_659, x='direcao_cat', y='evt_sum_rain')\n",
    "plt.ylabel('Soma de precipitação do evento (mm)'), plt.xlabel('Direção')\n",
    "# atualiza a figura\n",
    "# fig.savefig('chuva_direcoes_boxplot.png')"
   ]
  },
  {
   "cell_type": "code",
   "execution_count": null,
   "metadata": {},
   "outputs": [],
   "source": [
    "principais_direcoes = trajs_659.query('direcao_cat == [\"SSW\", \"S\", \"E\", \"ESE\"]')\n",
    "fig = plt.figure(figsize=(12, 8))\n",
    "sns.boxplot(data=principais_direcoes, x='direcao_cat', y='evt_sum_rain')\n",
    "plt.ylabel('Soma de precipitação do evento (mm)'), plt.xlabel('Direção')\n",
    "# atualiza a figura\n",
    "#fig.savefig('principais_direcoes.png')"
   ]
  },
  {
   "cell_type": "code",
   "execution_count": null,
   "metadata": {},
   "outputs": [],
   "source": []
  }
 ]
}