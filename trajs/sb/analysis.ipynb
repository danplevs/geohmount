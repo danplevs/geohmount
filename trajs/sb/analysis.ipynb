{
 "cells": [
  {
   "cell_type": "markdown",
   "metadata": {},
   "source": [
    "# Importando e tratando a base de dados"
   ]
  },
  {
   "cell_type": "code",
   "execution_count": null,
   "metadata": {},
   "outputs": [],
   "source": [
    "import pandas as pd"
   ]
  },
  {
   "cell_type": "code",
   "execution_count": null,
   "metadata": {},
   "outputs": [],
   "source": [
    "trajs = pd.read_csv('resultado_manipulado.cvs')\n",
    "trajs.head()"
   ]
  },
  {
   "cell_type": "code",
   "execution_count": null,
   "metadata": {},
   "outputs": [],
   "source": [
    "trajs = trajs.drop('Unnamed: 0', 1)\n",
    "trajs.head()"
   ]
  },
  {
   "cell_type": "code",
   "execution_count": null,
   "metadata": {},
   "outputs": [],
   "source": [
    "trajs['data'] = pd.to_datetime(trajs['data'])\n",
    "trajs['mes'] = trajs['data'].dt.strftime('%b')"
   ]
  },
  {
   "cell_type": "markdown",
   "metadata": {},
   "source": [
    "# Análise exploratória dos dados"
   ]
  },
  {
   "cell_type": "markdown",
   "metadata": {},
   "source": [
    "## Proporções"
   ]
  },
  {
   "cell_type": "code",
   "execution_count": null,
   "metadata": {},
   "outputs": [],
   "source": [
    "trajs_659 = trajs.query('altitude == 659')"
   ]
  },
  {
   "cell_type": "code",
   "execution_count": null,
   "metadata": {},
   "outputs": [],
   "source": [
    "meses_chuvosos = ('Jan', 'Feb', 'Mar', 'Apr', 'Oct', 'Nov', 'Dec')\n",
    "meses_secos = ('May', 'Jun', 'Jul', 'Aug', 'Sep')"
   ]
  },
  {
   "cell_type": "code",
   "execution_count": null,
   "metadata": {},
   "outputs": [],
   "source": [
    "trajs_659['mes'] = trajs_659['data'].dt.strftime('%b')\n",
    "trajs_659.head()"
   ]
  },
  {
   "cell_type": "code",
   "execution_count": null,
   "metadata": {},
   "outputs": [],
   "source": [
    "round(trajs_659['evt_soma_chuva'].unique().mean(), 1)"
   ]
  },
  {
   "cell_type": "code",
   "execution_count": null,
   "metadata": {},
   "outputs": [],
   "source": [
    "periodo_umido = trajs_659.loc[trajs_659['mes'].isin(meses_chuvosos)]\n",
    "periodo_umido.head()"
   ]
  },
  {
   "cell_type": "code",
   "execution_count": null,
   "metadata": {},
   "outputs": [],
   "source": [
    "f'O período úmido representa {periodo_umido.shape[0] / trajs_659.shape[0] * 100:.2f}% das retrotrajetórias'"
   ]
  },
  {
   "cell_type": "code",
   "execution_count": null,
   "metadata": {},
   "outputs": [],
   "source": [
    "periodo_seco = trajs_659.loc[trajs_659['mes'].isin(meses_secos)]\n",
    "periodo_seco.head()"
   ]
  },
  {
   "cell_type": "code",
   "execution_count": null,
   "metadata": {},
   "outputs": [],
   "source": [
    "f'O período seco representa {periodo_seco.shape[0] / trajs_659.shape[0] * 100:.2f}% das retrotrajetórias'"
   ]
  },
  {
   "cell_type": "code",
   "execution_count": null,
   "metadata": {},
   "outputs": [],
   "source": [
    "prop_direcoes_seco = periodo_seco['direcao_cat'].value_counts(normalize=True) * 100\n",
    "\n",
    "fig = plt.figure(figsize=(14, 8))\n",
    "sns.set_context('talk')\n",
    "sns.barplot(x=prop_direcoes_seco.index, y=prop_direcoes_seco, palette='flare_r')\n",
    "plt.ylabel('%')\n",
    "plt.title('Direções (período seco)')\n",
    "plt.show()\n",
    "# atualiza a figura\n",
    "# fig.savefig('proporcao_direcoes.png')"
   ]
  },
  {
   "cell_type": "code",
   "execution_count": null,
   "metadata": {},
   "outputs": [],
   "source": [
    "round(prop_direcoes_seco, 2)"
   ]
  },
  {
   "cell_type": "code",
   "execution_count": null,
   "metadata": {},
   "outputs": [],
   "source": [
    "prop_direcoes_umido = periodo_umido['direcao_cat'].value_counts(normalize=True) * 100\n",
    "\n",
    "fig = plt.figure(figsize=(14, 8))\n",
    "sns.set_bcontext('talk')\n",
    "sns.barplot(x=prop_direcoes_umido.index, y=prop_direcoes_umido, palette='flare_r')\n",
    "plt.ylabel('%')\n",
    "plt.title('Direções (período úmido)')\n",
    "plt.show()\n",
    "# atualiza a figura\n",
    "# fig.savefig('proporcao_direcoes.png')"
   ]
  },
  {
   "cell_type": "code",
   "execution_count": null,
   "metadata": {},
   "outputs": [],
   "source": [
    "round(prop_direcoes_umido, 2)"
   ]
  },
  {
   "cell_type": "markdown",
   "metadata": {},
   "source": [
    "<h3>O gráfico de rosetas nos dá uma boa noção das principais direções dos ventos que chegam ao Soberbo provocando chuva, mas quais são as proporções dessas direções?"
   ]
  },
  {
   "cell_type": "code",
   "execution_count": null,
   "metadata": {},
   "outputs": [],
   "source": [
    "import seaborn as sns\n",
    "import matplotlib.pyplot as plt\n",
    "\n",
    "prop_direcoes = trajs_659['direcao_cat'].value_counts(normalize=True) * 100\n",
    "\n",
    "fig = plt.figure(figsize=(14, 8))\n",
    "sns.set_context('talk')\n",
    "sns.barplot(x=prop_direcoes.index, y=prop_direcoes, palette='flare_r')\n",
    "plt.ylabel('%')\n",
    "plt.title('Direções')\n",
    "plt.show()\n",
    "# atualiza a figura\n",
    "# fig.savefig('proporcao_direcoes.png')  "
   ]
  },
  {
   "cell_type": "markdown",
   "metadata": {},
   "source": [
    "<h3> E das velocidades e chuvas (soma por evento)?"
   ]
  },
  {
   "cell_type": "code",
   "execution_count": null,
   "metadata": {},
   "outputs": [],
   "source": [
    "velocidades = ['0-5 km/h', '5-10 km/h', '10-15 km/h', '15-20 km/h', '20-25 km/h', '25-30 km/h', '30-35 km/h', '35-40 km/h','40-45 km/h']\n",
    "\n",
    "prop_velocidades = trajs_659['velocidade_cat'].value_counts(normalize=True)* 100\n",
    "prop_velocidades = prop_velocidades.reindex(index=velocidades)"
   ]
  },
  {
   "cell_type": "code",
   "execution_count": null,
   "metadata": {},
   "outputs": [],
   "source": [
    "fig = plt.figure(figsize=(20, 8))\n",
    "sns.set_context('talk')\n",
    "sns.barplot(x=prop_velocidades.index, y=prop_velocidades, palette='magma_r')\n",
    "plt.ylabel('%')\n",
    "plt.title('Velocidades')\n",
    "# atualiza a figura\n",
    "# fig.savefig('proporcao_velocidades')"
   ]
  },
  {
   "cell_type": "code",
   "execution_count": null,
   "metadata": {},
   "outputs": [],
   "source": [
    "chuvas = ['5-20 mm', '20-35 mm', '35-50 mm', '50-65 mm', '65-80 mm', '80-95 mm', '95-110 mm', '110-125 mm', '125-130 mm']\n",
    "\n",
    "prop_chuvas = trajs_659['evt_soma_chuva_cat'].value_counts(normalize=True).sort_index() * 100\n",
    "prop_chuvas = prop_chuvas.reindex(index=chuvas)"
   ]
  },
  {
   "cell_type": "code",
   "execution_count": null,
   "metadata": {},
   "outputs": [],
   "source": [
    "fig = plt.figure(figsize=(18, 8))\n",
    "sns.barplot(x=prop_chuvas.index, y=prop_chuvas, palette='Blues')\n",
    "plt.ylabel('%')\n",
    "plt.title('Precipitação')\n",
    "# atualiza a figura\n",
    "# fig.savefig('proporcao_chuva.png')"
   ]
  },
  {
   "cell_type": "markdown",
   "metadata": {},
   "source": [
    "## Precipitação"
   ]
  },
  {
   "cell_type": "markdown",
   "metadata": {},
   "source": [
    "<h3> Mas qual será a distribuição das precipitações em cada direção? Será que existe uma direção que tende a provocar chuvas fortes ou enxurradas?"
   ]
  },
  {
   "cell_type": "code",
   "execution_count": null,
   "metadata": {},
   "outputs": [],
   "source": [
    "fig = plt.figure(figsize=(16, 8))\n",
    "sns.boxplot(data=trajs_659, x='direcao_cat', y='evt_soma_chuva')\n",
    "plt.ylabel('Soma de precipitação do evento (mm)'), plt.xlabel('Direção')\n",
    "# atualiza a figura\n",
    "# fig.savefig('chuva_direcoes_boxplot.png')"
   ]
  },
  {
   "cell_type": "code",
   "execution_count": null,
   "metadata": {},
   "outputs": [],
   "source": [
    "principais_direcoes = trajs_659.query('direcao_cat == [\"SSW\", \"S\", \"E\", \"ESE\"]')\n",
    "fig = plt.figure(figsize=(12, 8))\n",
    "sns.boxplot(data=principais_direcoes, x='direcao_cat', y='evt_soma_chuva')\n",
    "plt.ylabel('Soma de precipitação do evento (mm)'), plt.xlabel('Direção')\n",
    "# atualiza a figura\n",
    "#fig.savefig('principais_direcoes.png')"
   ]
  },
  {
   "cell_type": "code",
   "execution_count": null,
   "metadata": {},
   "outputs": [],
   "source": []
  }
 ],
 "metadata": {
  "kernelspec": {
   "display_name": "Python 3",
   "language": "python",
   "name": "python3"
  },
  "language_info": {
   "codemirror_mode": {
    "name": "ipython",
    "version": 3
   },
   "file_extension": ".py",
   "mimetype": "text/x-python",
   "name": "python",
   "nbconvert_exporter": "python",
   "pygments_lexer": "ipython3",
   "version": "3.7.9"
  }
 },
 "nbformat": 4,
 "nbformat_minor": 4
}
