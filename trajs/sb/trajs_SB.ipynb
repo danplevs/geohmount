{
 "cells": [
  {
   "cell_type": "markdown",
   "metadata": {
    "heading_collapsed": "true",
    "id": "qGvi3CQJ2CL0"
   },
   "source": [
    "# Importando e tratando a base de dados"
   ]
  },
  {
   "cell_type": "markdown",
   "metadata": {
    "heading_collapsed": "true",
    "id": "YUZ5Qcym2OyJ"
   },
   "source": [
    "## Importação dos dados"
   ]
  },
  {
   "cell_type": "code",
   "execution_count": null,
   "metadata": {
    "executionInfo": {
     "elapsed": 685,
     "status": "ok",
     "timestamp": 1601341955112,
     "user": {
      "displayName": "Daniel Levita",
      "photoUrl": "https://lh3.googleusercontent.com/a-/AOh14GiyPIUOd_DCE1_soU5rS77DkpJyfVNWNY36oSNNnoM=s64",
      "userId": "11217355149532741913"
     },
     "user_tz": 180
    },
    "id": "8L8XCMms2_v7"
   },
   "outputs": [],
   "source": [
    "import json\n",
    "import requests\n",
    "from io import StringIO\n",
    "\n",
    "# carregando as credenciais\n",
    "with open(\"/home/daniel/geohmount/code/credentials.json\", \"r\") as credentials_file:\n",
    "    credentials = json.load(credentials_file)\n",
    "# parametros da request (github info)\n",
    "owner = credentials[\"github\"][\"username\"]\n",
    "token = credentials[\"github\"][\"token\"]\n",
    "repo = credentials[\"github\"][\"repo\"]\n",
    "path = 'trajs/sb/resultado.csv'\n",
    "\n",
    "# enviando o request\n",
    "r = requests.get(f'https://api.github.com/repos/{owner}/{repo}/contents/{path}',\n",
    "    headers={\n",
    "        'accept': 'application/vnd.github.v3.raw',\n",
    "        'authorization': f'token {token}'\n",
    "            }\n",
    "    )\n",
    "\n",
    "# convertendo a string em objeto stringIO\n",
    "string_io_obj = StringIO(r.text)"
   ]
  },
  {
   "cell_type": "code",
   "execution_count": null,
   "metadata": {
    "colab": {
     "base_uri": "https://localhost:8080/",
     "height": 204
    },
    "executionInfo": {
     "elapsed": 1033,
     "status": "ok",
     "timestamp": 1601341955472,
     "user": {
      "displayName": "Daniel Levita",
      "photoUrl": "https://lh3.googleusercontent.com/a-/AOh14GiyPIUOd_DCE1_soU5rS77DkpJyfVNWNY36oSNNnoM=s64",
      "userId": "11217355149532741913"
     },
     "user_tz": 180
    },
    "id": "L2UpC8HRyE-E",
    "outputId": "5ead2990-8b77-4e4b-d898-e380a803f094"
   },
   "outputs": [],
   "source": [
    "import pandas as pd\n",
    "\n",
    "trajs = pd.read_csv(string_io_obj, sep=\";\")"
   ]
  },
  {
   "cell_type": "code",
   "execution_count": null,
   "metadata": {},
   "outputs": [],
   "source": [
    "trajs.head(15)"
   ]
  },
  {
   "cell_type": "markdown",
   "metadata": {
    "heading_collapsed": "true",
    "id": "m1gT7PG02SPD"
   },
   "source": [
    "## Tratamento dos dados"
   ]
  },
  {
   "cell_type": "markdown",
   "metadata": {
    "id": "8KT66Kn3sDc7"
   },
   "source": [
    "Renomeando colunas"
   ]
  },
  {
   "cell_type": "code",
   "execution_count": null,
   "metadata": {
    "executionInfo": {
     "elapsed": 1033,
     "status": "ok",
     "timestamp": 1601341955474,
     "user": {
      "displayName": "Daniel Levita",
      "photoUrl": "https://lh3.googleusercontent.com/a-/AOh14GiyPIUOd_DCE1_soU5rS77DkpJyfVNWNY36oSNNnoM=s64",
      "userId": "11217355149532741913"
     },
     "user_tz": 180
    },
    "id": "8nDKu7zGrvxq"
   },
   "outputs": [],
   "source": [
    "trajs = trajs.rename(columns={'velocidade_km/h': 'velocidade'})"
   ]
  },
  {
   "cell_type": "markdown",
   "metadata": {
    "id": "IbUrQFYVQ2VY"
   },
   "source": [
    "Removendo trajetórias sem campanha"
   ]
  },
  {
   "cell_type": "code",
   "execution_count": null,
   "metadata": {
    "colab": {
     "base_uri": "https://localhost:8080/",
     "height": 419
    },
    "executionInfo": {
     "elapsed": 1024,
     "status": "ok",
     "timestamp": 1601341955474,
     "user": {
      "displayName": "Daniel Levita",
      "photoUrl": "https://lh3.googleusercontent.com/a-/AOh14GiyPIUOd_DCE1_soU5rS77DkpJyfVNWNY36oSNNnoM=s64",
      "userId": "11217355149532741913"
     },
     "user_tz": 180
    },
    "id": "tHlW6Tb30O4G",
    "outputId": "6bdf19bc-10a6-4b93-84e4-e1be6815dbaf"
   },
   "outputs": [],
   "source": [
    "trajs = trajs.dropna()\n",
    "trajs"
   ]
  },
  {
   "cell_type": "markdown",
   "metadata": {
    "heading_collapsed": "true",
    "id": "vD3WNV-nRASP"
   },
   "source": [
    "### Criando a coluna categórica dos sentidos das trajetórias"
   ]
  },
  {
   "cell_type": "code",
   "execution_count": null,
   "metadata": {},
   "outputs": [],
   "source": [
    "def graus_em_direcao(graus):\n",
    "    direcoes = [\"N\", \"NNE\", \"NE\", \"ENE\", \"E\", \"ESE\", \"SE\", \"SSE\", \"S\", \n",
    "                \"SSW\", \"SW\", \"WSW\", \"W\", \"WNW\", \"NW\", \"NNW\"]\n",
    "    quociente = graus // 22.5\n",
    "    resto = graus % 22.5\n",
    "    if resto > 11.25:\n",
    "        quociente += 1\n",
    "    if quociente == 16:\n",
    "        quociente = 0\n",
    "    return direcoes[int(quociente)]"
   ]
  },
  {
   "cell_type": "code",
   "execution_count": null,
   "metadata": {},
   "outputs": [],
   "source": [
    "trajs['direcao_cat'] = trajs['direcao_graus'].apply(graus_em_direcao)\n",
    "trajs.head(10)"
   ]
  },
  {
   "cell_type": "markdown",
   "metadata": {
    "heading_collapsed": "true",
    "id": "4PZRU1gC83DH"
   },
   "source": [
    "### Criando a coluna categórica de velocidades"
   ]
  },
  {
   "cell_type": "code",
   "execution_count": null,
   "metadata": {},
   "outputs": [],
   "source": [
    "def velocidade_em_intervalo(velocidade):\n",
    "    velocidades = ['0-5 km/h', '5-10 km/h', '10-15 km/h', '15-20 km/h', '20-25 km/h', \n",
    "                   '25-30 km/h', '30-35 km/h', '35-40 km/h','40-45 km/h']\n",
    "    quociente = velocidade // 5\n",
    "    return velocidades[int(quociente)]"
   ]
  },
  {
   "cell_type": "code",
   "execution_count": null,
   "metadata": {},
   "outputs": [],
   "source": [
    "trajs['velocidade_cat'] = trajs['velocidade'].apply(velocidade_em_intervalo)\n",
    "trajs.head(10)"
   ]
  },
  {
   "cell_type": "markdown",
   "metadata": {
    "heading_collapsed": "true"
   },
   "source": [
    "### Criando a coluna categórica de soma de chuva do evento (dados da estação meteorológica)"
   ]
  },
  {
   "cell_type": "code",
   "execution_count": null,
   "metadata": {},
   "outputs": [],
   "source": [
    "def chuva_em_intervalo(chuva):\n",
    "    chuvas = ['5-20 mm', '20-35 mm', '35-50 mm', '50-65 mm', '65-80 mm', \n",
    "              '80-95 mm', '95-110 mm', '110-125 mm', '125-130 mm']\n",
    "    chuva -= 5\n",
    "    quociente = chuva // 15\n",
    "    return chuvas[int(quociente)]"
   ]
  },
  {
   "cell_type": "code",
   "execution_count": null,
   "metadata": {},
   "outputs": [],
   "source": [
    "trajs['evt_sum_rain_cat'] = trajs['evt_sum_rain'].apply(chuva_em_intervalo)\n",
    "trajs.head(10)"
   ]
  },
  {
   "cell_type": "markdown",
   "metadata": {
    "heading_collapsed": "true",
    "id": "IbY7XGJLI4kn"
   },
   "source": [
    "### Tipando a coluna de data"
   ]
  },
  {
   "cell_type": "code",
   "execution_count": null,
   "metadata": {
    "colab": {
     "base_uri": "https://localhost:8080/",
     "height": 204
    },
    "executionInfo": {
     "elapsed": 1002,
     "status": "ok",
     "timestamp": 1601341955476,
     "user": {
      "displayName": "Daniel Levita",
      "photoUrl": "https://lh3.googleusercontent.com/a-/AOh14GiyPIUOd_DCE1_soU5rS77DkpJyfVNWNY36oSNNnoM=s64",
      "userId": "11217355149532741913"
     },
     "user_tz": 180
    },
    "id": "0qFGyxMpJAr7",
    "outputId": "dc875488-18c0-4627-93f9-ae8d970f7a5e"
   },
   "outputs": [],
   "source": [
    "trajs['data'] = pd.to_datetime(trajs['data'])\n",
    "trajs.head()"
   ]
  },
  {
   "cell_type": "markdown",
   "metadata": {
    "heading_collapsed": "true",
    "id": "rwhrHjwUSudQ"
   },
   "source": [
    "### Criando datasets separados por altitude"
   ]
  },
  {
   "cell_type": "code",
   "execution_count": null,
   "metadata": {
    "executionInfo": {
     "elapsed": 1000,
     "status": "ok",
     "timestamp": 1601341955476,
     "user": {
      "displayName": "Daniel Levita",
      "photoUrl": "https://lh3.googleusercontent.com/a-/AOh14GiyPIUOd_DCE1_soU5rS77DkpJyfVNWNY36oSNNnoM=s64",
      "userId": "11217355149532741913"
     },
     "user_tz": 180
    },
    "id": "6In1vFlw1yZc"
   },
   "outputs": [],
   "source": [
    "trajs_509 = trajs.query(\"altitude == 509\")\n",
    "trajs_659 = trajs.query(\"altitude == 659\")\n",
    "trajs_909 = trajs.query(\"altitude == 909\")"
   ]
  },
  {
   "cell_type": "markdown",
   "metadata": {
    "heading_collapsed": "true",
    "id": "T-oZJO26BVXP"
   },
   "source": [
    "# Criando os gráficos gerais"
   ]
  },
  {
   "cell_type": "markdown",
   "metadata": {
    "heading_collapsed": "true"
   },
   "source": [
    "## Velocidade"
   ]
  },
  {
   "cell_type": "code",
   "execution_count": null,
   "metadata": {
    "colab": {
     "base_uri": "https://localhost:8080/",
     "height": 542
    },
    "executionInfo": {
     "elapsed": 590,
     "status": "ok",
     "timestamp": 1601338218233,
     "user": {
      "displayName": "Daniel Levita",
      "photoUrl": "https://lh3.googleusercontent.com/a-/AOh14GiyPIUOd_DCE1_soU5rS77DkpJyfVNWNY36oSNNnoM=s64",
      "userId": "11217355149532741913"
     },
     "user_tz": 180
    },
    "id": "5tPk7YH1Bkfl",
    "outputId": "1169fc25-4ae6-43dc-92f8-e6a14dc447d4"
   },
   "outputs": [],
   "source": [
    "import plotly.express as px\n",
    "import plotly.graph_objects as go\n",
    "\n",
    "velocidades = ['0-5 km/h', '5-10 km/h', '10-15 km/h', '15-20 km/h', '20-25 km/h', '25-30 km/h', '30-35 km/h', '35-40 km/h','40-45 km/h']\n",
    "direcoes = [\"N\", \"NNE\", \"NE\", \"ENE\", \"E\", \"ESE\", \"SE\", \"SSE\", \"S\", \"SSW\", \"SW\", \"WSW\", \"W\", \"WNW\", \"NW\", \"NNW\"]\n",
    "\n",
    "fig = px.bar_polar(trajs_659, r='velocidade', theta='direcao_cat', color='velocidade_cat', \n",
    "                   category_orders={'velocidade_cat': velocidades,\n",
    "                                    'direcao_cat': direcoes}, \n",
    "                   color_discrete_sequence = px.colors.sequential.Plasma_r,)\n",
    "\n",
    "fig.update_layout(legend=dict(\n",
    "     traceorder='reversed',\n",
    "     yanchor='top',\n",
    "     y=0.99,\n",
    "     xanchor='right',\n",
    "     x=1.1,\n",
    "     title_font_size=14),\n",
    "     legend_title_text='<b>Velocidade',\n",
    "     title={'text': '<b>Distribuição das massas de ar resultantes em chuva no Soberbo',\n",
    "            'y': 0.98, 'x': 0.5, 'xref': 'paper'},\n",
    "     font_family='Open Sans',\n",
    "     polar_radialaxis_showticklabels=False,\n",
    "     annotations=[dict(\n",
    "        showarrow=False,\n",
    "        xref='paper',\n",
    "        yref='paper',\n",
    "        x=0.01, y=0.95,\n",
    "        text='<b>Altitude: 659m',\n",
    "        font=dict(size=14, color='black'))],\n",
    "     polar_angularaxis_tickfont_size = 15,\n",
    "     paper_bgcolor='rgb(255, 255, 255)'\n",
    ")\n",
    "\n",
    "fig.update_traces(hovertemplate=\n",
    "                  '<b>%{theta}</b><br>'+\n",
    "                  'velocidade (km/h): %{r:.1f}<br>')\n",
    "\n",
    "fig.show()"
   ]
  },
  {
   "cell_type": "markdown",
   "metadata": {
    "heading_collapsed": "true"
   },
   "source": [
    "## Chuva"
   ]
  },
  {
   "cell_type": "code",
   "execution_count": null,
   "metadata": {},
   "outputs": [],
   "source": [
    "chuvas = ['5-20 mm', '20-35 mm', '35-50 mm', '50-65 mm', '65-80 mm', '80-95 mm', '95-110 mm', '110-125 mm', '125-130 mm']\n",
    "\n",
    "fig = px.bar_polar(trajs_659, r='evt_sum_rain', theta='direcao_cat', color='evt_sum_rain_cat', \n",
    "                   category_orders={'evt_sum_rain_cat': chuvas,\n",
    "                                    'direcao_cat': direcoes}, \n",
    "                   color_discrete_sequence = px.colors.sequential.Blues,)\n",
    "\n",
    "fig.update_layout(legend=dict(\n",
    "     traceorder='reversed',\n",
    "     yanchor='top',\n",
    "     y=0.99,\n",
    "     xanchor='right',\n",
    "     x=1.1,\n",
    "     title_font_size=14),\n",
    "     legend_title_text='<b>Precipitação',\n",
    "     title={'text': '<b>Distribuição das massas de ar resultantes em chuva no Soberbo',\n",
    "            'y': 0.98, 'x': 0.5, 'xref': 'paper'},\n",
    "     font_family='Open Sans',\n",
    "     polar_radialaxis_showticklabels=False,\n",
    "     annotations=[dict(\n",
    "        showarrow=False,\n",
    "        xref='paper',\n",
    "        yref='paper',\n",
    "        x=0.01, y=0.95,\n",
    "        text='<b>Altitude: 659m',\n",
    "        font=dict(size=14, color='black'))],\n",
    "     polar_angularaxis_tickfont_size = 15,\n",
    "     paper_bgcolor='rgb(255, 255, 255)'\n",
    ")\n",
    "\n",
    "fig.update_traces(hovertemplate=\n",
    "                  '<b>%{theta}</b><br>'+\n",
    "                  'chuva (mm): %{r:.1f}<br>')\n",
    "\n",
    "fig.show()"
   ]
  },
  {
   "cell_type": "markdown",
   "metadata": {
    "heading_collapsed": "true"
   },
   "source": [
    "## Estação úmida/seca"
   ]
  },
  {
   "cell_type": "code",
   "execution_count": null,
   "metadata": {},
   "outputs": [],
   "source": [
    "meses_chuvosos = ('Jan', 'Feb', 'Mar', 'Apr', 'Oct', 'Nov', 'Dec')\n",
    "meses_secos = ('May', 'Jun', 'Jul', 'Aug', 'Sep')"
   ]
  },
  {
   "cell_type": "code",
   "execution_count": null,
   "metadata": {},
   "outputs": [],
   "source": [
    "trajs_659['month'] = trajs_659['data'].dt.strftime('%b')\n",
    "trajs_659.head()"
   ]
  },
  {
   "cell_type": "code",
   "execution_count": null,
   "metadata": {},
   "outputs": [],
   "source": [
    "periodo_umido = trajs_659.loc[trajs_659.month.isin(meses_chuvosos)]\n",
    "periodo_umido.shape"
   ]
  },
  {
   "cell_type": "code",
   "execution_count": null,
   "metadata": {},
   "outputs": [],
   "source": [
    "periodo_seco = trajs_659.loc[trajs_659.month.isin(meses_secos)]\n",
    "periodo_seco.shape"
   ]
  },
  {
   "cell_type": "markdown",
   "metadata": {},
   "source": [
    "vel_plot function"
   ]
  },
  {
   "cell_type": "code",
   "execution_count": null,
   "metadata": {
    "jupyter": {
     "source_hidden": true
    }
   },
   "outputs": [],
   "source": [
    "def vel_plot(dataframe, title='<strong>Distribuição das massas de ar resultantes em chuva no Soberbo</strong>'):\n",
    "    fig = px.bar_polar(dataframe, r='velocidade', theta='direcao_cat', color='velocidade_cat', \n",
    "                   category_orders={'velocidade_cat': velocidades,\n",
    "                                    'direcao_cat': direcoes}, \n",
    "                   color_discrete_sequence = px.colors.sequential.Plasma_r,)\n",
    "\n",
    "    fig.update_layout(legend=dict(\n",
    "         traceorder='reversed',\n",
    "         yanchor='top',\n",
    "         y=0.99,\n",
    "         xanchor='right',\n",
    "         x=1.1,\n",
    "         title_font_size=13),\n",
    "         legend_title_text='<b>Velocidade',\n",
    "         title={'text': title,\n",
    "                'y': 0.97, 'x': 0.5, 'xref': 'paper'},\n",
    "         font_family='Open Sans',\n",
    "         polar_radialaxis_showticklabels=False,\n",
    "         annotations=[dict(\n",
    "            showarrow=False,\n",
    "            xref='paper',\n",
    "            yref='paper',\n",
    "            x=0.01, y=0.95,\n",
    "            text='<b>Altitude: 659m',\n",
    "            font=dict(size=14, color='black'))],\n",
    "         polar_angularaxis_tickfont_size = 15,\n",
    "    )\n",
    "\n",
    "    fig.update_traces(hovertemplate=\n",
    "                      '<b>%{theta}</b><br>'+\n",
    "                      'velocidade (km/h): %{r:.1f}<br>')\n",
    "    \n",
    "    return fig"
   ]
  },
  {
   "cell_type": "code",
   "execution_count": null,
   "metadata": {},
   "outputs": [],
   "source": [
    "def chuva_plot(dataframe, title='<strong>Distribuição das massas de ar resultantes em chuva no Soberbo</strong>'):\n",
    "    fig = px.bar_polar(dataframe, r='evt_sum_rain', theta='direcao_cat', color='evt_sum_rain_cat', \n",
    "                       category_orders={'evt_sum_rain_cat': chuvas,\n",
    "                                        'direcao_cat': direcoes}, \n",
    "                       color_discrete_sequence = px.colors.sequential.Blues,)\n",
    "\n",
    "    fig.update_layout(legend=dict(\n",
    "         traceorder='reversed',\n",
    "         yanchor='top',\n",
    "         y=0.99,\n",
    "         xanchor='right',\n",
    "         x=1.1,\n",
    "         title_font_size=14),\n",
    "         legend_title_text='<b>Precipitação',\n",
    "         title={'text': '<b>Distribuição das massas de ar resultantes em chuva no Soberbo',\n",
    "                'y': 0.98, 'x': 0.5, 'xref': 'paper'},\n",
    "         font_family='Open Sans',\n",
    "         polar_radialaxis_showticklabels=False,\n",
    "         annotations=[dict(\n",
    "            showarrow=False,\n",
    "            xref='paper',\n",
    "            yref='paper',\n",
    "            x=0.01, y=0.95,\n",
    "            text='<b>Altitude: 659m',\n",
    "            font=dict(size=14, color='black'))],\n",
    "         polar_angularaxis_tickfont_size = 15,\n",
    "         paper_bgcolor='rgb(255, 255, 255)'\n",
    "    )\n",
    "\n",
    "    fig.update_traces(hovertemplate=\n",
    "                      '<b>%{theta}</b><br>'+\n",
    "                      'chuva (mm): %{r:.1f}<br>')\n",
    "\n",
    "    return fig"
   ]
  },
  {
   "cell_type": "code",
   "execution_count": null,
   "metadata": {},
   "outputs": [],
   "source": [
    "fig = vel_plot(periodo_umido, title='<b>Distribuição das massas de ar resultantes em chuva no Soberbo<br>(período úmido)</b>')\n",
    "fig.show()"
   ]
  },
  {
   "cell_type": "code",
   "execution_count": null,
   "metadata": {},
   "outputs": [],
   "source": [
    "fig = vel_plot(periodo_seco, title='<b>Distribuição das massas de ar resultantes em chuva no Soberbo<br>(período seco)</b>')\n",
    "fig.show()"
   ]
  },
  {
   "cell_type": "code",
   "execution_count": null,
   "metadata": {},
   "outputs": [],
   "source": [
    "fig = chuva_plot(periodo_umido, title='<b>Distribuição das massas de ar resultantes em chuva no Soberbo<br>(período úmido)</b>')\n",
    "fig.show()"
   ]
  },
  {
   "cell_type": "code",
   "execution_count": null,
   "metadata": {},
   "outputs": [],
   "source": [
    "fig = chuva_plot(periodo_seco, title='<b>Distribuição das massas de ar resultantes em chuva no Soberbo<br>(período seco)</b>')\n",
    "fig.show()"
   ]
  },
  {
   "cell_type": "markdown",
   "metadata": {
    "heading_collapsed": "true"
   },
   "source": [
    "## Tentando criar um agrupamento"
   ]
  },
  {
   "cell_type": "markdown",
   "metadata": {},
   "source": [
    "Experimento para criar um agrupamento do gráfico polar"
   ]
  },
  {
   "cell_type": "code",
   "execution_count": null,
   "metadata": {},
   "outputs": [],
   "source": [
    "trajs_659.head()"
   ]
  },
  {
   "cell_type": "code",
   "execution_count": null,
   "metadata": {},
   "outputs": [],
   "source": [
    "gp_trajs = trajs_659.groupby(['campanha', 'direcao_cat', 'velocidade_cat']).mean()\n",
    "gp_trajs.head()"
   ]
  },
  {
   "cell_type": "code",
   "execution_count": null,
   "metadata": {},
   "outputs": [],
   "source": [
    "def vel_frequency(n):\n",
    "    return n / gp_trajs['vel_count'].sum() * 100"
   ]
  },
  {
   "cell_type": "code",
   "execution_count": null,
   "metadata": {},
   "outputs": [],
   "source": [
    "gp_trajs['vel_count'] = trajs_659.groupby(['campanha', 'direcao_cat', 'velocidade_cat'])['velocidade_cat'].count()\n",
    "gp_trajs['vel_frequency'] = gp_trajs['vel_count'].apply(vel_frequency)\n",
    "gp_trajs"
   ]
  },
  {
   "cell_type": "code",
   "execution_count": null,
   "metadata": {},
   "outputs": [],
   "source": [
    "gp_trajs.reset_index(inplace=True)\n",
    "gp_trajs"
   ]
  },
  {
   "cell_type": "code",
   "execution_count": null,
   "metadata": {},
   "outputs": [],
   "source": [
    "fig = px.bar_polar(gp_trajs, r='vel_frequency', theta='direcao_cat', color='velocidade_cat', \n",
    "                   category_orders={'velocidade_cat': velocidades,\n",
    "                                    'direcao_cat': direcoes}, \n",
    "                   color_discrete_sequence = px.colors.sequential.Plasma_r,)\n",
    "\n",
    "fig.update_layout(legend=dict(\n",
    "     traceorder='reversed',\n",
    "     yanchor='top',\n",
    "     y=0.99,\n",
    "     xanchor='right',\n",
    "     x=1.1,\n",
    "     title_font_size=14),\n",
    "     legend_title_text='<b>Velocidade',\n",
    "     title={'text': '<b>Distribuição das massas de ar resultantes em chuva no Soberbo',\n",
    "            'y': 0.98, 'x': 0.5, 'xref': 'paper'},\n",
    "     font_family='Open Sans',\n",
    "     polar_radialaxis_showticklabels=False,\n",
    "     annotations=[dict(\n",
    "        showarrow=False,\n",
    "        xref='paper',\n",
    "        yref='paper',\n",
    "        x=0.01, y=0.95,\n",
    "        text='<b>Altitude: 659m',\n",
    "        font=dict(size=14, color='black'))],\n",
    "     polar_angularaxis_tickfont_size = 15,\n",
    "     paper_bgcolor='rgb(255, 255, 255)'\n",
    ")\n",
    "\n",
    "fig.update_traces(hovertemplate=\n",
    "                  '<b>%{theta}</b><br>')\n",
    "\n",
    "fig.show()"
   ]
  },
  {
   "cell_type": "markdown",
   "metadata": {},
   "source": [
    "Não me parece tão bom, mas talvez tenha melhorado a distinção dos diferentes graus de velocidade"
   ]
  },
  {
   "cell_type": "markdown",
   "metadata": {
    "heading_collapsed": "true"
   },
   "source": [
    "# Criando os gráficos por campanha"
   ]
  },
  {
   "cell_type": "markdown",
   "metadata": {
    "heading_collapsed": "true"
   },
   "source": [
    "## Velocidade"
   ]
  },
  {
   "cell_type": "code",
   "execution_count": null,
   "metadata": {},
   "outputs": [],
   "source": [
    "import plotly.express as px\n",
    "\n",
    "velocidades = ['0-5 km/h', '5-10 km/h', '10-15 km/h', '15-20 km/h', '20-25 km/h', '25-30 km/h', '30-35 km/h', '35-40 km/h','40-45 km/h']\n",
    "direcoes = [\"N\", \"NNE\", \"NE\", \"ENE\", \"E\", \"ESE\", \"SE\", \"SSE\", \"S\", \"SSW\", \"SW\", \"WSW\", \"W\", \"WNW\", \"NW\", \"NNW\"]\n",
    "\n",
    "campanhas = trajs_659['campanha'].unique()\n",
    "\n",
    "# padronizar as cores nos gráficos pelo valor de velocidade_cat\n",
    "color_discrete_map = {'0-5 km/h': 'rgb(240, 249, 33)', '5-10 km/h': 'rgb(253, 202, 38)', '10-15 km/h': 'rgb(251, 159, 58)', '15-20 km/h': 'rgb(237, 121, 83)', '20-25 km/h': 'rgb(216, 87, 107)', '25-30 km/h': 'rgb(189, 55, 134)', '30-35 km/h': 'rgb(156, 23, 158)', '35-40 km/h': 'rgb(114, 1, 168)','40-45 km/h': 'rgb(70, 3, 159)'}\n",
    "\n",
    "for campanha in campanhas:\n",
    "    df = trajs_659.loc[trajs_659[\"campanha\"] == campanha]\n",
    "        \n",
    "    fig = px.bar_polar(df, r='velocidade', theta='direcao_cat', color='velocidade_cat', color_discrete_map=color_discrete_map,\n",
    "                      category_orders={'velocidade_cat': velocidades,\n",
    "                                      'direcao_cat': direcoes}, \n",
    "                       color_discrete_sequence = px.colors.sequential.Plasma_r)\n",
    "\n",
    "    fig.update_layout(legend=dict(\n",
    "         traceorder='reversed',\n",
    "         yanchor='top',\n",
    "         y=0.99,\n",
    "         xanchor='right',\n",
    "         x=1.1,\n",
    "         title=dict(\n",
    "             text='<b>Velocidade', \n",
    "             font={'size': 14})),\n",
    "         title=f'<b>{campanha}</b>',\n",
    "         font_family='Open Sans',\n",
    "         polar_radialaxis_showticklabels=False,\n",
    "         polar_angularaxis_tickfont_size = 15,\n",
    "         paper_bgcolor='rgb(255, 255, 255)')\n",
    "\n",
    "    fig.show()"
   ]
  },
  {
   "cell_type": "markdown",
   "metadata": {
    "heading_collapsed": "true"
   },
   "source": [
    "## Chuva"
   ]
  },
  {
   "cell_type": "code",
   "execution_count": null,
   "metadata": {},
   "outputs": [],
   "source": [
    "import plotly.express as px\n",
    "\n",
    "chuvas = ['5-20 mm', '20-35 mm', '35-50 mm', '50-65 mm', '65-80 mm', '80-95 mm', '95-110 mm', '110-125 mm', '125-130 mm']\n",
    "direcoes = [\"N\", \"NNE\", \"NE\", \"ENE\", \"E\", \"ESE\", \"SE\", \"SSE\", \"S\", \"SSW\", \"SW\", \"WSW\", \"W\", \"WNW\", \"NW\", \"NNW\"]\n",
    "\n",
    "campanhas = trajs_659['campanha'].unique()\n",
    "\n",
    "# padronizar as cores nos gráficos pelo valor de evt_sum_rain_cat\n",
    "color_discrete_map = {'5-20 mm': 'rgb(247,251,255)', '20-35 mm': 'rgb(222,235,247)', '35-50 mm': 'rgb(198,219,239)', '50-65 mm': 'rgb(158,202,225)', '65-80 mm': 'rgb(107,174,214)', '80-95 mm': 'rgb(66,146,198)', '95-110 mm': 'rgb(33,113,181)', '110-125 mm': 'rgb(8,81,156)', '125-130 mm': 'rgb(8,48,107)'}\n",
    "\n",
    "for campanha in campanhas:\n",
    "    df = trajs_659.loc[trajs_659[\"campanha\"] == campanha]\n",
    "        \n",
    "    fig = px.bar_polar(df, r='evt_sum_rain', theta='direcao_cat', color='evt_sum_rain_cat', color_discrete_map=color_discrete_map,\n",
    "                      category_orders={'evt_sum_rain_cat': chuvas,\n",
    "                                      'direcao_cat': direcoes}, \n",
    "                       color_discrete_sequence = px.colors.sequential.Blues)\n",
    "\n",
    "    fig.update_layout(legend=dict(\n",
    "         traceorder='reversed',\n",
    "         yanchor='top',\n",
    "         y=0.99,\n",
    "         xanchor='right',\n",
    "         x=1.1,\n",
    "         title=dict(\n",
    "             text='<b>Precipitação', \n",
    "             font={'size': 14})),\n",
    "         title=f'<b>{campanha}</b>',\n",
    "         font_family='Open Sans',\n",
    "         polar_radialaxis_showticklabels=False,\n",
    "         polar_angularaxis_tickfont_size = 15,\n",
    "         template='plotly_dark')\n",
    "    \n",
    "    fig.update_polars()\n",
    "\n",
    "    fig.show()"
   ]
  }
 ],
 "metadata": {
  "colab": {
   "collapsed_sections": [],
   "name": "trajs_SB.ipynb",
   "provenance": []
  },
  "kernelspec": {
   "display_name": "Python 3",
   "language": "python",
   "name": "python3"
  },
  "language_info": {
   "codemirror_mode": {
    "name": "ipython",
    "version": 3
   },
   "file_extension": ".py",
   "mimetype": "text/x-python",
   "name": "python",
   "nbconvert_exporter": "python",
   "pygments_lexer": "ipython3",
   "version": "3.7.9"
  }
 },
 "nbformat": 4,
 "nbformat_minor": 4
}
