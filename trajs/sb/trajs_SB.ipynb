{
 "cells": [
  {
   "cell_type": "markdown",
   "metadata": {
    "id": "qGvi3CQJ2CL0"
   },
   "source": [
    "# Importando e tratando a base de dados"
   ]
  },
  {
   "cell_type": "markdown",
   "metadata": {
    "heading_collapsed": "true",
    "id": "YUZ5Qcym2OyJ"
   },
   "source": [
    "## Importação dos dados"
   ]
  },
  {
   "cell_type": "code",
   "execution_count": null,
   "metadata": {},
   "outputs": [],
   "source": [
    "import json\n",
    "import requests\n",
    "from io import StringIO\n",
    "import pandas as pd\n",
    "import plotly.express as px"
   ]
  },
  {
   "cell_type": "code",
   "execution_count": null,
   "metadata": {
    "executionInfo": {
     "elapsed": 685,
     "status": "ok",
     "timestamp": 1601341955112,
     "user": {
      "displayName": "Daniel Levita",
      "photoUrl": "https://lh3.googleusercontent.com/a-/AOh14GiyPIUOd_DCE1_soU5rS77DkpJyfVNWNY36oSNNnoM=s64",
      "userId": "11217355149532741913"
     },
     "user_tz": 180
    },
    "id": "8L8XCMms2_v7"
   },
   "outputs": [],
   "source": [
    "with open(\"/home/daniel/geohmount/code/credentials.json\", \"r\") as credentials_file:\n",
    "    credentials = json.load(credentials_file)\n",
    "\n",
    "owner = credentials[\"github\"][\"username\"]\n",
    "token = credentials[\"github\"][\"token\"]\n",
    "repo = credentials[\"github\"][\"repo\"]\n",
    "path = 'trajs/sb/resultado.csv'\n",
    "\n",
    "r = requests.get(f'https://api.github.com/repos/{owner}/{repo}/contents/{path}',\n",
    "    headers={\n",
    "        'accept': 'application/vnd.github.v3.raw',\n",
    "        'authorization': f'token {token}'\n",
    "            }\n",
    "                )\n",
    "\n",
    "string_io_obj = StringIO(r.text)"
   ]
  },
  {
   "cell_type": "code",
   "execution_count": null,
   "metadata": {
    "colab": {
     "base_uri": "https://localhost:8080/",
     "height": 204
    },
    "executionInfo": {
     "elapsed": 1033,
     "status": "ok",
     "timestamp": 1601341955472,
     "user": {
      "displayName": "Daniel Levita",
      "photoUrl": "https://lh3.googleusercontent.com/a-/AOh14GiyPIUOd_DCE1_soU5rS77DkpJyfVNWNY36oSNNnoM=s64",
      "userId": "11217355149532741913"
     },
     "user_tz": 180
    },
    "id": "L2UpC8HRyE-E",
    "outputId": "5ead2990-8b77-4e4b-d898-e380a803f094"
   },
   "outputs": [],
   "source": [
    "trajs = pd.read_csv(string_io_obj, sep=\";\")"
   ]
  },
  {
   "cell_type": "code",
   "execution_count": null,
   "metadata": {},
   "outputs": [],
   "source": [
    "trajs.head()"
   ]
  },
  {
   "cell_type": "markdown",
   "metadata": {
    "heading_collapsed": "true",
    "id": "m1gT7PG02SPD"
   },
   "source": [
    "## Tratamento dos dados"
   ]
  },
  {
   "cell_type": "markdown",
   "metadata": {
    "heading_collapsed": "true"
   },
   "source": [
    "### Renomeando colunas"
   ]
  },
  {
   "cell_type": "code",
   "execution_count": null,
   "metadata": {
    "executionInfo": {
     "elapsed": 1033,
     "status": "ok",
     "timestamp": 1601341955474,
     "user": {
      "displayName": "Daniel Levita",
      "photoUrl": "https://lh3.googleusercontent.com/a-/AOh14GiyPIUOd_DCE1_soU5rS77DkpJyfVNWNY36oSNNnoM=s64",
      "userId": "11217355149532741913"
     },
     "user_tz": 180
    },
    "id": "8nDKu7zGrvxq"
   },
   "outputs": [],
   "source": [
    "trajs = trajs.rename(columns={'velocidade_km/h': 'velocidade', 'rain': 'chuva_gdas', 'evt_sum_rain': 'evt_soma_chuva', \n",
    "                              'evt_avg_rain': 'evt_media_chuva', 'evt_max_rain': 'evt_max_chuva', 'direcao_graus': 'direcao'})"
   ]
  },
  {
   "cell_type": "code",
   "execution_count": null,
   "metadata": {
    "colab": {
     "base_uri": "https://localhost:8080/",
     "height": 419
    },
    "executionInfo": {
     "elapsed": 1024,
     "status": "ok",
     "timestamp": 1601341955474,
     "user": {
      "displayName": "Daniel Levita",
      "photoUrl": "https://lh3.googleusercontent.com/a-/AOh14GiyPIUOd_DCE1_soU5rS77DkpJyfVNWNY36oSNNnoM=s64",
      "userId": "11217355149532741913"
     },
     "user_tz": 180
    },
    "id": "tHlW6Tb30O4G",
    "outputId": "6bdf19bc-10a6-4b93-84e4-e1be6815dbaf"
   },
   "outputs": [],
   "source": [
    "trajs = trajs.dropna()\n",
    "trajs.head()"
   ]
  },
  {
   "cell_type": "markdown",
   "metadata": {
    "heading_collapsed": "true",
    "id": "IbY7XGJLI4kn"
   },
   "source": [
    "### Tipando a coluna de data"
   ]
  },
  {
   "cell_type": "code",
   "execution_count": null,
   "metadata": {
    "colab": {
     "base_uri": "https://localhost:8080/",
     "height": 204
    },
    "executionInfo": {
     "elapsed": 1002,
     "status": "ok",
     "timestamp": 1601341955476,
     "user": {
      "displayName": "Daniel Levita",
      "photoUrl": "https://lh3.googleusercontent.com/a-/AOh14GiyPIUOd_DCE1_soU5rS77DkpJyfVNWNY36oSNNnoM=s64",
      "userId": "11217355149532741913"
     },
     "user_tz": 180
    },
    "id": "0qFGyxMpJAr7",
    "outputId": "dc875488-18c0-4627-93f9-ae8d970f7a5e"
   },
   "outputs": [],
   "source": [
    "trajs['data'] = pd.to_datetime(trajs['data'])"
   ]
  },
  {
   "cell_type": "markdown",
   "metadata": {
    "heading_collapsed": "true"
   },
   "source": [
    "### Novas colunas"
   ]
  },
  {
   "cell_type": "markdown",
   "metadata": {
    "heading_collapsed": "true",
    "id": "vD3WNV-nRASP"
   },
   "source": [
    "#### Sentidos das trajetórias"
   ]
  },
  {
   "cell_type": "code",
   "execution_count": null,
   "metadata": {},
   "outputs": [],
   "source": [
    "direcoes = (\"N\", \"NNE\", \"NE\", \"ENE\", \"E\", \"ESE\", \"SE\", \"SSE\", \"S\", \"SSW\", \"SW\", \"WSW\", \"W\", \"WNW\", \"NW\", \"NNW\")"
   ]
  },
  {
   "cell_type": "code",
   "execution_count": null,
   "metadata": {},
   "outputs": [],
   "source": [
    "def direcao_categorica(direcao_em_graus):\n",
    "    indice = int(direcao_em_graus // 22.5)\n",
    "    resto = direcao_em_graus % 22.5\n",
    "    if resto > 11.25:\n",
    "        indice += 1\n",
    "    if indice == 16:\n",
    "        indice = 0\n",
    "    return direcoes[indice]"
   ]
  },
  {
   "cell_type": "code",
   "execution_count": null,
   "metadata": {},
   "outputs": [],
   "source": [
    "trajs['direcao_cat'] = trajs['direcao'].apply(direcao_categorica)\n",
    "trajs.head(10)"
   ]
  },
  {
   "cell_type": "markdown",
   "metadata": {
    "heading_collapsed": "true",
    "id": "4PZRU1gC83DH"
   },
   "source": [
    "#### Categorizando as velocidades"
   ]
  },
  {
   "cell_type": "code",
   "execution_count": null,
   "metadata": {},
   "outputs": [],
   "source": [
    "velocidades = ('0-5 km/h', '5-10 km/h', '10-15 km/h', '15-20 km/h', '20-25 km/h', '25-30 km/h', '30-35 km/h', '35-40 km/h','40-45 km/h')"
   ]
  },
  {
   "cell_type": "code",
   "execution_count": null,
   "metadata": {},
   "outputs": [],
   "source": [
    "def velocidade_categorica(velocidade_kmh):\n",
    "    indice = int(velocidade_kmh // 5)\n",
    "    return velocidades[indice]"
   ]
  },
  {
   "cell_type": "code",
   "execution_count": null,
   "metadata": {},
   "outputs": [],
   "source": [
    "trajs['velocidade_cat'] = trajs['velocidade'].apply(velocidade_categorica)\n",
    "trajs.head(10)"
   ]
  },
  {
   "cell_type": "markdown",
   "metadata": {
    "heading_collapsed": "true"
   },
   "source": [
    "#### Categorizando a soma de chuva por evento"
   ]
  },
  {
   "cell_type": "code",
   "execution_count": null,
   "metadata": {},
   "outputs": [],
   "source": [
    "chuvas = ('5-20 mm', '20-35 mm', '35-50 mm', '50-65 mm', '65-80 mm', '80-95 mm', '95-110 mm', '110-125 mm', '125-130 mm')"
   ]
  },
  {
   "cell_type": "code",
   "execution_count": null,
   "metadata": {},
   "outputs": [],
   "source": [
    "def chuva_categorica(chuva_mm):\n",
    "    chuva_mm -= 5\n",
    "    indice = int(chuva_mm // 15)\n",
    "    return chuvas[indice]"
   ]
  },
  {
   "cell_type": "code",
   "execution_count": null,
   "metadata": {},
   "outputs": [],
   "source": [
    "trajs['evt_soma_chuva_cat'] = trajs['evt_soma_chuva'].apply(chuva_categorica)\n",
    "trajs.head(10)"
   ]
  },
  {
   "cell_type": "markdown",
   "metadata": {
    "heading_collapsed": "true",
    "id": "rwhrHjwUSudQ"
   },
   "source": [
    "### Subsets por altitude"
   ]
  },
  {
   "cell_type": "code",
   "execution_count": null,
   "metadata": {
    "executionInfo": {
     "elapsed": 1000,
     "status": "ok",
     "timestamp": 1601341955476,
     "user": {
      "displayName": "Daniel Levita",
      "photoUrl": "https://lh3.googleusercontent.com/a-/AOh14GiyPIUOd_DCE1_soU5rS77DkpJyfVNWNY36oSNNnoM=s64",
      "userId": "11217355149532741913"
     },
     "user_tz": 180
    },
    "id": "6In1vFlw1yZc"
   },
   "outputs": [],
   "source": [
    "trajs_509 = trajs.query(\"altitude == 509\")\n",
    "trajs_659 = trajs.query(\"altitude == 659\")\n",
    "trajs_909 = trajs.query(\"altitude == 909\")"
   ]
  },
  {
   "cell_type": "markdown",
   "metadata": {
    "id": "T-oZJO26BVXP"
   },
   "source": [
    "# Criando os gráficos"
   ]
  },
  {
   "cell_type": "markdown",
   "metadata": {
    "heading_collapsed": "true"
   },
   "source": [
    "## Definindo as funções"
   ]
  },
  {
   "cell_type": "code",
   "execution_count": null,
   "metadata": {},
   "outputs": [],
   "source": [
    "def vel_plot(dataframe, title='<b>Distribuição das massas de ar resultantes em chuva no Soberbo</b>', template='plotly'):\n",
    "    \n",
    "    color_map = dict(zip(velocidades, px.colors.sequential.Plasma_r))\n",
    "    \n",
    "    fig = px.bar_polar(dataframe, r='frequencia', theta='direcao_cat', color='velocidade_cat', color_discrete_map=color_map,\n",
    "                       category_orders={'velocidade_cat': velocidades, 'direcao_cat': direcoes}, \n",
    "                       color_discrete_sequence = px.colors.sequential.Plasma_r)\n",
    "\n",
    "    fig.update_layout(legend=dict(traceorder='reversed', \n",
    "                                  yanchor='top', \n",
    "                                  y=0.99, \n",
    "                                  xanchor='right', \n",
    "                                  x=1.1, \n",
    "                                  title_font_size=13), \n",
    "                      legend_title_text='<b>Velocidade</b>', \n",
    "                      title={'text': title, 'y': 0.97, 'x': 0.5, 'xref': 'paper'}, \n",
    "                      font_family='Open Sans', \n",
    "                      annotations=[dict(\n",
    "                          showarrow=False, \n",
    "                          xref='paper', \n",
    "                          yref='paper', \n",
    "                          x=0.01, y=0.95, \n",
    "                          text='<b>Altitude: 659m',\n",
    "                          font=dict(size=14, color='black'))], \n",
    "                      polar_angularaxis_tickfont_size = 15,\n",
    "                      template=template\n",
    "                     )\n",
    "\n",
    "    fig.update_traces(hovertemplate='<b>%{theta}</b><br>' + 'frequência: %{r:.1f}')\n",
    "    \n",
    "    return fig"
   ]
  },
  {
   "cell_type": "code",
   "execution_count": null,
   "metadata": {},
   "outputs": [],
   "source": [
    "def chuva_plot(dataframe, title='<b>Distribuição das massas de ar resultantes em chuva no Soberbo</b>', \n",
    "               template='plotly', annotation_color='black'):\n",
    "    \n",
    "    color_map = dict(zip(chuvas, px.colors.sequential.Blues))\n",
    "    \n",
    "    fig = px.bar_polar(dataframe, r='frequencia', theta='direcao_cat', color='evt_soma_chuva_cat', color_discrete_map=color_map,\n",
    "                       category_orders={'evt_soma_chuva_cat': chuvas, 'direcao_cat': direcoes})\n",
    "\n",
    "    fig.update_layout(legend=dict(traceorder='reversed', \n",
    "                                  yanchor='top', \n",
    "                                  y=0.99, \n",
    "                                  xanchor='right', \n",
    "                                  x=1.1, \n",
    "                                  title_font_size=14), \n",
    "                      legend_title_text='<b>Precipitação</b>', \n",
    "                      title={'text': title, 'y': 0.98, 'x': 0.5, 'xref': 'paper'}, \n",
    "                      font_family='Open Sans', \n",
    "                      polar_radialaxis_showticklabels=False, \n",
    "                      annotations=[dict(\n",
    "                          showarrow=False, \n",
    "                          xref='paper', \n",
    "                          yref='paper', \n",
    "                          x=0.01, y=0.95, \n",
    "                          text='<b>Altitude: 659m', \n",
    "                          font=dict(size=14, color=annotation_color))], \n",
    "                      polar_angularaxis_tickfont_size = 15, \n",
    "                      template=template\n",
    "                     )\n",
    "\n",
    "    fig.update_traces(hovertemplate='<b>%{theta}</b><br>' + 'frequencia: %{r:.1f}')\n",
    "\n",
    "    return fig"
   ]
  },
  {
   "cell_type": "markdown",
   "metadata": {
    "heading_collapsed": "true"
   },
   "source": [
    "## Geral"
   ]
  },
  {
   "cell_type": "markdown",
   "metadata": {
    "heading_collapsed": "true"
   },
   "source": [
    "### Velocidade"
   ]
  },
  {
   "cell_type": "code",
   "execution_count": null,
   "metadata": {},
   "outputs": [],
   "source": [
    "gp_vel = trajs_659.groupby(['direcao_cat', 'velocidade_cat']).size().reset_index(name='frequencia')\n",
    "gp_vel.head(5)"
   ]
  },
  {
   "cell_type": "code",
   "execution_count": null,
   "metadata": {},
   "outputs": [],
   "source": [
    "fig = vel_plot(gp_vel)\n",
    "fig.show()"
   ]
  },
  {
   "cell_type": "markdown",
   "metadata": {
    "heading_collapsed": "true"
   },
   "source": [
    "### Chuva"
   ]
  },
  {
   "cell_type": "code",
   "execution_count": null,
   "metadata": {},
   "outputs": [],
   "source": [
    "gp_chuva = trajs_659.groupby(['direcao_cat', 'evt_soma_chuva_cat']).size().reset_index(name='frequencia')\n",
    "gp_chuva.head(5)"
   ]
  },
  {
   "cell_type": "code",
   "execution_count": null,
   "metadata": {},
   "outputs": [],
   "source": [
    "fig = chuva_plot(gp_chuva)\n",
    "fig.show()"
   ]
  },
  {
   "cell_type": "markdown",
   "metadata": {
    "heading_collapsed": "true"
   },
   "source": [
    "## Estação úmida/seca"
   ]
  },
  {
   "cell_type": "markdown",
   "metadata": {
    "heading_collapsed": "true"
   },
   "source": [
    "### Dataframes"
   ]
  },
  {
   "cell_type": "code",
   "execution_count": null,
   "metadata": {},
   "outputs": [],
   "source": [
    "meses_chuvosos = ('Jan', 'Feb', 'Mar', 'Apr', 'Oct', 'Nov', 'Dec')\n",
    "meses_secos = ('May', 'Jun', 'Jul', 'Aug', 'Sep')"
   ]
  },
  {
   "cell_type": "code",
   "execution_count": null,
   "metadata": {},
   "outputs": [],
   "source": [
    "trajs_659['mes'] = trajs_659['data'].dt.strftime('%b')\n",
    "trajs_659.head()"
   ]
  },
  {
   "cell_type": "code",
   "execution_count": null,
   "metadata": {},
   "outputs": [],
   "source": [
    "periodo_umido = trajs_659.loc[trajs_659['mes'].isin(meses_chuvosos)]\n",
    "periodo_umido.head()"
   ]
  },
  {
   "cell_type": "code",
   "execution_count": null,
   "metadata": {},
   "outputs": [],
   "source": [
    "periodo_seco = trajs_659.loc[trajs_659['mes'].isin(meses_secos)]\n",
    "periodo_seco.head()"
   ]
  },
  {
   "cell_type": "markdown",
   "metadata": {
    "heading_collapsed": "true"
   },
   "source": [
    "### Velocidade"
   ]
  },
  {
   "cell_type": "code",
   "execution_count": null,
   "metadata": {},
   "outputs": [],
   "source": [
    "gp_vel_umido = periodo_umido.groupby(['direcao_cat', 'velocidade_cat']).size().reset_index(name='frequencia')\n",
    "gp_vel_umido.head()"
   ]
  },
  {
   "cell_type": "code",
   "execution_count": null,
   "metadata": {},
   "outputs": [],
   "source": [
    "fig = vel_plot(gp_vel_umido, title='<b>Período úmido</b>')\n",
    "fig.show()"
   ]
  },
  {
   "cell_type": "code",
   "execution_count": null,
   "metadata": {},
   "outputs": [],
   "source": [
    "gp_vel_seco = periodo_seco.groupby(['direcao_cat', 'velocidade_cat']).size().reset_index(name='frequencia')\n",
    "gp_vel_seco.head()"
   ]
  },
  {
   "cell_type": "code",
   "execution_count": null,
   "metadata": {},
   "outputs": [],
   "source": [
    "fig = vel_plot(gp_vel_seco, title='<b>Período seco</b>')\n",
    "fig.show()"
   ]
  },
  {
   "cell_type": "markdown",
   "metadata": {
    "heading_collapsed": "true"
   },
   "source": [
    "### Chuva"
   ]
  },
  {
   "cell_type": "code",
   "execution_count": null,
   "metadata": {},
   "outputs": [],
   "source": [
    "gp_chuva_umido = periodo_umido.groupby(['direcao_cat', 'evt_soma_chuva_cat']).size().reset_index(name='frequencia')\n",
    "gp_chuva_umido.head()"
   ]
  },
  {
   "cell_type": "code",
   "execution_count": null,
   "metadata": {},
   "outputs": [],
   "source": [
    "fig = chuva_plot(dataframe=gp_chuva_umido, title='<b>Período úmido</b>')\n",
    "fig.show()"
   ]
  },
  {
   "cell_type": "code",
   "execution_count": null,
   "metadata": {},
   "outputs": [],
   "source": [
    "gp_chuva_seco = periodo_seco.groupby(['direcao_cat', 'evt_soma_chuva_cat']).size().reset_index(name='frequencia')\n",
    "gp_chuva_seco.head()"
   ]
  },
  {
   "cell_type": "code",
   "execution_count": null,
   "metadata": {},
   "outputs": [],
   "source": [
    "fig = chuva_plot(dataframe=gp_chuva_seco, title='<b>Período seco</b>')\n",
    "fig.show()"
   ]
  },
  {
   "cell_type": "markdown",
   "metadata": {
    "heading_collapsed": "true"
   },
   "source": [
    "## Campanhas"
   ]
  },
  {
   "cell_type": "code",
   "execution_count": null,
   "metadata": {},
   "outputs": [],
   "source": [
    "campanhas = trajs_659['campanha'].unique()"
   ]
  },
  {
   "cell_type": "markdown",
   "metadata": {},
   "source": [
    "### Velocidade"
   ]
  },
  {
   "cell_type": "code",
   "execution_count": null,
   "metadata": {},
   "outputs": [],
   "source": [
    "for campanha in campanhas:\n",
    "    df = trajs_659.loc[trajs_659[\"campanha\"] == campanha]\n",
    "    df = df.groupby(['direcao_cat', 'velocidade_cat']).size().reset_index(name='frequencia')\n",
    "\n",
    "    fig = vel_plot(df, title=f'<b>{campanha}</b>')\n",
    "    #fig.show() "
   ]
  },
  {
   "cell_type": "markdown",
   "metadata": {
    "heading_collapsed": "true"
   },
   "source": [
    "### Chuva"
   ]
  },
  {
   "cell_type": "code",
   "execution_count": null,
   "metadata": {},
   "outputs": [],
   "source": [
    "for campanha in campanhas:\n",
    "    df = trajs_659.loc[trajs_659[\"campanha\"] == campanha]\n",
    "    df = df.groupby(['direcao_cat', 'evt_soma_chuva_cat']).size().reset_index(name='frequencia')\n",
    "    \n",
    "    fig = chuva_plot(df, title=f'<b>{campanha}</b>', template='plotly_dark', annotation_color='white')\n",
    "    fig.show()"
   ]
  }
 ],
 "metadata": {
  "colab": {
   "collapsed_sections": [],
   "name": "trajs_SB.ipynb",
   "provenance": []
  },
  "kernelspec": {
   "display_name": "Python 3",
   "language": "python",
   "name": "python3"
  },
  "language_info": {
   "codemirror_mode": {
    "name": "ipython",
    "version": 3
   },
   "file_extension": ".py",
   "mimetype": "text/x-python",
   "name": "python",
   "nbconvert_exporter": "python",
   "pygments_lexer": "ipython3",
   "version": "3.7.9"
  },
  "toc-showmarkdowntxt": false,
  "toc-showtags": false
 },
 "nbformat": 4,
 "nbformat_minor": 4
}
