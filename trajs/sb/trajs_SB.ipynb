{
 "cells": [
  {
   "cell_type": "markdown",
   "metadata": {
    "id": "qGvi3CQJ2CL0"
   },
   "source": [
    "# Importando e tratando a base de dados"
   ]
  },
  {
   "cell_type": "markdown",
   "metadata": {
    "id": "YUZ5Qcym2OyJ"
   },
   "source": [
    "><h1>Importação dos dados"
   ]
  },
  {
   "cell_type": "code",
   "execution_count": null,
   "metadata": {
    "executionInfo": {
     "elapsed": 685,
     "status": "ok",
     "timestamp": 1601341955112,
     "user": {
      "displayName": "Daniel Levita",
      "photoUrl": "https://lh3.googleusercontent.com/a-/AOh14GiyPIUOd_DCE1_soU5rS77DkpJyfVNWNY36oSNNnoM=s64",
      "userId": "11217355149532741913"
     },
     "user_tz": 180
    },
    "id": "8L8XCMms2_v7"
   },
   "outputs": [],
   "source": [
    "import json\n",
    "import requests\n",
    "from io import StringIO\n",
    "\n",
    "# carregando as credenciais\n",
    "with open(\"/home/daniel/geohmount/code/credentials.json\", \"r\") as credentials_file:\n",
    "    credentials = json.load(credentials_file)\n",
    "# parametros da request (github info)\n",
    "owner = credentials[\"github\"][\"username\"]\n",
    "token = credentials[\"github\"][\"token\"]\n",
    "repo = credentials[\"github\"][\"repo\"]\n",
    "path = 'trajs/sb/resultado.csv'\n",
    "\n",
    "# enviando o request\n",
    "r = requests.get(f'https://api.github.com/repos/{owner}/{repo}/contents/{path}',\n",
    "    headers={\n",
    "        'accept': 'application/vnd.github.v3.raw',\n",
    "        'authorization': f'token {token}'\n",
    "            }\n",
    "    )\n",
    "\n",
    "# convertendo a string em objeto stringIO\n",
    "string_io_obj = StringIO(r.text)"
   ]
  },
  {
   "cell_type": "code",
   "execution_count": null,
   "metadata": {
    "colab": {
     "base_uri": "https://localhost:8080/",
     "height": 204
    },
    "executionInfo": {
     "elapsed": 1033,
     "status": "ok",
     "timestamp": 1601341955472,
     "user": {
      "displayName": "Daniel Levita",
      "photoUrl": "https://lh3.googleusercontent.com/a-/AOh14GiyPIUOd_DCE1_soU5rS77DkpJyfVNWNY36oSNNnoM=s64",
      "userId": "11217355149532741913"
     },
     "user_tz": 180
    },
    "id": "L2UpC8HRyE-E",
    "outputId": "5ead2990-8b77-4e4b-d898-e380a803f094"
   },
   "outputs": [],
   "source": [
    "import pandas as pd\n",
    "\n",
    "trajs = pd.read_csv(string_io_obj, sep=\";\")"
   ]
  },
  {
   "cell_type": "code",
   "execution_count": null,
   "metadata": {},
   "outputs": [],
   "source": [
    "trajs.head(15)"
   ]
  },
  {
   "cell_type": "markdown",
   "metadata": {
    "id": "m1gT7PG02SPD"
   },
   "source": [
    "><h1>Tratamento dos dados"
   ]
  },
  {
   "cell_type": "markdown",
   "metadata": {
    "id": "8KT66Kn3sDc7"
   },
   "source": [
    ">><h2>Renomeando colunas"
   ]
  },
  {
   "cell_type": "code",
   "execution_count": null,
   "metadata": {
    "executionInfo": {
     "elapsed": 1033,
     "status": "ok",
     "timestamp": 1601341955474,
     "user": {
      "displayName": "Daniel Levita",
      "photoUrl": "https://lh3.googleusercontent.com/a-/AOh14GiyPIUOd_DCE1_soU5rS77DkpJyfVNWNY36oSNNnoM=s64",
      "userId": "11217355149532741913"
     },
     "user_tz": 180
    },
    "id": "8nDKu7zGrvxq"
   },
   "outputs": [],
   "source": [
    "trajs = trajs.rename(columns={'data': 'data_full', 'velocidade_km/h': 'velocidade'})"
   ]
  },
  {
   "cell_type": "markdown",
   "metadata": {
    "id": "IbUrQFYVQ2VY"
   },
   "source": [
    ">><h2>Removendo trajetórias sem campanha"
   ]
  },
  {
   "cell_type": "code",
   "execution_count": null,
   "metadata": {
    "colab": {
     "base_uri": "https://localhost:8080/",
     "height": 419
    },
    "executionInfo": {
     "elapsed": 1024,
     "status": "ok",
     "timestamp": 1601341955474,
     "user": {
      "displayName": "Daniel Levita",
      "photoUrl": "https://lh3.googleusercontent.com/a-/AOh14GiyPIUOd_DCE1_soU5rS77DkpJyfVNWNY36oSNNnoM=s64",
      "userId": "11217355149532741913"
     },
     "user_tz": 180
    },
    "id": "tHlW6Tb30O4G",
    "outputId": "6bdf19bc-10a6-4b93-84e4-e1be6815dbaf"
   },
   "outputs": [],
   "source": [
    "trajs = trajs.dropna()\n",
    "trajs"
   ]
  },
  {
   "cell_type": "markdown",
   "metadata": {
    "id": "vD3WNV-nRASP"
   },
   "source": [
    ">><h2>Criando a coluna categórica dos sentidos das trajetórias"
   ]
  },
  {
   "cell_type": "code",
   "execution_count": null,
   "metadata": {
    "colab": {
     "base_uri": "https://localhost:8080/",
     "height": 359
    },
    "executionInfo": {
     "elapsed": 1016,
     "status": "ok",
     "timestamp": 1601341955475,
     "user": {
      "displayName": "Daniel Levita",
      "photoUrl": "https://lh3.googleusercontent.com/a-/AOh14GiyPIUOd_DCE1_soU5rS77DkpJyfVNWNY36oSNNnoM=s64",
      "userId": "11217355149532741913"
     },
     "user_tz": 180
    },
    "id": "oDaDAojgDUqN",
    "outputId": "1f1ba7f0-837e-45fc-c655-72531ba8a799"
   },
   "outputs": [],
   "source": [
    "sentidos_switcher = {0: \"N\", # dicionário com os sentidos de acordo com a rosa dos ventos\n",
    "        1: \"NNE\",\n",
    "        2: \"NE\",\n",
    "        3: \"ENE\",\n",
    "        4: \"E\",\n",
    "        5: \"ESE\",\n",
    "        6: \"SE\",\n",
    "        7: \"SSE\",\n",
    "        8: \"S\",\n",
    "        9: \"SSW\",\n",
    "        10: \"SW\",\n",
    "        11: \"WSW\",\n",
    "        12:\"W\",\n",
    "        13:\"WNW\",\n",
    "        14:\"NW\",\n",
    "        15:\"NNW\",\n",
    "}\n",
    "sentidos = list() #lista que vai armazenar os sentidos\n",
    "for value in trajs['direcao_graus']: \n",
    "  quociente = value // 22.5\n",
    "  resto = value % 22.5              # laço de repetição que atribui um número inteiro de acordo com cada direção em graus\n",
    "  if resto > 11.25: \n",
    "    quociente += 1\n",
    "  sentidos.append(sentidos_switcher.get(quociente))\n",
    "trajs['direcao_cat'] = sentidos\n",
    "trajs.head(10)"
   ]
  },
  {
   "cell_type": "markdown",
   "metadata": {
    "id": "4PZRU1gC83DH"
   },
   "source": [
    ">><h2>Criando a coluna categórica de velocidades"
   ]
  },
  {
   "cell_type": "code",
   "execution_count": null,
   "metadata": {
    "colab": {
     "base_uri": "https://localhost:8080/",
     "height": 359
    },
    "executionInfo": {
     "elapsed": 1008,
     "status": "ok",
     "timestamp": 1601341955475,
     "user": {
      "displayName": "Daniel Levita",
      "photoUrl": "https://lh3.googleusercontent.com/a-/AOh14GiyPIUOd_DCE1_soU5rS77DkpJyfVNWNY36oSNNnoM=s64",
      "userId": "11217355149532741913"
     },
     "user_tz": 180
    },
    "id": "_7klgQWU82dJ",
    "outputId": "06a2c1e0-cde7-4d06-98b8-4f9539ca81e7"
   },
   "outputs": [],
   "source": [
    "velocidades_switcher = {0: '0-5 km/h', #dicionário com as velocidades categóricas\n",
    "               1: '5-10 km/h',\n",
    "               2: '10-15 km/h',\n",
    "               3: '15-20 km/h',\n",
    "               4: '20-25 km/h',\n",
    "               5: '25-30 km/h',\n",
    "               6: '30-35 km/h',\n",
    "               7: '35-40 km/h',\n",
    "               8: '40-45 km/h',\n",
    "}\n",
    "velocidades = list()\n",
    "for value in trajs['velocidade']:\n",
    "  quociente = value // 5\n",
    "  velocidades.append(velocidades_switcher.get(quociente))\n",
    "trajs['velocidade_cat'] = velocidades\n",
    "trajs.head(10)"
   ]
  },
  {
   "source": [
    ">><h2>Criando a coluna categórica de soma de chuva do evento (dados da estação meteorológica)"
   ],
   "cell_type": "markdown",
   "metadata": {}
  },
  {
   "cell_type": "code",
   "execution_count": null,
   "metadata": {},
   "outputs": [],
   "source": [
    "chuvas_switcher = {0: '5-20 mm', #dicionário com as chuvas categóricas\n",
    "               1: '20-35 mm',\n",
    "               2: '35-50 mm',\n",
    "               3: '50-65 mm',\n",
    "               4: '65-80 mm',\n",
    "               5: '80-95 mm',\n",
    "               6: '95-110 mm',\n",
    "               7: '110-125 mm',\n",
    "               8: '125-130 mm',\n",
    "}\n",
    "chuvas = list()\n",
    "for value in trajs['evt_sum_rain']:\n",
    "  value -= 5\n",
    "  quociente = value // 15\n",
    "  chuvas.append(chuvas_switcher.get(quociente))\n",
    "trajs['evt_sum_rain_cat'] = chuvas\n",
    "trajs.head(10)"
   ]
  },
  {
   "cell_type": "markdown",
   "metadata": {
    "id": "IbY7XGJLI4kn"
   },
   "source": [
    ">><h2>Criando a coluna categórica de data formatada em 'mês, ano'"
   ]
  },
  {
   "cell_type": "code",
   "execution_count": null,
   "metadata": {
    "colab": {
     "base_uri": "https://localhost:8080/",
     "height": 204
    },
    "executionInfo": {
     "elapsed": 1002,
     "status": "ok",
     "timestamp": 1601341955476,
     "user": {
      "displayName": "Daniel Levita",
      "photoUrl": "https://lh3.googleusercontent.com/a-/AOh14GiyPIUOd_DCE1_soU5rS77DkpJyfVNWNY36oSNNnoM=s64",
      "userId": "11217355149532741913"
     },
     "user_tz": 180
    },
    "id": "0qFGyxMpJAr7",
    "outputId": "dc875488-18c0-4627-93f9-ae8d970f7a5e"
   },
   "outputs": [],
   "source": [
    "trajs['data'] = pd.to_datetime(trajs['data_full'])\n",
    "trajs['data'] = trajs['data'].dt.strftime('%B, %Y')\n",
    "trajs.head()"
   ]
  },
  {
   "cell_type": "markdown",
   "metadata": {
    "id": "rwhrHjwUSudQ"
   },
   "source": [
    ">><h2>Criando datasets separados por altitude"
   ]
  },
  {
   "cell_type": "code",
   "execution_count": null,
   "metadata": {
    "executionInfo": {
     "elapsed": 1000,
     "status": "ok",
     "timestamp": 1601341955476,
     "user": {
      "displayName": "Daniel Levita",
      "photoUrl": "https://lh3.googleusercontent.com/a-/AOh14GiyPIUOd_DCE1_soU5rS77DkpJyfVNWNY36oSNNnoM=s64",
      "userId": "11217355149532741913"
     },
     "user_tz": 180
    },
    "id": "6In1vFlw1yZc"
   },
   "outputs": [],
   "source": [
    "trajs_509 = trajs.query(\"altitude == 509\")\n",
    "trajs_659 = trajs.query(\"altitude == 659\")\n",
    "trajs_909 = trajs.query(\"altitude == 909\")"
   ]
  },
  {
   "source": [
    "# Criando os gráficos gerais"
   ],
   "cell_type": "markdown",
   "metadata": {
    "id": "T-oZJO26BVXP"
   }
  },
  {
   "source": [
    "><h2> Velocidade"
   ],
   "cell_type": "markdown",
   "metadata": {}
  },
  {
   "cell_type": "code",
   "execution_count": null,
   "metadata": {
    "colab": {
     "base_uri": "https://localhost:8080/",
     "height": 542
    },
    "executionInfo": {
     "elapsed": 590,
     "status": "ok",
     "timestamp": 1601338218233,
     "user": {
      "displayName": "Daniel Levita",
      "photoUrl": "https://lh3.googleusercontent.com/a-/AOh14GiyPIUOd_DCE1_soU5rS77DkpJyfVNWNY36oSNNnoM=s64",
      "userId": "11217355149532741913"
     },
     "user_tz": 180
    },
    "id": "5tPk7YH1Bkfl",
    "outputId": "1169fc25-4ae6-43dc-92f8-e6a14dc447d4"
   },
   "outputs": [],
   "source": [
    "import plotly.express as px\n",
    "import plotly.graph_objects as go\n",
    "\n",
    "velocidades = ['0-5 km/h', '5-10 km/h', '10-15 km/h', '15-20 km/h', '20-25 km/h', '25-30 km/h', '30-35 km/h', '35-40 km/h','40-45 km/h']\n",
    "direcoes = [\"N\", \"NNE\", \"NE\", \"ENE\", \"E\", \"ESE\", \"SE\", \"SSE\", \"S\", \"SSW\", \"SW\", \"WSW\", \"W\", \"WNW\", \"NW\", \"NNW\"]\n",
    "\n",
    "fig = px.bar_polar(trajs_659, r='velocidade', theta='direcao_cat', color='velocidade_cat', \n",
    "                   category_orders={'velocidade_cat': velocidades,\n",
    "                                    'direcao_cat': direcoes}, \n",
    "                   color_discrete_sequence = px.colors.sequential.Plasma_r,)\n",
    "\n",
    "fig.update_layout(legend=dict(\n",
    "     traceorder='reversed',\n",
    "     yanchor='top',\n",
    "     y=0.99,\n",
    "     xanchor='right',\n",
    "     x=1.1,\n",
    "     title_font_size=14),\n",
    "     legend_title_text='<b>Velocidade',\n",
    "     title={'text': '<b>Distribuição das massas de ar resultantes em chuva no Soberbo',\n",
    "            'y': 0.98, 'x': 0.5, 'xref': 'paper'},\n",
    "     font_family='Open Sans',\n",
    "     polar_radialaxis_showticklabels=False,\n",
    "     annotations=[dict(\n",
    "        showarrow=False,\n",
    "        xref='paper',\n",
    "        yref='paper',\n",
    "        x=0.01, y=0.95,\n",
    "        text='<b>Altitude: 659m',\n",
    "        font=dict(size=14, color='black'))],\n",
    "     polar_angularaxis_tickfont_size = 15,\n",
    "     paper_bgcolor='rgb(255, 255, 255)'\n",
    ")\n",
    "\n",
    "fig.update_traces(hovertemplate=\n",
    "                  '<b>%{theta}</b><br>'+\n",
    "                  'velocidade (km/h): %{r:.1f}<br>')\n",
    "\n",
    "fig.show()"
   ]
  },
  {
   "source": [
    "><h2> Chuva"
   ],
   "cell_type": "markdown",
   "metadata": {}
  },
  {
   "cell_type": "code",
   "execution_count": null,
   "metadata": {},
   "outputs": [],
   "source": [
    "import plotly.express as px\n",
    "import plotly.graph_objects as go\n",
    "\n",
    "chuvas = ['5-20 mm', '20-35 mm', '35-50 mm', '50-65 mm', '65-80 mm', '80-95 mm', '95-110 mm', '110-125 mm', '125-130 mm']\n",
    "direcoes = [\"N\", \"NNE\", \"NE\", \"ENE\", \"E\", \"ESE\", \"SE\", \"SSE\", \"S\", \"SSW\", \"SW\", \"WSW\", \"W\", \"WNW\", \"NW\", \"NNW\"]\n",
    "\n",
    "fig = px.bar_polar(trajs_659, r='evt_sum_rain', theta='direcao_cat', color='evt_sum_rain_cat', \n",
    "                   category_orders={'evt_sum_rain_cat': chuvas,\n",
    "                                    'direcao_cat': direcoes}, \n",
    "                   color_discrete_sequence = px.colors.sequential.Blues,)\n",
    "\n",
    "fig.update_layout(legend=dict(\n",
    "     traceorder='reversed',\n",
    "     yanchor='top',\n",
    "     y=0.99,\n",
    "     xanchor='right',\n",
    "     x=1.1,\n",
    "     title_font_size=14),\n",
    "     legend_title_text='<b>Precipitação',\n",
    "     title={'text': '<b>Distribuição das massas de ar resultantes em chuva no Soberbo',\n",
    "            'y': 0.98, 'x': 0.5, 'xref': 'paper'},\n",
    "     font_family='Open Sans',\n",
    "     polar_radialaxis_showticklabels=False,\n",
    "     annotations=[dict(\n",
    "        showarrow=False,\n",
    "        xref='paper',\n",
    "        yref='paper',\n",
    "        x=0.01, y=0.95,\n",
    "        text='<b>Altitude: 659m',\n",
    "        font=dict(size=14, color='black'))],\n",
    "     polar_angularaxis_tickfont_size = 15,\n",
    "     paper_bgcolor='rgb(255, 255, 255)'\n",
    ")\n",
    "\n",
    "fig.update_traces(hovertemplate=\n",
    "                  '<b>%{theta}</b><br>'+\n",
    "                  'chuva (mm): %{r:.1f}<br>')\n",
    "\n",
    "fig.show()"
   ]
  },
  {
   "source": [
    "# Criando os gráficos por campanha"
   ],
   "cell_type": "markdown",
   "metadata": {}
  },
  {
   "source": [
    "><h2>Velocidade"
   ],
   "cell_type": "markdown",
   "metadata": {}
  },
  {
   "cell_type": "code",
   "execution_count": null,
   "metadata": {},
   "outputs": [],
   "source": [
    "import plotly.express as px\n",
    "\n",
    "velocidades = ['0-5 km/h', '5-10 km/h', '10-15 km/h', '15-20 km/h', '20-25 km/h', '25-30 km/h', '30-35 km/h', '35-40 km/h','40-45 km/h']\n",
    "direcoes = [\"N\", \"NNE\", \"NE\", \"ENE\", \"E\", \"ESE\", \"SE\", \"SSE\", \"S\", \"SSW\", \"SW\", \"WSW\", \"W\", \"WNW\", \"NW\", \"NNW\"]\n",
    "\n",
    "campanhas = trajs_659['campanha'].unique()\n",
    "\n",
    "# padronizar as cores nos gráficos pelo valor de velocidade_cat\n",
    "color_discrete_map = {'0-5 km/h': 'rgb(240, 249, 33)', '5-10 km/h': 'rgb(253, 202, 38)', '10-15 km/h': 'rgb(251, 159, 58)', '15-20 km/h': 'rgb(237, 121, 83)', '20-25 km/h': 'rgb(216, 87, 107)', '25-30 km/h': 'rgb(189, 55, 134)', '30-35 km/h': 'rgb(156, 23, 158)', '35-40 km/h': 'rgb(114, 1, 168)','40-45 km/h': 'rgb(70, 3, 159)'}\n",
    "\n",
    "for campanha in campanhas:\n",
    "    df = trajs_659.loc[trajs_659[\"campanha\"] == campanha]\n",
    "        \n",
    "    fig = px.bar_polar(df, r='velocidade', theta='direcao_cat', color='velocidade_cat', color_discrete_map=color_discrete_map,\n",
    "                      category_orders={'velocidade_cat': velocidades,\n",
    "                                      'direcao_cat': direcoes}, \n",
    "                       color_discrete_sequence = px.colors.sequential.Plasma_r)\n",
    "\n",
    "    fig.update_layout(legend=dict(\n",
    "         traceorder='reversed',\n",
    "         yanchor='top',\n",
    "         y=0.99,\n",
    "         xanchor='right',\n",
    "         x=1.1,\n",
    "         title=dict(\n",
    "             text='<b>Velocidade', \n",
    "             font={'size': 14})),\n",
    "         title=f'<b>{campanha}</b>',\n",
    "         font_family='Open Sans',\n",
    "         polar_radialaxis_showticklabels=False,\n",
    "         polar_angularaxis_tickfont_size = 15,\n",
    "         paper_bgcolor='rgb(255, 255, 255)')\n",
    "\n",
    "    fig.show()"
   ]
  },
  {
   "source": [
    "><h2>Chuva"
   ],
   "cell_type": "markdown",
   "metadata": {}
  },
  {
   "cell_type": "code",
   "execution_count": null,
   "metadata": {},
   "outputs": [],
   "source": [
    "import plotly.express as px\n",
    "\n",
    "chuvas = ['5-20 mm', '20-35 mm', '35-50 mm', '50-65 mm', '65-80 mm', '80-95 mm', '95-110 mm', '110-125 mm', '125-130 mm']\n",
    "direcoes = [\"N\", \"NNE\", \"NE\", \"ENE\", \"E\", \"ESE\", \"SE\", \"SSE\", \"S\", \"SSW\", \"SW\", \"WSW\", \"W\", \"WNW\", \"NW\", \"NNW\"]\n",
    "\n",
    "campanhas = trajs_659['campanha'].unique()\n",
    "\n",
    "# padronizar as cores nos gráficos pelo valor de evt_sum_rain_cat\n",
    "color_discrete_map = {'5-20 mm': 'rgb(247,251,255)', '20-35 mm': 'rgb(222,235,247)', '35-50 mm': 'rgb(198,219,239)', '50-65 mm': 'rgb(158,202,225)', '65-80 mm': 'rgb(107,174,214)', '80-95 mm': 'rgb(66,146,198)', '95-110 mm': 'rgb(33,113,181)', '110-125 mm': 'rgb(8,81,156)', '125-130 mm': 'rgb(8,48,107)'}\n",
    "\n",
    "for campanha in campanhas:\n",
    "    df = trajs_659.loc[trajs_659[\"campanha\"] == campanha]\n",
    "        \n",
    "    fig = px.bar_polar(df, r='evt_sum_rain', theta='direcao_cat', color='evt_sum_rain_cat', color_discrete_map=color_discrete_map,\n",
    "                      category_orders={'evt_sum_rain_cat': chuvas,\n",
    "                                      'direcao_cat': direcoes}, \n",
    "                       color_discrete_sequence = px.colors.sequential.Blues)\n",
    "\n",
    "    fig.update_layout(legend=dict(\n",
    "         traceorder='reversed',\n",
    "         yanchor='top',\n",
    "         y=0.99,\n",
    "         xanchor='right',\n",
    "         x=1.1,\n",
    "         title=dict(\n",
    "             text='<b>Precipitação', \n",
    "             font={'size': 14})),\n",
    "         title=f'<b>{campanha}</b>',\n",
    "         font_family='Open Sans',\n",
    "         polar_radialaxis_showticklabels=False,\n",
    "         polar_angularaxis_tickfont_size = 15,\n",
    "         template='plotly_dark')\n",
    "    \n",
    "    fig.update_polars()\n",
    "\n",
    "    fig.show()"
   ]
  }
 ],
 "metadata": {
  "colab": {
   "collapsed_sections": [],
   "name": "trajs_SB.ipynb",
   "provenance": []
  },
  "language_info": {
   "codemirror_mode": {
    "name": "ipython",
    "version": 3
   },
   "file_extension": ".py",
   "mimetype": "text/x-python",
   "name": "python",
   "nbconvert_exporter": "python",
   "pygments_lexer": "ipython3",
   "version": "3.7.9-final"
  }
 },
 "nbformat": 4,
 "nbformat_minor": 4
}