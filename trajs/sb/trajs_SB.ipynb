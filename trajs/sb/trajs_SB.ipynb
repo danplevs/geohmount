{
 "cells": [
  {
   "cell_type": "markdown",
   "metadata": {},
   "source": [
    "# Ambiente"
   ]
  },
  {
   "cell_type": "code",
   "execution_count": null,
   "metadata": {},
   "outputs": [],
   "source": [
    "import pandas as pd\n",
    "import plotly.express as px\n",
    "from trajs.functions.transform import direcao_categorica, velocidade_categorica, chuva_categorica\n",
    "from trajs.functions.geohmount_plots import wind_rose"
   ]
  },
  {
   "cell_type": "markdown",
   "metadata": {
    "id": "qGvi3CQJ2CL0"
   },
   "source": [
    "# Importando e tratando a base de dados"
   ]
  },
  {
   "cell_type": "markdown",
   "metadata": {
    "heading_collapsed": "true",
    "id": "YUZ5Qcym2OyJ"
   },
   "source": [
    "## Importação dos dados"
   ]
  },
  {
   "cell_type": "code",
   "execution_count": null,
   "metadata": {
    "colab": {
     "base_uri": "https://localhost:8080/",
     "height": 204
    },
    "executionInfo": {
     "elapsed": 1033,
     "status": "ok",
     "timestamp": 1601341955472,
     "user": {
      "displayName": "Daniel Levita",
      "photoUrl": "https://lh3.googleusercontent.com/a-/AOh14GiyPIUOd_DCE1_soU5rS77DkpJyfVNWNY36oSNNnoM=s64",
      "userId": "11217355149532741913"
     },
     "user_tz": 180
    },
    "id": "L2UpC8HRyE-E",
    "outputId": "5ead2990-8b77-4e4b-d898-e380a803f094"
   },
   "outputs": [],
   "source": [
    "trajs = pd.read_csv('sb/resultado.csv', sep=\";\")\n",
    "trajs.head()"
   ]
  },
  {
   "cell_type": "markdown",
   "metadata": {
    "id": "m1gT7PG02SPD"
   },
   "source": [
    "## Tratamento dos dados"
   ]
  },
  {
   "cell_type": "markdown",
   "metadata": {
    "heading_collapsed": "true"
   },
   "source": [
    "### Renomeando colunas"
   ]
  },
  {
   "cell_type": "code",
   "execution_count": null,
   "metadata": {
    "executionInfo": {
     "elapsed": 1033,
     "status": "ok",
     "timestamp": 1601341955474,
     "user": {
      "displayName": "Daniel Levita",
      "photoUrl": "https://lh3.googleusercontent.com/a-/AOh14GiyPIUOd_DCE1_soU5rS77DkpJyfVNWNY36oSNNnoM=s64",
      "userId": "11217355149532741913"
     },
     "user_tz": 180
    },
    "id": "8nDKu7zGrvxq"
   },
   "outputs": [],
   "source": [
    "trajs = trajs.rename(columns={'velocidade_km/h': 'velocidade', 'rain': 'chuva_gdas', 'evt_sum_rain': 'evt_soma_chuva', \n",
    "                              'evt_avg_rain': 'evt_media_chuva', 'evt_max_rain': 'evt_max_chuva', 'direcao_graus': 'direcao'})"
   ]
  },
  {
   "cell_type": "markdown",
   "metadata": {
    "heading_collapsed": "true"
   },
   "source": [
    "### Removendo trajetórias sem campanha"
   ]
  },
  {
   "cell_type": "code",
   "execution_count": null,
   "metadata": {
    "colab": {
     "base_uri": "https://localhost:8080/",
     "height": 419
    },
    "executionInfo": {
     "elapsed": 1024,
     "status": "ok",
     "timestamp": 1601341955474,
     "user": {
      "displayName": "Daniel Levita",
      "photoUrl": "https://lh3.googleusercontent.com/a-/AOh14GiyPIUOd_DCE1_soU5rS77DkpJyfVNWNY36oSNNnoM=s64",
      "userId": "11217355149532741913"
     },
     "user_tz": 180
    },
    "id": "tHlW6Tb30O4G",
    "outputId": "6bdf19bc-10a6-4b93-84e4-e1be6815dbaf"
   },
   "outputs": [],
   "source": [
    "trajs = trajs.dropna()\n",
    "trajs.head()"
   ]
  },
  {
   "cell_type": "markdown",
   "metadata": {
    "heading_collapsed": "true",
    "id": "IbY7XGJLI4kn"
   },
   "source": [
    "### Tipando a coluna de data"
   ]
  },
  {
   "cell_type": "code",
   "execution_count": null,
   "metadata": {
    "colab": {
     "base_uri": "https://localhost:8080/",
     "height": 204
    },
    "executionInfo": {
     "elapsed": 1002,
     "status": "ok",
     "timestamp": 1601341955476,
     "user": {
      "displayName": "Daniel Levita",
      "photoUrl": "https://lh3.googleusercontent.com/a-/AOh14GiyPIUOd_DCE1_soU5rS77DkpJyfVNWNY36oSNNnoM=s64",
      "userId": "11217355149532741913"
     },
     "user_tz": 180
    },
    "id": "0qFGyxMpJAr7",
    "outputId": "dc875488-18c0-4627-93f9-ae8d970f7a5e"
   },
   "outputs": [],
   "source": [
    "trajs['data'] = pd.to_datetime(trajs['data'])"
   ]
  },
  {
   "cell_type": "markdown",
   "metadata": {
    "heading_collapsed": "true"
   },
   "source": [
    "### Novas colunas"
   ]
  },
  {
   "cell_type": "markdown",
   "metadata": {
    "heading_collapsed": "true",
    "id": "vD3WNV-nRASP"
   },
   "source": [
    "#### Sentidos das trajetórias"
   ]
  },
  {
   "cell_type": "code",
   "execution_count": null,
   "metadata": {},
   "outputs": [],
   "source": [
    "trajs['direcao_cat'] = trajs['direcao'].apply(direcao_categorica)\n",
    "trajs.head(10)"
   ]
  },
  {
   "cell_type": "markdown",
   "metadata": {
    "heading_collapsed": "true",
    "id": "4PZRU1gC83DH"
   },
   "source": [
    "#### Categorizando as velocidades"
   ]
  },
  {
   "cell_type": "code",
   "execution_count": null,
   "metadata": {},
   "outputs": [],
   "source": [
    "trajs['velocidade_cat'] = trajs['velocidade'].apply(velocidade_categorica)\n",
    "trajs.head(10)"
   ]
  },
  {
   "cell_type": "markdown",
   "metadata": {
    "heading_collapsed": "true"
   },
   "source": [
    "#### Categorizando a soma de chuva por evento"
   ]
  },
  {
   "cell_type": "code",
   "execution_count": null,
   "metadata": {},
   "outputs": [],
   "source": [
    "trajs['evt_soma_chuva_cat'] = trajs['evt_soma_chuva'].apply(chuva_categorica)\n",
    "trajs.head(10)"
   ]
  },
  {
   "cell_type": "markdown",
   "metadata": {
    "heading_collapsed": "true",
    "id": "rwhrHjwUSudQ",
    "toc-hr-collapsed": true
   },
   "source": [
    "### Subsets por altitude"
   ]
  },
  {
   "cell_type": "code",
   "execution_count": null,
   "metadata": {
    "executionInfo": {
     "elapsed": 1000,
     "status": "ok",
     "timestamp": 1601341955476,
     "user": {
      "displayName": "Daniel Levita",
      "photoUrl": "https://lh3.googleusercontent.com/a-/AOh14GiyPIUOd_DCE1_soU5rS77DkpJyfVNWNY36oSNNnoM=s64",
      "userId": "11217355149532741913"
     },
     "user_tz": 180
    },
    "id": "6In1vFlw1yZc"
   },
   "outputs": [],
   "source": [
    "trajs_509 = trajs.query(\"altitude == 509\")\n",
    "trajs_659 = trajs.query(\"altitude == 659\")\n",
    "trajs_909 = trajs.query(\"altitude == 909\")"
   ]
  },
  {
   "cell_type": "markdown",
   "metadata": {
    "id": "T-oZJO26BVXP"
   },
   "source": [
    "# Criando os gráficos"
   ]
  },
  {
   "cell_type": "markdown",
   "metadata": {
    "heading_collapsed": "true"
   },
   "source": [
    "## Geral"
   ]
  },
  {
   "cell_type": "markdown",
   "metadata": {
    "heading_collapsed": "true"
   },
   "source": [
    "### Velocidade"
   ]
  },
  {
   "cell_type": "code",
   "execution_count": null,
   "metadata": {},
   "outputs": [],
   "source": [
    "gp_vel = trajs_659.groupby(['direcao_cat', 'velocidade_cat']).size().reset_index(name='frequencia')\n",
    "gp_vel.head(5)"
   ]
  },
  {
   "cell_type": "code",
   "execution_count": null,
   "metadata": {},
   "outputs": [],
   "source": [
    "gp_vel['frequencia'] = gp_vel['frequencia'] / gp_vel['frequencia'].sum() * 100\n",
    "gp_vel.head(5)"
   ]
  },
  {
   "cell_type": "code",
   "execution_count": null,
   "metadata": {},
   "outputs": [],
   "source": [
    "fig = wind_rose(gp_vel)\n",
    "fig.show()\n",
    "# fig.write_html('plots/trajsSB_vel.html')\n",
    "# fig.write_image('plots/trajsSB_vel.png')"
   ]
  },
  {
   "cell_type": "markdown",
   "metadata": {
    "heading_collapsed": "true"
   },
   "source": [
    "### Chuva"
   ]
  },
  {
   "cell_type": "code",
   "execution_count": null,
   "metadata": {},
   "outputs": [],
   "source": [
    "gp_chuva = trajs_659.groupby(['direcao_cat', 'evt_soma_chuva_cat']).size().reset_index(name='frequencia')\n",
    "gp_chuva.head(5)"
   ]
  },
  {
   "cell_type": "code",
   "execution_count": null,
   "metadata": {},
   "outputs": [],
   "source": [
    "gp_chuva['frequencia'] = gp_chuva['frequencia'] / gp_chuva['frequencia'].sum() * 100\n",
    "gp_chuva.head(5)"
   ]
  },
  {
   "cell_type": "code",
   "execution_count": null,
   "metadata": {},
   "outputs": [],
   "source": [
    "fig = wind_rose(gp_chuva, kind='chuva')\n",
    "fig.show()\n",
    "# fig.write_image('plots/geral/trajsSB_chuva.png')\n",
    "# fig.write_html('plots/geral/trajsSB_chuva.html')"
   ]
  },
  {
   "cell_type": "markdown",
   "metadata": {
    "heading_collapsed": "true"
   },
   "source": [
    "### Artigo - Yasmin"
   ]
  },
  {
   "cell_type": "code",
   "execution_count": null,
   "metadata": {},
   "outputs": [],
   "source": [
    "fig = wind_rose(gp_vel, font_color='black', title='<b>Soberbo</b>', legend_title='<b>Wind Speed</b>', color_sequence=px.colors.sequential.Inferno_r)\n",
    "fig.show()\n",
    "# fig.write_html('plots/artigo-yasmin/trajsSB_vel.html')\n",
    "# fig.write_image('plots/artigo-yasmin/trajsSB_vel.png')"
   ]
  },
  {
   "cell_type": "markdown",
   "metadata": {
    "heading_collapsed": "true"
   },
   "source": [
    "## Estação úmida/seca"
   ]
  },
  {
   "cell_type": "markdown",
   "metadata": {
    "heading_collapsed": "true"
   },
   "source": [
    "### Dataframes"
   ]
  },
  {
   "cell_type": "code",
   "execution_count": null,
   "metadata": {},
   "outputs": [],
   "source": [
    "meses_chuvosos = ('Jan', 'Feb', 'Mar', 'Apr', 'Oct', 'Nov', 'Dec')\n",
    "meses_secos = ('May', 'Jun', 'Jul', 'Aug', 'Sep')"
   ]
  },
  {
   "cell_type": "code",
   "execution_count": null,
   "metadata": {},
   "outputs": [],
   "source": [
    "trajs_659['mes'] = trajs_659['data'].dt.strftime('%b')\n",
    "trajs_659.head()"
   ]
  },
  {
   "cell_type": "code",
   "execution_count": null,
   "metadata": {},
   "outputs": [],
   "source": [
    "periodo_umido = trajs_659.loc[trajs_659['mes'].isin(meses_chuvosos)]\n",
    "periodo_umido.head()"
   ]
  },
  {
   "cell_type": "code",
   "execution_count": null,
   "metadata": {},
   "outputs": [],
   "source": [
    "periodo_seco = trajs_659.loc[trajs_659['mes'].isin(meses_secos)]\n",
    "periodo_seco.head()"
   ]
  },
  {
   "cell_type": "markdown",
   "metadata": {
    "heading_collapsed": "true"
   },
   "source": [
    "### Velocidade"
   ]
  },
  {
   "cell_type": "code",
   "execution_count": null,
   "metadata": {},
   "outputs": [],
   "source": [
    "gp_vel_umido = periodo_umido.groupby(['direcao_cat', 'velocidade_cat']).size().reset_index(name='frequencia')\n",
    "gp_vel_umido.head()"
   ]
  },
  {
   "cell_type": "code",
   "execution_count": null,
   "metadata": {},
   "outputs": [],
   "source": [
    "gp_vel_umido['frequencia'] = gp_vel_umido['frequencia'] / gp_vel_umido['frequencia'].sum() * 100\n",
    "gp_vel_umido.head(5)"
   ]
  },
  {
   "cell_type": "code",
   "execution_count": null,
   "metadata": {},
   "outputs": [],
   "source": [
    "fig = wind_rose(gp_vel_umido, title='<b>Período úmido</b>', tickvals=[4, 6.5, 9, 11.5, 14])\n",
    "fig.show()\n",
    "# fig.write_html('plots/periodos/trajsSB_vel_umido.html')\n",
    "# fig.write_image('plots/trajsSB_vel_umido.png')"
   ]
  },
  {
   "cell_type": "code",
   "execution_count": null,
   "metadata": {},
   "outputs": [],
   "source": [
    "gp_vel_seco = periodo_seco.groupby(['direcao_cat', 'velocidade_cat']).size().reset_index(name='frequencia')\n",
    "gp_vel_seco.head()"
   ]
  },
  {
   "cell_type": "code",
   "execution_count": null,
   "metadata": {},
   "outputs": [],
   "source": [
    "gp_vel_seco['frequencia'] = gp_vel_seco['frequencia'] / gp_vel_seco['frequencia'].sum() * 100\n",
    "gp_vel_seco.head(5)"
   ]
  },
  {
   "cell_type": "code",
   "execution_count": null,
   "metadata": {},
   "outputs": [],
   "source": [
    "fig = wind_rose(gp_vel_seco, title='<b>Período seco</b>', tickvals=[4, 7, 10, 13, 16])\n",
    "fig.show()\n",
    "# fig.write_html('plots/periodos/trajsSB_vel_seco.html')\n",
    "# fig.write_image('plots/trajsSB_vel_seco.png')"
   ]
  },
  {
   "cell_type": "markdown",
   "metadata": {
    "heading_collapsed": "true"
   },
   "source": [
    "### Chuva"
   ]
  },
  {
   "cell_type": "code",
   "execution_count": null,
   "metadata": {},
   "outputs": [],
   "source": [
    "gp_chuva_umido = periodo_umido.groupby(['direcao_cat', 'evt_soma_chuva_cat']).size().reset_index(name='frequencia')\n",
    "gp_chuva_umido.head()"
   ]
  },
  {
   "cell_type": "code",
   "execution_count": null,
   "metadata": {},
   "outputs": [],
   "source": [
    "gp_chuva_umido['frequencia'] = gp_chuva_umido['frequencia'] / gp_chuva_umido['frequencia'].sum() * 100\n",
    "gp_chuva_umido.head()"
   ]
  },
  {
   "cell_type": "code",
   "execution_count": null,
   "metadata": {},
   "outputs": [],
   "source": [
    "fig = wind_rose(gp_chuva_umido, kind='chuva', title='<b>Período úmido</b>', tickvals=[4, 6.5, 9, 11.5, 14])\n",
    "fig.show()\n",
    "# fig.write_html('plots/periodos/trajsSB_chuva_umido.html')\n",
    "# fig.write_image('plots/periodos/trajsSB_chuva_umido.png')"
   ]
  },
  {
   "cell_type": "code",
   "execution_count": null,
   "metadata": {},
   "outputs": [],
   "source": [
    "gp_chuva_seco = periodo_seco.groupby(['direcao_cat', 'evt_soma_chuva_cat']).size().reset_index(name='frequencia')\n",
    "gp_chuva_seco.head()"
   ]
  },
  {
   "cell_type": "code",
   "execution_count": null,
   "metadata": {},
   "outputs": [],
   "source": [
    "gp_chuva_seco['frequencia'] = gp_chuva_seco['frequencia'] / gp_chuva_seco['frequencia'].sum() * 100\n",
    "gp_chuva_seco.head()"
   ]
  },
  {
   "cell_type": "code",
   "execution_count": null,
   "metadata": {},
   "outputs": [],
   "source": [
    "fig = wind_rose(gp_chuva_seco, kind='chuva', title='<b>Período seco</b>', tickvals=[4, 7, 10, 13, 16])\n",
    "fig.show()\n",
    "# fig.write_html('plots/periodos/trajsSB_chuva_seco.html')\n",
    "# fig.write_image('plots/periodos/trajsSB_chuva_seco.png')"
   ]
  },
  {
   "cell_type": "markdown",
   "metadata": {
    "heading_collapsed": "true"
   },
   "source": [
    "## Campanhas"
   ]
  },
  {
   "cell_type": "code",
   "execution_count": null,
   "metadata": {},
   "outputs": [],
   "source": [
    "campanhas = trajs_659['campanha'].unique()"
   ]
  },
  {
   "cell_type": "markdown",
   "metadata": {
    "heading_collapsed": "true"
   },
   "source": [
    "### Velocidade"
   ]
  },
  {
   "cell_type": "code",
   "execution_count": null,
   "metadata": {},
   "outputs": [],
   "source": [
    "for campanha in campanhas:\n",
    "    df = trajs_659.loc[trajs_659[\"campanha\"] == campanha]\n",
    "    df = df.groupby(['direcao_cat', 'velocidade_cat']).size().reset_index(name='frequencia')\n",
    "    df['frequencia'] = df['frequencia'] / df['frequencia'].sum() * 100\n",
    "\n",
    "    fig = wind_rose(df, title=f'<b>{campanha}</b>', showticklabels=False, tickvals=None)\n",
    "    fig.show()\n",
    "    # fig.write_html(f'plots/campanhas/html/vel/{campanha}.html')\n",
    "    # fig.write_image(f'plots/campanhas/png/vel/{campanha}.png')"
   ]
  },
  {
   "cell_type": "markdown",
   "metadata": {
    "heading_collapsed": "true"
   },
   "source": [
    "### Chuva"
   ]
  },
  {
   "cell_type": "code",
   "execution_count": null,
   "metadata": {},
   "outputs": [],
   "source": [
    "for campanha in campanhas:\n",
    "    df = trajs_659.loc[trajs_659[\"campanha\"] == campanha]\n",
    "    df = df.groupby(['direcao_cat', 'evt_soma_chuva_cat']).size().reset_index(name='frequencia')\n",
    "    df['frequencia'] = df['frequencia'] / df['frequencia'].sum() * 100\n",
    "    \n",
    "    fig = wind_rose(df, kind='chuva', title=f'<b>{campanha}</b>', template='plotly_dark',  showticklabels=False, tickvals=None)\n",
    "    fig.show()\n",
    "    # fig.write_html(f'plots/campanhas/html/chuva/{campanha}.html')\n",
    "    # fig.write_image(f'plots/campanhas/png/chuva/{campanha}.png')"
   ]
  }
 ],
 "metadata": {
  "colab": {
   "collapsed_sections": [],
   "name": "trajs_SB.ipynb",
   "provenance": []
  },
  "kernelspec": {
   "display_name": "Python 3.7.9 64-bit ('geohmount': conda)",
   "name": "python379jvsc74a57bd01ff9e72bfa4b87c5c7eb2845b6bc364601686fa0e2be51edbe78ea8f5152e186"
  },
  "language_info": {
   "codemirror_mode": {
    "name": "ipython",
    "version": 3
   },
   "file_extension": ".py",
   "mimetype": "text/x-python",
   "name": "python",
   "nbconvert_exporter": "python",
   "pygments_lexer": "ipython3",
   "version": "3.7.9"
  },
  "metadata": {
   "interpreter": {
    "hash": "1ff9e72bfa4b87c5c7eb2845b6bc364601686fa0e2be51edbe78ea8f5152e186"
   }
  },
  "toc-showmarkdowntxt": false,
  "toc-showtags": false
 },
 "nbformat": 4,
 "nbformat_minor": 4
}