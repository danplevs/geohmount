{
 "cells": [
  {
   "cell_type": "markdown",
   "metadata": {},
   "source": [
    "# Ambiente"
   ]
  },
  {
   "cell_type": "code",
   "execution_count": 4,
   "metadata": {},
   "outputs": [],
   "source": [
    "import pandas as pd\n",
    "import plotly.express as px\n",
    "from functions.geohmount_plots import wind_rose\n",
    "from functions.transform import *"
   ]
  },
  {
   "cell_type": "markdown",
   "metadata": {
    "id": "qGvi3CQJ2CL0"
   },
   "source": [
    "# Importando e tratando a base de dados"
   ]
  },
  {
   "cell_type": "markdown",
   "metadata": {
    "id": "YUZ5Qcym2OyJ"
   },
   "source": [
    "## Importação dos dados"
   ]
  },
  {
   "cell_type": "code",
   "execution_count": 5,
   "metadata": {
    "colab": {
     "base_uri": "https://localhost:8080/",
     "height": 204
    },
    "executionInfo": {
     "elapsed": 1033,
     "status": "ok",
     "timestamp": 1601341955472,
     "user": {
      "displayName": "Daniel Levita",
      "photoUrl": "https://lh3.googleusercontent.com/a-/AOh14GiyPIUOd_DCE1_soU5rS77DkpJyfVNWNY36oSNNnoM=s64",
      "userId": "11217355149532741913"
     },
     "user_tz": 180
    },
    "id": "L2UpC8HRyE-E",
    "outputId": "5ead2990-8b77-4e4b-d898-e380a803f094"
   },
   "outputs": [
    {
     "output_type": "execute_result",
     "data": {
      "text/plain": [
       "                  data  altitude campanha  rain  evt_id  evt_sum_rain  \\\n",
       "0  2018-01-01 22:00:00    2391.0      NaN   0.0       1          19.8   \n",
       "1  2018-01-03 22:00:00    2391.0      NaN   1.3       6          85.8   \n",
       "2  2018-01-04 02:00:00    2391.0      NaN   1.3       6          85.8   \n",
       "3  2018-01-04 01:00:00    2391.0      NaN   1.3       6          85.8   \n",
       "4  2018-01-04 04:00:00    2391.0      NaN   0.3       6          85.8   \n",
       "\n",
       "   evt_avg_rain  evt_max_rain  direcao_graus  velocidade_km/h  \n",
       "0         19.80          19.8     241.753794        21.981513  \n",
       "1          4.29          24.2     270.000000        21.836000  \n",
       "2          4.29          24.2     278.810733        20.845989  \n",
       "3          4.29          24.2     282.587693        21.740565  \n",
       "4          4.29          24.2     269.070961        19.057505  "
      ],
      "text/html": "<div>\n<style scoped>\n    .dataframe tbody tr th:only-of-type {\n        vertical-align: middle;\n    }\n\n    .dataframe tbody tr th {\n        vertical-align: top;\n    }\n\n    .dataframe thead th {\n        text-align: right;\n    }\n</style>\n<table border=\"1\" class=\"dataframe\">\n  <thead>\n    <tr style=\"text-align: right;\">\n      <th></th>\n      <th>data</th>\n      <th>altitude</th>\n      <th>campanha</th>\n      <th>rain</th>\n      <th>evt_id</th>\n      <th>evt_sum_rain</th>\n      <th>evt_avg_rain</th>\n      <th>evt_max_rain</th>\n      <th>direcao_graus</th>\n      <th>velocidade_km/h</th>\n    </tr>\n  </thead>\n  <tbody>\n    <tr>\n      <th>0</th>\n      <td>2018-01-01 22:00:00</td>\n      <td>2391.0</td>\n      <td>NaN</td>\n      <td>0.0</td>\n      <td>1</td>\n      <td>19.8</td>\n      <td>19.80</td>\n      <td>19.8</td>\n      <td>241.753794</td>\n      <td>21.981513</td>\n    </tr>\n    <tr>\n      <th>1</th>\n      <td>2018-01-03 22:00:00</td>\n      <td>2391.0</td>\n      <td>NaN</td>\n      <td>1.3</td>\n      <td>6</td>\n      <td>85.8</td>\n      <td>4.29</td>\n      <td>24.2</td>\n      <td>270.000000</td>\n      <td>21.836000</td>\n    </tr>\n    <tr>\n      <th>2</th>\n      <td>2018-01-04 02:00:00</td>\n      <td>2391.0</td>\n      <td>NaN</td>\n      <td>1.3</td>\n      <td>6</td>\n      <td>85.8</td>\n      <td>4.29</td>\n      <td>24.2</td>\n      <td>278.810733</td>\n      <td>20.845989</td>\n    </tr>\n    <tr>\n      <th>3</th>\n      <td>2018-01-04 01:00:00</td>\n      <td>2391.0</td>\n      <td>NaN</td>\n      <td>1.3</td>\n      <td>6</td>\n      <td>85.8</td>\n      <td>4.29</td>\n      <td>24.2</td>\n      <td>282.587693</td>\n      <td>21.740565</td>\n    </tr>\n    <tr>\n      <th>4</th>\n      <td>2018-01-04 04:00:00</td>\n      <td>2391.0</td>\n      <td>NaN</td>\n      <td>0.3</td>\n      <td>6</td>\n      <td>85.8</td>\n      <td>4.29</td>\n      <td>24.2</td>\n      <td>269.070961</td>\n      <td>19.057505</td>\n    </tr>\n  </tbody>\n</table>\n</div>"
     },
     "metadata": {},
     "execution_count": 5
    }
   ],
   "source": [
    "trajs = pd.read_csv('ps/resultado-direcoes.csv', sep=\";\")\n",
    "trajs.head()"
   ]
  },
  {
   "cell_type": "markdown",
   "metadata": {
    "id": "m1gT7PG02SPD"
   },
   "source": [
    "## Tratamento dos dados"
   ]
  },
  {
   "cell_type": "markdown",
   "metadata": {},
   "source": [
    "### Renomeando colunas"
   ]
  },
  {
   "cell_type": "code",
   "execution_count": 6,
   "metadata": {
    "executionInfo": {
     "elapsed": 1033,
     "status": "ok",
     "timestamp": 1601341955474,
     "user": {
      "displayName": "Daniel Levita",
      "photoUrl": "https://lh3.googleusercontent.com/a-/AOh14GiyPIUOd_DCE1_soU5rS77DkpJyfVNWNY36oSNNnoM=s64",
      "userId": "11217355149532741913"
     },
     "user_tz": 180
    },
    "id": "8nDKu7zGrvxq"
   },
   "outputs": [],
   "source": [
    "trajs = trajs.rename(columns={'velocidade_km/h': 'velocidade', 'rain': 'chuva_gdas', 'evt_sum_rain': 'evt_soma_chuva', \n",
    "                              'evt_avg_rain': 'evt_media_chuva', 'evt_max_rain': 'evt_max_chuva', 'direcao_graus': 'direcao'})"
   ]
  },
  {
   "cell_type": "markdown",
   "metadata": {},
   "source": [
    "### Removendo trajetórias sem campanha"
   ]
  },
  {
   "cell_type": "code",
   "execution_count": 7,
   "metadata": {
    "colab": {
     "base_uri": "https://localhost:8080/",
     "height": 419
    },
    "executionInfo": {
     "elapsed": 1024,
     "status": "ok",
     "timestamp": 1601341955474,
     "user": {
      "displayName": "Daniel Levita",
      "photoUrl": "https://lh3.googleusercontent.com/a-/AOh14GiyPIUOd_DCE1_soU5rS77DkpJyfVNWNY36oSNNnoM=s64",
      "userId": "11217355149532741913"
     },
     "user_tz": 180
    },
    "id": "tHlW6Tb30O4G",
    "outputId": "6bdf19bc-10a6-4b93-84e4-e1be6815dbaf"
   },
   "outputs": [
    {
     "output_type": "execute_result",
     "data": {
      "text/plain": [
       "                   data  altitude        campanha  chuva_gdas  evt_id  \\\n",
       "11  2018-01-06 02:00:00    2391.0  PS190210 - PP1         1.1      12   \n",
       "12  2018-01-06 01:00:00    2391.0  PS190210 - PP1         1.1      12   \n",
       "13  2018-01-06 04:00:00    2391.0  PS190210 - PP1         0.2      12   \n",
       "14  2018-01-08 19:00:00    2391.0  PS190210 - PP1         0.0      18   \n",
       "15  2018-01-08 22:00:00    2391.0  PS190210 - PP1         0.0      18   \n",
       "\n",
       "    evt_soma_chuva  evt_media_chuva  evt_max_chuva     direcao  velocidade  \n",
       "11            18.4             1.84            6.0  338.713595   42.558448  \n",
       "12            18.4             1.84            6.0  337.209409   39.884946  \n",
       "13            18.4             1.84            6.0  339.831788   46.305231  \n",
       "14            30.4             6.08           14.6   28.886582   10.234386  \n",
       "15            30.4             6.08           14.6   48.715289   11.239750  "
      ],
      "text/html": "<div>\n<style scoped>\n    .dataframe tbody tr th:only-of-type {\n        vertical-align: middle;\n    }\n\n    .dataframe tbody tr th {\n        vertical-align: top;\n    }\n\n    .dataframe thead th {\n        text-align: right;\n    }\n</style>\n<table border=\"1\" class=\"dataframe\">\n  <thead>\n    <tr style=\"text-align: right;\">\n      <th></th>\n      <th>data</th>\n      <th>altitude</th>\n      <th>campanha</th>\n      <th>chuva_gdas</th>\n      <th>evt_id</th>\n      <th>evt_soma_chuva</th>\n      <th>evt_media_chuva</th>\n      <th>evt_max_chuva</th>\n      <th>direcao</th>\n      <th>velocidade</th>\n    </tr>\n  </thead>\n  <tbody>\n    <tr>\n      <th>11</th>\n      <td>2018-01-06 02:00:00</td>\n      <td>2391.0</td>\n      <td>PS190210 - PP1</td>\n      <td>1.1</td>\n      <td>12</td>\n      <td>18.4</td>\n      <td>1.84</td>\n      <td>6.0</td>\n      <td>338.713595</td>\n      <td>42.558448</td>\n    </tr>\n    <tr>\n      <th>12</th>\n      <td>2018-01-06 01:00:00</td>\n      <td>2391.0</td>\n      <td>PS190210 - PP1</td>\n      <td>1.1</td>\n      <td>12</td>\n      <td>18.4</td>\n      <td>1.84</td>\n      <td>6.0</td>\n      <td>337.209409</td>\n      <td>39.884946</td>\n    </tr>\n    <tr>\n      <th>13</th>\n      <td>2018-01-06 04:00:00</td>\n      <td>2391.0</td>\n      <td>PS190210 - PP1</td>\n      <td>0.2</td>\n      <td>12</td>\n      <td>18.4</td>\n      <td>1.84</td>\n      <td>6.0</td>\n      <td>339.831788</td>\n      <td>46.305231</td>\n    </tr>\n    <tr>\n      <th>14</th>\n      <td>2018-01-08 19:00:00</td>\n      <td>2391.0</td>\n      <td>PS190210 - PP1</td>\n      <td>0.0</td>\n      <td>18</td>\n      <td>30.4</td>\n      <td>6.08</td>\n      <td>14.6</td>\n      <td>28.886582</td>\n      <td>10.234386</td>\n    </tr>\n    <tr>\n      <th>15</th>\n      <td>2018-01-08 22:00:00</td>\n      <td>2391.0</td>\n      <td>PS190210 - PP1</td>\n      <td>0.0</td>\n      <td>18</td>\n      <td>30.4</td>\n      <td>6.08</td>\n      <td>14.6</td>\n      <td>48.715289</td>\n      <td>11.239750</td>\n    </tr>\n  </tbody>\n</table>\n</div>"
     },
     "metadata": {},
     "execution_count": 7
    }
   ],
   "source": [
    "trajs = trajs.dropna()\n",
    "trajs.head()"
   ]
  },
  {
   "cell_type": "markdown",
   "metadata": {
    "id": "IbY7XGJLI4kn"
   },
   "source": [
    "### Tipando a coluna de data"
   ]
  },
  {
   "cell_type": "code",
   "execution_count": 8,
   "metadata": {
    "colab": {
     "base_uri": "https://localhost:8080/",
     "height": 204
    },
    "executionInfo": {
     "elapsed": 1002,
     "status": "ok",
     "timestamp": 1601341955476,
     "user": {
      "displayName": "Daniel Levita",
      "photoUrl": "https://lh3.googleusercontent.com/a-/AOh14GiyPIUOd_DCE1_soU5rS77DkpJyfVNWNY36oSNNnoM=s64",
      "userId": "11217355149532741913"
     },
     "user_tz": 180
    },
    "id": "0qFGyxMpJAr7",
    "outputId": "dc875488-18c0-4627-93f9-ae8d970f7a5e"
   },
   "outputs": [],
   "source": [
    "trajs['data'] = pd.to_datetime(trajs['data'])"
   ]
  },
  {
   "cell_type": "markdown",
   "metadata": {},
   "source": [
    "### Novas colunas"
   ]
  },
  {
   "cell_type": "markdown",
   "metadata": {
    "id": "vD3WNV-nRASP"
   },
   "source": [
    "#### Sentidos das trajetórias"
   ]
  },
  {
   "cell_type": "code",
   "execution_count": 9,
   "metadata": {},
   "outputs": [
    {
     "output_type": "execute_result",
     "data": {
      "text/plain": [
       "                  data  altitude        campanha  chuva_gdas  evt_id  \\\n",
       "11 2018-01-06 02:00:00    2391.0  PS190210 - PP1         1.1      12   \n",
       "12 2018-01-06 01:00:00    2391.0  PS190210 - PP1         1.1      12   \n",
       "13 2018-01-06 04:00:00    2391.0  PS190210 - PP1         0.2      12   \n",
       "14 2018-01-08 19:00:00    2391.0  PS190210 - PP1         0.0      18   \n",
       "15 2018-01-08 22:00:00    2391.0  PS190210 - PP1         0.0      18   \n",
       "16 2018-01-09 02:00:00    2391.0  PS190210 - PP1         0.0      18   \n",
       "17 2018-01-09 01:00:00    2391.0  PS190210 - PP1         0.0      18   \n",
       "18 2018-01-12 19:00:00    2391.0  PS190210 - PP1         1.9      20   \n",
       "19 2018-01-12 22:00:00    2391.0  PS190210 - PP1         0.3      20   \n",
       "20 2018-01-13 22:00:00    2391.0  PS190210 - PP1         0.0      21   \n",
       "\n",
       "    evt_soma_chuva  evt_media_chuva  evt_max_chuva     direcao  velocidade  \\\n",
       "11            18.4             1.84            6.0  338.713595   42.558448   \n",
       "12            18.4             1.84            6.0  337.209409   39.884946   \n",
       "13            18.4             1.84            6.0  339.831788   46.305231   \n",
       "14            30.4             6.08           14.6   28.886582   10.234386   \n",
       "15            30.4             6.08           14.6   48.715289   11.239750   \n",
       "16            30.4             6.08           14.6   71.258660   18.272850   \n",
       "17            30.4             6.08           14.6   73.864411   17.048600   \n",
       "18            12.2             6.10            9.6  299.127161   23.700074   \n",
       "19            12.2             6.10            9.6  303.690068   22.282307   \n",
       "20            15.0             3.75            9.2  310.710847   17.528772   \n",
       "\n",
       "   direcao_cat  \n",
       "11         NNW  \n",
       "12         NNW  \n",
       "13         NNW  \n",
       "14         NNE  \n",
       "15          NE  \n",
       "16         ENE  \n",
       "17         ENE  \n",
       "18         WNW  \n",
       "19         WNW  \n",
       "20          NW  "
      ],
      "text/html": "<div>\n<style scoped>\n    .dataframe tbody tr th:only-of-type {\n        vertical-align: middle;\n    }\n\n    .dataframe tbody tr th {\n        vertical-align: top;\n    }\n\n    .dataframe thead th {\n        text-align: right;\n    }\n</style>\n<table border=\"1\" class=\"dataframe\">\n  <thead>\n    <tr style=\"text-align: right;\">\n      <th></th>\n      <th>data</th>\n      <th>altitude</th>\n      <th>campanha</th>\n      <th>chuva_gdas</th>\n      <th>evt_id</th>\n      <th>evt_soma_chuva</th>\n      <th>evt_media_chuva</th>\n      <th>evt_max_chuva</th>\n      <th>direcao</th>\n      <th>velocidade</th>\n      <th>direcao_cat</th>\n    </tr>\n  </thead>\n  <tbody>\n    <tr>\n      <th>11</th>\n      <td>2018-01-06 02:00:00</td>\n      <td>2391.0</td>\n      <td>PS190210 - PP1</td>\n      <td>1.1</td>\n      <td>12</td>\n      <td>18.4</td>\n      <td>1.84</td>\n      <td>6.0</td>\n      <td>338.713595</td>\n      <td>42.558448</td>\n      <td>NNW</td>\n    </tr>\n    <tr>\n      <th>12</th>\n      <td>2018-01-06 01:00:00</td>\n      <td>2391.0</td>\n      <td>PS190210 - PP1</td>\n      <td>1.1</td>\n      <td>12</td>\n      <td>18.4</td>\n      <td>1.84</td>\n      <td>6.0</td>\n      <td>337.209409</td>\n      <td>39.884946</td>\n      <td>NNW</td>\n    </tr>\n    <tr>\n      <th>13</th>\n      <td>2018-01-06 04:00:00</td>\n      <td>2391.0</td>\n      <td>PS190210 - PP1</td>\n      <td>0.2</td>\n      <td>12</td>\n      <td>18.4</td>\n      <td>1.84</td>\n      <td>6.0</td>\n      <td>339.831788</td>\n      <td>46.305231</td>\n      <td>NNW</td>\n    </tr>\n    <tr>\n      <th>14</th>\n      <td>2018-01-08 19:00:00</td>\n      <td>2391.0</td>\n      <td>PS190210 - PP1</td>\n      <td>0.0</td>\n      <td>18</td>\n      <td>30.4</td>\n      <td>6.08</td>\n      <td>14.6</td>\n      <td>28.886582</td>\n      <td>10.234386</td>\n      <td>NNE</td>\n    </tr>\n    <tr>\n      <th>15</th>\n      <td>2018-01-08 22:00:00</td>\n      <td>2391.0</td>\n      <td>PS190210 - PP1</td>\n      <td>0.0</td>\n      <td>18</td>\n      <td>30.4</td>\n      <td>6.08</td>\n      <td>14.6</td>\n      <td>48.715289</td>\n      <td>11.239750</td>\n      <td>NE</td>\n    </tr>\n    <tr>\n      <th>16</th>\n      <td>2018-01-09 02:00:00</td>\n      <td>2391.0</td>\n      <td>PS190210 - PP1</td>\n      <td>0.0</td>\n      <td>18</td>\n      <td>30.4</td>\n      <td>6.08</td>\n      <td>14.6</td>\n      <td>71.258660</td>\n      <td>18.272850</td>\n      <td>ENE</td>\n    </tr>\n    <tr>\n      <th>17</th>\n      <td>2018-01-09 01:00:00</td>\n      <td>2391.0</td>\n      <td>PS190210 - PP1</td>\n      <td>0.0</td>\n      <td>18</td>\n      <td>30.4</td>\n      <td>6.08</td>\n      <td>14.6</td>\n      <td>73.864411</td>\n      <td>17.048600</td>\n      <td>ENE</td>\n    </tr>\n    <tr>\n      <th>18</th>\n      <td>2018-01-12 19:00:00</td>\n      <td>2391.0</td>\n      <td>PS190210 - PP1</td>\n      <td>1.9</td>\n      <td>20</td>\n      <td>12.2</td>\n      <td>6.10</td>\n      <td>9.6</td>\n      <td>299.127161</td>\n      <td>23.700074</td>\n      <td>WNW</td>\n    </tr>\n    <tr>\n      <th>19</th>\n      <td>2018-01-12 22:00:00</td>\n      <td>2391.0</td>\n      <td>PS190210 - PP1</td>\n      <td>0.3</td>\n      <td>20</td>\n      <td>12.2</td>\n      <td>6.10</td>\n      <td>9.6</td>\n      <td>303.690068</td>\n      <td>22.282307</td>\n      <td>WNW</td>\n    </tr>\n    <tr>\n      <th>20</th>\n      <td>2018-01-13 22:00:00</td>\n      <td>2391.0</td>\n      <td>PS190210 - PP1</td>\n      <td>0.0</td>\n      <td>21</td>\n      <td>15.0</td>\n      <td>3.75</td>\n      <td>9.2</td>\n      <td>310.710847</td>\n      <td>17.528772</td>\n      <td>NW</td>\n    </tr>\n  </tbody>\n</table>\n</div>"
     },
     "metadata": {},
     "execution_count": 9
    }
   ],
   "source": [
    "trajs['direcao_cat'] = trajs['direcao'].apply(direcao_categorica)\n",
    "trajs.head(10)"
   ]
  },
  {
   "cell_type": "markdown",
   "metadata": {
    "id": "4PZRU1gC83DH"
   },
   "source": [
    "#### Categorizando as velocidades"
   ]
  },
  {
   "cell_type": "code",
   "execution_count": 10,
   "metadata": {},
   "outputs": [
    {
     "output_type": "execute_result",
     "data": {
      "text/plain": [
       "                  data  altitude        campanha  chuva_gdas  evt_id  \\\n",
       "11 2018-01-06 02:00:00    2391.0  PS190210 - PP1         1.1      12   \n",
       "12 2018-01-06 01:00:00    2391.0  PS190210 - PP1         1.1      12   \n",
       "13 2018-01-06 04:00:00    2391.0  PS190210 - PP1         0.2      12   \n",
       "14 2018-01-08 19:00:00    2391.0  PS190210 - PP1         0.0      18   \n",
       "15 2018-01-08 22:00:00    2391.0  PS190210 - PP1         0.0      18   \n",
       "16 2018-01-09 02:00:00    2391.0  PS190210 - PP1         0.0      18   \n",
       "17 2018-01-09 01:00:00    2391.0  PS190210 - PP1         0.0      18   \n",
       "18 2018-01-12 19:00:00    2391.0  PS190210 - PP1         1.9      20   \n",
       "19 2018-01-12 22:00:00    2391.0  PS190210 - PP1         0.3      20   \n",
       "20 2018-01-13 22:00:00    2391.0  PS190210 - PP1         0.0      21   \n",
       "\n",
       "    evt_soma_chuva  evt_media_chuva  evt_max_chuva     direcao  velocidade  \\\n",
       "11            18.4             1.84            6.0  338.713595   42.558448   \n",
       "12            18.4             1.84            6.0  337.209409   39.884946   \n",
       "13            18.4             1.84            6.0  339.831788   46.305231   \n",
       "14            30.4             6.08           14.6   28.886582   10.234386   \n",
       "15            30.4             6.08           14.6   48.715289   11.239750   \n",
       "16            30.4             6.08           14.6   71.258660   18.272850   \n",
       "17            30.4             6.08           14.6   73.864411   17.048600   \n",
       "18            12.2             6.10            9.6  299.127161   23.700074   \n",
       "19            12.2             6.10            9.6  303.690068   22.282307   \n",
       "20            15.0             3.75            9.2  310.710847   17.528772   \n",
       "\n",
       "   direcao_cat velocidade_cat  \n",
       "11         NNW     40-50 km/h  \n",
       "12         NNW     30-40 km/h  \n",
       "13         NNW     40-50 km/h  \n",
       "14         NNE     10-20 km/h  \n",
       "15          NE     10-20 km/h  \n",
       "16         ENE     10-20 km/h  \n",
       "17         ENE     10-20 km/h  \n",
       "18         WNW     20-30 km/h  \n",
       "19         WNW     20-30 km/h  \n",
       "20          NW     10-20 km/h  "
      ],
      "text/html": "<div>\n<style scoped>\n    .dataframe tbody tr th:only-of-type {\n        vertical-align: middle;\n    }\n\n    .dataframe tbody tr th {\n        vertical-align: top;\n    }\n\n    .dataframe thead th {\n        text-align: right;\n    }\n</style>\n<table border=\"1\" class=\"dataframe\">\n  <thead>\n    <tr style=\"text-align: right;\">\n      <th></th>\n      <th>data</th>\n      <th>altitude</th>\n      <th>campanha</th>\n      <th>chuva_gdas</th>\n      <th>evt_id</th>\n      <th>evt_soma_chuva</th>\n      <th>evt_media_chuva</th>\n      <th>evt_max_chuva</th>\n      <th>direcao</th>\n      <th>velocidade</th>\n      <th>direcao_cat</th>\n      <th>velocidade_cat</th>\n    </tr>\n  </thead>\n  <tbody>\n    <tr>\n      <th>11</th>\n      <td>2018-01-06 02:00:00</td>\n      <td>2391.0</td>\n      <td>PS190210 - PP1</td>\n      <td>1.1</td>\n      <td>12</td>\n      <td>18.4</td>\n      <td>1.84</td>\n      <td>6.0</td>\n      <td>338.713595</td>\n      <td>42.558448</td>\n      <td>NNW</td>\n      <td>40-50 km/h</td>\n    </tr>\n    <tr>\n      <th>12</th>\n      <td>2018-01-06 01:00:00</td>\n      <td>2391.0</td>\n      <td>PS190210 - PP1</td>\n      <td>1.1</td>\n      <td>12</td>\n      <td>18.4</td>\n      <td>1.84</td>\n      <td>6.0</td>\n      <td>337.209409</td>\n      <td>39.884946</td>\n      <td>NNW</td>\n      <td>30-40 km/h</td>\n    </tr>\n    <tr>\n      <th>13</th>\n      <td>2018-01-06 04:00:00</td>\n      <td>2391.0</td>\n      <td>PS190210 - PP1</td>\n      <td>0.2</td>\n      <td>12</td>\n      <td>18.4</td>\n      <td>1.84</td>\n      <td>6.0</td>\n      <td>339.831788</td>\n      <td>46.305231</td>\n      <td>NNW</td>\n      <td>40-50 km/h</td>\n    </tr>\n    <tr>\n      <th>14</th>\n      <td>2018-01-08 19:00:00</td>\n      <td>2391.0</td>\n      <td>PS190210 - PP1</td>\n      <td>0.0</td>\n      <td>18</td>\n      <td>30.4</td>\n      <td>6.08</td>\n      <td>14.6</td>\n      <td>28.886582</td>\n      <td>10.234386</td>\n      <td>NNE</td>\n      <td>10-20 km/h</td>\n    </tr>\n    <tr>\n      <th>15</th>\n      <td>2018-01-08 22:00:00</td>\n      <td>2391.0</td>\n      <td>PS190210 - PP1</td>\n      <td>0.0</td>\n      <td>18</td>\n      <td>30.4</td>\n      <td>6.08</td>\n      <td>14.6</td>\n      <td>48.715289</td>\n      <td>11.239750</td>\n      <td>NE</td>\n      <td>10-20 km/h</td>\n    </tr>\n    <tr>\n      <th>16</th>\n      <td>2018-01-09 02:00:00</td>\n      <td>2391.0</td>\n      <td>PS190210 - PP1</td>\n      <td>0.0</td>\n      <td>18</td>\n      <td>30.4</td>\n      <td>6.08</td>\n      <td>14.6</td>\n      <td>71.258660</td>\n      <td>18.272850</td>\n      <td>ENE</td>\n      <td>10-20 km/h</td>\n    </tr>\n    <tr>\n      <th>17</th>\n      <td>2018-01-09 01:00:00</td>\n      <td>2391.0</td>\n      <td>PS190210 - PP1</td>\n      <td>0.0</td>\n      <td>18</td>\n      <td>30.4</td>\n      <td>6.08</td>\n      <td>14.6</td>\n      <td>73.864411</td>\n      <td>17.048600</td>\n      <td>ENE</td>\n      <td>10-20 km/h</td>\n    </tr>\n    <tr>\n      <th>18</th>\n      <td>2018-01-12 19:00:00</td>\n      <td>2391.0</td>\n      <td>PS190210 - PP1</td>\n      <td>1.9</td>\n      <td>20</td>\n      <td>12.2</td>\n      <td>6.10</td>\n      <td>9.6</td>\n      <td>299.127161</td>\n      <td>23.700074</td>\n      <td>WNW</td>\n      <td>20-30 km/h</td>\n    </tr>\n    <tr>\n      <th>19</th>\n      <td>2018-01-12 22:00:00</td>\n      <td>2391.0</td>\n      <td>PS190210 - PP1</td>\n      <td>0.3</td>\n      <td>20</td>\n      <td>12.2</td>\n      <td>6.10</td>\n      <td>9.6</td>\n      <td>303.690068</td>\n      <td>22.282307</td>\n      <td>WNW</td>\n      <td>20-30 km/h</td>\n    </tr>\n    <tr>\n      <th>20</th>\n      <td>2018-01-13 22:00:00</td>\n      <td>2391.0</td>\n      <td>PS190210 - PP1</td>\n      <td>0.0</td>\n      <td>21</td>\n      <td>15.0</td>\n      <td>3.75</td>\n      <td>9.2</td>\n      <td>310.710847</td>\n      <td>17.528772</td>\n      <td>NW</td>\n      <td>10-20 km/h</td>\n    </tr>\n  </tbody>\n</table>\n</div>"
     },
     "metadata": {},
     "execution_count": 10
    }
   ],
   "source": [
    "trajs['velocidade_cat'] = trajs['velocidade'].apply(ps_velocidade_categorica)\n",
    "trajs.head(10)"
   ]
  },
  {
   "cell_type": "markdown",
   "metadata": {},
   "source": [
    "#### Categorizando a soma de chuva por evento"
   ]
  },
  {
   "cell_type": "code",
   "execution_count": 11,
   "metadata": {},
   "outputs": [
    {
     "output_type": "execute_result",
     "data": {
      "text/plain": [
       "                  data  altitude        campanha  chuva_gdas  evt_id  \\\n",
       "11 2018-01-06 02:00:00    2391.0  PS190210 - PP1         1.1      12   \n",
       "12 2018-01-06 01:00:00    2391.0  PS190210 - PP1         1.1      12   \n",
       "13 2018-01-06 04:00:00    2391.0  PS190210 - PP1         0.2      12   \n",
       "14 2018-01-08 19:00:00    2391.0  PS190210 - PP1         0.0      18   \n",
       "15 2018-01-08 22:00:00    2391.0  PS190210 - PP1         0.0      18   \n",
       "16 2018-01-09 02:00:00    2391.0  PS190210 - PP1         0.0      18   \n",
       "17 2018-01-09 01:00:00    2391.0  PS190210 - PP1         0.0      18   \n",
       "18 2018-01-12 19:00:00    2391.0  PS190210 - PP1         1.9      20   \n",
       "19 2018-01-12 22:00:00    2391.0  PS190210 - PP1         0.3      20   \n",
       "20 2018-01-13 22:00:00    2391.0  PS190210 - PP1         0.0      21   \n",
       "\n",
       "    evt_soma_chuva  evt_media_chuva  evt_max_chuva     direcao  velocidade  \\\n",
       "11            18.4             1.84            6.0  338.713595   42.558448   \n",
       "12            18.4             1.84            6.0  337.209409   39.884946   \n",
       "13            18.4             1.84            6.0  339.831788   46.305231   \n",
       "14            30.4             6.08           14.6   28.886582   10.234386   \n",
       "15            30.4             6.08           14.6   48.715289   11.239750   \n",
       "16            30.4             6.08           14.6   71.258660   18.272850   \n",
       "17            30.4             6.08           14.6   73.864411   17.048600   \n",
       "18            12.2             6.10            9.6  299.127161   23.700074   \n",
       "19            12.2             6.10            9.6  303.690068   22.282307   \n",
       "20            15.0             3.75            9.2  310.710847   17.528772   \n",
       "\n",
       "   direcao_cat velocidade_cat evt_soma_chuva_cat  \n",
       "11         NNW     40-50 km/h            5-20 mm  \n",
       "12         NNW     30-40 km/h            5-20 mm  \n",
       "13         NNW     40-50 km/h            5-20 mm  \n",
       "14         NNE     10-20 km/h           20-35 mm  \n",
       "15          NE     10-20 km/h           20-35 mm  \n",
       "16         ENE     10-20 km/h           20-35 mm  \n",
       "17         ENE     10-20 km/h           20-35 mm  \n",
       "18         WNW     20-30 km/h            5-20 mm  \n",
       "19         WNW     20-30 km/h            5-20 mm  \n",
       "20          NW     10-20 km/h            5-20 mm  "
      ],
      "text/html": "<div>\n<style scoped>\n    .dataframe tbody tr th:only-of-type {\n        vertical-align: middle;\n    }\n\n    .dataframe tbody tr th {\n        vertical-align: top;\n    }\n\n    .dataframe thead th {\n        text-align: right;\n    }\n</style>\n<table border=\"1\" class=\"dataframe\">\n  <thead>\n    <tr style=\"text-align: right;\">\n      <th></th>\n      <th>data</th>\n      <th>altitude</th>\n      <th>campanha</th>\n      <th>chuva_gdas</th>\n      <th>evt_id</th>\n      <th>evt_soma_chuva</th>\n      <th>evt_media_chuva</th>\n      <th>evt_max_chuva</th>\n      <th>direcao</th>\n      <th>velocidade</th>\n      <th>direcao_cat</th>\n      <th>velocidade_cat</th>\n      <th>evt_soma_chuva_cat</th>\n    </tr>\n  </thead>\n  <tbody>\n    <tr>\n      <th>11</th>\n      <td>2018-01-06 02:00:00</td>\n      <td>2391.0</td>\n      <td>PS190210 - PP1</td>\n      <td>1.1</td>\n      <td>12</td>\n      <td>18.4</td>\n      <td>1.84</td>\n      <td>6.0</td>\n      <td>338.713595</td>\n      <td>42.558448</td>\n      <td>NNW</td>\n      <td>40-50 km/h</td>\n      <td>5-20 mm</td>\n    </tr>\n    <tr>\n      <th>12</th>\n      <td>2018-01-06 01:00:00</td>\n      <td>2391.0</td>\n      <td>PS190210 - PP1</td>\n      <td>1.1</td>\n      <td>12</td>\n      <td>18.4</td>\n      <td>1.84</td>\n      <td>6.0</td>\n      <td>337.209409</td>\n      <td>39.884946</td>\n      <td>NNW</td>\n      <td>30-40 km/h</td>\n      <td>5-20 mm</td>\n    </tr>\n    <tr>\n      <th>13</th>\n      <td>2018-01-06 04:00:00</td>\n      <td>2391.0</td>\n      <td>PS190210 - PP1</td>\n      <td>0.2</td>\n      <td>12</td>\n      <td>18.4</td>\n      <td>1.84</td>\n      <td>6.0</td>\n      <td>339.831788</td>\n      <td>46.305231</td>\n      <td>NNW</td>\n      <td>40-50 km/h</td>\n      <td>5-20 mm</td>\n    </tr>\n    <tr>\n      <th>14</th>\n      <td>2018-01-08 19:00:00</td>\n      <td>2391.0</td>\n      <td>PS190210 - PP1</td>\n      <td>0.0</td>\n      <td>18</td>\n      <td>30.4</td>\n      <td>6.08</td>\n      <td>14.6</td>\n      <td>28.886582</td>\n      <td>10.234386</td>\n      <td>NNE</td>\n      <td>10-20 km/h</td>\n      <td>20-35 mm</td>\n    </tr>\n    <tr>\n      <th>15</th>\n      <td>2018-01-08 22:00:00</td>\n      <td>2391.0</td>\n      <td>PS190210 - PP1</td>\n      <td>0.0</td>\n      <td>18</td>\n      <td>30.4</td>\n      <td>6.08</td>\n      <td>14.6</td>\n      <td>48.715289</td>\n      <td>11.239750</td>\n      <td>NE</td>\n      <td>10-20 km/h</td>\n      <td>20-35 mm</td>\n    </tr>\n    <tr>\n      <th>16</th>\n      <td>2018-01-09 02:00:00</td>\n      <td>2391.0</td>\n      <td>PS190210 - PP1</td>\n      <td>0.0</td>\n      <td>18</td>\n      <td>30.4</td>\n      <td>6.08</td>\n      <td>14.6</td>\n      <td>71.258660</td>\n      <td>18.272850</td>\n      <td>ENE</td>\n      <td>10-20 km/h</td>\n      <td>20-35 mm</td>\n    </tr>\n    <tr>\n      <th>17</th>\n      <td>2018-01-09 01:00:00</td>\n      <td>2391.0</td>\n      <td>PS190210 - PP1</td>\n      <td>0.0</td>\n      <td>18</td>\n      <td>30.4</td>\n      <td>6.08</td>\n      <td>14.6</td>\n      <td>73.864411</td>\n      <td>17.048600</td>\n      <td>ENE</td>\n      <td>10-20 km/h</td>\n      <td>20-35 mm</td>\n    </tr>\n    <tr>\n      <th>18</th>\n      <td>2018-01-12 19:00:00</td>\n      <td>2391.0</td>\n      <td>PS190210 - PP1</td>\n      <td>1.9</td>\n      <td>20</td>\n      <td>12.2</td>\n      <td>6.10</td>\n      <td>9.6</td>\n      <td>299.127161</td>\n      <td>23.700074</td>\n      <td>WNW</td>\n      <td>20-30 km/h</td>\n      <td>5-20 mm</td>\n    </tr>\n    <tr>\n      <th>19</th>\n      <td>2018-01-12 22:00:00</td>\n      <td>2391.0</td>\n      <td>PS190210 - PP1</td>\n      <td>0.3</td>\n      <td>20</td>\n      <td>12.2</td>\n      <td>6.10</td>\n      <td>9.6</td>\n      <td>303.690068</td>\n      <td>22.282307</td>\n      <td>WNW</td>\n      <td>20-30 km/h</td>\n      <td>5-20 mm</td>\n    </tr>\n    <tr>\n      <th>20</th>\n      <td>2018-01-13 22:00:00</td>\n      <td>2391.0</td>\n      <td>PS190210 - PP1</td>\n      <td>0.0</td>\n      <td>21</td>\n      <td>15.0</td>\n      <td>3.75</td>\n      <td>9.2</td>\n      <td>310.710847</td>\n      <td>17.528772</td>\n      <td>NW</td>\n      <td>10-20 km/h</td>\n      <td>5-20 mm</td>\n    </tr>\n  </tbody>\n</table>\n</div>"
     },
     "metadata": {},
     "execution_count": 11
    }
   ],
   "source": [
    "trajs['evt_soma_chuva_cat'] = trajs['evt_soma_chuva'].apply(chuva_categorica)\n",
    "trajs.head(10)"
   ]
  }
 ],
 "metadata": {
  "kernelspec": {
   "name": "python379jvsc74a57bd01ff9e72bfa4b87c5c7eb2845b6bc364601686fa0e2be51edbe78ea8f5152e186",
   "display_name": "Python 3.7.9 64-bit ('geohmount': conda)"
  },
  "language_info": {
   "codemirror_mode": {
    "name": "ipython",
    "version": 3
   },
   "file_extension": ".py",
   "mimetype": "text/x-python",
   "name": "python",
   "nbconvert_exporter": "python",
   "pygments_lexer": "ipython3",
   "version": "3.7.9"
  },
  "metadata": {
   "interpreter": {
    "hash": "1ff9e72bfa4b87c5c7eb2845b6bc364601686fa0e2be51edbe78ea8f5152e186"
   }
  }
 },
 "nbformat": 4,
 "nbformat_minor": 4
}