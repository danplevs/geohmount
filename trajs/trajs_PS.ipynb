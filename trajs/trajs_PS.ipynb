{
 "cells": [
  {
   "cell_type": "markdown",
   "metadata": {},
   "source": [
    "# Ambiente"
   ]
  },
  {
   "cell_type": "code",
   "execution_count": null,
   "metadata": {},
   "outputs": [],
   "source": [
    "import pandas as pd\n",
    "import plotly.express as px\n",
    "from functions.geohmount_plots import wind_rose\n",
    "from functions.transform import *"
   ]
  },
  {
   "cell_type": "markdown",
   "metadata": {
    "id": "qGvi3CQJ2CL0"
   },
   "source": [
    "# Importando e tratando a base de dados"
   ]
  },
  {
   "cell_type": "markdown",
   "metadata": {
    "id": "YUZ5Qcym2OyJ"
   },
   "source": [
    "## Importação dos dados"
   ]
  },
  {
   "cell_type": "code",
   "execution_count": null,
   "metadata": {
    "colab": {
     "base_uri": "https://localhost:8080/",
     "height": 204
    },
    "executionInfo": {
     "elapsed": 1033,
     "status": "ok",
     "timestamp": 1601341955472,
     "user": {
      "displayName": "Daniel Levita",
      "photoUrl": "https://lh3.googleusercontent.com/a-/AOh14GiyPIUOd_DCE1_soU5rS77DkpJyfVNWNY36oSNNnoM=s64",
      "userId": "11217355149532741913"
     },
     "user_tz": 180
    },
    "id": "L2UpC8HRyE-E",
    "outputId": "5ead2990-8b77-4e4b-d898-e380a803f094"
   },
   "outputs": [],
   "source": [
    "trajs = pd.read_csv('ps/resultado-direcoes.csv', sep=\";\")\n",
    "trajs.head()"
   ]
  },
  {
   "cell_type": "markdown",
   "metadata": {
    "id": "m1gT7PG02SPD"
   },
   "source": [
    "## Tratamento dos dados"
   ]
  },
  {
   "cell_type": "markdown",
   "metadata": {},
   "source": [
    "### Renomeando colunas"
   ]
  },
  {
   "cell_type": "code",
   "execution_count": null,
   "metadata": {
    "executionInfo": {
     "elapsed": 1033,
     "status": "ok",
     "timestamp": 1601341955474,
     "user": {
      "displayName": "Daniel Levita",
      "photoUrl": "https://lh3.googleusercontent.com/a-/AOh14GiyPIUOd_DCE1_soU5rS77DkpJyfVNWNY36oSNNnoM=s64",
      "userId": "11217355149532741913"
     },
     "user_tz": 180
    },
    "id": "8nDKu7zGrvxq"
   },
   "outputs": [],
   "source": [
    "trajs = trajs.rename(columns={'velocidade_km/h': 'velocidade', 'rain': 'chuva_gdas', 'evt_sum_rain': 'evt_soma_chuva', \n",
    "                              'evt_avg_rain': 'evt_media_chuva', 'evt_max_rain': 'evt_max_chuva', 'direcao_graus': 'direcao'})"
   ]
  },
  {
   "cell_type": "markdown",
   "metadata": {},
   "source": [
    "### Removendo trajetórias sem campanha"
   ]
  },
  {
   "cell_type": "code",
   "execution_count": null,
   "metadata": {
    "colab": {
     "base_uri": "https://localhost:8080/",
     "height": 419
    },
    "executionInfo": {
     "elapsed": 1024,
     "status": "ok",
     "timestamp": 1601341955474,
     "user": {
      "displayName": "Daniel Levita",
      "photoUrl": "https://lh3.googleusercontent.com/a-/AOh14GiyPIUOd_DCE1_soU5rS77DkpJyfVNWNY36oSNNnoM=s64",
      "userId": "11217355149532741913"
     },
     "user_tz": 180
    },
    "id": "tHlW6Tb30O4G",
    "outputId": "6bdf19bc-10a6-4b93-84e4-e1be6815dbaf"
   },
   "outputs": [],
   "source": [
    "trajs = trajs.dropna()\n",
    "trajs.head()"
   ]
  },
  {
   "cell_type": "markdown",
   "metadata": {
    "id": "IbY7XGJLI4kn"
   },
   "source": [
    "### Tipando a coluna de data"
   ]
  },
  {
   "cell_type": "code",
   "execution_count": null,
   "metadata": {
    "colab": {
     "base_uri": "https://localhost:8080/",
     "height": 204
    },
    "executionInfo": {
     "elapsed": 1002,
     "status": "ok",
     "timestamp": 1601341955476,
     "user": {
      "displayName": "Daniel Levita",
      "photoUrl": "https://lh3.googleusercontent.com/a-/AOh14GiyPIUOd_DCE1_soU5rS77DkpJyfVNWNY36oSNNnoM=s64",
      "userId": "11217355149532741913"
     },
     "user_tz": 180
    },
    "id": "0qFGyxMpJAr7",
    "outputId": "dc875488-18c0-4627-93f9-ae8d970f7a5e"
   },
   "outputs": [],
   "source": [
    "trajs['data'] = pd.to_datetime(trajs['data'])"
   ]
  },
  {
   "cell_type": "markdown",
   "metadata": {},
   "source": [
    "### Novas colunas"
   ]
  },
  {
   "cell_type": "markdown",
   "metadata": {
    "id": "vD3WNV-nRASP"
   },
   "source": [
    "#### Sentidos das trajetórias"
   ]
  },
  {
   "cell_type": "code",
   "execution_count": null,
   "metadata": {},
   "outputs": [],
   "source": [
    "trajs['direcao_cat'] = trajs['direcao'].apply(direcao_categorica)\n",
    "trajs.head(10)"
   ]
  },
  {
   "cell_type": "markdown",
   "metadata": {
    "id": "4PZRU1gC83DH"
   },
   "source": [
    "#### Categorizando as velocidades"
   ]
  },
  {
   "cell_type": "code",
   "execution_count": null,
   "metadata": {},
   "outputs": [],
   "source": [
    "trajs['velocidade_cat'] = trajs['velocidade'].apply(ps_velocidade_categorica)\n",
    "trajs.head(10)"
   ]
  },
  {
   "cell_type": "markdown",
   "metadata": {},
   "source": [
    "#### Categorizando a soma de chuva por evento"
   ]
  },
  {
   "cell_type": "code",
   "execution_count": null,
   "metadata": {},
   "outputs": [],
   "source": [
    "trajs['evt_soma_chuva_cat'] = trajs['evt_soma_chuva'].apply(chuva_categorica)\n",
    "trajs.head(10)"
   ]
  },
  {
   "cell_type": "markdown",
   "metadata": {
    "id": "T-oZJO26BVXP"
   },
   "source": [
    "# Criando os gráficos"
   ]
  },
  {
   "cell_type": "markdown",
   "metadata": {},
   "source": [
    "## Geral"
   ]
  },
  {
   "cell_type": "markdown",
   "metadata": {},
   "source": [
    "### Velocidade"
   ]
  },
  {
   "cell_type": "code",
   "execution_count": null,
   "metadata": {},
   "outputs": [],
   "source": [
    "gp_vel = trajs.groupby(['direcao_cat', 'velocidade_cat']).size().reset_index(name='frequencia')\n",
    "gp_vel.head(5)"
   ]
  },
  {
   "cell_type": "code",
   "execution_count": null,
   "metadata": {},
   "outputs": [],
   "source": [
    "gp_vel['frequencia'] = gp_vel['frequencia'] / gp_vel['frequencia'].sum() * 100\n",
    "gp_vel.head(5)"
   ]
  },
  {
   "cell_type": "code",
   "execution_count": null,
   "metadata": {},
   "outputs": [],
   "source": [
    "fig = wind_rose(gp_vel, location='ps', title='<b>Distribuição das massas de ar resultantes em chuva na Pedra do Sino', tickvals=[5, 8, 11, 14, 17], color_sequence=px.colors.sequential.Inferno_r)\n",
    "fig.show()\n",
    "# fig.write_html('ps/plots/geral/html/trajsPS_vel.html')\n",
    "# fig.write_image('ps/plots/geral/png/trajsPS_vel.png')"
   ]
  },
  {
   "cell_type": "markdown",
   "metadata": {},
   "source": [
    "### Chuva"
   ]
  },
  {
   "cell_type": "code",
   "execution_count": null,
   "metadata": {},
   "outputs": [],
   "source": [
    "gp_chuva = trajs.groupby(['direcao_cat', 'evt_soma_chuva_cat']).size().reset_index(name='frequencia')\n",
    "gp_chuva.head(5)"
   ]
  },
  {
   "cell_type": "code",
   "execution_count": null,
   "metadata": {},
   "outputs": [],
   "source": [
    "gp_chuva['frequencia'] = gp_chuva['frequencia'] / gp_chuva['frequencia'].sum() * 100\n",
    "gp_chuva.head(5)"
   ]
  },
  {
   "cell_type": "code",
   "execution_count": null,
   "metadata": {},
   "outputs": [],
   "source": [
    "fig = wind_rose(gp_chuva, kind='chuva', tickvals=[5, 8, 11, 14, 17], title='<b>Distribuição das massas de ar resultantes em chuva na Pedra do Sino')\n",
    "fig.show()\n",
    "# fig.write_image('ps/plots/geral/png/trajsPS_chuva.png')\n",
    "# fig.write_html('ps/plots/geral/html/trajsPS_chuva.html')"
   ]
  },
  {
   "cell_type": "markdown",
   "metadata": {},
   "source": [
    "### Artigo - Yasmin"
   ]
  },
  {
   "cell_type": "code",
   "execution_count": null,
   "metadata": {},
   "outputs": [],
   "source": [
    "fig = wind_rose(gp_vel, location='ps', tickvals=[5, 8, 11, 14, 17], font_color='black', title='<b>Pedra do Sino</b>', legend_title='<b>Wind Speed</b>', color_sequence=px.colors.sequential.Inferno_r)\n",
    "fig.show()\n",
    "# fig.write_html('plots/artigo-yasmin/trajsPS_vel.html')\n",
    "# fig.write_image('ps/plots/artigo-yasmin/trajsPS_vel.png')"
   ]
  },
  {
   "cell_type": "markdown",
   "metadata": {
    "heading_collapsed": "true"
   },
   "source": [
    "## Estação úmida/seca"
   ]
  },
  {
   "cell_type": "markdown",
   "metadata": {
    "heading_collapsed": "true"
   },
   "source": [
    "### Dataframes"
   ]
  },
  {
   "cell_type": "code",
   "execution_count": null,
   "metadata": {},
   "outputs": [],
   "source": [
    "meses_chuvosos = ('Jan', 'Feb', 'Mar', 'Apr', 'Oct', 'Nov', 'Dec')\n",
    "meses_secos = ('May', 'Jun', 'Jul', 'Aug', 'Sep')"
   ]
  },
  {
   "cell_type": "code",
   "execution_count": null,
   "metadata": {},
   "outputs": [],
   "source": [
    "trajs['mes'] = trajs['data'].dt.strftime('%b')\n",
    "trajs.head()"
   ]
  },
  {
   "cell_type": "code",
   "execution_count": null,
   "metadata": {},
   "outputs": [],
   "source": [
    "periodo_umido = trajs.loc[trajs['mes'].isin(meses_chuvosos)]\n",
    "periodo_umido.head()"
   ]
  },
  {
   "cell_type": "code",
   "execution_count": null,
   "metadata": {},
   "outputs": [],
   "source": [
    "periodo_seco = trajs.loc[trajs['mes'].isin(meses_secos)]\n",
    "periodo_seco.head()"
   ]
  },
  {
   "cell_type": "markdown",
   "metadata": {
    "heading_collapsed": "true"
   },
   "source": [
    "### Velocidade"
   ]
  },
  {
   "cell_type": "code",
   "execution_count": null,
   "metadata": {},
   "outputs": [],
   "source": [
    "gp_vel_umido = periodo_umido.groupby(['direcao_cat', 'velocidade_cat']).size().reset_index(name='frequencia')\n",
    "gp_vel_umido.head()"
   ]
  },
  {
   "cell_type": "code",
   "execution_count": null,
   "metadata": {},
   "outputs": [],
   "source": [
    "gp_vel_umido['frequencia'] = gp_vel_umido['frequencia'] / gp_vel_umido['frequencia'].sum() * 100\n",
    "gp_vel_umido.head(5)"
   ]
  },
  {
   "cell_type": "code",
   "execution_count": null,
   "metadata": {},
   "outputs": [],
   "source": [
    "fig = wind_rose(gp_vel_umido, location='ps', title='<b>Período úmido</b>', tickvals=[4, 6.5, 9, 11.5, 14])\n",
    "fig.show()\n",
    "fig.write_html('ps/plots/periodos/html/trajsPS_vel_umido.html')\n",
    "fig.write_image('ps/plots/periodos/png/trajsPS_vel_umido.png')"
   ]
  },
  {
   "cell_type": "code",
   "execution_count": null,
   "metadata": {},
   "outputs": [],
   "source": [
    "gp_vel_seco = periodo_seco.groupby(['direcao_cat', 'velocidade_cat']).size().reset_index(name='frequencia')\n",
    "gp_vel_seco.head()"
   ]
  },
  {
   "cell_type": "code",
   "execution_count": null,
   "metadata": {},
   "outputs": [],
   "source": [
    "gp_vel_seco['frequencia'] = gp_vel_seco['frequencia'] / gp_vel_seco['frequencia'].sum() * 100\n",
    "gp_vel_seco.head(5)"
   ]
  },
  {
   "cell_type": "code",
   "execution_count": null,
   "metadata": {},
   "outputs": [],
   "source": [
    "fig = wind_rose(gp_vel_seco, location='ps', title='<b>Período seco</b>', tickvals=[5, 10, 15, 20, 25])\n",
    "fig.show()\n",
    "# fig.write_html('ps/plots/periodos/html/trajsPS_vel_seco.html')\n",
    "# fig.write_image('ps/plots/periodos/png/trajsPS_vel_seco.png')"
   ]
  },
  {
   "cell_type": "markdown",
   "metadata": {
    "heading_collapsed": "true"
   },
   "source": [
    "### Chuva"
   ]
  },
  {
   "cell_type": "code",
   "execution_count": null,
   "metadata": {},
   "outputs": [],
   "source": [
    "gp_chuva_umido = periodo_umido.groupby(['direcao_cat', 'evt_soma_chuva_cat']).size().reset_index(name='frequencia')\n",
    "gp_chuva_umido.head()"
   ]
  },
  {
   "cell_type": "code",
   "execution_count": null,
   "metadata": {},
   "outputs": [],
   "source": [
    "gp_chuva_umido['frequencia'] = gp_chuva_umido['frequencia'] / gp_chuva_umido['frequencia'].sum() * 100\n",
    "gp_chuva_umido.head()"
   ]
  },
  {
   "cell_type": "code",
   "execution_count": null,
   "metadata": {},
   "outputs": [],
   "source": [
    "fig = wind_rose(gp_chuva_umido, location='ps', kind='chuva', title='<b>Período úmido</b>', tickvals=[4, 6.5, 9, 11.5, 14])\n",
    "fig.show()\n",
    "fig.write_html('ps/plots/periodos/html/trajsPS_chuva_umido.html')\n",
    "fig.write_image('ps/plots/periodos/png/trajsPS_chuva_umido.png')"
   ]
  },
  {
   "cell_type": "code",
   "execution_count": null,
   "metadata": {},
   "outputs": [],
   "source": [
    "gp_chuva_seco = periodo_seco.groupby(['direcao_cat', 'evt_soma_chuva_cat']).size().reset_index(name='frequencia')\n",
    "gp_chuva_seco.head()"
   ]
  },
  {
   "cell_type": "code",
   "execution_count": null,
   "metadata": {},
   "outputs": [],
   "source": [
    "gp_chuva_seco['frequencia'] = gp_chuva_seco['frequencia'] / gp_chuva_seco['frequencia'].sum() * 100\n",
    "gp_chuva_seco.head()"
   ]
  },
  {
   "cell_type": "code",
   "execution_count": null,
   "metadata": {},
   "outputs": [],
   "source": [
    "fig = wind_rose(gp_chuva_seco, kind='chuva', title='<b>Período seco</b>', tickvals=[5, 10, 15, 20, 25])\n",
    "fig.show()\n",
    "fig.write_html('ps/plots/periodos/html/trajsPS_chuva_seco.html')\n",
    "fig.write_image('ps/plots/periodos/png/trajsPS_chuva_seco.png')"
   ]
  }
 ],
 "metadata": {
  "kernelspec": {
   "display_name": "Python 3.7.9 64-bit ('geohmount': conda)",
   "name": "python379jvsc74a57bd01ff9e72bfa4b87c5c7eb2845b6bc364601686fa0e2be51edbe78ea8f5152e186"
  },
  "language_info": {
   "codemirror_mode": {
    "name": "ipython",
    "version": 3
   },
   "file_extension": ".py",
   "mimetype": "text/x-python",
   "name": "python",
   "nbconvert_exporter": "python",
   "pygments_lexer": "ipython3",
   "version": "3.7.9"
  },
  "metadata": {
   "interpreter": {
    "hash": "1ff9e72bfa4b87c5c7eb2845b6bc364601686fa0e2be51edbe78ea8f5152e186"
   }
  }
 },
 "nbformat": 4,
 "nbformat_minor": 4
}